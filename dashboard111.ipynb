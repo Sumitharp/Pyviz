{
 "cells": [
  {
   "cell_type": "markdown",
   "metadata": {},
   "source": [
    "# San Francisco Rental Prices Dashboard\n",
    "\n",
    "In this notebook, you will compile the visualizations from the previous analysis into functions that can be used for a Panel dashboard."
   ]
  },
  {
   "cell_type": "code",
   "execution_count": 8,
   "metadata": {},
   "outputs": [],
   "source": [
    "# imports\n",
    "import panel as pn\n",
    "pn.extension('plotly')\n",
    "import plotly.express as px\n",
    "import pandas as pd\n",
    "import hvplot.pandas\n",
    "import matplotlib.pyplot as plt\n",
    "import os\n",
    "from pathlib import Path\n",
    "from dotenv import load_dotenv"
   ]
  },
  {
   "cell_type": "code",
   "execution_count": 9,
   "metadata": {},
   "outputs": [],
   "source": [
    "# Read the Mapbox API key\n",
    "load_dotenv(\"/Users/sumit/Desktop/New-Repo/.env\")\n",
    "map_box_api = os.getenv(\"MAPBOX_API_KEY\")\n",
    "\n",
    "px.set_mapbox_access_token(map_box_api)"
   ]
  },
  {
   "cell_type": "markdown",
   "metadata": {},
   "source": [
    "# Import Data"
   ]
  },
  {
   "cell_type": "code",
   "execution_count": 10,
   "metadata": {},
   "outputs": [],
   "source": [
    "# Import the necessary CSVs to Pandas DataFrames\n",
    "file_path = Path(\"Data/sfo_neighborhoods_census_data.csv\")\n",
    "sfo_data = pd.read_csv(file_path, index_col=\"year\")\n",
    "\n",
    "\n",
    "file_path1=Path('Data/neighborhoods_coordinates.csv')\n",
    "neighborhood_cordinates=pd.read_csv(file_path1,delimiter=',')\n",
    "\n"
   ]
  },
  {
   "cell_type": "code",
   "execution_count": 11,
   "metadata": {},
   "outputs": [],
   "source": [
    "housing_stats1=sfo_data.groupby(['year']).mean()\n",
    "housing_stats1.head()\n",
    "neighborhood_exp=sfo_data.groupby('neighborhood').mean()\n",
    "neighborhood_exp.sort_values(by='sale_price_sqr_foot', ascending=False,inplace=True)\n",
    "\n",
    "top_10_expensive = neighborhood_exp.head(10)\n"
   ]
  },
  {
   "cell_type": "code",
   "execution_count": 40,
   "metadata": {},
   "outputs": [],
   "source": []
  },
  {
   "cell_type": "markdown",
   "metadata": {},
   "source": [
    "- - -"
   ]
  },
  {
   "cell_type": "markdown",
   "metadata": {},
   "source": [
    "## Panel Visualizations\n",
    "\n",
    "In this section, you will copy the code for each plot type from your analysis notebook and place it into separate functions that Panel can use to create panes for the dashboard. \n",
    "\n",
    "These functions will convert the plot object to a Panel pane.\n",
    "\n",
    "Be sure to include any DataFrame transformation/manipulation code required along with the plotting code.\n",
    "\n",
    "Return a Panel pane object from each function that can be used to build the dashboard.\n",
    "\n",
    "Note: Remove any `.show()` lines from the code. We want to return the plots instead of showing them. The Panel dashboard will then display the plots."
   ]
  },
  {
   "cell_type": "code",
   "execution_count": 12,
   "metadata": {},
   "outputs": [],
   "source": [
    "# Define Panel Visualization Functions\n",
    "def housing_units_per_year():\n",
    "    \"\"\"Housing Units Per Year.\"\"\"\n",
    "    \n",
    "    housing_units_year=housing_stats1.drop(columns=['sale_price_sqr_foot','gross_rent'])\n",
    "\n",
    "    housing_units_per_year=housing_units_year.hvplot(\n",
    "            kind='bar',\n",
    "                ylim=([350000,390000]),\n",
    "            title='Average housing units per year'\n",
    "            )\n",
    "    return housing_units_per_year\n",
    "\n",
    "\n",
    "def average_gross_rent():\n",
    "    \"\"\"Average Gross Rent in San Francisco Per Year.\"\"\"\n",
    "\n",
    "    housing_stats=housing_stats1.drop(columns=['housing_units'])\n",
    "    avg_monthly_rent=housing_stats.loc[:,'gross_rent']\n",
    "    average_gross_rent=avg_monthly_rent.plot.line(title='Average monthly rent')\n",
    "    return average_gross_rent\n",
    "\n",
    "\n",
    "\n",
    "def average_sales_price():\n",
    "    \"\"\"Average Sales Price Per Year.\"\"\"\n",
    "    \n",
    "    \n",
    "    housing_stats=housing_stats1.drop(columns=['housing_units'])\n",
    "    avg_sale_price=housing_stats.loc[:,'sale_price_sqr_foot']\n",
    "    average_sales_price=avg_sale_price.plot.line(title='Average sale price per sqft ')\n",
    "    return average_sales_price\n",
    "\n",
    "\n",
    "def average_price_by_neighborhood():\n",
    "    \"\"\"Average Prices by Neighborhood.\"\"\"\n",
    "    neighborhood_stats=sfo_data.groupby(['year','neighborhood']).mean()\n",
    "\n",
    "    average_price_by_neighborhood= neighborhood_stats.hvplot(\n",
    "        x='year',\n",
    "        y='sale_price_sqr_foot', \n",
    "        groupby='neighborhood',\n",
    "        kind='line' ,\n",
    "        dynamic=False)* neighborhood_stats.hvplot(\n",
    "        x='year', \n",
    "        y='gross_rent',\n",
    "        groupby='neighborhood',\n",
    "        dynamic=False, \n",
    "        kind='line',\n",
    "        ylabel='Avg. monthly rent')\n",
    "\n",
    "    return average_price_by_neighborhood   \n",
    "    \n",
    "\n",
    "\n",
    "\n",
    "\n",
    "def top_most_expensive_neighborhoods():\n",
    "    \"\"\"Top 10 Most Expensive Neighborhoods.\"\"\"\n",
    " \n",
    "    top_most_expensive_neighborhoods=top_10_expensive.sale_price_sqr_foot.hvplot(\n",
    "        kind='bar',\n",
    "        x= 'neighborhood',\n",
    "        title='Top 10 Expensive Neighborhoods in SFO',\n",
    "        rot=90,\n",
    "        ylabel='Avg. Sale Price per sqft',\n",
    "        height=400)\n",
    "    return top_most_expensive_neighborhoods\n",
    "\n",
    "\n",
    "def most_expensive_neighborhoods_rent_sales():\n",
    "    \"\"\"Comparison of Rent and Sales Prices of Most Expensive Neighborhoods.\"\"\"   \n",
    "    \n",
    "    neighborhood_stats=sfo_data.groupby(['year','neighborhood']).mean()\n",
    "    top_10_stats=neighborhood_stats.reset_index().drop(columns='housing_units')\n",
    "    top_10_stats.head()\n",
    "    most_expensive_neighborhoods_rent_sales=top_10_stats.hvplot(\n",
    "        x='year',\n",
    "        groupby='neighborhood',\n",
    "        dynamic=False,\n",
    "        kind='bar',\n",
    "        width=700, \n",
    "        height=500,\n",
    "        rot=90)\n",
    "    return most_expensive_neighborhoods_rent_sales\n",
    "    \n",
    "    \n",
    "def parallel_coordinates():\n",
    "    \"\"\"Parallel Coordinates Plot.\"\"\"\n",
    "\n",
    "    neighborhood_mean=sfo_data.groupby('neighborhood').mean().reset_index()\n",
    "    neighborhood_mean_cordinates=pd.concat([neighborhood_mean,neighborhood_cordinates],         axis='columns',join='inner')\n",
    "    parallel_coordinates=px.scatter_mapbox(\n",
    "            neighborhood_mean_cordinates,\n",
    "            lat= 'Lat',\n",
    "            lon= 'Lon',\n",
    "            color='gross_rent',\n",
    "            hover_name='neighborhood',\n",
    "            size='sale_price_sqr_foot')\n",
    "   \n",
    "\n",
    "    return parallel_coordinates\n",
    "\n",
    "\n",
    "\n",
    "def parallel_categories():\n",
    "    \"\"\"Parallel Categories Plot.\"\"\"\n",
    "    \n",
    "    top_10_parallel=top_10_expensive.reset_index()\n",
    "    parallel_categories=px.parallel_categories(\n",
    "        top_10_parallel,\n",
    "        dimensions=['neighborhood','sale_price_sqr_foot','housing_units','gross_rent'],\n",
    "        color='sale_price_sqr_foot',\n",
    "        color_continuous_scale=px.colors.sequential.Inferno\n",
    "        \n",
    "        )\n",
    "    return parallel_categories\n",
    "\n",
    "\n",
    "def neighborhood_map():\n",
    "    \"\"\"Neighborhood Map.\"\"\"\n",
    "   \n",
    "    top_10_parallel=top_10_expensive.reset_index()\n",
    "    neighborhood_map=px.parallel_coordinates(top_10_parallel,\n",
    "        dimensions=['sale_price_sqr_foot','housing_units','gross_rent'],\n",
    "        color='sale_price_sqr_foot',\n",
    "        color_continuous_scale=px.colors.sequential.Inferno)\n",
    "    return neighborhood_map\n",
    "    \n",
    "   \n",
    "\n",
    "\n",
    "def sunburst():\n",
    "    \"\"\"Sunburst Plot.\"\"\"\n",
    "    new=sfo_data.groupby(['neighborhood','year']).mean()\n",
    "    new22=new.reset_index()\n",
    "    top_10_expensive.reset_index(inplace=True)\n",
    "    selected_sunburst=new22.loc[new22.neighborhood.isin(top_10_expensive['neighborhood'])]\n",
    "    sunburst=px.sunburst(\n",
    "        selected_sunburst,\n",
    "        path=['year','neighborhood'],\n",
    "        values='gross_rent',\n",
    "        color='gross_rent',\n",
    "        title='Cost analysis of the most expensive neighborhoods in SFO')\n",
    "    return sunburst\n"
   ]
  },
  {
   "cell_type": "markdown",
   "metadata": {},
   "source": [
    "## Panel Dashboard\n",
    "\n",
    "In this section, you will combine all of the plots into a single dashboard view using Panel. Be creative with your dashboard design!"
   ]
  },
  {
   "cell_type": "code",
   "execution_count": 13,
   "metadata": {},
   "outputs": [],
   "source": [
    "# Create a Title for the Dashboard\n",
    "\n",
    "#  Create tabs\n",
    "\n",
    "# Create a tab layout for the dashboard\n",
    "\n",
    "\n",
    "# Create the dashboard\n",
    "# YOUR CODE HERE!"
   ]
  },
  {
   "cell_type": "code",
   "execution_count": 14,
   "metadata": {},
   "outputs": [
    {
     "output_type": "display_data",
     "data": {
      "application/vnd.plotly.v1+json": {
       "config": {
        "plotlyServerURL": "https://plot.ly"
       },
       "data": [
        {
         "dimensions": [
          {
           "label": "sale_price_sqr_foot",
           "values": [
            903.9932576720645,
            788.8448175872469,
            779.810842264425,
            689.5558168113664,
            687.0875745178323,
            676.5065775293257,
            675.3502120510033,
            665.964041578323,
            662.0136128276529,
            650.1244791945729
           ]
          },
          {
           "label": "housing_units",
           "values": [
            377427.5,
            380348,
            375967.25,
            378401,
            382295,
            378401,
            378401,
            378401,
            378401,
            375805
           ]
          },
          {
           "label": "gross_rent",
           "values": [
            2555.1666666666665,
            3414,
            2155.25,
            2817.285714285714,
            3959,
            2817.285714285714,
            2817.285714285714,
            2817.285714285714,
            2817.285714285714,
            2099
           ]
          }
         ],
         "domain": {
          "x": [
           0,
           1
          ],
          "y": [
           0,
           1
          ]
         },
         "line": {
          "color": [
           903.9932576720645,
           788.8448175872469,
           779.810842264425,
           689.5558168113664,
           687.0875745178323,
           676.5065775293257,
           675.3502120510033,
           665.964041578323,
           662.0136128276529,
           650.1244791945729
          ],
          "coloraxis": "coloraxis"
         },
         "name": "",
         "type": "parcoords"
        }
       ],
       "layout": {
        "coloraxis": {
         "colorbar": {
          "title": {
           "text": "sale_price_sqr_foot"
          }
         },
         "colorscale": [
          [
           0,
           "#000004"
          ],
          [
           0.1111111111111111,
           "#1b0c41"
          ],
          [
           0.2222222222222222,
           "#4a0c6b"
          ],
          [
           0.3333333333333333,
           "#781c6d"
          ],
          [
           0.4444444444444444,
           "#a52c60"
          ],
          [
           0.5555555555555556,
           "#cf4446"
          ],
          [
           0.6666666666666666,
           "#ed6925"
          ],
          [
           0.7777777777777778,
           "#fb9b06"
          ],
          [
           0.8888888888888888,
           "#f7d13d"
          ],
          [
           1,
           "#fcffa4"
          ]
         ]
        },
        "legend": {
         "tracegroupgap": 0
        },
        "margin": {
         "t": 60
        },
        "template": {
         "data": {
          "bar": [
           {
            "error_x": {
             "color": "#2a3f5f"
            },
            "error_y": {
             "color": "#2a3f5f"
            },
            "marker": {
             "line": {
              "color": "#E5ECF6",
              "width": 0.5
             }
            },
            "type": "bar"
           }
          ],
          "barpolar": [
           {
            "marker": {
             "line": {
              "color": "#E5ECF6",
              "width": 0.5
             }
            },
            "type": "barpolar"
           }
          ],
          "carpet": [
           {
            "aaxis": {
             "endlinecolor": "#2a3f5f",
             "gridcolor": "white",
             "linecolor": "white",
             "minorgridcolor": "white",
             "startlinecolor": "#2a3f5f"
            },
            "baxis": {
             "endlinecolor": "#2a3f5f",
             "gridcolor": "white",
             "linecolor": "white",
             "minorgridcolor": "white",
             "startlinecolor": "#2a3f5f"
            },
            "type": "carpet"
           }
          ],
          "choropleth": [
           {
            "colorbar": {
             "outlinewidth": 0,
             "ticks": ""
            },
            "type": "choropleth"
           }
          ],
          "contour": [
           {
            "colorbar": {
             "outlinewidth": 0,
             "ticks": ""
            },
            "colorscale": [
             [
              0,
              "#0d0887"
             ],
             [
              0.1111111111111111,
              "#46039f"
             ],
             [
              0.2222222222222222,
              "#7201a8"
             ],
             [
              0.3333333333333333,
              "#9c179e"
             ],
             [
              0.4444444444444444,
              "#bd3786"
             ],
             [
              0.5555555555555556,
              "#d8576b"
             ],
             [
              0.6666666666666666,
              "#ed7953"
             ],
             [
              0.7777777777777778,
              "#fb9f3a"
             ],
             [
              0.8888888888888888,
              "#fdca26"
             ],
             [
              1,
              "#f0f921"
             ]
            ],
            "type": "contour"
           }
          ],
          "contourcarpet": [
           {
            "colorbar": {
             "outlinewidth": 0,
             "ticks": ""
            },
            "type": "contourcarpet"
           }
          ],
          "heatmap": [
           {
            "colorbar": {
             "outlinewidth": 0,
             "ticks": ""
            },
            "colorscale": [
             [
              0,
              "#0d0887"
             ],
             [
              0.1111111111111111,
              "#46039f"
             ],
             [
              0.2222222222222222,
              "#7201a8"
             ],
             [
              0.3333333333333333,
              "#9c179e"
             ],
             [
              0.4444444444444444,
              "#bd3786"
             ],
             [
              0.5555555555555556,
              "#d8576b"
             ],
             [
              0.6666666666666666,
              "#ed7953"
             ],
             [
              0.7777777777777778,
              "#fb9f3a"
             ],
             [
              0.8888888888888888,
              "#fdca26"
             ],
             [
              1,
              "#f0f921"
             ]
            ],
            "type": "heatmap"
           }
          ],
          "heatmapgl": [
           {
            "colorbar": {
             "outlinewidth": 0,
             "ticks": ""
            },
            "colorscale": [
             [
              0,
              "#0d0887"
             ],
             [
              0.1111111111111111,
              "#46039f"
             ],
             [
              0.2222222222222222,
              "#7201a8"
             ],
             [
              0.3333333333333333,
              "#9c179e"
             ],
             [
              0.4444444444444444,
              "#bd3786"
             ],
             [
              0.5555555555555556,
              "#d8576b"
             ],
             [
              0.6666666666666666,
              "#ed7953"
             ],
             [
              0.7777777777777778,
              "#fb9f3a"
             ],
             [
              0.8888888888888888,
              "#fdca26"
             ],
             [
              1,
              "#f0f921"
             ]
            ],
            "type": "heatmapgl"
           }
          ],
          "histogram": [
           {
            "marker": {
             "colorbar": {
              "outlinewidth": 0,
              "ticks": ""
             }
            },
            "type": "histogram"
           }
          ],
          "histogram2d": [
           {
            "colorbar": {
             "outlinewidth": 0,
             "ticks": ""
            },
            "colorscale": [
             [
              0,
              "#0d0887"
             ],
             [
              0.1111111111111111,
              "#46039f"
             ],
             [
              0.2222222222222222,
              "#7201a8"
             ],
             [
              0.3333333333333333,
              "#9c179e"
             ],
             [
              0.4444444444444444,
              "#bd3786"
             ],
             [
              0.5555555555555556,
              "#d8576b"
             ],
             [
              0.6666666666666666,
              "#ed7953"
             ],
             [
              0.7777777777777778,
              "#fb9f3a"
             ],
             [
              0.8888888888888888,
              "#fdca26"
             ],
             [
              1,
              "#f0f921"
             ]
            ],
            "type": "histogram2d"
           }
          ],
          "histogram2dcontour": [
           {
            "colorbar": {
             "outlinewidth": 0,
             "ticks": ""
            },
            "colorscale": [
             [
              0,
              "#0d0887"
             ],
             [
              0.1111111111111111,
              "#46039f"
             ],
             [
              0.2222222222222222,
              "#7201a8"
             ],
             [
              0.3333333333333333,
              "#9c179e"
             ],
             [
              0.4444444444444444,
              "#bd3786"
             ],
             [
              0.5555555555555556,
              "#d8576b"
             ],
             [
              0.6666666666666666,
              "#ed7953"
             ],
             [
              0.7777777777777778,
              "#fb9f3a"
             ],
             [
              0.8888888888888888,
              "#fdca26"
             ],
             [
              1,
              "#f0f921"
             ]
            ],
            "type": "histogram2dcontour"
           }
          ],
          "mesh3d": [
           {
            "colorbar": {
             "outlinewidth": 0,
             "ticks": ""
            },
            "type": "mesh3d"
           }
          ],
          "parcoords": [
           {
            "line": {
             "colorbar": {
              "outlinewidth": 0,
              "ticks": ""
             }
            },
            "type": "parcoords"
           }
          ],
          "pie": [
           {
            "automargin": true,
            "type": "pie"
           }
          ],
          "scatter": [
           {
            "marker": {
             "colorbar": {
              "outlinewidth": 0,
              "ticks": ""
             }
            },
            "type": "scatter"
           }
          ],
          "scatter3d": [
           {
            "line": {
             "colorbar": {
              "outlinewidth": 0,
              "ticks": ""
             }
            },
            "marker": {
             "colorbar": {
              "outlinewidth": 0,
              "ticks": ""
             }
            },
            "type": "scatter3d"
           }
          ],
          "scattercarpet": [
           {
            "marker": {
             "colorbar": {
              "outlinewidth": 0,
              "ticks": ""
             }
            },
            "type": "scattercarpet"
           }
          ],
          "scattergeo": [
           {
            "marker": {
             "colorbar": {
              "outlinewidth": 0,
              "ticks": ""
             }
            },
            "type": "scattergeo"
           }
          ],
          "scattergl": [
           {
            "marker": {
             "colorbar": {
              "outlinewidth": 0,
              "ticks": ""
             }
            },
            "type": "scattergl"
           }
          ],
          "scattermapbox": [
           {
            "marker": {
             "colorbar": {
              "outlinewidth": 0,
              "ticks": ""
             }
            },
            "type": "scattermapbox"
           }
          ],
          "scatterpolar": [
           {
            "marker": {
             "colorbar": {
              "outlinewidth": 0,
              "ticks": ""
             }
            },
            "type": "scatterpolar"
           }
          ],
          "scatterpolargl": [
           {
            "marker": {
             "colorbar": {
              "outlinewidth": 0,
              "ticks": ""
             }
            },
            "type": "scatterpolargl"
           }
          ],
          "scatterternary": [
           {
            "marker": {
             "colorbar": {
              "outlinewidth": 0,
              "ticks": ""
             }
            },
            "type": "scatterternary"
           }
          ],
          "surface": [
           {
            "colorbar": {
             "outlinewidth": 0,
             "ticks": ""
            },
            "colorscale": [
             [
              0,
              "#0d0887"
             ],
             [
              0.1111111111111111,
              "#46039f"
             ],
             [
              0.2222222222222222,
              "#7201a8"
             ],
             [
              0.3333333333333333,
              "#9c179e"
             ],
             [
              0.4444444444444444,
              "#bd3786"
             ],
             [
              0.5555555555555556,
              "#d8576b"
             ],
             [
              0.6666666666666666,
              "#ed7953"
             ],
             [
              0.7777777777777778,
              "#fb9f3a"
             ],
             [
              0.8888888888888888,
              "#fdca26"
             ],
             [
              1,
              "#f0f921"
             ]
            ],
            "type": "surface"
           }
          ],
          "table": [
           {
            "cells": {
             "fill": {
              "color": "#EBF0F8"
             },
             "line": {
              "color": "white"
             }
            },
            "header": {
             "fill": {
              "color": "#C8D4E3"
             },
             "line": {
              "color": "white"
             }
            },
            "type": "table"
           }
          ]
         },
         "layout": {
          "annotationdefaults": {
           "arrowcolor": "#2a3f5f",
           "arrowhead": 0,
           "arrowwidth": 1
          },
          "autotypenumbers": "strict",
          "coloraxis": {
           "colorbar": {
            "outlinewidth": 0,
            "ticks": ""
           }
          },
          "colorscale": {
           "diverging": [
            [
             0,
             "#8e0152"
            ],
            [
             0.1,
             "#c51b7d"
            ],
            [
             0.2,
             "#de77ae"
            ],
            [
             0.3,
             "#f1b6da"
            ],
            [
             0.4,
             "#fde0ef"
            ],
            [
             0.5,
             "#f7f7f7"
            ],
            [
             0.6,
             "#e6f5d0"
            ],
            [
             0.7,
             "#b8e186"
            ],
            [
             0.8,
             "#7fbc41"
            ],
            [
             0.9,
             "#4d9221"
            ],
            [
             1,
             "#276419"
            ]
           ],
           "sequential": [
            [
             0,
             "#0d0887"
            ],
            [
             0.1111111111111111,
             "#46039f"
            ],
            [
             0.2222222222222222,
             "#7201a8"
            ],
            [
             0.3333333333333333,
             "#9c179e"
            ],
            [
             0.4444444444444444,
             "#bd3786"
            ],
            [
             0.5555555555555556,
             "#d8576b"
            ],
            [
             0.6666666666666666,
             "#ed7953"
            ],
            [
             0.7777777777777778,
             "#fb9f3a"
            ],
            [
             0.8888888888888888,
             "#fdca26"
            ],
            [
             1,
             "#f0f921"
            ]
           ],
           "sequentialminus": [
            [
             0,
             "#0d0887"
            ],
            [
             0.1111111111111111,
             "#46039f"
            ],
            [
             0.2222222222222222,
             "#7201a8"
            ],
            [
             0.3333333333333333,
             "#9c179e"
            ],
            [
             0.4444444444444444,
             "#bd3786"
            ],
            [
             0.5555555555555556,
             "#d8576b"
            ],
            [
             0.6666666666666666,
             "#ed7953"
            ],
            [
             0.7777777777777778,
             "#fb9f3a"
            ],
            [
             0.8888888888888888,
             "#fdca26"
            ],
            [
             1,
             "#f0f921"
            ]
           ]
          },
          "colorway": [
           "#636efa",
           "#EF553B",
           "#00cc96",
           "#ab63fa",
           "#FFA15A",
           "#19d3f3",
           "#FF6692",
           "#B6E880",
           "#FF97FF",
           "#FECB52"
          ],
          "font": {
           "color": "#2a3f5f"
          },
          "geo": {
           "bgcolor": "white",
           "lakecolor": "white",
           "landcolor": "#E5ECF6",
           "showlakes": true,
           "showland": true,
           "subunitcolor": "white"
          },
          "hoverlabel": {
           "align": "left"
          },
          "hovermode": "closest",
          "mapbox": {
           "style": "light"
          },
          "paper_bgcolor": "white",
          "plot_bgcolor": "#E5ECF6",
          "polar": {
           "angularaxis": {
            "gridcolor": "white",
            "linecolor": "white",
            "ticks": ""
           },
           "bgcolor": "#E5ECF6",
           "radialaxis": {
            "gridcolor": "white",
            "linecolor": "white",
            "ticks": ""
           }
          },
          "scene": {
           "xaxis": {
            "backgroundcolor": "#E5ECF6",
            "gridcolor": "white",
            "gridwidth": 2,
            "linecolor": "white",
            "showbackground": true,
            "ticks": "",
            "zerolinecolor": "white"
           },
           "yaxis": {
            "backgroundcolor": "#E5ECF6",
            "gridcolor": "white",
            "gridwidth": 2,
            "linecolor": "white",
            "showbackground": true,
            "ticks": "",
            "zerolinecolor": "white"
           },
           "zaxis": {
            "backgroundcolor": "#E5ECF6",
            "gridcolor": "white",
            "gridwidth": 2,
            "linecolor": "white",
            "showbackground": true,
            "ticks": "",
            "zerolinecolor": "white"
           }
          },
          "shapedefaults": {
           "line": {
            "color": "#2a3f5f"
           }
          },
          "ternary": {
           "aaxis": {
            "gridcolor": "white",
            "linecolor": "white",
            "ticks": ""
           },
           "baxis": {
            "gridcolor": "white",
            "linecolor": "white",
            "ticks": ""
           },
           "bgcolor": "#E5ECF6",
           "caxis": {
            "gridcolor": "white",
            "linecolor": "white",
            "ticks": ""
           }
          },
          "title": {
           "x": 0.05
          },
          "xaxis": {
           "automargin": true,
           "gridcolor": "white",
           "linecolor": "white",
           "ticks": "",
           "title": {
            "standoff": 15
           },
           "zerolinecolor": "white",
           "zerolinewidth": 2
          },
          "yaxis": {
           "automargin": true,
           "gridcolor": "white",
           "linecolor": "white",
           "ticks": "",
           "title": {
            "standoff": 15
           },
           "zerolinecolor": "white",
           "zerolinewidth": 2
          }
         }
        }
       }
      }
     },
     "metadata": {}
    },
    {
     "output_type": "display_data",
     "data": {
      "text/plain": "<Figure size 432x288 with 1 Axes>",
      "image/svg+xml": "<?xml version=\"1.0\" encoding=\"utf-8\" standalone=\"no\"?>\r\n<!DOCTYPE svg PUBLIC \"-//W3C//DTD SVG 1.1//EN\"\r\n  \"http://www.w3.org/Graphics/SVG/1.1/DTD/svg11.dtd\">\r\n<!-- Created with matplotlib (https://matplotlib.org/) -->\r\n<svg height=\"277.314375pt\" version=\"1.1\" viewBox=\"0 0 394.375 277.314375\" width=\"394.375pt\" xmlns=\"http://www.w3.org/2000/svg\" xmlns:xlink=\"http://www.w3.org/1999/xlink\">\r\n <defs>\r\n  <style type=\"text/css\">\r\n*{stroke-linecap:butt;stroke-linejoin:round;}\r\n  </style>\r\n </defs>\r\n <g id=\"figure_1\">\r\n  <g id=\"patch_1\">\r\n   <path d=\"M -0 277.314375 \r\nL 394.375 277.314375 \r\nL 394.375 0 \r\nL -0 0 \r\nz\r\n\" style=\"fill:none;\"/>\r\n  </g>\r\n  <g id=\"axes_1\">\r\n   <g id=\"patch_2\">\r\n    <path d=\"M 39.65 239.758125 \r\nL 374.45 239.758125 \r\nL 374.45 22.318125 \r\nL 39.65 22.318125 \r\nz\r\n\" style=\"fill:#ffffff;\"/>\r\n   </g>\r\n   <g id=\"matplotlib.axis_1\">\r\n    <g id=\"xtick_1\">\r\n     <g id=\"line2d_1\">\r\n      <defs>\r\n       <path d=\"M 0 0 \r\nL 0 3.5 \r\n\" id=\"m857cd3d257\" style=\"stroke:#000000;stroke-width:0.8;\"/>\r\n      </defs>\r\n      <g>\r\n       <use style=\"stroke:#000000;stroke-width:0.8;\" x=\"39.65\" xlink:href=\"#m857cd3d257\" y=\"239.758125\"/>\r\n      </g>\r\n     </g>\r\n     <g id=\"text_1\">\r\n      <!-- 2010 -->\r\n      <defs>\r\n       <path d=\"M 19.1875 8.296875 \r\nL 53.609375 8.296875 \r\nL 53.609375 0 \r\nL 7.328125 0 \r\nL 7.328125 8.296875 \r\nQ 12.9375 14.109375 22.625 23.890625 \r\nQ 32.328125 33.6875 34.8125 36.53125 \r\nQ 39.546875 41.84375 41.421875 45.53125 \r\nQ 43.3125 49.21875 43.3125 52.78125 \r\nQ 43.3125 58.59375 39.234375 62.25 \r\nQ 35.15625 65.921875 28.609375 65.921875 \r\nQ 23.96875 65.921875 18.8125 64.3125 \r\nQ 13.671875 62.703125 7.8125 59.421875 \r\nL 7.8125 69.390625 \r\nQ 13.765625 71.78125 18.9375 73 \r\nQ 24.125 74.21875 28.421875 74.21875 \r\nQ 39.75 74.21875 46.484375 68.546875 \r\nQ 53.21875 62.890625 53.21875 53.421875 \r\nQ 53.21875 48.921875 51.53125 44.890625 \r\nQ 49.859375 40.875 45.40625 35.40625 \r\nQ 44.1875 33.984375 37.640625 27.21875 \r\nQ 31.109375 20.453125 19.1875 8.296875 \r\nz\r\n\" id=\"DejaVuSans-50\"/>\r\n       <path d=\"M 31.78125 66.40625 \r\nQ 24.171875 66.40625 20.328125 58.90625 \r\nQ 16.5 51.421875 16.5 36.375 \r\nQ 16.5 21.390625 20.328125 13.890625 \r\nQ 24.171875 6.390625 31.78125 6.390625 \r\nQ 39.453125 6.390625 43.28125 13.890625 \r\nQ 47.125 21.390625 47.125 36.375 \r\nQ 47.125 51.421875 43.28125 58.90625 \r\nQ 39.453125 66.40625 31.78125 66.40625 \r\nz\r\nM 31.78125 74.21875 \r\nQ 44.046875 74.21875 50.515625 64.515625 \r\nQ 56.984375 54.828125 56.984375 36.375 \r\nQ 56.984375 17.96875 50.515625 8.265625 \r\nQ 44.046875 -1.421875 31.78125 -1.421875 \r\nQ 19.53125 -1.421875 13.0625 8.265625 \r\nQ 6.59375 17.96875 6.59375 36.375 \r\nQ 6.59375 54.828125 13.0625 64.515625 \r\nQ 19.53125 74.21875 31.78125 74.21875 \r\nz\r\n\" id=\"DejaVuSans-48\"/>\r\n       <path d=\"M 12.40625 8.296875 \r\nL 28.515625 8.296875 \r\nL 28.515625 63.921875 \r\nL 10.984375 60.40625 \r\nL 10.984375 69.390625 \r\nL 28.421875 72.90625 \r\nL 38.28125 72.90625 \r\nL 38.28125 8.296875 \r\nL 54.390625 8.296875 \r\nL 54.390625 0 \r\nL 12.40625 0 \r\nz\r\n\" id=\"DejaVuSans-49\"/>\r\n      </defs>\r\n      <g transform=\"translate(26.925 254.356562)scale(0.1 -0.1)\">\r\n       <use xlink:href=\"#DejaVuSans-50\"/>\r\n       <use x=\"63.623047\" xlink:href=\"#DejaVuSans-48\"/>\r\n       <use x=\"127.246094\" xlink:href=\"#DejaVuSans-49\"/>\r\n       <use x=\"190.869141\" xlink:href=\"#DejaVuSans-48\"/>\r\n      </g>\r\n     </g>\r\n    </g>\r\n    <g id=\"xtick_2\">\r\n     <g id=\"line2d_2\">\r\n      <g>\r\n       <use style=\"stroke:#000000;stroke-width:0.8;\" x=\"95.45\" xlink:href=\"#m857cd3d257\" y=\"239.758125\"/>\r\n      </g>\r\n     </g>\r\n     <g id=\"text_2\">\r\n      <!-- 2011 -->\r\n      <g transform=\"translate(82.725 254.356562)scale(0.1 -0.1)\">\r\n       <use xlink:href=\"#DejaVuSans-50\"/>\r\n       <use x=\"63.623047\" xlink:href=\"#DejaVuSans-48\"/>\r\n       <use x=\"127.246094\" xlink:href=\"#DejaVuSans-49\"/>\r\n       <use x=\"190.869141\" xlink:href=\"#DejaVuSans-49\"/>\r\n      </g>\r\n     </g>\r\n    </g>\r\n    <g id=\"xtick_3\">\r\n     <g id=\"line2d_3\">\r\n      <g>\r\n       <use style=\"stroke:#000000;stroke-width:0.8;\" x=\"151.25\" xlink:href=\"#m857cd3d257\" y=\"239.758125\"/>\r\n      </g>\r\n     </g>\r\n     <g id=\"text_3\">\r\n      <!-- 2012 -->\r\n      <g transform=\"translate(138.525 254.356562)scale(0.1 -0.1)\">\r\n       <use xlink:href=\"#DejaVuSans-50\"/>\r\n       <use x=\"63.623047\" xlink:href=\"#DejaVuSans-48\"/>\r\n       <use x=\"127.246094\" xlink:href=\"#DejaVuSans-49\"/>\r\n       <use x=\"190.869141\" xlink:href=\"#DejaVuSans-50\"/>\r\n      </g>\r\n     </g>\r\n    </g>\r\n    <g id=\"xtick_4\">\r\n     <g id=\"line2d_4\">\r\n      <g>\r\n       <use style=\"stroke:#000000;stroke-width:0.8;\" x=\"207.05\" xlink:href=\"#m857cd3d257\" y=\"239.758125\"/>\r\n      </g>\r\n     </g>\r\n     <g id=\"text_4\">\r\n      <!-- 2013 -->\r\n      <defs>\r\n       <path d=\"M 40.578125 39.3125 \r\nQ 47.65625 37.796875 51.625 33 \r\nQ 55.609375 28.21875 55.609375 21.1875 \r\nQ 55.609375 10.40625 48.1875 4.484375 \r\nQ 40.765625 -1.421875 27.09375 -1.421875 \r\nQ 22.515625 -1.421875 17.65625 -0.515625 \r\nQ 12.796875 0.390625 7.625 2.203125 \r\nL 7.625 11.71875 \r\nQ 11.71875 9.328125 16.59375 8.109375 \r\nQ 21.484375 6.890625 26.8125 6.890625 \r\nQ 36.078125 6.890625 40.9375 10.546875 \r\nQ 45.796875 14.203125 45.796875 21.1875 \r\nQ 45.796875 27.640625 41.28125 31.265625 \r\nQ 36.765625 34.90625 28.71875 34.90625 \r\nL 20.21875 34.90625 \r\nL 20.21875 43.015625 \r\nL 29.109375 43.015625 \r\nQ 36.375 43.015625 40.234375 45.921875 \r\nQ 44.09375 48.828125 44.09375 54.296875 \r\nQ 44.09375 59.90625 40.109375 62.90625 \r\nQ 36.140625 65.921875 28.71875 65.921875 \r\nQ 24.65625 65.921875 20.015625 65.03125 \r\nQ 15.375 64.15625 9.8125 62.3125 \r\nL 9.8125 71.09375 \r\nQ 15.4375 72.65625 20.34375 73.4375 \r\nQ 25.25 74.21875 29.59375 74.21875 \r\nQ 40.828125 74.21875 47.359375 69.109375 \r\nQ 53.90625 64.015625 53.90625 55.328125 \r\nQ 53.90625 49.265625 50.4375 45.09375 \r\nQ 46.96875 40.921875 40.578125 39.3125 \r\nz\r\n\" id=\"DejaVuSans-51\"/>\r\n      </defs>\r\n      <g transform=\"translate(194.325 254.356562)scale(0.1 -0.1)\">\r\n       <use xlink:href=\"#DejaVuSans-50\"/>\r\n       <use x=\"63.623047\" xlink:href=\"#DejaVuSans-48\"/>\r\n       <use x=\"127.246094\" xlink:href=\"#DejaVuSans-49\"/>\r\n       <use x=\"190.869141\" xlink:href=\"#DejaVuSans-51\"/>\r\n      </g>\r\n     </g>\r\n    </g>\r\n    <g id=\"xtick_5\">\r\n     <g id=\"line2d_5\">\r\n      <g>\r\n       <use style=\"stroke:#000000;stroke-width:0.8;\" x=\"262.85\" xlink:href=\"#m857cd3d257\" y=\"239.758125\"/>\r\n      </g>\r\n     </g>\r\n     <g id=\"text_5\">\r\n      <!-- 2014 -->\r\n      <defs>\r\n       <path d=\"M 37.796875 64.3125 \r\nL 12.890625 25.390625 \r\nL 37.796875 25.390625 \r\nz\r\nM 35.203125 72.90625 \r\nL 47.609375 72.90625 \r\nL 47.609375 25.390625 \r\nL 58.015625 25.390625 \r\nL 58.015625 17.1875 \r\nL 47.609375 17.1875 \r\nL 47.609375 0 \r\nL 37.796875 0 \r\nL 37.796875 17.1875 \r\nL 4.890625 17.1875 \r\nL 4.890625 26.703125 \r\nz\r\n\" id=\"DejaVuSans-52\"/>\r\n      </defs>\r\n      <g transform=\"translate(250.125 254.356562)scale(0.1 -0.1)\">\r\n       <use xlink:href=\"#DejaVuSans-50\"/>\r\n       <use x=\"63.623047\" xlink:href=\"#DejaVuSans-48\"/>\r\n       <use x=\"127.246094\" xlink:href=\"#DejaVuSans-49\"/>\r\n       <use x=\"190.869141\" xlink:href=\"#DejaVuSans-52\"/>\r\n      </g>\r\n     </g>\r\n    </g>\r\n    <g id=\"xtick_6\">\r\n     <g id=\"line2d_6\">\r\n      <g>\r\n       <use style=\"stroke:#000000;stroke-width:0.8;\" x=\"318.65\" xlink:href=\"#m857cd3d257\" y=\"239.758125\"/>\r\n      </g>\r\n     </g>\r\n     <g id=\"text_6\">\r\n      <!-- 2015 -->\r\n      <defs>\r\n       <path d=\"M 10.796875 72.90625 \r\nL 49.515625 72.90625 \r\nL 49.515625 64.59375 \r\nL 19.828125 64.59375 \r\nL 19.828125 46.734375 \r\nQ 21.96875 47.46875 24.109375 47.828125 \r\nQ 26.265625 48.1875 28.421875 48.1875 \r\nQ 40.625 48.1875 47.75 41.5 \r\nQ 54.890625 34.8125 54.890625 23.390625 \r\nQ 54.890625 11.625 47.5625 5.09375 \r\nQ 40.234375 -1.421875 26.90625 -1.421875 \r\nQ 22.3125 -1.421875 17.546875 -0.640625 \r\nQ 12.796875 0.140625 7.71875 1.703125 \r\nL 7.71875 11.625 \r\nQ 12.109375 9.234375 16.796875 8.0625 \r\nQ 21.484375 6.890625 26.703125 6.890625 \r\nQ 35.15625 6.890625 40.078125 11.328125 \r\nQ 45.015625 15.765625 45.015625 23.390625 \r\nQ 45.015625 31 40.078125 35.4375 \r\nQ 35.15625 39.890625 26.703125 39.890625 \r\nQ 22.75 39.890625 18.8125 39.015625 \r\nQ 14.890625 38.140625 10.796875 36.28125 \r\nz\r\n\" id=\"DejaVuSans-53\"/>\r\n      </defs>\r\n      <g transform=\"translate(305.925 254.356562)scale(0.1 -0.1)\">\r\n       <use xlink:href=\"#DejaVuSans-50\"/>\r\n       <use x=\"63.623047\" xlink:href=\"#DejaVuSans-48\"/>\r\n       <use x=\"127.246094\" xlink:href=\"#DejaVuSans-49\"/>\r\n       <use x=\"190.869141\" xlink:href=\"#DejaVuSans-53\"/>\r\n      </g>\r\n     </g>\r\n    </g>\r\n    <g id=\"xtick_7\">\r\n     <g id=\"line2d_7\">\r\n      <g>\r\n       <use style=\"stroke:#000000;stroke-width:0.8;\" x=\"374.45\" xlink:href=\"#m857cd3d257\" y=\"239.758125\"/>\r\n      </g>\r\n     </g>\r\n     <g id=\"text_7\">\r\n      <!-- 2016 -->\r\n      <defs>\r\n       <path d=\"M 33.015625 40.375 \r\nQ 26.375 40.375 22.484375 35.828125 \r\nQ 18.609375 31.296875 18.609375 23.390625 \r\nQ 18.609375 15.53125 22.484375 10.953125 \r\nQ 26.375 6.390625 33.015625 6.390625 \r\nQ 39.65625 6.390625 43.53125 10.953125 \r\nQ 47.40625 15.53125 47.40625 23.390625 \r\nQ 47.40625 31.296875 43.53125 35.828125 \r\nQ 39.65625 40.375 33.015625 40.375 \r\nz\r\nM 52.59375 71.296875 \r\nL 52.59375 62.3125 \r\nQ 48.875 64.0625 45.09375 64.984375 \r\nQ 41.3125 65.921875 37.59375 65.921875 \r\nQ 27.828125 65.921875 22.671875 59.328125 \r\nQ 17.53125 52.734375 16.796875 39.40625 \r\nQ 19.671875 43.65625 24.015625 45.921875 \r\nQ 28.375 48.1875 33.59375 48.1875 \r\nQ 44.578125 48.1875 50.953125 41.515625 \r\nQ 57.328125 34.859375 57.328125 23.390625 \r\nQ 57.328125 12.15625 50.6875 5.359375 \r\nQ 44.046875 -1.421875 33.015625 -1.421875 \r\nQ 20.359375 -1.421875 13.671875 8.265625 \r\nQ 6.984375 17.96875 6.984375 36.375 \r\nQ 6.984375 53.65625 15.1875 63.9375 \r\nQ 23.390625 74.21875 37.203125 74.21875 \r\nQ 40.921875 74.21875 44.703125 73.484375 \r\nQ 48.484375 72.75 52.59375 71.296875 \r\nz\r\n\" id=\"DejaVuSans-54\"/>\r\n      </defs>\r\n      <g transform=\"translate(361.725 254.356562)scale(0.1 -0.1)\">\r\n       <use xlink:href=\"#DejaVuSans-50\"/>\r\n       <use x=\"63.623047\" xlink:href=\"#DejaVuSans-48\"/>\r\n       <use x=\"127.246094\" xlink:href=\"#DejaVuSans-49\"/>\r\n       <use x=\"190.869141\" xlink:href=\"#DejaVuSans-54\"/>\r\n      </g>\r\n     </g>\r\n    </g>\r\n    <g id=\"text_8\">\r\n     <!-- year -->\r\n     <defs>\r\n      <path d=\"M 32.171875 -5.078125 \r\nQ 28.375 -14.84375 24.75 -17.8125 \r\nQ 21.140625 -20.796875 15.09375 -20.796875 \r\nL 7.90625 -20.796875 \r\nL 7.90625 -13.28125 \r\nL 13.1875 -13.28125 \r\nQ 16.890625 -13.28125 18.9375 -11.515625 \r\nQ 21 -9.765625 23.484375 -3.21875 \r\nL 25.09375 0.875 \r\nL 2.984375 54.6875 \r\nL 12.5 54.6875 \r\nL 29.59375 11.921875 \r\nL 46.6875 54.6875 \r\nL 56.203125 54.6875 \r\nz\r\n\" id=\"DejaVuSans-121\"/>\r\n      <path d=\"M 56.203125 29.59375 \r\nL 56.203125 25.203125 \r\nL 14.890625 25.203125 \r\nQ 15.484375 15.921875 20.484375 11.0625 \r\nQ 25.484375 6.203125 34.421875 6.203125 \r\nQ 39.59375 6.203125 44.453125 7.46875 \r\nQ 49.3125 8.734375 54.109375 11.28125 \r\nL 54.109375 2.78125 \r\nQ 49.265625 0.734375 44.1875 -0.34375 \r\nQ 39.109375 -1.421875 33.890625 -1.421875 \r\nQ 20.796875 -1.421875 13.15625 6.1875 \r\nQ 5.515625 13.8125 5.515625 26.8125 \r\nQ 5.515625 40.234375 12.765625 48.109375 \r\nQ 20.015625 56 32.328125 56 \r\nQ 43.359375 56 49.78125 48.890625 \r\nQ 56.203125 41.796875 56.203125 29.59375 \r\nz\r\nM 47.21875 32.234375 \r\nQ 47.125 39.59375 43.09375 43.984375 \r\nQ 39.0625 48.390625 32.421875 48.390625 \r\nQ 24.90625 48.390625 20.390625 44.140625 \r\nQ 15.875 39.890625 15.1875 32.171875 \r\nz\r\n\" id=\"DejaVuSans-101\"/>\r\n      <path d=\"M 34.28125 27.484375 \r\nQ 23.390625 27.484375 19.1875 25 \r\nQ 14.984375 22.515625 14.984375 16.5 \r\nQ 14.984375 11.71875 18.140625 8.90625 \r\nQ 21.296875 6.109375 26.703125 6.109375 \r\nQ 34.1875 6.109375 38.703125 11.40625 \r\nQ 43.21875 16.703125 43.21875 25.484375 \r\nL 43.21875 27.484375 \r\nz\r\nM 52.203125 31.203125 \r\nL 52.203125 0 \r\nL 43.21875 0 \r\nL 43.21875 8.296875 \r\nQ 40.140625 3.328125 35.546875 0.953125 \r\nQ 30.953125 -1.421875 24.3125 -1.421875 \r\nQ 15.921875 -1.421875 10.953125 3.296875 \r\nQ 6 8.015625 6 15.921875 \r\nQ 6 25.140625 12.171875 29.828125 \r\nQ 18.359375 34.515625 30.609375 34.515625 \r\nL 43.21875 34.515625 \r\nL 43.21875 35.40625 \r\nQ 43.21875 41.609375 39.140625 45 \r\nQ 35.0625 48.390625 27.6875 48.390625 \r\nQ 23 48.390625 18.546875 47.265625 \r\nQ 14.109375 46.140625 10.015625 43.890625 \r\nL 10.015625 52.203125 \r\nQ 14.9375 54.109375 19.578125 55.046875 \r\nQ 24.21875 56 28.609375 56 \r\nQ 40.484375 56 46.34375 49.84375 \r\nQ 52.203125 43.703125 52.203125 31.203125 \r\nz\r\n\" id=\"DejaVuSans-97\"/>\r\n      <path d=\"M 41.109375 46.296875 \r\nQ 39.59375 47.171875 37.8125 47.578125 \r\nQ 36.03125 48 33.890625 48 \r\nQ 26.265625 48 22.1875 43.046875 \r\nQ 18.109375 38.09375 18.109375 28.8125 \r\nL 18.109375 0 \r\nL 9.078125 0 \r\nL 9.078125 54.6875 \r\nL 18.109375 54.6875 \r\nL 18.109375 46.1875 \r\nQ 20.953125 51.171875 25.484375 53.578125 \r\nQ 30.03125 56 36.53125 56 \r\nQ 37.453125 56 38.578125 55.875 \r\nQ 39.703125 55.765625 41.0625 55.515625 \r\nz\r\n\" id=\"DejaVuSans-114\"/>\r\n     </defs>\r\n     <g transform=\"translate(195.894531 268.034687)scale(0.1 -0.1)\">\r\n      <use xlink:href=\"#DejaVuSans-121\"/>\r\n      <use x=\"59.179688\" xlink:href=\"#DejaVuSans-101\"/>\r\n      <use x=\"120.703125\" xlink:href=\"#DejaVuSans-97\"/>\r\n      <use x=\"181.982422\" xlink:href=\"#DejaVuSans-114\"/>\r\n     </g>\r\n    </g>\r\n   </g>\r\n   <g id=\"matplotlib.axis_2\">\r\n    <g id=\"ytick_1\">\r\n     <g id=\"line2d_8\">\r\n      <defs>\r\n       <path d=\"M 0 0 \r\nL -3.5 0 \r\n\" id=\"mcf2f31bdaf\" style=\"stroke:#000000;stroke-width:0.8;\"/>\r\n      </defs>\r\n      <g>\r\n       <use style=\"stroke:#000000;stroke-width:0.8;\" x=\"39.65\" xlink:href=\"#mcf2f31bdaf\" y=\"222.15447\"/>\r\n      </g>\r\n     </g>\r\n     <g id=\"text_9\">\r\n      <!-- 500 -->\r\n      <g transform=\"translate(13.5625 225.953689)scale(0.1 -0.1)\">\r\n       <use xlink:href=\"#DejaVuSans-53\"/>\r\n       <use x=\"63.623047\" xlink:href=\"#DejaVuSans-48\"/>\r\n       <use x=\"127.246094\" xlink:href=\"#DejaVuSans-48\"/>\r\n      </g>\r\n     </g>\r\n    </g>\r\n    <g id=\"ytick_2\">\r\n     <g id=\"line2d_9\">\r\n      <g>\r\n       <use style=\"stroke:#000000;stroke-width:0.8;\" x=\"39.65\" xlink:href=\"#mcf2f31bdaf\" y=\"197.738955\"/>\r\n      </g>\r\n     </g>\r\n     <g id=\"text_10\">\r\n      <!-- 1000 -->\r\n      <g transform=\"translate(7.2 201.538174)scale(0.1 -0.1)\">\r\n       <use xlink:href=\"#DejaVuSans-49\"/>\r\n       <use x=\"63.623047\" xlink:href=\"#DejaVuSans-48\"/>\r\n       <use x=\"127.246094\" xlink:href=\"#DejaVuSans-48\"/>\r\n       <use x=\"190.869141\" xlink:href=\"#DejaVuSans-48\"/>\r\n      </g>\r\n     </g>\r\n    </g>\r\n    <g id=\"ytick_3\">\r\n     <g id=\"line2d_10\">\r\n      <g>\r\n       <use style=\"stroke:#000000;stroke-width:0.8;\" x=\"39.65\" xlink:href=\"#mcf2f31bdaf\" y=\"173.32344\"/>\r\n      </g>\r\n     </g>\r\n     <g id=\"text_11\">\r\n      <!-- 1500 -->\r\n      <g transform=\"translate(7.2 177.122658)scale(0.1 -0.1)\">\r\n       <use xlink:href=\"#DejaVuSans-49\"/>\r\n       <use x=\"63.623047\" xlink:href=\"#DejaVuSans-53\"/>\r\n       <use x=\"127.246094\" xlink:href=\"#DejaVuSans-48\"/>\r\n       <use x=\"190.869141\" xlink:href=\"#DejaVuSans-48\"/>\r\n      </g>\r\n     </g>\r\n    </g>\r\n    <g id=\"ytick_4\">\r\n     <g id=\"line2d_11\">\r\n      <g>\r\n       <use style=\"stroke:#000000;stroke-width:0.8;\" x=\"39.65\" xlink:href=\"#mcf2f31bdaf\" y=\"148.907924\"/>\r\n      </g>\r\n     </g>\r\n     <g id=\"text_12\">\r\n      <!-- 2000 -->\r\n      <g transform=\"translate(7.2 152.707143)scale(0.1 -0.1)\">\r\n       <use xlink:href=\"#DejaVuSans-50\"/>\r\n       <use x=\"63.623047\" xlink:href=\"#DejaVuSans-48\"/>\r\n       <use x=\"127.246094\" xlink:href=\"#DejaVuSans-48\"/>\r\n       <use x=\"190.869141\" xlink:href=\"#DejaVuSans-48\"/>\r\n      </g>\r\n     </g>\r\n    </g>\r\n    <g id=\"ytick_5\">\r\n     <g id=\"line2d_12\">\r\n      <g>\r\n       <use style=\"stroke:#000000;stroke-width:0.8;\" x=\"39.65\" xlink:href=\"#mcf2f31bdaf\" y=\"124.492409\"/>\r\n      </g>\r\n     </g>\r\n     <g id=\"text_13\">\r\n      <!-- 2500 -->\r\n      <g transform=\"translate(7.2 128.291628)scale(0.1 -0.1)\">\r\n       <use xlink:href=\"#DejaVuSans-50\"/>\r\n       <use x=\"63.623047\" xlink:href=\"#DejaVuSans-53\"/>\r\n       <use x=\"127.246094\" xlink:href=\"#DejaVuSans-48\"/>\r\n       <use x=\"190.869141\" xlink:href=\"#DejaVuSans-48\"/>\r\n      </g>\r\n     </g>\r\n    </g>\r\n    <g id=\"ytick_6\">\r\n     <g id=\"line2d_13\">\r\n      <g>\r\n       <use style=\"stroke:#000000;stroke-width:0.8;\" x=\"39.65\" xlink:href=\"#mcf2f31bdaf\" y=\"100.076894\"/>\r\n      </g>\r\n     </g>\r\n     <g id=\"text_14\">\r\n      <!-- 3000 -->\r\n      <g transform=\"translate(7.2 103.876113)scale(0.1 -0.1)\">\r\n       <use xlink:href=\"#DejaVuSans-51\"/>\r\n       <use x=\"63.623047\" xlink:href=\"#DejaVuSans-48\"/>\r\n       <use x=\"127.246094\" xlink:href=\"#DejaVuSans-48\"/>\r\n       <use x=\"190.869141\" xlink:href=\"#DejaVuSans-48\"/>\r\n      </g>\r\n     </g>\r\n    </g>\r\n    <g id=\"ytick_7\">\r\n     <g id=\"line2d_14\">\r\n      <g>\r\n       <use style=\"stroke:#000000;stroke-width:0.8;\" x=\"39.65\" xlink:href=\"#mcf2f31bdaf\" y=\"75.661379\"/>\r\n      </g>\r\n     </g>\r\n     <g id=\"text_15\">\r\n      <!-- 3500 -->\r\n      <g transform=\"translate(7.2 79.460597)scale(0.1 -0.1)\">\r\n       <use xlink:href=\"#DejaVuSans-51\"/>\r\n       <use x=\"63.623047\" xlink:href=\"#DejaVuSans-53\"/>\r\n       <use x=\"127.246094\" xlink:href=\"#DejaVuSans-48\"/>\r\n       <use x=\"190.869141\" xlink:href=\"#DejaVuSans-48\"/>\r\n      </g>\r\n     </g>\r\n    </g>\r\n    <g id=\"ytick_8\">\r\n     <g id=\"line2d_15\">\r\n      <g>\r\n       <use style=\"stroke:#000000;stroke-width:0.8;\" x=\"39.65\" xlink:href=\"#mcf2f31bdaf\" y=\"51.245863\"/>\r\n      </g>\r\n     </g>\r\n     <g id=\"text_16\">\r\n      <!-- 4000 -->\r\n      <g transform=\"translate(7.2 55.045082)scale(0.1 -0.1)\">\r\n       <use xlink:href=\"#DejaVuSans-52\"/>\r\n       <use x=\"63.623047\" xlink:href=\"#DejaVuSans-48\"/>\r\n       <use x=\"127.246094\" xlink:href=\"#DejaVuSans-48\"/>\r\n       <use x=\"190.869141\" xlink:href=\"#DejaVuSans-48\"/>\r\n      </g>\r\n     </g>\r\n    </g>\r\n    <g id=\"ytick_9\">\r\n     <g id=\"line2d_16\">\r\n      <g>\r\n       <use style=\"stroke:#000000;stroke-width:0.8;\" x=\"39.65\" xlink:href=\"#mcf2f31bdaf\" y=\"26.830348\"/>\r\n      </g>\r\n     </g>\r\n     <g id=\"text_17\">\r\n      <!-- 4500 -->\r\n      <g transform=\"translate(7.2 30.629567)scale(0.1 -0.1)\">\r\n       <use xlink:href=\"#DejaVuSans-52\"/>\r\n       <use x=\"63.623047\" xlink:href=\"#DejaVuSans-53\"/>\r\n       <use x=\"127.246094\" xlink:href=\"#DejaVuSans-48\"/>\r\n       <use x=\"190.869141\" xlink:href=\"#DejaVuSans-48\"/>\r\n      </g>\r\n     </g>\r\n    </g>\r\n   </g>\r\n   <g id=\"line2d_17\">\r\n    <path clip-path=\"url(#p3ff3ab25f4)\" d=\"M 39.65 186.068339 \r\nL 95.45 171.858509 \r\nL 151.25 133.08667 \r\nL 207.05 101.492994 \r\nL 262.85 74.29411 \r\nL 318.65 63.990762 \r\nL 374.45 32.201761 \r\n\" style=\"fill:none;stroke:#1f77b4;stroke-linecap:square;stroke-width:1.5;\"/>\r\n   </g>\r\n   <g id=\"line2d_18\">\r\n    <path clip-path=\"url(#p3ff3ab25f4)\" d=\"M 39.65 228.53452 \r\nL 95.45 229.874489 \r\nL 151.25 227.067362 \r\nL 207.05 222.955284 \r\nL 262.85 219.406393 \r\nL 318.65 215.682388 \r\nL 374.45 212.503324 \r\n\" style=\"fill:none;stroke:#ff7f0e;stroke-linecap:square;stroke-width:1.5;\"/>\r\n   </g>\r\n   <g id=\"patch_3\">\r\n    <path d=\"M 39.65 239.758125 \r\nL 39.65 22.318125 \r\n\" style=\"fill:none;stroke:#000000;stroke-linecap:square;stroke-linejoin:miter;stroke-width:0.8;\"/>\r\n   </g>\r\n   <g id=\"patch_4\">\r\n    <path d=\"M 374.45 239.758125 \r\nL 374.45 22.318125 \r\n\" style=\"fill:none;stroke:#000000;stroke-linecap:square;stroke-linejoin:miter;stroke-width:0.8;\"/>\r\n   </g>\r\n   <g id=\"patch_5\">\r\n    <path d=\"M 39.65 239.758125 \r\nL 374.45 239.758125 \r\n\" style=\"fill:none;stroke:#000000;stroke-linecap:square;stroke-linejoin:miter;stroke-width:0.8;\"/>\r\n   </g>\r\n   <g id=\"patch_6\">\r\n    <path d=\"M 39.65 22.318125 \r\nL 374.45 22.318125 \r\n\" style=\"fill:none;stroke:#000000;stroke-linecap:square;stroke-linejoin:miter;stroke-width:0.8;\"/>\r\n   </g>\r\n   <g id=\"text_18\">\r\n    <!-- Average sale price per sqft  -->\r\n    <defs>\r\n     <path d=\"M 34.1875 63.1875 \r\nL 20.796875 26.90625 \r\nL 47.609375 26.90625 \r\nz\r\nM 28.609375 72.90625 \r\nL 39.796875 72.90625 \r\nL 67.578125 0 \r\nL 57.328125 0 \r\nL 50.6875 18.703125 \r\nL 17.828125 18.703125 \r\nL 11.1875 0 \r\nL 0.78125 0 \r\nz\r\n\" id=\"DejaVuSans-65\"/>\r\n     <path d=\"M 2.984375 54.6875 \r\nL 12.5 54.6875 \r\nL 29.59375 8.796875 \r\nL 46.6875 54.6875 \r\nL 56.203125 54.6875 \r\nL 35.6875 0 \r\nL 23.484375 0 \r\nz\r\n\" id=\"DejaVuSans-118\"/>\r\n     <path d=\"M 45.40625 27.984375 \r\nQ 45.40625 37.75 41.375 43.109375 \r\nQ 37.359375 48.484375 30.078125 48.484375 \r\nQ 22.859375 48.484375 18.828125 43.109375 \r\nQ 14.796875 37.75 14.796875 27.984375 \r\nQ 14.796875 18.265625 18.828125 12.890625 \r\nQ 22.859375 7.515625 30.078125 7.515625 \r\nQ 37.359375 7.515625 41.375 12.890625 \r\nQ 45.40625 18.265625 45.40625 27.984375 \r\nz\r\nM 54.390625 6.78125 \r\nQ 54.390625 -7.171875 48.1875 -13.984375 \r\nQ 42 -20.796875 29.203125 -20.796875 \r\nQ 24.46875 -20.796875 20.265625 -20.09375 \r\nQ 16.0625 -19.390625 12.109375 -17.921875 \r\nL 12.109375 -9.1875 \r\nQ 16.0625 -11.328125 19.921875 -12.34375 \r\nQ 23.78125 -13.375 27.78125 -13.375 \r\nQ 36.625 -13.375 41.015625 -8.765625 \r\nQ 45.40625 -4.15625 45.40625 5.171875 \r\nL 45.40625 9.625 \r\nQ 42.625 4.78125 38.28125 2.390625 \r\nQ 33.9375 0 27.875 0 \r\nQ 17.828125 0 11.671875 7.65625 \r\nQ 5.515625 15.328125 5.515625 27.984375 \r\nQ 5.515625 40.671875 11.671875 48.328125 \r\nQ 17.828125 56 27.875 56 \r\nQ 33.9375 56 38.28125 53.609375 \r\nQ 42.625 51.21875 45.40625 46.390625 \r\nL 45.40625 54.6875 \r\nL 54.390625 54.6875 \r\nz\r\n\" id=\"DejaVuSans-103\"/>\r\n     <path id=\"DejaVuSans-32\"/>\r\n     <path d=\"M 44.28125 53.078125 \r\nL 44.28125 44.578125 \r\nQ 40.484375 46.53125 36.375 47.5 \r\nQ 32.28125 48.484375 27.875 48.484375 \r\nQ 21.1875 48.484375 17.84375 46.4375 \r\nQ 14.5 44.390625 14.5 40.28125 \r\nQ 14.5 37.15625 16.890625 35.375 \r\nQ 19.28125 33.59375 26.515625 31.984375 \r\nL 29.59375 31.296875 \r\nQ 39.15625 29.25 43.1875 25.515625 \r\nQ 47.21875 21.78125 47.21875 15.09375 \r\nQ 47.21875 7.46875 41.1875 3.015625 \r\nQ 35.15625 -1.421875 24.609375 -1.421875 \r\nQ 20.21875 -1.421875 15.453125 -0.5625 \r\nQ 10.6875 0.296875 5.421875 2 \r\nL 5.421875 11.28125 \r\nQ 10.40625 8.6875 15.234375 7.390625 \r\nQ 20.0625 6.109375 24.8125 6.109375 \r\nQ 31.15625 6.109375 34.5625 8.28125 \r\nQ 37.984375 10.453125 37.984375 14.40625 \r\nQ 37.984375 18.0625 35.515625 20.015625 \r\nQ 33.0625 21.96875 24.703125 23.78125 \r\nL 21.578125 24.515625 \r\nQ 13.234375 26.265625 9.515625 29.90625 \r\nQ 5.8125 33.546875 5.8125 39.890625 \r\nQ 5.8125 47.609375 11.28125 51.796875 \r\nQ 16.75 56 26.8125 56 \r\nQ 31.78125 56 36.171875 55.265625 \r\nQ 40.578125 54.546875 44.28125 53.078125 \r\nz\r\n\" id=\"DejaVuSans-115\"/>\r\n     <path d=\"M 9.421875 75.984375 \r\nL 18.40625 75.984375 \r\nL 18.40625 0 \r\nL 9.421875 0 \r\nz\r\n\" id=\"DejaVuSans-108\"/>\r\n     <path d=\"M 18.109375 8.203125 \r\nL 18.109375 -20.796875 \r\nL 9.078125 -20.796875 \r\nL 9.078125 54.6875 \r\nL 18.109375 54.6875 \r\nL 18.109375 46.390625 \r\nQ 20.953125 51.265625 25.265625 53.625 \r\nQ 29.59375 56 35.59375 56 \r\nQ 45.5625 56 51.78125 48.09375 \r\nQ 58.015625 40.1875 58.015625 27.296875 \r\nQ 58.015625 14.40625 51.78125 6.484375 \r\nQ 45.5625 -1.421875 35.59375 -1.421875 \r\nQ 29.59375 -1.421875 25.265625 0.953125 \r\nQ 20.953125 3.328125 18.109375 8.203125 \r\nz\r\nM 48.6875 27.296875 \r\nQ 48.6875 37.203125 44.609375 42.84375 \r\nQ 40.53125 48.484375 33.40625 48.484375 \r\nQ 26.265625 48.484375 22.1875 42.84375 \r\nQ 18.109375 37.203125 18.109375 27.296875 \r\nQ 18.109375 17.390625 22.1875 11.75 \r\nQ 26.265625 6.109375 33.40625 6.109375 \r\nQ 40.53125 6.109375 44.609375 11.75 \r\nQ 48.6875 17.390625 48.6875 27.296875 \r\nz\r\n\" id=\"DejaVuSans-112\"/>\r\n     <path d=\"M 9.421875 54.6875 \r\nL 18.40625 54.6875 \r\nL 18.40625 0 \r\nL 9.421875 0 \r\nz\r\nM 9.421875 75.984375 \r\nL 18.40625 75.984375 \r\nL 18.40625 64.59375 \r\nL 9.421875 64.59375 \r\nz\r\n\" id=\"DejaVuSans-105\"/>\r\n     <path d=\"M 48.78125 52.59375 \r\nL 48.78125 44.1875 \r\nQ 44.96875 46.296875 41.140625 47.34375 \r\nQ 37.3125 48.390625 33.40625 48.390625 \r\nQ 24.65625 48.390625 19.8125 42.84375 \r\nQ 14.984375 37.3125 14.984375 27.296875 \r\nQ 14.984375 17.28125 19.8125 11.734375 \r\nQ 24.65625 6.203125 33.40625 6.203125 \r\nQ 37.3125 6.203125 41.140625 7.25 \r\nQ 44.96875 8.296875 48.78125 10.40625 \r\nL 48.78125 2.09375 \r\nQ 45.015625 0.34375 40.984375 -0.53125 \r\nQ 36.96875 -1.421875 32.421875 -1.421875 \r\nQ 20.0625 -1.421875 12.78125 6.34375 \r\nQ 5.515625 14.109375 5.515625 27.296875 \r\nQ 5.515625 40.671875 12.859375 48.328125 \r\nQ 20.21875 56 33.015625 56 \r\nQ 37.15625 56 41.109375 55.140625 \r\nQ 45.0625 54.296875 48.78125 52.59375 \r\nz\r\n\" id=\"DejaVuSans-99\"/>\r\n     <path d=\"M 14.796875 27.296875 \r\nQ 14.796875 17.390625 18.875 11.75 \r\nQ 22.953125 6.109375 30.078125 6.109375 \r\nQ 37.203125 6.109375 41.296875 11.75 \r\nQ 45.40625 17.390625 45.40625 27.296875 \r\nQ 45.40625 37.203125 41.296875 42.84375 \r\nQ 37.203125 48.484375 30.078125 48.484375 \r\nQ 22.953125 48.484375 18.875 42.84375 \r\nQ 14.796875 37.203125 14.796875 27.296875 \r\nz\r\nM 45.40625 8.203125 \r\nQ 42.578125 3.328125 38.25 0.953125 \r\nQ 33.9375 -1.421875 27.875 -1.421875 \r\nQ 17.96875 -1.421875 11.734375 6.484375 \r\nQ 5.515625 14.40625 5.515625 27.296875 \r\nQ 5.515625 40.1875 11.734375 48.09375 \r\nQ 17.96875 56 27.875 56 \r\nQ 33.9375 56 38.25 53.625 \r\nQ 42.578125 51.265625 45.40625 46.390625 \r\nL 45.40625 54.6875 \r\nL 54.390625 54.6875 \r\nL 54.390625 -20.796875 \r\nL 45.40625 -20.796875 \r\nz\r\n\" id=\"DejaVuSans-113\"/>\r\n     <path d=\"M 37.109375 75.984375 \r\nL 37.109375 68.5 \r\nL 28.515625 68.5 \r\nQ 23.6875 68.5 21.796875 66.546875 \r\nQ 19.921875 64.59375 19.921875 59.515625 \r\nL 19.921875 54.6875 \r\nL 34.71875 54.6875 \r\nL 34.71875 47.703125 \r\nL 19.921875 47.703125 \r\nL 19.921875 0 \r\nL 10.890625 0 \r\nL 10.890625 47.703125 \r\nL 2.296875 47.703125 \r\nL 2.296875 54.6875 \r\nL 10.890625 54.6875 \r\nL 10.890625 58.5 \r\nQ 10.890625 67.625 15.140625 71.796875 \r\nQ 19.390625 75.984375 28.609375 75.984375 \r\nz\r\n\" id=\"DejaVuSans-102\"/>\r\n     <path d=\"M 18.3125 70.21875 \r\nL 18.3125 54.6875 \r\nL 36.8125 54.6875 \r\nL 36.8125 47.703125 \r\nL 18.3125 47.703125 \r\nL 18.3125 18.015625 \r\nQ 18.3125 11.328125 20.140625 9.421875 \r\nQ 21.96875 7.515625 27.59375 7.515625 \r\nL 36.8125 7.515625 \r\nL 36.8125 0 \r\nL 27.59375 0 \r\nQ 17.1875 0 13.234375 3.875 \r\nQ 9.28125 7.765625 9.28125 18.015625 \r\nL 9.28125 47.703125 \r\nL 2.6875 47.703125 \r\nL 2.6875 54.6875 \r\nL 9.28125 54.6875 \r\nL 9.28125 70.21875 \r\nz\r\n\" id=\"DejaVuSans-116\"/>\r\n    </defs>\r\n    <g transform=\"translate(124.068125 16.318125)scale(0.12 -0.12)\">\r\n     <use xlink:href=\"#DejaVuSans-65\"/>\r\n     <use x=\"68.330078\" xlink:href=\"#DejaVuSans-118\"/>\r\n     <use x=\"127.509766\" xlink:href=\"#DejaVuSans-101\"/>\r\n     <use x=\"189.033203\" xlink:href=\"#DejaVuSans-114\"/>\r\n     <use x=\"230.146484\" xlink:href=\"#DejaVuSans-97\"/>\r\n     <use x=\"291.425781\" xlink:href=\"#DejaVuSans-103\"/>\r\n     <use x=\"354.902344\" xlink:href=\"#DejaVuSans-101\"/>\r\n     <use x=\"416.425781\" xlink:href=\"#DejaVuSans-32\"/>\r\n     <use x=\"448.212891\" xlink:href=\"#DejaVuSans-115\"/>\r\n     <use x=\"500.3125\" xlink:href=\"#DejaVuSans-97\"/>\r\n     <use x=\"561.591797\" xlink:href=\"#DejaVuSans-108\"/>\r\n     <use x=\"589.375\" xlink:href=\"#DejaVuSans-101\"/>\r\n     <use x=\"650.898438\" xlink:href=\"#DejaVuSans-32\"/>\r\n     <use x=\"682.685547\" xlink:href=\"#DejaVuSans-112\"/>\r\n     <use x=\"746.162109\" xlink:href=\"#DejaVuSans-114\"/>\r\n     <use x=\"787.275391\" xlink:href=\"#DejaVuSans-105\"/>\r\n     <use x=\"815.058594\" xlink:href=\"#DejaVuSans-99\"/>\r\n     <use x=\"870.039062\" xlink:href=\"#DejaVuSans-101\"/>\r\n     <use x=\"931.5625\" xlink:href=\"#DejaVuSans-32\"/>\r\n     <use x=\"963.349609\" xlink:href=\"#DejaVuSans-112\"/>\r\n     <use x=\"1026.826172\" xlink:href=\"#DejaVuSans-101\"/>\r\n     <use x=\"1088.349609\" xlink:href=\"#DejaVuSans-114\"/>\r\n     <use x=\"1129.462891\" xlink:href=\"#DejaVuSans-32\"/>\r\n     <use x=\"1161.25\" xlink:href=\"#DejaVuSans-115\"/>\r\n     <use x=\"1213.349609\" xlink:href=\"#DejaVuSans-113\"/>\r\n     <use x=\"1276.826172\" xlink:href=\"#DejaVuSans-102\"/>\r\n     <use x=\"1312.015625\" xlink:href=\"#DejaVuSans-116\"/>\r\n     <use x=\"1351.224609\" xlink:href=\"#DejaVuSans-32\"/>\r\n    </g>\r\n   </g>\r\n  </g>\r\n </g>\r\n <defs>\r\n  <clipPath id=\"p3ff3ab25f4\">\r\n   <rect height=\"217.44\" width=\"334.8\" x=\"39.65\" y=\"22.318125\"/>\r\n  </clipPath>\r\n </defs>\r\n</svg>\r\n",
      "image/png": "[encoded data removed]"
     },
     "metadata": {
      "needs_background": "light"
     }
    }
   ],
   "source": [
    "title = pn.panel('## SFO Housing Market Data')\n",
    "\n",
    "Avg_plot=pn.Column(\"Housing Trends\",housing_units_per_year(),average_gross_rent(),average_sales_price(),average_price_by_neighborhood())\n",
    "\n",
    "Expensive_plot=pn.Column(\"Most Expensive Neighborhoods\",top_most_expensive_neighborhoods(),\n",
    "most_expensive_neighborhoods_rent_sales(),sunburst())\n",
    "\n",
    "Paralell_plots=pn.Column(\"Comparison\",parallel_categories(),parallel_coordinates(),neighborhood_map().show())\n",
    "\n",
    "SFO_dashboard = pn.Tabs((\"Trends\", Avg_plot), (\"Top_10\", Expensive_plot),(\"Top_10_Comp\", Paralell_plots)\n",
    ")\n"
   ]
  },
  {
   "cell_type": "markdown",
   "metadata": {},
   "source": [
    "## Serve the Panel Dashboard"
   ]
  },
  {
   "cell_type": "code",
   "execution_count": 15,
   "metadata": {},
   "outputs": [
    {
     "output_type": "display_data",
     "data": {},
     "metadata": {}
    },
    {
     "output_type": "display_data",
     "data": {},
     "metadata": {}
    },
    {
     "output_type": "execute_result",
     "data": {
      "text/html": "<div id='1001'>\n\n\n\n\n\n  <div class=\"bk-root\" id=\"1c114ac0-3406-42c3-af86-5a9126e14458\" data-root-id=\"1001\"></div>\n</div>\n<script type=\"application/javascript\">(function(root) {\n  function embed_document(root) {\n    var docs_json = {\"0d1f3d32-7203-4cc4-8ff3-7713df824c5f\":{\"roots\":{\"references\":[{\"attributes\":{\"source\":{\"id\":\"1106\"}},\"id\":\"1113\",\"type\":\"CDSView\"},{\"attributes\":{},\"id\":\"1348\",\"type\":\"UnionRenderers\"},{\"attributes\":{},\"id\":\"1131\",\"type\":\"UnionRenderers\"},{\"attributes\":{\"source\":{\"id\":\"1321\"}},\"id\":\"1328\",\"type\":\"CDSView\"},{\"attributes\":{\"line_alpha\":0.2,\"line_color\":\"#fc4f30\",\"line_width\":2,\"x\":{\"field\":\"year\"},\"y\":{\"field\":\"gross_rent\"}},\"id\":\"1119\",\"type\":\"Line\"},{\"attributes\":{},\"id\":\"1278\",\"type\":\"UnionRenderers\"},{\"attributes\":{\"end\":2016.0,\"reset_end\":2016.0,\"reset_start\":2010.0,\"start\":2010.0,\"tags\":[[[\"year\",\"year\",null]]]},\"id\":\"1067\",\"type\":\"Range1d\"},{\"attributes\":{\"line_color\":\"#fc4f30\",\"line_width\":2,\"x\":{\"field\":\"year\"},\"y\":{\"field\":\"gross_rent\"}},\"id\":\"1117\",\"type\":\"Line\"},{\"attributes\":{},\"id\":\"1248\",\"type\":\"WheelZoomTool\"},{\"attributes\":{},\"id\":\"1090\",\"type\":\"WheelZoomTool\"},{\"attributes\":{\"children\":[{\"id\":\"1003\"},{\"id\":\"1007\"},{\"id\":\"1064\"},{\"id\":\"1065\"},{\"id\":\"1066\"}],\"margin\":[0,0,0,0],\"name\":\"Column11818\"},\"id\":\"1002\",\"type\":\"Column\"},{\"attributes\":{},\"id\":\"1235\",\"type\":\"CategoricalScale\"},{\"attributes\":{\"margin\":[0,0,0,0],\"tabs\":[{\"id\":\"1224\"},{\"id\":\"1363\"},{\"id\":\"1371\"}]},\"id\":\"1001\",\"type\":\"Tabs\"},{\"attributes\":{\"overlay\":{\"id\":\"1251\"}},\"id\":\"1249\",\"type\":\"BoxZoomTool\"},{\"attributes\":{\"fill_color\":{\"value\":\"#30a2da\"},\"top\":{\"field\":\"sale_price_sqr_foot\"},\"width\":{\"value\":0.8},\"x\":{\"field\":\"neighborhood\"}},\"id\":\"1262\",\"type\":\"VBar\"},{\"attributes\":{\"text\":\"Top 10 Expensive Neighborhoods in SFO\",\"text_color\":{\"value\":\"black\"},\"text_font_size\":{\"value\":\"12pt\"}},\"id\":\"1231\",\"type\":\"Title\"},{\"attributes\":{},\"id\":\"1089\",\"type\":\"PanTool\"},{\"attributes\":{\"data_source\":{\"id\":\"1114\"},\"glyph\":{\"id\":\"1117\"},\"hover_glyph\":null,\"muted_glyph\":{\"id\":\"1119\"},\"nonselection_glyph\":{\"id\":\"1118\"},\"selection_glyph\":null,\"view\":{\"id\":\"1121\"}},\"id\":\"1120\",\"type\":\"GlyphRenderer\"},{\"attributes\":{\"end\":4810.690068306854,\"reset_end\":4810.690068306854,\"reset_start\":0.0,\"tags\":[[[\"value\",\"value\",null]]]},\"id\":\"1289\",\"type\":\"Range1d\"},{\"attributes\":{\"source\":{\"id\":\"1114\"}},\"id\":\"1121\",\"type\":\"CDSView\"},{\"attributes\":{},\"id\":\"1384\",\"type\":\"Selection\"},{\"attributes\":{\"fill_color\":{\"field\":\"Variable\",\"transform\":{\"id\":\"1320\"}},\"top\":{\"field\":\"value\"},\"width\":{\"value\":0.8},\"x\":{\"field\":\"xoffsets\"}},\"id\":\"1324\",\"type\":\"VBar\"},{\"attributes\":{\"child\":{\"id\":\"1002\"},\"name\":\"Column11818\",\"title\":\"Trends\"},\"id\":\"1224\",\"type\":\"Panel\"},{\"attributes\":{\"factors\":[\"Union Square District\",\"Merced Heights\",\"Miraloma Park\",\"Pacific Heights\",\"Westwood Park\",\"Telegraph Hill\",\"Presidio Heights\",\"Cow Hollow\",\"Potrero Hill\",\"South Beach\"],\"tags\":[[[\"neighborhood\",\"neighborhood\",null]]]},\"id\":\"1227\",\"type\":\"FactorRange\"},{\"attributes\":{},\"id\":\"1250\",\"type\":\"ResetTool\"},{\"attributes\":{},\"id\":\"1329\",\"type\":\"CategoricalTickFormatter\"},{\"attributes\":{},\"id\":\"1076\",\"type\":\"LinearScale\"},{\"attributes\":{\"data_source\":{\"id\":\"1106\"},\"glyph\":{\"id\":\"1109\"},\"hover_glyph\":null,\"muted_glyph\":{\"id\":\"1111\"},\"nonselection_glyph\":{\"id\":\"1110\"},\"selection_glyph\":null,\"view\":{\"id\":\"1113\"}},\"id\":\"1112\",\"type\":\"GlyphRenderer\"},{\"attributes\":{},\"id\":\"1104\",\"type\":\"BasicTickFormatter\"},{\"attributes\":{},\"id\":\"1055\",\"type\":\"UnionRenderers\"},{\"attributes\":{\"callback\":null,\"renderers\":[{\"id\":\"1112\"}],\"tags\":[\"hv_created\"],\"tooltips\":[[\"year\",\"@{year}\"],[\"sale_price_sqr_foot\",\"@{sale_price_sqr_foot}\"]]},\"id\":\"1069\",\"type\":\"HoverTool\"},{\"attributes\":{\"margin\":[5,5,5,5],\"name\":\"Str11805\",\"text\":\"&lt;pre&gt;AxesSubplot(0.125,0.125;0.775x0.755)&lt;/pre&gt;\"},\"id\":\"1065\",\"type\":\"panel.models.markup.HTML\"},{\"attributes\":{},\"id\":\"1088\",\"type\":\"SaveTool\"},{\"attributes\":{\"text\":\"neighborhood: Alamo Square\",\"text_color\":{\"value\":\"black\"},\"text_font_size\":{\"value\":\"12pt\"}},\"id\":\"1072\",\"type\":\"Title\"},{\"attributes\":{\"line_color\":\"#30a2da\",\"line_width\":2,\"x\":{\"field\":\"year\"},\"y\":{\"field\":\"sale_price_sqr_foot\"}},\"id\":\"1109\",\"type\":\"Line\"},{\"attributes\":{\"overlay\":{\"id\":\"1093\"}},\"id\":\"1091\",\"type\":\"BoxZoomTool\"},{\"attributes\":{},\"id\":\"1092\",\"type\":\"ResetTool\"},{\"attributes\":{},\"id\":\"1246\",\"type\":\"SaveTool\"},{\"attributes\":{\"children\":[{\"id\":\"1359\"}],\"css_classes\":[\"panel-widget-box\"],\"margin\":[5,5,5,5],\"name\":\"WidgetBox16007\"},\"id\":\"1358\",\"type\":\"Column\"},{\"attributes\":{\"margin\":[5,5,5,5],\"name\":\"Str11803\",\"text\":\"&lt;pre&gt;AxesSubplot(0.125,0.125;0.775x0.755)&lt;/pre&gt;\"},\"id\":\"1064\",\"type\":\"panel.models.markup.HTML\"},{\"attributes\":{\"children\":[{\"id\":\"1358\"},{\"id\":\"1360\"}],\"margin\":[0,0,0,0],\"name\":\"Column16015\"},\"id\":\"1357\",\"type\":\"Column\"},{\"attributes\":{},\"id\":\"1044\",\"type\":\"CategoricalTickFormatter\"},{\"attributes\":{\"data\":{\"neighborhood\":[\"Union Square District\",\"Merced Heights\",\"Miraloma Park\",\"Pacific Heights\",\"Westwood Park\",\"Telegraph Hill\",\"Presidio Heights\",\"Cow Hollow\",\"Potrero Hill\",\"South Beach\"],\"sale_price_sqr_foot\":{\"__ndarray__\":\"JRAUMfI/jEB9IrkvwqaIQFx/3pp8XohAFpsVUHKMhUBs0ERas3iFQL0KhXgNJIVAy835O80ahUANV25bts+EQJrMCuEbsIRAya3y7v5QhEA=\",\"dtype\":\"float64\",\"order\":\"little\",\"shape\":[10]}},\"selected\":{\"id\":\"1260\"},\"selection_policy\":{\"id\":\"1278\"}},\"id\":\"1259\",\"type\":\"ColumnDataSource\"},{\"attributes\":{},\"id\":\"1247\",\"type\":\"PanTool\"},{\"attributes\":{\"source\":{\"id\":\"1259\"}},\"id\":\"1266\",\"type\":\"CDSView\"},{\"attributes\":{\"fill_alpha\":{\"value\":0.1},\"fill_color\":{\"field\":\"Variable\",\"transform\":{\"id\":\"1320\"}},\"line_alpha\":{\"value\":0.1},\"top\":{\"field\":\"value\"},\"width\":{\"value\":0.8},\"x\":{\"field\":\"xoffsets\"}},\"id\":\"1325\",\"type\":\"VBar\"},{\"attributes\":{\"callback\":null,\"renderers\":[{\"id\":\"1327\"}],\"tags\":[\"hv_created\"],\"tooltips\":[[\"year\",\"@{year}\"],[\"Variable\",\"@{Variable}\"],[\"value\",\"@{value}\"]]},\"id\":\"1290\",\"type\":\"HoverTool\"},{\"attributes\":{\"fill_alpha\":{\"value\":0.1},\"fill_color\":{\"value\":\"#30a2da\"},\"line_alpha\":{\"value\":0.1},\"top\":{\"field\":\"sale_price_sqr_foot\"},\"width\":{\"value\":0.8},\"x\":{\"field\":\"neighborhood\"}},\"id\":\"1263\",\"type\":\"VBar\"},{\"attributes\":{},\"id\":\"1107\",\"type\":\"Selection\"},{\"attributes\":{},\"id\":\"1129\",\"type\":\"UnionRenderers\"},{\"attributes\":{\"factors\":[[\"2010\",\"gross_rent\"],[\"2010\",\"sale_price_sqr_foot\"],[\"2011\",\"gross_rent\"],[\"2011\",\"sale_price_sqr_foot\"],[\"2012\",\"gross_rent\"],[\"2012\",\"sale_price_sqr_foot\"],[\"2013\",\"gross_rent\"],[\"2013\",\"sale_price_sqr_foot\"],[\"2014\",\"gross_rent\"],[\"2014\",\"sale_price_sqr_foot\"],[\"2015\",\"gross_rent\"],[\"2015\",\"sale_price_sqr_foot\"],[\"2016\",\"gross_rent\"],[\"2016\",\"sale_price_sqr_foot\"]],\"tags\":[[[\"year\",\"year\",null],[\"Variable\",\"Variable\",null]]]},\"id\":\"1288\",\"type\":\"FactorRange\"},{\"attributes\":{},\"id\":\"1307\",\"type\":\"SaveTool\"},{\"attributes\":{\"margin\":[5,5,5,5],\"name\":\"VSpacer16014\",\"sizing_mode\":\"stretch_height\"},\"id\":\"1360\",\"type\":\"Spacer\"},{\"attributes\":{\"data_source\":{\"id\":\"1321\"},\"glyph\":{\"id\":\"1324\"},\"hover_glyph\":null,\"muted_glyph\":{\"id\":\"1326\"},\"nonselection_glyph\":{\"id\":\"1325\"},\"selection_glyph\":null,\"view\":{\"id\":\"1328\"}},\"id\":\"1327\",\"type\":\"GlyphRenderer\"},{\"attributes\":{\"callback\":null,\"renderers\":[{\"id\":\"1120\"}],\"tags\":[\"hv_created\"],\"tooltips\":[[\"year\",\"@{year}\"],[\"gross_rent\",\"@{gross_rent}\"]]},\"id\":\"1070\",\"type\":\"HoverTool\"},{\"attributes\":{\"children\":[{\"id\":\"1071\"},{\"id\":\"1220\"}],\"margin\":[0,0,0,0],\"name\":\"Row11808\"},\"id\":\"1066\",\"type\":\"Row\"},{\"attributes\":{\"line_alpha\":0.1,\"line_color\":\"#fc4f30\",\"line_width\":2,\"x\":{\"field\":\"year\"},\"y\":{\"field\":\"gross_rent\"}},\"id\":\"1118\",\"type\":\"Line\"},{\"attributes\":{},\"id\":\"1308\",\"type\":\"PanTool\"},{\"attributes\":{\"axis_label\":\"Avg. monthly rent\",\"bounds\":\"auto\",\"formatter\":{\"id\":\"1104\"},\"major_label_orientation\":\"horizontal\",\"ticker\":{\"id\":\"1085\"}},\"id\":\"1084\",\"type\":\"LinearAxis\"},{\"attributes\":{},\"id\":\"1081\",\"type\":\"BasicTicker\"},{\"attributes\":{\"css_classes\":[\"markdown\"],\"margin\":[5,5,5,5],\"name\":\"Markdown15998\",\"text\":\"&lt;p&gt;Most Expensive Neighborhoods&lt;/p&gt;\"},\"id\":\"1226\",\"type\":\"panel.models.markup.HTML\"},{\"attributes\":{},\"id\":\"1014\",\"type\":\"LinearScale\"},{\"attributes\":{\"line_alpha\":0.2,\"line_color\":\"#30a2da\",\"line_width\":2,\"x\":{\"field\":\"year\"},\"y\":{\"field\":\"sale_price_sqr_foot\"}},\"id\":\"1111\",\"type\":\"Line\"},{\"attributes\":{},\"id\":\"1331\",\"type\":\"BasicTickFormatter\"},{\"attributes\":{},\"id\":\"1115\",\"type\":\"Selection\"},{\"attributes\":{\"reload\":false},\"id\":\"1613\",\"type\":\"panel.models.location.Location\"},{\"attributes\":{\"data\":{\"housing_units\":[372560,374507,376454,378401,380348,382295,384242],\"year\":[\"2010\",\"2011\",\"2012\",\"2013\",\"2014\",\"2015\",\"2016\"]},\"selected\":{\"id\":\"1037\"},\"selection_policy\":{\"id\":\"1055\"}},\"id\":\"1036\",\"type\":\"ColumnDataSource\"},{\"attributes\":{\"data\":{\"sale_price_sqr_foot\":{\"__ndarray__\":\"Dkc7WO0yckCafszcbwhxQIGRs5ot42ZAJzog0LQ8eEAWMinKGEd+QI0V5FDt0IJAVCHcmLVPdUA=\",\"dtype\":\"float64\",\"order\":\"little\",\"shape\":[7]},\"year\":[2010,2011,2012,2013,2014,2015,2016]},\"selected\":{\"id\":\"1107\"},\"selection_policy\":{\"id\":\"1129\"}},\"id\":\"1106\",\"type\":\"ColumnDataSource\"},{\"attributes\":{\"margin\":[5,5,5,5],\"name\":\"Str16025\"},\"id\":\"1370\",\"type\":\"panel.models.markup.HTML\"},{\"attributes\":{},\"id\":\"1012\",\"type\":\"CategoricalScale\"},{\"attributes\":{\"axis\":{\"id\":\"1239\"},\"grid_line_color\":null,\"ticker\":null},\"id\":\"1241\",\"type\":\"Grid\"},{\"attributes\":{\"bottom_units\":\"screen\",\"fill_alpha\":0.5,\"fill_color\":\"lightgrey\",\"left_units\":\"screen\",\"level\":\"overlay\",\"line_alpha\":1.0,\"line_color\":\"black\",\"line_dash\":[4,4],\"line_width\":2,\"right_units\":\"screen\",\"top_units\":\"screen\"},\"id\":\"1093\",\"type\":\"BoxAnnotation\"},{\"attributes\":{\"below\":[{\"id\":\"1016\"}],\"center\":[{\"id\":\"1018\"},{\"id\":\"1022\"}],\"left\":[{\"id\":\"1019\"}],\"margin\":[5,5,5,5],\"min_border_bottom\":10,\"min_border_left\":10,\"min_border_right\":10,\"min_border_top\":10,\"plot_height\":300,\"plot_width\":700,\"renderers\":[{\"id\":\"1042\"}],\"sizing_mode\":\"fixed\",\"title\":{\"id\":\"1008\"},\"toolbar\":{\"id\":\"1029\"},\"x_range\":{\"id\":\"1004\"},\"x_scale\":{\"id\":\"1012\"},\"y_range\":{\"id\":\"1005\"},\"y_scale\":{\"id\":\"1014\"}},\"id\":\"1007\",\"subtype\":\"Figure\",\"type\":\"Plot\"},{\"attributes\":{\"_render_count\":0,\"config\":null,\"data\":[{\"dimensions\":[{\"label\":\"neighborhood\"},{\"label\":\"sale_price_sqr_foot\"},{\"label\":\"housing_units\"},{\"label\":\"gross_rent\"}],\"domain\":{\"x\":[0.0,1.0],\"y\":[0.0,1.0]},\"line\":{\"coloraxis\":\"coloraxis\"},\"name\":\"\",\"type\":\"parcats\"}],\"data_sources\":[{\"id\":\"1366\"}],\"layout\":{\"coloraxis\":{\"colorbar\":{\"title\":{\"text\":\"sale_price_sqr_foot\"}},\"colorscale\":[[0.0,\"#000004\"],[0.1111111111111111,\"#1b0c41\"],[0.2222222222222222,\"#4a0c6b\"],[0.3333333333333333,\"#781c6d\"],[0.4444444444444444,\"#a52c60\"],[0.5555555555555556,\"#cf4446\"],[0.6666666666666666,\"#ed6925\"],[0.7777777777777778,\"#fb9b06\"],[0.8888888888888888,\"#f7d13d\"],[1.0,\"#fcffa4\"]]},\"legend\":{\"tracegroupgap\":0},\"margin\":{\"t\":60},\"template\":{\"data\":{\"bar\":[{\"error_x\":{\"color\":\"#2a3f5f\"},\"error_y\":{\"color\":\"#2a3f5f\"},\"marker\":{\"line\":{\"color\":\"#E5ECF6\",\"width\":0.5}},\"type\":\"bar\"}],\"barpolar\":[{\"marker\":{\"line\":{\"color\":\"#E5ECF6\",\"width\":0.5}},\"type\":\"barpolar\"}],\"carpet\":[{\"aaxis\":{\"endlinecolor\":\"#2a3f5f\",\"gridcolor\":\"white\",\"linecolor\":\"white\",\"minorgridcolor\":\"white\",\"startlinecolor\":\"#2a3f5f\"},\"baxis\":{\"endlinecolor\":\"#2a3f5f\",\"gridcolor\":\"white\",\"linecolor\":\"white\",\"minorgridcolor\":\"white\",\"startlinecolor\":\"#2a3f5f\"},\"type\":\"carpet\"}],\"choropleth\":[{\"colorbar\":{\"outlinewidth\":0,\"ticks\":\"\"},\"type\":\"choropleth\"}],\"contour\":[{\"colorbar\":{\"outlinewidth\":0,\"ticks\":\"\"},\"colorscale\":[[0.0,\"#0d0887\"],[0.1111111111111111,\"#46039f\"],[0.2222222222222222,\"#7201a8\"],[0.3333333333333333,\"#9c179e\"],[0.4444444444444444,\"#bd3786\"],[0.5555555555555556,\"#d8576b\"],[0.6666666666666666,\"#ed7953\"],[0.7777777777777778,\"#fb9f3a\"],[0.8888888888888888,\"#fdca26\"],[1.0,\"#f0f921\"]],\"type\":\"contour\"}],\"contourcarpet\":[{\"colorbar\":{\"outlinewidth\":0,\"ticks\":\"\"},\"type\":\"contourcarpet\"}],\"heatmap\":[{\"colorbar\":{\"outlinewidth\":0,\"ticks\":\"\"},\"colorscale\":[[0.0,\"#0d0887\"],[0.1111111111111111,\"#46039f\"],[0.2222222222222222,\"#7201a8\"],[0.3333333333333333,\"#9c179e\"],[0.4444444444444444,\"#bd3786\"],[0.5555555555555556,\"#d8576b\"],[0.6666666666666666,\"#ed7953\"],[0.7777777777777778,\"#fb9f3a\"],[0.8888888888888888,\"#fdca26\"],[1.0,\"#f0f921\"]],\"type\":\"heatmap\"}],\"heatmapgl\":[{\"colorbar\":{\"outlinewidth\":0,\"ticks\":\"\"},\"colorscale\":[[0.0,\"#0d0887\"],[0.1111111111111111,\"#46039f\"],[0.2222222222222222,\"#7201a8\"],[0.3333333333333333,\"#9c179e\"],[0.4444444444444444,\"#bd3786\"],[0.5555555555555556,\"#d8576b\"],[0.6666666666666666,\"#ed7953\"],[0.7777777777777778,\"#fb9f3a\"],[0.8888888888888888,\"#fdca26\"],[1.0,\"#f0f921\"]],\"type\":\"heatmapgl\"}],\"histogram\":[{\"marker\":{\"colorbar\":{\"outlinewidth\":0,\"ticks\":\"\"}},\"type\":\"histogram\"}],\"histogram2d\":[{\"colorbar\":{\"outlinewidth\":0,\"ticks\":\"\"},\"colorscale\":[[0.0,\"#0d0887\"],[0.1111111111111111,\"#46039f\"],[0.2222222222222222,\"#7201a8\"],[0.3333333333333333,\"#9c179e\"],[0.4444444444444444,\"#bd3786\"],[0.5555555555555556,\"#d8576b\"],[0.6666666666666666,\"#ed7953\"],[0.7777777777777778,\"#fb9f3a\"],[0.8888888888888888,\"#fdca26\"],[1.0,\"#f0f921\"]],\"type\":\"histogram2d\"}],\"histogram2dcontour\":[{\"colorbar\":{\"outlinewidth\":0,\"ticks\":\"\"},\"colorscale\":[[0.0,\"#0d0887\"],[0.1111111111111111,\"#46039f\"],[0.2222222222222222,\"#7201a8\"],[0.3333333333333333,\"#9c179e\"],[0.4444444444444444,\"#bd3786\"],[0.5555555555555556,\"#d8576b\"],[0.6666666666666666,\"#ed7953\"],[0.7777777777777778,\"#fb9f3a\"],[0.8888888888888888,\"#fdca26\"],[1.0,\"#f0f921\"]],\"type\":\"histogram2dcontour\"}],\"mesh3d\":[{\"colorbar\":{\"outlinewidth\":0,\"ticks\":\"\"},\"type\":\"mesh3d\"}],\"parcoords\":[{\"line\":{\"colorbar\":{\"outlinewidth\":0,\"ticks\":\"\"}},\"type\":\"parcoords\"}],\"pie\":[{\"automargin\":true,\"type\":\"pie\"}],\"scatter\":[{\"marker\":{\"colorbar\":{\"outlinewidth\":0,\"ticks\":\"\"}},\"type\":\"scatter\"}],\"scatter3d\":[{\"line\":{\"colorbar\":{\"outlinewidth\":0,\"ticks\":\"\"}},\"marker\":{\"colorbar\":{\"outlinewidth\":0,\"ticks\":\"\"}},\"type\":\"scatter3d\"}],\"scattercarpet\":[{\"marker\":{\"colorbar\":{\"outlinewidth\":0,\"ticks\":\"\"}},\"type\":\"scattercarpet\"}],\"scattergeo\":[{\"marker\":{\"colorbar\":{\"outlinewidth\":0,\"ticks\":\"\"}},\"type\":\"scattergeo\"}],\"scattergl\":[{\"marker\":{\"colorbar\":{\"outlinewidth\":0,\"ticks\":\"\"}},\"type\":\"scattergl\"}],\"scattermapbox\":[{\"marker\":{\"colorbar\":{\"outlinewidth\":0,\"ticks\":\"\"}},\"type\":\"scattermapbox\"}],\"scatterpolar\":[{\"marker\":{\"colorbar\":{\"outlinewidth\":0,\"ticks\":\"\"}},\"type\":\"scatterpolar\"}],\"scatterpolargl\":[{\"marker\":{\"colorbar\":{\"outlinewidth\":0,\"ticks\":\"\"}},\"type\":\"scatterpolargl\"}],\"scatterternary\":[{\"marker\":{\"colorbar\":{\"outlinewidth\":0,\"ticks\":\"\"}},\"type\":\"scatterternary\"}],\"surface\":[{\"colorbar\":{\"outlinewidth\":0,\"ticks\":\"\"},\"colorscale\":[[0.0,\"#0d0887\"],[0.1111111111111111,\"#46039f\"],[0.2222222222222222,\"#7201a8\"],[0.3333333333333333,\"#9c179e\"],[0.4444444444444444,\"#bd3786\"],[0.5555555555555556,\"#d8576b\"],[0.6666666666666666,\"#ed7953\"],[0.7777777777777778,\"#fb9f3a\"],[0.8888888888888888,\"#fdca26\"],[1.0,\"#f0f921\"]],\"type\":\"surface\"}],\"table\":[{\"cells\":{\"fill\":{\"color\":\"#EBF0F8\"},\"line\":{\"color\":\"white\"}},\"header\":{\"fill\":{\"color\":\"#C8D4E3\"},\"line\":{\"color\":\"white\"}},\"type\":\"table\"}]},\"layout\":{\"annotationdefaults\":{\"arrowcolor\":\"#2a3f5f\",\"arrowhead\":0,\"arrowwidth\":1},\"autotypenumbers\":\"strict\",\"coloraxis\":{\"colorbar\":{\"outlinewidth\":0,\"ticks\":\"\"}},\"colorscale\":{\"diverging\":[[0,\"#8e0152\"],[0.1,\"#c51b7d\"],[0.2,\"#de77ae\"],[0.3,\"#f1b6da\"],[0.4,\"#fde0ef\"],[0.5,\"#f7f7f7\"],[0.6,\"#e6f5d0\"],[0.7,\"#b8e186\"],[0.8,\"#7fbc41\"],[0.9,\"#4d9221\"],[1,\"#276419\"]],\"sequential\":[[0.0,\"#0d0887\"],[0.1111111111111111,\"#46039f\"],[0.2222222222222222,\"#7201a8\"],[0.3333333333333333,\"#9c179e\"],[0.4444444444444444,\"#bd3786\"],[0.5555555555555556,\"#d8576b\"],[0.6666666666666666,\"#ed7953\"],[0.7777777777777778,\"#fb9f3a\"],[0.8888888888888888,\"#fdca26\"],[1.0,\"#f0f921\"]],\"sequentialminus\":[[0.0,\"#0d0887\"],[0.1111111111111111,\"#46039f\"],[0.2222222222222222,\"#7201a8\"],[0.3333333333333333,\"#9c179e\"],[0.4444444444444444,\"#bd3786\"],[0.5555555555555556,\"#d8576b\"],[0.6666666666666666,\"#ed7953\"],[0.7777777777777778,\"#fb9f3a\"],[0.8888888888888888,\"#fdca26\"],[1.0,\"#f0f921\"]]},\"colorway\":[\"#636efa\",\"#EF553B\",\"#00cc96\",\"#ab63fa\",\"#FFA15A\",\"#19d3f3\",\"#FF6692\",\"#B6E880\",\"#FF97FF\",\"#FECB52\"],\"font\":{\"color\":\"#2a3f5f\"},\"geo\":{\"bgcolor\":\"white\",\"lakecolor\":\"white\",\"landcolor\":\"#E5ECF6\",\"showlakes\":true,\"showland\":true,\"subunitcolor\":\"white\"},\"hoverlabel\":{\"align\":\"left\"},\"hovermode\":\"closest\",\"mapbox\":{\"style\":\"light\"},\"paper_bgcolor\":\"white\",\"plot_bgcolor\":\"#E5ECF6\",\"polar\":{\"angularaxis\":{\"gridcolor\":\"white\",\"linecolor\":\"white\",\"ticks\":\"\"},\"bgcolor\":\"#E5ECF6\",\"radialaxis\":{\"gridcolor\":\"white\",\"linecolor\":\"white\",\"ticks\":\"\"}},\"scene\":{\"xaxis\":{\"backgroundcolor\":\"#E5ECF6\",\"gridcolor\":\"white\",\"gridwidth\":2,\"linecolor\":\"white\",\"showbackground\":true,\"ticks\":\"\",\"zerolinecolor\":\"white\"},\"yaxis\":{\"backgroundcolor\":\"#E5ECF6\",\"gridcolor\":\"white\",\"gridwidth\":2,\"linecolor\":\"white\",\"showbackground\":true,\"ticks\":\"\",\"zerolinecolor\":\"white\"},\"zaxis\":{\"backgroundcolor\":\"#E5ECF6\",\"gridcolor\":\"white\",\"gridwidth\":2,\"linecolor\":\"white\",\"showbackground\":true,\"ticks\":\"\",\"zerolinecolor\":\"white\"}},\"shapedefaults\":{\"line\":{\"color\":\"#2a3f5f\"}},\"ternary\":{\"aaxis\":{\"gridcolor\":\"white\",\"linecolor\":\"white\",\"ticks\":\"\"},\"baxis\":{\"gridcolor\":\"white\",\"linecolor\":\"white\",\"ticks\":\"\"},\"bgcolor\":\"#E5ECF6\",\"caxis\":{\"gridcolor\":\"white\",\"linecolor\":\"white\",\"ticks\":\"\"}},\"title\":{\"x\":0.05},\"xaxis\":{\"automargin\":true,\"gridcolor\":\"white\",\"linecolor\":\"white\",\"ticks\":\"\",\"title\":{\"standoff\":15},\"zerolinecolor\":\"white\",\"zerolinewidth\":2},\"yaxis\":{\"automargin\":true,\"gridcolor\":\"white\",\"linecolor\":\"white\",\"ticks\":\"\",\"title\":{\"standoff\":15},\"zerolinecolor\":\"white\",\"zerolinewidth\":2}}}},\"margin\":[5,5,5,5],\"name\":\"Plotly16021\",\"viewport_update_throttle\":200},\"id\":\"1367\",\"type\":\"panel.models.plotly.PlotlyPlot\"},{\"attributes\":{},\"id\":\"1085\",\"type\":\"BasicTicker\"},{\"attributes\":{\"children\":[{\"id\":\"1221\"},{\"id\":\"1223\"}],\"margin\":[0,0,0,0],\"name\":\"Column11817\"},\"id\":\"1220\",\"type\":\"Column\"},{\"attributes\":{},\"id\":\"1017\",\"type\":\"CategoricalTicker\"},{\"attributes\":{},\"id\":\"1260\",\"type\":\"Selection\"},{\"attributes\":{\"axis\":{\"id\":\"1016\"},\"grid_line_color\":null,\"ticker\":null},\"id\":\"1018\",\"type\":\"Grid\"},{\"attributes\":{\"below\":[{\"id\":\"1300\"}],\"center\":[{\"id\":\"1302\"},{\"id\":\"1306\"}],\"left\":[{\"id\":\"1303\"}],\"margin\":[5,5,5,5],\"min_border_bottom\":10,\"min_border_left\":10,\"min_border_right\":10,\"min_border_top\":10,\"plot_height\":500,\"plot_width\":700,\"renderers\":[{\"id\":\"1327\"}],\"sizing_mode\":\"fixed\",\"title\":{\"id\":\"1292\"},\"toolbar\":{\"id\":\"1313\"},\"x_range\":{\"id\":\"1288\"},\"x_scale\":{\"id\":\"1296\"},\"y_range\":{\"id\":\"1289\"},\"y_scale\":{\"id\":\"1298\"}},\"id\":\"1291\",\"subtype\":\"Figure\",\"type\":\"Plot\"},{\"attributes\":{},\"id\":\"1078\",\"type\":\"LinearScale\"},{\"attributes\":{\"axis_label\":\"year\",\"bounds\":\"auto\",\"formatter\":{\"id\":\"1044\"},\"major_label_orientation\":\"horizontal\",\"ticker\":{\"id\":\"1017\"}},\"id\":\"1016\",\"type\":\"CategoricalAxis\"},{\"attributes\":{\"data\":{\"dimensions.0.values\":[[\"Union Square District\",\"Merced Heights\",\"Miraloma Park\",\"Pacific Heights\",\"Westwood Park\",\"Telegraph Hill\",\"Presidio Heights\",\"Cow Hollow\",\"Potrero Hill\",\"South Beach\"]],\"dimensions.1.values\":[{\"__ndarray__\":\"JRAUMfI/jEB9IrkvwqaIQFx/3pp8XohAFpsVUHKMhUBs0ERas3iFQL0KhXgNJIVAy835O80ahUANV25bts+EQJrMCuEbsIRAya3y7v5QhEA=\",\"dtype\":\"float64\",\"order\":\"little\",\"shape\":[10]}],\"dimensions.2.values\":[{\"__ndarray__\":\"AAAAAE4JF0EAAAAA8DYXQQAAAAB98hZBAAAAAIQYF0EAAAAAXFUXQQAAAACEGBdBAAAAAIQYF0EAAAAAhBgXQQAAAACEGBdBAAAAAPTvFkE=\",\"dtype\":\"float64\",\"order\":\"little\",\"shape\":[10]}],\"dimensions.3.values\":[{\"__ndarray__\":\"VVVVVVX2o0AAAAAAAKyqQAAAAACA1qBASZIkSZICpkAAAAAAAO6uQEmSJEmSAqZASZIkSZICpkBJkiRJkgKmQEmSJEmSAqZAAAAAAABmoEA=\",\"dtype\":\"float64\",\"order\":\"little\",\"shape\":[10]}],\"line.color\":[{\"__ndarray__\":\"JRAUMfI/jEB9IrkvwqaIQFx/3pp8XohAFpsVUHKMhUBs0ERas3iFQL0KhXgNJIVAy835O80ahUANV25bts+EQJrMCuEbsIRAya3y7v5QhEA=\",\"dtype\":\"float64\",\"order\":\"little\",\"shape\":[10]}]},\"selected\":{\"id\":\"1386\"},\"selection_policy\":{\"id\":\"1387\"}},\"id\":\"1366\",\"type\":\"ColumnDataSource\"},{\"attributes\":{\"axis\":{\"id\":\"1303\"},\"dimension\":1,\"grid_line_color\":null,\"ticker\":null},\"id\":\"1306\",\"type\":\"Grid\"},{\"attributes\":{\"axis_label\":\"year, Variable\",\"bounds\":\"auto\",\"formatter\":{\"id\":\"1329\"},\"major_label_orientation\":1.5707963267948966,\"ticker\":{\"id\":\"1301\"}},\"id\":\"1300\",\"type\":\"CategoricalAxis\"},{\"attributes\":{\"axis\":{\"id\":\"1080\"},\"grid_line_color\":null,\"ticker\":null},\"id\":\"1083\",\"type\":\"Grid\"},{\"attributes\":{},\"id\":\"1298\",\"type\":\"LinearScale\"},{\"attributes\":{\"axis_label\":\"housing_units\",\"bounds\":\"auto\",\"formatter\":{\"id\":\"1046\"},\"major_label_orientation\":\"horizontal\",\"ticker\":{\"id\":\"1020\"}},\"id\":\"1019\",\"type\":\"LinearAxis\"},{\"attributes\":{\"active_drag\":\"auto\",\"active_inspect\":\"auto\",\"active_multi\":null,\"active_scroll\":\"auto\",\"active_tap\":\"auto\",\"tools\":[{\"id\":\"1069\"},{\"id\":\"1070\"},{\"id\":\"1088\"},{\"id\":\"1089\"},{\"id\":\"1090\"},{\"id\":\"1091\"},{\"id\":\"1092\"}]},\"id\":\"1094\",\"type\":\"Toolbar\"},{\"attributes\":{\"end\":4810.690068306854,\"reset_end\":4810.690068306854,\"reset_start\":-237.59075137539728,\"start\":-237.59075137539728,\"tags\":[[[\"sale_price_sqr_foot\",\"sale_price_sqr_foot\",null]]]},\"id\":\"1068\",\"type\":\"Range1d\"},{\"attributes\":{\"text\":\"neighborhood: Alamo Square\",\"text_color\":{\"value\":\"black\"},\"text_font_size\":{\"value\":\"12pt\"}},\"id\":\"1292\",\"type\":\"Title\"},{\"attributes\":{\"fill_alpha\":{\"value\":0.2},\"fill_color\":{\"field\":\"Variable\",\"transform\":{\"id\":\"1320\"}},\"line_alpha\":{\"value\":0.2},\"top\":{\"field\":\"value\"},\"width\":{\"value\":0.8},\"x\":{\"field\":\"xoffsets\"}},\"id\":\"1326\",\"type\":\"VBar\"},{\"attributes\":{},\"id\":\"1020\",\"type\":\"BasicTicker\"},{\"attributes\":{\"axis_label\":\"year\",\"bounds\":\"auto\",\"formatter\":{\"id\":\"1102\"},\"major_label_orientation\":\"horizontal\",\"ticker\":{\"id\":\"1081\"}},\"id\":\"1080\",\"type\":\"LinearAxis\"},{\"attributes\":{\"axis\":{\"id\":\"1019\"},\"dimension\":1,\"grid_line_color\":null,\"ticker\":null},\"id\":\"1022\",\"type\":\"Grid\"},{\"attributes\":{\"fill_alpha\":{\"value\":0.1},\"fill_color\":{\"value\":\"#30a2da\"},\"line_alpha\":{\"value\":0.1},\"top\":{\"field\":\"housing_units\"},\"width\":{\"value\":0.8},\"x\":{\"field\":\"year\"}},\"id\":\"1040\",\"type\":\"VBar\"},{\"attributes\":{\"factors\":[\"sale_price_sqr_foot\",\"gross_rent\"],\"palette\":[\"#30a2da\",\"#fc4f30\"]},\"id\":\"1320\",\"type\":\"CategoricalColorMapper\"},{\"attributes\":{\"line_alpha\":0.1,\"line_color\":\"#30a2da\",\"line_width\":2,\"x\":{\"field\":\"year\"},\"y\":{\"field\":\"sale_price_sqr_foot\"}},\"id\":\"1110\",\"type\":\"Line\"},{\"attributes\":{\"axis_label\":\"neighborhood\",\"bounds\":\"auto\",\"formatter\":{\"id\":\"1267\"},\"major_label_orientation\":1.5707963267948966,\"ticker\":{\"id\":\"1240\"}},\"id\":\"1239\",\"type\":\"CategoricalAxis\"},{\"attributes\":{\"children\":[{\"id\":\"1226\"},{\"id\":\"1230\"},{\"id\":\"1287\"},{\"id\":\"1362\"}],\"margin\":[0,0,0,0],\"name\":\"Column16018\"},\"id\":\"1225\",\"type\":\"Column\"},{\"attributes\":{},\"id\":\"1304\",\"type\":\"BasicTicker\"},{\"attributes\":{\"child\":{\"id\":\"1364\"},\"name\":\"Column16027\",\"title\":\"Top_10_Comp\"},\"id\":\"1371\",\"type\":\"Panel\"},{\"attributes\":{\"children\":[{\"id\":\"1291\"},{\"id\":\"1357\"}],\"margin\":[0,0,0,0],\"name\":\"Row16006\"},\"id\":\"1287\",\"type\":\"Row\"},{\"attributes\":{\"fill_alpha\":{\"value\":0.2},\"fill_color\":{\"value\":\"#30a2da\"},\"line_alpha\":{\"value\":0.2},\"top\":{\"field\":\"sale_price_sqr_foot\"},\"width\":{\"value\":0.8},\"x\":{\"field\":\"neighborhood\"}},\"id\":\"1264\",\"type\":\"VBar\"},{\"attributes\":{},\"id\":\"1385\",\"type\":\"UnionRenderers\"},{\"attributes\":{},\"id\":\"1102\",\"type\":\"BasicTickFormatter\"},{\"attributes\":{\"bottom_units\":\"screen\",\"fill_alpha\":0.5,\"fill_color\":\"lightgrey\",\"left_units\":\"screen\",\"level\":\"overlay\",\"line_alpha\":1.0,\"line_color\":\"black\",\"line_dash\":[4,4],\"line_width\":2,\"right_units\":\"screen\",\"top_units\":\"screen\"},\"id\":\"1251\",\"type\":\"BoxAnnotation\"},{\"attributes\":{\"factors\":[\"2010\",\"2011\",\"2012\",\"2013\",\"2014\",\"2015\",\"2016\"],\"tags\":[[[\"year\",\"year\",null]]]},\"id\":\"1004\",\"type\":\"FactorRange\"},{\"attributes\":{},\"id\":\"1037\",\"type\":\"Selection\"},{\"attributes\":{\"overlay\":{\"id\":\"1312\"}},\"id\":\"1310\",\"type\":\"BoxZoomTool\"},{\"attributes\":{\"client_comm_id\":\"e5419f343e1041458406c5c146e6ad44\",\"comm_id\":\"9ffd41186b374814a7bb867d64ffd96c\",\"plot_id\":\"1001\"},\"id\":\"1492\",\"type\":\"panel.models.comm_manager.CommManager\"},{\"attributes\":{},\"id\":\"1386\",\"type\":\"Selection\"},{\"attributes\":{},\"id\":\"1309\",\"type\":\"WheelZoomTool\"},{\"attributes\":{\"axis\":{\"id\":\"1300\"},\"grid_line_color\":null,\"ticker\":null},\"id\":\"1302\",\"type\":\"Grid\"},{\"attributes\":{},\"id\":\"1387\",\"type\":\"UnionRenderers\"},{\"attributes\":{\"text\":\"Average housing units per year\",\"text_color\":{\"value\":\"black\"},\"text_font_size\":{\"value\":\"12pt\"}},\"id\":\"1008\",\"type\":\"Title\"},{\"attributes\":{},\"id\":\"1023\",\"type\":\"SaveTool\"},{\"attributes\":{},\"id\":\"1388\",\"type\":\"Selection\"},{\"attributes\":{},\"id\":\"1024\",\"type\":\"PanTool\"},{\"attributes\":{},\"id\":\"1027\",\"type\":\"ResetTool\"},{\"attributes\":{},\"id\":\"1389\",\"type\":\"UnionRenderers\"},{\"attributes\":{},\"id\":\"1025\",\"type\":\"WheelZoomTool\"},{\"attributes\":{\"axis_label\":\"\",\"bounds\":\"auto\",\"formatter\":{\"id\":\"1331\"},\"major_label_orientation\":\"horizontal\",\"ticker\":{\"id\":\"1304\"}},\"id\":\"1303\",\"type\":\"LinearAxis\"},{\"attributes\":{\"bottom_units\":\"screen\",\"fill_alpha\":0.5,\"fill_color\":\"lightgrey\",\"left_units\":\"screen\",\"level\":\"overlay\",\"line_alpha\":1.0,\"line_color\":\"black\",\"line_dash\":[4,4],\"line_width\":2,\"right_units\":\"screen\",\"top_units\":\"screen\"},\"id\":\"1312\",\"type\":\"BoxAnnotation\"},{\"attributes\":{\"active_drag\":\"auto\",\"active_inspect\":\"auto\",\"active_multi\":null,\"active_scroll\":\"auto\",\"active_tap\":\"auto\",\"tools\":[{\"id\":\"1006\"},{\"id\":\"1023\"},{\"id\":\"1024\"},{\"id\":\"1025\"},{\"id\":\"1026\"},{\"id\":\"1027\"}]},\"id\":\"1029\",\"type\":\"Toolbar\"},{\"attributes\":{\"below\":[{\"id\":\"1080\"}],\"center\":[{\"id\":\"1083\"},{\"id\":\"1087\"}],\"left\":[{\"id\":\"1084\"}],\"margin\":[5,5,5,5],\"min_border_bottom\":10,\"min_border_left\":10,\"min_border_right\":10,\"min_border_top\":10,\"plot_height\":300,\"plot_width\":700,\"renderers\":[{\"id\":\"1112\"},{\"id\":\"1120\"}],\"sizing_mode\":\"fixed\",\"title\":{\"id\":\"1072\"},\"toolbar\":{\"id\":\"1094\"},\"x_range\":{\"id\":\"1067\"},\"x_scale\":{\"id\":\"1076\"},\"y_range\":{\"id\":\"1068\"},\"y_scale\":{\"id\":\"1078\"}},\"id\":\"1071\",\"subtype\":\"Figure\",\"type\":\"Plot\"},{\"attributes\":{\"overlay\":{\"id\":\"1028\"}},\"id\":\"1026\",\"type\":\"BoxZoomTool\"},{\"attributes\":{\"data\":{\"Variable\":[\"sale_price_sqr_foot\",\"sale_price_sqr_foot\",\"sale_price_sqr_foot\",\"sale_price_sqr_foot\",\"sale_price_sqr_foot\",\"sale_price_sqr_foot\",\"sale_price_sqr_foot\",\"gross_rent\",\"gross_rent\",\"gross_rent\",\"gross_rent\",\"gross_rent\",\"gross_rent\",\"gross_rent\"],\"value\":{\"__ndarray__\":\"Dkc7WO0yckCafszcbwhxQIGRs5ot42ZAJzog0LQ8eEAWMinKGEd+QI0V5FDt0IJAVCHcmLVPdUAAAAAAAFyTQAAAAAAA6JdAAAAAAAAookAAAAAAADanQAAAAAAAkKtAAAAAAAA2rUAAAAAAACaxQA==\",\"dtype\":\"float64\",\"order\":\"little\",\"shape\":[14]},\"xoffsets\":[[\"2010\",\"sale_price_sqr_foot\"],[\"2011\",\"sale_price_sqr_foot\"],[\"2012\",\"sale_price_sqr_foot\"],[\"2013\",\"sale_price_sqr_foot\"],[\"2014\",\"sale_price_sqr_foot\"],[\"2015\",\"sale_price_sqr_foot\"],[\"2016\",\"sale_price_sqr_foot\"],[\"2010\",\"gross_rent\"],[\"2011\",\"gross_rent\"],[\"2012\",\"gross_rent\"],[\"2013\",\"gross_rent\"],[\"2014\",\"gross_rent\"],[\"2015\",\"gross_rent\"],[\"2016\",\"gross_rent\"]],\"year\":[\"2010\",\"2011\",\"2012\",\"2013\",\"2014\",\"2015\",\"2016\",\"2010\",\"2011\",\"2012\",\"2013\",\"2014\",\"2015\",\"2016\"]},\"selected\":{\"id\":\"1322\"},\"selection_policy\":{\"id\":\"1348\"}},\"id\":\"1321\",\"type\":\"ColumnDataSource\"},{\"attributes\":{},\"id\":\"1269\",\"type\":\"BasicTickFormatter\"},{\"attributes\":{\"axis\":{\"id\":\"1084\"},\"dimension\":1,\"grid_line_color\":null,\"ticker\":null},\"id\":\"1087\",\"type\":\"Grid\"},{\"attributes\":{\"css_classes\":[\"markdown\"],\"margin\":[5,5,5,5],\"name\":\"Markdown16019\",\"text\":\"&lt;p&gt;Comparison&lt;/p&gt;\"},\"id\":\"1365\",\"type\":\"panel.models.markup.HTML\"},{\"attributes\":{},\"id\":\"1237\",\"type\":\"LinearScale\"},{\"attributes\":{\"source\":{\"id\":\"1036\"}},\"id\":\"1043\",\"type\":\"CDSView\"},{\"attributes\":{\"children\":[{\"id\":\"1365\"},{\"id\":\"1367\"},{\"id\":\"1369\"},{\"id\":\"1370\"}],\"margin\":[0,0,0,0],\"name\":\"Column16027\"},\"id\":\"1364\",\"type\":\"Column\"},{\"attributes\":{\"bottom_units\":\"screen\",\"fill_alpha\":0.5,\"fill_color\":\"lightgrey\",\"left_units\":\"screen\",\"level\":\"overlay\",\"line_alpha\":1.0,\"line_color\":\"black\",\"line_dash\":[4,4],\"line_width\":2,\"right_units\":\"screen\",\"top_units\":\"screen\"},\"id\":\"1028\",\"type\":\"BoxAnnotation\"},{\"attributes\":{},\"id\":\"1301\",\"type\":\"CategoricalTicker\"},{\"attributes\":{\"axis\":{\"id\":\"1242\"},\"dimension\":1,\"grid_line_color\":null,\"ticker\":null},\"id\":\"1245\",\"type\":\"Grid\"},{\"attributes\":{\"fill_color\":{\"value\":\"#30a2da\"},\"top\":{\"field\":\"housing_units\"},\"width\":{\"value\":0.8},\"x\":{\"field\":\"year\"}},\"id\":\"1039\",\"type\":\"VBar\"},{\"attributes\":{},\"id\":\"1243\",\"type\":\"BasicTicker\"},{\"attributes\":{\"child\":{\"id\":\"1225\"},\"name\":\"Column16018\",\"title\":\"Top_10\"},\"id\":\"1363\",\"type\":\"Panel\"},{\"attributes\":{\"below\":[{\"id\":\"1239\"}],\"center\":[{\"id\":\"1241\"},{\"id\":\"1245\"}],\"left\":[{\"id\":\"1242\"}],\"margin\":[5,5,5,5],\"min_border_bottom\":10,\"min_border_left\":10,\"min_border_right\":10,\"min_border_top\":10,\"plot_height\":400,\"plot_width\":700,\"renderers\":[{\"id\":\"1265\"}],\"sizing_mode\":\"fixed\",\"title\":{\"id\":\"1231\"},\"toolbar\":{\"id\":\"1252\"},\"x_range\":{\"id\":\"1227\"},\"x_scale\":{\"id\":\"1235\"},\"y_range\":{\"id\":\"1068\"},\"y_scale\":{\"id\":\"1237\"}},\"id\":\"1230\",\"subtype\":\"Figure\",\"type\":\"Plot\"},{\"attributes\":{\"axis_label\":\"Avg. Sale Price per sqft\",\"bounds\":\"auto\",\"formatter\":{\"id\":\"1269\"},\"major_label_orientation\":\"horizontal\",\"ticker\":{\"id\":\"1243\"}},\"id\":\"1242\",\"type\":\"LinearAxis\"},{\"attributes\":{},\"id\":\"1046\",\"type\":\"BasicTickFormatter\"},{\"attributes\":{\"_render_count\":0,\"config\":null,\"data\":[{\"hovertemplate\":\"<b>%{hovertext}</b><br><br>sale_price_sqr_foot=%{marker.size}<br>Lat=%{lat}<br>Lon=%{lon}<br>gross_rent=%{marker.color}<extra></extra>\",\"legendgroup\":\"\",\"marker\":{\"coloraxis\":\"coloraxis\",\"sizemode\":\"area\",\"sizeref\":2.259983144180161},\"mode\":\"markers\",\"name\":\"\",\"showlegend\":false,\"subplot\":\"mapbox\",\"type\":\"scattermapbox\"}],\"data_sources\":[{\"id\":\"1368\"}],\"layout\":{\"coloraxis\":{\"colorbar\":{\"title\":{\"text\":\"gross_rent\"}},\"colorscale\":[[0.0,\"#0d0887\"],[0.1111111111111111,\"#46039f\"],[0.2222222222222222,\"#7201a8\"],[0.3333333333333333,\"#9c179e\"],[0.4444444444444444,\"#bd3786\"],[0.5555555555555556,\"#d8576b\"],[0.6666666666666666,\"#ed7953\"],[0.7777777777777778,\"#fb9f3a\"],[0.8888888888888888,\"#fdca26\"],[1.0,\"#f0f921\"]]},\"legend\":{\"itemsizing\":\"constant\",\"tracegroupgap\":0},\"mapbox\":{\"accesstoken\":\"pk.eyJ1Ijoic3VtaXRoYXJwIiwiYSI6ImNrbWJuOHloNjIzaGIydXBtZmhyeWZlb3cifQ.DYilqoBf1dfGPAzvYpoTVQ\",\"center\":{\"lat\":37.76019350684932,\"lon\":-122.43912380821916},\"domain\":{\"x\":[0.0,1.0],\"y\":[0.0,1.0]},\"zoom\":8},\"margin\":{\"t\":60},\"template\":{\"data\":{\"bar\":[{\"error_x\":{\"color\":\"#2a3f5f\"},\"error_y\":{\"color\":\"#2a3f5f\"},\"marker\":{\"line\":{\"color\":\"#E5ECF6\",\"width\":0.5}},\"type\":\"bar\"}],\"barpolar\":[{\"marker\":{\"line\":{\"color\":\"#E5ECF6\",\"width\":0.5}},\"type\":\"barpolar\"}],\"carpet\":[{\"aaxis\":{\"endlinecolor\":\"#2a3f5f\",\"gridcolor\":\"white\",\"linecolor\":\"white\",\"minorgridcolor\":\"white\",\"startlinecolor\":\"#2a3f5f\"},\"baxis\":{\"endlinecolor\":\"#2a3f5f\",\"gridcolor\":\"white\",\"linecolor\":\"white\",\"minorgridcolor\":\"white\",\"startlinecolor\":\"#2a3f5f\"},\"type\":\"carpet\"}],\"choropleth\":[{\"colorbar\":{\"outlinewidth\":0,\"ticks\":\"\"},\"type\":\"choropleth\"}],\"contour\":[{\"colorbar\":{\"outlinewidth\":0,\"ticks\":\"\"},\"colorscale\":[[0.0,\"#0d0887\"],[0.1111111111111111,\"#46039f\"],[0.2222222222222222,\"#7201a8\"],[0.3333333333333333,\"#9c179e\"],[0.4444444444444444,\"#bd3786\"],[0.5555555555555556,\"#d8576b\"],[0.6666666666666666,\"#ed7953\"],[0.7777777777777778,\"#fb9f3a\"],[0.8888888888888888,\"#fdca26\"],[1.0,\"#f0f921\"]],\"type\":\"contour\"}],\"contourcarpet\":[{\"colorbar\":{\"outlinewidth\":0,\"ticks\":\"\"},\"type\":\"contourcarpet\"}],\"heatmap\":[{\"colorbar\":{\"outlinewidth\":0,\"ticks\":\"\"},\"colorscale\":[[0.0,\"#0d0887\"],[0.1111111111111111,\"#46039f\"],[0.2222222222222222,\"#7201a8\"],[0.3333333333333333,\"#9c179e\"],[0.4444444444444444,\"#bd3786\"],[0.5555555555555556,\"#d8576b\"],[0.6666666666666666,\"#ed7953\"],[0.7777777777777778,\"#fb9f3a\"],[0.8888888888888888,\"#fdca26\"],[1.0,\"#f0f921\"]],\"type\":\"heatmap\"}],\"heatmapgl\":[{\"colorbar\":{\"outlinewidth\":0,\"ticks\":\"\"},\"colorscale\":[[0.0,\"#0d0887\"],[0.1111111111111111,\"#46039f\"],[0.2222222222222222,\"#7201a8\"],[0.3333333333333333,\"#9c179e\"],[0.4444444444444444,\"#bd3786\"],[0.5555555555555556,\"#d8576b\"],[0.6666666666666666,\"#ed7953\"],[0.7777777777777778,\"#fb9f3a\"],[0.8888888888888888,\"#fdca26\"],[1.0,\"#f0f921\"]],\"type\":\"heatmapgl\"}],\"histogram\":[{\"marker\":{\"colorbar\":{\"outlinewidth\":0,\"ticks\":\"\"}},\"type\":\"histogram\"}],\"histogram2d\":[{\"colorbar\":{\"outlinewidth\":0,\"ticks\":\"\"},\"colorscale\":[[0.0,\"#0d0887\"],[0.1111111111111111,\"#46039f\"],[0.2222222222222222,\"#7201a8\"],[0.3333333333333333,\"#9c179e\"],[0.4444444444444444,\"#bd3786\"],[0.5555555555555556,\"#d8576b\"],[0.6666666666666666,\"#ed7953\"],[0.7777777777777778,\"#fb9f3a\"],[0.8888888888888888,\"#fdca26\"],[1.0,\"#f0f921\"]],\"type\":\"histogram2d\"}],\"histogram2dcontour\":[{\"colorbar\":{\"outlinewidth\":0,\"ticks\":\"\"},\"colorscale\":[[0.0,\"#0d0887\"],[0.1111111111111111,\"#46039f\"],[0.2222222222222222,\"#7201a8\"],[0.3333333333333333,\"#9c179e\"],[0.4444444444444444,\"#bd3786\"],[0.5555555555555556,\"#d8576b\"],[0.6666666666666666,\"#ed7953\"],[0.7777777777777778,\"#fb9f3a\"],[0.8888888888888888,\"#fdca26\"],[1.0,\"#f0f921\"]],\"type\":\"histogram2dcontour\"}],\"mesh3d\":[{\"colorbar\":{\"outlinewidth\":0,\"ticks\":\"\"},\"type\":\"mesh3d\"}],\"parcoords\":[{\"line\":{\"colorbar\":{\"outlinewidth\":0,\"ticks\":\"\"}},\"type\":\"parcoords\"}],\"pie\":[{\"automargin\":true,\"type\":\"pie\"}],\"scatter\":[{\"marker\":{\"colorbar\":{\"outlinewidth\":0,\"ticks\":\"\"}},\"type\":\"scatter\"}],\"scatter3d\":[{\"line\":{\"colorbar\":{\"outlinewidth\":0,\"ticks\":\"\"}},\"marker\":{\"colorbar\":{\"outlinewidth\":0,\"ticks\":\"\"}},\"type\":\"scatter3d\"}],\"scattercarpet\":[{\"marker\":{\"colorbar\":{\"outlinewidth\":0,\"ticks\":\"\"}},\"type\":\"scattercarpet\"}],\"scattergeo\":[{\"marker\":{\"colorbar\":{\"outlinewidth\":0,\"ticks\":\"\"}},\"type\":\"scattergeo\"}],\"scattergl\":[{\"marker\":{\"colorbar\":{\"outlinewidth\":0,\"ticks\":\"\"}},\"type\":\"scattergl\"}],\"scattermapbox\":[{\"marker\":{\"colorbar\":{\"outlinewidth\":0,\"ticks\":\"\"}},\"type\":\"scattermapbox\"}],\"scatterpolar\":[{\"marker\":{\"colorbar\":{\"outlinewidth\":0,\"ticks\":\"\"}},\"type\":\"scatterpolar\"}],\"scatterpolargl\":[{\"marker\":{\"colorbar\":{\"outlinewidth\":0,\"ticks\":\"\"}},\"type\":\"scatterpolargl\"}],\"scatterternary\":[{\"marker\":{\"colorbar\":{\"outlinewidth\":0,\"ticks\":\"\"}},\"type\":\"scatterternary\"}],\"surface\":[{\"colorbar\":{\"outlinewidth\":0,\"ticks\":\"\"},\"colorscale\":[[0.0,\"#0d0887\"],[0.1111111111111111,\"#46039f\"],[0.2222222222222222,\"#7201a8\"],[0.3333333333333333,\"#9c179e\"],[0.4444444444444444,\"#bd3786\"],[0.5555555555555556,\"#d8576b\"],[0.6666666666666666,\"#ed7953\"],[0.7777777777777778,\"#fb9f3a\"],[0.8888888888888888,\"#fdca26\"],[1.0,\"#f0f921\"]],\"type\":\"surface\"}],\"table\":[{\"cells\":{\"fill\":{\"color\":\"#EBF0F8\"},\"line\":{\"color\":\"white\"}},\"header\":{\"fill\":{\"color\":\"#C8D4E3\"},\"line\":{\"color\":\"white\"}},\"type\":\"table\"}]},\"layout\":{\"annotationdefaults\":{\"arrowcolor\":\"#2a3f5f\",\"arrowhead\":0,\"arrowwidth\":1},\"autotypenumbers\":\"strict\",\"coloraxis\":{\"colorbar\":{\"outlinewidth\":0,\"ticks\":\"\"}},\"colorscale\":{\"diverging\":[[0,\"#8e0152\"],[0.1,\"#c51b7d\"],[0.2,\"#de77ae\"],[0.3,\"#f1b6da\"],[0.4,\"#fde0ef\"],[0.5,\"#f7f7f7\"],[0.6,\"#e6f5d0\"],[0.7,\"#b8e186\"],[0.8,\"#7fbc41\"],[0.9,\"#4d9221\"],[1,\"#276419\"]],\"sequential\":[[0.0,\"#0d0887\"],[0.1111111111111111,\"#46039f\"],[0.2222222222222222,\"#7201a8\"],[0.3333333333333333,\"#9c179e\"],[0.4444444444444444,\"#bd3786\"],[0.5555555555555556,\"#d8576b\"],[0.6666666666666666,\"#ed7953\"],[0.7777777777777778,\"#fb9f3a\"],[0.8888888888888888,\"#fdca26\"],[1.0,\"#f0f921\"]],\"sequentialminus\":[[0.0,\"#0d0887\"],[0.1111111111111111,\"#46039f\"],[0.2222222222222222,\"#7201a8\"],[0.3333333333333333,\"#9c179e\"],[0.4444444444444444,\"#bd3786\"],[0.5555555555555556,\"#d8576b\"],[0.6666666666666666,\"#ed7953\"],[0.7777777777777778,\"#fb9f3a\"],[0.8888888888888888,\"#fdca26\"],[1.0,\"#f0f921\"]]},\"colorway\":[\"#636efa\",\"#EF553B\",\"#00cc96\",\"#ab63fa\",\"#FFA15A\",\"#19d3f3\",\"#FF6692\",\"#B6E880\",\"#FF97FF\",\"#FECB52\"],\"font\":{\"color\":\"#2a3f5f\"},\"geo\":{\"bgcolor\":\"white\",\"lakecolor\":\"white\",\"landcolor\":\"#E5ECF6\",\"showlakes\":true,\"showland\":true,\"subunitcolor\":\"white\"},\"hoverlabel\":{\"align\":\"left\"},\"hovermode\":\"closest\",\"mapbox\":{\"style\":\"light\"},\"paper_bgcolor\":\"white\",\"plot_bgcolor\":\"#E5ECF6\",\"polar\":{\"angularaxis\":{\"gridcolor\":\"white\",\"linecolor\":\"white\",\"ticks\":\"\"},\"bgcolor\":\"#E5ECF6\",\"radialaxis\":{\"gridcolor\":\"white\",\"linecolor\":\"white\",\"ticks\":\"\"}},\"scene\":{\"xaxis\":{\"backgroundcolor\":\"#E5ECF6\",\"gridcolor\":\"white\",\"gridwidth\":2,\"linecolor\":\"white\",\"showbackground\":true,\"ticks\":\"\",\"zerolinecolor\":\"white\"},\"yaxis\":{\"backgroundcolor\":\"#E5ECF6\",\"gridcolor\":\"white\",\"gridwidth\":2,\"linecolor\":\"white\",\"showbackground\":true,\"ticks\":\"\",\"zerolinecolor\":\"white\"},\"zaxis\":{\"backgroundcolor\":\"#E5ECF6\",\"gridcolor\":\"white\",\"gridwidth\":2,\"linecolor\":\"white\",\"showbackground\":true,\"ticks\":\"\",\"zerolinecolor\":\"white\"}},\"shapedefaults\":{\"line\":{\"color\":\"#2a3f5f\"}},\"ternary\":{\"aaxis\":{\"gridcolor\":\"white\",\"linecolor\":\"white\",\"ticks\":\"\"},\"baxis\":{\"gridcolor\":\"white\",\"linecolor\":\"white\",\"ticks\":\"\"},\"bgcolor\":\"#E5ECF6\",\"caxis\":{\"gridcolor\":\"white\",\"linecolor\":\"white\",\"ticks\":\"\"}},\"title\":{\"x\":0.05},\"xaxis\":{\"automargin\":true,\"gridcolor\":\"white\",\"linecolor\":\"white\",\"ticks\":\"\",\"title\":{\"standoff\":15},\"zerolinecolor\":\"white\",\"zerolinewidth\":2},\"yaxis\":{\"automargin\":true,\"gridcolor\":\"white\",\"linecolor\":\"white\",\"ticks\":\"\",\"title\":{\"standoff\":15},\"zerolinecolor\":\"white\",\"zerolinewidth\":2}}}},\"margin\":[5,5,5,5],\"name\":\"Plotly16023\",\"viewport_update_throttle\":200},\"id\":\"1369\",\"type\":\"panel.models.plotly.PlotlyPlot\"},{\"attributes\":{\"end\":390000,\"reset_end\":390000,\"reset_start\":350000,\"start\":350000,\"tags\":[[[\"housing_units\",\"housing_units\",null]]]},\"id\":\"1005\",\"type\":\"Range1d\"},{\"attributes\":{},\"id\":\"1296\",\"type\":\"CategoricalScale\"},{\"attributes\":{\"margin\":[5,5,5,5],\"name\":\"VSpacer11816\",\"sizing_mode\":\"stretch_height\"},\"id\":\"1223\",\"type\":\"Spacer\"},{\"attributes\":{\"data_source\":{\"id\":\"1259\"},\"glyph\":{\"id\":\"1262\"},\"hover_glyph\":null,\"muted_glyph\":{\"id\":\"1264\"},\"nonselection_glyph\":{\"id\":\"1263\"},\"selection_glyph\":null,\"view\":{\"id\":\"1266\"}},\"id\":\"1265\",\"type\":\"GlyphRenderer\"},{\"attributes\":{\"data\":{\"customdata\":[[[1239],[1530],[2324],[2971],[3528],[3739],[4390],[2324],[3528],[4390],[1239],[1530],[2324],[3528],[1239],[1530],[2324],[2971],[3528],[3739],[4390],[1239],[1530],[2324],[2971],[3528],[3739],[4390],[1239],[1530],[2324],[2971],[3528],[3739],[4390],[1239],[1530],[3528],[1239],[1530],[2324],[2971],[3528],[3739],[4390],[1239],[1530],[2324],[2971],[3528],[3739],[3528],[4390],[1239],[1530],[2324],[2971],[3528],[3739],[4390]]],\"ids\":[[\"2010/Cow Hollow\",\"2011/Cow Hollow\",\"2012/Cow Hollow\",\"2013/Cow Hollow\",\"2014/Cow Hollow\",\"2015/Cow Hollow\",\"2016/Cow Hollow\",\"2012/Merced Heights\",\"2014/Merced Heights\",\"2016/Merced Heights\",\"2010/Miraloma Park\",\"2011/Miraloma Park\",\"2012/Miraloma Park\",\"2014/Miraloma Park\",\"2010/Pacific Heights\",\"2011/Pacific Heights\",\"2012/Pacific Heights\",\"2013/Pacific Heights\",\"2014/Pacific Heights\",\"2015/Pacific Heights\",\"2016/Pacific Heights\",\"2010/Potrero Hill\",\"2011/Potrero Hill\",\"2012/Potrero Hill\",\"2013/Potrero Hill\",\"2014/Potrero Hill\",\"2015/Potrero Hill\",\"2016/Potrero Hill\",\"2010/Presidio Heights\",\"2011/Presidio Heights\",\"2012/Presidio Heights\",\"2013/Presidio Heights\",\"2014/Presidio Heights\",\"2015/Presidio Heights\",\"2016/Presidio Heights\",\"2010/South Beach\",\"2011/South Beach\",\"2014/South Beach\",\"2010/Telegraph Hill\",\"2011/Telegraph Hill\",\"2012/Telegraph Hill\",\"2013/Telegraph Hill\",\"2014/Telegraph Hill\",\"2015/Telegraph Hill\",\"2016/Telegraph Hill\",\"2010/Union Square District\",\"2011/Union Square District\",\"2012/Union Square District\",\"2013/Union Square District\",\"2014/Union Square District\",\"2015/Union Square District\",\"2014/Westwood Park\",\"2016/Westwood Park\",\"2010\",\"2011\",\"2012\",\"2013\",\"2014\",\"2015\",\"2016\"]],\"labels\":[[\"Cow Hollow\",\"Cow Hollow\",\"Cow Hollow\",\"Cow Hollow\",\"Cow Hollow\",\"Cow Hollow\",\"Cow Hollow\",\"Merced Heights\",\"Merced Heights\",\"Merced Heights\",\"Miraloma Park\",\"Miraloma Park\",\"Miraloma Park\",\"Miraloma Park\",\"Pacific Heights\",\"Pacific Heights\",\"Pacific Heights\",\"Pacific Heights\",\"Pacific Heights\",\"Pacific Heights\",\"Pacific Heights\",\"Potrero Hill\",\"Potrero Hill\",\"Potrero Hill\",\"Potrero Hill\",\"Potrero Hill\",\"Potrero Hill\",\"Potrero Hill\",\"Presidio Heights\",\"Presidio Heights\",\"Presidio Heights\",\"Presidio Heights\",\"Presidio Heights\",\"Presidio Heights\",\"Presidio Heights\",\"South Beach\",\"South Beach\",\"South Beach\",\"Telegraph Hill\",\"Telegraph Hill\",\"Telegraph Hill\",\"Telegraph Hill\",\"Telegraph Hill\",\"Telegraph Hill\",\"Telegraph Hill\",\"Union Square District\",\"Union Square District\",\"Union Square District\",\"Union Square District\",\"Union Square District\",\"Union Square District\",\"Westwood Park\",\"Westwood Park\",\"2010\",\"2011\",\"2012\",\"2013\",\"2014\",\"2015\",\"2016\"]],\"marker.colors\":[[1239,1530,2324,2971,3528,3739,4390,2324,3528,4390,1239,1530,2324,3528,1239,1530,2324,2971,3528,3739,4390,1239,1530,2324,2971,3528,3739,4390,1239,1530,2324,2971,3528,3739,4390,1239,1530,3528,1239,1530,2324,2971,3528,3739,4390,1239,1530,2324,2971,3528,3739,3528,4390,1239,1530,2324,2971,3528,3739,4390]],\"parents\":[[\"2010\",\"2011\",\"2012\",\"2013\",\"2014\",\"2015\",\"2016\",\"2012\",\"2014\",\"2016\",\"2010\",\"2011\",\"2012\",\"2014\",\"2010\",\"2011\",\"2012\",\"2013\",\"2014\",\"2015\",\"2016\",\"2010\",\"2011\",\"2012\",\"2013\",\"2014\",\"2015\",\"2016\",\"2010\",\"2011\",\"2012\",\"2013\",\"2014\",\"2015\",\"2016\",\"2010\",\"2011\",\"2014\",\"2010\",\"2011\",\"2012\",\"2013\",\"2014\",\"2015\",\"2016\",\"2010\",\"2011\",\"2012\",\"2013\",\"2014\",\"2015\",\"2014\",\"2016\",\"\",\"\",\"\",\"\",\"\",\"\",\"\"]],\"values\":[[1239,1530,2324,2971,3528,3739,4390,2324,3528,4390,1239,1530,2324,3528,1239,1530,2324,2971,3528,3739,4390,1239,1530,2324,2971,3528,3739,4390,1239,1530,2324,2971,3528,3739,4390,1239,1530,3528,1239,1530,2324,2971,3528,3739,4390,1239,1530,2324,2971,3528,3739,3528,4390,9912,12240,18592,17826,35280,22434,30730]]},\"selected\":{\"id\":\"1384\"},\"selection_policy\":{\"id\":\"1385\"}},\"id\":\"1361\",\"type\":\"ColumnDataSource\"},{\"attributes\":{},\"id\":\"1267\",\"type\":\"CategoricalTickFormatter\"},{\"attributes\":{},\"id\":\"1311\",\"type\":\"ResetTool\"},{\"attributes\":{\"css_classes\":[\"markdown\"],\"margin\":[5,5,5,5],\"name\":\"Markdown11796\",\"text\":\"&lt;p&gt;Housing Trends&lt;/p&gt;\"},\"id\":\"1003\",\"type\":\"panel.models.markup.HTML\"},{\"attributes\":{\"data\":{\"hovertext\":[[\"Alamo Square\",\"Anza Vista\",\"Bayview\",\"Bayview Heights\",\"Bernal Heights \",\"Buena Vista Park\",\"Central Richmond\",\"Central Sunset\",\"Clarendon Heights\",\"Corona Heights\",\"Cow Hollow\",\"Croker Amazon\",\"Diamond Heights\",\"Downtown \",\"Duboce Triangle\",\"Eureka Valley/Dolores Heights\",\"Excelsior\",\"Financial District North\",\"Financial District South\",\"Forest Knolls\",\"Glen Park\",\"Golden Gate Heights\",\"Haight Ashbury\",\"Hayes Valley\",\"Hunters Point\",\"Ingleside \",\"Ingleside Heights\",\"Inner Mission\",\"Inner Parkside\",\"Inner Richmond\",\"Inner Sunset\",\"Jordan Park/Laurel Heights\",\"Lake --The Presidio\",\"Lone Mountain\",\"Lower Pacific Heights\",\"Marina\",\"Merced Heights\",\"Midtown Terrace\",\"Miraloma Park\",\"Mission Bay\",\"Mission Dolores\",\"Mission Terrace\",\"Nob Hill\",\"Noe Valley\",\"North Beach\",\"North Waterfront\",\"Oceanview\",\"Outer Mission\",\"Outer Parkside\",\"Outer Richmond \",\"Outer Sunset\",\"Pacific Heights\",\"Park North\",\"Parkside\",\"Parnassus/Ashbury Heights\",\"Portola\",\"Potrero Hill\",\"Presidio Heights\",\"Russian Hill\",\"Silver Terrace\",\"South Beach\",\"South of Market\",\"Sunnyside\",\"Telegraph Hill\",\"Twin Peaks\",\"Union Square District\",\"Van Ness/ Civic Center\",\"Visitacion Valley\",\"West Portal\",\"Western Addition\",\"Westwood Highlands\",\"Westwood Park\",\"Yerba Buena\"]],\"lat\":[{\"__ndarray__\":\"LV+X4T/lQkB1AwXeyeNCQBmto6oJ3kJAvqQxWkfdQkA2cXK/Q91CQDQMHxFT4kJAVvFG5pHjQkCVYHE4899CQPjfSnZs4EJAcQM+P4zkQkDoMF9egOVCQD/G3LWE3EJANnFyv0PdQkCMZ9DQP+VCQMPYQpCD4kJA8WjjiLXgQkC+pDFaR91CQIxn0NA/5UJAjGfQ0D/lQkAMjpJX5+BCQDZxcr9D3UJAe5+qQgPhQkDLoUW28+FCQMuhRbbz4UJA4nX9gt3cQkBIE+8AT9xCQHiXi/hO3EJAxvmbUIjgQkCVYHE4899CQAd7E0Ny4kJAlWBxOPPfQkBxAz4/jORCQIOLFTWY5kJAXW3F/rLjQkDoMF9egOVCQIP6ljld5kJAY7SOqibcQkD430p2bOBCQOAtkKD43UJAf59x4UDkQkCO6QlLPOBCQDZxcr9D3UJA6DBfXoDlQkD430p2bOBCQApoImx45kJACmgibHjmQkBjtI6qJtxCQD/G3LWE3EJAnDOitDfgQkBmg0wycuJCQJVgcTjz30JA6DBfXoDlQkC+h0uOO91CQJVgcTjz30JAL26jAbzhQkAZraOqCd5CQHb9gt2w3UJAcQM+P4zkQkDoMF9egOVCQBmto6oJ3kJAf59x4UDkQkCMZ9DQP+VCQOAtkKD43UJACmgibHjmQkDIW65+bOBCQIxn0NA/5UJA1XPS+8bjQkC+pDFaR91CQLtE9dbA3kJA6DBfXoDlQkCDL0ymCt5CQOAtkKD43UJA6DBfXoDlQkA=\",\"dtype\":\"float64\",\"order\":\"little\",\"shape\":[73]}],\"lon\":[{\"__ndarray__\":\"L26jAbyZXsA5mE2AYZxewPfuj/eqmV7A2dMOf02aXsCKH2PuWpxewLWJk/sdnF7AQspPqn2cXsB9VwT/W59ewC2VtyOcnF7Ad76fGi+dXsAge73745tewEPFOH8TnF7Aih9j7lqcXsAvbqMBvJlewOmf4GJFm17AAyFZwAScXsDZ0w5/TZpewC9uowG8mV7AL26jAbyZXsAkr84xIJ1ewIofY+5anF7AJyzxgLKdXsBPl8XE5ptewE+XxcTmm17ApFNXPsuXXsBmu0IfLJ9ewDY3picsn17AzOmymNiaXsB9VwT/W59ewEjdzr7ynl7AWoEhq1ufXsB3vp8aL51ewIjvxKwXnV7APz+MEB6dXsAge73745tewBU1mIbhnV7Aj+TyH9KdXsAtlbcjnJxewGmR7Xw/nV7AHcnlP6SZXsC6ZvLNNptewIofY+5anF7AIHu9++ObXsAtlbcjnJxewKuy74rgmV7Aq7LviuCZXsCP5PIf0p1ewEPFOH8TnF7ABoGVQ4ucXsDp1JXP8p5ewH1XBP9bn17AIHu9++ObXsDHM2jon55ewH1XBP9bn17A7MA5I0qdXsD37o/3qplewDehEAGHmF7Ad76fGi+dXsAge73745tewPfuj/eqmV7AHcnlP6SZXsAvbqMBvJlewGmR7Xw/nV7Aq7LviuCZXsBF14UfnJxewC9uowG8mV7AAkht4uSaXsDZ0w5/TZpewC9RvTWwnV7AIHu9++ObXsD/Qo8YPZ1ewGmR7Xw/nV7AVFxV9l2ZXsA=\",\"dtype\":\"float64\",\"order\":\"little\",\"shape\":[73]}],\"marker.color\":[{\"__ndarray__\":\"SZIkSZICpkCrqqqqqq+nQM3MzMzMHKJAAAAAAAA2rUCrqqqqqhCoQKuqqqqqFaVASZIkSZICpkBJkiRJkgKmQAAAAAAAlaFAAAAAAABQo0BJkiRJkgKmQKuqqqqqFaVAAAAAAACAn0BJkiRJkgKmQAAAAACAuKVASZIkSZICpkCrqqqqqq+nQEmSJEmSAqZAAAAAAABQo0AAAAAAANabQAAAAAAAp6ZAzczMzMxSpEBJkiRJkgKmQEmSJEmSAqZAAAAAAAByo0AAAAAAAJqjQAAAAAAAIKdASZIkSZICpkAAAAAAADCpQEmSJEmSAqZASZIkSZICpkBJkiRJkgKmQFVVVVVV9qNAVVVVVVX2o0BJkiRJkgKmQEmSJEmSAqZAAAAAAACsqkAAAAAAAK+kQAAAAACA1qBAVVVVVVXPpEBVVVVVVfajQM3MzMzMyqhASZIkSZICpkBJkiRJkgKmQJqZmZmZXadAzczMzMwEpkAAAAAAAASjQAAAAACAZ6dASZIkSZICpkBJkiRJkgKmQEmSJEmSAqZASZIkSZICpkBJkiRJkgKmQFVVVVVV9qNASZIkSZICpkDNzMzMzByiQEmSJEmSAqZASZIkSZICpkBJkiRJkgKmQAAAAAAAkKtAAAAAAABmoEBJkiRJkgKmQAAAAAAAp6ZASZIkSZICpkBJkiRJkgKmQFVVVVVV9qNASZIkSZICpkAAAAAAAJKsQAAAAAAAp6NAVVVVVVX2o0AAAAAAAJWhQAAAAAAA7q5AVVVVVVX2o0A=\",\"dtype\":\"float64\",\"order\":\"little\",\"shape\":[73]}],\"marker.size\":[{\"__ndarray__\":\"cJyd1VTgdkAk1Xd7HVZ3QMu7p//VkmlA/m3ou1d2gkCwicLO+AWCQOHeULPjSnxAkyM5JcKmeEDxRHrAAXt6QGAgnA3rc35AdiCNAlBcgkANV25bts+EQC2aqyMR8HJADjYuKt4ve0BAExo283Z4QAT0IiSWaX9Azb8HR/0RhECMIKw8QUx4QEysfO/MdXhARl0VIGF9fEDnKA0RdB10QMn/9wKcfoNAa+R3ASb7g0BCjahYtxh8QECb/9zsPnZABT/1V/9TZUCYt5qCUv52QPmqSlDEDHhAfmgaicfaeECrA3m3FTuAQN85W0+CqXdAyXixJK7aeUCo3p7PEouAQBsbzgZFn3lA1YI2J6jjfUADLzpc59mAQOt1/4D+PYJAfSK5L8KmiEDjM3wxFTSBQFx/3pp8XohAcr9Bp4mxgUC9Hcljpi56QAabwse6W4BAhQqU+EOjfEAzwd8Vi/OAQA1GhppZunlANYyg6lAkf0A0VzbjjqF0QGONxdbeS25ATpTGpG5QfkAuXEiRaZ59QGJw/yeBo3hAFpsVUHKMhUAyVprHuVt3QBQ4ODjDAnVAYJzjcuzFg0CTVGKj0nF0QJrMCuEbsIRAy835O80ahUBvvf+g3QeDQNMptI5cSWVAya3y7v5QhECG4cLhK9KBQP9hf/GLgoBAvQqFeA0khUCLIC7GYFZ9QCUQFDHyP4xAR1RQI2dCeUCgCCJ5dddyQMr0d9XQJ39AXWt0xv44c0BA3+aooa2AQGzQRFqzeIVAg478xK0FgkA=\",\"dtype\":\"float64\",\"order\":\"little\",\"shape\":[73]}]},\"selected\":{\"id\":\"1388\"},\"selection_policy\":{\"id\":\"1389\"}},\"id\":\"1368\",\"type\":\"ColumnDataSource\"},{\"attributes\":{\"margin\":[20,20,20,20],\"min_width\":250,\"options\":[\"Alamo Square\",\"Anza Vista\",\"Bayview\",\"Bayview Heights\",\"Bernal Heights \",\"Buena Vista Park\",\"Central Richmond\",\"Central Sunset\",\"Clarendon Heights\",\"Corona Heights\",\"Cow Hollow\",\"Croker Amazon\",\"Diamond Heights\",\"Downtown \",\"Duboce Triangle\",\"Eureka Valley/Dolores Heights\",\"Excelsior\",\"Financial District North\",\"Financial District South\",\"Forest Knolls\",\"Glen Park\",\"Golden Gate Heights\",\"Haight Ashbury\",\"Hayes Valley\",\"Hunters Point\",\"Ingleside \",\"Ingleside Heights\",\"Inner Mission\",\"Inner Parkside\",\"Inner Richmond\",\"Inner Sunset\",\"Jordan Park/Laurel Heights\",\"Lake --The Presidio\",\"Lone Mountain\",\"Lower Pacific Heights\",\"Marina\",\"Merced Heights\",\"Midtown Terrace\",\"Miraloma Park\",\"Mission Bay\",\"Mission Dolores\",\"Mission Terrace\",\"Nob Hill\",\"Noe Valley\",\"North Beach\",\"North Waterfront\",\"Oceanview\",\"Outer Mission\",\"Outer Parkside\",\"Outer Richmond \",\"Outer Sunset\",\"Pacific Heights\",\"Park North\",\"Parkside\",\"Parnassus/Ashbury Heights\",\"Portola\",\"Potrero Hill\",\"Presidio Heights\",\"Russian Hill\",\"Silver Terrace\",\"South Beach\",\"South of Market\",\"Sunnyside\",\"Telegraph Hill\",\"Twin Peaks\",\"Union Square District\",\"Van Ness/ Civic Center\",\"Visitacion Valley\",\"West Portal\",\"Western Addition\",\"Westwood Highlands\",\"Westwood Park\",\"Yerba Buena\"],\"title\":\"neighborhood\",\"value\":\"Alamo Square\",\"width\":250},\"id\":\"1222\",\"type\":\"Select\"},{\"attributes\":{\"data_source\":{\"id\":\"1036\"},\"glyph\":{\"id\":\"1039\"},\"hover_glyph\":null,\"muted_glyph\":{\"id\":\"1041\"},\"nonselection_glyph\":{\"id\":\"1040\"},\"selection_glyph\":null,\"view\":{\"id\":\"1043\"}},\"id\":\"1042\",\"type\":\"GlyphRenderer\"},{\"attributes\":{\"callback\":null,\"renderers\":[{\"id\":\"1042\"}],\"tags\":[\"hv_created\"],\"tooltips\":[[\"year\",\"@{year}\"],[\"housing_units\",\"@{housing_units}\"]]},\"id\":\"1006\",\"type\":\"HoverTool\"},{\"attributes\":{\"children\":[{\"id\":\"1222\"}],\"css_classes\":[\"panel-widget-box\"],\"margin\":[5,5,5,5],\"name\":\"WidgetBox11809\"},\"id\":\"1221\",\"type\":\"Column\"},{\"attributes\":{},\"id\":\"1240\",\"type\":\"CategoricalTicker\"},{\"attributes\":{\"active_drag\":\"auto\",\"active_inspect\":\"auto\",\"active_multi\":null,\"active_scroll\":\"auto\",\"active_tap\":\"auto\",\"tools\":[{\"id\":\"1290\"},{\"id\":\"1307\"},{\"id\":\"1308\"},{\"id\":\"1309\"},{\"id\":\"1310\"},{\"id\":\"1311\"}]},\"id\":\"1313\",\"type\":\"Toolbar\"},{\"attributes\":{\"data\":{\"gross_rent\":[1239,1530,2324,2971,3528,3739,4390],\"year\":[2010,2011,2012,2013,2014,2015,2016]},\"selected\":{\"id\":\"1115\"},\"selection_policy\":{\"id\":\"1131\"}},\"id\":\"1114\",\"type\":\"ColumnDataSource\"},{\"attributes\":{\"margin\":[20,20,20,20],\"min_width\":250,\"options\":[\"Alamo Square\",\"Anza Vista\",\"Bayview\",\"Bayview Heights\",\"Bernal Heights \",\"Buena Vista Park\",\"Central Richmond\",\"Central Sunset\",\"Clarendon Heights\",\"Corona Heights\",\"Cow Hollow\",\"Croker Amazon\",\"Diamond Heights\",\"Downtown \",\"Duboce Triangle\",\"Eureka Valley/Dolores Heights\",\"Excelsior\",\"Financial District North\",\"Financial District South\",\"Forest Knolls\",\"Glen Park\",\"Golden Gate Heights\",\"Haight Ashbury\",\"Hayes Valley\",\"Hunters Point\",\"Ingleside \",\"Ingleside Heights\",\"Inner Mission\",\"Inner Parkside\",\"Inner Richmond\",\"Inner Sunset\",\"Jordan Park/Laurel Heights\",\"Lake --The Presidio\",\"Lone Mountain\",\"Lower Pacific Heights\",\"Marina\",\"Merced Heights\",\"Midtown Terrace\",\"Miraloma Park\",\"Mission Bay\",\"Mission Dolores\",\"Mission Terrace\",\"Nob Hill\",\"Noe Valley\",\"North Beach\",\"North Waterfront\",\"Oceanview\",\"Outer Mission\",\"Outer Parkside\",\"Outer Richmond \",\"Outer Sunset\",\"Pacific Heights\",\"Park North\",\"Parkside\",\"Parnassus/Ashbury Heights\",\"Portola\",\"Potrero Hill\",\"Presidio Heights\",\"Russian Hill\",\"Silver Terrace\",\"South Beach\",\"South of Market\",\"Sunnyside\",\"Telegraph Hill\",\"Twin Peaks\",\"Union Square District\",\"Van Ness/ Civic Center\",\"Visitacion Valley\",\"West Portal\",\"Western Addition\",\"Westwood Highlands\",\"Westwood Park\",\"Yerba Buena\"],\"title\":\"neighborhood\",\"value\":\"Alamo Square\",\"width\":250},\"id\":\"1359\",\"type\":\"Select\"},{\"attributes\":{\"_render_count\":0,\"config\":null,\"data\":[{\"branchvalues\":\"total\",\"domain\":{\"x\":[0.0,1.0],\"y\":[0.0,1.0]},\"hovertemplate\":\"labels=%{label}<br>gross_rent_sum=%{value}<br>parent=%{parent}<br>id=%{id}<br>gross_rent=%{color}<extra></extra>\",\"marker\":{\"coloraxis\":\"coloraxis\"},\"name\":\"\",\"type\":\"sunburst\"}],\"data_sources\":[{\"id\":\"1361\"}],\"layout\":{\"coloraxis\":{\"colorbar\":{\"title\":{\"text\":\"gross_rent\"}},\"colorscale\":[[0.0,\"#0d0887\"],[0.1111111111111111,\"#46039f\"],[0.2222222222222222,\"#7201a8\"],[0.3333333333333333,\"#9c179e\"],[0.4444444444444444,\"#bd3786\"],[0.5555555555555556,\"#d8576b\"],[0.6666666666666666,\"#ed7953\"],[0.7777777777777778,\"#fb9f3a\"],[0.8888888888888888,\"#fdca26\"],[1.0,\"#f0f921\"]]},\"legend\":{\"tracegroupgap\":0},\"template\":{\"data\":{\"bar\":[{\"error_x\":{\"color\":\"#2a3f5f\"},\"error_y\":{\"color\":\"#2a3f5f\"},\"marker\":{\"line\":{\"color\":\"#E5ECF6\",\"width\":0.5}},\"type\":\"bar\"}],\"barpolar\":[{\"marker\":{\"line\":{\"color\":\"#E5ECF6\",\"width\":0.5}},\"type\":\"barpolar\"}],\"carpet\":[{\"aaxis\":{\"endlinecolor\":\"#2a3f5f\",\"gridcolor\":\"white\",\"linecolor\":\"white\",\"minorgridcolor\":\"white\",\"startlinecolor\":\"#2a3f5f\"},\"baxis\":{\"endlinecolor\":\"#2a3f5f\",\"gridcolor\":\"white\",\"linecolor\":\"white\",\"minorgridcolor\":\"white\",\"startlinecolor\":\"#2a3f5f\"},\"type\":\"carpet\"}],\"choropleth\":[{\"colorbar\":{\"outlinewidth\":0,\"ticks\":\"\"},\"type\":\"choropleth\"}],\"contour\":[{\"colorbar\":{\"outlinewidth\":0,\"ticks\":\"\"},\"colorscale\":[[0.0,\"#0d0887\"],[0.1111111111111111,\"#46039f\"],[0.2222222222222222,\"#7201a8\"],[0.3333333333333333,\"#9c179e\"],[0.4444444444444444,\"#bd3786\"],[0.5555555555555556,\"#d8576b\"],[0.6666666666666666,\"#ed7953\"],[0.7777777777777778,\"#fb9f3a\"],[0.8888888888888888,\"#fdca26\"],[1.0,\"#f0f921\"]],\"type\":\"contour\"}],\"contourcarpet\":[{\"colorbar\":{\"outlinewidth\":0,\"ticks\":\"\"},\"type\":\"contourcarpet\"}],\"heatmap\":[{\"colorbar\":{\"outlinewidth\":0,\"ticks\":\"\"},\"colorscale\":[[0.0,\"#0d0887\"],[0.1111111111111111,\"#46039f\"],[0.2222222222222222,\"#7201a8\"],[0.3333333333333333,\"#9c179e\"],[0.4444444444444444,\"#bd3786\"],[0.5555555555555556,\"#d8576b\"],[0.6666666666666666,\"#ed7953\"],[0.7777777777777778,\"#fb9f3a\"],[0.8888888888888888,\"#fdca26\"],[1.0,\"#f0f921\"]],\"type\":\"heatmap\"}],\"heatmapgl\":[{\"colorbar\":{\"outlinewidth\":0,\"ticks\":\"\"},\"colorscale\":[[0.0,\"#0d0887\"],[0.1111111111111111,\"#46039f\"],[0.2222222222222222,\"#7201a8\"],[0.3333333333333333,\"#9c179e\"],[0.4444444444444444,\"#bd3786\"],[0.5555555555555556,\"#d8576b\"],[0.6666666666666666,\"#ed7953\"],[0.7777777777777778,\"#fb9f3a\"],[0.8888888888888888,\"#fdca26\"],[1.0,\"#f0f921\"]],\"type\":\"heatmapgl\"}],\"histogram\":[{\"marker\":{\"colorbar\":{\"outlinewidth\":0,\"ticks\":\"\"}},\"type\":\"histogram\"}],\"histogram2d\":[{\"colorbar\":{\"outlinewidth\":0,\"ticks\":\"\"},\"colorscale\":[[0.0,\"#0d0887\"],[0.1111111111111111,\"#46039f\"],[0.2222222222222222,\"#7201a8\"],[0.3333333333333333,\"#9c179e\"],[0.4444444444444444,\"#bd3786\"],[0.5555555555555556,\"#d8576b\"],[0.6666666666666666,\"#ed7953\"],[0.7777777777777778,\"#fb9f3a\"],[0.8888888888888888,\"#fdca26\"],[1.0,\"#f0f921\"]],\"type\":\"histogram2d\"}],\"histogram2dcontour\":[{\"colorbar\":{\"outlinewidth\":0,\"ticks\":\"\"},\"colorscale\":[[0.0,\"#0d0887\"],[0.1111111111111111,\"#46039f\"],[0.2222222222222222,\"#7201a8\"],[0.3333333333333333,\"#9c179e\"],[0.4444444444444444,\"#bd3786\"],[0.5555555555555556,\"#d8576b\"],[0.6666666666666666,\"#ed7953\"],[0.7777777777777778,\"#fb9f3a\"],[0.8888888888888888,\"#fdca26\"],[1.0,\"#f0f921\"]],\"type\":\"histogram2dcontour\"}],\"mesh3d\":[{\"colorbar\":{\"outlinewidth\":0,\"ticks\":\"\"},\"type\":\"mesh3d\"}],\"parcoords\":[{\"line\":{\"colorbar\":{\"outlinewidth\":0,\"ticks\":\"\"}},\"type\":\"parcoords\"}],\"pie\":[{\"automargin\":true,\"type\":\"pie\"}],\"scatter\":[{\"marker\":{\"colorbar\":{\"outlinewidth\":0,\"ticks\":\"\"}},\"type\":\"scatter\"}],\"scatter3d\":[{\"line\":{\"colorbar\":{\"outlinewidth\":0,\"ticks\":\"\"}},\"marker\":{\"colorbar\":{\"outlinewidth\":0,\"ticks\":\"\"}},\"type\":\"scatter3d\"}],\"scattercarpet\":[{\"marker\":{\"colorbar\":{\"outlinewidth\":0,\"ticks\":\"\"}},\"type\":\"scattercarpet\"}],\"scattergeo\":[{\"marker\":{\"colorbar\":{\"outlinewidth\":0,\"ticks\":\"\"}},\"type\":\"scattergeo\"}],\"scattergl\":[{\"marker\":{\"colorbar\":{\"outlinewidth\":0,\"ticks\":\"\"}},\"type\":\"scattergl\"}],\"scattermapbox\":[{\"marker\":{\"colorbar\":{\"outlinewidth\":0,\"ticks\":\"\"}},\"type\":\"scattermapbox\"}],\"scatterpolar\":[{\"marker\":{\"colorbar\":{\"outlinewidth\":0,\"ticks\":\"\"}},\"type\":\"scatterpolar\"}],\"scatterpolargl\":[{\"marker\":{\"colorbar\":{\"outlinewidth\":0,\"ticks\":\"\"}},\"type\":\"scatterpolargl\"}],\"scatterternary\":[{\"marker\":{\"colorbar\":{\"outlinewidth\":0,\"ticks\":\"\"}},\"type\":\"scatterternary\"}],\"surface\":[{\"colorbar\":{\"outlinewidth\":0,\"ticks\":\"\"},\"colorscale\":[[0.0,\"#0d0887\"],[0.1111111111111111,\"#46039f\"],[0.2222222222222222,\"#7201a8\"],[0.3333333333333333,\"#9c179e\"],[0.4444444444444444,\"#bd3786\"],[0.5555555555555556,\"#d8576b\"],[0.6666666666666666,\"#ed7953\"],[0.7777777777777778,\"#fb9f3a\"],[0.8888888888888888,\"#fdca26\"],[1.0,\"#f0f921\"]],\"type\":\"surface\"}],\"table\":[{\"cells\":{\"fill\":{\"color\":\"#EBF0F8\"},\"line\":{\"color\":\"white\"}},\"header\":{\"fill\":{\"color\":\"#C8D4E3\"},\"line\":{\"color\":\"white\"}},\"type\":\"table\"}]},\"layout\":{\"annotationdefaults\":{\"arrowcolor\":\"#2a3f5f\",\"arrowhead\":0,\"arrowwidth\":1},\"autotypenumbers\":\"strict\",\"coloraxis\":{\"colorbar\":{\"outlinewidth\":0,\"ticks\":\"\"}},\"colorscale\":{\"diverging\":[[0,\"#8e0152\"],[0.1,\"#c51b7d\"],[0.2,\"#de77ae\"],[0.3,\"#f1b6da\"],[0.4,\"#fde0ef\"],[0.5,\"#f7f7f7\"],[0.6,\"#e6f5d0\"],[0.7,\"#b8e186\"],[0.8,\"#7fbc41\"],[0.9,\"#4d9221\"],[1,\"#276419\"]],\"sequential\":[[0.0,\"#0d0887\"],[0.1111111111111111,\"#46039f\"],[0.2222222222222222,\"#7201a8\"],[0.3333333333333333,\"#9c179e\"],[0.4444444444444444,\"#bd3786\"],[0.5555555555555556,\"#d8576b\"],[0.6666666666666666,\"#ed7953\"],[0.7777777777777778,\"#fb9f3a\"],[0.8888888888888888,\"#fdca26\"],[1.0,\"#f0f921\"]],\"sequentialminus\":[[0.0,\"#0d0887\"],[0.1111111111111111,\"#46039f\"],[0.2222222222222222,\"#7201a8\"],[0.3333333333333333,\"#9c179e\"],[0.4444444444444444,\"#bd3786\"],[0.5555555555555556,\"#d8576b\"],[0.6666666666666666,\"#ed7953\"],[0.7777777777777778,\"#fb9f3a\"],[0.8888888888888888,\"#fdca26\"],[1.0,\"#f0f921\"]]},\"colorway\":[\"#636efa\",\"#EF553B\",\"#00cc96\",\"#ab63fa\",\"#FFA15A\",\"#19d3f3\",\"#FF6692\",\"#B6E880\",\"#FF97FF\",\"#FECB52\"],\"font\":{\"color\":\"#2a3f5f\"},\"geo\":{\"bgcolor\":\"white\",\"lakecolor\":\"white\",\"landcolor\":\"#E5ECF6\",\"showlakes\":true,\"showland\":true,\"subunitcolor\":\"white\"},\"hoverlabel\":{\"align\":\"left\"},\"hovermode\":\"closest\",\"mapbox\":{\"style\":\"light\"},\"paper_bgcolor\":\"white\",\"plot_bgcolor\":\"#E5ECF6\",\"polar\":{\"angularaxis\":{\"gridcolor\":\"white\",\"linecolor\":\"white\",\"ticks\":\"\"},\"bgcolor\":\"#E5ECF6\",\"radialaxis\":{\"gridcolor\":\"white\",\"linecolor\":\"white\",\"ticks\":\"\"}},\"scene\":{\"xaxis\":{\"backgroundcolor\":\"#E5ECF6\",\"gridcolor\":\"white\",\"gridwidth\":2,\"linecolor\":\"white\",\"showbackground\":true,\"ticks\":\"\",\"zerolinecolor\":\"white\"},\"yaxis\":{\"backgroundcolor\":\"#E5ECF6\",\"gridcolor\":\"white\",\"gridwidth\":2,\"linecolor\":\"white\",\"showbackground\":true,\"ticks\":\"\",\"zerolinecolor\":\"white\"},\"zaxis\":{\"backgroundcolor\":\"#E5ECF6\",\"gridcolor\":\"white\",\"gridwidth\":2,\"linecolor\":\"white\",\"showbackground\":true,\"ticks\":\"\",\"zerolinecolor\":\"white\"}},\"shapedefaults\":{\"line\":{\"color\":\"#2a3f5f\"}},\"ternary\":{\"aaxis\":{\"gridcolor\":\"white\",\"linecolor\":\"white\",\"ticks\":\"\"},\"baxis\":{\"gridcolor\":\"white\",\"linecolor\":\"white\",\"ticks\":\"\"},\"bgcolor\":\"#E5ECF6\",\"caxis\":{\"gridcolor\":\"white\",\"linecolor\":\"white\",\"ticks\":\"\"}},\"title\":{\"x\":0.05},\"xaxis\":{\"automargin\":true,\"gridcolor\":\"white\",\"linecolor\":\"white\",\"ticks\":\"\",\"title\":{\"standoff\":15},\"zerolinecolor\":\"white\",\"zerolinewidth\":2},\"yaxis\":{\"automargin\":true,\"gridcolor\":\"white\",\"linecolor\":\"white\",\"ticks\":\"\",\"title\":{\"standoff\":15},\"zerolinecolor\":\"white\",\"zerolinewidth\":2}}},\"title\":{\"text\":\"Cost analysis of the most expensive neighborhoods in SFO\"}},\"margin\":[5,5,5,5],\"name\":\"Plotly16016\",\"viewport_update_throttle\":200},\"id\":\"1362\",\"type\":\"panel.models.plotly.PlotlyPlot\"},{\"attributes\":{\"active_drag\":\"auto\",\"active_inspect\":\"auto\",\"active_multi\":null,\"active_scroll\":\"auto\",\"active_tap\":\"auto\",\"tools\":[{\"id\":\"1229\"},{\"id\":\"1246\"},{\"id\":\"1247\"},{\"id\":\"1248\"},{\"id\":\"1249\"},{\"id\":\"1250\"}]},\"id\":\"1252\",\"type\":\"Toolbar\"},{\"attributes\":{\"fill_alpha\":{\"value\":0.2},\"fill_color\":{\"value\":\"#30a2da\"},\"line_alpha\":{\"value\":0.2},\"top\":{\"field\":\"housing_units\"},\"width\":{\"value\":0.8},\"x\":{\"field\":\"year\"}},\"id\":\"1041\",\"type\":\"VBar\"},{\"attributes\":{\"callback\":null,\"renderers\":[{\"id\":\"1265\"}],\"tags\":[\"hv_created\"],\"tooltips\":[[\"neighborhood\",\"@{neighborhood}\"],[\"sale_price_sqr_foot\",\"@{sale_price_sqr_foot}\"]]},\"id\":\"1229\",\"type\":\"HoverTool\"},{\"attributes\":{},\"id\":\"1322\",\"type\":\"Selection\"}],\"root_ids\":[\"1001\",\"1492\",\"1613\"]},\"title\":\"Bokeh Application\",\"version\":\"2.2.3\"}};\n    var render_items = [{\"docid\":\"0d1f3d32-7203-4cc4-8ff3-7713df824c5f\",\"root_ids\":[\"1001\"],\"roots\":{\"1001\":\"1c114ac0-3406-42c3-af86-5a9126e14458\"}}];\n    root.Bokeh.embed.embed_items_notebook(docs_json, render_items);\n  }\n  if (root.Bokeh !== undefined && root.Bokeh.Panel !== undefined && root['Plotly'] !== undefined ) {\n    embed_document(root);\n  } else {\n    var attempts = 0;\n    var timer = setInterval(function(root) {\n      if (root.Bokeh !== undefined && root.Bokeh.Panel !== undefined && root['Plotly'] !== undefined) {\n        clearInterval(timer);\n        embed_document(root);\n      } else if (document.readyState == \"complete\") {\n        attempts++;\n        if (attempts > 100) {\n          clearInterval(timer);\n          console.log(\"Bokeh: ERROR: Unable to run BokehJS code because BokehJS library is missing\");\n        }\n      }\n    }, 10, root)\n  }\n})(window);</script>",
      "application/vnd.holoviews_exec.v0+json": "",
      "text/plain": [
       "Tabs\n",
       "    [0] Column\n",
       "        [0] Markdown(str)\n",
       "        [1] HoloViews(Bars)\n",
       "        [2] Str(AxesSubplot)\n",
       "        [3] Str(AxesSubplot)\n",
       "        [4] Row\n",
       "            [0] HoloViews(HoloMap)\n",
       "            [1] Column\n",
       "                [0] WidgetBox\n",
       "                    [0] Select(margin=(20, 20, 20, 20), name='neighborhood', options=['Alamo Square', ...], value='Alamo Square', width=250)\n",
       "                [1] VSpacer()\n",
       "    [1] Column\n",
       "        [0] Markdown(str)\n",
       "        [1] HoloViews(Bars)\n",
       "        [2] Row\n",
       "            [0] HoloViews(HoloMap)\n",
       "            [1] Column\n",
       "                [0] WidgetBox\n",
       "                    [0] Select(margin=(20, 20, 20, 20), name='neighborhood', options=['Alamo Square', ...], value='Alamo Square', width=250)\n",
       "                [1] VSpacer()\n",
       "        [3] Plotly(Figure)\n",
       "    [2] Column\n",
       "        [0] Markdown(str)\n",
       "        [1] Plotly(Figure)\n",
       "        [2] Plotly(Figure)\n",
       "        [3] Str(None)"
      ]
     },
     "metadata": {
      "application/vnd.holoviews_exec.v0+json": {
       "id": "1001"
      }
     },
     "execution_count": 15
    }
   ],
   "source": [
    "# Serve the# dashboard\n",
    "SFO_dashboard.servable()"
   ]
  },
  {
   "cell_type": "markdown",
   "metadata": {},
   "source": [
    "# Debugging\n",
    "\n",
    "Note: Some of the Plotly express plots may not render in the notebook through the panel functions.\n",
    "\n",
    "However, you can test each plot by uncommenting the following code"
   ]
  },
  {
   "cell_type": "code",
   "execution_count": 16,
   "metadata": {},
   "outputs": [
    {
     "output_type": "display_data",
     "data": {},
     "metadata": {}
    },
    {
     "output_type": "execute_result",
     "data": {
      "text/html": "<div id='1734'>\n\n\n\n\n\n  <div class=\"bk-root\" id=\"5e554d8b-1c68-40ff-974a-e7bae3bbfd39\" data-root-id=\"1734\"></div>\n</div>\n<script type=\"application/javascript\">(function(root) {\n  function embed_document(root) {\n    var docs_json = {\"1f2a2249-444a-4e0e-a6c3-8323979b7116\":{\"roots\":{\"references\":[{\"attributes\":{\"axis_label\":\"year\",\"bounds\":\"auto\",\"formatter\":{\"id\":\"1776\"},\"major_label_orientation\":\"horizontal\",\"ticker\":{\"id\":\"1749\"}},\"id\":\"1748\",\"type\":\"CategoricalAxis\"},{\"attributes\":{\"axis\":{\"id\":\"1748\"},\"grid_line_color\":null,\"ticker\":null},\"id\":\"1750\",\"type\":\"Grid\"},{\"attributes\":{\"factors\":[\"2010\",\"2011\",\"2012\",\"2013\",\"2014\",\"2015\",\"2016\"],\"tags\":[[[\"year\",\"year\",null]]]},\"id\":\"1736\",\"type\":\"FactorRange\"},{\"attributes\":{\"fill_alpha\":{\"value\":0.1},\"fill_color\":{\"value\":\"#30a2da\"},\"line_alpha\":{\"value\":0.1},\"top\":{\"field\":\"housing_units\"},\"width\":{\"value\":0.8},\"x\":{\"field\":\"year\"}},\"id\":\"1772\",\"type\":\"VBar\"},{\"attributes\":{},\"id\":\"1744\",\"type\":\"CategoricalScale\"},{\"attributes\":{},\"id\":\"1752\",\"type\":\"BasicTicker\"},{\"attributes\":{\"active_drag\":\"auto\",\"active_inspect\":\"auto\",\"active_multi\":null,\"active_scroll\":\"auto\",\"active_tap\":\"auto\",\"tools\":[{\"id\":\"1738\"},{\"id\":\"1755\"},{\"id\":\"1756\"},{\"id\":\"1757\"},{\"id\":\"1758\"},{\"id\":\"1759\"}]},\"id\":\"1761\",\"type\":\"Toolbar\"},{\"attributes\":{},\"id\":\"1746\",\"type\":\"LinearScale\"},{\"attributes\":{\"axis_label\":\"housing_units\",\"bounds\":\"auto\",\"formatter\":{\"id\":\"1778\"},\"major_label_orientation\":\"horizontal\",\"ticker\":{\"id\":\"1752\"}},\"id\":\"1751\",\"type\":\"LinearAxis\"},{\"attributes\":{\"axis\":{\"id\":\"1751\"},\"dimension\":1,\"grid_line_color\":null,\"ticker\":null},\"id\":\"1754\",\"type\":\"Grid\"},{\"attributes\":{},\"id\":\"1749\",\"type\":\"CategoricalTicker\"},{\"attributes\":{\"fill_alpha\":{\"value\":0.2},\"fill_color\":{\"value\":\"#30a2da\"},\"line_alpha\":{\"value\":0.2},\"top\":{\"field\":\"housing_units\"},\"width\":{\"value\":0.8},\"x\":{\"field\":\"year\"}},\"id\":\"1773\",\"type\":\"VBar\"},{\"attributes\":{\"data\":{\"housing_units\":[372560,374507,376454,378401,380348,382295,384242],\"year\":[\"2010\",\"2011\",\"2012\",\"2013\",\"2014\",\"2015\",\"2016\"]},\"selected\":{\"id\":\"1769\"},\"selection_policy\":{\"id\":\"1787\"}},\"id\":\"1768\",\"type\":\"ColumnDataSource\"},{\"attributes\":{\"below\":[{\"id\":\"1748\"}],\"center\":[{\"id\":\"1750\"},{\"id\":\"1754\"}],\"left\":[{\"id\":\"1751\"}],\"margin\":[5,5,5,5],\"min_border_bottom\":10,\"min_border_left\":10,\"min_border_right\":10,\"min_border_top\":10,\"plot_height\":300,\"plot_width\":700,\"renderers\":[{\"id\":\"1774\"}],\"sizing_mode\":\"fixed\",\"title\":{\"id\":\"1740\"},\"toolbar\":{\"id\":\"1761\"},\"x_range\":{\"id\":\"1736\"},\"x_scale\":{\"id\":\"1744\"},\"y_range\":{\"id\":\"1737\"},\"y_scale\":{\"id\":\"1746\"}},\"id\":\"1739\",\"subtype\":\"Figure\",\"type\":\"Plot\"},{\"attributes\":{\"bottom_units\":\"screen\",\"fill_alpha\":0.5,\"fill_color\":\"lightgrey\",\"left_units\":\"screen\",\"level\":\"overlay\",\"line_alpha\":1.0,\"line_color\":\"black\",\"line_dash\":[4,4],\"line_width\":2,\"right_units\":\"screen\",\"top_units\":\"screen\"},\"id\":\"1760\",\"type\":\"BoxAnnotation\"},{\"attributes\":{\"margin\":[5,5,5,5],\"name\":\"HSpacer19872\",\"sizing_mode\":\"stretch_width\"},\"id\":\"1735\",\"type\":\"Spacer\"},{\"attributes\":{\"children\":[{\"id\":\"1735\"},{\"id\":\"1739\"},{\"id\":\"1796\"}],\"margin\":[0,0,0,0],\"name\":\"Row19868\",\"tags\":[\"embedded\"]},\"id\":\"1734\",\"type\":\"Row\"},{\"attributes\":{\"fill_color\":{\"value\":\"#30a2da\"},\"top\":{\"field\":\"housing_units\"},\"width\":{\"value\":0.8},\"x\":{\"field\":\"year\"}},\"id\":\"1771\",\"type\":\"VBar\"},{\"attributes\":{\"end\":390000,\"reset_end\":390000,\"reset_start\":350000,\"start\":350000,\"tags\":[[[\"housing_units\",\"housing_units\",null]]]},\"id\":\"1737\",\"type\":\"Range1d\"},{\"attributes\":{},\"id\":\"1776\",\"type\":\"CategoricalTickFormatter\"},{\"attributes\":{},\"id\":\"1769\",\"type\":\"Selection\"},{\"attributes\":{},\"id\":\"1756\",\"type\":\"PanTool\"},{\"attributes\":{\"text\":\"Average housing units per year\",\"text_color\":{\"value\":\"black\"},\"text_font_size\":{\"value\":\"12pt\"}},\"id\":\"1740\",\"type\":\"Title\"},{\"attributes\":{},\"id\":\"1759\",\"type\":\"ResetTool\"},{\"attributes\":{\"margin\":[5,5,5,5],\"name\":\"HSpacer19873\",\"sizing_mode\":\"stretch_width\"},\"id\":\"1796\",\"type\":\"Spacer\"},{\"attributes\":{\"data_source\":{\"id\":\"1768\"},\"glyph\":{\"id\":\"1771\"},\"hover_glyph\":null,\"muted_glyph\":{\"id\":\"1773\"},\"nonselection_glyph\":{\"id\":\"1772\"},\"selection_glyph\":null,\"view\":{\"id\":\"1775\"}},\"id\":\"1774\",\"type\":\"GlyphRenderer\"},{\"attributes\":{},\"id\":\"1755\",\"type\":\"SaveTool\"},{\"attributes\":{\"source\":{\"id\":\"1768\"}},\"id\":\"1775\",\"type\":\"CDSView\"},{\"attributes\":{\"callback\":null,\"renderers\":[{\"id\":\"1774\"}],\"tags\":[\"hv_created\"],\"tooltips\":[[\"year\",\"@{year}\"],[\"housing_units\",\"@{housing_units}\"]]},\"id\":\"1738\",\"type\":\"HoverTool\"},{\"attributes\":{},\"id\":\"1757\",\"type\":\"WheelZoomTool\"},{\"attributes\":{},\"id\":\"1778\",\"type\":\"BasicTickFormatter\"},{\"attributes\":{\"overlay\":{\"id\":\"1760\"}},\"id\":\"1758\",\"type\":\"BoxZoomTool\"},{\"attributes\":{},\"id\":\"1787\",\"type\":\"UnionRenderers\"}],\"root_ids\":[\"1734\"]},\"title\":\"Bokeh Application\",\"version\":\"2.2.3\"}};\n    var render_items = [{\"docid\":\"1f2a2249-444a-4e0e-a6c3-8323979b7116\",\"root_ids\":[\"1734\"],\"roots\":{\"1734\":\"5e554d8b-1c68-40ff-974a-e7bae3bbfd39\"}}];\n    root.Bokeh.embed.embed_items_notebook(docs_json, render_items);\n  }\n  if (root.Bokeh !== undefined && root.Bokeh.Panel !== undefined && root['Plotly'] !== undefined ) {\n    embed_document(root);\n  } else {\n    var attempts = 0;\n    var timer = setInterval(function(root) {\n      if (root.Bokeh !== undefined && root.Bokeh.Panel !== undefined && root['Plotly'] !== undefined) {\n        clearInterval(timer);\n        embed_document(root);\n      } else if (document.readyState == \"complete\") {\n        attempts++;\n        if (attempts > 100) {\n          clearInterval(timer);\n          console.log(\"Bokeh: ERROR: Unable to run BokehJS code because BokehJS library is missing\");\n        }\n      }\n    }, 10, root)\n  }\n})(window);</script>",
      "application/vnd.holoviews_exec.v0+json": "",
      "text/plain": [
       ":Bars   [year]   (housing_units)"
      ]
     },
     "metadata": {
      "application/vnd.holoviews_exec.v0+json": {
       "id": "1734"
      }
     },
     "execution_count": 16
    }
   ],
   "source": [
    "housing_units_per_year()"
   ]
  },
  {
   "cell_type": "code",
   "execution_count": 17,
   "metadata": {},
   "outputs": [
    {
     "output_type": "execute_result",
     "data": {
      "text/plain": [
       "<matplotlib.axes._subplots.AxesSubplot at 0x21507495408>"
      ]
     },
     "metadata": {},
     "execution_count": 17
    },
    {
     "output_type": "display_data",
     "data": {
      "text/plain": "<Figure size 432x288 with 1 Axes>",
      "image/svg+xml": "<?xml version=\"1.0\" encoding=\"utf-8\" standalone=\"no\"?>\r\n<!DOCTYPE svg PUBLIC \"-//W3C//DTD SVG 1.1//EN\"\r\n  \"http://www.w3.org/Graphics/SVG/1.1/DTD/svg11.dtd\">\r\n<!-- Created with matplotlib (https://matplotlib.org/) -->\r\n<svg height=\"277.314375pt\" version=\"1.1\" viewBox=\"0 0 394.375 277.314375\" width=\"394.375pt\" xmlns=\"http://www.w3.org/2000/svg\" xmlns:xlink=\"http://www.w3.org/1999/xlink\">\r\n <defs>\r\n  <style type=\"text/css\">\r\n*{stroke-linecap:butt;stroke-linejoin:round;}\r\n  </style>\r\n </defs>\r\n <g id=\"figure_1\">\r\n  <g id=\"patch_1\">\r\n   <path d=\"M -0 277.314375 \r\nL 394.375 277.314375 \r\nL 394.375 0 \r\nL -0 0 \r\nz\r\n\" style=\"fill:none;\"/>\r\n  </g>\r\n  <g id=\"axes_1\">\r\n   <g id=\"patch_2\">\r\n    <path d=\"M 39.65 239.758125 \r\nL 374.45 239.758125 \r\nL 374.45 22.318125 \r\nL 39.65 22.318125 \r\nz\r\n\" style=\"fill:#ffffff;\"/>\r\n   </g>\r\n   <g id=\"matplotlib.axis_1\">\r\n    <g id=\"xtick_1\">\r\n     <g id=\"line2d_1\">\r\n      <defs>\r\n       <path d=\"M 0 0 \r\nL 0 3.5 \r\n\" id=\"m79d3adc121\" style=\"stroke:#000000;stroke-width:0.8;\"/>\r\n      </defs>\r\n      <g>\r\n       <use style=\"stroke:#000000;stroke-width:0.8;\" x=\"39.65\" xlink:href=\"#m79d3adc121\" y=\"239.758125\"/>\r\n      </g>\r\n     </g>\r\n     <g id=\"text_1\">\r\n      <!-- 2010 -->\r\n      <defs>\r\n       <path d=\"M 19.1875 8.296875 \r\nL 53.609375 8.296875 \r\nL 53.609375 0 \r\nL 7.328125 0 \r\nL 7.328125 8.296875 \r\nQ 12.9375 14.109375 22.625 23.890625 \r\nQ 32.328125 33.6875 34.8125 36.53125 \r\nQ 39.546875 41.84375 41.421875 45.53125 \r\nQ 43.3125 49.21875 43.3125 52.78125 \r\nQ 43.3125 58.59375 39.234375 62.25 \r\nQ 35.15625 65.921875 28.609375 65.921875 \r\nQ 23.96875 65.921875 18.8125 64.3125 \r\nQ 13.671875 62.703125 7.8125 59.421875 \r\nL 7.8125 69.390625 \r\nQ 13.765625 71.78125 18.9375 73 \r\nQ 24.125 74.21875 28.421875 74.21875 \r\nQ 39.75 74.21875 46.484375 68.546875 \r\nQ 53.21875 62.890625 53.21875 53.421875 \r\nQ 53.21875 48.921875 51.53125 44.890625 \r\nQ 49.859375 40.875 45.40625 35.40625 \r\nQ 44.1875 33.984375 37.640625 27.21875 \r\nQ 31.109375 20.453125 19.1875 8.296875 \r\nz\r\n\" id=\"DejaVuSans-50\"/>\r\n       <path d=\"M 31.78125 66.40625 \r\nQ 24.171875 66.40625 20.328125 58.90625 \r\nQ 16.5 51.421875 16.5 36.375 \r\nQ 16.5 21.390625 20.328125 13.890625 \r\nQ 24.171875 6.390625 31.78125 6.390625 \r\nQ 39.453125 6.390625 43.28125 13.890625 \r\nQ 47.125 21.390625 47.125 36.375 \r\nQ 47.125 51.421875 43.28125 58.90625 \r\nQ 39.453125 66.40625 31.78125 66.40625 \r\nz\r\nM 31.78125 74.21875 \r\nQ 44.046875 74.21875 50.515625 64.515625 \r\nQ 56.984375 54.828125 56.984375 36.375 \r\nQ 56.984375 17.96875 50.515625 8.265625 \r\nQ 44.046875 -1.421875 31.78125 -1.421875 \r\nQ 19.53125 -1.421875 13.0625 8.265625 \r\nQ 6.59375 17.96875 6.59375 36.375 \r\nQ 6.59375 54.828125 13.0625 64.515625 \r\nQ 19.53125 74.21875 31.78125 74.21875 \r\nz\r\n\" id=\"DejaVuSans-48\"/>\r\n       <path d=\"M 12.40625 8.296875 \r\nL 28.515625 8.296875 \r\nL 28.515625 63.921875 \r\nL 10.984375 60.40625 \r\nL 10.984375 69.390625 \r\nL 28.421875 72.90625 \r\nL 38.28125 72.90625 \r\nL 38.28125 8.296875 \r\nL 54.390625 8.296875 \r\nL 54.390625 0 \r\nL 12.40625 0 \r\nz\r\n\" id=\"DejaVuSans-49\"/>\r\n      </defs>\r\n      <g transform=\"translate(26.925 254.356562)scale(0.1 -0.1)\">\r\n       <use xlink:href=\"#DejaVuSans-50\"/>\r\n       <use x=\"63.623047\" xlink:href=\"#DejaVuSans-48\"/>\r\n       <use x=\"127.246094\" xlink:href=\"#DejaVuSans-49\"/>\r\n       <use x=\"190.869141\" xlink:href=\"#DejaVuSans-48\"/>\r\n      </g>\r\n     </g>\r\n    </g>\r\n    <g id=\"xtick_2\">\r\n     <g id=\"line2d_2\">\r\n      <g>\r\n       <use style=\"stroke:#000000;stroke-width:0.8;\" x=\"95.45\" xlink:href=\"#m79d3adc121\" y=\"239.758125\"/>\r\n      </g>\r\n     </g>\r\n     <g id=\"text_2\">\r\n      <!-- 2011 -->\r\n      <g transform=\"translate(82.725 254.356562)scale(0.1 -0.1)\">\r\n       <use xlink:href=\"#DejaVuSans-50\"/>\r\n       <use x=\"63.623047\" xlink:href=\"#DejaVuSans-48\"/>\r\n       <use x=\"127.246094\" xlink:href=\"#DejaVuSans-49\"/>\r\n       <use x=\"190.869141\" xlink:href=\"#DejaVuSans-49\"/>\r\n      </g>\r\n     </g>\r\n    </g>\r\n    <g id=\"xtick_3\">\r\n     <g id=\"line2d_3\">\r\n      <g>\r\n       <use style=\"stroke:#000000;stroke-width:0.8;\" x=\"151.25\" xlink:href=\"#m79d3adc121\" y=\"239.758125\"/>\r\n      </g>\r\n     </g>\r\n     <g id=\"text_3\">\r\n      <!-- 2012 -->\r\n      <g transform=\"translate(138.525 254.356562)scale(0.1 -0.1)\">\r\n       <use xlink:href=\"#DejaVuSans-50\"/>\r\n       <use x=\"63.623047\" xlink:href=\"#DejaVuSans-48\"/>\r\n       <use x=\"127.246094\" xlink:href=\"#DejaVuSans-49\"/>\r\n       <use x=\"190.869141\" xlink:href=\"#DejaVuSans-50\"/>\r\n      </g>\r\n     </g>\r\n    </g>\r\n    <g id=\"xtick_4\">\r\n     <g id=\"line2d_4\">\r\n      <g>\r\n       <use style=\"stroke:#000000;stroke-width:0.8;\" x=\"207.05\" xlink:href=\"#m79d3adc121\" y=\"239.758125\"/>\r\n      </g>\r\n     </g>\r\n     <g id=\"text_4\">\r\n      <!-- 2013 -->\r\n      <defs>\r\n       <path d=\"M 40.578125 39.3125 \r\nQ 47.65625 37.796875 51.625 33 \r\nQ 55.609375 28.21875 55.609375 21.1875 \r\nQ 55.609375 10.40625 48.1875 4.484375 \r\nQ 40.765625 -1.421875 27.09375 -1.421875 \r\nQ 22.515625 -1.421875 17.65625 -0.515625 \r\nQ 12.796875 0.390625 7.625 2.203125 \r\nL 7.625 11.71875 \r\nQ 11.71875 9.328125 16.59375 8.109375 \r\nQ 21.484375 6.890625 26.8125 6.890625 \r\nQ 36.078125 6.890625 40.9375 10.546875 \r\nQ 45.796875 14.203125 45.796875 21.1875 \r\nQ 45.796875 27.640625 41.28125 31.265625 \r\nQ 36.765625 34.90625 28.71875 34.90625 \r\nL 20.21875 34.90625 \r\nL 20.21875 43.015625 \r\nL 29.109375 43.015625 \r\nQ 36.375 43.015625 40.234375 45.921875 \r\nQ 44.09375 48.828125 44.09375 54.296875 \r\nQ 44.09375 59.90625 40.109375 62.90625 \r\nQ 36.140625 65.921875 28.71875 65.921875 \r\nQ 24.65625 65.921875 20.015625 65.03125 \r\nQ 15.375 64.15625 9.8125 62.3125 \r\nL 9.8125 71.09375 \r\nQ 15.4375 72.65625 20.34375 73.4375 \r\nQ 25.25 74.21875 29.59375 74.21875 \r\nQ 40.828125 74.21875 47.359375 69.109375 \r\nQ 53.90625 64.015625 53.90625 55.328125 \r\nQ 53.90625 49.265625 50.4375 45.09375 \r\nQ 46.96875 40.921875 40.578125 39.3125 \r\nz\r\n\" id=\"DejaVuSans-51\"/>\r\n      </defs>\r\n      <g transform=\"translate(194.325 254.356562)scale(0.1 -0.1)\">\r\n       <use xlink:href=\"#DejaVuSans-50\"/>\r\n       <use x=\"63.623047\" xlink:href=\"#DejaVuSans-48\"/>\r\n       <use x=\"127.246094\" xlink:href=\"#DejaVuSans-49\"/>\r\n       <use x=\"190.869141\" xlink:href=\"#DejaVuSans-51\"/>\r\n      </g>\r\n     </g>\r\n    </g>\r\n    <g id=\"xtick_5\">\r\n     <g id=\"line2d_5\">\r\n      <g>\r\n       <use style=\"stroke:#000000;stroke-width:0.8;\" x=\"262.85\" xlink:href=\"#m79d3adc121\" y=\"239.758125\"/>\r\n      </g>\r\n     </g>\r\n     <g id=\"text_5\">\r\n      <!-- 2014 -->\r\n      <defs>\r\n       <path d=\"M 37.796875 64.3125 \r\nL 12.890625 25.390625 \r\nL 37.796875 25.390625 \r\nz\r\nM 35.203125 72.90625 \r\nL 47.609375 72.90625 \r\nL 47.609375 25.390625 \r\nL 58.015625 25.390625 \r\nL 58.015625 17.1875 \r\nL 47.609375 17.1875 \r\nL 47.609375 0 \r\nL 37.796875 0 \r\nL 37.796875 17.1875 \r\nL 4.890625 17.1875 \r\nL 4.890625 26.703125 \r\nz\r\n\" id=\"DejaVuSans-52\"/>\r\n      </defs>\r\n      <g transform=\"translate(250.125 254.356562)scale(0.1 -0.1)\">\r\n       <use xlink:href=\"#DejaVuSans-50\"/>\r\n       <use x=\"63.623047\" xlink:href=\"#DejaVuSans-48\"/>\r\n       <use x=\"127.246094\" xlink:href=\"#DejaVuSans-49\"/>\r\n       <use x=\"190.869141\" xlink:href=\"#DejaVuSans-52\"/>\r\n      </g>\r\n     </g>\r\n    </g>\r\n    <g id=\"xtick_6\">\r\n     <g id=\"line2d_6\">\r\n      <g>\r\n       <use style=\"stroke:#000000;stroke-width:0.8;\" x=\"318.65\" xlink:href=\"#m79d3adc121\" y=\"239.758125\"/>\r\n      </g>\r\n     </g>\r\n     <g id=\"text_6\">\r\n      <!-- 2015 -->\r\n      <defs>\r\n       <path d=\"M 10.796875 72.90625 \r\nL 49.515625 72.90625 \r\nL 49.515625 64.59375 \r\nL 19.828125 64.59375 \r\nL 19.828125 46.734375 \r\nQ 21.96875 47.46875 24.109375 47.828125 \r\nQ 26.265625 48.1875 28.421875 48.1875 \r\nQ 40.625 48.1875 47.75 41.5 \r\nQ 54.890625 34.8125 54.890625 23.390625 \r\nQ 54.890625 11.625 47.5625 5.09375 \r\nQ 40.234375 -1.421875 26.90625 -1.421875 \r\nQ 22.3125 -1.421875 17.546875 -0.640625 \r\nQ 12.796875 0.140625 7.71875 1.703125 \r\nL 7.71875 11.625 \r\nQ 12.109375 9.234375 16.796875 8.0625 \r\nQ 21.484375 6.890625 26.703125 6.890625 \r\nQ 35.15625 6.890625 40.078125 11.328125 \r\nQ 45.015625 15.765625 45.015625 23.390625 \r\nQ 45.015625 31 40.078125 35.4375 \r\nQ 35.15625 39.890625 26.703125 39.890625 \r\nQ 22.75 39.890625 18.8125 39.015625 \r\nQ 14.890625 38.140625 10.796875 36.28125 \r\nz\r\n\" id=\"DejaVuSans-53\"/>\r\n      </defs>\r\n      <g transform=\"translate(305.925 254.356562)scale(0.1 -0.1)\">\r\n       <use xlink:href=\"#DejaVuSans-50\"/>\r\n       <use x=\"63.623047\" xlink:href=\"#DejaVuSans-48\"/>\r\n       <use x=\"127.246094\" xlink:href=\"#DejaVuSans-49\"/>\r\n       <use x=\"190.869141\" xlink:href=\"#DejaVuSans-53\"/>\r\n      </g>\r\n     </g>\r\n    </g>\r\n    <g id=\"xtick_7\">\r\n     <g id=\"line2d_7\">\r\n      <g>\r\n       <use style=\"stroke:#000000;stroke-width:0.8;\" x=\"374.45\" xlink:href=\"#m79d3adc121\" y=\"239.758125\"/>\r\n      </g>\r\n     </g>\r\n     <g id=\"text_7\">\r\n      <!-- 2016 -->\r\n      <defs>\r\n       <path d=\"M 33.015625 40.375 \r\nQ 26.375 40.375 22.484375 35.828125 \r\nQ 18.609375 31.296875 18.609375 23.390625 \r\nQ 18.609375 15.53125 22.484375 10.953125 \r\nQ 26.375 6.390625 33.015625 6.390625 \r\nQ 39.65625 6.390625 43.53125 10.953125 \r\nQ 47.40625 15.53125 47.40625 23.390625 \r\nQ 47.40625 31.296875 43.53125 35.828125 \r\nQ 39.65625 40.375 33.015625 40.375 \r\nz\r\nM 52.59375 71.296875 \r\nL 52.59375 62.3125 \r\nQ 48.875 64.0625 45.09375 64.984375 \r\nQ 41.3125 65.921875 37.59375 65.921875 \r\nQ 27.828125 65.921875 22.671875 59.328125 \r\nQ 17.53125 52.734375 16.796875 39.40625 \r\nQ 19.671875 43.65625 24.015625 45.921875 \r\nQ 28.375 48.1875 33.59375 48.1875 \r\nQ 44.578125 48.1875 50.953125 41.515625 \r\nQ 57.328125 34.859375 57.328125 23.390625 \r\nQ 57.328125 12.15625 50.6875 5.359375 \r\nQ 44.046875 -1.421875 33.015625 -1.421875 \r\nQ 20.359375 -1.421875 13.671875 8.265625 \r\nQ 6.984375 17.96875 6.984375 36.375 \r\nQ 6.984375 53.65625 15.1875 63.9375 \r\nQ 23.390625 74.21875 37.203125 74.21875 \r\nQ 40.921875 74.21875 44.703125 73.484375 \r\nQ 48.484375 72.75 52.59375 71.296875 \r\nz\r\n\" id=\"DejaVuSans-54\"/>\r\n      </defs>\r\n      <g transform=\"translate(361.725 254.356562)scale(0.1 -0.1)\">\r\n       <use xlink:href=\"#DejaVuSans-50\"/>\r\n       <use x=\"63.623047\" xlink:href=\"#DejaVuSans-48\"/>\r\n       <use x=\"127.246094\" xlink:href=\"#DejaVuSans-49\"/>\r\n       <use x=\"190.869141\" xlink:href=\"#DejaVuSans-54\"/>\r\n      </g>\r\n     </g>\r\n    </g>\r\n    <g id=\"text_8\">\r\n     <!-- year -->\r\n     <defs>\r\n      <path d=\"M 32.171875 -5.078125 \r\nQ 28.375 -14.84375 24.75 -17.8125 \r\nQ 21.140625 -20.796875 15.09375 -20.796875 \r\nL 7.90625 -20.796875 \r\nL 7.90625 -13.28125 \r\nL 13.1875 -13.28125 \r\nQ 16.890625 -13.28125 18.9375 -11.515625 \r\nQ 21 -9.765625 23.484375 -3.21875 \r\nL 25.09375 0.875 \r\nL 2.984375 54.6875 \r\nL 12.5 54.6875 \r\nL 29.59375 11.921875 \r\nL 46.6875 54.6875 \r\nL 56.203125 54.6875 \r\nz\r\n\" id=\"DejaVuSans-121\"/>\r\n      <path d=\"M 56.203125 29.59375 \r\nL 56.203125 25.203125 \r\nL 14.890625 25.203125 \r\nQ 15.484375 15.921875 20.484375 11.0625 \r\nQ 25.484375 6.203125 34.421875 6.203125 \r\nQ 39.59375 6.203125 44.453125 7.46875 \r\nQ 49.3125 8.734375 54.109375 11.28125 \r\nL 54.109375 2.78125 \r\nQ 49.265625 0.734375 44.1875 -0.34375 \r\nQ 39.109375 -1.421875 33.890625 -1.421875 \r\nQ 20.796875 -1.421875 13.15625 6.1875 \r\nQ 5.515625 13.8125 5.515625 26.8125 \r\nQ 5.515625 40.234375 12.765625 48.109375 \r\nQ 20.015625 56 32.328125 56 \r\nQ 43.359375 56 49.78125 48.890625 \r\nQ 56.203125 41.796875 56.203125 29.59375 \r\nz\r\nM 47.21875 32.234375 \r\nQ 47.125 39.59375 43.09375 43.984375 \r\nQ 39.0625 48.390625 32.421875 48.390625 \r\nQ 24.90625 48.390625 20.390625 44.140625 \r\nQ 15.875 39.890625 15.1875 32.171875 \r\nz\r\n\" id=\"DejaVuSans-101\"/>\r\n      <path d=\"M 34.28125 27.484375 \r\nQ 23.390625 27.484375 19.1875 25 \r\nQ 14.984375 22.515625 14.984375 16.5 \r\nQ 14.984375 11.71875 18.140625 8.90625 \r\nQ 21.296875 6.109375 26.703125 6.109375 \r\nQ 34.1875 6.109375 38.703125 11.40625 \r\nQ 43.21875 16.703125 43.21875 25.484375 \r\nL 43.21875 27.484375 \r\nz\r\nM 52.203125 31.203125 \r\nL 52.203125 0 \r\nL 43.21875 0 \r\nL 43.21875 8.296875 \r\nQ 40.140625 3.328125 35.546875 0.953125 \r\nQ 30.953125 -1.421875 24.3125 -1.421875 \r\nQ 15.921875 -1.421875 10.953125 3.296875 \r\nQ 6 8.015625 6 15.921875 \r\nQ 6 25.140625 12.171875 29.828125 \r\nQ 18.359375 34.515625 30.609375 34.515625 \r\nL 43.21875 34.515625 \r\nL 43.21875 35.40625 \r\nQ 43.21875 41.609375 39.140625 45 \r\nQ 35.0625 48.390625 27.6875 48.390625 \r\nQ 23 48.390625 18.546875 47.265625 \r\nQ 14.109375 46.140625 10.015625 43.890625 \r\nL 10.015625 52.203125 \r\nQ 14.9375 54.109375 19.578125 55.046875 \r\nQ 24.21875 56 28.609375 56 \r\nQ 40.484375 56 46.34375 49.84375 \r\nQ 52.203125 43.703125 52.203125 31.203125 \r\nz\r\n\" id=\"DejaVuSans-97\"/>\r\n      <path d=\"M 41.109375 46.296875 \r\nQ 39.59375 47.171875 37.8125 47.578125 \r\nQ 36.03125 48 33.890625 48 \r\nQ 26.265625 48 22.1875 43.046875 \r\nQ 18.109375 38.09375 18.109375 28.8125 \r\nL 18.109375 0 \r\nL 9.078125 0 \r\nL 9.078125 54.6875 \r\nL 18.109375 54.6875 \r\nL 18.109375 46.1875 \r\nQ 20.953125 51.171875 25.484375 53.578125 \r\nQ 30.03125 56 36.53125 56 \r\nQ 37.453125 56 38.578125 55.875 \r\nQ 39.703125 55.765625 41.0625 55.515625 \r\nz\r\n\" id=\"DejaVuSans-114\"/>\r\n     </defs>\r\n     <g transform=\"translate(195.894531 268.034687)scale(0.1 -0.1)\">\r\n      <use xlink:href=\"#DejaVuSans-121\"/>\r\n      <use x=\"59.179688\" xlink:href=\"#DejaVuSans-101\"/>\r\n      <use x=\"120.703125\" xlink:href=\"#DejaVuSans-97\"/>\r\n      <use x=\"181.982422\" xlink:href=\"#DejaVuSans-114\"/>\r\n     </g>\r\n    </g>\r\n   </g>\r\n   <g id=\"matplotlib.axis_2\">\r\n    <g id=\"ytick_1\">\r\n     <g id=\"line2d_8\">\r\n      <defs>\r\n       <path d=\"M 0 0 \r\nL -3.5 0 \r\n\" id=\"m679975e621\" style=\"stroke:#000000;stroke-width:0.8;\"/>\r\n      </defs>\r\n      <g>\r\n       <use style=\"stroke:#000000;stroke-width:0.8;\" x=\"39.65\" xlink:href=\"#m679975e621\" y=\"213.501089\"/>\r\n      </g>\r\n     </g>\r\n     <g id=\"text_9\">\r\n      <!-- 1500 -->\r\n      <g transform=\"translate(7.2 217.300308)scale(0.1 -0.1)\">\r\n       <use xlink:href=\"#DejaVuSans-49\"/>\r\n       <use x=\"63.623047\" xlink:href=\"#DejaVuSans-53\"/>\r\n       <use x=\"127.246094\" xlink:href=\"#DejaVuSans-48\"/>\r\n       <use x=\"190.869141\" xlink:href=\"#DejaVuSans-48\"/>\r\n      </g>\r\n     </g>\r\n    </g>\r\n    <g id=\"ytick_2\">\r\n     <g id=\"line2d_9\">\r\n      <g>\r\n       <use style=\"stroke:#000000;stroke-width:0.8;\" x=\"39.65\" xlink:href=\"#m679975e621\" y=\"182.134423\"/>\r\n      </g>\r\n     </g>\r\n     <g id=\"text_10\">\r\n      <!-- 2000 -->\r\n      <g transform=\"translate(7.2 185.933642)scale(0.1 -0.1)\">\r\n       <use xlink:href=\"#DejaVuSans-50\"/>\r\n       <use x=\"63.623047\" xlink:href=\"#DejaVuSans-48\"/>\r\n       <use x=\"127.246094\" xlink:href=\"#DejaVuSans-48\"/>\r\n       <use x=\"190.869141\" xlink:href=\"#DejaVuSans-48\"/>\r\n      </g>\r\n     </g>\r\n    </g>\r\n    <g id=\"ytick_3\">\r\n     <g id=\"line2d_10\">\r\n      <g>\r\n       <use style=\"stroke:#000000;stroke-width:0.8;\" x=\"39.65\" xlink:href=\"#m679975e621\" y=\"150.767758\"/>\r\n      </g>\r\n     </g>\r\n     <g id=\"text_11\">\r\n      <!-- 2500 -->\r\n      <g transform=\"translate(7.2 154.566976)scale(0.1 -0.1)\">\r\n       <use xlink:href=\"#DejaVuSans-50\"/>\r\n       <use x=\"63.623047\" xlink:href=\"#DejaVuSans-53\"/>\r\n       <use x=\"127.246094\" xlink:href=\"#DejaVuSans-48\"/>\r\n       <use x=\"190.869141\" xlink:href=\"#DejaVuSans-48\"/>\r\n      </g>\r\n     </g>\r\n    </g>\r\n    <g id=\"ytick_4\">\r\n     <g id=\"line2d_11\">\r\n      <g>\r\n       <use style=\"stroke:#000000;stroke-width:0.8;\" x=\"39.65\" xlink:href=\"#m679975e621\" y=\"119.401092\"/>\r\n      </g>\r\n     </g>\r\n     <g id=\"text_12\">\r\n      <!-- 3000 -->\r\n      <g transform=\"translate(7.2 123.200311)scale(0.1 -0.1)\">\r\n       <use xlink:href=\"#DejaVuSans-51\"/>\r\n       <use x=\"63.623047\" xlink:href=\"#DejaVuSans-48\"/>\r\n       <use x=\"127.246094\" xlink:href=\"#DejaVuSans-48\"/>\r\n       <use x=\"190.869141\" xlink:href=\"#DejaVuSans-48\"/>\r\n      </g>\r\n     </g>\r\n    </g>\r\n    <g id=\"ytick_5\">\r\n     <g id=\"line2d_12\">\r\n      <g>\r\n       <use style=\"stroke:#000000;stroke-width:0.8;\" x=\"39.65\" xlink:href=\"#m679975e621\" y=\"88.034426\"/>\r\n      </g>\r\n     </g>\r\n     <g id=\"text_13\">\r\n      <!-- 3500 -->\r\n      <g transform=\"translate(7.2 91.833645)scale(0.1 -0.1)\">\r\n       <use xlink:href=\"#DejaVuSans-51\"/>\r\n       <use x=\"63.623047\" xlink:href=\"#DejaVuSans-53\"/>\r\n       <use x=\"127.246094\" xlink:href=\"#DejaVuSans-48\"/>\r\n       <use x=\"190.869141\" xlink:href=\"#DejaVuSans-48\"/>\r\n      </g>\r\n     </g>\r\n    </g>\r\n    <g id=\"ytick_6\">\r\n     <g id=\"line2d_13\">\r\n      <g>\r\n       <use style=\"stroke:#000000;stroke-width:0.8;\" x=\"39.65\" xlink:href=\"#m679975e621\" y=\"56.667761\"/>\r\n      </g>\r\n     </g>\r\n     <g id=\"text_14\">\r\n      <!-- 4000 -->\r\n      <g transform=\"translate(7.2 60.466979)scale(0.1 -0.1)\">\r\n       <use xlink:href=\"#DejaVuSans-52\"/>\r\n       <use x=\"63.623047\" xlink:href=\"#DejaVuSans-48\"/>\r\n       <use x=\"127.246094\" xlink:href=\"#DejaVuSans-48\"/>\r\n       <use x=\"190.869141\" xlink:href=\"#DejaVuSans-48\"/>\r\n      </g>\r\n     </g>\r\n    </g>\r\n    <g id=\"ytick_7\">\r\n     <g id=\"line2d_14\">\r\n      <g>\r\n       <use style=\"stroke:#000000;stroke-width:0.8;\" x=\"39.65\" xlink:href=\"#m679975e621\" y=\"25.301095\"/>\r\n      </g>\r\n     </g>\r\n     <g id=\"text_15\">\r\n      <!-- 4500 -->\r\n      <g transform=\"translate(7.2 29.100314)scale(0.1 -0.1)\">\r\n       <use xlink:href=\"#DejaVuSans-52\"/>\r\n       <use x=\"63.623047\" xlink:href=\"#DejaVuSans-53\"/>\r\n       <use x=\"127.246094\" xlink:href=\"#DejaVuSans-48\"/>\r\n       <use x=\"190.869141\" xlink:href=\"#DejaVuSans-48\"/>\r\n      </g>\r\n     </g>\r\n    </g>\r\n   </g>\r\n   <g id=\"line2d_15\">\r\n    <path clip-path=\"url(#p5f0b0d13a8)\" d=\"M 39.65 229.874489 \r\nL 95.45 211.619089 \r\nL 151.25 161.808824 \r\nL 207.05 121.220359 \r\nL 262.85 86.277893 \r\nL 318.65 73.04116 \r\nL 374.45 32.201761 \r\n\" style=\"fill:none;stroke:#1f77b4;stroke-linecap:square;stroke-width:1.5;\"/>\r\n   </g>\r\n   <g id=\"patch_3\">\r\n    <path d=\"M 39.65 239.758125 \r\nL 39.65 22.318125 \r\n\" style=\"fill:none;stroke:#000000;stroke-linecap:square;stroke-linejoin:miter;stroke-width:0.8;\"/>\r\n   </g>\r\n   <g id=\"patch_4\">\r\n    <path d=\"M 374.45 239.758125 \r\nL 374.45 22.318125 \r\n\" style=\"fill:none;stroke:#000000;stroke-linecap:square;stroke-linejoin:miter;stroke-width:0.8;\"/>\r\n   </g>\r\n   <g id=\"patch_5\">\r\n    <path d=\"M 39.65 239.758125 \r\nL 374.45 239.758125 \r\n\" style=\"fill:none;stroke:#000000;stroke-linecap:square;stroke-linejoin:miter;stroke-width:0.8;\"/>\r\n   </g>\r\n   <g id=\"patch_6\">\r\n    <path d=\"M 39.65 22.318125 \r\nL 374.45 22.318125 \r\n\" style=\"fill:none;stroke:#000000;stroke-linecap:square;stroke-linejoin:miter;stroke-width:0.8;\"/>\r\n   </g>\r\n   <g id=\"text_16\">\r\n    <!-- Average monthly rent -->\r\n    <defs>\r\n     <path d=\"M 34.1875 63.1875 \r\nL 20.796875 26.90625 \r\nL 47.609375 26.90625 \r\nz\r\nM 28.609375 72.90625 \r\nL 39.796875 72.90625 \r\nL 67.578125 0 \r\nL 57.328125 0 \r\nL 50.6875 18.703125 \r\nL 17.828125 18.703125 \r\nL 11.1875 0 \r\nL 0.78125 0 \r\nz\r\n\" id=\"DejaVuSans-65\"/>\r\n     <path d=\"M 2.984375 54.6875 \r\nL 12.5 54.6875 \r\nL 29.59375 8.796875 \r\nL 46.6875 54.6875 \r\nL 56.203125 54.6875 \r\nL 35.6875 0 \r\nL 23.484375 0 \r\nz\r\n\" id=\"DejaVuSans-118\"/>\r\n     <path d=\"M 45.40625 27.984375 \r\nQ 45.40625 37.75 41.375 43.109375 \r\nQ 37.359375 48.484375 30.078125 48.484375 \r\nQ 22.859375 48.484375 18.828125 43.109375 \r\nQ 14.796875 37.75 14.796875 27.984375 \r\nQ 14.796875 18.265625 18.828125 12.890625 \r\nQ 22.859375 7.515625 30.078125 7.515625 \r\nQ 37.359375 7.515625 41.375 12.890625 \r\nQ 45.40625 18.265625 45.40625 27.984375 \r\nz\r\nM 54.390625 6.78125 \r\nQ 54.390625 -7.171875 48.1875 -13.984375 \r\nQ 42 -20.796875 29.203125 -20.796875 \r\nQ 24.46875 -20.796875 20.265625 -20.09375 \r\nQ 16.0625 -19.390625 12.109375 -17.921875 \r\nL 12.109375 -9.1875 \r\nQ 16.0625 -11.328125 19.921875 -12.34375 \r\nQ 23.78125 -13.375 27.78125 -13.375 \r\nQ 36.625 -13.375 41.015625 -8.765625 \r\nQ 45.40625 -4.15625 45.40625 5.171875 \r\nL 45.40625 9.625 \r\nQ 42.625 4.78125 38.28125 2.390625 \r\nQ 33.9375 0 27.875 0 \r\nQ 17.828125 0 11.671875 7.65625 \r\nQ 5.515625 15.328125 5.515625 27.984375 \r\nQ 5.515625 40.671875 11.671875 48.328125 \r\nQ 17.828125 56 27.875 56 \r\nQ 33.9375 56 38.28125 53.609375 \r\nQ 42.625 51.21875 45.40625 46.390625 \r\nL 45.40625 54.6875 \r\nL 54.390625 54.6875 \r\nz\r\n\" id=\"DejaVuSans-103\"/>\r\n     <path id=\"DejaVuSans-32\"/>\r\n     <path d=\"M 52 44.1875 \r\nQ 55.375 50.25 60.0625 53.125 \r\nQ 64.75 56 71.09375 56 \r\nQ 79.640625 56 84.28125 50.015625 \r\nQ 88.921875 44.046875 88.921875 33.015625 \r\nL 88.921875 0 \r\nL 79.890625 0 \r\nL 79.890625 32.71875 \r\nQ 79.890625 40.578125 77.09375 44.375 \r\nQ 74.3125 48.1875 68.609375 48.1875 \r\nQ 61.625 48.1875 57.5625 43.546875 \r\nQ 53.515625 38.921875 53.515625 30.90625 \r\nL 53.515625 0 \r\nL 44.484375 0 \r\nL 44.484375 32.71875 \r\nQ 44.484375 40.625 41.703125 44.40625 \r\nQ 38.921875 48.1875 33.109375 48.1875 \r\nQ 26.21875 48.1875 22.15625 43.53125 \r\nQ 18.109375 38.875 18.109375 30.90625 \r\nL 18.109375 0 \r\nL 9.078125 0 \r\nL 9.078125 54.6875 \r\nL 18.109375 54.6875 \r\nL 18.109375 46.1875 \r\nQ 21.1875 51.21875 25.484375 53.609375 \r\nQ 29.78125 56 35.6875 56 \r\nQ 41.65625 56 45.828125 52.96875 \r\nQ 50 49.953125 52 44.1875 \r\nz\r\n\" id=\"DejaVuSans-109\"/>\r\n     <path d=\"M 30.609375 48.390625 \r\nQ 23.390625 48.390625 19.1875 42.75 \r\nQ 14.984375 37.109375 14.984375 27.296875 \r\nQ 14.984375 17.484375 19.15625 11.84375 \r\nQ 23.34375 6.203125 30.609375 6.203125 \r\nQ 37.796875 6.203125 41.984375 11.859375 \r\nQ 46.1875 17.53125 46.1875 27.296875 \r\nQ 46.1875 37.015625 41.984375 42.703125 \r\nQ 37.796875 48.390625 30.609375 48.390625 \r\nz\r\nM 30.609375 56 \r\nQ 42.328125 56 49.015625 48.375 \r\nQ 55.71875 40.765625 55.71875 27.296875 \r\nQ 55.71875 13.875 49.015625 6.21875 \r\nQ 42.328125 -1.421875 30.609375 -1.421875 \r\nQ 18.84375 -1.421875 12.171875 6.21875 \r\nQ 5.515625 13.875 5.515625 27.296875 \r\nQ 5.515625 40.765625 12.171875 48.375 \r\nQ 18.84375 56 30.609375 56 \r\nz\r\n\" id=\"DejaVuSans-111\"/>\r\n     <path d=\"M 54.890625 33.015625 \r\nL 54.890625 0 \r\nL 45.90625 0 \r\nL 45.90625 32.71875 \r\nQ 45.90625 40.484375 42.875 44.328125 \r\nQ 39.84375 48.1875 33.796875 48.1875 \r\nQ 26.515625 48.1875 22.3125 43.546875 \r\nQ 18.109375 38.921875 18.109375 30.90625 \r\nL 18.109375 0 \r\nL 9.078125 0 \r\nL 9.078125 54.6875 \r\nL 18.109375 54.6875 \r\nL 18.109375 46.1875 \r\nQ 21.34375 51.125 25.703125 53.5625 \r\nQ 30.078125 56 35.796875 56 \r\nQ 45.21875 56 50.046875 50.171875 \r\nQ 54.890625 44.34375 54.890625 33.015625 \r\nz\r\n\" id=\"DejaVuSans-110\"/>\r\n     <path d=\"M 18.3125 70.21875 \r\nL 18.3125 54.6875 \r\nL 36.8125 54.6875 \r\nL 36.8125 47.703125 \r\nL 18.3125 47.703125 \r\nL 18.3125 18.015625 \r\nQ 18.3125 11.328125 20.140625 9.421875 \r\nQ 21.96875 7.515625 27.59375 7.515625 \r\nL 36.8125 7.515625 \r\nL 36.8125 0 \r\nL 27.59375 0 \r\nQ 17.1875 0 13.234375 3.875 \r\nQ 9.28125 7.765625 9.28125 18.015625 \r\nL 9.28125 47.703125 \r\nL 2.6875 47.703125 \r\nL 2.6875 54.6875 \r\nL 9.28125 54.6875 \r\nL 9.28125 70.21875 \r\nz\r\n\" id=\"DejaVuSans-116\"/>\r\n     <path d=\"M 54.890625 33.015625 \r\nL 54.890625 0 \r\nL 45.90625 0 \r\nL 45.90625 32.71875 \r\nQ 45.90625 40.484375 42.875 44.328125 \r\nQ 39.84375 48.1875 33.796875 48.1875 \r\nQ 26.515625 48.1875 22.3125 43.546875 \r\nQ 18.109375 38.921875 18.109375 30.90625 \r\nL 18.109375 0 \r\nL 9.078125 0 \r\nL 9.078125 75.984375 \r\nL 18.109375 75.984375 \r\nL 18.109375 46.1875 \r\nQ 21.34375 51.125 25.703125 53.5625 \r\nQ 30.078125 56 35.796875 56 \r\nQ 45.21875 56 50.046875 50.171875 \r\nQ 54.890625 44.34375 54.890625 33.015625 \r\nz\r\n\" id=\"DejaVuSans-104\"/>\r\n     <path d=\"M 9.421875 75.984375 \r\nL 18.40625 75.984375 \r\nL 18.40625 0 \r\nL 9.421875 0 \r\nz\r\n\" id=\"DejaVuSans-108\"/>\r\n    </defs>\r\n    <g transform=\"translate(141.246875 16.318125)scale(0.12 -0.12)\">\r\n     <use xlink:href=\"#DejaVuSans-65\"/>\r\n     <use x=\"68.330078\" xlink:href=\"#DejaVuSans-118\"/>\r\n     <use x=\"127.509766\" xlink:href=\"#DejaVuSans-101\"/>\r\n     <use x=\"189.033203\" xlink:href=\"#DejaVuSans-114\"/>\r\n     <use x=\"230.146484\" xlink:href=\"#DejaVuSans-97\"/>\r\n     <use x=\"291.425781\" xlink:href=\"#DejaVuSans-103\"/>\r\n     <use x=\"354.902344\" xlink:href=\"#DejaVuSans-101\"/>\r\n     <use x=\"416.425781\" xlink:href=\"#DejaVuSans-32\"/>\r\n     <use x=\"448.212891\" xlink:href=\"#DejaVuSans-109\"/>\r\n     <use x=\"545.625\" xlink:href=\"#DejaVuSans-111\"/>\r\n     <use x=\"606.806641\" xlink:href=\"#DejaVuSans-110\"/>\r\n     <use x=\"670.185547\" xlink:href=\"#DejaVuSans-116\"/>\r\n     <use x=\"709.394531\" xlink:href=\"#DejaVuSans-104\"/>\r\n     <use x=\"772.773438\" xlink:href=\"#DejaVuSans-108\"/>\r\n     <use x=\"800.556641\" xlink:href=\"#DejaVuSans-121\"/>\r\n     <use x=\"859.736328\" xlink:href=\"#DejaVuSans-32\"/>\r\n     <use x=\"891.523438\" xlink:href=\"#DejaVuSans-114\"/>\r\n     <use x=\"932.605469\" xlink:href=\"#DejaVuSans-101\"/>\r\n     <use x=\"994.128906\" xlink:href=\"#DejaVuSans-110\"/>\r\n     <use x=\"1057.507812\" xlink:href=\"#DejaVuSans-116\"/>\r\n    </g>\r\n   </g>\r\n  </g>\r\n </g>\r\n <defs>\r\n  <clipPath id=\"p5f0b0d13a8\">\r\n   <rect height=\"217.44\" width=\"334.8\" x=\"39.65\" y=\"22.318125\"/>\r\n  </clipPath>\r\n </defs>\r\n</svg>\r\n",
      "image/png": "[encoded data removed]"
     },
     "metadata": {
      "needs_background": "light"
     }
    }
   ],
   "source": [
    "average_gross_rent()"
   ]
  },
  {
   "cell_type": "code",
   "execution_count": 18,
   "metadata": {},
   "outputs": [
    {
     "output_type": "execute_result",
     "data": {
      "text/plain": [
       "<matplotlib.axes._subplots.AxesSubplot at 0x215074e2f88>"
      ]
     },
     "metadata": {},
     "execution_count": 18
    },
    {
     "output_type": "display_data",
     "data": {
      "text/plain": "<Figure size 432x288 with 1 Axes>",
      "image/svg+xml": "<?xml version=\"1.0\" encoding=\"utf-8\" standalone=\"no\"?>\r\n<!DOCTYPE svg PUBLIC \"-//W3C//DTD SVG 1.1//EN\"\r\n  \"http://www.w3.org/Graphics/SVG/1.1/DTD/svg11.dtd\">\r\n<!-- Created with matplotlib (https://matplotlib.org/) -->\r\n<svg height=\"277.314375pt\" version=\"1.1\" viewBox=\"0 0 388.0125 277.314375\" width=\"388.0125pt\" xmlns=\"http://www.w3.org/2000/svg\" xmlns:xlink=\"http://www.w3.org/1999/xlink\">\r\n <defs>\r\n  <style type=\"text/css\">\r\n*{stroke-linecap:butt;stroke-linejoin:round;}\r\n  </style>\r\n </defs>\r\n <g id=\"figure_1\">\r\n  <g id=\"patch_1\">\r\n   <path d=\"M 0 277.314375 \r\nL 388.0125 277.314375 \r\nL 388.0125 0 \r\nL 0 0 \r\nz\r\n\" style=\"fill:none;\"/>\r\n  </g>\r\n  <g id=\"axes_1\">\r\n   <g id=\"patch_2\">\r\n    <path d=\"M 33.2875 239.758125 \r\nL 368.0875 239.758125 \r\nL 368.0875 22.318125 \r\nL 33.2875 22.318125 \r\nz\r\n\" style=\"fill:#ffffff;\"/>\r\n   </g>\r\n   <g id=\"matplotlib.axis_1\">\r\n    <g id=\"xtick_1\">\r\n     <g id=\"line2d_1\">\r\n      <defs>\r\n       <path d=\"M 0 0 \r\nL 0 3.5 \r\n\" id=\"ma867e7309c\" style=\"stroke:#000000;stroke-width:0.8;\"/>\r\n      </defs>\r\n      <g>\r\n       <use style=\"stroke:#000000;stroke-width:0.8;\" x=\"33.2875\" xlink:href=\"#ma867e7309c\" y=\"239.758125\"/>\r\n      </g>\r\n     </g>\r\n     <g id=\"text_1\">\r\n      <!-- 2010 -->\r\n      <defs>\r\n       <path d=\"M 19.1875 8.296875 \r\nL 53.609375 8.296875 \r\nL 53.609375 0 \r\nL 7.328125 0 \r\nL 7.328125 8.296875 \r\nQ 12.9375 14.109375 22.625 23.890625 \r\nQ 32.328125 33.6875 34.8125 36.53125 \r\nQ 39.546875 41.84375 41.421875 45.53125 \r\nQ 43.3125 49.21875 43.3125 52.78125 \r\nQ 43.3125 58.59375 39.234375 62.25 \r\nQ 35.15625 65.921875 28.609375 65.921875 \r\nQ 23.96875 65.921875 18.8125 64.3125 \r\nQ 13.671875 62.703125 7.8125 59.421875 \r\nL 7.8125 69.390625 \r\nQ 13.765625 71.78125 18.9375 73 \r\nQ 24.125 74.21875 28.421875 74.21875 \r\nQ 39.75 74.21875 46.484375 68.546875 \r\nQ 53.21875 62.890625 53.21875 53.421875 \r\nQ 53.21875 48.921875 51.53125 44.890625 \r\nQ 49.859375 40.875 45.40625 35.40625 \r\nQ 44.1875 33.984375 37.640625 27.21875 \r\nQ 31.109375 20.453125 19.1875 8.296875 \r\nz\r\n\" id=\"DejaVuSans-50\"/>\r\n       <path d=\"M 31.78125 66.40625 \r\nQ 24.171875 66.40625 20.328125 58.90625 \r\nQ 16.5 51.421875 16.5 36.375 \r\nQ 16.5 21.390625 20.328125 13.890625 \r\nQ 24.171875 6.390625 31.78125 6.390625 \r\nQ 39.453125 6.390625 43.28125 13.890625 \r\nQ 47.125 21.390625 47.125 36.375 \r\nQ 47.125 51.421875 43.28125 58.90625 \r\nQ 39.453125 66.40625 31.78125 66.40625 \r\nz\r\nM 31.78125 74.21875 \r\nQ 44.046875 74.21875 50.515625 64.515625 \r\nQ 56.984375 54.828125 56.984375 36.375 \r\nQ 56.984375 17.96875 50.515625 8.265625 \r\nQ 44.046875 -1.421875 31.78125 -1.421875 \r\nQ 19.53125 -1.421875 13.0625 8.265625 \r\nQ 6.59375 17.96875 6.59375 36.375 \r\nQ 6.59375 54.828125 13.0625 64.515625 \r\nQ 19.53125 74.21875 31.78125 74.21875 \r\nz\r\n\" id=\"DejaVuSans-48\"/>\r\n       <path d=\"M 12.40625 8.296875 \r\nL 28.515625 8.296875 \r\nL 28.515625 63.921875 \r\nL 10.984375 60.40625 \r\nL 10.984375 69.390625 \r\nL 28.421875 72.90625 \r\nL 38.28125 72.90625 \r\nL 38.28125 8.296875 \r\nL 54.390625 8.296875 \r\nL 54.390625 0 \r\nL 12.40625 0 \r\nz\r\n\" id=\"DejaVuSans-49\"/>\r\n      </defs>\r\n      <g transform=\"translate(20.5625 254.356562)scale(0.1 -0.1)\">\r\n       <use xlink:href=\"#DejaVuSans-50\"/>\r\n       <use x=\"63.623047\" xlink:href=\"#DejaVuSans-48\"/>\r\n       <use x=\"127.246094\" xlink:href=\"#DejaVuSans-49\"/>\r\n       <use x=\"190.869141\" xlink:href=\"#DejaVuSans-48\"/>\r\n      </g>\r\n     </g>\r\n    </g>\r\n    <g id=\"xtick_2\">\r\n     <g id=\"line2d_2\">\r\n      <g>\r\n       <use style=\"stroke:#000000;stroke-width:0.8;\" x=\"89.0875\" xlink:href=\"#ma867e7309c\" y=\"239.758125\"/>\r\n      </g>\r\n     </g>\r\n     <g id=\"text_2\">\r\n      <!-- 2011 -->\r\n      <g transform=\"translate(76.3625 254.356562)scale(0.1 -0.1)\">\r\n       <use xlink:href=\"#DejaVuSans-50\"/>\r\n       <use x=\"63.623047\" xlink:href=\"#DejaVuSans-48\"/>\r\n       <use x=\"127.246094\" xlink:href=\"#DejaVuSans-49\"/>\r\n       <use x=\"190.869141\" xlink:href=\"#DejaVuSans-49\"/>\r\n      </g>\r\n     </g>\r\n    </g>\r\n    <g id=\"xtick_3\">\r\n     <g id=\"line2d_3\">\r\n      <g>\r\n       <use style=\"stroke:#000000;stroke-width:0.8;\" x=\"144.8875\" xlink:href=\"#ma867e7309c\" y=\"239.758125\"/>\r\n      </g>\r\n     </g>\r\n     <g id=\"text_3\">\r\n      <!-- 2012 -->\r\n      <g transform=\"translate(132.1625 254.356562)scale(0.1 -0.1)\">\r\n       <use xlink:href=\"#DejaVuSans-50\"/>\r\n       <use x=\"63.623047\" xlink:href=\"#DejaVuSans-48\"/>\r\n       <use x=\"127.246094\" xlink:href=\"#DejaVuSans-49\"/>\r\n       <use x=\"190.869141\" xlink:href=\"#DejaVuSans-50\"/>\r\n      </g>\r\n     </g>\r\n    </g>\r\n    <g id=\"xtick_4\">\r\n     <g id=\"line2d_4\">\r\n      <g>\r\n       <use style=\"stroke:#000000;stroke-width:0.8;\" x=\"200.6875\" xlink:href=\"#ma867e7309c\" y=\"239.758125\"/>\r\n      </g>\r\n     </g>\r\n     <g id=\"text_4\">\r\n      <!-- 2013 -->\r\n      <defs>\r\n       <path d=\"M 40.578125 39.3125 \r\nQ 47.65625 37.796875 51.625 33 \r\nQ 55.609375 28.21875 55.609375 21.1875 \r\nQ 55.609375 10.40625 48.1875 4.484375 \r\nQ 40.765625 -1.421875 27.09375 -1.421875 \r\nQ 22.515625 -1.421875 17.65625 -0.515625 \r\nQ 12.796875 0.390625 7.625 2.203125 \r\nL 7.625 11.71875 \r\nQ 11.71875 9.328125 16.59375 8.109375 \r\nQ 21.484375 6.890625 26.8125 6.890625 \r\nQ 36.078125 6.890625 40.9375 10.546875 \r\nQ 45.796875 14.203125 45.796875 21.1875 \r\nQ 45.796875 27.640625 41.28125 31.265625 \r\nQ 36.765625 34.90625 28.71875 34.90625 \r\nL 20.21875 34.90625 \r\nL 20.21875 43.015625 \r\nL 29.109375 43.015625 \r\nQ 36.375 43.015625 40.234375 45.921875 \r\nQ 44.09375 48.828125 44.09375 54.296875 \r\nQ 44.09375 59.90625 40.109375 62.90625 \r\nQ 36.140625 65.921875 28.71875 65.921875 \r\nQ 24.65625 65.921875 20.015625 65.03125 \r\nQ 15.375 64.15625 9.8125 62.3125 \r\nL 9.8125 71.09375 \r\nQ 15.4375 72.65625 20.34375 73.4375 \r\nQ 25.25 74.21875 29.59375 74.21875 \r\nQ 40.828125 74.21875 47.359375 69.109375 \r\nQ 53.90625 64.015625 53.90625 55.328125 \r\nQ 53.90625 49.265625 50.4375 45.09375 \r\nQ 46.96875 40.921875 40.578125 39.3125 \r\nz\r\n\" id=\"DejaVuSans-51\"/>\r\n      </defs>\r\n      <g transform=\"translate(187.9625 254.356562)scale(0.1 -0.1)\">\r\n       <use xlink:href=\"#DejaVuSans-50\"/>\r\n       <use x=\"63.623047\" xlink:href=\"#DejaVuSans-48\"/>\r\n       <use x=\"127.246094\" xlink:href=\"#DejaVuSans-49\"/>\r\n       <use x=\"190.869141\" xlink:href=\"#DejaVuSans-51\"/>\r\n      </g>\r\n     </g>\r\n    </g>\r\n    <g id=\"xtick_5\">\r\n     <g id=\"line2d_5\">\r\n      <g>\r\n       <use style=\"stroke:#000000;stroke-width:0.8;\" x=\"256.4875\" xlink:href=\"#ma867e7309c\" y=\"239.758125\"/>\r\n      </g>\r\n     </g>\r\n     <g id=\"text_5\">\r\n      <!-- 2014 -->\r\n      <defs>\r\n       <path d=\"M 37.796875 64.3125 \r\nL 12.890625 25.390625 \r\nL 37.796875 25.390625 \r\nz\r\nM 35.203125 72.90625 \r\nL 47.609375 72.90625 \r\nL 47.609375 25.390625 \r\nL 58.015625 25.390625 \r\nL 58.015625 17.1875 \r\nL 47.609375 17.1875 \r\nL 47.609375 0 \r\nL 37.796875 0 \r\nL 37.796875 17.1875 \r\nL 4.890625 17.1875 \r\nL 4.890625 26.703125 \r\nz\r\n\" id=\"DejaVuSans-52\"/>\r\n      </defs>\r\n      <g transform=\"translate(243.7625 254.356562)scale(0.1 -0.1)\">\r\n       <use xlink:href=\"#DejaVuSans-50\"/>\r\n       <use x=\"63.623047\" xlink:href=\"#DejaVuSans-48\"/>\r\n       <use x=\"127.246094\" xlink:href=\"#DejaVuSans-49\"/>\r\n       <use x=\"190.869141\" xlink:href=\"#DejaVuSans-52\"/>\r\n      </g>\r\n     </g>\r\n    </g>\r\n    <g id=\"xtick_6\">\r\n     <g id=\"line2d_6\">\r\n      <g>\r\n       <use style=\"stroke:#000000;stroke-width:0.8;\" x=\"312.2875\" xlink:href=\"#ma867e7309c\" y=\"239.758125\"/>\r\n      </g>\r\n     </g>\r\n     <g id=\"text_6\">\r\n      <!-- 2015 -->\r\n      <defs>\r\n       <path d=\"M 10.796875 72.90625 \r\nL 49.515625 72.90625 \r\nL 49.515625 64.59375 \r\nL 19.828125 64.59375 \r\nL 19.828125 46.734375 \r\nQ 21.96875 47.46875 24.109375 47.828125 \r\nQ 26.265625 48.1875 28.421875 48.1875 \r\nQ 40.625 48.1875 47.75 41.5 \r\nQ 54.890625 34.8125 54.890625 23.390625 \r\nQ 54.890625 11.625 47.5625 5.09375 \r\nQ 40.234375 -1.421875 26.90625 -1.421875 \r\nQ 22.3125 -1.421875 17.546875 -0.640625 \r\nQ 12.796875 0.140625 7.71875 1.703125 \r\nL 7.71875 11.625 \r\nQ 12.109375 9.234375 16.796875 8.0625 \r\nQ 21.484375 6.890625 26.703125 6.890625 \r\nQ 35.15625 6.890625 40.078125 11.328125 \r\nQ 45.015625 15.765625 45.015625 23.390625 \r\nQ 45.015625 31 40.078125 35.4375 \r\nQ 35.15625 39.890625 26.703125 39.890625 \r\nQ 22.75 39.890625 18.8125 39.015625 \r\nQ 14.890625 38.140625 10.796875 36.28125 \r\nz\r\n\" id=\"DejaVuSans-53\"/>\r\n      </defs>\r\n      <g transform=\"translate(299.5625 254.356562)scale(0.1 -0.1)\">\r\n       <use xlink:href=\"#DejaVuSans-50\"/>\r\n       <use x=\"63.623047\" xlink:href=\"#DejaVuSans-48\"/>\r\n       <use x=\"127.246094\" xlink:href=\"#DejaVuSans-49\"/>\r\n       <use x=\"190.869141\" xlink:href=\"#DejaVuSans-53\"/>\r\n      </g>\r\n     </g>\r\n    </g>\r\n    <g id=\"xtick_7\">\r\n     <g id=\"line2d_7\">\r\n      <g>\r\n       <use style=\"stroke:#000000;stroke-width:0.8;\" x=\"368.0875\" xlink:href=\"#ma867e7309c\" y=\"239.758125\"/>\r\n      </g>\r\n     </g>\r\n     <g id=\"text_7\">\r\n      <!-- 2016 -->\r\n      <defs>\r\n       <path d=\"M 33.015625 40.375 \r\nQ 26.375 40.375 22.484375 35.828125 \r\nQ 18.609375 31.296875 18.609375 23.390625 \r\nQ 18.609375 15.53125 22.484375 10.953125 \r\nQ 26.375 6.390625 33.015625 6.390625 \r\nQ 39.65625 6.390625 43.53125 10.953125 \r\nQ 47.40625 15.53125 47.40625 23.390625 \r\nQ 47.40625 31.296875 43.53125 35.828125 \r\nQ 39.65625 40.375 33.015625 40.375 \r\nz\r\nM 52.59375 71.296875 \r\nL 52.59375 62.3125 \r\nQ 48.875 64.0625 45.09375 64.984375 \r\nQ 41.3125 65.921875 37.59375 65.921875 \r\nQ 27.828125 65.921875 22.671875 59.328125 \r\nQ 17.53125 52.734375 16.796875 39.40625 \r\nQ 19.671875 43.65625 24.015625 45.921875 \r\nQ 28.375 48.1875 33.59375 48.1875 \r\nQ 44.578125 48.1875 50.953125 41.515625 \r\nQ 57.328125 34.859375 57.328125 23.390625 \r\nQ 57.328125 12.15625 50.6875 5.359375 \r\nQ 44.046875 -1.421875 33.015625 -1.421875 \r\nQ 20.359375 -1.421875 13.671875 8.265625 \r\nQ 6.984375 17.96875 6.984375 36.375 \r\nQ 6.984375 53.65625 15.1875 63.9375 \r\nQ 23.390625 74.21875 37.203125 74.21875 \r\nQ 40.921875 74.21875 44.703125 73.484375 \r\nQ 48.484375 72.75 52.59375 71.296875 \r\nz\r\n\" id=\"DejaVuSans-54\"/>\r\n      </defs>\r\n      <g transform=\"translate(355.3625 254.356562)scale(0.1 -0.1)\">\r\n       <use xlink:href=\"#DejaVuSans-50\"/>\r\n       <use x=\"63.623047\" xlink:href=\"#DejaVuSans-48\"/>\r\n       <use x=\"127.246094\" xlink:href=\"#DejaVuSans-49\"/>\r\n       <use x=\"190.869141\" xlink:href=\"#DejaVuSans-54\"/>\r\n      </g>\r\n     </g>\r\n    </g>\r\n    <g id=\"text_8\">\r\n     <!-- year -->\r\n     <defs>\r\n      <path d=\"M 32.171875 -5.078125 \r\nQ 28.375 -14.84375 24.75 -17.8125 \r\nQ 21.140625 -20.796875 15.09375 -20.796875 \r\nL 7.90625 -20.796875 \r\nL 7.90625 -13.28125 \r\nL 13.1875 -13.28125 \r\nQ 16.890625 -13.28125 18.9375 -11.515625 \r\nQ 21 -9.765625 23.484375 -3.21875 \r\nL 25.09375 0.875 \r\nL 2.984375 54.6875 \r\nL 12.5 54.6875 \r\nL 29.59375 11.921875 \r\nL 46.6875 54.6875 \r\nL 56.203125 54.6875 \r\nz\r\n\" id=\"DejaVuSans-121\"/>\r\n      <path d=\"M 56.203125 29.59375 \r\nL 56.203125 25.203125 \r\nL 14.890625 25.203125 \r\nQ 15.484375 15.921875 20.484375 11.0625 \r\nQ 25.484375 6.203125 34.421875 6.203125 \r\nQ 39.59375 6.203125 44.453125 7.46875 \r\nQ 49.3125 8.734375 54.109375 11.28125 \r\nL 54.109375 2.78125 \r\nQ 49.265625 0.734375 44.1875 -0.34375 \r\nQ 39.109375 -1.421875 33.890625 -1.421875 \r\nQ 20.796875 -1.421875 13.15625 6.1875 \r\nQ 5.515625 13.8125 5.515625 26.8125 \r\nQ 5.515625 40.234375 12.765625 48.109375 \r\nQ 20.015625 56 32.328125 56 \r\nQ 43.359375 56 49.78125 48.890625 \r\nQ 56.203125 41.796875 56.203125 29.59375 \r\nz\r\nM 47.21875 32.234375 \r\nQ 47.125 39.59375 43.09375 43.984375 \r\nQ 39.0625 48.390625 32.421875 48.390625 \r\nQ 24.90625 48.390625 20.390625 44.140625 \r\nQ 15.875 39.890625 15.1875 32.171875 \r\nz\r\n\" id=\"DejaVuSans-101\"/>\r\n      <path d=\"M 34.28125 27.484375 \r\nQ 23.390625 27.484375 19.1875 25 \r\nQ 14.984375 22.515625 14.984375 16.5 \r\nQ 14.984375 11.71875 18.140625 8.90625 \r\nQ 21.296875 6.109375 26.703125 6.109375 \r\nQ 34.1875 6.109375 38.703125 11.40625 \r\nQ 43.21875 16.703125 43.21875 25.484375 \r\nL 43.21875 27.484375 \r\nz\r\nM 52.203125 31.203125 \r\nL 52.203125 0 \r\nL 43.21875 0 \r\nL 43.21875 8.296875 \r\nQ 40.140625 3.328125 35.546875 0.953125 \r\nQ 30.953125 -1.421875 24.3125 -1.421875 \r\nQ 15.921875 -1.421875 10.953125 3.296875 \r\nQ 6 8.015625 6 15.921875 \r\nQ 6 25.140625 12.171875 29.828125 \r\nQ 18.359375 34.515625 30.609375 34.515625 \r\nL 43.21875 34.515625 \r\nL 43.21875 35.40625 \r\nQ 43.21875 41.609375 39.140625 45 \r\nQ 35.0625 48.390625 27.6875 48.390625 \r\nQ 23 48.390625 18.546875 47.265625 \r\nQ 14.109375 46.140625 10.015625 43.890625 \r\nL 10.015625 52.203125 \r\nQ 14.9375 54.109375 19.578125 55.046875 \r\nQ 24.21875 56 28.609375 56 \r\nQ 40.484375 56 46.34375 49.84375 \r\nQ 52.203125 43.703125 52.203125 31.203125 \r\nz\r\n\" id=\"DejaVuSans-97\"/>\r\n      <path d=\"M 41.109375 46.296875 \r\nQ 39.59375 47.171875 37.8125 47.578125 \r\nQ 36.03125 48 33.890625 48 \r\nQ 26.265625 48 22.1875 43.046875 \r\nQ 18.109375 38.09375 18.109375 28.8125 \r\nL 18.109375 0 \r\nL 9.078125 0 \r\nL 9.078125 54.6875 \r\nL 18.109375 54.6875 \r\nL 18.109375 46.1875 \r\nQ 20.953125 51.171875 25.484375 53.578125 \r\nQ 30.03125 56 36.53125 56 \r\nQ 37.453125 56 38.578125 55.875 \r\nQ 39.703125 55.765625 41.0625 55.515625 \r\nz\r\n\" id=\"DejaVuSans-114\"/>\r\n     </defs>\r\n     <g transform=\"translate(189.532031 268.034687)scale(0.1 -0.1)\">\r\n      <use xlink:href=\"#DejaVuSans-121\"/>\r\n      <use x=\"59.179688\" xlink:href=\"#DejaVuSans-101\"/>\r\n      <use x=\"120.703125\" xlink:href=\"#DejaVuSans-97\"/>\r\n      <use x=\"181.982422\" xlink:href=\"#DejaVuSans-114\"/>\r\n     </g>\r\n    </g>\r\n   </g>\r\n   <g id=\"matplotlib.axis_2\">\r\n    <g id=\"ytick_1\">\r\n     <g id=\"line2d_8\">\r\n      <defs>\r\n       <path d=\"M 0 0 \r\nL -3.5 0 \r\n\" id=\"m8b2566fe48\" style=\"stroke:#000000;stroke-width:0.8;\"/>\r\n      </defs>\r\n      <g>\r\n       <use style=\"stroke:#000000;stroke-width:0.8;\" x=\"33.2875\" xlink:href=\"#m8b2566fe48\" y=\"225.375501\"/>\r\n      </g>\r\n     </g>\r\n     <g id=\"text_9\">\r\n      <!-- 350 -->\r\n      <g transform=\"translate(7.2 229.174719)scale(0.1 -0.1)\">\r\n       <use xlink:href=\"#DejaVuSans-51\"/>\r\n       <use x=\"63.623047\" xlink:href=\"#DejaVuSans-53\"/>\r\n       <use x=\"127.246094\" xlink:href=\"#DejaVuSans-48\"/>\r\n      </g>\r\n     </g>\r\n    </g>\r\n    <g id=\"ytick_2\">\r\n     <g id=\"line2d_9\">\r\n      <g>\r\n       <use style=\"stroke:#000000;stroke-width:0.8;\" x=\"33.2875\" xlink:href=\"#m8b2566fe48\" y=\"197.592208\"/>\r\n      </g>\r\n     </g>\r\n     <g id=\"text_10\">\r\n      <!-- 400 -->\r\n      <g transform=\"translate(7.2 201.391427)scale(0.1 -0.1)\">\r\n       <use xlink:href=\"#DejaVuSans-52\"/>\r\n       <use x=\"63.623047\" xlink:href=\"#DejaVuSans-48\"/>\r\n       <use x=\"127.246094\" xlink:href=\"#DejaVuSans-48\"/>\r\n      </g>\r\n     </g>\r\n    </g>\r\n    <g id=\"ytick_3\">\r\n     <g id=\"line2d_10\">\r\n      <g>\r\n       <use style=\"stroke:#000000;stroke-width:0.8;\" x=\"33.2875\" xlink:href=\"#m8b2566fe48\" y=\"169.808915\"/>\r\n      </g>\r\n     </g>\r\n     <g id=\"text_11\">\r\n      <!-- 450 -->\r\n      <g transform=\"translate(7.2 173.608134)scale(0.1 -0.1)\">\r\n       <use xlink:href=\"#DejaVuSans-52\"/>\r\n       <use x=\"63.623047\" xlink:href=\"#DejaVuSans-53\"/>\r\n       <use x=\"127.246094\" xlink:href=\"#DejaVuSans-48\"/>\r\n      </g>\r\n     </g>\r\n    </g>\r\n    <g id=\"ytick_4\">\r\n     <g id=\"line2d_11\">\r\n      <g>\r\n       <use style=\"stroke:#000000;stroke-width:0.8;\" x=\"33.2875\" xlink:href=\"#m8b2566fe48\" y=\"142.025622\"/>\r\n      </g>\r\n     </g>\r\n     <g id=\"text_12\">\r\n      <!-- 500 -->\r\n      <g transform=\"translate(7.2 145.824841)scale(0.1 -0.1)\">\r\n       <use xlink:href=\"#DejaVuSans-53\"/>\r\n       <use x=\"63.623047\" xlink:href=\"#DejaVuSans-48\"/>\r\n       <use x=\"127.246094\" xlink:href=\"#DejaVuSans-48\"/>\r\n      </g>\r\n     </g>\r\n    </g>\r\n    <g id=\"ytick_5\">\r\n     <g id=\"line2d_12\">\r\n      <g>\r\n       <use style=\"stroke:#000000;stroke-width:0.8;\" x=\"33.2875\" xlink:href=\"#m8b2566fe48\" y=\"114.242329\"/>\r\n      </g>\r\n     </g>\r\n     <g id=\"text_13\">\r\n      <!-- 550 -->\r\n      <g transform=\"translate(7.2 118.041548)scale(0.1 -0.1)\">\r\n       <use xlink:href=\"#DejaVuSans-53\"/>\r\n       <use x=\"63.623047\" xlink:href=\"#DejaVuSans-53\"/>\r\n       <use x=\"127.246094\" xlink:href=\"#DejaVuSans-48\"/>\r\n      </g>\r\n     </g>\r\n    </g>\r\n    <g id=\"ytick_6\">\r\n     <g id=\"line2d_13\">\r\n      <g>\r\n       <use style=\"stroke:#000000;stroke-width:0.8;\" x=\"33.2875\" xlink:href=\"#m8b2566fe48\" y=\"86.459037\"/>\r\n      </g>\r\n     </g>\r\n     <g id=\"text_14\">\r\n      <!-- 600 -->\r\n      <g transform=\"translate(7.2 90.258255)scale(0.1 -0.1)\">\r\n       <use xlink:href=\"#DejaVuSans-54\"/>\r\n       <use x=\"63.623047\" xlink:href=\"#DejaVuSans-48\"/>\r\n       <use x=\"127.246094\" xlink:href=\"#DejaVuSans-48\"/>\r\n      </g>\r\n     </g>\r\n    </g>\r\n    <g id=\"ytick_7\">\r\n     <g id=\"line2d_14\">\r\n      <g>\r\n       <use style=\"stroke:#000000;stroke-width:0.8;\" x=\"33.2875\" xlink:href=\"#m8b2566fe48\" y=\"58.675744\"/>\r\n      </g>\r\n     </g>\r\n     <g id=\"text_15\">\r\n      <!-- 650 -->\r\n      <g transform=\"translate(7.2 62.474963)scale(0.1 -0.1)\">\r\n       <use xlink:href=\"#DejaVuSans-54\"/>\r\n       <use x=\"63.623047\" xlink:href=\"#DejaVuSans-53\"/>\r\n       <use x=\"127.246094\" xlink:href=\"#DejaVuSans-48\"/>\r\n      </g>\r\n     </g>\r\n    </g>\r\n    <g id=\"ytick_8\">\r\n     <g id=\"line2d_15\">\r\n      <g>\r\n       <use style=\"stroke:#000000;stroke-width:0.8;\" x=\"33.2875\" xlink:href=\"#m8b2566fe48\" y=\"30.892451\"/>\r\n      </g>\r\n     </g>\r\n     <g id=\"text_16\">\r\n      <!-- 700 -->\r\n      <defs>\r\n       <path d=\"M 8.203125 72.90625 \r\nL 55.078125 72.90625 \r\nL 55.078125 68.703125 \r\nL 28.609375 0 \r\nL 18.3125 0 \r\nL 43.21875 64.59375 \r\nL 8.203125 64.59375 \r\nz\r\n\" id=\"DejaVuSans-55\"/>\r\n      </defs>\r\n      <g transform=\"translate(7.2 34.69167)scale(0.1 -0.1)\">\r\n       <use xlink:href=\"#DejaVuSans-55\"/>\r\n       <use x=\"63.623047\" xlink:href=\"#DejaVuSans-48\"/>\r\n       <use x=\"127.246094\" xlink:href=\"#DejaVuSans-48\"/>\r\n      </g>\r\n     </g>\r\n    </g>\r\n   </g>\r\n   <g id=\"line2d_16\">\r\n    <path clip-path=\"url(#p3e6b4aa603)\" d=\"M 33.2875 214.626504 \r\nL 89.0875 229.874489 \r\nL 144.8875 197.931182 \r\nL 200.6875 151.138373 \r\nL 256.4875 110.754263 \r\nL 312.2875 68.377474 \r\nL 368.0875 32.201761 \r\n\" style=\"fill:none;stroke:#1f77b4;stroke-linecap:square;stroke-width:1.5;\"/>\r\n   </g>\r\n   <g id=\"patch_3\">\r\n    <path d=\"M 33.2875 239.758125 \r\nL 33.2875 22.318125 \r\n\" style=\"fill:none;stroke:#000000;stroke-linecap:square;stroke-linejoin:miter;stroke-width:0.8;\"/>\r\n   </g>\r\n   <g id=\"patch_4\">\r\n    <path d=\"M 368.0875 239.758125 \r\nL 368.0875 22.318125 \r\n\" style=\"fill:none;stroke:#000000;stroke-linecap:square;stroke-linejoin:miter;stroke-width:0.8;\"/>\r\n   </g>\r\n   <g id=\"patch_5\">\r\n    <path d=\"M 33.2875 239.758125 \r\nL 368.0875 239.758125 \r\n\" style=\"fill:none;stroke:#000000;stroke-linecap:square;stroke-linejoin:miter;stroke-width:0.8;\"/>\r\n   </g>\r\n   <g id=\"patch_6\">\r\n    <path d=\"M 33.2875 22.318125 \r\nL 368.0875 22.318125 \r\n\" style=\"fill:none;stroke:#000000;stroke-linecap:square;stroke-linejoin:miter;stroke-width:0.8;\"/>\r\n   </g>\r\n   <g id=\"text_17\">\r\n    <!-- Average sale price per sqft  -->\r\n    <defs>\r\n     <path d=\"M 34.1875 63.1875 \r\nL 20.796875 26.90625 \r\nL 47.609375 26.90625 \r\nz\r\nM 28.609375 72.90625 \r\nL 39.796875 72.90625 \r\nL 67.578125 0 \r\nL 57.328125 0 \r\nL 50.6875 18.703125 \r\nL 17.828125 18.703125 \r\nL 11.1875 0 \r\nL 0.78125 0 \r\nz\r\n\" id=\"DejaVuSans-65\"/>\r\n     <path d=\"M 2.984375 54.6875 \r\nL 12.5 54.6875 \r\nL 29.59375 8.796875 \r\nL 46.6875 54.6875 \r\nL 56.203125 54.6875 \r\nL 35.6875 0 \r\nL 23.484375 0 \r\nz\r\n\" id=\"DejaVuSans-118\"/>\r\n     <path d=\"M 45.40625 27.984375 \r\nQ 45.40625 37.75 41.375 43.109375 \r\nQ 37.359375 48.484375 30.078125 48.484375 \r\nQ 22.859375 48.484375 18.828125 43.109375 \r\nQ 14.796875 37.75 14.796875 27.984375 \r\nQ 14.796875 18.265625 18.828125 12.890625 \r\nQ 22.859375 7.515625 30.078125 7.515625 \r\nQ 37.359375 7.515625 41.375 12.890625 \r\nQ 45.40625 18.265625 45.40625 27.984375 \r\nz\r\nM 54.390625 6.78125 \r\nQ 54.390625 -7.171875 48.1875 -13.984375 \r\nQ 42 -20.796875 29.203125 -20.796875 \r\nQ 24.46875 -20.796875 20.265625 -20.09375 \r\nQ 16.0625 -19.390625 12.109375 -17.921875 \r\nL 12.109375 -9.1875 \r\nQ 16.0625 -11.328125 19.921875 -12.34375 \r\nQ 23.78125 -13.375 27.78125 -13.375 \r\nQ 36.625 -13.375 41.015625 -8.765625 \r\nQ 45.40625 -4.15625 45.40625 5.171875 \r\nL 45.40625 9.625 \r\nQ 42.625 4.78125 38.28125 2.390625 \r\nQ 33.9375 0 27.875 0 \r\nQ 17.828125 0 11.671875 7.65625 \r\nQ 5.515625 15.328125 5.515625 27.984375 \r\nQ 5.515625 40.671875 11.671875 48.328125 \r\nQ 17.828125 56 27.875 56 \r\nQ 33.9375 56 38.28125 53.609375 \r\nQ 42.625 51.21875 45.40625 46.390625 \r\nL 45.40625 54.6875 \r\nL 54.390625 54.6875 \r\nz\r\n\" id=\"DejaVuSans-103\"/>\r\n     <path id=\"DejaVuSans-32\"/>\r\n     <path d=\"M 44.28125 53.078125 \r\nL 44.28125 44.578125 \r\nQ 40.484375 46.53125 36.375 47.5 \r\nQ 32.28125 48.484375 27.875 48.484375 \r\nQ 21.1875 48.484375 17.84375 46.4375 \r\nQ 14.5 44.390625 14.5 40.28125 \r\nQ 14.5 37.15625 16.890625 35.375 \r\nQ 19.28125 33.59375 26.515625 31.984375 \r\nL 29.59375 31.296875 \r\nQ 39.15625 29.25 43.1875 25.515625 \r\nQ 47.21875 21.78125 47.21875 15.09375 \r\nQ 47.21875 7.46875 41.1875 3.015625 \r\nQ 35.15625 -1.421875 24.609375 -1.421875 \r\nQ 20.21875 -1.421875 15.453125 -0.5625 \r\nQ 10.6875 0.296875 5.421875 2 \r\nL 5.421875 11.28125 \r\nQ 10.40625 8.6875 15.234375 7.390625 \r\nQ 20.0625 6.109375 24.8125 6.109375 \r\nQ 31.15625 6.109375 34.5625 8.28125 \r\nQ 37.984375 10.453125 37.984375 14.40625 \r\nQ 37.984375 18.0625 35.515625 20.015625 \r\nQ 33.0625 21.96875 24.703125 23.78125 \r\nL 21.578125 24.515625 \r\nQ 13.234375 26.265625 9.515625 29.90625 \r\nQ 5.8125 33.546875 5.8125 39.890625 \r\nQ 5.8125 47.609375 11.28125 51.796875 \r\nQ 16.75 56 26.8125 56 \r\nQ 31.78125 56 36.171875 55.265625 \r\nQ 40.578125 54.546875 44.28125 53.078125 \r\nz\r\n\" id=\"DejaVuSans-115\"/>\r\n     <path d=\"M 9.421875 75.984375 \r\nL 18.40625 75.984375 \r\nL 18.40625 0 \r\nL 9.421875 0 \r\nz\r\n\" id=\"DejaVuSans-108\"/>\r\n     <path d=\"M 18.109375 8.203125 \r\nL 18.109375 -20.796875 \r\nL 9.078125 -20.796875 \r\nL 9.078125 54.6875 \r\nL 18.109375 54.6875 \r\nL 18.109375 46.390625 \r\nQ 20.953125 51.265625 25.265625 53.625 \r\nQ 29.59375 56 35.59375 56 \r\nQ 45.5625 56 51.78125 48.09375 \r\nQ 58.015625 40.1875 58.015625 27.296875 \r\nQ 58.015625 14.40625 51.78125 6.484375 \r\nQ 45.5625 -1.421875 35.59375 -1.421875 \r\nQ 29.59375 -1.421875 25.265625 0.953125 \r\nQ 20.953125 3.328125 18.109375 8.203125 \r\nz\r\nM 48.6875 27.296875 \r\nQ 48.6875 37.203125 44.609375 42.84375 \r\nQ 40.53125 48.484375 33.40625 48.484375 \r\nQ 26.265625 48.484375 22.1875 42.84375 \r\nQ 18.109375 37.203125 18.109375 27.296875 \r\nQ 18.109375 17.390625 22.1875 11.75 \r\nQ 26.265625 6.109375 33.40625 6.109375 \r\nQ 40.53125 6.109375 44.609375 11.75 \r\nQ 48.6875 17.390625 48.6875 27.296875 \r\nz\r\n\" id=\"DejaVuSans-112\"/>\r\n     <path d=\"M 9.421875 54.6875 \r\nL 18.40625 54.6875 \r\nL 18.40625 0 \r\nL 9.421875 0 \r\nz\r\nM 9.421875 75.984375 \r\nL 18.40625 75.984375 \r\nL 18.40625 64.59375 \r\nL 9.421875 64.59375 \r\nz\r\n\" id=\"DejaVuSans-105\"/>\r\n     <path d=\"M 48.78125 52.59375 \r\nL 48.78125 44.1875 \r\nQ 44.96875 46.296875 41.140625 47.34375 \r\nQ 37.3125 48.390625 33.40625 48.390625 \r\nQ 24.65625 48.390625 19.8125 42.84375 \r\nQ 14.984375 37.3125 14.984375 27.296875 \r\nQ 14.984375 17.28125 19.8125 11.734375 \r\nQ 24.65625 6.203125 33.40625 6.203125 \r\nQ 37.3125 6.203125 41.140625 7.25 \r\nQ 44.96875 8.296875 48.78125 10.40625 \r\nL 48.78125 2.09375 \r\nQ 45.015625 0.34375 40.984375 -0.53125 \r\nQ 36.96875 -1.421875 32.421875 -1.421875 \r\nQ 20.0625 -1.421875 12.78125 6.34375 \r\nQ 5.515625 14.109375 5.515625 27.296875 \r\nQ 5.515625 40.671875 12.859375 48.328125 \r\nQ 20.21875 56 33.015625 56 \r\nQ 37.15625 56 41.109375 55.140625 \r\nQ 45.0625 54.296875 48.78125 52.59375 \r\nz\r\n\" id=\"DejaVuSans-99\"/>\r\n     <path d=\"M 14.796875 27.296875 \r\nQ 14.796875 17.390625 18.875 11.75 \r\nQ 22.953125 6.109375 30.078125 6.109375 \r\nQ 37.203125 6.109375 41.296875 11.75 \r\nQ 45.40625 17.390625 45.40625 27.296875 \r\nQ 45.40625 37.203125 41.296875 42.84375 \r\nQ 37.203125 48.484375 30.078125 48.484375 \r\nQ 22.953125 48.484375 18.875 42.84375 \r\nQ 14.796875 37.203125 14.796875 27.296875 \r\nz\r\nM 45.40625 8.203125 \r\nQ 42.578125 3.328125 38.25 0.953125 \r\nQ 33.9375 -1.421875 27.875 -1.421875 \r\nQ 17.96875 -1.421875 11.734375 6.484375 \r\nQ 5.515625 14.40625 5.515625 27.296875 \r\nQ 5.515625 40.1875 11.734375 48.09375 \r\nQ 17.96875 56 27.875 56 \r\nQ 33.9375 56 38.25 53.625 \r\nQ 42.578125 51.265625 45.40625 46.390625 \r\nL 45.40625 54.6875 \r\nL 54.390625 54.6875 \r\nL 54.390625 -20.796875 \r\nL 45.40625 -20.796875 \r\nz\r\n\" id=\"DejaVuSans-113\"/>\r\n     <path d=\"M 37.109375 75.984375 \r\nL 37.109375 68.5 \r\nL 28.515625 68.5 \r\nQ 23.6875 68.5 21.796875 66.546875 \r\nQ 19.921875 64.59375 19.921875 59.515625 \r\nL 19.921875 54.6875 \r\nL 34.71875 54.6875 \r\nL 34.71875 47.703125 \r\nL 19.921875 47.703125 \r\nL 19.921875 0 \r\nL 10.890625 0 \r\nL 10.890625 47.703125 \r\nL 2.296875 47.703125 \r\nL 2.296875 54.6875 \r\nL 10.890625 54.6875 \r\nL 10.890625 58.5 \r\nQ 10.890625 67.625 15.140625 71.796875 \r\nQ 19.390625 75.984375 28.609375 75.984375 \r\nz\r\n\" id=\"DejaVuSans-102\"/>\r\n     <path d=\"M 18.3125 70.21875 \r\nL 18.3125 54.6875 \r\nL 36.8125 54.6875 \r\nL 36.8125 47.703125 \r\nL 18.3125 47.703125 \r\nL 18.3125 18.015625 \r\nQ 18.3125 11.328125 20.140625 9.421875 \r\nQ 21.96875 7.515625 27.59375 7.515625 \r\nL 36.8125 7.515625 \r\nL 36.8125 0 \r\nL 27.59375 0 \r\nQ 17.1875 0 13.234375 3.875 \r\nQ 9.28125 7.765625 9.28125 18.015625 \r\nL 9.28125 47.703125 \r\nL 2.6875 47.703125 \r\nL 2.6875 54.6875 \r\nL 9.28125 54.6875 \r\nL 9.28125 70.21875 \r\nz\r\n\" id=\"DejaVuSans-116\"/>\r\n    </defs>\r\n    <g transform=\"translate(117.705625 16.318125)scale(0.12 -0.12)\">\r\n     <use xlink:href=\"#DejaVuSans-65\"/>\r\n     <use x=\"68.330078\" xlink:href=\"#DejaVuSans-118\"/>\r\n     <use x=\"127.509766\" xlink:href=\"#DejaVuSans-101\"/>\r\n     <use x=\"189.033203\" xlink:href=\"#DejaVuSans-114\"/>\r\n     <use x=\"230.146484\" xlink:href=\"#DejaVuSans-97\"/>\r\n     <use x=\"291.425781\" xlink:href=\"#DejaVuSans-103\"/>\r\n     <use x=\"354.902344\" xlink:href=\"#DejaVuSans-101\"/>\r\n     <use x=\"416.425781\" xlink:href=\"#DejaVuSans-32\"/>\r\n     <use x=\"448.212891\" xlink:href=\"#DejaVuSans-115\"/>\r\n     <use x=\"500.3125\" xlink:href=\"#DejaVuSans-97\"/>\r\n     <use x=\"561.591797\" xlink:href=\"#DejaVuSans-108\"/>\r\n     <use x=\"589.375\" xlink:href=\"#DejaVuSans-101\"/>\r\n     <use x=\"650.898438\" xlink:href=\"#DejaVuSans-32\"/>\r\n     <use x=\"682.685547\" xlink:href=\"#DejaVuSans-112\"/>\r\n     <use x=\"746.162109\" xlink:href=\"#DejaVuSans-114\"/>\r\n     <use x=\"787.275391\" xlink:href=\"#DejaVuSans-105\"/>\r\n     <use x=\"815.058594\" xlink:href=\"#DejaVuSans-99\"/>\r\n     <use x=\"870.039062\" xlink:href=\"#DejaVuSans-101\"/>\r\n     <use x=\"931.5625\" xlink:href=\"#DejaVuSans-32\"/>\r\n     <use x=\"963.349609\" xlink:href=\"#DejaVuSans-112\"/>\r\n     <use x=\"1026.826172\" xlink:href=\"#DejaVuSans-101\"/>\r\n     <use x=\"1088.349609\" xlink:href=\"#DejaVuSans-114\"/>\r\n     <use x=\"1129.462891\" xlink:href=\"#DejaVuSans-32\"/>\r\n     <use x=\"1161.25\" xlink:href=\"#DejaVuSans-115\"/>\r\n     <use x=\"1213.349609\" xlink:href=\"#DejaVuSans-113\"/>\r\n     <use x=\"1276.826172\" xlink:href=\"#DejaVuSans-102\"/>\r\n     <use x=\"1312.015625\" xlink:href=\"#DejaVuSans-116\"/>\r\n     <use x=\"1351.224609\" xlink:href=\"#DejaVuSans-32\"/>\r\n    </g>\r\n   </g>\r\n  </g>\r\n </g>\r\n <defs>\r\n  <clipPath id=\"p3e6b4aa603\">\r\n   <rect height=\"217.44\" width=\"334.8\" x=\"33.2875\" y=\"22.318125\"/>\r\n  </clipPath>\r\n </defs>\r\n</svg>\r\n",
      "image/png": "[encoded data removed]"
     },
     "metadata": {
      "needs_background": "light"
     }
    }
   ],
   "source": [
    "average_sales_price()"
   ]
  },
  {
   "cell_type": "code",
   "execution_count": 19,
   "metadata": {},
   "outputs": [
    {
     "output_type": "display_data",
     "data": {},
     "metadata": {}
    },
    {
     "output_type": "execute_result",
     "data": {
      "text/html": "<div id='1838'>\n\n\n\n\n\n  <div class=\"bk-root\" id=\"ebcfa81b-fb2b-4afe-84ab-ee96f994bdc0\" data-root-id=\"1838\"></div>\n</div>\n<script type=\"application/javascript\">(function(root) {\n  function embed_document(root) {\n    var docs_json = {\"4f711233-4029-495f-843a-b5ecd7655075\":{\"roots\":{\"references\":[{\"attributes\":{\"margin\":[5,5,5,5],\"name\":\"VSpacer30212\",\"sizing_mode\":\"stretch_height\"},\"id\":\"1995\",\"type\":\"Spacer\"},{\"attributes\":{},\"id\":\"1888\",\"type\":\"Selection\"},{\"attributes\":{},\"id\":\"1851\",\"type\":\"LinearScale\"},{\"attributes\":{},\"id\":\"1904\",\"type\":\"UnionRenderers\"},{\"attributes\":{},\"id\":\"1865\",\"type\":\"ResetTool\"},{\"attributes\":{\"data\":{\"gross_rent\":[1239,1530,2324,2971,3528,3739,4390],\"year\":[2010,2011,2012,2013,2014,2015,2016]},\"selected\":{\"id\":\"1888\"},\"selection_policy\":{\"id\":\"1904\"}},\"id\":\"1887\",\"type\":\"ColumnDataSource\"},{\"attributes\":{\"children\":[{\"id\":\"1839\"},{\"id\":\"1844\"},{\"id\":\"1993\"},{\"id\":\"1994\"}],\"margin\":[0,0,0,0],\"name\":\"Row30204\",\"tags\":[\"embedded\"]},\"id\":\"1838\",\"type\":\"Row\"},{\"attributes\":{},\"id\":\"1902\",\"type\":\"UnionRenderers\"},{\"attributes\":{\"state\":{\"Alamo Square\":{\"content\":\"{\\\"events\\\": [{\\\"attr\\\": \\\"start\\\", \\\"kind\\\": \\\"ModelChanged\\\", \\\"model\\\": {\\\"id\\\": \\\"1841\\\"}, \\\"new\\\": -237.59075137539728}, {\\\"attr\\\": \\\"reset_start\\\", \\\"kind\\\": \\\"ModelChanged\\\", \\\"model\\\": {\\\"id\\\": \\\"1841\\\"}, \\\"new\\\": -237.59075137539728}, {\\\"attr\\\": \\\"end\\\", \\\"kind\\\": \\\"ModelChanged\\\", \\\"model\\\": {\\\"id\\\": \\\"1841\\\"}, \\\"new\\\": 4810.690068306854}, {\\\"attr\\\": \\\"reset_end\\\", \\\"kind\\\": \\\"ModelChanged\\\", \\\"model\\\": {\\\"id\\\": \\\"1841\\\"}, \\\"new\\\": 4810.690068306854}, {\\\"cols\\\": null, \\\"column_source\\\": {\\\"id\\\": \\\"1879\\\"}, \\\"kind\\\": \\\"ColumnDataChanged\\\", \\\"new\\\": {\\\"sale_price_sqr_foot\\\": {\\\"__ndarray__\\\": \\\"Dkc7WO0yckCafszcbwhxQIGRs5ot42ZAJzog0LQ8eEAWMinKGEd+QI0V5FDt0IJAVCHcmLVPdUA=\\\", \\\"dtype\\\": \\\"float64\\\", \\\"order\\\": \\\"little\\\", \\\"shape\\\": [7]}, \\\"year\\\": [2010, 2011, 2012, 2013, 2014, 2015, 2016]}}, {\\\"cols\\\": null, \\\"column_source\\\": {\\\"id\\\": \\\"1887\\\"}, \\\"kind\\\": \\\"ColumnDataChanged\\\", \\\"new\\\": {\\\"gross_rent\\\": [1239, 1530, 2324, 2971, 3528, 3739, 4390], \\\"year\\\": [2010, 2011, 2012, 2013, 2014, 2015, 2016]}}, {\\\"attr\\\": \\\"text\\\", \\\"kind\\\": \\\"ModelChanged\\\", \\\"model\\\": {\\\"id\\\": \\\"1845\\\"}, \\\"new\\\": \\\"neighborhood: Alamo Square\\\"}], \\\"references\\\": []}\",\"header\":\"{\\\"msgid\\\": \\\"2395\\\", \\\"msgtype\\\": \\\"PATCH-DOC\\\"}\",\"metadata\":\"{}\"},\"Anza Vista\":{\"content\":\"{\\\"events\\\": [{\\\"attr\\\": \\\"end\\\", \\\"kind\\\": \\\"ModelChanged\\\", \\\"model\\\": {\\\"id\\\": \\\"1840\\\"}, \\\"new\\\": 2016.0}, {\\\"attr\\\": \\\"reset_end\\\", \\\"kind\\\": \\\"ModelChanged\\\", \\\"model\\\": {\\\"id\\\": \\\"1840\\\"}, \\\"new\\\": 2016.0}, {\\\"attr\\\": \\\"start\\\", \\\"kind\\\": \\\"ModelChanged\\\", \\\"model\\\": {\\\"id\\\": \\\"1841\\\"}, \\\"new\\\": -341.7583379593295}, {\\\"attr\\\": \\\"reset_start\\\", \\\"kind\\\": \\\"ModelChanged\\\", \\\"model\\\": {\\\"id\\\": \\\"1841\\\"}, \\\"new\\\": -341.7583379593295}, {\\\"attr\\\": \\\"end\\\", \\\"kind\\\": \\\"ModelChanged\\\", \\\"model\\\": {\\\"id\\\": \\\"1841\\\"}, \\\"new\\\": 4820.159848905394}, {\\\"attr\\\": \\\"reset_end\\\", \\\"kind\\\": \\\"ModelChanged\\\", \\\"model\\\": {\\\"id\\\": \\\"1841\\\"}, \\\"new\\\": 4820.159848905394}, {\\\"cols\\\": null, \\\"column_source\\\": {\\\"id\\\": \\\"1879\\\"}, \\\"kind\\\": \\\"ColumnDataChanged\\\", \\\"new\\\": {\\\"sale_price_sqr_foot\\\": {\\\"__ndarray__\\\": \\\"G/PQ2+u+cEATzZrI2od1QB4UWK5yVXxAICUpAIhjg0D6+vr6+hp9QDOV91qyGVZA\\\", \\\"dtype\\\": \\\"float64\\\", \\\"order\\\": \\\"little\\\", \\\"shape\\\": [6]}, \\\"year\\\": [2010, 2012, 2013, 2014, 2015, 2016]}}, {\\\"cols\\\": null, \\\"column_source\\\": {\\\"id\\\": \\\"1887\\\"}, \\\"kind\\\": \\\"ColumnDataChanged\\\", \\\"new\\\": {\\\"gross_rent\\\": [1239, 2324, 2971, 3528, 3739, 4390], \\\"year\\\": [2010, 2012, 2013, 2014, 2015, 2016]}}, {\\\"attr\\\": \\\"text\\\", \\\"kind\\\": \\\"ModelChanged\\\", \\\"model\\\": {\\\"id\\\": \\\"1845\\\"}, \\\"new\\\": \\\"neighborhood: Anza Vista\\\"}], \\\"references\\\": []}\",\"header\":\"{\\\"msgid\\\": \\\"2390\\\", \\\"msgtype\\\": \\\"PATCH-DOC\\\"}\",\"metadata\":\"{}\"},\"Bayview\":{\"content\":\"{\\\"events\\\": [{\\\"attr\\\": \\\"start\\\", \\\"kind\\\": \\\"ModelChanged\\\", \\\"model\\\": {\\\"id\\\": \\\"1840\\\"}, \\\"new\\\": 2010.0}, {\\\"attr\\\": \\\"reset_start\\\", \\\"kind\\\": \\\"ModelChanged\\\", \\\"model\\\": {\\\"id\\\": \\\"1840\\\"}, \\\"new\\\": 2010.0}, {\\\"attr\\\": \\\"end\\\", \\\"kind\\\": \\\"ModelChanged\\\", \\\"model\\\": {\\\"id\\\": \\\"1840\\\"}, \\\"new\\\": 2014.0}, {\\\"attr\\\": \\\"reset_end\\\", \\\"kind\\\": \\\"ModelChanged\\\", \\\"model\\\": {\\\"id\\\": \\\"1840\\\"}, \\\"new\\\": 2014.0}, {\\\"attr\\\": \\\"start\\\", \\\"kind\\\": \\\"ModelChanged\\\", \\\"model\\\": {\\\"id\\\": \\\"1841\\\"}, \\\"new\\\": -170.42213136918028}, {\\\"attr\\\": \\\"reset_start\\\", \\\"kind\\\": \\\"ModelChanged\\\", \\\"model\\\": {\\\"id\\\": \\\"1841\\\"}, \\\"new\\\": -170.42213136918028}, {\\\"attr\\\": \\\"end\\\", \\\"kind\\\": \\\"ModelChanged\\\", \\\"model\\\": {\\\"id\\\": \\\"1841\\\"}, \\\"new\\\": 3864.2201937608347}, {\\\"attr\\\": \\\"reset_end\\\", \\\"kind\\\": \\\"ModelChanged\\\", \\\"model\\\": {\\\"id\\\": \\\"1841\\\"}, \\\"new\\\": 3864.2201937608347}, {\\\"cols\\\": null, \\\"column_source\\\": {\\\"id\\\": \\\"1879\\\"}, \\\"kind\\\": \\\"ColumnDataChanged\\\", \\\"new\\\": {\\\"sale_price_sqr_foot\\\": {\\\"__ndarray__\\\": \\\"PPRDRChDZUAQP5VJTJFlQFUKJLqJuWRAAC6QLcE4cEBWESlbrd5vQA==\\\", \\\"dtype\\\": \\\"float64\\\", \\\"order\\\": \\\"little\\\", \\\"shape\\\": [5]}, \\\"year\\\": [2010, 2011, 2012, 2013, 2014]}}, {\\\"cols\\\": null, \\\"column_source\\\": {\\\"id\\\": \\\"1887\\\"}, \\\"kind\\\": \\\"ColumnDataChanged\\\", \\\"new\\\": {\\\"gross_rent\\\": [1239, 1530, 2324, 2971, 3528], \\\"year\\\": [2010, 2011, 2012, 2013, 2014]}}, {\\\"attr\\\": \\\"text\\\", \\\"kind\\\": \\\"ModelChanged\\\", \\\"model\\\": {\\\"id\\\": \\\"1845\\\"}, \\\"new\\\": \\\"neighborhood: Bayview\\\"}], \\\"references\\\": []}\",\"header\":\"{\\\"msgid\\\": \\\"2385\\\", \\\"msgtype\\\": \\\"PATCH-DOC\\\"}\",\"metadata\":\"{}\"},\"Bayview Heights\":{\"content\":\"{\\\"events\\\": [{\\\"attr\\\": \\\"start\\\", \\\"kind\\\": \\\"ModelChanged\\\", \\\"model\\\": {\\\"id\\\": \\\"1840\\\"}, \\\"new\\\": 2014.0}, {\\\"attr\\\": \\\"reset_start\\\", \\\"kind\\\": \\\"ModelChanged\\\", \\\"model\\\": {\\\"id\\\": \\\"1840\\\"}, \\\"new\\\": 2014.0}, {\\\"attr\\\": \\\"start\\\", \\\"kind\\\": \\\"ModelChanged\\\", \\\"model\\\": {\\\"id\\\": \\\"1841\\\"}, \\\"new\\\": 275.9721227621483}, {\\\"attr\\\": \\\"reset_start\\\", \\\"kind\\\": \\\"ModelChanged\\\", \\\"model\\\": {\\\"id\\\": \\\"1841\\\"}, \\\"new\\\": 275.9721227621483}, {\\\"attr\\\": \\\"end\\\", \\\"kind\\\": \\\"ModelChanged\\\", \\\"model\\\": {\\\"id\\\": \\\"1841\\\"}, \\\"new\\\": 4053.820716112532}, {\\\"attr\\\": \\\"reset_end\\\", \\\"kind\\\": \\\"ModelChanged\\\", \\\"model\\\": {\\\"id\\\": \\\"1841\\\"}, \\\"new\\\": 4053.820716112532}, {\\\"cols\\\": null, \\\"column_source\\\": {\\\"id\\\": \\\"1879\\\"}, \\\"kind\\\": \\\"ColumnDataChanged\\\", \\\"new\\\": {\\\"sale_price_sqr_foot\\\": {\\\"__ndarray__\\\": \\\"/m3ou1d2gkA=\\\", \\\"dtype\\\": \\\"float64\\\", \\\"order\\\": \\\"little\\\", \\\"shape\\\": [1]}, \\\"year\\\": [2015]}}, {\\\"cols\\\": null, \\\"column_source\\\": {\\\"id\\\": \\\"1887\\\"}, \\\"kind\\\": \\\"ColumnDataChanged\\\", \\\"new\\\": {\\\"gross_rent\\\": [3739], \\\"year\\\": [2015]}}, {\\\"attr\\\": \\\"text\\\", \\\"kind\\\": \\\"ModelChanged\\\", \\\"model\\\": {\\\"id\\\": \\\"1845\\\"}, \\\"new\\\": \\\"neighborhood: Bayview Heights\\\"}], \\\"references\\\": []}\",\"header\":\"{\\\"msgid\\\": \\\"2380\\\", \\\"msgtype\\\": \\\"PATCH-DOC\\\"}\",\"metadata\":\"{}\"},\"Bernal Heights \":{\"content\":\"{\\\"events\\\": [{\\\"attr\\\": \\\"start\\\", \\\"kind\\\": \\\"ModelChanged\\\", \\\"model\\\": {\\\"id\\\": \\\"1840\\\"}, \\\"new\\\": 2011.0}, {\\\"attr\\\": \\\"reset_start\\\", \\\"kind\\\": \\\"ModelChanged\\\", \\\"model\\\": {\\\"id\\\": \\\"1840\\\"}, \\\"new\\\": 2011.0}, {\\\"attr\\\": \\\"start\\\", \\\"kind\\\": \\\"ModelChanged\\\", \\\"model\\\": {\\\"id\\\": \\\"1841\\\"}, \\\"new\\\": -33.906783132776354}, {\\\"attr\\\": \\\"reset_start\\\", \\\"kind\\\": \\\"ModelChanged\\\", \\\"model\\\": {\\\"id\\\": \\\"1841\\\"}, \\\"new\\\": -33.906783132776354}, {\\\"attr\\\": \\\"end\\\", \\\"kind\\\": \\\"ModelChanged\\\", \\\"model\\\": {\\\"id\\\": \\\"1841\\\"}, \\\"new\\\": 4792.173343921161}, {\\\"attr\\\": \\\"reset_end\\\", \\\"kind\\\": \\\"ModelChanged\\\", \\\"model\\\": {\\\"id\\\": \\\"1841\\\"}, \\\"new\\\": 4792.173343921161}, {\\\"cols\\\": null, \\\"column_source\\\": {\\\"id\\\": \\\"1879\\\"}, \\\"kind\\\": \\\"ColumnDataChanged\\\", \\\"new\\\": {\\\"sale_price_sqr_foot\\\": {\\\"__ndarray__\\\": \\\"HjEmar9+fUAqyD7VQwR3QCfG9awtt4NAqiUgHGAEgUB/Ui+cEaB8QGwor6G81o5A\\\", \\\"dtype\\\": \\\"float64\\\", \\\"order\\\": \\\"little\\\", \\\"shape\\\": [6]}, \\\"year\\\": [2011, 2012, 2013, 2014, 2015, 2016]}}, {\\\"cols\\\": null, \\\"column_source\\\": {\\\"id\\\": \\\"1887\\\"}, \\\"kind\\\": \\\"ColumnDataChanged\\\", \\\"new\\\": {\\\"gross_rent\\\": [1530, 2324, 2971, 3528, 3739, 4390], \\\"year\\\": [2011, 2012, 2013, 2014, 2015, 2016]}}, {\\\"attr\\\": \\\"text\\\", \\\"kind\\\": \\\"ModelChanged\\\", \\\"model\\\": {\\\"id\\\": \\\"1845\\\"}, \\\"new\\\": \\\"neighborhood: Bernal Heights\\\"}], \\\"references\\\": []}\",\"header\":\"{\\\"msgid\\\": \\\"2375\\\", \\\"msgtype\\\": \\\"PATCH-DOC\\\"}\",\"metadata\":\"{}\"},\"Buena Vista Park\":{\"content\":\"{\\\"events\\\": [{\\\"attr\\\": \\\"start\\\", \\\"kind\\\": \\\"ModelChanged\\\", \\\"model\\\": {\\\"id\\\": \\\"1841\\\"}, \\\"new\\\": -250.05041864473515}, {\\\"attr\\\": \\\"reset_start\\\", \\\"kind\\\": \\\"ModelChanged\\\", \\\"model\\\": {\\\"id\\\": \\\"1841\\\"}, \\\"new\\\": -250.05041864473515}, {\\\"attr\\\": \\\"end\\\", \\\"kind\\\": \\\"ModelChanged\\\", \\\"model\\\": {\\\"id\\\": \\\"1841\\\"}, \\\"new\\\": 4811.82276533134}, {\\\"attr\\\": \\\"reset_end\\\", \\\"kind\\\": \\\"ModelChanged\\\", \\\"model\\\": {\\\"id\\\": \\\"1841\\\"}, \\\"new\\\": 4811.82276533134}, {\\\"cols\\\": null, \\\"column_source\\\": {\\\"id\\\": \\\"1879\\\"}, \\\"kind\\\": \\\"ColumnDataChanged\\\", \\\"new\\\": {\\\"sale_price_sqr_foot\\\": {\\\"__ndarray__\\\": \\\"8TcCl1G2dUB6BGYQt3hlQNMPoV2eKXVAK46qSn1zfEA6NDCikD2BQFP8ARQ2m4pA\\\", \\\"dtype\\\": \\\"float64\\\", \\\"order\\\": \\\"little\\\", \\\"shape\\\": [6]}, \\\"year\\\": [2010, 2011, 2012, 2013, 2015, 2016]}}, {\\\"cols\\\": null, \\\"column_source\\\": {\\\"id\\\": \\\"1887\\\"}, \\\"kind\\\": \\\"ColumnDataChanged\\\", \\\"new\\\": {\\\"gross_rent\\\": [1239, 1530, 2324, 2971, 3739, 4390], \\\"year\\\": [2010, 2011, 2012, 2013, 2015, 2016]}}, {\\\"attr\\\": \\\"text\\\", \\\"kind\\\": \\\"ModelChanged\\\", \\\"model\\\": {\\\"id\\\": \\\"1845\\\"}, \\\"new\\\": \\\"neighborhood: Buena Vista Park\\\"}], \\\"references\\\": []}\",\"header\":\"{\\\"msgid\\\": \\\"2370\\\", \\\"msgtype\\\": \\\"PATCH-DOC\\\"}\",\"metadata\":\"{}\"},\"Central Richmond\":{\"content\":\"{\\\"events\\\": [{\\\"attr\\\": \\\"start\\\", \\\"kind\\\": \\\"ModelChanged\\\", \\\"model\\\": {\\\"id\\\": \\\"1841\\\"}, \\\"new\\\": -151.16981962418305}, {\\\"attr\\\": \\\"reset_start\\\", \\\"kind\\\": \\\"ModelChanged\\\", \\\"model\\\": {\\\"id\\\": \\\"1841\\\"}, \\\"new\\\": -151.16981962418305}, {\\\"attr\\\": \\\"end\\\", \\\"kind\\\": \\\"ModelChanged\\\", \\\"model\\\": {\\\"id\\\": \\\"1841\\\"}, \\\"new\\\": 4802.833619965835}, {\\\"attr\\\": \\\"reset_end\\\", \\\"kind\\\": \\\"ModelChanged\\\", \\\"model\\\": {\\\"id\\\": \\\"1841\\\"}, \\\"new\\\": 4802.833619965835}, {\\\"cols\\\": null, \\\"column_source\\\": {\\\"id\\\": \\\"1879\\\"}, \\\"kind\\\": \\\"ColumnDataChanged\\\", \\\"new\\\": {\\\"sale_price_sqr_foot\\\": {\\\"__ndarray__\\\": \\\"/qBYJHHwc0B9ZxvtnlpwQB+s/3N7cHFAjxvCQN5wdUCCLplePn96QG3yb/yekn1A84Oo8YOohEA=\\\", \\\"dtype\\\": \\\"float64\\\", \\\"order\\\": \\\"little\\\", \\\"shape\\\": [7]}, \\\"year\\\": [2010, 2011, 2012, 2013, 2014, 2015, 2016]}}, {\\\"cols\\\": null, \\\"column_source\\\": {\\\"id\\\": \\\"1887\\\"}, \\\"kind\\\": \\\"ColumnDataChanged\\\", \\\"new\\\": {\\\"gross_rent\\\": [1239, 1530, 2324, 2971, 3528, 3739, 4390], \\\"year\\\": [2010, 2011, 2012, 2013, 2014, 2015, 2016]}}, {\\\"attr\\\": \\\"text\\\", \\\"kind\\\": \\\"ModelChanged\\\", \\\"model\\\": {\\\"id\\\": \\\"1845\\\"}, \\\"new\\\": \\\"neighborhood: Central Richmond\\\"}], \\\"references\\\": []}\",\"header\":\"{\\\"msgid\\\": \\\"2365\\\", \\\"msgtype\\\": \\\"PATCH-DOC\\\"}\",\"metadata\":\"{}\"},\"Central Sunset\":{\"content\":\"{\\\"events\\\": [{\\\"attr\\\": \\\"start\\\", \\\"kind\\\": \\\"ModelChanged\\\", \\\"model\\\": {\\\"id\\\": \\\"1840\\\"}, \\\"new\\\": 2010.0}, {\\\"attr\\\": \\\"reset_start\\\", \\\"kind\\\": \\\"ModelChanged\\\", \\\"model\\\": {\\\"id\\\": \\\"1840\\\"}, \\\"new\\\": 2010.0}, {\\\"attr\\\": \\\"end\\\", \\\"kind\\\": \\\"ModelChanged\\\", \\\"model\\\": {\\\"id\\\": \\\"1840\\\"}, \\\"new\\\": 2016.0}, {\\\"attr\\\": \\\"reset_end\\\", \\\"kind\\\": \\\"ModelChanged\\\", \\\"model\\\": {\\\"id\\\": \\\"1840\\\"}, \\\"new\\\": 2016.0}, {\\\"attr\\\": \\\"start\\\", \\\"kind\\\": \\\"ModelChanged\\\", \\\"model\\\": {\\\"id\\\": \\\"1841\\\"}, \\\"new\\\": -75.18992587889181}, {\\\"attr\\\": \\\"reset_start\\\", \\\"kind\\\": \\\"ModelChanged\\\", \\\"model\\\": {\\\"id\\\": \\\"1841\\\"}, \\\"new\\\": -75.18992587889181}, {\\\"attr\\\": \\\"end\\\", \\\"kind\\\": \\\"ModelChanged\\\", \\\"model\\\": {\\\"id\\\": \\\"1841\\\"}, \\\"new\\\": 4795.926356898081}, {\\\"attr\\\": \\\"reset_end\\\", \\\"kind\\\": \\\"ModelChanged\\\", \\\"model\\\": {\\\"id\\\": \\\"1841\\\"}, \\\"new\\\": 4795.926356898081}, {\\\"cols\\\": null, \\\"column_source\\\": {\\\"id\\\": \\\"1879\\\"}, \\\"kind\\\": \\\"ColumnDataChanged\\\", \\\"new\\\": {\\\"sale_price_sqr_foot\\\": {\\\"__ndarray__\\\": \\\"Bv22h8IiekAzufO80nZ4QOlValPO53RA2XLka8irdEAWLPo234N8QKwFse0RVnxA65hZjfcqgkA=\\\", \\\"dtype\\\": \\\"float64\\\", \\\"order\\\": \\\"little\\\", \\\"shape\\\": [7]}, \\\"year\\\": [2010, 2011, 2012, 2013, 2014, 2015, 2016]}}, {\\\"cols\\\": null, \\\"column_source\\\": {\\\"id\\\": \\\"1887\\\"}, \\\"kind\\\": \\\"ColumnDataChanged\\\", \\\"new\\\": {\\\"gross_rent\\\": [1239, 1530, 2324, 2971, 3528, 3739, 4390], \\\"year\\\": [2010, 2011, 2012, 2013, 2014, 2015, 2016]}}, {\\\"attr\\\": \\\"text\\\", \\\"kind\\\": \\\"ModelChanged\\\", \\\"model\\\": {\\\"id\\\": \\\"1845\\\"}, \\\"new\\\": \\\"neighborhood: Central Sunset\\\"}], \\\"references\\\": []}\",\"header\":\"{\\\"msgid\\\": \\\"2360\\\", \\\"msgtype\\\": \\\"PATCH-DOC\\\"}\",\"metadata\":\"{}\"},\"Clarendon Heights\":{\"content\":\"{\\\"events\\\": [{\\\"attr\\\": \\\"start\\\", \\\"kind\\\": \\\"ModelChanged\\\", \\\"model\\\": {\\\"id\\\": \\\"1840\\\"}, \\\"new\\\": 2011.0}, {\\\"attr\\\": \\\"reset_start\\\", \\\"kind\\\": \\\"ModelChanged\\\", \\\"model\\\": {\\\"id\\\": \\\"1840\\\"}, \\\"new\\\": 2011.0}, {\\\"attr\\\": \\\"end\\\", \\\"kind\\\": \\\"ModelChanged\\\", \\\"model\\\": {\\\"id\\\": \\\"1840\\\"}, \\\"new\\\": 2013.0}, {\\\"attr\\\": \\\"reset_end\\\", \\\"kind\\\": \\\"ModelChanged\\\", \\\"model\\\": {\\\"id\\\": \\\"1840\\\"}, \\\"new\\\": 2013.0}, {\\\"attr\\\": \\\"start\\\", \\\"kind\\\": \\\"ModelChanged\\\", \\\"model\\\": {\\\"id\\\": \\\"1841\\\"}, \\\"new\\\": 202.04876497416933}, {\\\"attr\\\": \\\"reset_start\\\", \\\"kind\\\": \\\"ModelChanged\\\", \\\"model\\\": {\\\"id\\\": \\\"1841\\\"}, \\\"new\\\": 202.04876497416933}, {\\\"attr\\\": \\\"end\\\", \\\"kind\\\": \\\"ModelChanged\\\", \\\"model\\\": {\\\"id\\\": \\\"1841\\\"}, \\\"new\\\": 3222.722839547803}, {\\\"attr\\\": \\\"reset_end\\\", \\\"kind\\\": \\\"ModelChanged\\\", \\\"model\\\": {\\\"id\\\": \\\"1841\\\"}, \\\"new\\\": 3222.722839547803}, {\\\"cols\\\": null, \\\"column_source\\\": {\\\"id\\\": \\\"1879\\\"}, \\\"kind\\\": \\\"ColumnDataChanged\\\", \\\"new\\\": {\\\"sale_price_sqr_foot\\\": {\\\"__ndarray__\\\": \\\"2UWezr5FgEAOtft9WFx8QA==\\\", \\\"dtype\\\": \\\"float64\\\", \\\"order\\\": \\\"little\\\", \\\"shape\\\": [2]}, \\\"year\\\": [2011, 2013]}}, {\\\"cols\\\": null, \\\"column_source\\\": {\\\"id\\\": \\\"1887\\\"}, \\\"kind\\\": \\\"ColumnDataChanged\\\", \\\"new\\\": {\\\"gross_rent\\\": [1530, 2971], \\\"year\\\": [2011, 2013]}}, {\\\"attr\\\": \\\"text\\\", \\\"kind\\\": \\\"ModelChanged\\\", \\\"model\\\": {\\\"id\\\": \\\"1845\\\"}, \\\"new\\\": \\\"neighborhood: Clarendon Heights\\\"}], \\\"references\\\": []}\",\"header\":\"{\\\"msgid\\\": \\\"2355\\\", \\\"msgtype\\\": \\\"PATCH-DOC\\\"}\",\"metadata\":\"{}\"},\"Corona Heights\":{\"content\":\"{\\\"events\\\": [{\\\"attr\\\": \\\"end\\\", \\\"kind\\\": \\\"ModelChanged\\\", \\\"model\\\": {\\\"id\\\": \\\"1840\\\"}, \\\"new\\\": 2015.0}, {\\\"attr\\\": \\\"reset_end\\\", \\\"kind\\\": \\\"ModelChanged\\\", \\\"model\\\": {\\\"id\\\": \\\"1840\\\"}, \\\"new\\\": 2015.0}, {\\\"attr\\\": \\\"start\\\", \\\"kind\\\": \\\"ModelChanged\\\", \\\"model\\\": {\\\"id\\\": \\\"1841\\\"}, \\\"new\\\": -129.07536714753442}, {\\\"attr\\\": \\\"reset_start\\\", \\\"kind\\\": \\\"ModelChanged\\\", \\\"model\\\": {\\\"id\\\": \\\"1841\\\"}, \\\"new\\\": -129.07536714753442}, {\\\"attr\\\": \\\"end\\\", \\\"kind\\\": \\\"ModelChanged\\\", \\\"model\\\": {\\\"id\\\": \\\"1841\\\"}, \\\"new\\\": 4090.6432151952304}, {\\\"attr\\\": \\\"reset_end\\\", \\\"kind\\\": \\\"ModelChanged\\\", \\\"model\\\": {\\\"id\\\": \\\"1841\\\"}, \\\"new\\\": 4090.6432151952304}, {\\\"cols\\\": null, \\\"column_source\\\": {\\\"id\\\": \\\"1879\\\"}, \\\"kind\\\": \\\"ColumnDataChanged\\\", \\\"new\\\": {\\\"sale_price_sqr_foot\\\": {\\\"__ndarray__\\\": \\\"of802b8Vd0B1PqvPK9JrQGuzdI63THZAEx6pB3XBi0CNbawuKjORQA==\\\", \\\"dtype\\\": \\\"float64\\\", \\\"order\\\": \\\"little\\\", \\\"shape\\\": [5]}, \\\"year\\\": [2010, 2011, 2012, 2014, 2015]}}, {\\\"cols\\\": null, \\\"column_source\\\": {\\\"id\\\": \\\"1887\\\"}, \\\"kind\\\": \\\"ColumnDataChanged\\\", \\\"new\\\": {\\\"gross_rent\\\": [1239, 1530, 2324, 3528, 3739], \\\"year\\\": [2010, 2011, 2012, 2014, 2015]}}, {\\\"attr\\\": \\\"text\\\", \\\"kind\\\": \\\"ModelChanged\\\", \\\"model\\\": {\\\"id\\\": \\\"1845\\\"}, \\\"new\\\": \\\"neighborhood: Corona Heights\\\"}], \\\"references\\\": []}\",\"header\":\"{\\\"msgid\\\": \\\"2350\\\", \\\"msgtype\\\": \\\"PATCH-DOC\\\"}\",\"metadata\":\"{}\"},\"Cow Hollow\":{\"content\":\"{\\\"events\\\": [{\\\"attr\\\": \\\"start\\\", \\\"kind\\\": \\\"ModelChanged\\\", \\\"model\\\": {\\\"id\\\": \\\"1841\\\"}, \\\"new\\\": -9.344781668740154}, {\\\"attr\\\": \\\"reset_start\\\", \\\"kind\\\": \\\"ModelChanged\\\", \\\"model\\\": {\\\"id\\\": \\\"1841\\\"}, \\\"new\\\": -9.344781668740154}, {\\\"attr\\\": \\\"end\\\", \\\"kind\\\": \\\"ModelChanged\\\", \\\"model\\\": {\\\"id\\\": \\\"1841\\\"}, \\\"new\\\": 4789.940434697159}, {\\\"attr\\\": \\\"reset_end\\\", \\\"kind\\\": \\\"ModelChanged\\\", \\\"model\\\": {\\\"id\\\": \\\"1841\\\"}, \\\"new\\\": 4789.940434697159}, {\\\"cols\\\": null, \\\"column_source\\\": {\\\"id\\\": \\\"1879\\\"}, \\\"kind\\\": \\\"ColumnDataChanged\\\", \\\"new\\\": {\\\"sale_price_sqr_foot\\\": {\\\"__ndarray__\\\": \\\"LMKfLArLgUAbTXjLh2l4QAnYXuSLJoRAMODd8zgbhkCYJdtc7J6FQJ+1dd72tIJAlnINLUOMkEA=\\\", \\\"dtype\\\": \\\"float64\\\", \\\"order\\\": \\\"little\\\", \\\"shape\\\": [7]}, \\\"year\\\": [2010, 2011, 2012, 2013, 2014, 2015, 2016]}}, {\\\"cols\\\": null, \\\"column_source\\\": {\\\"id\\\": \\\"1887\\\"}, \\\"kind\\\": \\\"ColumnDataChanged\\\", \\\"new\\\": {\\\"gross_rent\\\": [1239, 1530, 2324, 2971, 3528, 3739, 4390], \\\"year\\\": [2010, 2011, 2012, 2013, 2014, 2015, 2016]}}, {\\\"attr\\\": \\\"text\\\", \\\"kind\\\": \\\"ModelChanged\\\", \\\"model\\\": {\\\"id\\\": \\\"1845\\\"}, \\\"new\\\": \\\"neighborhood: Cow Hollow\\\"}], \\\"references\\\": []}\",\"header\":\"{\\\"msgid\\\": \\\"2345\\\", \\\"msgtype\\\": \\\"PATCH-DOC\\\"}\",\"metadata\":\"{}\"},\"Croker Amazon\":{\"content\":\"{\\\"events\\\": [{\\\"attr\\\": \\\"end\\\", \\\"kind\\\": \\\"ModelChanged\\\", \\\"model\\\": {\\\"id\\\": \\\"1840\\\"}, \\\"new\\\": 2016.0}, {\\\"attr\\\": \\\"reset_end\\\", \\\"kind\\\": \\\"ModelChanged\\\", \\\"model\\\": {\\\"id\\\": \\\"1840\\\"}, \\\"new\\\": 2016.0}, {\\\"attr\\\": \\\"start\\\", \\\"kind\\\": \\\"ModelChanged\\\", \\\"model\\\": {\\\"id\\\": \\\"1841\\\"}, \\\"new\\\": -278.56128169646496}, {\\\"attr\\\": \\\"reset_start\\\", \\\"kind\\\": \\\"ModelChanged\\\", \\\"model\\\": {\\\"id\\\": \\\"1841\\\"}, \\\"new\\\": -278.56128169646496}, {\\\"attr\\\": \\\"end\\\", \\\"kind\\\": \\\"ModelChanged\\\", \\\"model\\\": {\\\"id\\\": \\\"1841\\\"}, \\\"new\\\": 4814.414661972406}, {\\\"attr\\\": \\\"reset_end\\\", \\\"kind\\\": \\\"ModelChanged\\\", \\\"model\\\": {\\\"id\\\": \\\"1841\\\"}, \\\"new\\\": 4814.414661972406}, {\\\"cols\\\": null, \\\"column_source\\\": {\\\"id\\\": \\\"1879\\\"}, \\\"kind\\\": \\\"ColumnDataChanged\\\", \\\"new\\\": {\\\"sale_price_sqr_foot\\\": {\\\"__ndarray__\\\": \\\"4fEY0qm0ZED4BifkTjtiQGWBeAhy8XlAM4U057Tja0B+YXb65dlyQJU9LgKctYFA\\\", \\\"dtype\\\": \\\"float64\\\", \\\"order\\\": \\\"little\\\", \\\"shape\\\": [6]}, \\\"year\\\": [2010, 2011, 2012, 2013, 2015, 2016]}}, {\\\"cols\\\": null, \\\"column_source\\\": {\\\"id\\\": \\\"1887\\\"}, \\\"kind\\\": \\\"ColumnDataChanged\\\", \\\"new\\\": {\\\"gross_rent\\\": [1239, 1530, 2324, 2971, 3739, 4390], \\\"year\\\": [2010, 2011, 2012, 2013, 2015, 2016]}}, {\\\"attr\\\": \\\"text\\\", \\\"kind\\\": \\\"ModelChanged\\\", \\\"model\\\": {\\\"id\\\": \\\"1845\\\"}, \\\"new\\\": \\\"neighborhood: Croker Amazon\\\"}], \\\"references\\\": []}\",\"header\":\"{\\\"msgid\\\": \\\"2340\\\", \\\"msgtype\\\": \\\"PATCH-DOC\\\"}\",\"metadata\":\"{}\"},\"Diamond Heights\":{\"content\":\"{\\\"events\\\": [{\\\"attr\\\": \\\"end\\\", \\\"kind\\\": \\\"ModelChanged\\\", \\\"model\\\": {\\\"id\\\": \\\"1840\\\"}, \\\"new\\\": 2013.0}, {\\\"attr\\\": \\\"reset_end\\\", \\\"kind\\\": \\\"ModelChanged\\\", \\\"model\\\": {\\\"id\\\": \\\"1840\\\"}, \\\"new\\\": 2013.0}, {\\\"attr\\\": \\\"start\\\", \\\"kind\\\": \\\"ModelChanged\\\", \\\"model\\\": {\\\"id\\\": \\\"1841\\\"}, \\\"new\\\": 106.59497026239995}, {\\\"attr\\\": \\\"reset_start\\\", \\\"kind\\\": \\\"ModelChanged\\\", \\\"model\\\": {\\\"id\\\": \\\"1841\\\"}, \\\"new\\\": 106.59497026239995}, {\\\"attr\\\": \\\"end\\\", \\\"kind\\\": \\\"ModelChanged\\\", \\\"model\\\": {\\\"id\\\": \\\"1841\\\"}, \\\"new\\\": 3231.400457248873}, {\\\"attr\\\": \\\"reset_end\\\", \\\"kind\\\": \\\"ModelChanged\\\", \\\"model\\\": {\\\"id\\\": \\\"1841\\\"}, \\\"new\\\": 3231.400457248873}, {\\\"cols\\\": null, \\\"column_source\\\": {\\\"id\\\": \\\"1879\\\"}, \\\"kind\\\": \\\"ColumnDataChanged\\\", \\\"new\\\": {\\\"sale_price_sqr_foot\\\": {\\\"__ndarray__\\\": \\\"CCbRpeSOfECTXH/couV3QEfnZUXt73ZAKTeB8IGtgEA=\\\", \\\"dtype\\\": \\\"float64\\\", \\\"order\\\": \\\"little\\\", \\\"shape\\\": [4]}, \\\"year\\\": [2010, 2011, 2012, 2013]}}, {\\\"cols\\\": null, \\\"column_source\\\": {\\\"id\\\": \\\"1887\\\"}, \\\"kind\\\": \\\"ColumnDataChanged\\\", \\\"new\\\": {\\\"gross_rent\\\": [1239, 1530, 2324, 2971], \\\"year\\\": [2010, 2011, 2012, 2013]}}, {\\\"attr\\\": \\\"text\\\", \\\"kind\\\": \\\"ModelChanged\\\", \\\"model\\\": {\\\"id\\\": \\\"1845\\\"}, \\\"new\\\": \\\"neighborhood: Diamond Heights\\\"}], \\\"references\\\": []}\",\"header\":\"{\\\"msgid\\\": \\\"2335\\\", \\\"msgtype\\\": \\\"PATCH-DOC\\\"}\",\"metadata\":\"{}\"},\"Downtown \":{\"content\":\"{\\\"events\\\": [{\\\"attr\\\": \\\"start\\\", \\\"kind\\\": \\\"ModelChanged\\\", \\\"model\\\": {\\\"id\\\": \\\"1840\\\"}, \\\"new\\\": 2010.0}, {\\\"attr\\\": \\\"reset_start\\\", \\\"kind\\\": \\\"ModelChanged\\\", \\\"model\\\": {\\\"id\\\": \\\"1840\\\"}, \\\"new\\\": 2010.0}, {\\\"attr\\\": \\\"end\\\", \\\"kind\\\": \\\"ModelChanged\\\", \\\"model\\\": {\\\"id\\\": \\\"1840\\\"}, \\\"new\\\": 2016.0}, {\\\"attr\\\": \\\"reset_end\\\", \\\"kind\\\": \\\"ModelChanged\\\", \\\"model\\\": {\\\"id\\\": \\\"1840\\\"}, \\\"new\\\": 2016.0}, {\\\"attr\\\": \\\"start\\\", \\\"kind\\\": \\\"ModelChanged\\\", \\\"model\\\": {\\\"id\\\": \\\"1841\\\"}, \\\"new\\\": -181.29021413861014}, {\\\"attr\\\": \\\"reset_start\\\", \\\"kind\\\": \\\"ModelChanged\\\", \\\"model\\\": {\\\"id\\\": \\\"1841\\\"}, \\\"new\\\": -181.29021413861014}, {\\\"attr\\\": \\\"end\\\", \\\"kind\\\": \\\"ModelChanged\\\", \\\"model\\\": {\\\"id\\\": \\\"1841\\\"}, \\\"new\\\": 4805.571837648965}, {\\\"attr\\\": \\\"reset_end\\\", \\\"kind\\\": \\\"ModelChanged\\\", \\\"model\\\": {\\\"id\\\": \\\"1841\\\"}, \\\"new\\\": 4805.571837648965}, {\\\"cols\\\": null, \\\"column_source\\\": {\\\"id\\\": \\\"1879\\\"}, \\\"kind\\\": \\\"ColumnDataChanged\\\", \\\"new\\\": {\\\"sale_price_sqr_foot\\\": {\\\"__ndarray__\\\": \\\"6c744745bkA52E4PA0ltQGAISaHA0XBArpUZa0aXdkCJO7vgn8t6QBz07a4wXn5AvXKD8jZ2hkA=\\\", \\\"dtype\\\": \\\"float64\\\", \\\"order\\\": \\\"little\\\", \\\"shape\\\": [7]}, \\\"year\\\": [2010, 2011, 2012, 2013, 2014, 2015, 2016]}}, {\\\"cols\\\": null, \\\"column_source\\\": {\\\"id\\\": \\\"1887\\\"}, \\\"kind\\\": \\\"ColumnDataChanged\\\", \\\"new\\\": {\\\"gross_rent\\\": [1239, 1530, 2324, 2971, 3528, 3739, 4390], \\\"year\\\": [2010, 2011, 2012, 2013, 2014, 2015, 2016]}}, {\\\"attr\\\": \\\"text\\\", \\\"kind\\\": \\\"ModelChanged\\\", \\\"model\\\": {\\\"id\\\": \\\"1845\\\"}, \\\"new\\\": \\\"neighborhood: Downtown\\\"}], \\\"references\\\": []}\",\"header\":\"{\\\"msgid\\\": \\\"2330\\\", \\\"msgtype\\\": \\\"PATCH-DOC\\\"}\",\"metadata\":\"{}\"},\"Duboce Triangle\":{\"content\":\"{\\\"events\\\": [{\\\"attr\\\": \\\"start\\\", \\\"kind\\\": \\\"ModelChanged\\\", \\\"model\\\": {\\\"id\\\": \\\"1840\\\"}, \\\"new\\\": 2011.0}, {\\\"attr\\\": \\\"reset_start\\\", \\\"kind\\\": \\\"ModelChanged\\\", \\\"model\\\": {\\\"id\\\": \\\"1840\\\"}, \\\"new\\\": 2011.0}, {\\\"attr\\\": \\\"end\\\", \\\"kind\\\": \\\"ModelChanged\\\", \\\"model\\\": {\\\"id\\\": \\\"1840\\\"}, \\\"new\\\": 2015.0}, {\\\"attr\\\": \\\"reset_end\\\", \\\"kind\\\": \\\"ModelChanged\\\", \\\"model\\\": {\\\"id\\\": \\\"1840\\\"}, \\\"new\\\": 2015.0}, {\\\"attr\\\": \\\"start\\\", \\\"kind\\\": \\\"ModelChanged\\\", \\\"model\\\": {\\\"id\\\": \\\"1841\\\"}, \\\"new\\\": -48.54268394785038}, {\\\"attr\\\": \\\"reset_start\\\", \\\"kind\\\": \\\"ModelChanged\\\", \\\"model\\\": {\\\"id\\\": \\\"1841\\\"}, \\\"new\\\": -48.54268394785038}, {\\\"attr\\\": \\\"end\\\", \\\"kind\\\": \\\"ModelChanged\\\", \\\"model\\\": {\\\"id\\\": \\\"1841\\\"}, \\\"new\\\": 4083.3220621770774}, {\\\"attr\\\": \\\"reset_end\\\", \\\"kind\\\": \\\"ModelChanged\\\", \\\"model\\\": {\\\"id\\\": \\\"1841\\\"}, \\\"new\\\": 4083.3220621770774}, {\\\"cols\\\": null, \\\"column_source\\\": {\\\"id\\\": \\\"1879\\\"}, \\\"kind\\\": \\\"ColumnDataChanged\\\", \\\"new\\\": {\\\"sale_price_sqr_foot\\\": {\\\"__ndarray__\\\": \\\"6FtOVXh8ckCp7K1zj0p8QIjRLwZ+soNAN/KXXSq9g0A=\\\", \\\"dtype\\\": \\\"float64\\\", \\\"order\\\": \\\"little\\\", \\\"shape\\\": [4]}, \\\"year\\\": [2011, 2012, 2014, 2015]}}, {\\\"cols\\\": null, \\\"column_source\\\": {\\\"id\\\": \\\"1887\\\"}, \\\"kind\\\": \\\"ColumnDataChanged\\\", \\\"new\\\": {\\\"gross_rent\\\": [1530, 2324, 3528, 3739], \\\"year\\\": [2011, 2012, 2014, 2015]}}, {\\\"attr\\\": \\\"text\\\", \\\"kind\\\": \\\"ModelChanged\\\", \\\"model\\\": {\\\"id\\\": \\\"1845\\\"}, \\\"new\\\": \\\"neighborhood: Duboce Triangle\\\"}], \\\"references\\\": []}\",\"header\":\"{\\\"msgid\\\": \\\"2325\\\", \\\"msgtype\\\": \\\"PATCH-DOC\\\"}\",\"metadata\":\"{}\"},\"Eureka Valley/Dolores Heights\":{\"content\":\"{\\\"events\\\": [{\\\"attr\\\": \\\"start\\\", \\\"kind\\\": \\\"ModelChanged\\\", \\\"model\\\": {\\\"id\\\": \\\"1841\\\"}, \\\"new\\\": 4.430143914008454}, {\\\"attr\\\": \\\"reset_start\\\", \\\"kind\\\": \\\"ModelChanged\\\", \\\"model\\\": {\\\"id\\\": \\\"1841\\\"}, \\\"new\\\": 4.430143914008454}, {\\\"attr\\\": \\\"end\\\", \\\"kind\\\": \\\"ModelChanged\\\", \\\"model\\\": {\\\"id\\\": \\\"1841\\\"}, \\\"new\\\": 4788.688168735091}, {\\\"attr\\\": \\\"reset_end\\\", \\\"kind\\\": \\\"ModelChanged\\\", \\\"model\\\": {\\\"id\\\": \\\"1841\\\"}, \\\"new\\\": 4788.688168735091}, {\\\"cols\\\": null, \\\"column_source\\\": {\\\"id\\\": \\\"1879\\\"}, \\\"kind\\\": \\\"ColumnDataChanged\\\", \\\"new\\\": {\\\"sale_price_sqr_foot\\\": {\\\"__ndarray__\\\": \\\"TunNm+QxeUDoLWfYmtJ5QBwUV+GBZoBAWlX6So8Fg0CqdEN11seGQNdjWGVxsYhAgjgXGCoLkEA=\\\", \\\"dtype\\\": \\\"float64\\\", \\\"order\\\": \\\"little\\\", \\\"shape\\\": [7]}, \\\"year\\\": [2010, 2011, 2012, 2013, 2014, 2015, 2016]}}, {\\\"cols\\\": null, \\\"column_source\\\": {\\\"id\\\": \\\"1887\\\"}, \\\"kind\\\": \\\"ColumnDataChanged\\\", \\\"new\\\": {\\\"gross_rent\\\": [1239, 1530, 2324, 2971, 3528, 3739, 4390], \\\"year\\\": [2010, 2011, 2012, 2013, 2014, 2015, 2016]}}, {\\\"attr\\\": \\\"text\\\", \\\"kind\\\": \\\"ModelChanged\\\", \\\"model\\\": {\\\"id\\\": \\\"1845\\\"}, \\\"new\\\": \\\"neighborhood: Eureka Valley/Dolores Heights\\\"}], \\\"references\\\": []}\",\"header\":\"{\\\"msgid\\\": \\\"2320\\\", \\\"msgtype\\\": \\\"PATCH-DOC\\\"}\",\"metadata\":\"{}\"},\"Excelsior\":{\"content\":\"{\\\"events\\\": [{\\\"attr\\\": \\\"start\\\", \\\"kind\\\": \\\"ModelChanged\\\", \\\"model\\\": {\\\"id\\\": \\\"1841\\\"}, \\\"new\\\": -120.2753677207183}, {\\\"attr\\\": \\\"reset_start\\\", \\\"kind\\\": \\\"ModelChanged\\\", \\\"model\\\": {\\\"id\\\": \\\"1841\\\"}, \\\"new\\\": -120.2753677207183}, {\\\"attr\\\": \\\"end\\\", \\\"kind\\\": \\\"ModelChanged\\\", \\\"model\\\": {\\\"id\\\": \\\"1841\\\"}, \\\"new\\\": 4800.025033429156}, {\\\"attr\\\": \\\"reset_end\\\", \\\"kind\\\": \\\"ModelChanged\\\", \\\"model\\\": {\\\"id\\\": \\\"1841\\\"}, \\\"new\\\": 4800.025033429156}, {\\\"cols\\\": null, \\\"column_source\\\": {\\\"id\\\": \\\"1879\\\"}, \\\"kind\\\": \\\"ColumnDataChanged\\\", \\\"new\\\": {\\\"sale_price_sqr_foot\\\": {\\\"__ndarray__\\\": \\\"rTyLdtrOdkBN5gLDezB3QMhKeKH+G3JAVqH/QeJkdkAIVY6WseV5QJMvOlzPsYBA\\\", \\\"dtype\\\": \\\"float64\\\", \\\"order\\\": \\\"little\\\", \\\"shape\\\": [6]}, \\\"year\\\": [2010, 2012, 2013, 2014, 2015, 2016]}}, {\\\"cols\\\": null, \\\"column_source\\\": {\\\"id\\\": \\\"1887\\\"}, \\\"kind\\\": \\\"ColumnDataChanged\\\", \\\"new\\\": {\\\"gross_rent\\\": [1239, 2324, 2971, 3528, 3739, 4390], \\\"year\\\": [2010, 2012, 2013, 2014, 2015, 2016]}}, {\\\"attr\\\": \\\"text\\\", \\\"kind\\\": \\\"ModelChanged\\\", \\\"model\\\": {\\\"id\\\": \\\"1845\\\"}, \\\"new\\\": \\\"neighborhood: Excelsior\\\"}], \\\"references\\\": []}\",\"header\":\"{\\\"msgid\\\": \\\"2315\\\", \\\"msgtype\\\": \\\"PATCH-DOC\\\"}\",\"metadata\":\"{}\"},\"Financial District North\":{\"content\":\"{\\\"events\\\": [{\\\"attr\\\": \\\"end\\\", \\\"kind\\\": \\\"ModelChanged\\\", \\\"model\\\": {\\\"id\\\": \\\"1840\\\"}, \\\"new\\\": 2016.0}, {\\\"attr\\\": \\\"reset_end\\\", \\\"kind\\\": \\\"ModelChanged\\\", \\\"model\\\": {\\\"id\\\": \\\"1840\\\"}, \\\"new\\\": 2016.0}, {\\\"attr\\\": \\\"start\\\", \\\"kind\\\": \\\"ModelChanged\\\", \\\"model\\\": {\\\"id\\\": \\\"1841\\\"}, \\\"new\\\": -137.09626200454295}, {\\\"attr\\\": \\\"reset_start\\\", \\\"kind\\\": \\\"ModelChanged\\\", \\\"model\\\": {\\\"id\\\": \\\"1841\\\"}, \\\"new\\\": -137.09626200454295}, {\\\"attr\\\": \\\"end\\\", \\\"kind\\\": \\\"ModelChanged\\\", \\\"model\\\": {\\\"id\\\": \\\"1841\\\"}, \\\"new\\\": 4801.554205636777}, {\\\"attr\\\": \\\"reset_end\\\", \\\"kind\\\": \\\"ModelChanged\\\", \\\"model\\\": {\\\"id\\\": \\\"1841\\\"}, \\\"new\\\": 4801.554205636777}, {\\\"cols\\\": null, \\\"column_source\\\": {\\\"id\\\": \\\"1879\\\"}, \\\"kind\\\": \\\"ColumnDataChanged\\\", \\\"new\\\": {\\\"sale_price_sqr_foot\\\": {\\\"__ndarray__\\\": \\\"7AP43P8beUDn1P+nAZVxQHHD8reh5XFAr72zvFMncUAogOryGZ95QNWXMVjesoVAAAAAAAAA+H8=\\\", \\\"dtype\\\": \\\"float64\\\", \\\"order\\\": \\\"little\\\", \\\"shape\\\": [7]}, \\\"year\\\": [2010, 2011, 2012, 2013, 2014, 2015, 2016]}}, {\\\"cols\\\": null, \\\"column_source\\\": {\\\"id\\\": \\\"1887\\\"}, \\\"kind\\\": \\\"ColumnDataChanged\\\", \\\"new\\\": {\\\"gross_rent\\\": [1239, 1530, 2324, 2971, 3528, 3739, 4390], \\\"year\\\": [2010, 2011, 2012, 2013, 2014, 2015, 2016]}}, {\\\"attr\\\": \\\"text\\\", \\\"kind\\\": \\\"ModelChanged\\\", \\\"model\\\": {\\\"id\\\": \\\"1845\\\"}, \\\"new\\\": \\\"neighborhood: Financial District North\\\"}], \\\"references\\\": []}\",\"header\":\"{\\\"msgid\\\": \\\"2310\\\", \\\"msgtype\\\": \\\"PATCH-DOC\\\"}\",\"metadata\":\"{}\"},\"Financial District South\":{\"content\":\"{\\\"events\\\": [{\\\"attr\\\": \\\"end\\\", \\\"kind\\\": \\\"ModelChanged\\\", \\\"model\\\": {\\\"id\\\": \\\"1840\\\"}, \\\"new\\\": 2015.0}, {\\\"attr\\\": \\\"reset_end\\\", \\\"kind\\\": \\\"ModelChanged\\\", \\\"model\\\": {\\\"id\\\": \\\"1840\\\"}, \\\"new\\\": 2015.0}, {\\\"attr\\\": \\\"start\\\", \\\"kind\\\": \\\"ModelChanged\\\", \\\"model\\\": {\\\"id\\\": \\\"1841\\\"}, \\\"new\\\": -194.79666894750414}, {\\\"attr\\\": \\\"reset_start\\\", \\\"kind\\\": \\\"ModelChanged\\\", \\\"model\\\": {\\\"id\\\": \\\"1841\\\"}, \\\"new\\\": -194.79666894750414}, {\\\"attr\\\": \\\"end\\\", \\\"kind\\\": \\\"ModelChanged\\\", \\\"model\\\": {\\\"id\\\": \\\"1841\\\"}, \\\"new\\\": 4096.617878995227}, {\\\"attr\\\": \\\"reset_end\\\", \\\"kind\\\": \\\"ModelChanged\\\", \\\"model\\\": {\\\"id\\\": \\\"1841\\\"}, \\\"new\\\": 4096.617878995227}, {\\\"cols\\\": null, \\\"column_source\\\": {\\\"id\\\": \\\"1879\\\"}, \\\"kind\\\": \\\"ColumnDataChanged\\\", \\\"new\\\": {\\\"sale_price_sqr_foot\\\": {\\\"__ndarray__\\\": \\\"0ENLWkdaZECjdAggpip2QCLvSpm+LoNAXi0AXVizhUDRgqbm7VZ8QA==\\\", \\\"dtype\\\": \\\"float64\\\", \\\"order\\\": \\\"little\\\", \\\"shape\\\": [5]}, \\\"year\\\": [2010, 2011, 2012, 2014, 2015]}}, {\\\"cols\\\": null, \\\"column_source\\\": {\\\"id\\\": \\\"1887\\\"}, \\\"kind\\\": \\\"ColumnDataChanged\\\", \\\"new\\\": {\\\"gross_rent\\\": [1239, 1530, 2324, 3528, 3739], \\\"year\\\": [2010, 2011, 2012, 2014, 2015]}}, {\\\"attr\\\": \\\"text\\\", \\\"kind\\\": \\\"ModelChanged\\\", \\\"model\\\": {\\\"id\\\": \\\"1845\\\"}, \\\"new\\\": \\\"neighborhood: Financial District South\\\"}], \\\"references\\\": []}\",\"header\":\"{\\\"msgid\\\": \\\"2305\\\", \\\"msgtype\\\": \\\"PATCH-DOC\\\"}\",\"metadata\":\"{}\"},\"Forest Knolls\":{\"content\":\"{\\\"events\\\": [{\\\"attr\\\": \\\"end\\\", \\\"kind\\\": \\\"ModelChanged\\\", \\\"model\\\": {\\\"id\\\": \\\"1840\\\"}, \\\"new\\\": 2012.0}, {\\\"attr\\\": \\\"reset_end\\\", \\\"kind\\\": \\\"ModelChanged\\\", \\\"model\\\": {\\\"id\\\": \\\"1840\\\"}, \\\"new\\\": 2012.0}, {\\\"attr\\\": \\\"start\\\", \\\"kind\\\": \\\"ModelChanged\\\", \\\"model\\\": {\\\"id\\\": \\\"1841\\\"}, \\\"new\\\": -2.445740701836087}, {\\\"attr\\\": \\\"reset_start\\\", \\\"kind\\\": \\\"ModelChanged\\\", \\\"model\\\": {\\\"id\\\": \\\"1841\\\"}, \\\"new\\\": -2.445740701836087}, {\\\"attr\\\": \\\"end\\\", \\\"kind\\\": \\\"ModelChanged\\\", \\\"model\\\": {\\\"id\\\": \\\"1841\\\"}, \\\"new\\\": 2535.4950673365306}, {\\\"attr\\\": \\\"reset_end\\\", \\\"kind\\\": \\\"ModelChanged\\\", \\\"model\\\": {\\\"id\\\": \\\"1841\\\"}, \\\"new\\\": 2535.4950673365306}, {\\\"cols\\\": null, \\\"column_source\\\": {\\\"id\\\": \\\"1879\\\"}, \\\"kind\\\": \\\"ColumnDataChanged\\\", \\\"new\\\": {\\\"sale_price_sqr_foot\\\": {\\\"__ndarray__\\\": \\\"tVpzFZQhakB0pGAXHip7QA==\\\", \\\"dtype\\\": \\\"float64\\\", \\\"order\\\": \\\"little\\\", \\\"shape\\\": [2]}, \\\"year\\\": [2010, 2012]}}, {\\\"cols\\\": null, \\\"column_source\\\": {\\\"id\\\": \\\"1887\\\"}, \\\"kind\\\": \\\"ColumnDataChanged\\\", \\\"new\\\": {\\\"gross_rent\\\": [1239, 2324], \\\"year\\\": [2010, 2012]}}, {\\\"attr\\\": \\\"text\\\", \\\"kind\\\": \\\"ModelChanged\\\", \\\"model\\\": {\\\"id\\\": \\\"1845\\\"}, \\\"new\\\": \\\"neighborhood: Forest Knolls\\\"}], \\\"references\\\": []}\",\"header\":\"{\\\"msgid\\\": \\\"2300\\\", \\\"msgtype\\\": \\\"PATCH-DOC\\\"}\",\"metadata\":\"{}\"},\"Glen Park\":{\"content\":\"{\\\"events\\\": [{\\\"attr\\\": \\\"end\\\", \\\"kind\\\": \\\"ModelChanged\\\", \\\"model\\\": {\\\"id\\\": \\\"1840\\\"}, \\\"new\\\": 2016.0}, {\\\"attr\\\": \\\"reset_end\\\", \\\"kind\\\": \\\"ModelChanged\\\", \\\"model\\\": {\\\"id\\\": \\\"1840\\\"}, \\\"new\\\": 2016.0}, {\\\"attr\\\": \\\"start\\\", \\\"kind\\\": \\\"ModelChanged\\\", \\\"model\\\": {\\\"id\\\": \\\"1841\\\"}, \\\"new\\\": 64.1552727273878}, {\\\"attr\\\": \\\"reset_start\\\", \\\"kind\\\": \\\"ModelChanged\\\", \\\"model\\\": {\\\"id\\\": \\\"1841\\\"}, \\\"new\\\": 64.1552727273878}, {\\\"attr\\\": \\\"end\\\", \\\"kind\\\": \\\"ModelChanged\\\", \\\"model\\\": {\\\"id\\\": \\\"1841\\\"}, \\\"new\\\": 4783.258611570238}, {\\\"attr\\\": \\\"reset_end\\\", \\\"kind\\\": \\\"ModelChanged\\\", \\\"model\\\": {\\\"id\\\": \\\"1841\\\"}, \\\"new\\\": 4783.258611570238}, {\\\"cols\\\": null, \\\"column_source\\\": {\\\"id\\\": \\\"1879\\\"}, \\\"kind\\\": \\\"ColumnDataChanged\\\", \\\"new\\\": {\\\"sale_price_sqr_foot\\\": {\\\"__ndarray__\\\": \\\"aB91BrFchkAOKiRFn5Z8QED5MZOKq3xA/rlAhIBMgUBFlH1o2SCDQF9/cTKIjI1A\\\", \\\"dtype\\\": \\\"float64\\\", \\\"order\\\": \\\"little\\\", \\\"shape\\\": [6]}, \\\"year\\\": [2010, 2011, 2013, 2014, 2015, 2016]}}, {\\\"cols\\\": null, \\\"column_source\\\": {\\\"id\\\": \\\"1887\\\"}, \\\"kind\\\": \\\"ColumnDataChanged\\\", \\\"new\\\": {\\\"gross_rent\\\": [1239, 1530, 2971, 3528, 3739, 4390], \\\"year\\\": [2010, 2011, 2013, 2014, 2015, 2016]}}, {\\\"attr\\\": \\\"text\\\", \\\"kind\\\": \\\"ModelChanged\\\", \\\"model\\\": {\\\"id\\\": \\\"1845\\\"}, \\\"new\\\": \\\"neighborhood: Glen Park\\\"}], \\\"references\\\": []}\",\"header\":\"{\\\"msgid\\\": \\\"2295\\\", \\\"msgtype\\\": \\\"PATCH-DOC\\\"}\",\"metadata\":\"{}\"},\"Golden Gate Heights\":{\"content\":\"{\\\"events\\\": [{\\\"attr\\\": \\\"end\\\", \\\"kind\\\": \\\"ModelChanged\\\", \\\"model\\\": {\\\"id\\\": \\\"1840\\\"}, \\\"new\\\": 2015.0}, {\\\"attr\\\": \\\"reset_end\\\", \\\"kind\\\": \\\"ModelChanged\\\", \\\"model\\\": {\\\"id\\\": \\\"1840\\\"}, \\\"new\\\": 2015.0}, {\\\"attr\\\": \\\"start\\\", \\\"kind\\\": \\\"ModelChanged\\\", \\\"model\\\": {\\\"id\\\": \\\"1841\\\"}, \\\"new\\\": 9.922670045374161}, {\\\"attr\\\": \\\"reset_start\\\", \\\"kind\\\": \\\"ModelChanged\\\", \\\"model\\\": {\\\"id\\\": \\\"1841\\\"}, \\\"new\\\": 9.922670045374161}, {\\\"attr\\\": \\\"end\\\", \\\"kind\\\": \\\"ModelChanged\\\", \\\"model\\\": {\\\"id\\\": \\\"1841\\\"}, \\\"new\\\": 4078.007029995875}, {\\\"attr\\\": \\\"reset_end\\\", \\\"kind\\\": \\\"ModelChanged\\\", \\\"model\\\": {\\\"id\\\": \\\"1841\\\"}, \\\"new\\\": 4078.007029995875}, {\\\"cols\\\": null, \\\"column_source\\\": {\\\"id\\\": \\\"1879\\\"}, \\\"kind\\\": \\\"ColumnDataChanged\\\", \\\"new\\\": {\\\"sale_price_sqr_foot\\\": {\\\"__ndarray__\\\": \\\"XVj8sGg+gUAWhCYN4M51QNRj6RR54Y1AX0BnV7i6gUB+N3fjsyWIQA==\\\", \\\"dtype\\\": \\\"float64\\\", \\\"order\\\": \\\"little\\\", \\\"shape\\\": [5]}, \\\"year\\\": [2010, 2011, 2013, 2014, 2015]}}, {\\\"cols\\\": null, \\\"column_source\\\": {\\\"id\\\": \\\"1887\\\"}, \\\"kind\\\": \\\"ColumnDataChanged\\\", \\\"new\\\": {\\\"gross_rent\\\": [1239, 1530, 2971, 3528, 3739], \\\"year\\\": [2010, 2011, 2013, 2014, 2015]}}, {\\\"attr\\\": \\\"text\\\", \\\"kind\\\": \\\"ModelChanged\\\", \\\"model\\\": {\\\"id\\\": \\\"1845\\\"}, \\\"new\\\": \\\"neighborhood: Golden Gate Heights\\\"}], \\\"references\\\": []}\",\"header\":\"{\\\"msgid\\\": \\\"2290\\\", \\\"msgtype\\\": \\\"PATCH-DOC\\\"}\",\"metadata\":\"{}\"},\"Haight Ashbury\":{\"content\":\"{\\\"events\\\": [{\\\"attr\\\": \\\"start\\\", \\\"kind\\\": \\\"ModelChanged\\\", \\\"model\\\": {\\\"id\\\": \\\"1841\\\"}, \\\"new\\\": -159.07884294083942}, {\\\"attr\\\": \\\"reset_start\\\", \\\"kind\\\": \\\"ModelChanged\\\", \\\"model\\\": {\\\"id\\\": \\\"1841\\\"}, \\\"new\\\": -159.07884294083942}, {\\\"attr\\\": \\\"end\\\", \\\"kind\\\": \\\"ModelChanged\\\", \\\"model\\\": {\\\"id\\\": \\\"1841\\\"}, \\\"new\\\": 4803.552622085531}, {\\\"attr\\\": \\\"reset_end\\\", \\\"kind\\\": \\\"ModelChanged\\\", \\\"model\\\": {\\\"id\\\": \\\"1841\\\"}, \\\"new\\\": 4803.552622085531}, {\\\"cols\\\": null, \\\"column_source\\\": {\\\"id\\\": \\\"1879\\\"}, \\\"kind\\\": \\\"ColumnDataChanged\\\", \\\"new\\\": {\\\"sale_price_sqr_foot\\\": {\\\"__ndarray__\\\": \\\"QH/hMinPb0DRLjW8p4V4QDXT1jtJLXpAbHydIO7nfUB2raXm0Ah/QNj5jEQx8oFAzf5gJa6egEA=\\\", \\\"dtype\\\": \\\"float64\\\", \\\"order\\\": \\\"little\\\", \\\"shape\\\": [7]}, \\\"year\\\": [2010, 2011, 2012, 2013, 2014, 2015, 2016]}}, {\\\"cols\\\": null, \\\"column_source\\\": {\\\"id\\\": \\\"1887\\\"}, \\\"kind\\\": \\\"ColumnDataChanged\\\", \\\"new\\\": {\\\"gross_rent\\\": [1239, 1530, 2324, 2971, 3528, 3739, 4390], \\\"year\\\": [2010, 2011, 2012, 2013, 2014, 2015, 2016]}}, {\\\"attr\\\": \\\"text\\\", \\\"kind\\\": \\\"ModelChanged\\\", \\\"model\\\": {\\\"id\\\": \\\"1845\\\"}, \\\"new\\\": \\\"neighborhood: Haight Ashbury\\\"}], \\\"references\\\": []}\",\"header\":\"{\\\"msgid\\\": \\\"2285\\\", \\\"msgtype\\\": \\\"PATCH-DOC\\\"}\",\"metadata\":\"{}\"},\"Hayes Valley\":{\"content\":\"{\\\"events\\\": [{\\\"attr\\\": \\\"end\\\", \\\"kind\\\": \\\"ModelChanged\\\", \\\"model\\\": {\\\"id\\\": \\\"1840\\\"}, \\\"new\\\": 2016.0}, {\\\"attr\\\": \\\"reset_end\\\", \\\"kind\\\": \\\"ModelChanged\\\", \\\"model\\\": {\\\"id\\\": \\\"1840\\\"}, \\\"new\\\": 2016.0}, {\\\"attr\\\": \\\"start\\\", \\\"kind\\\": \\\"ModelChanged\\\", \\\"model\\\": {\\\"id\\\": \\\"1841\\\"}, \\\"new\\\": -246.4273238840801}, {\\\"attr\\\": \\\"reset_start\\\", \\\"kind\\\": \\\"ModelChanged\\\", \\\"model\\\": {\\\"id\\\": \\\"1841\\\"}, \\\"new\\\": -246.4273238840801}, {\\\"attr\\\": \\\"end\\\", \\\"kind\\\": \\\"ModelChanged\\\", \\\"model\\\": {\\\"id\\\": \\\"1841\\\"}, \\\"new\\\": 4811.493393080371}, {\\\"attr\\\": \\\"reset_end\\\", \\\"kind\\\": \\\"ModelChanged\\\", \\\"model\\\": {\\\"id\\\": \\\"1841\\\"}, \\\"new\\\": 4811.493393080371}, {\\\"cols\\\": null, \\\"column_source\\\": {\\\"id\\\": \\\"1879\\\"}, \\\"kind\\\": \\\"ColumnDataChanged\\\", \\\"new\\\": {\\\"sale_price_sqr_foot\\\": {\\\"__ndarray__\\\": \\\"jyy7Ro8EcUDtvFOssItxQN/Eix0MJnNA6LhSnW25fkAXEdXax856QHX40/F0xIBA8aolPR3iZUA=\\\", \\\"dtype\\\": \\\"float64\\\", \\\"order\\\": \\\"little\\\", \\\"shape\\\": [7]}, \\\"year\\\": [2010, 2011, 2012, 2013, 2014, 2015, 2016]}}, {\\\"cols\\\": null, \\\"column_source\\\": {\\\"id\\\": \\\"1887\\\"}, \\\"kind\\\": \\\"ColumnDataChanged\\\", \\\"new\\\": {\\\"gross_rent\\\": [1239, 1530, 2324, 2971, 3528, 3739, 4390], \\\"year\\\": [2010, 2011, 2012, 2013, 2014, 2015, 2016]}}, {\\\"attr\\\": \\\"text\\\", \\\"kind\\\": \\\"ModelChanged\\\", \\\"model\\\": {\\\"id\\\": \\\"1845\\\"}, \\\"new\\\": \\\"neighborhood: Hayes Valley\\\"}], \\\"references\\\": []}\",\"header\":\"{\\\"msgid\\\": \\\"2280\\\", \\\"msgtype\\\": \\\"PATCH-DOC\\\"}\",\"metadata\":\"{}\"},\"Hunters Point\":{\"content\":\"{\\\"events\\\": [{\\\"attr\\\": \\\"start\\\", \\\"kind\\\": \\\"ModelChanged\\\", \\\"model\\\": {\\\"id\\\": \\\"1841\\\"}, \\\"new\\\": -186.21258814154052}, {\\\"attr\\\": \\\"reset_start\\\", \\\"kind\\\": \\\"ModelChanged\\\", \\\"model\\\": {\\\"id\\\": \\\"1841\\\"}, \\\"new\\\": -186.21258814154052}, {\\\"attr\\\": \\\"end\\\", \\\"kind\\\": \\\"ModelChanged\\\", \\\"model\\\": {\\\"id\\\": \\\"1841\\\"}, \\\"new\\\": 4095.837508012867}, {\\\"attr\\\": \\\"reset_end\\\", \\\"kind\\\": \\\"ModelChanged\\\", \\\"model\\\": {\\\"id\\\": \\\"1841\\\"}, \\\"new\\\": 4095.837508012867}, {\\\"cols\\\": null, \\\"column_source\\\": {\\\"id\\\": \\\"1879\\\"}, \\\"kind\\\": \\\"ColumnDataChanged\\\", \\\"new\\\": {\\\"sale_price_sqr_foot\\\": {\\\"__ndarray__\\\": \\\"BT/1V/9TZUAAAAAAAAD4fw==\\\", \\\"dtype\\\": \\\"float64\\\", \\\"order\\\": \\\"little\\\", \\\"shape\\\": [2]}, \\\"year\\\": [2010, 2015]}}, {\\\"cols\\\": null, \\\"column_source\\\": {\\\"id\\\": \\\"1887\\\"}, \\\"kind\\\": \\\"ColumnDataChanged\\\", \\\"new\\\": {\\\"gross_rent\\\": [1239, 3739], \\\"year\\\": [2010, 2015]}}, {\\\"attr\\\": \\\"text\\\", \\\"kind\\\": \\\"ModelChanged\\\", \\\"model\\\": {\\\"id\\\": \\\"1845\\\"}, \\\"new\\\": \\\"neighborhood: Hunters Point\\\"}], \\\"references\\\": []}\",\"header\":\"{\\\"msgid\\\": \\\"2275\\\", \\\"msgtype\\\": \\\"PATCH-DOC\\\"}\",\"metadata\":\"{}\"},\"Ingleside \":{\"content\":\"{\\\"events\\\": [{\\\"attr\\\": \\\"start\\\", \\\"kind\\\": \\\"ModelChanged\\\", \\\"model\\\": {\\\"id\\\": \\\"1840\\\"}, \\\"new\\\": 2010.0}, {\\\"attr\\\": \\\"reset_start\\\", \\\"kind\\\": \\\"ModelChanged\\\", \\\"model\\\": {\\\"id\\\": \\\"1840\\\"}, \\\"new\\\": 2010.0}, {\\\"attr\\\": \\\"end\\\", \\\"kind\\\": \\\"ModelChanged\\\", \\\"model\\\": {\\\"id\\\": \\\"1840\\\"}, \\\"new\\\": 2015.0}, {\\\"attr\\\": \\\"reset_end\\\", \\\"kind\\\": \\\"ModelChanged\\\", \\\"model\\\": {\\\"id\\\": \\\"1840\\\"}, \\\"new\\\": 2015.0}, {\\\"attr\\\": \\\"start\\\", \\\"kind\\\": \\\"ModelChanged\\\", \\\"model\\\": {\\\"id\\\": \\\"1841\\\"}, \\\"new\\\": -162.5182270484816}, {\\\"attr\\\": \\\"reset_start\\\", \\\"kind\\\": \\\"ModelChanged\\\", \\\"model\\\": {\\\"id\\\": \\\"1841\\\"}, \\\"new\\\": -162.5182270484816}, {\\\"attr\\\": \\\"end\\\", \\\"kind\\\": \\\"ModelChanged\\\", \\\"model\\\": {\\\"id\\\": \\\"1841\\\"}, \\\"new\\\": 4093.6834751862257}, {\\\"attr\\\": \\\"reset_end\\\", \\\"kind\\\": \\\"ModelChanged\\\", \\\"model\\\": {\\\"id\\\": \\\"1841\\\"}, \\\"new\\\": 4093.6834751862257}, {\\\"cols\\\": null, \\\"column_source\\\": {\\\"id\\\": \\\"1879\\\"}, \\\"kind\\\": \\\"ColumnDataChanged\\\", \\\"new\\\": {\\\"sale_price_sqr_foot\\\": {\\\"__ndarray__\\\": \\\"a4srL+gwcUBltPYZWEt2QJi0BnMyPYRAvGp2tkkFaEA=\\\", \\\"dtype\\\": \\\"float64\\\", \\\"order\\\": \\\"little\\\", \\\"shape\\\": [4]}, \\\"year\\\": [2010, 2011, 2014, 2015]}}, {\\\"cols\\\": null, \\\"column_source\\\": {\\\"id\\\": \\\"1887\\\"}, \\\"kind\\\": \\\"ColumnDataChanged\\\", \\\"new\\\": {\\\"gross_rent\\\": [1239, 1530, 3528, 3739], \\\"year\\\": [2010, 2011, 2014, 2015]}}, {\\\"attr\\\": \\\"text\\\", \\\"kind\\\": \\\"ModelChanged\\\", \\\"model\\\": {\\\"id\\\": \\\"1845\\\"}, \\\"new\\\": \\\"neighborhood: Ingleside\\\"}], \\\"references\\\": []}\",\"header\":\"{\\\"msgid\\\": \\\"2270\\\", \\\"msgtype\\\": \\\"PATCH-DOC\\\"}\",\"metadata\":\"{}\"},\"Ingleside Heights\":{\"content\":\"{\\\"events\\\": [{\\\"attr\\\": \\\"start\\\", \\\"kind\\\": \\\"ModelChanged\\\", \\\"model\\\": {\\\"id\\\": \\\"1840\\\"}, \\\"new\\\": 2011.0}, {\\\"attr\\\": \\\"reset_start\\\", \\\"kind\\\": \\\"ModelChanged\\\", \\\"model\\\": {\\\"id\\\": \\\"1840\\\"}, \\\"new\\\": 2011.0}, {\\\"attr\\\": \\\"start\\\", \\\"kind\\\": \\\"ModelChanged\\\", \\\"model\\\": {\\\"id\\\": \\\"1841\\\"}, \\\"new\\\": -221.1825397830277}, {\\\"attr\\\": \\\"reset_start\\\", \\\"kind\\\": \\\"ModelChanged\\\", \\\"model\\\": {\\\"id\\\": \\\"1841\\\"}, \\\"new\\\": -221.1825397830277}, {\\\"attr\\\": \\\"end\\\", \\\"kind\\\": \\\"ModelChanged\\\", \\\"model\\\": {\\\"id\\\": \\\"1841\\\"}, \\\"new\\\": 4809.198412707548}, {\\\"attr\\\": \\\"reset_end\\\", \\\"kind\\\": \\\"ModelChanged\\\", \\\"model\\\": {\\\"id\\\": \\\"1841\\\"}, \\\"new\\\": 4809.198412707548}, {\\\"cols\\\": null, \\\"column_source\\\": {\\\"id\\\": \\\"1879\\\"}, \\\"kind\\\": \\\"ColumnDataChanged\\\", \\\"new\\\": {\\\"sale_price_sqr_foot\\\": {\\\"__ndarray__\\\": \\\"m3bvB4LAaEBSzU7Oo9yBQA==\\\", \\\"dtype\\\": \\\"float64\\\", \\\"order\\\": \\\"little\\\", \\\"shape\\\": [2]}, \\\"year\\\": [2011, 2016]}}, {\\\"cols\\\": null, \\\"column_source\\\": {\\\"id\\\": \\\"1887\\\"}, \\\"kind\\\": \\\"ColumnDataChanged\\\", \\\"new\\\": {\\\"gross_rent\\\": [1530, 4390], \\\"year\\\": [2011, 2016]}}, {\\\"attr\\\": \\\"text\\\", \\\"kind\\\": \\\"ModelChanged\\\", \\\"model\\\": {\\\"id\\\": \\\"1845\\\"}, \\\"new\\\": \\\"neighborhood: Ingleside Heights\\\"}], \\\"references\\\": []}\",\"header\":\"{\\\"msgid\\\": \\\"2265\\\", \\\"msgtype\\\": \\\"PATCH-DOC\\\"}\",\"metadata\":\"{}\"},\"Inner Mission\":{\"content\":\"{\\\"events\\\": [{\\\"attr\\\": \\\"start\\\", \\\"kind\\\": \\\"ModelChanged\\\", \\\"model\\\": {\\\"id\\\": \\\"1841\\\"}, \\\"new\\\": -176.8149775525453}, {\\\"attr\\\": \\\"reset_start\\\", \\\"kind\\\": \\\"ModelChanged\\\", \\\"model\\\": {\\\"id\\\": \\\"1841\\\"}, \\\"new\\\": -176.8149775525453}, {\\\"attr\\\": \\\"end\\\", \\\"kind\\\": \\\"ModelChanged\\\", \\\"model\\\": {\\\"id\\\": \\\"1841\\\"}, \\\"new\\\": 4805.164997959322}, {\\\"attr\\\": \\\"reset_end\\\", \\\"kind\\\": \\\"ModelChanged\\\", \\\"model\\\": {\\\"id\\\": \\\"1841\\\"}, \\\"new\\\": 4805.164997959322}, {\\\"cols\\\": null, \\\"column_source\\\": {\\\"id\\\": \\\"1879\\\"}, \\\"kind\\\": \\\"ColumnDataChanged\\\", \\\"new\\\": {\\\"sale_price_sqr_foot\\\": {\\\"__ndarray__\\\": \\\"SQH/XTPLbUAmcCOZzLJxQMpoihc3DXVAuDqzykmYd0BQk3hB0AJ9QEOIcpNpPntAxpU24Ck+hEA=\\\", \\\"dtype\\\": \\\"float64\\\", \\\"order\\\": \\\"little\\\", \\\"shape\\\": [7]}, \\\"year\\\": [2010, 2011, 2012, 2013, 2014, 2015, 2016]}}, {\\\"cols\\\": null, \\\"column_source\\\": {\\\"id\\\": \\\"1887\\\"}, \\\"kind\\\": \\\"ColumnDataChanged\\\", \\\"new\\\": {\\\"gross_rent\\\": [1239, 1530, 2324, 2971, 3528, 3739, 4390], \\\"year\\\": [2010, 2011, 2012, 2013, 2014, 2015, 2016]}}, {\\\"attr\\\": \\\"text\\\", \\\"kind\\\": \\\"ModelChanged\\\", \\\"model\\\": {\\\"id\\\": \\\"1845\\\"}, \\\"new\\\": \\\"neighborhood: Inner Mission\\\"}], \\\"references\\\": []}\",\"header\":\"{\\\"msgid\\\": \\\"2260\\\", \\\"msgtype\\\": \\\"PATCH-DOC\\\"}\",\"metadata\":\"{}\"},\"Inner Parkside\":{\"content\":\"{\\\"events\\\": [{\\\"attr\\\": \\\"start\\\", \\\"kind\\\": \\\"ModelChanged\\\", \\\"model\\\": {\\\"id\\\": \\\"1841\\\"}, \\\"new\\\": -219.3277958395809}, {\\\"attr\\\": \\\"reset_start\\\", \\\"kind\\\": \\\"ModelChanged\\\", \\\"model\\\": {\\\"id\\\": \\\"1841\\\"}, \\\"new\\\": -219.3277958395809}, {\\\"attr\\\": \\\"end\\\", \\\"kind\\\": \\\"ModelChanged\\\", \\\"model\\\": {\\\"id\\\": \\\"1841\\\"}, \\\"new\\\": 4809.02979962178}, {\\\"attr\\\": \\\"reset_end\\\", \\\"kind\\\": \\\"ModelChanged\\\", \\\"model\\\": {\\\"id\\\": \\\"1841\\\"}, \\\"new\\\": 4809.02979962178}, {\\\"cols\\\": null, \\\"column_source\\\": {\\\"id\\\": \\\"1879\\\"}, \\\"kind\\\": \\\"ColumnDataChanged\\\", \\\"new\\\": {\\\"sale_price_sqr_foot\\\": {\\\"__ndarray__\\\": \\\"18ai0Hb2aEDC7XKumqmCQHHi/sU31IdAw4xJteYwgEA=\\\", \\\"dtype\\\": \\\"float64\\\", \\\"order\\\": \\\"little\\\", \\\"shape\\\": [4]}, \\\"year\\\": [2010, 2014, 2015, 2016]}}, {\\\"cols\\\": null, \\\"column_source\\\": {\\\"id\\\": \\\"1887\\\"}, \\\"kind\\\": \\\"ColumnDataChanged\\\", \\\"new\\\": {\\\"gross_rent\\\": [1239, 3528, 3739, 4390], \\\"year\\\": [2010, 2014, 2015, 2016]}}, {\\\"attr\\\": \\\"text\\\", \\\"kind\\\": \\\"ModelChanged\\\", \\\"model\\\": {\\\"id\\\": \\\"1845\\\"}, \\\"new\\\": \\\"neighborhood: Inner Parkside\\\"}], \\\"references\\\": []}\",\"header\":\"{\\\"msgid\\\": \\\"2255\\\", \\\"msgtype\\\": \\\"PATCH-DOC\\\"}\",\"metadata\":\"{}\"},\"Inner Richmond\":{\"content\":\"{\\\"events\\\": [{\\\"attr\\\": \\\"start\\\", \\\"kind\\\": \\\"ModelChanged\\\", \\\"model\\\": {\\\"id\\\": \\\"1841\\\"}, \\\"new\\\": -124.59540566244908}, {\\\"attr\\\": \\\"reset_start\\\", \\\"kind\\\": \\\"ModelChanged\\\", \\\"model\\\": {\\\"id\\\": \\\"1841\\\"}, \\\"new\\\": -124.59540566244908}, {\\\"attr\\\": \\\"end\\\", \\\"kind\\\": \\\"ModelChanged\\\", \\\"model\\\": {\\\"id\\\": \\\"1841\\\"}, \\\"new\\\": 4800.417764151131}, {\\\"attr\\\": \\\"reset_end\\\", \\\"kind\\\": \\\"ModelChanged\\\", \\\"model\\\": {\\\"id\\\": \\\"1841\\\"}, \\\"new\\\": 4800.417764151131}, {\\\"cols\\\": null, \\\"column_source\\\": {\\\"id\\\": \\\"1879\\\"}, \\\"kind\\\": \\\"ColumnDataChanged\\\", \\\"new\\\": {\\\"sale_price_sqr_foot\\\": {\\\"__ndarray__\\\": \\\"rudfYSjdcUC/5PKqmIB2QOH8A0Z4V3dAg75VYHrvckDbABfACO96QP4B9lLZ2X5AcgrFZfo0eUA=\\\", \\\"dtype\\\": \\\"float64\\\", \\\"order\\\": \\\"little\\\", \\\"shape\\\": [7]}, \\\"year\\\": [2010, 2011, 2012, 2013, 2014, 2015, 2016]}}, {\\\"cols\\\": null, \\\"column_source\\\": {\\\"id\\\": \\\"1887\\\"}, \\\"kind\\\": \\\"ColumnDataChanged\\\", \\\"new\\\": {\\\"gross_rent\\\": [1239, 1530, 2324, 2971, 3528, 3739, 4390], \\\"year\\\": [2010, 2011, 2012, 2013, 2014, 2015, 2016]}}, {\\\"attr\\\": \\\"text\\\", \\\"kind\\\": \\\"ModelChanged\\\", \\\"model\\\": {\\\"id\\\": \\\"1845\\\"}, \\\"new\\\": \\\"neighborhood: Inner Richmond\\\"}], \\\"references\\\": []}\",\"header\":\"{\\\"msgid\\\": \\\"2250\\\", \\\"msgtype\\\": \\\"PATCH-DOC\\\"}\",\"metadata\":\"{}\"},\"Inner Sunset\":{\"content\":\"{\\\"events\\\": [{\\\"attr\\\": \\\"start\\\", \\\"kind\\\": \\\"ModelChanged\\\", \\\"model\\\": {\\\"id\\\": \\\"1841\\\"}, \\\"new\\\": -135.65329746792855}, {\\\"attr\\\": \\\"reset_start\\\", \\\"kind\\\": \\\"ModelChanged\\\", \\\"model\\\": {\\\"id\\\": \\\"1841\\\"}, \\\"new\\\": -135.65329746792855}, {\\\"attr\\\": \\\"end\\\", \\\"kind\\\": \\\"ModelChanged\\\", \\\"model\\\": {\\\"id\\\": \\\"1841\\\"}, \\\"new\\\": 4801.423027042539}, {\\\"attr\\\": \\\"reset_end\\\", \\\"kind\\\": \\\"ModelChanged\\\", \\\"model\\\": {\\\"id\\\": \\\"1841\\\"}, \\\"new\\\": 4801.423027042539}, {\\\"cols\\\": null, \\\"column_source\\\": {\\\"id\\\": \\\"1879\\\"}, \\\"kind\\\": \\\"ColumnDataChanged\\\", \\\"new\\\": {\\\"sale_price_sqr_foot\\\": {\\\"__ndarray__\\\": \\\"dFv1z1A8cUAZrCL9q+lyQMlvDkJDXXRAh0YXDbs4e0A5E+8OqG19QJJvw+or+YNAR50mAMjee0A=\\\", \\\"dtype\\\": \\\"float64\\\", \\\"order\\\": \\\"little\\\", \\\"shape\\\": [7]}, \\\"year\\\": [2010, 2011, 2012, 2013, 2014, 2015, 2016]}}, {\\\"cols\\\": null, \\\"column_source\\\": {\\\"id\\\": \\\"1887\\\"}, \\\"kind\\\": \\\"ColumnDataChanged\\\", \\\"new\\\": {\\\"gross_rent\\\": [1239, 1530, 2324, 2971, 3528, 3739, 4390], \\\"year\\\": [2010, 2011, 2012, 2013, 2014, 2015, 2016]}}, {\\\"attr\\\": \\\"text\\\", \\\"kind\\\": \\\"ModelChanged\\\", \\\"model\\\": {\\\"id\\\": \\\"1845\\\"}, \\\"new\\\": \\\"neighborhood: Inner Sunset\\\"}], \\\"references\\\": []}\",\"header\":\"{\\\"msgid\\\": \\\"2245\\\", \\\"msgtype\\\": \\\"PATCH-DOC\\\"}\",\"metadata\":\"{}\"},\"Jordan Park/Laurel Heights\":{\"content\":\"{\\\"events\\\": [{\\\"attr\\\": \\\"end\\\", \\\"kind\\\": \\\"ModelChanged\\\", \\\"model\\\": {\\\"id\\\": \\\"1840\\\"}, \\\"new\\\": 2016.0}, {\\\"attr\\\": \\\"reset_end\\\", \\\"kind\\\": \\\"ModelChanged\\\", \\\"model\\\": {\\\"id\\\": \\\"1840\\\"}, \\\"new\\\": 2016.0}, {\\\"attr\\\": \\\"start\\\", \\\"kind\\\": \\\"ModelChanged\\\", \\\"model\\\": {\\\"id\\\": \\\"1841\\\"}, \\\"new\\\": -17.534564292094217}, {\\\"attr\\\": \\\"reset_start\\\", \\\"kind\\\": \\\"ModelChanged\\\", \\\"model\\\": {\\\"id\\\": \\\"1841\\\"}, \\\"new\\\": -17.534564292094217}, {\\\"attr\\\": \\\"end\\\", \\\"kind\\\": \\\"ModelChanged\\\", \\\"model\\\": {\\\"id\\\": \\\"1841\\\"}, \\\"new\\\": 4790.68496039019}, {\\\"attr\\\": \\\"reset_end\\\", \\\"kind\\\": \\\"ModelChanged\\\", \\\"model\\\": {\\\"id\\\": \\\"1841\\\"}, \\\"new\\\": 4790.68496039019}, {\\\"cols\\\": null, \\\"column_source\\\": {\\\"id\\\": \\\"1879\\\"}, \\\"kind\\\": \\\"ColumnDataChanged\\\", \\\"new\\\": {\\\"sale_price_sqr_foot\\\": {\\\"__ndarray__\\\": \\\"uuY5ejQ+ekAnLEsgIhaDQE4svQVo8ndAEAzB95ZAgkAi628Elax6QPxXbMypA4JAUAesBogEhkA=\\\", \\\"dtype\\\": \\\"float64\\\", \\\"order\\\": \\\"little\\\", \\\"shape\\\": [7]}, \\\"year\\\": [2010, 2011, 2012, 2013, 2014, 2015, 2016]}}, {\\\"cols\\\": null, \\\"column_source\\\": {\\\"id\\\": \\\"1887\\\"}, \\\"kind\\\": \\\"ColumnDataChanged\\\", \\\"new\\\": {\\\"gross_rent\\\": [1239, 1530, 2324, 2971, 3528, 3739, 4390], \\\"year\\\": [2010, 2011, 2012, 2013, 2014, 2015, 2016]}}, {\\\"attr\\\": \\\"text\\\", \\\"kind\\\": \\\"ModelChanged\\\", \\\"model\\\": {\\\"id\\\": \\\"1845\\\"}, \\\"new\\\": \\\"neighborhood: Jordan Park/Laurel Heights\\\"}], \\\"references\\\": []}\",\"header\":\"{\\\"msgid\\\": \\\"2240\\\", \\\"msgtype\\\": \\\"PATCH-DOC\\\"}\",\"metadata\":\"{}\"},\"Lake --The Presidio\":{\"content\":\"{\\\"events\\\": [{\\\"attr\\\": \\\"start\\\", \\\"kind\\\": \\\"ModelChanged\\\", \\\"model\\\": {\\\"id\\\": \\\"1841\\\"}, \\\"new\\\": -21.023398458749114}, {\\\"attr\\\": \\\"reset_start\\\", \\\"kind\\\": \\\"ModelChanged\\\", \\\"model\\\": {\\\"id\\\": \\\"1841\\\"}, \\\"new\\\": -21.023398458749114}, {\\\"attr\\\": \\\"end\\\", \\\"kind\\\": \\\"ModelChanged\\\", \\\"model\\\": {\\\"id\\\": \\\"1841\\\"}, \\\"new\\\": 4080.820308950795}, {\\\"attr\\\": \\\"reset_end\\\", \\\"kind\\\": \\\"ModelChanged\\\", \\\"model\\\": {\\\"id\\\": \\\"1841\\\"}, \\\"new\\\": 4080.820308950795}, {\\\"cols\\\": null, \\\"column_source\\\": {\\\"id\\\": \\\"1879\\\"}, \\\"kind\\\": \\\"ColumnDataChanged\\\", \\\"new\\\": {\\\"sale_price_sqr_foot\\\": {\\\"__ndarray__\\\": \\\"2VI3JcAMdECVIgEIvqF0QHq77f9XyHdAb0N7jTXFgUAxyTRQZw97QKwhg5D1qnpA\\\", \\\"dtype\\\": \\\"float64\\\", \\\"order\\\": \\\"little\\\", \\\"shape\\\": [6]}, \\\"year\\\": [2010, 2011, 2012, 2013, 2014, 2015]}}, {\\\"cols\\\": null, \\\"column_source\\\": {\\\"id\\\": \\\"1887\\\"}, \\\"kind\\\": \\\"ColumnDataChanged\\\", \\\"new\\\": {\\\"gross_rent\\\": [1239, 1530, 2324, 2971, 3528, 3739], \\\"year\\\": [2010, 2011, 2012, 2013, 2014, 2015]}}, {\\\"attr\\\": \\\"text\\\", \\\"kind\\\": \\\"ModelChanged\\\", \\\"model\\\": {\\\"id\\\": \\\"1845\\\"}, \\\"new\\\": \\\"neighborhood: Lake --The Presidio\\\"}], \\\"references\\\": []}\",\"header\":\"{\\\"msgid\\\": \\\"2235\\\", \\\"msgtype\\\": \\\"PATCH-DOC\\\"}\",\"metadata\":\"{}\"},\"Lone Mountain\":{\"content\":\"{\\\"events\\\": [{\\\"attr\\\": \\\"end\\\", \\\"kind\\\": \\\"ModelChanged\\\", \\\"model\\\": {\\\"id\\\": \\\"1840\\\"}, \\\"new\\\": 2015.0}, {\\\"attr\\\": \\\"reset_end\\\", \\\"kind\\\": \\\"ModelChanged\\\", \\\"model\\\": {\\\"id\\\": \\\"1840\\\"}, \\\"new\\\": 2015.0}, {\\\"attr\\\": \\\"start\\\", \\\"kind\\\": \\\"ModelChanged\\\", \\\"model\\\": {\\\"id\\\": \\\"1841\\\"}, \\\"new\\\": -29.227695946068025}, {\\\"attr\\\": \\\"reset_start\\\", \\\"kind\\\": \\\"ModelChanged\\\", \\\"model\\\": {\\\"id\\\": \\\"1841\\\"}, \\\"new\\\": -29.227695946068025}, {\\\"attr\\\": \\\"end\\\", \\\"kind\\\": \\\"ModelChanged\\\", \\\"model\\\": {\\\"id\\\": \\\"1841\\\"}, \\\"new\\\": 4081.5661541769155}, {\\\"attr\\\": \\\"reset_end\\\", \\\"kind\\\": \\\"ModelChanged\\\", \\\"model\\\": {\\\"id\\\": \\\"1841\\\"}, \\\"new\\\": 4081.5661541769155}, {\\\"cols\\\": null, \\\"column_source\\\": {\\\"id\\\": \\\"1879\\\"}, \\\"kind\\\": \\\"ColumnDataChanged\\\", \\\"new\\\": {\\\"sale_price_sqr_foot\\\": {\\\"__ndarray__\\\": \\\"wz1ajlfneEDRiC1TapVzQAfvLHLXD4FAeCzjalaBd0BPfmP7jNNzQM1gj19OsoxA\\\", \\\"dtype\\\": \\\"float64\\\", \\\"order\\\": \\\"little\\\", \\\"shape\\\": [6]}, \\\"year\\\": [2010, 2011, 2012, 2013, 2014, 2015]}}, {\\\"cols\\\": null, \\\"column_source\\\": {\\\"id\\\": \\\"1887\\\"}, \\\"kind\\\": \\\"ColumnDataChanged\\\", \\\"new\\\": {\\\"gross_rent\\\": [1239, 1530, 2324, 2971, 3528, 3739], \\\"year\\\": [2010, 2011, 2012, 2013, 2014, 2015]}}, {\\\"attr\\\": \\\"text\\\", \\\"kind\\\": \\\"ModelChanged\\\", \\\"model\\\": {\\\"id\\\": \\\"1845\\\"}, \\\"new\\\": \\\"neighborhood: Lone Mountain\\\"}], \\\"references\\\": []}\",\"header\":\"{\\\"msgid\\\": \\\"2230\\\", \\\"msgtype\\\": \\\"PATCH-DOC\\\"}\",\"metadata\":\"{}\"},\"Lower Pacific Heights\":{\"content\":\"{\\\"events\\\": [{\\\"attr\\\": \\\"start\\\", \\\"kind\\\": \\\"ModelChanged\\\", \\\"model\\\": {\\\"id\\\": \\\"1841\\\"}, \\\"new\\\": -105.10138031219128}, {\\\"attr\\\": \\\"reset_start\\\", \\\"kind\\\": \\\"ModelChanged\\\", \\\"model\\\": {\\\"id\\\": \\\"1841\\\"}, \\\"new\\\": -105.10138031219128}, {\\\"attr\\\": \\\"end\\\", \\\"kind\\\": \\\"ModelChanged\\\", \\\"model\\\": {\\\"id\\\": \\\"1841\\\"}, \\\"new\\\": 4798.645580028381}, {\\\"attr\\\": \\\"reset_end\\\", \\\"kind\\\": \\\"ModelChanged\\\", \\\"model\\\": {\\\"id\\\": \\\"1841\\\"}, \\\"new\\\": 4798.645580028381}, {\\\"cols\\\": null, \\\"column_source\\\": {\\\"id\\\": \\\"1879\\\"}, \\\"kind\\\": \\\"ColumnDataChanged\\\", \\\"new\\\": {\\\"sale_price_sqr_foot\\\": {\\\"__ndarray__\\\": \\\"76u8E+xgd0Bx+MIKtfhyQPfeWOC8wnhAyw2Bnl8ggUA7DXIXA2OGQApnfphPAIlAVYW5N3Ljg0A=\\\", \\\"dtype\\\": \\\"float64\\\", \\\"order\\\": \\\"little\\\", \\\"shape\\\": [7]}, \\\"year\\\": [2010, 2011, 2012, 2013, 2014, 2015, 2016]}}, {\\\"cols\\\": null, \\\"column_source\\\": {\\\"id\\\": \\\"1887\\\"}, \\\"kind\\\": \\\"ColumnDataChanged\\\", \\\"new\\\": {\\\"gross_rent\\\": [1239, 1530, 2324, 2971, 3528, 3739, 4390], \\\"year\\\": [2010, 2011, 2012, 2013, 2014, 2015, 2016]}}, {\\\"attr\\\": \\\"text\\\", \\\"kind\\\": \\\"ModelChanged\\\", \\\"model\\\": {\\\"id\\\": \\\"1845\\\"}, \\\"new\\\": \\\"neighborhood: Lower Pacific Heights\\\"}], \\\"references\\\": []}\",\"header\":\"{\\\"msgid\\\": \\\"2225\\\", \\\"msgtype\\\": \\\"PATCH-DOC\\\"}\",\"metadata\":\"{}\"},\"Marina\":{\"content\":\"{\\\"events\\\": [{\\\"attr\\\": \\\"start\\\", \\\"kind\\\": \\\"ModelChanged\\\", \\\"model\\\": {\\\"id\\\": \\\"1840\\\"}, \\\"new\\\": 2010.0}, {\\\"attr\\\": \\\"reset_start\\\", \\\"kind\\\": \\\"ModelChanged\\\", \\\"model\\\": {\\\"id\\\": \\\"1840\\\"}, \\\"new\\\": 2010.0}, {\\\"attr\\\": \\\"start\\\", \\\"kind\\\": \\\"ModelChanged\\\", \\\"model\\\": {\\\"id\\\": \\\"1841\\\"}, \\\"new\\\": -12.867876575385822}, {\\\"attr\\\": \\\"reset_start\\\", \\\"kind\\\": \\\"ModelChanged\\\", \\\"model\\\": {\\\"id\\\": \\\"1841\\\"}, \\\"new\\\": -12.867876575385822}, {\\\"attr\\\": \\\"end\\\", \\\"kind\\\": \\\"ModelChanged\\\", \\\"model\\\": {\\\"id\\\": \\\"1841\\\"}, \\\"new\\\": 4790.2607160523075}, {\\\"attr\\\": \\\"reset_end\\\", \\\"kind\\\": \\\"ModelChanged\\\", \\\"model\\\": {\\\"id\\\": \\\"1841\\\"}, \\\"new\\\": 4790.2607160523075}, {\\\"cols\\\": null, \\\"column_source\\\": {\\\"id\\\": \\\"1879\\\"}, \\\"kind\\\": \\\"ColumnDataChanged\\\", \\\"new\\\": {\\\"sale_price_sqr_foot\\\": {\\\"__ndarray__\\\": \\\"Ux8MEkk2eECye+dyGG14QJQFBghx03tArN/UlpV5hEDmyxE0tRaEQI2iC3VZs5FA5fACFx3/ekA=\\\", \\\"dtype\\\": \\\"float64\\\", \\\"order\\\": \\\"little\\\", \\\"shape\\\": [7]}, \\\"year\\\": [2010, 2011, 2012, 2013, 2014, 2015, 2016]}}, {\\\"cols\\\": null, \\\"column_source\\\": {\\\"id\\\": \\\"1887\\\"}, \\\"kind\\\": \\\"ColumnDataChanged\\\", \\\"new\\\": {\\\"gross_rent\\\": [1239, 1530, 2324, 2971, 3528, 3739, 4390], \\\"year\\\": [2010, 2011, 2012, 2013, 2014, 2015, 2016]}}, {\\\"attr\\\": \\\"text\\\", \\\"kind\\\": \\\"ModelChanged\\\", \\\"model\\\": {\\\"id\\\": \\\"1845\\\"}, \\\"new\\\": \\\"neighborhood: Marina\\\"}], \\\"references\\\": []}\",\"header\":\"{\\\"msgid\\\": \\\"2220\\\", \\\"msgtype\\\": \\\"PATCH-DOC\\\"}\",\"metadata\":\"{}\"},\"Merced Heights\":{\"content\":\"{\\\"events\\\": [{\\\"attr\\\": \\\"end\\\", \\\"kind\\\": \\\"ModelChanged\\\", \\\"model\\\": {\\\"id\\\": \\\"1840\\\"}, \\\"new\\\": 2016.0}, {\\\"attr\\\": \\\"reset_end\\\", \\\"kind\\\": \\\"ModelChanged\\\", \\\"model\\\": {\\\"id\\\": \\\"1840\\\"}, \\\"new\\\": 2016.0}, {\\\"attr\\\": \\\"start\\\", \\\"kind\\\": \\\"ModelChanged\\\", \\\"model\\\": {\\\"id\\\": \\\"1841\\\"}, \\\"new\\\": 24.25536917681029}, {\\\"attr\\\": \\\"reset_start\\\", \\\"kind\\\": \\\"ModelChanged\\\", \\\"model\\\": {\\\"id\\\": \\\"1841\\\"}, \\\"new\\\": 24.25536917681029}, {\\\"attr\\\": \\\"end\\\", \\\"kind\\\": \\\"ModelChanged\\\", \\\"model\\\": {\\\"id\\\": \\\"1841\\\"}, \\\"new\\\": 4786.88587552938}, {\\\"attr\\\": \\\"reset_end\\\", \\\"kind\\\": \\\"ModelChanged\\\", \\\"model\\\": {\\\"id\\\": \\\"1841\\\"}, \\\"new\\\": 4786.88587552938}, {\\\"cols\\\": null, \\\"column_source\\\": {\\\"id\\\": \\\"1879\\\"}, \\\"kind\\\": \\\"ColumnDataChanged\\\", \\\"new\\\": {\\\"sale_price_sqr_foot\\\": {\\\"__ndarray__\\\": \\\"MB3PiUJSekCKg+70z4WAQKyqqqqqIpZA\\\", \\\"dtype\\\": \\\"float64\\\", \\\"order\\\": \\\"little\\\", \\\"shape\\\": [3]}, \\\"year\\\": [2012, 2014, 2016]}}, {\\\"cols\\\": null, \\\"column_source\\\": {\\\"id\\\": \\\"1887\\\"}, \\\"kind\\\": \\\"ColumnDataChanged\\\", \\\"new\\\": {\\\"gross_rent\\\": [2324, 3528, 4390], \\\"year\\\": [2012, 2014, 2016]}}, {\\\"attr\\\": \\\"text\\\", \\\"kind\\\": \\\"ModelChanged\\\", \\\"model\\\": {\\\"id\\\": \\\"1845\\\"}, \\\"new\\\": \\\"neighborhood: Merced Heights\\\"}], \\\"references\\\": []}\",\"header\":\"{\\\"msgid\\\": \\\"2215\\\", \\\"msgtype\\\": \\\"PATCH-DOC\\\"}\",\"metadata\":\"{}\"},\"Midtown Terrace\":{\"content\":\"{\\\"events\\\": [{\\\"attr\\\": \\\"start\\\", \\\"kind\\\": \\\"ModelChanged\\\", \\\"model\\\": {\\\"id\\\": \\\"1840\\\"}, \\\"new\\\": 2012.0}, {\\\"attr\\\": \\\"reset_start\\\", \\\"kind\\\": \\\"ModelChanged\\\", \\\"model\\\": {\\\"id\\\": \\\"1840\\\"}, \\\"new\\\": 2012.0}, {\\\"attr\\\": \\\"end\\\", \\\"kind\\\": \\\"ModelChanged\\\", \\\"model\\\": {\\\"id\\\": \\\"1840\\\"}, \\\"new\\\": 2013.0}, {\\\"attr\\\": \\\"reset_end\\\", \\\"kind\\\": \\\"ModelChanged\\\", \\\"model\\\": {\\\"id\\\": \\\"1840\\\"}, \\\"new\\\": 2013.0}, {\\\"attr\\\": \\\"start\\\", \\\"kind\\\": \\\"ModelChanged\\\", \\\"model\\\": {\\\"id\\\": \\\"1841\\\"}, \\\"new\\\": 140.63304178519905}, {\\\"attr\\\": \\\"reset_start\\\", \\\"kind\\\": \\\"ModelChanged\\\", \\\"model\\\": {\\\"id\\\": \\\"1841\\\"}, \\\"new\\\": 140.63304178519905}, {\\\"attr\\\": \\\"end\\\", \\\"kind\\\": \\\"ModelChanged\\\", \\\"model\\\": {\\\"id\\\": \\\"1841\\\"}, \\\"new\\\": 3228.3060871104362}, {\\\"attr\\\": \\\"reset_end\\\", \\\"kind\\\": \\\"ModelChanged\\\", \\\"model\\\": {\\\"id\\\": \\\"1841\\\"}, \\\"new\\\": 3228.3060871104362}, {\\\"cols\\\": null, \\\"column_source\\\": {\\\"id\\\": \\\"1879\\\"}, \\\"kind\\\": \\\"ColumnDataChanged\\\", \\\"new\\\": {\\\"sale_price_sqr_foot\\\": {\\\"__ndarray__\\\": \\\"u1cFrAbfeEDpu/UMp/iFQA==\\\", \\\"dtype\\\": \\\"float64\\\", \\\"order\\\": \\\"little\\\", \\\"shape\\\": [2]}, \\\"year\\\": [2012, 2013]}}, {\\\"cols\\\": null, \\\"column_source\\\": {\\\"id\\\": \\\"1887\\\"}, \\\"kind\\\": \\\"ColumnDataChanged\\\", \\\"new\\\": {\\\"gross_rent\\\": [2324, 2971], \\\"year\\\": [2012, 2013]}}, {\\\"attr\\\": \\\"text\\\", \\\"kind\\\": \\\"ModelChanged\\\", \\\"model\\\": {\\\"id\\\": \\\"1845\\\"}, \\\"new\\\": \\\"neighborhood: Midtown Terrace\\\"}], \\\"references\\\": []}\",\"header\":\"{\\\"msgid\\\": \\\"2210\\\", \\\"msgtype\\\": \\\"PATCH-DOC\\\"}\",\"metadata\":\"{}\"},\"Miraloma Park\":{\"content\":\"{\\\"events\\\": [{\\\"attr\\\": \\\"end\\\", \\\"kind\\\": \\\"ModelChanged\\\", \\\"model\\\": {\\\"id\\\": \\\"1840\\\"}, \\\"new\\\": 2014.0}, {\\\"attr\\\": \\\"reset_end\\\", \\\"kind\\\": \\\"ModelChanged\\\", \\\"model\\\": {\\\"id\\\": \\\"1840\\\"}, \\\"new\\\": 2014.0}, {\\\"attr\\\": \\\"start\\\", \\\"kind\\\": \\\"ModelChanged\\\", \\\"model\\\": {\\\"id\\\": \\\"1841\\\"}, \\\"new\\\": 103.34367125364128}, {\\\"attr\\\": \\\"reset_start\\\", \\\"kind\\\": \\\"ModelChanged\\\", \\\"model\\\": {\\\"id\\\": \\\"1841\\\"}, \\\"new\\\": 103.34367125364128}, {\\\"attr\\\": \\\"end\\\", \\\"kind\\\": \\\"ModelChanged\\\", \\\"model\\\": {\\\"id\\\": \\\"1841\\\"}, \\\"new\\\": 3839.332393522396}, {\\\"attr\\\": \\\"reset_end\\\", \\\"kind\\\": \\\"ModelChanged\\\", \\\"model\\\": {\\\"id\\\": \\\"1841\\\"}, \\\"new\\\": 3839.332393522396}, {\\\"cols\\\": null, \\\"column_source\\\": {\\\"id\\\": \\\"1879\\\"}, \\\"kind\\\": \\\"ColumnDataChanged\\\", \\\"new\\\": {\\\"sale_price_sqr_foot\\\": {\\\"__ndarray__\\\": \\\"nv5hrd5EhUDxcEwp0ep5QKIzmfqJoYdAXElslxDPk0A=\\\", \\\"dtype\\\": \\\"float64\\\", \\\"order\\\": \\\"little\\\", \\\"shape\\\": [4]}, \\\"year\\\": [2010, 2011, 2012, 2014]}}, {\\\"cols\\\": null, \\\"column_source\\\": {\\\"id\\\": \\\"1887\\\"}, \\\"kind\\\": \\\"ColumnDataChanged\\\", \\\"new\\\": {\\\"gross_rent\\\": [1239, 1530, 2324, 3528], \\\"year\\\": [2010, 2011, 2012, 2014]}}, {\\\"attr\\\": \\\"text\\\", \\\"kind\\\": \\\"ModelChanged\\\", \\\"model\\\": {\\\"id\\\": \\\"1845\\\"}, \\\"new\\\": \\\"neighborhood: Miraloma Park\\\"}], \\\"references\\\": []}\",\"header\":\"{\\\"msgid\\\": \\\"2205\\\", \\\"msgtype\\\": \\\"PATCH-DOC\\\"}\",\"metadata\":\"{}\"},\"Mission Bay\":{\"content\":\"{\\\"events\\\": [{\\\"attr\\\": \\\"end\\\", \\\"kind\\\": \\\"ModelChanged\\\", \\\"model\\\": {\\\"id\\\": \\\"1840\\\"}, \\\"new\\\": 2016.0}, {\\\"attr\\\": \\\"reset_end\\\", \\\"kind\\\": \\\"ModelChanged\\\", \\\"model\\\": {\\\"id\\\": \\\"1840\\\"}, \\\"new\\\": 2016.0}, {\\\"attr\\\": \\\"start\\\", \\\"kind\\\": \\\"ModelChanged\\\", \\\"model\\\": {\\\"id\\\": \\\"1841\\\"}, \\\"new\\\": -196.8778040891179}, {\\\"attr\\\": \\\"reset_start\\\", \\\"kind\\\": \\\"ModelChanged\\\", \\\"model\\\": {\\\"id\\\": \\\"1841\\\"}, \\\"new\\\": -196.8778040891179}, {\\\"attr\\\": \\\"end\\\", \\\"kind\\\": \\\"ModelChanged\\\", \\\"model\\\": {\\\"id\\\": \\\"1841\\\"}, \\\"new\\\": 4806.988891280829}, {\\\"attr\\\": \\\"reset_end\\\", \\\"kind\\\": \\\"ModelChanged\\\", \\\"model\\\": {\\\"id\\\": \\\"1841\\\"}, \\\"new\\\": 4806.988891280829}, {\\\"cols\\\": null, \\\"column_source\\\": {\\\"id\\\": \\\"1879\\\"}, \\\"kind\\\": \\\"ColumnDataChanged\\\", \\\"new\\\": {\\\"sale_price_sqr_foot\\\": {\\\"__ndarray__\\\": \\\"YJ/P0+KcfkA4flQbPK9/QDDJZL4vjIVAAAAAAAAA+H/q7LkGjoNrQAVqo4yN5IxA\\\", \\\"dtype\\\": \\\"float64\\\", \\\"order\\\": \\\"little\\\", \\\"shape\\\": [6]}, \\\"year\\\": [2010, 2011, 2012, 2013, 2014, 2016]}}, {\\\"cols\\\": null, \\\"column_source\\\": {\\\"id\\\": \\\"1887\\\"}, \\\"kind\\\": \\\"ColumnDataChanged\\\", \\\"new\\\": {\\\"gross_rent\\\": [1239, 1530, 2324, 2971, 3528, 4390], \\\"year\\\": [2010, 2011, 2012, 2013, 2014, 2016]}}, {\\\"attr\\\": \\\"text\\\", \\\"kind\\\": \\\"ModelChanged\\\", \\\"model\\\": {\\\"id\\\": \\\"1845\\\"}, \\\"new\\\": \\\"neighborhood: Mission Bay\\\"}], \\\"references\\\": []}\",\"header\":\"{\\\"msgid\\\": \\\"2200\\\", \\\"msgtype\\\": \\\"PATCH-DOC\\\"}\",\"metadata\":\"{}\"},\"Mission Dolores\":{\"content\":\"{\\\"events\\\": [{\\\"attr\\\": \\\"end\\\", \\\"kind\\\": \\\"ModelChanged\\\", \\\"model\\\": {\\\"id\\\": \\\"1840\\\"}, \\\"new\\\": 2015.0}, {\\\"attr\\\": \\\"reset_end\\\", \\\"kind\\\": \\\"ModelChanged\\\", \\\"model\\\": {\\\"id\\\": \\\"1840\\\"}, \\\"new\\\": 2015.0}, {\\\"attr\\\": \\\"start\\\", \\\"kind\\\": \\\"ModelChanged\\\", \\\"model\\\": {\\\"id\\\": \\\"1841\\\"}, \\\"new\\\": -90.11320150149237}, {\\\"attr\\\": \\\"reset_start\\\", \\\"kind\\\": \\\"ModelChanged\\\", \\\"model\\\": {\\\"id\\\": \\\"1841\\\"}, \\\"new\\\": -90.11320150149237}, {\\\"attr\\\": \\\"end\\\", \\\"kind\\\": \\\"ModelChanged\\\", \\\"model\\\": {\\\"id\\\": \\\"1841\\\"}, \\\"new\\\": 4087.1012001364993}, {\\\"attr\\\": \\\"reset_end\\\", \\\"kind\\\": \\\"ModelChanged\\\", \\\"model\\\": {\\\"id\\\": \\\"1841\\\"}, \\\"new\\\": 4087.1012001364993}, {\\\"cols\\\": null, \\\"column_source\\\": {\\\"id\\\": \\\"1879\\\"}, \\\"kind\\\": \\\"ColumnDataChanged\\\", \\\"new\\\": {\\\"sale_price_sqr_foot\\\": {\\\"__ndarray__\\\": \\\"jx2o184fcEDnKsbKd1ZyQHi6P9hbD3RAu5WvBqmyekDqY725wRGEQPso77AL3oFA\\\", \\\"dtype\\\": \\\"float64\\\", \\\"order\\\": \\\"little\\\", \\\"shape\\\": [6]}, \\\"year\\\": [2010, 2011, 2012, 2013, 2014, 2015]}}, {\\\"cols\\\": null, \\\"column_source\\\": {\\\"id\\\": \\\"1887\\\"}, \\\"kind\\\": \\\"ColumnDataChanged\\\", \\\"new\\\": {\\\"gross_rent\\\": [1239, 1530, 2324, 2971, 3528, 3739], \\\"year\\\": [2010, 2011, 2012, 2013, 2014, 2015]}}, {\\\"attr\\\": \\\"text\\\", \\\"kind\\\": \\\"ModelChanged\\\", \\\"model\\\": {\\\"id\\\": \\\"1845\\\"}, \\\"new\\\": \\\"neighborhood: Mission Dolores\\\"}], \\\"references\\\": []}\",\"header\":\"{\\\"msgid\\\": \\\"2195\\\", \\\"msgtype\\\": \\\"PATCH-DOC\\\"}\",\"metadata\":\"{}\"},\"Mission Terrace\":{\"content\":\"{\\\"events\\\": [{\\\"attr\\\": \\\"start\\\", \\\"kind\\\": \\\"ModelChanged\\\", \\\"model\\\": {\\\"id\\\": \\\"1841\\\"}, \\\"new\\\": -149.83637179537936}, {\\\"attr\\\": \\\"reset_start\\\", \\\"kind\\\": \\\"ModelChanged\\\", \\\"model\\\": {\\\"id\\\": \\\"1841\\\"}, \\\"new\\\": -149.83637179537936}, {\\\"attr\\\": \\\"end\\\", \\\"kind\\\": \\\"ModelChanged\\\", \\\"model\\\": {\\\"id\\\": \\\"1841\\\"}, \\\"new\\\": 4802.712397435944}, {\\\"attr\\\": \\\"reset_end\\\", \\\"kind\\\": \\\"ModelChanged\\\", \\\"model\\\": {\\\"id\\\": \\\"1841\\\"}, \\\"new\\\": 4802.712397435944}, {\\\"cols\\\": null, \\\"column_source\\\": {\\\"id\\\": \\\"1879\\\"}, \\\"kind\\\": \\\"ColumnDataChanged\\\", \\\"new\\\": {\\\"sale_price_sqr_foot\\\": {\\\"__ndarray__\\\": \\\"5Up2MwRucEDCIHpXN3uCQAn27jf/wnJA7NvKAco+gkD7adXXIniLQA==\\\", \\\"dtype\\\": \\\"float64\\\", \\\"order\\\": \\\"little\\\", \\\"shape\\\": [5]}, \\\"year\\\": [2010, 2013, 2014, 2015, 2016]}}, {\\\"cols\\\": null, \\\"column_source\\\": {\\\"id\\\": \\\"1887\\\"}, \\\"kind\\\": \\\"ColumnDataChanged\\\", \\\"new\\\": {\\\"gross_rent\\\": [1239, 2971, 3528, 3739, 4390], \\\"year\\\": [2010, 2013, 2014, 2015, 2016]}}, {\\\"attr\\\": \\\"text\\\", \\\"kind\\\": \\\"ModelChanged\\\", \\\"model\\\": {\\\"id\\\": \\\"1845\\\"}, \\\"new\\\": \\\"neighborhood: Mission Terrace\\\"}], \\\"references\\\": []}\",\"header\":\"{\\\"msgid\\\": \\\"2190\\\", \\\"msgtype\\\": \\\"PATCH-DOC\\\"}\",\"metadata\":\"{}\"},\"Nob Hill\":{\"content\":\"{\\\"events\\\": [{\\\"attr\\\": \\\"start\\\", \\\"kind\\\": \\\"ModelChanged\\\", \\\"model\\\": {\\\"id\\\": \\\"1841\\\"}, \\\"new\\\": -100.55477558129382}, {\\\"attr\\\": \\\"reset_start\\\", \\\"kind\\\": \\\"ModelChanged\\\", \\\"model\\\": {\\\"id\\\": \\\"1841\\\"}, \\\"new\\\": -100.55477558129382}, {\\\"attr\\\": \\\"end\\\", \\\"kind\\\": \\\"ModelChanged\\\", \\\"model\\\": {\\\"id\\\": \\\"1841\\\"}, \\\"new\\\": 4798.2322523255725}, {\\\"attr\\\": \\\"reset_end\\\", \\\"kind\\\": \\\"ModelChanged\\\", \\\"model\\\": {\\\"id\\\": \\\"1841\\\"}, \\\"new\\\": 4798.2322523255725}, {\\\"cols\\\": null, \\\"column_source\\\": {\\\"id\\\": \\\"1879\\\"}, \\\"kind\\\": \\\"ColumnDataChanged\\\", \\\"new\\\": {\\\"sale_price_sqr_foot\\\": {\\\"__ndarray__\\\": \\\"nsfa8dY6c0Dw6sQTSEp1QNOp9qKHPHNANu2GfmwgfUCD5gH4F+d9QN20QE/HjoBA5tc1BxFIiEA=\\\", \\\"dtype\\\": \\\"float64\\\", \\\"order\\\": \\\"little\\\", \\\"shape\\\": [7]}, \\\"year\\\": [2010, 2011, 2012, 2013, 2014, 2015, 2016]}}, {\\\"cols\\\": null, \\\"column_source\\\": {\\\"id\\\": \\\"1887\\\"}, \\\"kind\\\": \\\"ColumnDataChanged\\\", \\\"new\\\": {\\\"gross_rent\\\": [1239, 1530, 2324, 2971, 3528, 3739, 4390], \\\"year\\\": [2010, 2011, 2012, 2013, 2014, 2015, 2016]}}, {\\\"attr\\\": \\\"text\\\", \\\"kind\\\": \\\"ModelChanged\\\", \\\"model\\\": {\\\"id\\\": \\\"1845\\\"}, \\\"new\\\": \\\"neighborhood: Nob Hill\\\"}], \\\"references\\\": []}\",\"header\":\"{\\\"msgid\\\": \\\"2185\\\", \\\"msgtype\\\": \\\"PATCH-DOC\\\"}\",\"metadata\":\"{}\"},\"Noe Valley\":{\"content\":\"{\\\"events\\\": [{\\\"attr\\\": \\\"start\\\", \\\"kind\\\": \\\"ModelChanged\\\", \\\"model\\\": {\\\"id\\\": \\\"1840\\\"}, \\\"new\\\": 2010.0}, {\\\"attr\\\": \\\"reset_start\\\", \\\"kind\\\": \\\"ModelChanged\\\", \\\"model\\\": {\\\"id\\\": \\\"1840\\\"}, \\\"new\\\": 2010.0}, {\\\"attr\\\": \\\"start\\\", \\\"kind\\\": \\\"ModelChanged\\\", \\\"model\\\": {\\\"id\\\": \\\"1841\\\"}, \\\"new\\\": -27.623444225692424}, {\\\"attr\\\": \\\"reset_start\\\", \\\"kind\\\": \\\"ModelChanged\\\", \\\"model\\\": {\\\"id\\\": \\\"1841\\\"}, \\\"new\\\": -27.623444225692424}, {\\\"attr\\\": \\\"end\\\", \\\"kind\\\": \\\"ModelChanged\\\", \\\"model\\\": {\\\"id\\\": \\\"1841\\\"}, \\\"new\\\": 4791.602131293244}, {\\\"attr\\\": \\\"reset_end\\\", \\\"kind\\\": \\\"ModelChanged\\\", \\\"model\\\": {\\\"id\\\": \\\"1841\\\"}, \\\"new\\\": 4791.602131293244}, {\\\"cols\\\": null, \\\"column_source\\\": {\\\"id\\\": \\\"1879\\\"}, \\\"kind\\\": \\\"ColumnDataChanged\\\", \\\"new\\\": {\\\"sale_price_sqr_foot\\\": {\\\"__ndarray__\\\": \\\"GS5CEjfSd0B9QsWzqF93QIDKIsFZwHpAI9iT7YI4g0DciMZ4aXaEQKBBKlfNBIFAOogEGPf7iEA=\\\", \\\"dtype\\\": \\\"float64\\\", \\\"order\\\": \\\"little\\\", \\\"shape\\\": [7]}, \\\"year\\\": [2010, 2011, 2012, 2013, 2014, 2015, 2016]}}, {\\\"cols\\\": null, \\\"column_source\\\": {\\\"id\\\": \\\"1887\\\"}, \\\"kind\\\": \\\"ColumnDataChanged\\\", \\\"new\\\": {\\\"gross_rent\\\": [1239, 1530, 2324, 2971, 3528, 3739, 4390], \\\"year\\\": [2010, 2011, 2012, 2013, 2014, 2015, 2016]}}, {\\\"attr\\\": \\\"text\\\", \\\"kind\\\": \\\"ModelChanged\\\", \\\"model\\\": {\\\"id\\\": \\\"1845\\\"}, \\\"new\\\": \\\"neighborhood: Noe Valley\\\"}], \\\"references\\\": []}\",\"header\":\"{\\\"msgid\\\": \\\"2180\\\", \\\"msgtype\\\": \\\"PATCH-DOC\\\"}\",\"metadata\":\"{}\"},\"North Beach\":{\"content\":\"{\\\"events\\\": [{\\\"attr\\\": \\\"end\\\", \\\"kind\\\": \\\"ModelChanged\\\", \\\"model\\\": {\\\"id\\\": \\\"1840\\\"}, \\\"new\\\": 2016.0}, {\\\"attr\\\": \\\"reset_end\\\", \\\"kind\\\": \\\"ModelChanged\\\", \\\"model\\\": {\\\"id\\\": \\\"1840\\\"}, \\\"new\\\": 2016.0}, {\\\"attr\\\": \\\"start\\\", \\\"kind\\\": \\\"ModelChanged\\\", \\\"model\\\": {\\\"id\\\": \\\"1841\\\"}, \\\"new\\\": -118.98686401904314}, {\\\"attr\\\": \\\"reset_start\\\", \\\"kind\\\": \\\"ModelChanged\\\", \\\"model\\\": {\\\"id\\\": \\\"1841\\\"}, \\\"new\\\": -118.98686401904314}, {\\\"attr\\\": \\\"end\\\", \\\"kind\\\": \\\"ModelChanged\\\", \\\"model\\\": {\\\"id\\\": \\\"1841\\\"}, \\\"new\\\": 4799.907896729004}, {\\\"attr\\\": \\\"reset_end\\\", \\\"kind\\\": \\\"ModelChanged\\\", \\\"model\\\": {\\\"id\\\": \\\"1841\\\"}, \\\"new\\\": 4799.907896729004}, {\\\"cols\\\": null, \\\"column_source\\\": {\\\"id\\\": \\\"1879\\\"}, \\\"kind\\\": \\\"ColumnDataChanged\\\", \\\"new\\\": {\\\"sale_price_sqr_foot\\\": {\\\"__ndarray__\\\": \\\"P33LjLwuckC+7VtQYymAQEOToDR6m3hA0knGOugNfEByKLVn2nh5QA==\\\", \\\"dtype\\\": \\\"float64\\\", \\\"order\\\": \\\"little\\\", \\\"shape\\\": [5]}, \\\"year\\\": [2011, 2012, 2013, 2015, 2016]}}, {\\\"cols\\\": null, \\\"column_source\\\": {\\\"id\\\": \\\"1887\\\"}, \\\"kind\\\": \\\"ColumnDataChanged\\\", \\\"new\\\": {\\\"gross_rent\\\": [1530, 2324, 2971, 3739, 4390], \\\"year\\\": [2011, 2012, 2013, 2015, 2016]}}, {\\\"attr\\\": \\\"text\\\", \\\"kind\\\": \\\"ModelChanged\\\", \\\"model\\\": {\\\"id\\\": \\\"1845\\\"}, \\\"new\\\": \\\"neighborhood: North Beach\\\"}], \\\"references\\\": []}\",\"header\":\"{\\\"msgid\\\": \\\"2175\\\", \\\"msgtype\\\": \\\"PATCH-DOC\\\"}\",\"metadata\":\"{}\"},\"North Waterfront\":{\"content\":\"{\\\"events\\\": [{\\\"attr\\\": \\\"start\\\", \\\"kind\\\": \\\"ModelChanged\\\", \\\"model\\\": {\\\"id\\\": \\\"1840\\\"}, \\\"new\\\": 2011.0}, {\\\"attr\\\": \\\"reset_start\\\", \\\"kind\\\": \\\"ModelChanged\\\", \\\"model\\\": {\\\"id\\\": \\\"1840\\\"}, \\\"new\\\": 2011.0}, {\\\"attr\\\": \\\"start\\\", \\\"kind\\\": \\\"ModelChanged\\\", \\\"model\\\": {\\\"id\\\": \\\"1841\\\"}, \\\"new\\\": 7.757276017162383}, {\\\"attr\\\": \\\"reset_start\\\", \\\"kind\\\": \\\"ModelChanged\\\", \\\"model\\\": {\\\"id\\\": \\\"1841\\\"}, \\\"new\\\": 7.757276017162383}, {\\\"attr\\\": \\\"end\\\", \\\"kind\\\": \\\"ModelChanged\\\", \\\"model\\\": {\\\"id\\\": \\\"1841\\\"}, \\\"new\\\": 4078.20388399844}, {\\\"attr\\\": \\\"reset_end\\\", \\\"kind\\\": \\\"ModelChanged\\\", \\\"model\\\": {\\\"id\\\": \\\"1841\\\"}, \\\"new\\\": 4078.20388399844}, {\\\"cols\\\": null, \\\"column_source\\\": {\\\"id\\\": \\\"1879\\\"}, \\\"kind\\\": \\\"ColumnDataChanged\\\", \\\"new\\\": {\\\"sale_price_sqr_foot\\\": {\\\"__ndarray__\\\": \\\"vxNT6WCvdUByVgFHJGZ4QBwxImuzMn5A+QsZSM6+d0DjisnYRteLQA==\\\", \\\"dtype\\\": \\\"float64\\\", \\\"order\\\": \\\"little\\\", \\\"shape\\\": [5]}, \\\"year\\\": [2011, 2012, 2013, 2014, 2015]}}, {\\\"cols\\\": null, \\\"column_source\\\": {\\\"id\\\": \\\"1887\\\"}, \\\"kind\\\": \\\"ColumnDataChanged\\\", \\\"new\\\": {\\\"gross_rent\\\": [1530, 2324, 2971, 3528, 3739], \\\"year\\\": [2011, 2012, 2013, 2014, 2015]}}, {\\\"attr\\\": \\\"text\\\", \\\"kind\\\": \\\"ModelChanged\\\", \\\"model\\\": {\\\"id\\\": \\\"1845\\\"}, \\\"new\\\": \\\"neighborhood: North Waterfront\\\"}], \\\"references\\\": []}\",\"header\":\"{\\\"msgid\\\": \\\"2170\\\", \\\"msgtype\\\": \\\"PATCH-DOC\\\"}\",\"metadata\":\"{}\"},\"Oceanview\":{\"content\":\"{\\\"events\\\": [{\\\"attr\\\": \\\"start\\\", \\\"kind\\\": \\\"ModelChanged\\\", \\\"model\\\": {\\\"id\\\": \\\"1840\\\"}, \\\"new\\\": 2010.0}, {\\\"attr\\\": \\\"reset_start\\\", \\\"kind\\\": \\\"ModelChanged\\\", \\\"model\\\": {\\\"id\\\": \\\"1840\\\"}, \\\"new\\\": 2010.0}, {\\\"attr\\\": \\\"end\\\", \\\"kind\\\": \\\"ModelChanged\\\", \\\"model\\\": {\\\"id\\\": \\\"1840\\\"}, \\\"new\\\": 2015.0}, {\\\"attr\\\": \\\"reset_end\\\", \\\"kind\\\": \\\"ModelChanged\\\", \\\"model\\\": {\\\"id\\\": \\\"1840\\\"}, \\\"new\\\": 2015.0}, {\\\"attr\\\": \\\"start\\\", \\\"kind\\\": \\\"ModelChanged\\\", \\\"model\\\": {\\\"id\\\": \\\"1841\\\"}, \\\"new\\\": -81.37719084640287}, {\\\"attr\\\": \\\"reset_start\\\", \\\"kind\\\": \\\"ModelChanged\\\", \\\"model\\\": {\\\"id\\\": \\\"1841\\\"}, \\\"new\\\": -81.37719084640287}, {\\\"attr\\\": \\\"end\\\", \\\"kind\\\": \\\"ModelChanged\\\", \\\"model\\\": {\\\"id\\\": \\\"1841\\\"}, \\\"new\\\": 4086.307017349673}, {\\\"attr\\\": \\\"reset_end\\\", \\\"kind\\\": \\\"ModelChanged\\\", \\\"model\\\": {\\\"id\\\": \\\"1841\\\"}, \\\"new\\\": 4086.307017349673}, {\\\"cols\\\": null, \\\"column_source\\\": {\\\"id\\\": \\\"1879\\\"}, \\\"kind\\\": \\\"ColumnDataChanged\\\", \\\"new\\\": {\\\"sale_price_sqr_foot\\\": {\\\"__ndarray__\\\": \\\"jJidK+qhcUAVBUTs4aN7QP1nwZHgnnBA\\\", \\\"dtype\\\": \\\"float64\\\", \\\"order\\\": \\\"little\\\", \\\"shape\\\": [3]}, \\\"year\\\": [2010, 2012, 2015]}}, {\\\"cols\\\": null, \\\"column_source\\\": {\\\"id\\\": \\\"1887\\\"}, \\\"kind\\\": \\\"ColumnDataChanged\\\", \\\"new\\\": {\\\"gross_rent\\\": [1239, 2324, 3739], \\\"year\\\": [2010, 2012, 2015]}}, {\\\"attr\\\": \\\"text\\\", \\\"kind\\\": \\\"ModelChanged\\\", \\\"model\\\": {\\\"id\\\": \\\"1845\\\"}, \\\"new\\\": \\\"neighborhood: Oceanview\\\"}], \\\"references\\\": []}\",\"header\":\"{\\\"msgid\\\": \\\"2165\\\", \\\"msgtype\\\": \\\"PATCH-DOC\\\"}\",\"metadata\":\"{}\"},\"Outer Mission\":{\"content\":\"{\\\"events\\\": [{\\\"attr\\\": \\\"start\\\", \\\"kind\\\": \\\"ModelChanged\\\", \\\"model\\\": {\\\"id\\\": \\\"1840\\\"}, \\\"new\\\": 2011.0}, {\\\"attr\\\": \\\"reset_start\\\", \\\"kind\\\": \\\"ModelChanged\\\", \\\"model\\\": {\\\"id\\\": \\\"1840\\\"}, \\\"new\\\": 2011.0}, {\\\"attr\\\": \\\"start\\\", \\\"kind\\\": \\\"ModelChanged\\\", \\\"model\\\": {\\\"id\\\": \\\"1841\\\"}, \\\"new\\\": -394.1501121129717}, {\\\"attr\\\": \\\"reset_start\\\", \\\"kind\\\": \\\"ModelChanged\\\", \\\"model\\\": {\\\"id\\\": \\\"1841\\\"}, \\\"new\\\": -394.1501121129717}, {\\\"attr\\\": \\\"end\\\", \\\"kind\\\": \\\"ModelChanged\\\", \\\"model\\\": {\\\"id\\\": \\\"1841\\\"}, \\\"new\\\": 4824.922737464815}, {\\\"attr\\\": \\\"reset_end\\\", \\\"kind\\\": \\\"ModelChanged\\\", \\\"model\\\": {\\\"id\\\": \\\"1841\\\"}, \\\"new\\\": 4824.922737464815}, {\\\"cols\\\": null, \\\"column_source\\\": {\\\"id\\\": \\\"1879\\\"}, \\\"kind\\\": \\\"ColumnDataChanged\\\", \\\"new\\\": {\\\"sale_price_sqr_foot\\\": {\\\"__ndarray__\\\": \\\"VAHB6Y/EYUDRheJJMrxrQMNZqfN/pYFAch01Y+ViREA=\\\", \\\"dtype\\\": \\\"float64\\\", \\\"order\\\": \\\"little\\\", \\\"shape\\\": [4]}, \\\"year\\\": [2011, 2012, 2015, 2016]}}, {\\\"cols\\\": null, \\\"column_source\\\": {\\\"id\\\": \\\"1887\\\"}, \\\"kind\\\": \\\"ColumnDataChanged\\\", \\\"new\\\": {\\\"gross_rent\\\": [1530, 2324, 3739, 4390], \\\"year\\\": [2011, 2012, 2015, 2016]}}, {\\\"attr\\\": \\\"text\\\", \\\"kind\\\": \\\"ModelChanged\\\", \\\"model\\\": {\\\"id\\\": \\\"1845\\\"}, \\\"new\\\": \\\"neighborhood: Outer Mission\\\"}], \\\"references\\\": []}\",\"header\":\"{\\\"msgid\\\": \\\"2160\\\", \\\"msgtype\\\": \\\"PATCH-DOC\\\"}\",\"metadata\":\"{}\"},\"Outer Parkside\":{\"content\":\"{\\\"events\\\": [{\\\"attr\\\": \\\"start\\\", \\\"kind\\\": \\\"ModelChanged\\\", \\\"model\\\": {\\\"id\\\": \\\"1841\\\"}, \\\"new\\\": -172.8597778590027}, {\\\"attr\\\": \\\"reset_start\\\", \\\"kind\\\": \\\"ModelChanged\\\", \\\"model\\\": {\\\"id\\\": \\\"1841\\\"}, \\\"new\\\": -172.8597778590027}, {\\\"attr\\\": \\\"end\\\", \\\"kind\\\": \\\"ModelChanged\\\", \\\"model\\\": {\\\"id\\\": \\\"1841\\\"}, \\\"new\\\": 4804.805434350818}, {\\\"attr\\\": \\\"reset_end\\\", \\\"kind\\\": \\\"ModelChanged\\\", \\\"model\\\": {\\\"id\\\": \\\"1841\\\"}, \\\"new\\\": 4804.805434350818}, {\\\"cols\\\": null, \\\"column_source\\\": {\\\"id\\\": \\\"1879\\\"}, \\\"kind\\\": \\\"ColumnDataChanged\\\", \\\"new\\\": {\\\"sale_price_sqr_foot\\\": {\\\"__ndarray__\\\": \\\"nUKf6h8De0AqM2fRQj5uQH6d/P9XjXNAQqfjLN9Dd0DfE9xHtVeEQIwwtcJNYoRAKzIM9sPlhkA=\\\", \\\"dtype\\\": \\\"float64\\\", \\\"order\\\": \\\"little\\\", \\\"shape\\\": [7]}, \\\"year\\\": [2010, 2011, 2012, 2013, 2014, 2015, 2016]}}, {\\\"cols\\\": null, \\\"column_source\\\": {\\\"id\\\": \\\"1887\\\"}, \\\"kind\\\": \\\"ColumnDataChanged\\\", \\\"new\\\": {\\\"gross_rent\\\": [1239, 1530, 2324, 2971, 3528, 3739, 4390], \\\"year\\\": [2010, 2011, 2012, 2013, 2014, 2015, 2016]}}, {\\\"attr\\\": \\\"text\\\", \\\"kind\\\": \\\"ModelChanged\\\", \\\"model\\\": {\\\"id\\\": \\\"1845\\\"}, \\\"new\\\": \\\"neighborhood: Outer Parkside\\\"}], \\\"references\\\": []}\",\"header\":\"{\\\"msgid\\\": \\\"2155\\\", \\\"msgtype\\\": \\\"PATCH-DOC\\\"}\",\"metadata\":\"{}\"},\"Outer Richmond \":{\"content\":\"{\\\"events\\\": [{\\\"attr\\\": \\\"start\\\", \\\"kind\\\": \\\"ModelChanged\\\", \\\"model\\\": {\\\"id\\\": \\\"1841\\\"}, \\\"new\\\": -140.80084647373974}, {\\\"attr\\\": \\\"reset_start\\\", \\\"kind\\\": \\\"ModelChanged\\\", \\\"model\\\": {\\\"id\\\": \\\"1841\\\"}, \\\"new\\\": -140.80084647373974}, {\\\"attr\\\": \\\"end\\\", \\\"kind\\\": \\\"ModelChanged\\\", \\\"model\\\": {\\\"id\\\": \\\"1841\\\"}, \\\"new\\\": 4801.890986043068}, {\\\"attr\\\": \\\"reset_end\\\", \\\"kind\\\": \\\"ModelChanged\\\", \\\"model\\\": {\\\"id\\\": \\\"1841\\\"}, \\\"new\\\": 4801.890986043068}, {\\\"cols\\\": null, \\\"column_source\\\": {\\\"id\\\": \\\"1879\\\"}, \\\"kind\\\": \\\"ColumnDataChanged\\\", \\\"new\\\": {\\\"sale_price_sqr_foot\\\": {\\\"__ndarray__\\\": \\\"B35J6gQidUBmZTA2cfFwQKF06NAgKnVARYFoaYbGdECvXdvZ9R55QL5PqQ58Z3tAoL9q7ZSykkA=\\\", \\\"dtype\\\": \\\"float64\\\", \\\"order\\\": \\\"little\\\", \\\"shape\\\": [7]}, \\\"year\\\": [2010, 2011, 2012, 2013, 2014, 2015, 2016]}}, {\\\"cols\\\": null, \\\"column_source\\\": {\\\"id\\\": \\\"1887\\\"}, \\\"kind\\\": \\\"ColumnDataChanged\\\", \\\"new\\\": {\\\"gross_rent\\\": [1239, 1530, 2324, 2971, 3528, 3739, 4390], \\\"year\\\": [2010, 2011, 2012, 2013, 2014, 2015, 2016]}}, {\\\"attr\\\": \\\"text\\\", \\\"kind\\\": \\\"ModelChanged\\\", \\\"model\\\": {\\\"id\\\": \\\"1845\\\"}, \\\"new\\\": \\\"neighborhood: Outer Richmond\\\"}], \\\"references\\\": []}\",\"header\":\"{\\\"msgid\\\": \\\"2150\\\", \\\"msgtype\\\": \\\"PATCH-DOC\\\"}\",\"metadata\":\"{}\"},\"Outer Sunset\":{\"content\":\"{\\\"events\\\": [{\\\"attr\\\": \\\"start\\\", \\\"kind\\\": \\\"ModelChanged\\\", \\\"model\\\": {\\\"id\\\": \\\"1841\\\"}, \\\"new\\\": -112.02988636945872}, {\\\"attr\\\": \\\"reset_start\\\", \\\"kind\\\": \\\"ModelChanged\\\", \\\"model\\\": {\\\"id\\\": \\\"1841\\\"}, \\\"new\\\": -112.02988636945872}, {\\\"attr\\\": \\\"end\\\", \\\"kind\\\": \\\"ModelChanged\\\", \\\"model\\\": {\\\"id\\\": \\\"1841\\\"}, \\\"new\\\": 4799.2754442154055}, {\\\"attr\\\": \\\"reset_end\\\", \\\"kind\\\": \\\"ModelChanged\\\", \\\"model\\\": {\\\"id\\\": \\\"1841\\\"}, \\\"new\\\": 4799.2754442154055}, {\\\"cols\\\": null, \\\"column_source\\\": {\\\"id\\\": \\\"1879\\\"}, \\\"kind\\\": \\\"ColumnDataChanged\\\", \\\"new\\\": {\\\"sale_price_sqr_foot\\\": {\\\"__ndarray__\\\": \\\"vsH9HfwEd0DfWRDO7ZNyQGMEtIPw0HlAduAUwFAhdECKxEQ80aV+QFgk0ahQXnZAWykPAzvpf0A=\\\", \\\"dtype\\\": \\\"float64\\\", \\\"order\\\": \\\"little\\\", \\\"shape\\\": [7]}, \\\"year\\\": [2010, 2011, 2012, 2013, 2014, 2015, 2016]}}, {\\\"cols\\\": null, \\\"column_source\\\": {\\\"id\\\": \\\"1887\\\"}, \\\"kind\\\": \\\"ColumnDataChanged\\\", \\\"new\\\": {\\\"gross_rent\\\": [1239, 1530, 2324, 2971, 3528, 3739, 4390], \\\"year\\\": [2010, 2011, 2012, 2013, 2014, 2015, 2016]}}, {\\\"attr\\\": \\\"text\\\", \\\"kind\\\": \\\"ModelChanged\\\", \\\"model\\\": {\\\"id\\\": \\\"1845\\\"}, \\\"new\\\": \\\"neighborhood: Outer Sunset\\\"}], \\\"references\\\": []}\",\"header\":\"{\\\"msgid\\\": \\\"2145\\\", \\\"msgtype\\\": \\\"PATCH-DOC\\\"}\",\"metadata\":\"{}\"},\"Pacific Heights\":{\"content\":\"{\\\"events\\\": [{\\\"attr\\\": \\\"start\\\", \\\"kind\\\": \\\"ModelChanged\\\", \\\"model\\\": {\\\"id\\\": \\\"1841\\\"}, \\\"new\\\": 107.16761556164477}, {\\\"attr\\\": \\\"reset_start\\\", \\\"kind\\\": \\\"ModelChanged\\\", \\\"model\\\": {\\\"id\\\": \\\"1841\\\"}, \\\"new\\\": 107.16761556164477}, {\\\"attr\\\": \\\"end\\\", \\\"kind\\\": \\\"ModelChanged\\\", \\\"model\\\": {\\\"id\\\": \\\"1841\\\"}, \\\"new\\\": 4779.348398585305}, {\\\"attr\\\": \\\"reset_end\\\", \\\"kind\\\": \\\"ModelChanged\\\", \\\"model\\\": {\\\"id\\\": \\\"1841\\\"}, \\\"new\\\": 4779.348398585305}, {\\\"cols\\\": null, \\\"column_source\\\": {\\\"id\\\": \\\"1879\\\"}, \\\"kind\\\": \\\"ColumnDataChanged\\\", \\\"new\\\": {\\\"sale_price_sqr_foot\\\": {\\\"__ndarray__\\\": \\\"xNYMmEEIf0BGT3H7V9B/QLX7Z+e+UYJANTLZX2N+f0DaISsBRcWJQFibs2OAcYxAktikah0jj0A=\\\", \\\"dtype\\\": \\\"float64\\\", \\\"order\\\": \\\"little\\\", \\\"shape\\\": [7]}, \\\"year\\\": [2010, 2011, 2012, 2013, 2014, 2015, 2016]}}, {\\\"cols\\\": null, \\\"column_source\\\": {\\\"id\\\": \\\"1887\\\"}, \\\"kind\\\": \\\"ColumnDataChanged\\\", \\\"new\\\": {\\\"gross_rent\\\": [1239, 1530, 2324, 2971, 3528, 3739, 4390], \\\"year\\\": [2010, 2011, 2012, 2013, 2014, 2015, 2016]}}, {\\\"attr\\\": \\\"text\\\", \\\"kind\\\": \\\"ModelChanged\\\", \\\"model\\\": {\\\"id\\\": \\\"1845\\\"}, \\\"new\\\": \\\"neighborhood: Pacific Heights\\\"}], \\\"references\\\": []}\",\"header\":\"{\\\"msgid\\\": \\\"2140\\\", \\\"msgtype\\\": \\\"PATCH-DOC\\\"}\",\"metadata\":\"{}\"},\"Park North\":{\"content\":\"{\\\"events\\\": [{\\\"attr\\\": \\\"end\\\", \\\"kind\\\": \\\"ModelChanged\\\", \\\"model\\\": {\\\"id\\\": \\\"1840\\\"}, \\\"new\\\": 2016.0}, {\\\"attr\\\": \\\"reset_end\\\", \\\"kind\\\": \\\"ModelChanged\\\", \\\"model\\\": {\\\"id\\\": \\\"1840\\\"}, \\\"new\\\": 2016.0}, {\\\"attr\\\": \\\"start\\\", \\\"kind\\\": \\\"ModelChanged\\\", \\\"model\\\": {\\\"id\\\": \\\"1841\\\"}, \\\"new\\\": -206.56849315392782}, {\\\"attr\\\": \\\"reset_start\\\", \\\"kind\\\": \\\"ModelChanged\\\", \\\"model\\\": {\\\"id\\\": \\\"1841\\\"}, \\\"new\\\": -206.56849315392782}, {\\\"attr\\\": \\\"end\\\", \\\"kind\\\": \\\"ModelChanged\\\", \\\"model\\\": {\\\"id\\\": \\\"1841\\\"}, \\\"new\\\": 4807.869863013993}, {\\\"attr\\\": \\\"reset_end\\\", \\\"kind\\\": \\\"ModelChanged\\\", \\\"model\\\": {\\\"id\\\": \\\"1841\\\"}, \\\"new\\\": 4807.869863013993}, {\\\"cols\\\": null, \\\"column_source\\\": {\\\"id\\\": \\\"1879\\\"}, \\\"kind\\\": \\\"ColumnDataChanged\\\", \\\"new\\\": {\\\"sale_price_sqr_foot\\\": {\\\"__ndarray__\\\": \\\"PTKCP0ZgdECglLmJsBlyQAQj45xBAXJAHcH4twsFgEB6Pk21yT53QIxwU0CURINAbp9n0qRpakA=\\\", \\\"dtype\\\": \\\"float64\\\", \\\"order\\\": \\\"little\\\", \\\"shape\\\": [7]}, \\\"year\\\": [2010, 2011, 2012, 2013, 2014, 2015, 2016]}}, {\\\"cols\\\": null, \\\"column_source\\\": {\\\"id\\\": \\\"1887\\\"}, \\\"kind\\\": \\\"ColumnDataChanged\\\", \\\"new\\\": {\\\"gross_rent\\\": [1239, 1530, 2324, 2971, 3528, 3739, 4390], \\\"year\\\": [2010, 2011, 2012, 2013, 2014, 2015, 2016]}}, {\\\"attr\\\": \\\"text\\\", \\\"kind\\\": \\\"ModelChanged\\\", \\\"model\\\": {\\\"id\\\": \\\"1845\\\"}, \\\"new\\\": \\\"neighborhood: Park North\\\"}], \\\"references\\\": []}\",\"header\":\"{\\\"msgid\\\": \\\"2135\\\", \\\"msgtype\\\": \\\"PATCH-DOC\\\"}\",\"metadata\":\"{}\"},\"Parkside\":{\"content\":\"{\\\"events\\\": [{\\\"attr\\\": \\\"end\\\", \\\"kind\\\": \\\"ModelChanged\\\", \\\"model\\\": {\\\"id\\\": \\\"1840\\\"}, \\\"new\\\": 2015.0}, {\\\"attr\\\": \\\"reset_end\\\", \\\"kind\\\": \\\"ModelChanged\\\", \\\"model\\\": {\\\"id\\\": \\\"1840\\\"}, \\\"new\\\": 2015.0}, {\\\"attr\\\": \\\"start\\\", \\\"kind\\\": \\\"ModelChanged\\\", \\\"model\\\": {\\\"id\\\": \\\"1841\\\"}, \\\"new\\\": -134.5853344701931}, {\\\"attr\\\": \\\"reset_start\\\", \\\"kind\\\": \\\"ModelChanged\\\", \\\"model\\\": {\\\"id\\\": \\\"1841\\\"}, \\\"new\\\": -134.5853344701931}, {\\\"attr\\\": \\\"end\\\", \\\"kind\\\": \\\"ModelChanged\\\", \\\"model\\\": {\\\"id\\\": \\\"1841\\\"}, \\\"new\\\": 4091.144121315472}, {\\\"attr\\\": \\\"reset_end\\\", \\\"kind\\\": \\\"ModelChanged\\\", \\\"model\\\": {\\\"id\\\": \\\"1841\\\"}, \\\"new\\\": 4091.144121315472}, {\\\"cols\\\": null, \\\"column_source\\\": {\\\"id\\\": \\\"1879\\\"}, \\\"kind\\\": \\\"ColumnDataChanged\\\", \\\"new\\\": {\\\"sale_price_sqr_foot\\\": {\\\"__ndarray__\\\": \\\"jNs5+aoicUATPfOU4TFrQAWYW85hpHdAiGIrlP7JdkC/o97y0+N7QAAAAAAAAPh/\\\", \\\"dtype\\\": \\\"float64\\\", \\\"order\\\": \\\"little\\\", \\\"shape\\\": [6]}, \\\"year\\\": [2010, 2011, 2012, 2013, 2014, 2015]}}, {\\\"cols\\\": null, \\\"column_source\\\": {\\\"id\\\": \\\"1887\\\"}, \\\"kind\\\": \\\"ColumnDataChanged\\\", \\\"new\\\": {\\\"gross_rent\\\": [1239, 1530, 2324, 2971, 3528, 3739], \\\"year\\\": [2010, 2011, 2012, 2013, 2014, 2015]}}, {\\\"attr\\\": \\\"text\\\", \\\"kind\\\": \\\"ModelChanged\\\", \\\"model\\\": {\\\"id\\\": \\\"1845\\\"}, \\\"new\\\": \\\"neighborhood: Parkside\\\"}], \\\"references\\\": []}\",\"header\":\"{\\\"msgid\\\": \\\"2130\\\", \\\"msgtype\\\": \\\"PATCH-DOC\\\"}\",\"metadata\":\"{}\"},\"Parnassus/Ashbury Heights\":{\"content\":\"{\\\"events\\\": [{\\\"attr\\\": \\\"end\\\", \\\"kind\\\": \\\"ModelChanged\\\", \\\"model\\\": {\\\"id\\\": \\\"1840\\\"}, \\\"new\\\": 2016.0}, {\\\"attr\\\": \\\"reset_end\\\", \\\"kind\\\": \\\"ModelChanged\\\", \\\"model\\\": {\\\"id\\\": \\\"1840\\\"}, \\\"new\\\": 2016.0}, {\\\"attr\\\": \\\"start\\\", \\\"kind\\\": \\\"ModelChanged\\\", \\\"model\\\": {\\\"id\\\": \\\"1841\\\"}, \\\"new\\\": 29.206480863890363}, {\\\"attr\\\": \\\"reset_start\\\", \\\"kind\\\": \\\"ModelChanged\\\", \\\"model\\\": {\\\"id\\\": \\\"1841\\\"}, \\\"new\\\": 29.206480863890363}, {\\\"attr\\\": \\\"end\\\", \\\"kind\\\": \\\"ModelChanged\\\", \\\"model\\\": {\\\"id\\\": \\\"1841\\\"}, \\\"new\\\": 4786.435774466919}, {\\\"attr\\\": \\\"reset_end\\\", \\\"kind\\\": \\\"ModelChanged\\\", \\\"model\\\": {\\\"id\\\": \\\"1841\\\"}, \\\"new\\\": 4786.435774466919}, {\\\"cols\\\": null, \\\"column_source\\\": {\\\"id\\\": \\\"1879\\\"}, \\\"kind\\\": \\\"ColumnDataChanged\\\", \\\"new\\\": {\\\"sale_price_sqr_foot\\\": {\\\"__ndarray__\\\": \\\"g4gEfxQke0DyEqbo4il9QIwLoVteH4BAIpiGrUaaekD6hZfDPyuIQI7cJCG/6oJAYp+hbP3fkkA=\\\", \\\"dtype\\\": \\\"float64\\\", \\\"order\\\": \\\"little\\\", \\\"shape\\\": [7]}, \\\"year\\\": [2010, 2011, 2012, 2013, 2014, 2015, 2016]}}, {\\\"cols\\\": null, \\\"column_source\\\": {\\\"id\\\": \\\"1887\\\"}, \\\"kind\\\": \\\"ColumnDataChanged\\\", \\\"new\\\": {\\\"gross_rent\\\": [1239, 1530, 2324, 2971, 3528, 3739, 4390], \\\"year\\\": [2010, 2011, 2012, 2013, 2014, 2015, 2016]}}, {\\\"attr\\\": \\\"text\\\", \\\"kind\\\": \\\"ModelChanged\\\", \\\"model\\\": {\\\"id\\\": \\\"1845\\\"}, \\\"new\\\": \\\"neighborhood: Parnassus/Ashbury Heights\\\"}], \\\"references\\\": []}\",\"header\":\"{\\\"msgid\\\": \\\"2125\\\", \\\"msgtype\\\": \\\"PATCH-DOC\\\"}\",\"metadata\":\"{}\"},\"Portola\":{\"content\":\"{\\\"events\\\": [{\\\"attr\\\": \\\"end\\\", \\\"kind\\\": \\\"ModelChanged\\\", \\\"model\\\": {\\\"id\\\": \\\"1840\\\"}, \\\"new\\\": 2014.0}, {\\\"attr\\\": \\\"reset_end\\\", \\\"kind\\\": \\\"ModelChanged\\\", \\\"model\\\": {\\\"id\\\": \\\"1840\\\"}, \\\"new\\\": 2014.0}, {\\\"attr\\\": \\\"start\\\", \\\"kind\\\": \\\"ModelChanged\\\", \\\"model\\\": {\\\"id\\\": \\\"1841\\\"}, \\\"new\\\": -123.81520357677562}, {\\\"attr\\\": \\\"reset_start\\\", \\\"kind\\\": \\\"ModelChanged\\\", \\\"model\\\": {\\\"id\\\": \\\"1841\\\"}, \\\"new\\\": -123.81520357677562}, {\\\"attr\\\": \\\"end\\\", \\\"kind\\\": \\\"ModelChanged\\\", \\\"model\\\": {\\\"id\\\": \\\"1841\\\"}, \\\"new\\\": 3859.9832003251613}, {\\\"attr\\\": \\\"reset_end\\\", \\\"kind\\\": \\\"ModelChanged\\\", \\\"model\\\": {\\\"id\\\": \\\"1841\\\"}, \\\"new\\\": 3859.9832003251613}, {\\\"cols\\\": null, \\\"column_source\\\": {\\\"id\\\": \\\"1879\\\"}, \\\"kind\\\": \\\"ColumnDataChanged\\\", \\\"new\\\": {\\\"sale_price_sqr_foot\\\": {\\\"__ndarray__\\\": \\\"SE2NcH/ickDYhLc6YAVqQMhgbA2x8HVArI0kR+x/bUDI9wE5o9GAQA==\\\", \\\"dtype\\\": \\\"float64\\\", \\\"order\\\": \\\"little\\\", \\\"shape\\\": [5]}, \\\"year\\\": [2010, 2011, 2012, 2013, 2014]}}, {\\\"cols\\\": null, \\\"column_source\\\": {\\\"id\\\": \\\"1887\\\"}, \\\"kind\\\": \\\"ColumnDataChanged\\\", \\\"new\\\": {\\\"gross_rent\\\": [1239, 1530, 2324, 2971, 3528], \\\"year\\\": [2010, 2011, 2012, 2013, 2014]}}, {\\\"attr\\\": \\\"text\\\", \\\"kind\\\": \\\"ModelChanged\\\", \\\"model\\\": {\\\"id\\\": \\\"1845\\\"}, \\\"new\\\": \\\"neighborhood: Portola\\\"}], \\\"references\\\": []}\",\"header\":\"{\\\"msgid\\\": \\\"2120\\\", \\\"msgtype\\\": \\\"PATCH-DOC\\\"}\",\"metadata\":\"{}\"},\"Potrero Hill\":{\"content\":\"{\\\"events\\\": [{\\\"attr\\\": \\\"start\\\", \\\"kind\\\": \\\"ModelChanged\\\", \\\"model\\\": {\\\"id\\\": \\\"1841\\\"}, \\\"new\\\": 74.31262423838893}, {\\\"attr\\\": \\\"reset_start\\\", \\\"kind\\\": \\\"ModelChanged\\\", \\\"model\\\": {\\\"id\\\": \\\"1841\\\"}, \\\"new\\\": 74.31262423838893}, {\\\"attr\\\": \\\"end\\\", \\\"kind\\\": \\\"ModelChanged\\\", \\\"model\\\": {\\\"id\\\": \\\"1841\\\"}, \\\"new\\\": 4782.335215978328}, {\\\"attr\\\": \\\"reset_end\\\", \\\"kind\\\": \\\"ModelChanged\\\", \\\"model\\\": {\\\"id\\\": \\\"1841\\\"}, \\\"new\\\": 4782.335215978328}, {\\\"cols\\\": null, \\\"column_source\\\": {\\\"id\\\": \\\"1879\\\"}, \\\"kind\\\": \\\"ColumnDataChanged\\\", \\\"new\\\": {\\\"sale_price_sqr_foot\\\": {\\\"__ndarray__\\\": \\\"h38+NzO3fkC1zY5QN3J/QFj9s41dKn1AlMC7a6O1gkAa4w1izlSQQF3nsW1oqolAxoQBfzYdhkA=\\\", \\\"dtype\\\": \\\"float64\\\", \\\"order\\\": \\\"little\\\", \\\"shape\\\": [7]}, \\\"year\\\": [2010, 2011, 2012, 2013, 2014, 2015, 2016]}}, {\\\"cols\\\": null, \\\"column_source\\\": {\\\"id\\\": \\\"1887\\\"}, \\\"kind\\\": \\\"ColumnDataChanged\\\", \\\"new\\\": {\\\"gross_rent\\\": [1239, 1530, 2324, 2971, 3528, 3739, 4390], \\\"year\\\": [2010, 2011, 2012, 2013, 2014, 2015, 2016]}}, {\\\"attr\\\": \\\"text\\\", \\\"kind\\\": \\\"ModelChanged\\\", \\\"model\\\": {\\\"id\\\": \\\"1845\\\"}, \\\"new\\\": \\\"neighborhood: Potrero Hill\\\"}], \\\"references\\\": []}\",\"header\":\"{\\\"msgid\\\": \\\"2115\\\", \\\"msgtype\\\": \\\"PATCH-DOC\\\"}\",\"metadata\":\"{}\"},\"Presidio Heights\":{\"content\":\"{\\\"events\\\": [{\\\"attr\\\": \\\"start\\\", \\\"kind\\\": \\\"ModelChanged\\\", \\\"model\\\": {\\\"id\\\": \\\"1841\\\"}, \\\"new\\\": 30.26945127888456}, {\\\"attr\\\": \\\"reset_start\\\", \\\"kind\\\": \\\"ModelChanged\\\", \\\"model\\\": {\\\"id\\\": \\\"1841\\\"}, \\\"new\\\": 30.26945127888456}, {\\\"attr\\\": \\\"end\\\", \\\"kind\\\": \\\"ModelChanged\\\", \\\"model\\\": {\\\"id\\\": \\\"1841\\\"}, \\\"new\\\": 4786.339140792828}, {\\\"attr\\\": \\\"reset_end\\\", \\\"kind\\\": \\\"ModelChanged\\\", \\\"model\\\": {\\\"id\\\": \\\"1841\\\"}, \\\"new\\\": 4786.339140792828}, {\\\"cols\\\": null, \\\"column_source\\\": {\\\"id\\\": \\\"1879\\\"}, \\\"kind\\\": \\\"ColumnDataChanged\\\", \\\"new\\\": {\\\"sale_price_sqr_foot\\\": {\\\"__ndarray__\\\": \\\"1qRW7FcrgUCiXLTmCd1+QNBJCsu8qXpA+gIs1LgGgECnjECkm9uCQAAAAAAAAPh/hyUc1d/nlkA=\\\", \\\"dtype\\\": \\\"float64\\\", \\\"order\\\": \\\"little\\\", \\\"shape\\\": [7]}, \\\"year\\\": [2010, 2011, 2012, 2013, 2014, 2015, 2016]}}, {\\\"cols\\\": null, \\\"column_source\\\": {\\\"id\\\": \\\"1887\\\"}, \\\"kind\\\": \\\"ColumnDataChanged\\\", \\\"new\\\": {\\\"gross_rent\\\": [1239, 1530, 2324, 2971, 3528, 3739, 4390], \\\"year\\\": [2010, 2011, 2012, 2013, 2014, 2015, 2016]}}, {\\\"attr\\\": \\\"text\\\", \\\"kind\\\": \\\"ModelChanged\\\", \\\"model\\\": {\\\"id\\\": \\\"1845\\\"}, \\\"new\\\": \\\"neighborhood: Presidio Heights\\\"}], \\\"references\\\": []}\",\"header\":\"{\\\"msgid\\\": \\\"2110\\\", \\\"msgtype\\\": \\\"PATCH-DOC\\\"}\",\"metadata\":\"{}\"},\"Russian Hill\":{\"content\":\"{\\\"events\\\": [{\\\"attr\\\": \\\"start\\\", \\\"kind\\\": \\\"ModelChanged\\\", \\\"model\\\": {\\\"id\\\": \\\"1840\\\"}, \\\"new\\\": 2010.0}, {\\\"attr\\\": \\\"reset_start\\\", \\\"kind\\\": \\\"ModelChanged\\\", \\\"model\\\": {\\\"id\\\": \\\"1840\\\"}, \\\"new\\\": 2010.0}, {\\\"attr\\\": \\\"end\\\", \\\"kind\\\": \\\"ModelChanged\\\", \\\"model\\\": {\\\"id\\\": \\\"1840\\\"}, \\\"new\\\": 2016.0}, {\\\"attr\\\": \\\"reset_end\\\", \\\"kind\\\": \\\"ModelChanged\\\", \\\"model\\\": {\\\"id\\\": \\\"1840\\\"}, \\\"new\\\": 2016.0}, {\\\"attr\\\": \\\"start\\\", \\\"kind\\\": \\\"ModelChanged\\\", \\\"model\\\": {\\\"id\\\": \\\"1841\\\"}, \\\"new\\\": -40.416953695566576}, {\\\"attr\\\": \\\"reset_start\\\", \\\"kind\\\": \\\"ModelChanged\\\", \\\"model\\\": {\\\"id\\\": \\\"1841\\\"}, \\\"new\\\": -40.416953695566576}, {\\\"attr\\\": \\\"end\\\", \\\"kind\\\": \\\"ModelChanged\\\", \\\"model\\\": {\\\"id\\\": \\\"1841\\\"}, \\\"new\\\": 4792.765177608688}, {\\\"attr\\\": \\\"reset_end\\\", \\\"kind\\\": \\\"ModelChanged\\\", \\\"model\\\": {\\\"id\\\": \\\"1841\\\"}, \\\"new\\\": 4792.765177608688}, {\\\"cols\\\": null, \\\"column_source\\\": {\\\"id\\\": \\\"1879\\\"}, \\\"kind\\\": \\\"ColumnDataChanged\\\", \\\"new\\\": {\\\"sale_price_sqr_foot\\\": {\\\"__ndarray__\\\": \\\"qeg8U5KldkCz55glHwV8QBozkYia4nlAYr9O7qOjf0BeOprOxlGGQE8CCI8YyohA+YfACFwBkEA=\\\", \\\"dtype\\\": \\\"float64\\\", \\\"order\\\": \\\"little\\\", \\\"shape\\\": [7]}, \\\"year\\\": [2010, 2011, 2012, 2013, 2014, 2015, 2016]}}, {\\\"cols\\\": null, \\\"column_source\\\": {\\\"id\\\": \\\"1887\\\"}, \\\"kind\\\": \\\"ColumnDataChanged\\\", \\\"new\\\": {\\\"gross_rent\\\": [1239, 1530, 2324, 2971, 3528, 3739, 4390], \\\"year\\\": [2010, 2011, 2012, 2013, 2014, 2015, 2016]}}, {\\\"attr\\\": \\\"text\\\", \\\"kind\\\": \\\"ModelChanged\\\", \\\"model\\\": {\\\"id\\\": \\\"1845\\\"}, \\\"new\\\": \\\"neighborhood: Russian Hill\\\"}], \\\"references\\\": []}\",\"header\":\"{\\\"msgid\\\": \\\"2105\\\", \\\"msgtype\\\": \\\"PATCH-DOC\\\"}\",\"metadata\":\"{}\"},\"Silver Terrace\":{\"content\":\"{\\\"events\\\": [{\\\"attr\\\": \\\"start\\\", \\\"kind\\\": \\\"ModelChanged\\\", \\\"model\\\": {\\\"id\\\": \\\"1840\\\"}, \\\"new\\\": 2013.0}, {\\\"attr\\\": \\\"reset_start\\\", \\\"kind\\\": \\\"ModelChanged\\\", \\\"model\\\": {\\\"id\\\": \\\"1840\\\"}, \\\"new\\\": 2013.0}, {\\\"attr\\\": \\\"end\\\", \\\"kind\\\": \\\"ModelChanged\\\", \\\"model\\\": {\\\"id\\\": \\\"1840\\\"}, \\\"new\\\": 2015.0}, {\\\"attr\\\": \\\"reset_end\\\", \\\"kind\\\": \\\"ModelChanged\\\", \\\"model\\\": {\\\"id\\\": \\\"1840\\\"}, \\\"new\\\": 2015.0}, {\\\"attr\\\": \\\"start\\\", \\\"kind\\\": \\\"ModelChanged\\\", \\\"model\\\": {\\\"id\\\": \\\"1841\\\"}, \\\"new\\\": -165.47819663327246}, {\\\"attr\\\": \\\"reset_start\\\", \\\"kind\\\": \\\"ModelChanged\\\", \\\"model\\\": {\\\"id\\\": \\\"1841\\\"}, \\\"new\\\": -165.47819663327246}, {\\\"attr\\\": \\\"end\\\", \\\"kind\\\": \\\"ModelChanged\\\", \\\"model\\\": {\\\"id\\\": \\\"1841\\\"}, \\\"new\\\": 3863.7707451484794}, {\\\"attr\\\": \\\"reset_end\\\", \\\"kind\\\": \\\"ModelChanged\\\", \\\"model\\\": {\\\"id\\\": \\\"1841\\\"}, \\\"new\\\": 3863.7707451484794}, {\\\"cols\\\": null, \\\"column_source\\\": {\\\"id\\\": \\\"1879\\\"}, \\\"kind\\\": \\\"ColumnDataChanged\\\", \\\"new\\\": {\\\"sale_price_sqr_foot\\\": {\\\"__ndarray__\\\": \\\"0ym0jlxJZUA=\\\", \\\"dtype\\\": \\\"float64\\\", \\\"order\\\": \\\"little\\\", \\\"shape\\\": [1]}, \\\"year\\\": [2014]}}, {\\\"cols\\\": null, \\\"column_source\\\": {\\\"id\\\": \\\"1887\\\"}, \\\"kind\\\": \\\"ColumnDataChanged\\\", \\\"new\\\": {\\\"gross_rent\\\": [3528], \\\"year\\\": [2014]}}, {\\\"attr\\\": \\\"text\\\", \\\"kind\\\": \\\"ModelChanged\\\", \\\"model\\\": {\\\"id\\\": \\\"1845\\\"}, \\\"new\\\": \\\"neighborhood: Silver Terrace\\\"}], \\\"references\\\": []}\",\"header\":\"{\\\"msgid\\\": \\\"2100\\\", \\\"msgtype\\\": \\\"PATCH-DOC\\\"}\",\"metadata\":\"{}\"},\"South Beach\":{\"content\":\"{\\\"events\\\": [{\\\"attr\\\": \\\"end\\\", \\\"kind\\\": \\\"ModelChanged\\\", \\\"model\\\": {\\\"id\\\": \\\"1840\\\"}, \\\"new\\\": 2014.0}, {\\\"attr\\\": \\\"reset_end\\\", \\\"kind\\\": \\\"ModelChanged\\\", \\\"model\\\": {\\\"id\\\": \\\"1840\\\"}, \\\"new\\\": 2014.0}, {\\\"attr\\\": \\\"start\\\", \\\"kind\\\": \\\"ModelChanged\\\", \\\"model\\\": {\\\"id\\\": \\\"1841\\\"}, \\\"new\\\": 74.70877045969235}, {\\\"attr\\\": \\\"reset_start\\\", \\\"kind\\\": \\\"ModelChanged\\\", \\\"model\\\": {\\\"id\\\": \\\"1841\\\"}, \\\"new\\\": 74.70877045969235}, {\\\"attr\\\": \\\"end\\\", \\\"kind\\\": \\\"ModelChanged\\\", \\\"model\\\": {\\\"id\\\": \\\"1841\\\"}, \\\"new\\\": 3841.935566321846}, {\\\"attr\\\": \\\"reset_end\\\", \\\"kind\\\": \\\"ModelChanged\\\", \\\"model\\\": {\\\"id\\\": \\\"1841\\\"}, \\\"new\\\": 3841.935566321846}, {\\\"cols\\\": null, \\\"column_source\\\": {\\\"id\\\": \\\"1879\\\"}, \\\"kind\\\": \\\"ColumnDataChanged\\\", \\\"new\\\": {\\\"sale_price_sqr_foot\\\": {\\\"__ndarray__\\\": \\\"l7v/LmY0kEAWxRU0T0p4QKOvzdQIZYBA\\\", \\\"dtype\\\": \\\"float64\\\", \\\"order\\\": \\\"little\\\", \\\"shape\\\": [3]}, \\\"year\\\": [2010, 2011, 2014]}}, {\\\"cols\\\": null, \\\"column_source\\\": {\\\"id\\\": \\\"1887\\\"}, \\\"kind\\\": \\\"ColumnDataChanged\\\", \\\"new\\\": {\\\"gross_rent\\\": [1239, 1530, 3528], \\\"year\\\": [2010, 2011, 2014]}}, {\\\"attr\\\": \\\"text\\\", \\\"kind\\\": \\\"ModelChanged\\\", \\\"model\\\": {\\\"id\\\": \\\"1845\\\"}, \\\"new\\\": \\\"neighborhood: South Beach\\\"}], \\\"references\\\": []}\",\"header\":\"{\\\"msgid\\\": \\\"2095\\\", \\\"msgtype\\\": \\\"PATCH-DOC\\\"}\",\"metadata\":\"{}\"},\"South of Market\":{\"content\":\"{\\\"events\\\": [{\\\"attr\\\": \\\"start\\\", \\\"kind\\\": \\\"ModelChanged\\\", \\\"model\\\": {\\\"id\\\": \\\"1841\\\"}, \\\"new\\\": -67.29445189198492}, {\\\"attr\\\": \\\"reset_start\\\", \\\"kind\\\": \\\"ModelChanged\\\", \\\"model\\\": {\\\"id\\\": \\\"1841\\\"}, \\\"new\\\": -67.29445189198492}, {\\\"attr\\\": \\\"end\\\", \\\"kind\\\": \\\"ModelChanged\\\", \\\"model\\\": {\\\"id\\\": \\\"1841\\\"}, \\\"new\\\": 4795.208586535635}, {\\\"attr\\\": \\\"reset_end\\\", \\\"kind\\\": \\\"ModelChanged\\\", \\\"model\\\": {\\\"id\\\": \\\"1841\\\"}, \\\"new\\\": 4795.208586535635}, {\\\"cols\\\": null, \\\"column_source\\\": {\\\"id\\\": \\\"1879\\\"}, \\\"kind\\\": \\\"ColumnDataChanged\\\", \\\"new\\\": {\\\"sale_price_sqr_foot\\\": {\\\"__ndarray__\\\": \\\"NvbXUbwUeUDj6aVLoB51QFu0jVj1/HxAwhgJqydNekC8oacCW3+RQCGjXgupaIZAeO0bSxeZgEA=\\\", \\\"dtype\\\": \\\"float64\\\", \\\"order\\\": \\\"little\\\", \\\"shape\\\": [7]}, \\\"year\\\": [2010, 2011, 2012, 2013, 2014, 2015, 2016]}}, {\\\"cols\\\": null, \\\"column_source\\\": {\\\"id\\\": \\\"1887\\\"}, \\\"kind\\\": \\\"ColumnDataChanged\\\", \\\"new\\\": {\\\"gross_rent\\\": [1239, 1530, 2324, 2971, 3528, 3739, 4390], \\\"year\\\": [2010, 2011, 2012, 2013, 2014, 2015, 2016]}}, {\\\"attr\\\": \\\"text\\\", \\\"kind\\\": \\\"ModelChanged\\\", \\\"model\\\": {\\\"id\\\": \\\"1845\\\"}, \\\"new\\\": \\\"neighborhood: South of Market\\\"}], \\\"references\\\": []}\",\"header\":\"{\\\"msgid\\\": \\\"2090\\\", \\\"msgtype\\\": \\\"PATCH-DOC\\\"}\",\"metadata\":\"{}\"},\"Sunnyside\":{\"content\":\"{\\\"events\\\": [{\\\"attr\\\": \\\"start\\\", \\\"kind\\\": \\\"ModelChanged\\\", \\\"model\\\": {\\\"id\\\": \\\"1841\\\"}, \\\"new\\\": 41.88072944117425}, {\\\"attr\\\": \\\"reset_start\\\", \\\"kind\\\": \\\"ModelChanged\\\", \\\"model\\\": {\\\"id\\\": \\\"1841\\\"}, \\\"new\\\": 41.88072944117425}, {\\\"attr\\\": \\\"end\\\", \\\"kind\\\": \\\"ModelChanged\\\", \\\"model\\\": {\\\"id\\\": \\\"1841\\\"}, \\\"new\\\": 4785.283570050802}, {\\\"attr\\\": \\\"reset_end\\\", \\\"kind\\\": \\\"ModelChanged\\\", \\\"model\\\": {\\\"id\\\": \\\"1841\\\"}, \\\"new\\\": 4785.283570050802}, {\\\"cols\\\": null, \\\"column_source\\\": {\\\"id\\\": \\\"1879\\\"}, \\\"kind\\\": \\\"ColumnDataChanged\\\", \\\"new\\\": {\\\"sale_price_sqr_foot\\\": {\\\"__ndarray__\\\": \\\"f6R84kD0gECgDIH4oFJ7QPXbPGNbnX9AnvFbKErXfkARQeSF/3t7QNaZgMFjeYdA\\\", \\\"dtype\\\": \\\"float64\\\", \\\"order\\\": \\\"little\\\", \\\"shape\\\": [6]}, \\\"year\\\": [2010, 2011, 2013, 2014, 2015, 2016]}}, {\\\"cols\\\": null, \\\"column_source\\\": {\\\"id\\\": \\\"1887\\\"}, \\\"kind\\\": \\\"ColumnDataChanged\\\", \\\"new\\\": {\\\"gross_rent\\\": [1239, 1530, 2971, 3528, 3739, 4390], \\\"year\\\": [2010, 2011, 2013, 2014, 2015, 2016]}}, {\\\"attr\\\": \\\"text\\\", \\\"kind\\\": \\\"ModelChanged\\\", \\\"model\\\": {\\\"id\\\": \\\"1845\\\"}, \\\"new\\\": \\\"neighborhood: Sunnyside\\\"}], \\\"references\\\": []}\",\"header\":\"{\\\"msgid\\\": \\\"2085\\\", \\\"msgtype\\\": \\\"PATCH-DOC\\\"}\",\"metadata\":\"{}\"},\"Telegraph Hill\":{\"content\":\"{\\\"events\\\": [{\\\"attr\\\": \\\"start\\\", \\\"kind\\\": \\\"ModelChanged\\\", \\\"model\\\": {\\\"id\\\": \\\"1841\\\"}, \\\"new\\\": 73.38233379495108}, {\\\"attr\\\": \\\"reset_start\\\", \\\"kind\\\": \\\"ModelChanged\\\", \\\"model\\\": {\\\"id\\\": \\\"1841\\\"}, \\\"new\\\": 73.38233379495108}, {\\\"attr\\\": \\\"end\\\", \\\"kind\\\": \\\"ModelChanged\\\", \\\"model\\\": {\\\"id\\\": \\\"1841\\\"}, \\\"new\\\": 4782.419787836822}, {\\\"attr\\\": \\\"reset_end\\\", \\\"kind\\\": \\\"ModelChanged\\\", \\\"model\\\": {\\\"id\\\": \\\"1841\\\"}, \\\"new\\\": 4782.419787836822}, {\\\"cols\\\": null, \\\"column_source\\\": {\\\"id\\\": \\\"1879\\\"}, \\\"kind\\\": \\\"ColumnDataChanged\\\", \\\"new\\\": {\\\"sale_price_sqr_foot\\\": {\\\"__ndarray__\\\": \\\"COpLG1lmgEAS2VILfjZ+QB7+fX3VHH1AM0HkMH5qhECxLjJUiyGGQPfUt/jrJ49AqrAg7mU4jEA=\\\", \\\"dtype\\\": \\\"float64\\\", \\\"order\\\": \\\"little\\\", \\\"shape\\\": [7]}, \\\"year\\\": [2010, 2011, 2012, 2013, 2014, 2015, 2016]}}, {\\\"cols\\\": null, \\\"column_source\\\": {\\\"id\\\": \\\"1887\\\"}, \\\"kind\\\": \\\"ColumnDataChanged\\\", \\\"new\\\": {\\\"gross_rent\\\": [1239, 1530, 2324, 2971, 3528, 3739, 4390], \\\"year\\\": [2010, 2011, 2012, 2013, 2014, 2015, 2016]}}, {\\\"attr\\\": \\\"text\\\", \\\"kind\\\": \\\"ModelChanged\\\", \\\"model\\\": {\\\"id\\\": \\\"1845\\\"}, \\\"new\\\": \\\"neighborhood: Telegraph Hill\\\"}], \\\"references\\\": []}\",\"header\":\"{\\\"msgid\\\": \\\"2080\\\", \\\"msgtype\\\": \\\"PATCH-DOC\\\"}\",\"metadata\":\"{}\"},\"Twin Peaks\":{\"content\":\"{\\\"events\\\": [{\\\"attr\\\": \\\"end\\\", \\\"kind\\\": \\\"ModelChanged\\\", \\\"model\\\": {\\\"id\\\": \\\"1840\\\"}, \\\"new\\\": 2016.0}, {\\\"attr\\\": \\\"reset_end\\\", \\\"kind\\\": \\\"ModelChanged\\\", \\\"model\\\": {\\\"id\\\": \\\"1840\\\"}, \\\"new\\\": 2016.0}, {\\\"attr\\\": \\\"start\\\", \\\"kind\\\": \\\"ModelChanged\\\", \\\"model\\\": {\\\"id\\\": \\\"1841\\\"}, \\\"new\\\": -125.97633693050193}, {\\\"attr\\\": \\\"reset_start\\\", \\\"kind\\\": \\\"ModelChanged\\\", \\\"model\\\": {\\\"id\\\": \\\"1841\\\"}, \\\"new\\\": -125.97633693050193}, {\\\"attr\\\": \\\"end\\\", \\\"kind\\\": \\\"ModelChanged\\\", \\\"model\\\": {\\\"id\\\": \\\"1841\\\"}, \\\"new\\\": 4800.543303357318}, {\\\"attr\\\": \\\"reset_end\\\", \\\"kind\\\": \\\"ModelChanged\\\", \\\"model\\\": {\\\"id\\\": \\\"1841\\\"}, \\\"new\\\": 4800.543303357318}, {\\\"cols\\\": null, \\\"column_source\\\": {\\\"id\\\": \\\"1879\\\"}, \\\"kind\\\": \\\"ColumnDataChanged\\\", \\\"new\\\": {\\\"sale_price_sqr_foot\\\": {\\\"__ndarray__\\\": \\\"WOE2XOW4dEC1UWNLEslxQAmC4vRkDnNA+JW2mPjmeUDKE/I0SpeBQBwTSrZdFXpACq/wCq9QjkA=\\\", \\\"dtype\\\": \\\"float64\\\", \\\"order\\\": \\\"little\\\", \\\"shape\\\": [7]}, \\\"year\\\": [2010, 2011, 2012, 2013, 2014, 2015, 2016]}}, {\\\"cols\\\": null, \\\"column_source\\\": {\\\"id\\\": \\\"1887\\\"}, \\\"kind\\\": \\\"ColumnDataChanged\\\", \\\"new\\\": {\\\"gross_rent\\\": [1239, 1530, 2324, 2971, 3528, 3739, 4390], \\\"year\\\": [2010, 2011, 2012, 2013, 2014, 2015, 2016]}}, {\\\"attr\\\": \\\"text\\\", \\\"kind\\\": \\\"ModelChanged\\\", \\\"model\\\": {\\\"id\\\": \\\"1845\\\"}, \\\"new\\\": \\\"neighborhood: Twin Peaks\\\"}], \\\"references\\\": []}\",\"header\":\"{\\\"msgid\\\": \\\"2075\\\", \\\"msgtype\\\": \\\"PATCH-DOC\\\"}\",\"metadata\":\"{}\"},\"Union Square District\":{\"content\":\"{\\\"events\\\": [{\\\"attr\\\": \\\"end\\\", \\\"kind\\\": \\\"ModelChanged\\\", \\\"model\\\": {\\\"id\\\": \\\"1840\\\"}, \\\"new\\\": 2015.0}, {\\\"attr\\\": \\\"reset_end\\\", \\\"kind\\\": \\\"ModelChanged\\\", \\\"model\\\": {\\\"id\\\": \\\"1840\\\"}, \\\"new\\\": 2015.0}, {\\\"attr\\\": \\\"start\\\", \\\"kind\\\": \\\"ModelChanged\\\", \\\"model\\\": {\\\"id\\\": \\\"1841\\\"}, \\\"new\\\": -41.56442190933956}, {\\\"attr\\\": \\\"reset_start\\\", \\\"kind\\\": \\\"ModelChanged\\\", \\\"model\\\": {\\\"id\\\": \\\"1841\\\"}, \\\"new\\\": -41.56442190933956}, {\\\"attr\\\": \\\"end\\\", \\\"kind\\\": \\\"ModelChanged\\\", \\\"model\\\": {\\\"id\\\": \\\"1841\\\"}, \\\"new\\\": 4082.687674719031}, {\\\"attr\\\": \\\"reset_end\\\", \\\"kind\\\": \\\"ModelChanged\\\", \\\"model\\\": {\\\"id\\\": \\\"1841\\\"}, \\\"new\\\": 4082.687674719031}, {\\\"cols\\\": null, \\\"column_source\\\": {\\\"id\\\": \\\"1879\\\"}, \\\"kind\\\": \\\"ColumnDataChanged\\\", \\\"new\\\": {\\\"sale_price_sqr_foot\\\": {\\\"__ndarray__\\\": \\\"4Ic3LozJgUA7LPDX+OFyQDQwzQom03tAML7sb+MplEBCsqZAK3KBQAl/mNlnpaFA\\\", \\\"dtype\\\": \\\"float64\\\", \\\"order\\\": \\\"little\\\", \\\"shape\\\": [6]}, \\\"year\\\": [2010, 2011, 2012, 2013, 2014, 2015]}}, {\\\"cols\\\": null, \\\"column_source\\\": {\\\"id\\\": \\\"1887\\\"}, \\\"kind\\\": \\\"ColumnDataChanged\\\", \\\"new\\\": {\\\"gross_rent\\\": [1239, 1530, 2324, 2971, 3528, 3739], \\\"year\\\": [2010, 2011, 2012, 2013, 2014, 2015]}}, {\\\"attr\\\": \\\"text\\\", \\\"kind\\\": \\\"ModelChanged\\\", \\\"model\\\": {\\\"id\\\": \\\"1845\\\"}, \\\"new\\\": \\\"neighborhood: Union Square District\\\"}], \\\"references\\\": []}\",\"header\":\"{\\\"msgid\\\": \\\"2070\\\", \\\"msgtype\\\": \\\"PATCH-DOC\\\"}\",\"metadata\":\"{}\"},\"Van Ness/ Civic Center\":{\"content\":\"{\\\"events\\\": [{\\\"attr\\\": \\\"start\\\", \\\"kind\\\": \\\"ModelChanged\\\", \\\"model\\\": {\\\"id\\\": \\\"1840\\\"}, \\\"new\\\": 2010.0}, {\\\"attr\\\": \\\"reset_start\\\", \\\"kind\\\": \\\"ModelChanged\\\", \\\"model\\\": {\\\"id\\\": \\\"1840\\\"}, \\\"new\\\": 2010.0}, {\\\"attr\\\": \\\"start\\\", \\\"kind\\\": \\\"ModelChanged\\\", \\\"model\\\": {\\\"id\\\": \\\"1841\\\"}, \\\"new\\\": -320.1857804358447}, {\\\"attr\\\": \\\"reset_start\\\", \\\"kind\\\": \\\"ModelChanged\\\", \\\"model\\\": {\\\"id\\\": \\\"1841\\\"}, \\\"new\\\": -320.1857804358447}, {\\\"attr\\\": \\\"end\\\", \\\"kind\\\": \\\"ModelChanged\\\", \\\"model\\\": {\\\"id\\\": \\\"1841\\\"}, \\\"new\\\": 4818.198707312349}, {\\\"attr\\\": \\\"reset_end\\\", \\\"kind\\\": \\\"ModelChanged\\\", \\\"model\\\": {\\\"id\\\": \\\"1841\\\"}, \\\"new\\\": 4818.198707312349}, {\\\"cols\\\": null, \\\"column_source\\\": {\\\"id\\\": \\\"1879\\\"}, \\\"kind\\\": \\\"ColumnDataChanged\\\", \\\"new\\\": {\\\"sale_price_sqr_foot\\\": {\\\"__ndarray__\\\": \\\"9/Q/y9MAW0C4de7wyQN4QCWBKCJUn3VAuVvU7ybQcUD2TkF+SrZ9QPqD47K0LoVAmVO3DtJEgUA=\\\", \\\"dtype\\\": \\\"float64\\\", \\\"order\\\": \\\"little\\\", \\\"shape\\\": [7]}, \\\"year\\\": [2010, 2011, 2012, 2013, 2014, 2015, 2016]}}, {\\\"cols\\\": null, \\\"column_source\\\": {\\\"id\\\": \\\"1887\\\"}, \\\"kind\\\": \\\"ColumnDataChanged\\\", \\\"new\\\": {\\\"gross_rent\\\": [1239, 1530, 2324, 2971, 3528, 3739, 4390], \\\"year\\\": [2010, 2011, 2012, 2013, 2014, 2015, 2016]}}, {\\\"attr\\\": \\\"text\\\", \\\"kind\\\": \\\"ModelChanged\\\", \\\"model\\\": {\\\"id\\\": \\\"1845\\\"}, \\\"new\\\": \\\"neighborhood: Van Ness/ Civic Center\\\"}], \\\"references\\\": []}\",\"header\":\"{\\\"msgid\\\": \\\"2065\\\", \\\"msgtype\\\": \\\"PATCH-DOC\\\"}\",\"metadata\":\"{}\"},\"Visitacion Valley\":{\"content\":\"{\\\"events\\\": [{\\\"attr\\\": \\\"start\\\", \\\"kind\\\": \\\"ModelChanged\\\", \\\"model\\\": {\\\"id\\\": \\\"1840\\\"}, \\\"new\\\": 2013.0}, {\\\"attr\\\": \\\"reset_start\\\", \\\"kind\\\": \\\"ModelChanged\\\", \\\"model\\\": {\\\"id\\\": \\\"1840\\\"}, \\\"new\\\": 2013.0}, {\\\"attr\\\": \\\"end\\\", \\\"kind\\\": \\\"ModelChanged\\\", \\\"model\\\": {\\\"id\\\": \\\"1840\\\"}, \\\"new\\\": 2016.0}, {\\\"attr\\\": \\\"reset_end\\\", \\\"kind\\\": \\\"ModelChanged\\\", \\\"model\\\": {\\\"id\\\": \\\"1840\\\"}, \\\"new\\\": 2016.0}, {\\\"attr\\\": \\\"start\\\", \\\"kind\\\": \\\"ModelChanged\\\", \\\"model\\\": {\\\"id\\\": \\\"1841\\\"}, \\\"new\\\": -128.7719848698186}, {\\\"attr\\\": \\\"reset_start\\\", \\\"kind\\\": \\\"ModelChanged\\\", \\\"model\\\": {\\\"id\\\": \\\"1841\\\"}, \\\"new\\\": -128.7719848698186}, {\\\"attr\\\": \\\"end\\\", \\\"kind\\\": \\\"ModelChanged\\\", \\\"model\\\": {\\\"id\\\": \\\"1841\\\"}, \\\"new\\\": 4800.797453169984}, {\\\"attr\\\": \\\"reset_end\\\", \\\"kind\\\": \\\"ModelChanged\\\", \\\"model\\\": {\\\"id\\\": \\\"1841\\\"}, \\\"new\\\": 4800.797453169984}, {\\\"cols\\\": null, \\\"column_source\\\": {\\\"id\\\": \\\"1879\\\"}, \\\"kind\\\": \\\"ColumnDataChanged\\\", \\\"new\\\": {\\\"sale_price_sqr_foot\\\": {\\\"__ndarray__\\\": \\\"bh3vIcZUckCxxHJRaKBxQA8XZcqM43JAUinBphqFdEA=\\\", \\\"dtype\\\": \\\"float64\\\", \\\"order\\\": \\\"little\\\", \\\"shape\\\": [4]}, \\\"year\\\": [2013, 2014, 2015, 2016]}}, {\\\"cols\\\": null, \\\"column_source\\\": {\\\"id\\\": \\\"1887\\\"}, \\\"kind\\\": \\\"ColumnDataChanged\\\", \\\"new\\\": {\\\"gross_rent\\\": [2971, 3528, 3739, 4390], \\\"year\\\": [2013, 2014, 2015, 2016]}}, {\\\"attr\\\": \\\"text\\\", \\\"kind\\\": \\\"ModelChanged\\\", \\\"model\\\": {\\\"id\\\": \\\"1845\\\"}, \\\"new\\\": \\\"neighborhood: Visitacion Valley\\\"}], \\\"references\\\": []}\",\"header\":\"{\\\"msgid\\\": \\\"2060\\\", \\\"msgtype\\\": \\\"PATCH-DOC\\\"}\",\"metadata\":\"{}\"},\"West Portal\":{\"content\":\"{\\\"events\\\": [{\\\"attr\\\": \\\"end\\\", \\\"kind\\\": \\\"ModelChanged\\\", \\\"model\\\": {\\\"id\\\": \\\"1840\\\"}, \\\"new\\\": 2014.0}, {\\\"attr\\\": \\\"reset_end\\\", \\\"kind\\\": \\\"ModelChanged\\\", \\\"model\\\": {\\\"id\\\": \\\"1840\\\"}, \\\"new\\\": 2014.0}, {\\\"attr\\\": \\\"start\\\", \\\"kind\\\": \\\"ModelChanged\\\", \\\"model\\\": {\\\"id\\\": \\\"1841\\\"}, \\\"new\\\": 5.574956570770837}, {\\\"attr\\\": \\\"reset_start\\\", \\\"kind\\\": \\\"ModelChanged\\\", \\\"model\\\": {\\\"id\\\": \\\"1841\\\"}, \\\"new\\\": 5.574956570770837}, {\\\"attr\\\": \\\"end\\\", \\\"kind\\\": \\\"ModelChanged\\\", \\\"model\\\": {\\\"id\\\": \\\"1841\\\"}, \\\"new\\\": 3848.220458493566}, {\\\"attr\\\": \\\"reset_end\\\", \\\"kind\\\": \\\"ModelChanged\\\", \\\"model\\\": {\\\"id\\\": \\\"1841\\\"}, \\\"new\\\": 3848.220458493566}, {\\\"cols\\\": null, \\\"column_source\\\": {\\\"id\\\": \\\"1879\\\"}, \\\"kind\\\": \\\"ColumnDataChanged\\\", \\\"new\\\": {\\\"sale_price_sqr_foot\\\": {\\\"__ndarray__\\\": \\\"X0cX7s+EeEAugSUFulx0QOs5Di+ZYIJAY0tDgkN+hUA=\\\", \\\"dtype\\\": \\\"float64\\\", \\\"order\\\": \\\"little\\\", \\\"shape\\\": [4]}, \\\"year\\\": [2010, 2012, 2013, 2014]}}, {\\\"cols\\\": null, \\\"column_source\\\": {\\\"id\\\": \\\"1887\\\"}, \\\"kind\\\": \\\"ColumnDataChanged\\\", \\\"new\\\": {\\\"gross_rent\\\": [1239, 2324, 2971, 3528], \\\"year\\\": [2010, 2012, 2013, 2014]}}, {\\\"attr\\\": \\\"text\\\", \\\"kind\\\": \\\"ModelChanged\\\", \\\"model\\\": {\\\"id\\\": \\\"1845\\\"}, \\\"new\\\": \\\"neighborhood: West Portal\\\"}], \\\"references\\\": []}\",\"header\":\"{\\\"msgid\\\": \\\"2055\\\", \\\"msgtype\\\": \\\"PATCH-DOC\\\"}\",\"metadata\":\"{}\"},\"Western Addition\":{\"content\":\"{\\\"events\\\": [{\\\"attr\\\": \\\"start\\\", \\\"kind\\\": \\\"ModelChanged\\\", \\\"model\\\": {\\\"id\\\": \\\"1840\\\"}, \\\"new\\\": 2010.0}, {\\\"attr\\\": \\\"reset_start\\\", \\\"kind\\\": \\\"ModelChanged\\\", \\\"model\\\": {\\\"id\\\": \\\"1840\\\"}, \\\"new\\\": 2010.0}, {\\\"attr\\\": \\\"end\\\", \\\"kind\\\": \\\"ModelChanged\\\", \\\"model\\\": {\\\"id\\\": \\\"1840\\\"}, \\\"new\\\": 2015.0}, {\\\"attr\\\": \\\"reset_end\\\", \\\"kind\\\": \\\"ModelChanged\\\", \\\"model\\\": {\\\"id\\\": \\\"1840\\\"}, \\\"new\\\": 2015.0}, {\\\"attr\\\": \\\"start\\\", \\\"kind\\\": \\\"ModelChanged\\\", \\\"model\\\": {\\\"id\\\": \\\"1841\\\"}, \\\"new\\\": -136.77395225363693}, {\\\"attr\\\": \\\"reset_start\\\", \\\"kind\\\": \\\"ModelChanged\\\", \\\"model\\\": {\\\"id\\\": \\\"1841\\\"}, \\\"new\\\": -136.77395225363693}, {\\\"attr\\\": \\\"end\\\", \\\"kind\\\": \\\"ModelChanged\\\", \\\"model\\\": {\\\"id\\\": \\\"1841\\\"}, \\\"new\\\": 4091.3430865685123}, {\\\"attr\\\": \\\"reset_end\\\", \\\"kind\\\": \\\"ModelChanged\\\", \\\"model\\\": {\\\"id\\\": \\\"1841\\\"}, \\\"new\\\": 4091.3430865685123}, {\\\"cols\\\": null, \\\"column_source\\\": {\\\"id\\\": \\\"1879\\\"}, \\\"kind\\\": \\\"ColumnDataChanged\\\", \\\"new\\\": {\\\"sale_price_sqr_foot\\\": {\\\"__ndarray__\\\": \\\"gK0qWTbyakDIEo9KaG1sQCp/FVVqJXFAdZUip9kia0B6M+4l0Nd6QK+mSAaCF35A\\\", \\\"dtype\\\": \\\"float64\\\", \\\"order\\\": \\\"little\\\", \\\"shape\\\": [6]}, \\\"year\\\": [2010, 2011, 2012, 2013, 2014, 2015]}}, {\\\"cols\\\": null, \\\"column_source\\\": {\\\"id\\\": \\\"1887\\\"}, \\\"kind\\\": \\\"ColumnDataChanged\\\", \\\"new\\\": {\\\"gross_rent\\\": [1239, 1530, 2324, 2971, 3528, 3739], \\\"year\\\": [2010, 2011, 2012, 2013, 2014, 2015]}}, {\\\"attr\\\": \\\"text\\\", \\\"kind\\\": \\\"ModelChanged\\\", \\\"model\\\": {\\\"id\\\": \\\"1845\\\"}, \\\"new\\\": \\\"neighborhood: Western Addition\\\"}], \\\"references\\\": []}\",\"header\":\"{\\\"msgid\\\": \\\"2050\\\", \\\"msgtype\\\": \\\"PATCH-DOC\\\"}\",\"metadata\":\"{}\"},\"Westwood Highlands\":{\"content\":\"{\\\"events\\\": [{\\\"attr\\\": \\\"start\\\", \\\"kind\\\": \\\"ModelChanged\\\", \\\"model\\\": {\\\"id\\\": \\\"1840\\\"}, \\\"new\\\": 2011.0}, {\\\"attr\\\": \\\"reset_start\\\", \\\"kind\\\": \\\"ModelChanged\\\", \\\"model\\\": {\\\"id\\\": \\\"1840\\\"}, \\\"new\\\": 2011.0}, {\\\"attr\\\": \\\"end\\\", \\\"kind\\\": \\\"ModelChanged\\\", \\\"model\\\": {\\\"id\\\": \\\"1840\\\"}, \\\"new\\\": 2013.0}, {\\\"attr\\\": \\\"reset_end\\\", \\\"kind\\\": \\\"ModelChanged\\\", \\\"model\\\": {\\\"id\\\": \\\"1840\\\"}, \\\"new\\\": 2013.0}, {\\\"attr\\\": \\\"start\\\", \\\"kind\\\": \\\"ModelChanged\\\", \\\"model\\\": {\\\"id\\\": \\\"1841\\\"}, \\\"new\\\": 54.98176636021827}, {\\\"attr\\\": \\\"reset_start\\\", \\\"kind\\\": \\\"ModelChanged\\\", \\\"model\\\": {\\\"id\\\": \\\"1841\\\"}, \\\"new\\\": 54.98176636021827}, {\\\"attr\\\": \\\"end\\\", \\\"kind\\\": \\\"ModelChanged\\\", \\\"model\\\": {\\\"id\\\": \\\"1841\\\"}, \\\"new\\\": 3236.0925666945254}, {\\\"attr\\\": \\\"reset_end\\\", \\\"kind\\\": \\\"ModelChanged\\\", \\\"model\\\": {\\\"id\\\": \\\"1841\\\"}, \\\"new\\\": 3236.0925666945254}, {\\\"cols\\\": null, \\\"column_source\\\": {\\\"id\\\": \\\"1879\\\"}, \\\"kind\\\": \\\"ColumnDataChanged\\\", \\\"new\\\": {\\\"sale_price_sqr_foot\\\": {\\\"__ndarray__\\\": \\\"MHLbdzABdEBpBeAVq1qHQA==\\\", \\\"dtype\\\": \\\"float64\\\", \\\"order\\\": \\\"little\\\", \\\"shape\\\": [2]}, \\\"year\\\": [2011, 2013]}}, {\\\"cols\\\": null, \\\"column_source\\\": {\\\"id\\\": \\\"1887\\\"}, \\\"kind\\\": \\\"ColumnDataChanged\\\", \\\"new\\\": {\\\"gross_rent\\\": [1530, 2971], \\\"year\\\": [2011, 2013]}}, {\\\"attr\\\": \\\"text\\\", \\\"kind\\\": \\\"ModelChanged\\\", \\\"model\\\": {\\\"id\\\": \\\"1845\\\"}, \\\"new\\\": \\\"neighborhood: Westwood Highlands\\\"}], \\\"references\\\": []}\",\"header\":\"{\\\"msgid\\\": \\\"2045\\\", \\\"msgtype\\\": \\\"PATCH-DOC\\\"}\",\"metadata\":\"{}\"},\"Westwood Park\":{\"content\":\"{\\\"events\\\": [{\\\"attr\\\": \\\"start\\\", \\\"kind\\\": \\\"ModelChanged\\\", \\\"model\\\": {\\\"id\\\": \\\"1840\\\"}, \\\"new\\\": 2014.0}, {\\\"attr\\\": \\\"reset_start\\\", \\\"kind\\\": \\\"ModelChanged\\\", \\\"model\\\": {\\\"id\\\": \\\"1840\\\"}, \\\"new\\\": 2014.0}, {\\\"attr\\\": \\\"end\\\", \\\"kind\\\": \\\"ModelChanged\\\", \\\"model\\\": {\\\"id\\\": \\\"1840\\\"}, \\\"new\\\": 2016.0}, {\\\"attr\\\": \\\"reset_end\\\", \\\"kind\\\": \\\"ModelChanged\\\", \\\"model\\\": {\\\"id\\\": \\\"1840\\\"}, \\\"new\\\": 2016.0}, {\\\"attr\\\": \\\"start\\\", \\\"kind\\\": \\\"ModelChanged\\\", \\\"model\\\": {\\\"id\\\": \\\"1841\\\"}, \\\"new\\\": 255.31496845965}, {\\\"attr\\\": \\\"reset_start\\\", \\\"kind\\\": \\\"ModelChanged\\\", \\\"model\\\": {\\\"id\\\": \\\"1841\\\"}, \\\"new\\\": 255.31496845965}, {\\\"attr\\\": \\\"end\\\", \\\"kind\\\": \\\"ModelChanged\\\", \\\"model\\\": {\\\"id\\\": \\\"1841\\\"}, \\\"new\\\": 4765.880457412759}, {\\\"attr\\\": \\\"reset_end\\\", \\\"kind\\\": \\\"ModelChanged\\\", \\\"model\\\": {\\\"id\\\": \\\"1841\\\"}, \\\"new\\\": 4765.880457412759}, {\\\"cols\\\": null, \\\"column_source\\\": {\\\"id\\\": \\\"1879\\\"}, \\\"kind\\\": \\\"ColumnDataChanged\\\", \\\"new\\\": {\\\"sale_price_sqr_foot\\\": {\\\"__ndarray__\\\": \\\"hgoZedY3h0BRlnA7kLmDQA==\\\", \\\"dtype\\\": \\\"float64\\\", \\\"order\\\": \\\"little\\\", \\\"shape\\\": [2]}, \\\"year\\\": [2014, 2016]}}, {\\\"cols\\\": null, \\\"column_source\\\": {\\\"id\\\": \\\"1887\\\"}, \\\"kind\\\": \\\"ColumnDataChanged\\\", \\\"new\\\": {\\\"gross_rent\\\": [3528, 4390], \\\"year\\\": [2014, 2016]}}, {\\\"attr\\\": \\\"text\\\", \\\"kind\\\": \\\"ModelChanged\\\", \\\"model\\\": {\\\"id\\\": \\\"1845\\\"}, \\\"new\\\": \\\"neighborhood: Westwood Park\\\"}], \\\"references\\\": []}\",\"header\":\"{\\\"msgid\\\": \\\"2040\\\", \\\"msgtype\\\": \\\"PATCH-DOC\\\"}\",\"metadata\":\"{}\"},\"Yerba Buena\":{\"content\":\"{\\\"events\\\": [{\\\"attr\\\": \\\"end\\\", \\\"kind\\\": \\\"ModelChanged\\\", \\\"model\\\": {\\\"id\\\": \\\"1840\\\"}, \\\"new\\\": 2015.0}, {\\\"attr\\\": \\\"reset_end\\\", \\\"kind\\\": \\\"ModelChanged\\\", \\\"model\\\": {\\\"id\\\": \\\"1840\\\"}, \\\"new\\\": 2015.0}, {\\\"attr\\\": \\\"start\\\", \\\"kind\\\": \\\"ModelChanged\\\", \\\"model\\\": {\\\"id\\\": \\\"1841\\\"}, \\\"new\\\": -7.460548773867288}, {\\\"attr\\\": \\\"reset_start\\\", \\\"kind\\\": \\\"ModelChanged\\\", \\\"model\\\": {\\\"id\\\": \\\"1841\\\"}, \\\"new\\\": -7.460548773867288}, {\\\"attr\\\": \\\"end\\\", \\\"kind\\\": \\\"ModelChanged\\\", \\\"model\\\": {\\\"id\\\": \\\"1841\\\"}, \\\"new\\\": 4079.587322615806}, {\\\"attr\\\": \\\"reset_end\\\", \\\"kind\\\": \\\"ModelChanged\\\", \\\"model\\\": {\\\"id\\\": \\\"1841\\\"}, \\\"new\\\": 4079.587322615806}, {\\\"cols\\\": null, \\\"column_source\\\": {\\\"id\\\": \\\"1879\\\"}, \\\"kind\\\": \\\"ColumnDataChanged\\\", \\\"new\\\": {\\\"sale_price_sqr_foot\\\": {\\\"__ndarray__\\\": \\\"2hECRAfSdEB3bevKxG17QBDwDygGvX5AZqvdXxeIh0Ae7tWsx/59QOv8I0wuHI5A\\\", \\\"dtype\\\": \\\"float64\\\", \\\"order\\\": \\\"little\\\", \\\"shape\\\": [6]}, \\\"year\\\": [2010, 2011, 2012, 2013, 2014, 2015]}}, {\\\"cols\\\": null, \\\"column_source\\\": {\\\"id\\\": \\\"1887\\\"}, \\\"kind\\\": \\\"ColumnDataChanged\\\", \\\"new\\\": {\\\"gross_rent\\\": [1239, 1530, 2324, 2971, 3528, 3739], \\\"year\\\": [2010, 2011, 2012, 2013, 2014, 2015]}}, {\\\"attr\\\": \\\"text\\\", \\\"kind\\\": \\\"ModelChanged\\\", \\\"model\\\": {\\\"id\\\": \\\"1845\\\"}, \\\"new\\\": \\\"neighborhood: Yerba Buena\\\"}], \\\"references\\\": []}\",\"header\":\"{\\\"msgid\\\": \\\"2035\\\", \\\"msgtype\\\": \\\"PATCH-DOC\\\"}\",\"metadata\":\"{}\"}},\"values\":[\"Alamo Square\"],\"widgets\":{\"1997\":0}},\"id\":\"2009\",\"type\":\"panel.models.state.State\"},{\"attributes\":{},\"id\":\"1880\",\"type\":\"Selection\"},{\"attributes\":{},\"id\":\"1858\",\"type\":\"BasicTicker\"},{\"attributes\":{\"line_alpha\":0.1,\"line_color\":\"#fc4f30\",\"line_width\":2,\"x\":{\"field\":\"year\"},\"y\":{\"field\":\"gross_rent\"}},\"id\":\"1891\",\"type\":\"Line\"},{\"attributes\":{\"axis_label\":\"Avg. monthly rent\",\"bounds\":\"auto\",\"formatter\":{\"id\":\"1877\"},\"major_label_orientation\":\"horizontal\",\"ticker\":{\"id\":\"1858\"}},\"id\":\"1857\",\"type\":\"LinearAxis\"},{\"attributes\":{\"end\":2016.0,\"reset_end\":2016.0,\"reset_start\":2010.0,\"start\":2010.0,\"tags\":[[[\"year\",\"year\",null]]]},\"id\":\"1840\",\"type\":\"Range1d\"},{\"attributes\":{\"source\":{\"id\":\"1879\"}},\"id\":\"1886\",\"type\":\"CDSView\"},{\"attributes\":{\"margin\":[5,5,5,5],\"name\":\"HSpacer30215\",\"sizing_mode\":\"stretch_width\"},\"id\":\"1839\",\"type\":\"Spacer\"},{\"attributes\":{\"line_color\":\"#30a2da\",\"line_width\":2,\"x\":{\"field\":\"year\"},\"y\":{\"field\":\"sale_price_sqr_foot\"}},\"id\":\"1882\",\"type\":\"Line\"},{\"attributes\":{\"margin\":[5,5,5,5],\"name\":\"HSpacer30216\",\"sizing_mode\":\"stretch_width\"},\"id\":\"1993\",\"type\":\"Spacer\"},{\"attributes\":{\"axis\":{\"id\":\"1857\"},\"dimension\":1,\"grid_line_color\":null,\"ticker\":null},\"id\":\"1860\",\"type\":\"Grid\"},{\"attributes\":{\"line_alpha\":0.1,\"line_color\":\"#30a2da\",\"line_width\":2,\"x\":{\"field\":\"year\"},\"y\":{\"field\":\"sale_price_sqr_foot\"}},\"id\":\"1883\",\"type\":\"Line\"},{\"attributes\":{},\"id\":\"1854\",\"type\":\"BasicTicker\"},{\"attributes\":{\"code\":\"\\nvar state = null\\nfor (var root of cb_obj.document.roots()) {\\n  if (root.id == '2009') {\\n    state = root;\\n    break;\\n  }\\n}\\nif (!state) { return; }\\nstate.set_state(cb_obj, cb_obj.value)\\n\"},\"id\":\"2010\",\"type\":\"CustomJS\"},{\"attributes\":{\"end\":4810.690068306854,\"reset_end\":4810.690068306854,\"reset_start\":-237.59075137539728,\"start\":-237.59075137539728,\"tags\":[[[\"sale_price_sqr_foot\",\"sale_price_sqr_foot\",null]]]},\"id\":\"1841\",\"type\":\"Range1d\"},{\"attributes\":{\"margin\":[5,5,5,5],\"name\":\"VSpacer30213\",\"sizing_mode\":\"stretch_height\"},\"id\":\"1998\",\"type\":\"Spacer\"},{\"attributes\":{\"callback\":null,\"renderers\":[{\"id\":\"1885\"}],\"tags\":[\"hv_created\"],\"tooltips\":[[\"year\",\"@{year}\"],[\"sale_price_sqr_foot\",\"@{sale_price_sqr_foot}\"]]},\"id\":\"1842\",\"type\":\"HoverTool\"},{\"attributes\":{\"text\":\"neighborhood: Alamo Square\",\"text_color\":{\"value\":\"black\"},\"text_font_size\":{\"value\":\"12pt\"}},\"id\":\"1845\",\"type\":\"Title\"},{\"attributes\":{},\"id\":\"1862\",\"type\":\"PanTool\"},{\"attributes\":{},\"id\":\"1877\",\"type\":\"BasicTickFormatter\"},{\"attributes\":{\"line_color\":\"#fc4f30\",\"line_width\":2,\"x\":{\"field\":\"year\"},\"y\":{\"field\":\"gross_rent\"}},\"id\":\"1890\",\"type\":\"Line\"},{\"attributes\":{\"js_property_callbacks\":{\"change:value\":[{\"id\":\"2010\"}]},\"margin\":[20,20,20,20],\"min_width\":250,\"options\":[\"Alamo Square\",\"Anza Vista\",\"Bayview\",\"Bayview Heights\",\"Bernal Heights \",\"Buena Vista Park\",\"Central Richmond\",\"Central Sunset\",\"Clarendon Heights\",\"Corona Heights\",\"Cow Hollow\",\"Croker Amazon\",\"Diamond Heights\",\"Downtown \",\"Duboce Triangle\",\"Eureka Valley/Dolores Heights\",\"Excelsior\",\"Financial District North\",\"Financial District South\",\"Forest Knolls\",\"Glen Park\",\"Golden Gate Heights\",\"Haight Ashbury\",\"Hayes Valley\",\"Hunters Point\",\"Ingleside \",\"Ingleside Heights\",\"Inner Mission\",\"Inner Parkside\",\"Inner Richmond\",\"Inner Sunset\",\"Jordan Park/Laurel Heights\",\"Lake --The Presidio\",\"Lone Mountain\",\"Lower Pacific Heights\",\"Marina\",\"Merced Heights\",\"Midtown Terrace\",\"Miraloma Park\",\"Mission Bay\",\"Mission Dolores\",\"Mission Terrace\",\"Nob Hill\",\"Noe Valley\",\"North Beach\",\"North Waterfront\",\"Oceanview\",\"Outer Mission\",\"Outer Parkside\",\"Outer Richmond \",\"Outer Sunset\",\"Pacific Heights\",\"Park North\",\"Parkside\",\"Parnassus/Ashbury Heights\",\"Portola\",\"Potrero Hill\",\"Presidio Heights\",\"Russian Hill\",\"Silver Terrace\",\"South Beach\",\"South of Market\",\"Sunnyside\",\"Telegraph Hill\",\"Twin Peaks\",\"Union Square District\",\"Van Ness/ Civic Center\",\"Visitacion Valley\",\"West Portal\",\"Western Addition\",\"Westwood Highlands\",\"Westwood Park\",\"Yerba Buena\"],\"title\":\"neighborhood\",\"value\":\"Alamo Square\",\"width\":250},\"id\":\"1997\",\"type\":\"Select\"},{\"attributes\":{\"axis_label\":\"year\",\"bounds\":\"auto\",\"formatter\":{\"id\":\"1875\"},\"major_label_orientation\":\"horizontal\",\"ticker\":{\"id\":\"1854\"}},\"id\":\"1853\",\"type\":\"LinearAxis\"},{\"attributes\":{},\"id\":\"1863\",\"type\":\"WheelZoomTool\"},{\"attributes\":{\"axis\":{\"id\":\"1853\"},\"grid_line_color\":null,\"ticker\":null},\"id\":\"1856\",\"type\":\"Grid\"},{\"attributes\":{\"below\":[{\"id\":\"1853\"}],\"center\":[{\"id\":\"1856\"},{\"id\":\"1860\"}],\"left\":[{\"id\":\"1857\"}],\"margin\":[5,5,5,5],\"min_border_bottom\":10,\"min_border_left\":10,\"min_border_right\":10,\"min_border_top\":10,\"plot_height\":300,\"plot_width\":700,\"renderers\":[{\"id\":\"1885\"},{\"id\":\"1893\"}],\"sizing_mode\":\"fixed\",\"title\":{\"id\":\"1845\"},\"toolbar\":{\"id\":\"1867\"},\"x_range\":{\"id\":\"1840\"},\"x_scale\":{\"id\":\"1849\"},\"y_range\":{\"id\":\"1841\"},\"y_scale\":{\"id\":\"1851\"}},\"id\":\"1844\",\"subtype\":\"Figure\",\"type\":\"Plot\"},{\"attributes\":{\"data\":{\"sale_price_sqr_foot\":{\"__ndarray__\":\"Dkc7WO0yckCafszcbwhxQIGRs5ot42ZAJzog0LQ8eEAWMinKGEd+QI0V5FDt0IJAVCHcmLVPdUA=\",\"dtype\":\"float64\",\"order\":\"little\",\"shape\":[7]},\"year\":[2010,2011,2012,2013,2014,2015,2016]},\"selected\":{\"id\":\"1880\"},\"selection_policy\":{\"id\":\"1902\"}},\"id\":\"1879\",\"type\":\"ColumnDataSource\"},{\"attributes\":{\"data_source\":{\"id\":\"1887\"},\"glyph\":{\"id\":\"1890\"},\"hover_glyph\":null,\"muted_glyph\":{\"id\":\"1892\"},\"nonselection_glyph\":{\"id\":\"1891\"},\"selection_glyph\":null,\"view\":{\"id\":\"1894\"}},\"id\":\"1893\",\"type\":\"GlyphRenderer\"},{\"attributes\":{\"overlay\":{\"id\":\"1866\"}},\"id\":\"1864\",\"type\":\"BoxZoomTool\"},{\"attributes\":{\"active_drag\":\"auto\",\"active_inspect\":\"auto\",\"active_multi\":null,\"active_scroll\":\"auto\",\"active_tap\":\"auto\",\"tools\":[{\"id\":\"1842\"},{\"id\":\"1843\"},{\"id\":\"1861\"},{\"id\":\"1862\"},{\"id\":\"1863\"},{\"id\":\"1864\"},{\"id\":\"1865\"}]},\"id\":\"1867\",\"type\":\"Toolbar\"},{\"attributes\":{},\"id\":\"1849\",\"type\":\"LinearScale\"},{\"attributes\":{\"line_alpha\":0.2,\"line_color\":\"#30a2da\",\"line_width\":2,\"x\":{\"field\":\"year\"},\"y\":{\"field\":\"sale_price_sqr_foot\"}},\"id\":\"1884\",\"type\":\"Line\"},{\"attributes\":{\"source\":{\"id\":\"1887\"}},\"id\":\"1894\",\"type\":\"CDSView\"},{\"attributes\":{\"data_source\":{\"id\":\"1879\"},\"glyph\":{\"id\":\"1882\"},\"hover_glyph\":null,\"muted_glyph\":{\"id\":\"1884\"},\"nonselection_glyph\":{\"id\":\"1883\"},\"selection_glyph\":null,\"view\":{\"id\":\"1886\"}},\"id\":\"1885\",\"type\":\"GlyphRenderer\"},{\"attributes\":{\"callback\":null,\"renderers\":[{\"id\":\"1893\"}],\"tags\":[\"hv_created\"],\"tooltips\":[[\"year\",\"@{year}\"],[\"gross_rent\",\"@{gross_rent}\"]]},\"id\":\"1843\",\"type\":\"HoverTool\"},{\"attributes\":{},\"id\":\"1861\",\"type\":\"SaveTool\"},{\"attributes\":{\"line_alpha\":0.2,\"line_color\":\"#fc4f30\",\"line_width\":2,\"x\":{\"field\":\"year\"},\"y\":{\"field\":\"gross_rent\"}},\"id\":\"1892\",\"type\":\"Line\"},{\"attributes\":{\"bottom_units\":\"screen\",\"fill_alpha\":0.5,\"fill_color\":\"lightgrey\",\"left_units\":\"screen\",\"level\":\"overlay\",\"line_alpha\":1.0,\"line_color\":\"black\",\"line_dash\":[4,4],\"line_width\":2,\"right_units\":\"screen\",\"top_units\":\"screen\"},\"id\":\"1866\",\"type\":\"BoxAnnotation\"},{\"attributes\":{},\"id\":\"1875\",\"type\":\"BasicTickFormatter\"},{\"attributes\":{\"children\":[{\"id\":\"1997\"}],\"css_classes\":[\"panel-widget-box\"],\"margin\":[5,5,5,5],\"name\":\"WidgetBox30205\"},\"id\":\"1996\",\"type\":\"Column\"},{\"attributes\":{\"children\":[{\"id\":\"1995\"},{\"id\":\"1996\"},{\"id\":\"1998\"}],\"margin\":[0,0,0,0],\"name\":\"Column30214\"},\"id\":\"1994\",\"type\":\"Column\"}],\"root_ids\":[\"1838\",\"2009\"]},\"title\":\"Bokeh Application\",\"version\":\"2.2.3\"}};\n    var render_items = [{\"docid\":\"4f711233-4029-495f-843a-b5ecd7655075\",\"root_ids\":[\"1838\"],\"roots\":{\"1838\":\"ebcfa81b-fb2b-4afe-84ab-ee96f994bdc0\"}}];\n    root.Bokeh.embed.embed_items_notebook(docs_json, render_items);\n  }\n  if (root.Bokeh !== undefined && root.Bokeh.Panel !== undefined && root['Plotly'] !== undefined ) {\n    embed_document(root);\n  } else {\n    var attempts = 0;\n    var timer = setInterval(function(root) {\n      if (root.Bokeh !== undefined && root.Bokeh.Panel !== undefined && root['Plotly'] !== undefined) {\n        clearInterval(timer);\n        embed_document(root);\n      } else if (document.readyState == \"complete\") {\n        attempts++;\n        if (attempts > 100) {\n          clearInterval(timer);\n          console.log(\"Bokeh: ERROR: Unable to run BokehJS code because BokehJS library is missing\");\n        }\n      }\n    }, 10, root)\n  }\n})(window);</script>",
      "application/vnd.holoviews_exec.v0+json": "",
      "text/plain": [
       ":HoloMap   [neighborhood]\n",
       "   :Overlay\n",
       "      .Curve.I  :Curve   [year]   (sale_price_sqr_foot)\n",
       "      .Curve.II :Curve   [year]   (gross_rent)"
      ]
     },
     "metadata": {
      "application/vnd.holoviews_exec.v0+json": {
       "id": "1838"
      }
     },
     "execution_count": 19
    }
   ],
   "source": [
    "average_price_by_neighborhood()"
   ]
  },
  {
   "cell_type": "code",
   "execution_count": 20,
   "metadata": {},
   "outputs": [
    {
     "output_type": "display_data",
     "data": {},
     "metadata": {}
    },
    {
     "output_type": "execute_result",
     "data": {
      "text/html": "<div id='2426'>\n\n\n\n\n\n  <div class=\"bk-root\" id=\"b432d302-614b-4ffc-b88d-5c495d165bfe\" data-root-id=\"2426\"></div>\n</div>\n<script type=\"application/javascript\">(function(root) {\n  function embed_document(root) {\n    var docs_json = {\"a36a0d93-8470-475c-8b4d-ae346c2dfb99\":{\"roots\":{\"references\":[{\"attributes\":{\"fill_alpha\":{\"value\":0.2},\"fill_color\":{\"value\":\"#30a2da\"},\"line_alpha\":{\"value\":0.2},\"top\":{\"field\":\"sale_price_sqr_foot\"},\"width\":{\"value\":0.8},\"x\":{\"field\":\"neighborhood\"}},\"id\":\"2465\",\"type\":\"VBar\"},{\"attributes\":{\"margin\":[5,5,5,5],\"name\":\"HSpacer44305\",\"sizing_mode\":\"stretch_width\"},\"id\":\"2488\",\"type\":\"Spacer\"},{\"attributes\":{\"active_drag\":\"auto\",\"active_inspect\":\"auto\",\"active_multi\":null,\"active_scroll\":\"auto\",\"active_tap\":\"auto\",\"tools\":[{\"id\":\"2430\"},{\"id\":\"2447\"},{\"id\":\"2448\"},{\"id\":\"2449\"},{\"id\":\"2450\"},{\"id\":\"2451\"}]},\"id\":\"2453\",\"type\":\"Toolbar\"},{\"attributes\":{},\"id\":\"2438\",\"type\":\"LinearScale\"},{\"attributes\":{\"axis_label\":\"Avg. Sale Price per sqft\",\"bounds\":\"auto\",\"formatter\":{\"id\":\"2470\"},\"major_label_orientation\":\"horizontal\",\"ticker\":{\"id\":\"2444\"}},\"id\":\"2443\",\"type\":\"LinearAxis\"},{\"attributes\":{\"margin\":[5,5,5,5],\"name\":\"HSpacer44304\",\"sizing_mode\":\"stretch_width\"},\"id\":\"2427\",\"type\":\"Spacer\"},{\"attributes\":{\"end\":929.3801355198136,\"reset_end\":929.3801355198136,\"reset_start\":0.0,\"tags\":[[[\"sale_price_sqr_foot\",\"sale_price_sqr_foot\",null]]]},\"id\":\"2429\",\"type\":\"Range1d\"},{\"attributes\":{},\"id\":\"2470\",\"type\":\"BasicTickFormatter\"},{\"attributes\":{\"fill_color\":{\"value\":\"#30a2da\"},\"top\":{\"field\":\"sale_price_sqr_foot\"},\"width\":{\"value\":0.8},\"x\":{\"field\":\"neighborhood\"}},\"id\":\"2463\",\"type\":\"VBar\"},{\"attributes\":{\"data\":{\"neighborhood\":[\"0\",\"1\",\"2\",\"3\",\"4\",\"5\",\"6\",\"7\",\"8\",\"9\"],\"sale_price_sqr_foot\":{\"__ndarray__\":\"JRAUMfI/jEB9IrkvwqaIQFx/3pp8XohAFpsVUHKMhUBs0ERas3iFQL0KhXgNJIVAy835O80ahUANV25bts+EQJrMCuEbsIRAya3y7v5QhEA=\",\"dtype\":\"float64\",\"order\":\"little\",\"shape\":[10]}},\"selected\":{\"id\":\"2461\"},\"selection_policy\":{\"id\":\"2479\"}},\"id\":\"2460\",\"type\":\"ColumnDataSource\"},{\"attributes\":{\"bottom_units\":\"screen\",\"fill_alpha\":0.5,\"fill_color\":\"lightgrey\",\"left_units\":\"screen\",\"level\":\"overlay\",\"line_alpha\":1.0,\"line_color\":\"black\",\"line_dash\":[4,4],\"line_width\":2,\"right_units\":\"screen\",\"top_units\":\"screen\"},\"id\":\"2452\",\"type\":\"BoxAnnotation\"},{\"attributes\":{\"axis_label\":\"neighborhood\",\"bounds\":\"auto\",\"formatter\":{\"id\":\"2468\"},\"major_label_orientation\":1.5707963267948966,\"ticker\":{\"id\":\"2441\"}},\"id\":\"2440\",\"type\":\"CategoricalAxis\"},{\"attributes\":{},\"id\":\"2479\",\"type\":\"UnionRenderers\"},{\"attributes\":{\"children\":[{\"id\":\"2427\"},{\"id\":\"2431\"},{\"id\":\"2488\"}],\"margin\":[0,0,0,0],\"name\":\"Row44300\",\"tags\":[\"embedded\"]},\"id\":\"2426\",\"type\":\"Row\"},{\"attributes\":{},\"id\":\"2444\",\"type\":\"BasicTicker\"},{\"attributes\":{\"callback\":null,\"renderers\":[{\"id\":\"2466\"}],\"tags\":[\"hv_created\"],\"tooltips\":[[\"neighborhood\",\"@{neighborhood}\"],[\"sale_price_sqr_foot\",\"@{sale_price_sqr_foot}\"]]},\"id\":\"2430\",\"type\":\"HoverTool\"},{\"attributes\":{\"overlay\":{\"id\":\"2452\"}},\"id\":\"2450\",\"type\":\"BoxZoomTool\"},{\"attributes\":{\"below\":[{\"id\":\"2440\"}],\"center\":[{\"id\":\"2442\"},{\"id\":\"2446\"}],\"left\":[{\"id\":\"2443\"}],\"margin\":[5,5,5,5],\"min_border_bottom\":10,\"min_border_left\":10,\"min_border_right\":10,\"min_border_top\":10,\"plot_height\":400,\"plot_width\":700,\"renderers\":[{\"id\":\"2466\"}],\"sizing_mode\":\"fixed\",\"title\":{\"id\":\"2432\"},\"toolbar\":{\"id\":\"2453\"},\"x_range\":{\"id\":\"2428\"},\"x_scale\":{\"id\":\"2436\"},\"y_range\":{\"id\":\"2429\"},\"y_scale\":{\"id\":\"2438\"}},\"id\":\"2431\",\"subtype\":\"Figure\",\"type\":\"Plot\"},{\"attributes\":{\"data_source\":{\"id\":\"2460\"},\"glyph\":{\"id\":\"2463\"},\"hover_glyph\":null,\"muted_glyph\":{\"id\":\"2465\"},\"nonselection_glyph\":{\"id\":\"2464\"},\"selection_glyph\":null,\"view\":{\"id\":\"2467\"}},\"id\":\"2466\",\"type\":\"GlyphRenderer\"},{\"attributes\":{},\"id\":\"2448\",\"type\":\"PanTool\"},{\"attributes\":{\"axis\":{\"id\":\"2440\"},\"grid_line_color\":null,\"ticker\":null},\"id\":\"2442\",\"type\":\"Grid\"},{\"attributes\":{},\"id\":\"2441\",\"type\":\"CategoricalTicker\"},{\"attributes\":{},\"id\":\"2468\",\"type\":\"CategoricalTickFormatter\"},{\"attributes\":{},\"id\":\"2449\",\"type\":\"WheelZoomTool\"},{\"attributes\":{\"text\":\"Top 10 Expensive Neighborhoods in SFO\",\"text_color\":{\"value\":\"black\"},\"text_font_size\":{\"value\":\"12pt\"}},\"id\":\"2432\",\"type\":\"Title\"},{\"attributes\":{\"factors\":[\"0\",\"1\",\"2\",\"3\",\"4\",\"5\",\"6\",\"7\",\"8\",\"9\"],\"tags\":[[[\"neighborhood\",\"neighborhood\",null]]]},\"id\":\"2428\",\"type\":\"FactorRange\"},{\"attributes\":{},\"id\":\"2451\",\"type\":\"ResetTool\"},{\"attributes\":{},\"id\":\"2461\",\"type\":\"Selection\"},{\"attributes\":{},\"id\":\"2436\",\"type\":\"CategoricalScale\"},{\"attributes\":{},\"id\":\"2447\",\"type\":\"SaveTool\"},{\"attributes\":{\"fill_alpha\":{\"value\":0.1},\"fill_color\":{\"value\":\"#30a2da\"},\"line_alpha\":{\"value\":0.1},\"top\":{\"field\":\"sale_price_sqr_foot\"},\"width\":{\"value\":0.8},\"x\":{\"field\":\"neighborhood\"}},\"id\":\"2464\",\"type\":\"VBar\"},{\"attributes\":{\"axis\":{\"id\":\"2443\"},\"dimension\":1,\"grid_line_color\":null,\"ticker\":null},\"id\":\"2446\",\"type\":\"Grid\"},{\"attributes\":{\"source\":{\"id\":\"2460\"}},\"id\":\"2467\",\"type\":\"CDSView\"}],\"root_ids\":[\"2426\"]},\"title\":\"Bokeh Application\",\"version\":\"2.2.3\"}};\n    var render_items = [{\"docid\":\"a36a0d93-8470-475c-8b4d-ae346c2dfb99\",\"root_ids\":[\"2426\"],\"roots\":{\"2426\":\"b432d302-614b-4ffc-b88d-5c495d165bfe\"}}];\n    root.Bokeh.embed.embed_items_notebook(docs_json, render_items);\n  }\n  if (root.Bokeh !== undefined && root.Bokeh.Panel !== undefined && root['Plotly'] !== undefined ) {\n    embed_document(root);\n  } else {\n    var attempts = 0;\n    var timer = setInterval(function(root) {\n      if (root.Bokeh !== undefined && root.Bokeh.Panel !== undefined && root['Plotly'] !== undefined) {\n        clearInterval(timer);\n        embed_document(root);\n      } else if (document.readyState == \"complete\") {\n        attempts++;\n        if (attempts > 100) {\n          clearInterval(timer);\n          console.log(\"Bokeh: ERROR: Unable to run BokehJS code because BokehJS library is missing\");\n        }\n      }\n    }, 10, root)\n  }\n})(window);</script>",
      "application/vnd.holoviews_exec.v0+json": "",
      "text/plain": [
       ":Bars   [neighborhood]   (sale_price_sqr_foot)"
      ]
     },
     "metadata": {
      "application/vnd.holoviews_exec.v0+json": {
       "id": "2426"
      }
     },
     "execution_count": 20
    }
   ],
   "source": [
    "top_most_expensive_neighborhoods()"
   ]
  },
  {
   "cell_type": "code",
   "execution_count": 21,
   "metadata": {},
   "outputs": [
    {
     "output_type": "display_data",
     "data": {},
     "metadata": {}
    },
    {
     "output_type": "execute_result",
     "data": {
      "text/html": "<div id='2530'>\n\n\n\n\n\n  <div class=\"bk-root\" id=\"6664141b-f8a6-44d1-b5f8-0c62aba1e379\" data-root-id=\"2530\"></div>\n</div>\n<script type=\"application/javascript\">(function(root) {\n  function embed_document(root) {\n    var docs_json = {\"c857bccd-e12d-412c-80d0-b68444b4d1ce\":{\"roots\":{\"references\":[{\"attributes\":{\"axis_label\":\"\",\"bounds\":\"auto\",\"formatter\":{\"id\":\"2575\"},\"major_label_orientation\":\"horizontal\",\"ticker\":{\"id\":\"2548\"}},\"id\":\"2547\",\"type\":\"LinearAxis\"},{\"attributes\":{},\"id\":\"2548\",\"type\":\"BasicTicker\"},{\"attributes\":{\"children\":[{\"id\":\"2603\"},{\"id\":\"2604\"},{\"id\":\"2606\"}],\"margin\":[0,0,0,0],\"name\":\"Column48492\"},\"id\":\"2602\",\"type\":\"Column\"},{\"attributes\":{\"axis\":{\"id\":\"2547\"},\"dimension\":1,\"grid_line_color\":null,\"ticker\":null},\"id\":\"2550\",\"type\":\"Grid\"},{\"attributes\":{\"callback\":null,\"renderers\":[{\"id\":\"2571\"}],\"tags\":[\"hv_created\"],\"tooltips\":[[\"year\",\"@{year}\"],[\"Variable\",\"@{Variable}\"],[\"value\",\"@{value}\"]]},\"id\":\"2534\",\"type\":\"HoverTool\"},{\"attributes\":{\"active_drag\":\"auto\",\"active_inspect\":\"auto\",\"active_multi\":null,\"active_scroll\":\"auto\",\"active_tap\":\"auto\",\"tools\":[{\"id\":\"2534\"},{\"id\":\"2551\"},{\"id\":\"2552\"},{\"id\":\"2553\"},{\"id\":\"2554\"},{\"id\":\"2555\"}]},\"id\":\"2557\",\"type\":\"Toolbar\"},{\"attributes\":{\"state\":{\"Alamo Square\":{\"content\":\"{\\\"events\\\": [{\\\"attr\\\": \\\"factors\\\", \\\"kind\\\": \\\"ModelChanged\\\", \\\"model\\\": {\\\"id\\\": \\\"2532\\\"}, \\\"new\\\": [[\\\"2010\\\", \\\"gross_rent\\\"], [\\\"2010\\\", \\\"sale_price_sqr_foot\\\"], [\\\"2011\\\", \\\"gross_rent\\\"], [\\\"2011\\\", \\\"sale_price_sqr_foot\\\"], [\\\"2012\\\", \\\"gross_rent\\\"], [\\\"2012\\\", \\\"sale_price_sqr_foot\\\"], [\\\"2013\\\", \\\"gross_rent\\\"], [\\\"2013\\\", \\\"sale_price_sqr_foot\\\"], [\\\"2014\\\", \\\"gross_rent\\\"], [\\\"2014\\\", \\\"sale_price_sqr_foot\\\"], [\\\"2015\\\", \\\"gross_rent\\\"], [\\\"2015\\\", \\\"sale_price_sqr_foot\\\"], [\\\"2016\\\", \\\"gross_rent\\\"], [\\\"2016\\\", \\\"sale_price_sqr_foot\\\"]]}, {\\\"attr\\\": \\\"end\\\", \\\"kind\\\": \\\"ModelChanged\\\", \\\"model\\\": {\\\"id\\\": \\\"2533\\\"}, \\\"new\\\": 4810.690068306854}, {\\\"attr\\\": \\\"reset_end\\\", \\\"kind\\\": \\\"ModelChanged\\\", \\\"model\\\": {\\\"id\\\": \\\"2533\\\"}, \\\"new\\\": 4810.690068306854}, {\\\"attr\\\": \\\"text\\\", \\\"kind\\\": \\\"ModelChanged\\\", \\\"model\\\": {\\\"id\\\": \\\"2536\\\"}, \\\"new\\\": \\\"neighborhood: Alamo Square\\\"}, {\\\"cols\\\": null, \\\"column_source\\\": {\\\"id\\\": \\\"2565\\\"}, \\\"kind\\\": \\\"ColumnDataChanged\\\", \\\"new\\\": {\\\"Variable\\\": [\\\"sale_price_sqr_foot\\\", \\\"sale_price_sqr_foot\\\", \\\"sale_price_sqr_foot\\\", \\\"sale_price_sqr_foot\\\", \\\"sale_price_sqr_foot\\\", \\\"sale_price_sqr_foot\\\", \\\"sale_price_sqr_foot\\\", \\\"gross_rent\\\", \\\"gross_rent\\\", \\\"gross_rent\\\", \\\"gross_rent\\\", \\\"gross_rent\\\", \\\"gross_rent\\\", \\\"gross_rent\\\"], \\\"value\\\": {\\\"__ndarray__\\\": \\\"Dkc7WO0yckCafszcbwhxQIGRs5ot42ZAJzog0LQ8eEAWMinKGEd+QI0V5FDt0IJAVCHcmLVPdUAAAAAAAFyTQAAAAAAA6JdAAAAAAAAookAAAAAAADanQAAAAAAAkKtAAAAAAAA2rUAAAAAAACaxQA==\\\", \\\"dtype\\\": \\\"float64\\\", \\\"order\\\": \\\"little\\\", \\\"shape\\\": [14]}, \\\"xoffsets\\\": [[\\\"2010\\\", \\\"sale_price_sqr_foot\\\"], [\\\"2011\\\", \\\"sale_price_sqr_foot\\\"], [\\\"2012\\\", \\\"sale_price_sqr_foot\\\"], [\\\"2013\\\", \\\"sale_price_sqr_foot\\\"], [\\\"2014\\\", \\\"sale_price_sqr_foot\\\"], [\\\"2015\\\", \\\"sale_price_sqr_foot\\\"], [\\\"2016\\\", \\\"sale_price_sqr_foot\\\"], [\\\"2010\\\", \\\"gross_rent\\\"], [\\\"2011\\\", \\\"gross_rent\\\"], [\\\"2012\\\", \\\"gross_rent\\\"], [\\\"2013\\\", \\\"gross_rent\\\"], [\\\"2014\\\", \\\"gross_rent\\\"], [\\\"2015\\\", \\\"gross_rent\\\"], [\\\"2016\\\", \\\"gross_rent\\\"]], \\\"year\\\": [\\\"2010\\\", \\\"2011\\\", \\\"2012\\\", \\\"2013\\\", \\\"2014\\\", \\\"2015\\\", \\\"2016\\\", \\\"2010\\\", \\\"2011\\\", \\\"2012\\\", \\\"2013\\\", \\\"2014\\\", \\\"2015\\\", \\\"2016\\\"]}}], \\\"references\\\": []}\",\"header\":\"{\\\"msgid\\\": \\\"2997\\\", \\\"msgtype\\\": \\\"PATCH-DOC\\\"}\",\"metadata\":\"{}\"},\"Anza Vista\":{\"content\":\"{\\\"events\\\": [{\\\"attr\\\": \\\"factors\\\", \\\"kind\\\": \\\"ModelChanged\\\", \\\"model\\\": {\\\"id\\\": \\\"2532\\\"}, \\\"new\\\": [[\\\"2010\\\", \\\"gross_rent\\\"], [\\\"2010\\\", \\\"sale_price_sqr_foot\\\"], [\\\"2012\\\", \\\"gross_rent\\\"], [\\\"2012\\\", \\\"sale_price_sqr_foot\\\"], [\\\"2013\\\", \\\"gross_rent\\\"], [\\\"2013\\\", \\\"sale_price_sqr_foot\\\"], [\\\"2014\\\", \\\"gross_rent\\\"], [\\\"2014\\\", \\\"sale_price_sqr_foot\\\"], [\\\"2015\\\", \\\"gross_rent\\\"], [\\\"2015\\\", \\\"sale_price_sqr_foot\\\"], [\\\"2016\\\", \\\"gross_rent\\\"], [\\\"2016\\\", \\\"sale_price_sqr_foot\\\"]]}, {\\\"attr\\\": \\\"end\\\", \\\"kind\\\": \\\"ModelChanged\\\", \\\"model\\\": {\\\"id\\\": \\\"2533\\\"}, \\\"new\\\": 4820.159848905394}, {\\\"attr\\\": \\\"reset_end\\\", \\\"kind\\\": \\\"ModelChanged\\\", \\\"model\\\": {\\\"id\\\": \\\"2533\\\"}, \\\"new\\\": 4820.159848905394}, {\\\"attr\\\": \\\"text\\\", \\\"kind\\\": \\\"ModelChanged\\\", \\\"model\\\": {\\\"id\\\": \\\"2536\\\"}, \\\"new\\\": \\\"neighborhood: Anza Vista\\\"}, {\\\"cols\\\": null, \\\"column_source\\\": {\\\"id\\\": \\\"2565\\\"}, \\\"kind\\\": \\\"ColumnDataChanged\\\", \\\"new\\\": {\\\"Variable\\\": [\\\"sale_price_sqr_foot\\\", \\\"sale_price_sqr_foot\\\", \\\"sale_price_sqr_foot\\\", \\\"sale_price_sqr_foot\\\", \\\"sale_price_sqr_foot\\\", \\\"sale_price_sqr_foot\\\", \\\"gross_rent\\\", \\\"gross_rent\\\", \\\"gross_rent\\\", \\\"gross_rent\\\", \\\"gross_rent\\\", \\\"gross_rent\\\"], \\\"value\\\": {\\\"__ndarray__\\\": \\\"G/PQ2+u+cEATzZrI2od1QB4UWK5yVXxAICUpAIhjg0D6+vr6+hp9QDOV91qyGVZAAAAAAABck0AAAAAAACiiQAAAAAAANqdAAAAAAACQq0AAAAAAADatQAAAAAAAJrFA\\\", \\\"dtype\\\": \\\"float64\\\", \\\"order\\\": \\\"little\\\", \\\"shape\\\": [12]}, \\\"xoffsets\\\": [[\\\"2010\\\", \\\"sale_price_sqr_foot\\\"], [\\\"2012\\\", \\\"sale_price_sqr_foot\\\"], [\\\"2013\\\", \\\"sale_price_sqr_foot\\\"], [\\\"2014\\\", \\\"sale_price_sqr_foot\\\"], [\\\"2015\\\", \\\"sale_price_sqr_foot\\\"], [\\\"2016\\\", \\\"sale_price_sqr_foot\\\"], [\\\"2010\\\", \\\"gross_rent\\\"], [\\\"2012\\\", \\\"gross_rent\\\"], [\\\"2013\\\", \\\"gross_rent\\\"], [\\\"2014\\\", \\\"gross_rent\\\"], [\\\"2015\\\", \\\"gross_rent\\\"], [\\\"2016\\\", \\\"gross_rent\\\"]], \\\"year\\\": [\\\"2010\\\", \\\"2012\\\", \\\"2013\\\", \\\"2014\\\", \\\"2015\\\", \\\"2016\\\", \\\"2010\\\", \\\"2012\\\", \\\"2013\\\", \\\"2014\\\", \\\"2015\\\", \\\"2016\\\"]}}], \\\"references\\\": []}\",\"header\":\"{\\\"msgid\\\": \\\"2992\\\", \\\"msgtype\\\": \\\"PATCH-DOC\\\"}\",\"metadata\":\"{}\"},\"Bayview\":{\"content\":\"{\\\"events\\\": [{\\\"attr\\\": \\\"factors\\\", \\\"kind\\\": \\\"ModelChanged\\\", \\\"model\\\": {\\\"id\\\": \\\"2532\\\"}, \\\"new\\\": [[\\\"2010\\\", \\\"gross_rent\\\"], [\\\"2010\\\", \\\"sale_price_sqr_foot\\\"], [\\\"2011\\\", \\\"gross_rent\\\"], [\\\"2011\\\", \\\"sale_price_sqr_foot\\\"], [\\\"2012\\\", \\\"gross_rent\\\"], [\\\"2012\\\", \\\"sale_price_sqr_foot\\\"], [\\\"2013\\\", \\\"gross_rent\\\"], [\\\"2013\\\", \\\"sale_price_sqr_foot\\\"], [\\\"2014\\\", \\\"gross_rent\\\"], [\\\"2014\\\", \\\"sale_price_sqr_foot\\\"]]}, {\\\"attr\\\": \\\"end\\\", \\\"kind\\\": \\\"ModelChanged\\\", \\\"model\\\": {\\\"id\\\": \\\"2533\\\"}, \\\"new\\\": 3864.2201937608347}, {\\\"attr\\\": \\\"reset_end\\\", \\\"kind\\\": \\\"ModelChanged\\\", \\\"model\\\": {\\\"id\\\": \\\"2533\\\"}, \\\"new\\\": 3864.2201937608347}, {\\\"attr\\\": \\\"text\\\", \\\"kind\\\": \\\"ModelChanged\\\", \\\"model\\\": {\\\"id\\\": \\\"2536\\\"}, \\\"new\\\": \\\"neighborhood: Bayview\\\"}, {\\\"cols\\\": null, \\\"column_source\\\": {\\\"id\\\": \\\"2565\\\"}, \\\"kind\\\": \\\"ColumnDataChanged\\\", \\\"new\\\": {\\\"Variable\\\": [\\\"sale_price_sqr_foot\\\", \\\"sale_price_sqr_foot\\\", \\\"sale_price_sqr_foot\\\", \\\"sale_price_sqr_foot\\\", \\\"sale_price_sqr_foot\\\", \\\"gross_rent\\\", \\\"gross_rent\\\", \\\"gross_rent\\\", \\\"gross_rent\\\", \\\"gross_rent\\\"], \\\"value\\\": {\\\"__ndarray__\\\": \\\"PPRDRChDZUAQP5VJTJFlQFUKJLqJuWRAAC6QLcE4cEBWESlbrd5vQAAAAAAAXJNAAAAAAADol0AAAAAAACiiQAAAAAAANqdAAAAAAACQq0A=\\\", \\\"dtype\\\": \\\"float64\\\", \\\"order\\\": \\\"little\\\", \\\"shape\\\": [10]}, \\\"xoffsets\\\": [[\\\"2010\\\", \\\"sale_price_sqr_foot\\\"], [\\\"2011\\\", \\\"sale_price_sqr_foot\\\"], [\\\"2012\\\", \\\"sale_price_sqr_foot\\\"], [\\\"2013\\\", \\\"sale_price_sqr_foot\\\"], [\\\"2014\\\", \\\"sale_price_sqr_foot\\\"], [\\\"2010\\\", \\\"gross_rent\\\"], [\\\"2011\\\", \\\"gross_rent\\\"], [\\\"2012\\\", \\\"gross_rent\\\"], [\\\"2013\\\", \\\"gross_rent\\\"], [\\\"2014\\\", \\\"gross_rent\\\"]], \\\"year\\\": [\\\"2010\\\", \\\"2011\\\", \\\"2012\\\", \\\"2013\\\", \\\"2014\\\", \\\"2010\\\", \\\"2011\\\", \\\"2012\\\", \\\"2013\\\", \\\"2014\\\"]}}], \\\"references\\\": []}\",\"header\":\"{\\\"msgid\\\": \\\"2987\\\", \\\"msgtype\\\": \\\"PATCH-DOC\\\"}\",\"metadata\":\"{}\"},\"Bayview Heights\":{\"content\":\"{\\\"events\\\": [{\\\"attr\\\": \\\"factors\\\", \\\"kind\\\": \\\"ModelChanged\\\", \\\"model\\\": {\\\"id\\\": \\\"2532\\\"}, \\\"new\\\": [[\\\"2015\\\", \\\"gross_rent\\\"], [\\\"2015\\\", \\\"sale_price_sqr_foot\\\"]]}, {\\\"attr\\\": \\\"end\\\", \\\"kind\\\": \\\"ModelChanged\\\", \\\"model\\\": {\\\"id\\\": \\\"2533\\\"}, \\\"new\\\": 4053.820716112532}, {\\\"attr\\\": \\\"reset_end\\\", \\\"kind\\\": \\\"ModelChanged\\\", \\\"model\\\": {\\\"id\\\": \\\"2533\\\"}, \\\"new\\\": 4053.820716112532}, {\\\"attr\\\": \\\"text\\\", \\\"kind\\\": \\\"ModelChanged\\\", \\\"model\\\": {\\\"id\\\": \\\"2536\\\"}, \\\"new\\\": \\\"neighborhood: Bayview Heights\\\"}, {\\\"cols\\\": null, \\\"column_source\\\": {\\\"id\\\": \\\"2565\\\"}, \\\"kind\\\": \\\"ColumnDataChanged\\\", \\\"new\\\": {\\\"Variable\\\": [\\\"sale_price_sqr_foot\\\", \\\"gross_rent\\\"], \\\"value\\\": {\\\"__ndarray__\\\": \\\"/m3ou1d2gkAAAAAAADatQA==\\\", \\\"dtype\\\": \\\"float64\\\", \\\"order\\\": \\\"little\\\", \\\"shape\\\": [2]}, \\\"xoffsets\\\": [[\\\"2015\\\", \\\"sale_price_sqr_foot\\\"], [\\\"2015\\\", \\\"gross_rent\\\"]], \\\"year\\\": [\\\"2015\\\", \\\"2015\\\"]}}], \\\"references\\\": []}\",\"header\":\"{\\\"msgid\\\": \\\"2982\\\", \\\"msgtype\\\": \\\"PATCH-DOC\\\"}\",\"metadata\":\"{}\"},\"Bernal Heights \":{\"content\":\"{\\\"events\\\": [{\\\"attr\\\": \\\"factors\\\", \\\"kind\\\": \\\"ModelChanged\\\", \\\"model\\\": {\\\"id\\\": \\\"2532\\\"}, \\\"new\\\": [[\\\"2011\\\", \\\"gross_rent\\\"], [\\\"2011\\\", \\\"sale_price_sqr_foot\\\"], [\\\"2012\\\", \\\"gross_rent\\\"], [\\\"2012\\\", \\\"sale_price_sqr_foot\\\"], [\\\"2013\\\", \\\"gross_rent\\\"], [\\\"2013\\\", \\\"sale_price_sqr_foot\\\"], [\\\"2014\\\", \\\"gross_rent\\\"], [\\\"2014\\\", \\\"sale_price_sqr_foot\\\"], [\\\"2015\\\", \\\"gross_rent\\\"], [\\\"2015\\\", \\\"sale_price_sqr_foot\\\"], [\\\"2016\\\", \\\"gross_rent\\\"], [\\\"2016\\\", \\\"sale_price_sqr_foot\\\"]]}, {\\\"attr\\\": \\\"end\\\", \\\"kind\\\": \\\"ModelChanged\\\", \\\"model\\\": {\\\"id\\\": \\\"2533\\\"}, \\\"new\\\": 4792.173343921161}, {\\\"attr\\\": \\\"reset_end\\\", \\\"kind\\\": \\\"ModelChanged\\\", \\\"model\\\": {\\\"id\\\": \\\"2533\\\"}, \\\"new\\\": 4792.173343921161}, {\\\"attr\\\": \\\"text\\\", \\\"kind\\\": \\\"ModelChanged\\\", \\\"model\\\": {\\\"id\\\": \\\"2536\\\"}, \\\"new\\\": \\\"neighborhood: Bernal Heights\\\"}, {\\\"cols\\\": null, \\\"column_source\\\": {\\\"id\\\": \\\"2565\\\"}, \\\"kind\\\": \\\"ColumnDataChanged\\\", \\\"new\\\": {\\\"Variable\\\": [\\\"sale_price_sqr_foot\\\", \\\"sale_price_sqr_foot\\\", \\\"sale_price_sqr_foot\\\", \\\"sale_price_sqr_foot\\\", \\\"sale_price_sqr_foot\\\", \\\"sale_price_sqr_foot\\\", \\\"gross_rent\\\", \\\"gross_rent\\\", \\\"gross_rent\\\", \\\"gross_rent\\\", \\\"gross_rent\\\", \\\"gross_rent\\\"], \\\"value\\\": {\\\"__ndarray__\\\": \\\"HjEmar9+fUAqyD7VQwR3QCfG9awtt4NAqiUgHGAEgUB/Ui+cEaB8QGwor6G81o5AAAAAAADol0AAAAAAACiiQAAAAAAANqdAAAAAAACQq0AAAAAAADatQAAAAAAAJrFA\\\", \\\"dtype\\\": \\\"float64\\\", \\\"order\\\": \\\"little\\\", \\\"shape\\\": [12]}, \\\"xoffsets\\\": [[\\\"2011\\\", \\\"sale_price_sqr_foot\\\"], [\\\"2012\\\", \\\"sale_price_sqr_foot\\\"], [\\\"2013\\\", \\\"sale_price_sqr_foot\\\"], [\\\"2014\\\", \\\"sale_price_sqr_foot\\\"], [\\\"2015\\\", \\\"sale_price_sqr_foot\\\"], [\\\"2016\\\", \\\"sale_price_sqr_foot\\\"], [\\\"2011\\\", \\\"gross_rent\\\"], [\\\"2012\\\", \\\"gross_rent\\\"], [\\\"2013\\\", \\\"gross_rent\\\"], [\\\"2014\\\", \\\"gross_rent\\\"], [\\\"2015\\\", \\\"gross_rent\\\"], [\\\"2016\\\", \\\"gross_rent\\\"]], \\\"year\\\": [\\\"2011\\\", \\\"2012\\\", \\\"2013\\\", \\\"2014\\\", \\\"2015\\\", \\\"2016\\\", \\\"2011\\\", \\\"2012\\\", \\\"2013\\\", \\\"2014\\\", \\\"2015\\\", \\\"2016\\\"]}}], \\\"references\\\": []}\",\"header\":\"{\\\"msgid\\\": \\\"2977\\\", \\\"msgtype\\\": \\\"PATCH-DOC\\\"}\",\"metadata\":\"{}\"},\"Buena Vista Park\":{\"content\":\"{\\\"events\\\": [{\\\"attr\\\": \\\"factors\\\", \\\"kind\\\": \\\"ModelChanged\\\", \\\"model\\\": {\\\"id\\\": \\\"2532\\\"}, \\\"new\\\": [[\\\"2010\\\", \\\"gross_rent\\\"], [\\\"2010\\\", \\\"sale_price_sqr_foot\\\"], [\\\"2011\\\", \\\"gross_rent\\\"], [\\\"2011\\\", \\\"sale_price_sqr_foot\\\"], [\\\"2012\\\", \\\"gross_rent\\\"], [\\\"2012\\\", \\\"sale_price_sqr_foot\\\"], [\\\"2013\\\", \\\"gross_rent\\\"], [\\\"2013\\\", \\\"sale_price_sqr_foot\\\"], [\\\"2015\\\", \\\"gross_rent\\\"], [\\\"2015\\\", \\\"sale_price_sqr_foot\\\"], [\\\"2016\\\", \\\"gross_rent\\\"], [\\\"2016\\\", \\\"sale_price_sqr_foot\\\"]]}, {\\\"attr\\\": \\\"end\\\", \\\"kind\\\": \\\"ModelChanged\\\", \\\"model\\\": {\\\"id\\\": \\\"2533\\\"}, \\\"new\\\": 4811.82276533134}, {\\\"attr\\\": \\\"reset_end\\\", \\\"kind\\\": \\\"ModelChanged\\\", \\\"model\\\": {\\\"id\\\": \\\"2533\\\"}, \\\"new\\\": 4811.82276533134}, {\\\"attr\\\": \\\"text\\\", \\\"kind\\\": \\\"ModelChanged\\\", \\\"model\\\": {\\\"id\\\": \\\"2536\\\"}, \\\"new\\\": \\\"neighborhood: Buena Vista Park\\\"}, {\\\"cols\\\": null, \\\"column_source\\\": {\\\"id\\\": \\\"2565\\\"}, \\\"kind\\\": \\\"ColumnDataChanged\\\", \\\"new\\\": {\\\"Variable\\\": [\\\"sale_price_sqr_foot\\\", \\\"sale_price_sqr_foot\\\", \\\"sale_price_sqr_foot\\\", \\\"sale_price_sqr_foot\\\", \\\"sale_price_sqr_foot\\\", \\\"sale_price_sqr_foot\\\", \\\"gross_rent\\\", \\\"gross_rent\\\", \\\"gross_rent\\\", \\\"gross_rent\\\", \\\"gross_rent\\\", \\\"gross_rent\\\"], \\\"value\\\": {\\\"__ndarray__\\\": \\\"8TcCl1G2dUB6BGYQt3hlQNMPoV2eKXVAK46qSn1zfEA6NDCikD2BQFP8ARQ2m4pAAAAAAABck0AAAAAAAOiXQAAAAAAAKKJAAAAAAAA2p0AAAAAAADatQAAAAAAAJrFA\\\", \\\"dtype\\\": \\\"float64\\\", \\\"order\\\": \\\"little\\\", \\\"shape\\\": [12]}, \\\"xoffsets\\\": [[\\\"2010\\\", \\\"sale_price_sqr_foot\\\"], [\\\"2011\\\", \\\"sale_price_sqr_foot\\\"], [\\\"2012\\\", \\\"sale_price_sqr_foot\\\"], [\\\"2013\\\", \\\"sale_price_sqr_foot\\\"], [\\\"2015\\\", \\\"sale_price_sqr_foot\\\"], [\\\"2016\\\", \\\"sale_price_sqr_foot\\\"], [\\\"2010\\\", \\\"gross_rent\\\"], [\\\"2011\\\", \\\"gross_rent\\\"], [\\\"2012\\\", \\\"gross_rent\\\"], [\\\"2013\\\", \\\"gross_rent\\\"], [\\\"2015\\\", \\\"gross_rent\\\"], [\\\"2016\\\", \\\"gross_rent\\\"]], \\\"year\\\": [\\\"2010\\\", \\\"2011\\\", \\\"2012\\\", \\\"2013\\\", \\\"2015\\\", \\\"2016\\\", \\\"2010\\\", \\\"2011\\\", \\\"2012\\\", \\\"2013\\\", \\\"2015\\\", \\\"2016\\\"]}}], \\\"references\\\": []}\",\"header\":\"{\\\"msgid\\\": \\\"2972\\\", \\\"msgtype\\\": \\\"PATCH-DOC\\\"}\",\"metadata\":\"{}\"},\"Central Richmond\":{\"content\":\"{\\\"events\\\": [{\\\"attr\\\": \\\"end\\\", \\\"kind\\\": \\\"ModelChanged\\\", \\\"model\\\": {\\\"id\\\": \\\"2533\\\"}, \\\"new\\\": 4802.833619965835}, {\\\"attr\\\": \\\"reset_end\\\", \\\"kind\\\": \\\"ModelChanged\\\", \\\"model\\\": {\\\"id\\\": \\\"2533\\\"}, \\\"new\\\": 4802.833619965835}, {\\\"attr\\\": \\\"text\\\", \\\"kind\\\": \\\"ModelChanged\\\", \\\"model\\\": {\\\"id\\\": \\\"2536\\\"}, \\\"new\\\": \\\"neighborhood: Central Richmond\\\"}, {\\\"cols\\\": null, \\\"column_source\\\": {\\\"id\\\": \\\"2565\\\"}, \\\"kind\\\": \\\"ColumnDataChanged\\\", \\\"new\\\": {\\\"Variable\\\": [\\\"sale_price_sqr_foot\\\", \\\"sale_price_sqr_foot\\\", \\\"sale_price_sqr_foot\\\", \\\"sale_price_sqr_foot\\\", \\\"sale_price_sqr_foot\\\", \\\"sale_price_sqr_foot\\\", \\\"sale_price_sqr_foot\\\", \\\"gross_rent\\\", \\\"gross_rent\\\", \\\"gross_rent\\\", \\\"gross_rent\\\", \\\"gross_rent\\\", \\\"gross_rent\\\", \\\"gross_rent\\\"], \\\"value\\\": {\\\"__ndarray__\\\": \\\"/qBYJHHwc0B9ZxvtnlpwQB+s/3N7cHFAjxvCQN5wdUCCLplePn96QG3yb/yekn1A84Oo8YOohEAAAAAAAFyTQAAAAAAA6JdAAAAAAAAookAAAAAAADanQAAAAAAAkKtAAAAAAAA2rUAAAAAAACaxQA==\\\", \\\"dtype\\\": \\\"float64\\\", \\\"order\\\": \\\"little\\\", \\\"shape\\\": [14]}, \\\"xoffsets\\\": [[\\\"2010\\\", \\\"sale_price_sqr_foot\\\"], [\\\"2011\\\", \\\"sale_price_sqr_foot\\\"], [\\\"2012\\\", \\\"sale_price_sqr_foot\\\"], [\\\"2013\\\", \\\"sale_price_sqr_foot\\\"], [\\\"2014\\\", \\\"sale_price_sqr_foot\\\"], [\\\"2015\\\", \\\"sale_price_sqr_foot\\\"], [\\\"2016\\\", \\\"sale_price_sqr_foot\\\"], [\\\"2010\\\", \\\"gross_rent\\\"], [\\\"2011\\\", \\\"gross_rent\\\"], [\\\"2012\\\", \\\"gross_rent\\\"], [\\\"2013\\\", \\\"gross_rent\\\"], [\\\"2014\\\", \\\"gross_rent\\\"], [\\\"2015\\\", \\\"gross_rent\\\"], [\\\"2016\\\", \\\"gross_rent\\\"]], \\\"year\\\": [\\\"2010\\\", \\\"2011\\\", \\\"2012\\\", \\\"2013\\\", \\\"2014\\\", \\\"2015\\\", \\\"2016\\\", \\\"2010\\\", \\\"2011\\\", \\\"2012\\\", \\\"2013\\\", \\\"2014\\\", \\\"2015\\\", \\\"2016\\\"]}}], \\\"references\\\": []}\",\"header\":\"{\\\"msgid\\\": \\\"2967\\\", \\\"msgtype\\\": \\\"PATCH-DOC\\\"}\",\"metadata\":\"{}\"},\"Central Sunset\":{\"content\":\"{\\\"events\\\": [{\\\"attr\\\": \\\"factors\\\", \\\"kind\\\": \\\"ModelChanged\\\", \\\"model\\\": {\\\"id\\\": \\\"2532\\\"}, \\\"new\\\": [[\\\"2010\\\", \\\"gross_rent\\\"], [\\\"2010\\\", \\\"sale_price_sqr_foot\\\"], [\\\"2011\\\", \\\"gross_rent\\\"], [\\\"2011\\\", \\\"sale_price_sqr_foot\\\"], [\\\"2012\\\", \\\"gross_rent\\\"], [\\\"2012\\\", \\\"sale_price_sqr_foot\\\"], [\\\"2013\\\", \\\"gross_rent\\\"], [\\\"2013\\\", \\\"sale_price_sqr_foot\\\"], [\\\"2014\\\", \\\"gross_rent\\\"], [\\\"2014\\\", \\\"sale_price_sqr_foot\\\"], [\\\"2015\\\", \\\"gross_rent\\\"], [\\\"2015\\\", \\\"sale_price_sqr_foot\\\"], [\\\"2016\\\", \\\"gross_rent\\\"], [\\\"2016\\\", \\\"sale_price_sqr_foot\\\"]]}, {\\\"attr\\\": \\\"end\\\", \\\"kind\\\": \\\"ModelChanged\\\", \\\"model\\\": {\\\"id\\\": \\\"2533\\\"}, \\\"new\\\": 4795.926356898081}, {\\\"attr\\\": \\\"reset_end\\\", \\\"kind\\\": \\\"ModelChanged\\\", \\\"model\\\": {\\\"id\\\": \\\"2533\\\"}, \\\"new\\\": 4795.926356898081}, {\\\"attr\\\": \\\"text\\\", \\\"kind\\\": \\\"ModelChanged\\\", \\\"model\\\": {\\\"id\\\": \\\"2536\\\"}, \\\"new\\\": \\\"neighborhood: Central Sunset\\\"}, {\\\"cols\\\": null, \\\"column_source\\\": {\\\"id\\\": \\\"2565\\\"}, \\\"kind\\\": \\\"ColumnDataChanged\\\", \\\"new\\\": {\\\"Variable\\\": [\\\"sale_price_sqr_foot\\\", \\\"sale_price_sqr_foot\\\", \\\"sale_price_sqr_foot\\\", \\\"sale_price_sqr_foot\\\", \\\"sale_price_sqr_foot\\\", \\\"sale_price_sqr_foot\\\", \\\"sale_price_sqr_foot\\\", \\\"gross_rent\\\", \\\"gross_rent\\\", \\\"gross_rent\\\", \\\"gross_rent\\\", \\\"gross_rent\\\", \\\"gross_rent\\\", \\\"gross_rent\\\"], \\\"value\\\": {\\\"__ndarray__\\\": \\\"Bv22h8IiekAzufO80nZ4QOlValPO53RA2XLka8irdEAWLPo234N8QKwFse0RVnxA65hZjfcqgkAAAAAAAFyTQAAAAAAA6JdAAAAAAAAookAAAAAAADanQAAAAAAAkKtAAAAAAAA2rUAAAAAAACaxQA==\\\", \\\"dtype\\\": \\\"float64\\\", \\\"order\\\": \\\"little\\\", \\\"shape\\\": [14]}, \\\"xoffsets\\\": [[\\\"2010\\\", \\\"sale_price_sqr_foot\\\"], [\\\"2011\\\", \\\"sale_price_sqr_foot\\\"], [\\\"2012\\\", \\\"sale_price_sqr_foot\\\"], [\\\"2013\\\", \\\"sale_price_sqr_foot\\\"], [\\\"2014\\\", \\\"sale_price_sqr_foot\\\"], [\\\"2015\\\", \\\"sale_price_sqr_foot\\\"], [\\\"2016\\\", \\\"sale_price_sqr_foot\\\"], [\\\"2010\\\", \\\"gross_rent\\\"], [\\\"2011\\\", \\\"gross_rent\\\"], [\\\"2012\\\", \\\"gross_rent\\\"], [\\\"2013\\\", \\\"gross_rent\\\"], [\\\"2014\\\", \\\"gross_rent\\\"], [\\\"2015\\\", \\\"gross_rent\\\"], [\\\"2016\\\", \\\"gross_rent\\\"]], \\\"year\\\": [\\\"2010\\\", \\\"2011\\\", \\\"2012\\\", \\\"2013\\\", \\\"2014\\\", \\\"2015\\\", \\\"2016\\\", \\\"2010\\\", \\\"2011\\\", \\\"2012\\\", \\\"2013\\\", \\\"2014\\\", \\\"2015\\\", \\\"2016\\\"]}}], \\\"references\\\": []}\",\"header\":\"{\\\"msgid\\\": \\\"2962\\\", \\\"msgtype\\\": \\\"PATCH-DOC\\\"}\",\"metadata\":\"{}\"},\"Clarendon Heights\":{\"content\":\"{\\\"events\\\": [{\\\"attr\\\": \\\"factors\\\", \\\"kind\\\": \\\"ModelChanged\\\", \\\"model\\\": {\\\"id\\\": \\\"2532\\\"}, \\\"new\\\": [[\\\"2011\\\", \\\"gross_rent\\\"], [\\\"2011\\\", \\\"sale_price_sqr_foot\\\"], [\\\"2013\\\", \\\"gross_rent\\\"], [\\\"2013\\\", \\\"sale_price_sqr_foot\\\"]]}, {\\\"attr\\\": \\\"end\\\", \\\"kind\\\": \\\"ModelChanged\\\", \\\"model\\\": {\\\"id\\\": \\\"2533\\\"}, \\\"new\\\": 3222.722839547803}, {\\\"attr\\\": \\\"reset_end\\\", \\\"kind\\\": \\\"ModelChanged\\\", \\\"model\\\": {\\\"id\\\": \\\"2533\\\"}, \\\"new\\\": 3222.722839547803}, {\\\"attr\\\": \\\"text\\\", \\\"kind\\\": \\\"ModelChanged\\\", \\\"model\\\": {\\\"id\\\": \\\"2536\\\"}, \\\"new\\\": \\\"neighborhood: Clarendon Heights\\\"}, {\\\"cols\\\": null, \\\"column_source\\\": {\\\"id\\\": \\\"2565\\\"}, \\\"kind\\\": \\\"ColumnDataChanged\\\", \\\"new\\\": {\\\"Variable\\\": [\\\"sale_price_sqr_foot\\\", \\\"sale_price_sqr_foot\\\", \\\"gross_rent\\\", \\\"gross_rent\\\"], \\\"value\\\": {\\\"__ndarray__\\\": \\\"2UWezr5FgEAOtft9WFx8QAAAAAAA6JdAAAAAAAA2p0A=\\\", \\\"dtype\\\": \\\"float64\\\", \\\"order\\\": \\\"little\\\", \\\"shape\\\": [4]}, \\\"xoffsets\\\": [[\\\"2011\\\", \\\"sale_price_sqr_foot\\\"], [\\\"2013\\\", \\\"sale_price_sqr_foot\\\"], [\\\"2011\\\", \\\"gross_rent\\\"], [\\\"2013\\\", \\\"gross_rent\\\"]], \\\"year\\\": [\\\"2011\\\", \\\"2013\\\", \\\"2011\\\", \\\"2013\\\"]}}], \\\"references\\\": []}\",\"header\":\"{\\\"msgid\\\": \\\"2957\\\", \\\"msgtype\\\": \\\"PATCH-DOC\\\"}\",\"metadata\":\"{}\"},\"Corona Heights\":{\"content\":\"{\\\"events\\\": [{\\\"attr\\\": \\\"factors\\\", \\\"kind\\\": \\\"ModelChanged\\\", \\\"model\\\": {\\\"id\\\": \\\"2532\\\"}, \\\"new\\\": [[\\\"2010\\\", \\\"gross_rent\\\"], [\\\"2010\\\", \\\"sale_price_sqr_foot\\\"], [\\\"2011\\\", \\\"gross_rent\\\"], [\\\"2011\\\", \\\"sale_price_sqr_foot\\\"], [\\\"2012\\\", \\\"gross_rent\\\"], [\\\"2012\\\", \\\"sale_price_sqr_foot\\\"], [\\\"2014\\\", \\\"gross_rent\\\"], [\\\"2014\\\", \\\"sale_price_sqr_foot\\\"], [\\\"2015\\\", \\\"gross_rent\\\"], [\\\"2015\\\", \\\"sale_price_sqr_foot\\\"]]}, {\\\"attr\\\": \\\"end\\\", \\\"kind\\\": \\\"ModelChanged\\\", \\\"model\\\": {\\\"id\\\": \\\"2533\\\"}, \\\"new\\\": 4090.6432151952304}, {\\\"attr\\\": \\\"reset_end\\\", \\\"kind\\\": \\\"ModelChanged\\\", \\\"model\\\": {\\\"id\\\": \\\"2533\\\"}, \\\"new\\\": 4090.6432151952304}, {\\\"attr\\\": \\\"text\\\", \\\"kind\\\": \\\"ModelChanged\\\", \\\"model\\\": {\\\"id\\\": \\\"2536\\\"}, \\\"new\\\": \\\"neighborhood: Corona Heights\\\"}, {\\\"cols\\\": null, \\\"column_source\\\": {\\\"id\\\": \\\"2565\\\"}, \\\"kind\\\": \\\"ColumnDataChanged\\\", \\\"new\\\": {\\\"Variable\\\": [\\\"sale_price_sqr_foot\\\", \\\"sale_price_sqr_foot\\\", \\\"sale_price_sqr_foot\\\", \\\"sale_price_sqr_foot\\\", \\\"sale_price_sqr_foot\\\", \\\"gross_rent\\\", \\\"gross_rent\\\", \\\"gross_rent\\\", \\\"gross_rent\\\", \\\"gross_rent\\\"], \\\"value\\\": {\\\"__ndarray__\\\": \\\"of802b8Vd0B1PqvPK9JrQGuzdI63THZAEx6pB3XBi0CNbawuKjORQAAAAAAAXJNAAAAAAADol0AAAAAAACiiQAAAAAAAkKtAAAAAAAA2rUA=\\\", \\\"dtype\\\": \\\"float64\\\", \\\"order\\\": \\\"little\\\", \\\"shape\\\": [10]}, \\\"xoffsets\\\": [[\\\"2010\\\", \\\"sale_price_sqr_foot\\\"], [\\\"2011\\\", \\\"sale_price_sqr_foot\\\"], [\\\"2012\\\", \\\"sale_price_sqr_foot\\\"], [\\\"2014\\\", \\\"sale_price_sqr_foot\\\"], [\\\"2015\\\", \\\"sale_price_sqr_foot\\\"], [\\\"2010\\\", \\\"gross_rent\\\"], [\\\"2011\\\", \\\"gross_rent\\\"], [\\\"2012\\\", \\\"gross_rent\\\"], [\\\"2014\\\", \\\"gross_rent\\\"], [\\\"2015\\\", \\\"gross_rent\\\"]], \\\"year\\\": [\\\"2010\\\", \\\"2011\\\", \\\"2012\\\", \\\"2014\\\", \\\"2015\\\", \\\"2010\\\", \\\"2011\\\", \\\"2012\\\", \\\"2014\\\", \\\"2015\\\"]}}], \\\"references\\\": []}\",\"header\":\"{\\\"msgid\\\": \\\"2952\\\", \\\"msgtype\\\": \\\"PATCH-DOC\\\"}\",\"metadata\":\"{}\"},\"Cow Hollow\":{\"content\":\"{\\\"events\\\": [{\\\"attr\\\": \\\"factors\\\", \\\"kind\\\": \\\"ModelChanged\\\", \\\"model\\\": {\\\"id\\\": \\\"2532\\\"}, \\\"new\\\": [[\\\"2010\\\", \\\"gross_rent\\\"], [\\\"2010\\\", \\\"sale_price_sqr_foot\\\"], [\\\"2011\\\", \\\"gross_rent\\\"], [\\\"2011\\\", \\\"sale_price_sqr_foot\\\"], [\\\"2012\\\", \\\"gross_rent\\\"], [\\\"2012\\\", \\\"sale_price_sqr_foot\\\"], [\\\"2013\\\", \\\"gross_rent\\\"], [\\\"2013\\\", \\\"sale_price_sqr_foot\\\"], [\\\"2014\\\", \\\"gross_rent\\\"], [\\\"2014\\\", \\\"sale_price_sqr_foot\\\"], [\\\"2015\\\", \\\"gross_rent\\\"], [\\\"2015\\\", \\\"sale_price_sqr_foot\\\"], [\\\"2016\\\", \\\"gross_rent\\\"], [\\\"2016\\\", \\\"sale_price_sqr_foot\\\"]]}, {\\\"attr\\\": \\\"end\\\", \\\"kind\\\": \\\"ModelChanged\\\", \\\"model\\\": {\\\"id\\\": \\\"2533\\\"}, \\\"new\\\": 4789.940434697159}, {\\\"attr\\\": \\\"reset_end\\\", \\\"kind\\\": \\\"ModelChanged\\\", \\\"model\\\": {\\\"id\\\": \\\"2533\\\"}, \\\"new\\\": 4789.940434697159}, {\\\"attr\\\": \\\"text\\\", \\\"kind\\\": \\\"ModelChanged\\\", \\\"model\\\": {\\\"id\\\": \\\"2536\\\"}, \\\"new\\\": \\\"neighborhood: Cow Hollow\\\"}, {\\\"cols\\\": null, \\\"column_source\\\": {\\\"id\\\": \\\"2565\\\"}, \\\"kind\\\": \\\"ColumnDataChanged\\\", \\\"new\\\": {\\\"Variable\\\": [\\\"sale_price_sqr_foot\\\", \\\"sale_price_sqr_foot\\\", \\\"sale_price_sqr_foot\\\", \\\"sale_price_sqr_foot\\\", \\\"sale_price_sqr_foot\\\", \\\"sale_price_sqr_foot\\\", \\\"sale_price_sqr_foot\\\", \\\"gross_rent\\\", \\\"gross_rent\\\", \\\"gross_rent\\\", \\\"gross_rent\\\", \\\"gross_rent\\\", \\\"gross_rent\\\", \\\"gross_rent\\\"], \\\"value\\\": {\\\"__ndarray__\\\": \\\"LMKfLArLgUAbTXjLh2l4QAnYXuSLJoRAMODd8zgbhkCYJdtc7J6FQJ+1dd72tIJAlnINLUOMkEAAAAAAAFyTQAAAAAAA6JdAAAAAAAAookAAAAAAADanQAAAAAAAkKtAAAAAAAA2rUAAAAAAACaxQA==\\\", \\\"dtype\\\": \\\"float64\\\", \\\"order\\\": \\\"little\\\", \\\"shape\\\": [14]}, \\\"xoffsets\\\": [[\\\"2010\\\", \\\"sale_price_sqr_foot\\\"], [\\\"2011\\\", \\\"sale_price_sqr_foot\\\"], [\\\"2012\\\", \\\"sale_price_sqr_foot\\\"], [\\\"2013\\\", \\\"sale_price_sqr_foot\\\"], [\\\"2014\\\", \\\"sale_price_sqr_foot\\\"], [\\\"2015\\\", \\\"sale_price_sqr_foot\\\"], [\\\"2016\\\", \\\"sale_price_sqr_foot\\\"], [\\\"2010\\\", \\\"gross_rent\\\"], [\\\"2011\\\", \\\"gross_rent\\\"], [\\\"2012\\\", \\\"gross_rent\\\"], [\\\"2013\\\", \\\"gross_rent\\\"], [\\\"2014\\\", \\\"gross_rent\\\"], [\\\"2015\\\", \\\"gross_rent\\\"], [\\\"2016\\\", \\\"gross_rent\\\"]], \\\"year\\\": [\\\"2010\\\", \\\"2011\\\", \\\"2012\\\", \\\"2013\\\", \\\"2014\\\", \\\"2015\\\", \\\"2016\\\", \\\"2010\\\", \\\"2011\\\", \\\"2012\\\", \\\"2013\\\", \\\"2014\\\", \\\"2015\\\", \\\"2016\\\"]}}], \\\"references\\\": []}\",\"header\":\"{\\\"msgid\\\": \\\"2947\\\", \\\"msgtype\\\": \\\"PATCH-DOC\\\"}\",\"metadata\":\"{}\"},\"Croker Amazon\":{\"content\":\"{\\\"events\\\": [{\\\"attr\\\": \\\"factors\\\", \\\"kind\\\": \\\"ModelChanged\\\", \\\"model\\\": {\\\"id\\\": \\\"2532\\\"}, \\\"new\\\": [[\\\"2010\\\", \\\"gross_rent\\\"], [\\\"2010\\\", \\\"sale_price_sqr_foot\\\"], [\\\"2011\\\", \\\"gross_rent\\\"], [\\\"2011\\\", \\\"sale_price_sqr_foot\\\"], [\\\"2012\\\", \\\"gross_rent\\\"], [\\\"2012\\\", \\\"sale_price_sqr_foot\\\"], [\\\"2013\\\", \\\"gross_rent\\\"], [\\\"2013\\\", \\\"sale_price_sqr_foot\\\"], [\\\"2015\\\", \\\"gross_rent\\\"], [\\\"2015\\\", \\\"sale_price_sqr_foot\\\"], [\\\"2016\\\", \\\"gross_rent\\\"], [\\\"2016\\\", \\\"sale_price_sqr_foot\\\"]]}, {\\\"attr\\\": \\\"end\\\", \\\"kind\\\": \\\"ModelChanged\\\", \\\"model\\\": {\\\"id\\\": \\\"2533\\\"}, \\\"new\\\": 4814.414661972406}, {\\\"attr\\\": \\\"reset_end\\\", \\\"kind\\\": \\\"ModelChanged\\\", \\\"model\\\": {\\\"id\\\": \\\"2533\\\"}, \\\"new\\\": 4814.414661972406}, {\\\"attr\\\": \\\"text\\\", \\\"kind\\\": \\\"ModelChanged\\\", \\\"model\\\": {\\\"id\\\": \\\"2536\\\"}, \\\"new\\\": \\\"neighborhood: Croker Amazon\\\"}, {\\\"cols\\\": null, \\\"column_source\\\": {\\\"id\\\": \\\"2565\\\"}, \\\"kind\\\": \\\"ColumnDataChanged\\\", \\\"new\\\": {\\\"Variable\\\": [\\\"sale_price_sqr_foot\\\", \\\"sale_price_sqr_foot\\\", \\\"sale_price_sqr_foot\\\", \\\"sale_price_sqr_foot\\\", \\\"sale_price_sqr_foot\\\", \\\"sale_price_sqr_foot\\\", \\\"gross_rent\\\", \\\"gross_rent\\\", \\\"gross_rent\\\", \\\"gross_rent\\\", \\\"gross_rent\\\", \\\"gross_rent\\\"], \\\"value\\\": {\\\"__ndarray__\\\": \\\"4fEY0qm0ZED4BifkTjtiQGWBeAhy8XlAM4U057Tja0B+YXb65dlyQJU9LgKctYFAAAAAAABck0AAAAAAAOiXQAAAAAAAKKJAAAAAAAA2p0AAAAAAADatQAAAAAAAJrFA\\\", \\\"dtype\\\": \\\"float64\\\", \\\"order\\\": \\\"little\\\", \\\"shape\\\": [12]}, \\\"xoffsets\\\": [[\\\"2010\\\", \\\"sale_price_sqr_foot\\\"], [\\\"2011\\\", \\\"sale_price_sqr_foot\\\"], [\\\"2012\\\", \\\"sale_price_sqr_foot\\\"], [\\\"2013\\\", \\\"sale_price_sqr_foot\\\"], [\\\"2015\\\", \\\"sale_price_sqr_foot\\\"], [\\\"2016\\\", \\\"sale_price_sqr_foot\\\"], [\\\"2010\\\", \\\"gross_rent\\\"], [\\\"2011\\\", \\\"gross_rent\\\"], [\\\"2012\\\", \\\"gross_rent\\\"], [\\\"2013\\\", \\\"gross_rent\\\"], [\\\"2015\\\", \\\"gross_rent\\\"], [\\\"2016\\\", \\\"gross_rent\\\"]], \\\"year\\\": [\\\"2010\\\", \\\"2011\\\", \\\"2012\\\", \\\"2013\\\", \\\"2015\\\", \\\"2016\\\", \\\"2010\\\", \\\"2011\\\", \\\"2012\\\", \\\"2013\\\", \\\"2015\\\", \\\"2016\\\"]}}], \\\"references\\\": []}\",\"header\":\"{\\\"msgid\\\": \\\"2942\\\", \\\"msgtype\\\": \\\"PATCH-DOC\\\"}\",\"metadata\":\"{}\"},\"Diamond Heights\":{\"content\":\"{\\\"events\\\": [{\\\"attr\\\": \\\"factors\\\", \\\"kind\\\": \\\"ModelChanged\\\", \\\"model\\\": {\\\"id\\\": \\\"2532\\\"}, \\\"new\\\": [[\\\"2010\\\", \\\"gross_rent\\\"], [\\\"2010\\\", \\\"sale_price_sqr_foot\\\"], [\\\"2011\\\", \\\"gross_rent\\\"], [\\\"2011\\\", \\\"sale_price_sqr_foot\\\"], [\\\"2012\\\", \\\"gross_rent\\\"], [\\\"2012\\\", \\\"sale_price_sqr_foot\\\"], [\\\"2013\\\", \\\"gross_rent\\\"], [\\\"2013\\\", \\\"sale_price_sqr_foot\\\"]]}, {\\\"attr\\\": \\\"end\\\", \\\"kind\\\": \\\"ModelChanged\\\", \\\"model\\\": {\\\"id\\\": \\\"2533\\\"}, \\\"new\\\": 3231.400457248873}, {\\\"attr\\\": \\\"reset_end\\\", \\\"kind\\\": \\\"ModelChanged\\\", \\\"model\\\": {\\\"id\\\": \\\"2533\\\"}, \\\"new\\\": 3231.400457248873}, {\\\"attr\\\": \\\"text\\\", \\\"kind\\\": \\\"ModelChanged\\\", \\\"model\\\": {\\\"id\\\": \\\"2536\\\"}, \\\"new\\\": \\\"neighborhood: Diamond Heights\\\"}, {\\\"cols\\\": null, \\\"column_source\\\": {\\\"id\\\": \\\"2565\\\"}, \\\"kind\\\": \\\"ColumnDataChanged\\\", \\\"new\\\": {\\\"Variable\\\": [\\\"sale_price_sqr_foot\\\", \\\"sale_price_sqr_foot\\\", \\\"sale_price_sqr_foot\\\", \\\"sale_price_sqr_foot\\\", \\\"gross_rent\\\", \\\"gross_rent\\\", \\\"gross_rent\\\", \\\"gross_rent\\\"], \\\"value\\\": {\\\"__ndarray__\\\": \\\"CCbRpeSOfECTXH/couV3QEfnZUXt73ZAKTeB8IGtgEAAAAAAAFyTQAAAAAAA6JdAAAAAAAAookAAAAAAADanQA==\\\", \\\"dtype\\\": \\\"float64\\\", \\\"order\\\": \\\"little\\\", \\\"shape\\\": [8]}, \\\"xoffsets\\\": [[\\\"2010\\\", \\\"sale_price_sqr_foot\\\"], [\\\"2011\\\", \\\"sale_price_sqr_foot\\\"], [\\\"2012\\\", \\\"sale_price_sqr_foot\\\"], [\\\"2013\\\", \\\"sale_price_sqr_foot\\\"], [\\\"2010\\\", \\\"gross_rent\\\"], [\\\"2011\\\", \\\"gross_rent\\\"], [\\\"2012\\\", \\\"gross_rent\\\"], [\\\"2013\\\", \\\"gross_rent\\\"]], \\\"year\\\": [\\\"2010\\\", \\\"2011\\\", \\\"2012\\\", \\\"2013\\\", \\\"2010\\\", \\\"2011\\\", \\\"2012\\\", \\\"2013\\\"]}}], \\\"references\\\": []}\",\"header\":\"{\\\"msgid\\\": \\\"2937\\\", \\\"msgtype\\\": \\\"PATCH-DOC\\\"}\",\"metadata\":\"{}\"},\"Downtown \":{\"content\":\"{\\\"events\\\": [{\\\"attr\\\": \\\"factors\\\", \\\"kind\\\": \\\"ModelChanged\\\", \\\"model\\\": {\\\"id\\\": \\\"2532\\\"}, \\\"new\\\": [[\\\"2010\\\", \\\"gross_rent\\\"], [\\\"2010\\\", \\\"sale_price_sqr_foot\\\"], [\\\"2011\\\", \\\"gross_rent\\\"], [\\\"2011\\\", \\\"sale_price_sqr_foot\\\"], [\\\"2012\\\", \\\"gross_rent\\\"], [\\\"2012\\\", \\\"sale_price_sqr_foot\\\"], [\\\"2013\\\", \\\"gross_rent\\\"], [\\\"2013\\\", \\\"sale_price_sqr_foot\\\"], [\\\"2014\\\", \\\"gross_rent\\\"], [\\\"2014\\\", \\\"sale_price_sqr_foot\\\"], [\\\"2015\\\", \\\"gross_rent\\\"], [\\\"2015\\\", \\\"sale_price_sqr_foot\\\"], [\\\"2016\\\", \\\"gross_rent\\\"], [\\\"2016\\\", \\\"sale_price_sqr_foot\\\"]]}, {\\\"attr\\\": \\\"end\\\", \\\"kind\\\": \\\"ModelChanged\\\", \\\"model\\\": {\\\"id\\\": \\\"2533\\\"}, \\\"new\\\": 4805.571837648965}, {\\\"attr\\\": \\\"reset_end\\\", \\\"kind\\\": \\\"ModelChanged\\\", \\\"model\\\": {\\\"id\\\": \\\"2533\\\"}, \\\"new\\\": 4805.571837648965}, {\\\"attr\\\": \\\"text\\\", \\\"kind\\\": \\\"ModelChanged\\\", \\\"model\\\": {\\\"id\\\": \\\"2536\\\"}, \\\"new\\\": \\\"neighborhood: Downtown\\\"}, {\\\"cols\\\": null, \\\"column_source\\\": {\\\"id\\\": \\\"2565\\\"}, \\\"kind\\\": \\\"ColumnDataChanged\\\", \\\"new\\\": {\\\"Variable\\\": [\\\"sale_price_sqr_foot\\\", \\\"sale_price_sqr_foot\\\", \\\"sale_price_sqr_foot\\\", \\\"sale_price_sqr_foot\\\", \\\"sale_price_sqr_foot\\\", \\\"sale_price_sqr_foot\\\", \\\"sale_price_sqr_foot\\\", \\\"gross_rent\\\", \\\"gross_rent\\\", \\\"gross_rent\\\", \\\"gross_rent\\\", \\\"gross_rent\\\", \\\"gross_rent\\\", \\\"gross_rent\\\"], \\\"value\\\": {\\\"__ndarray__\\\": \\\"6c744745bkA52E4PA0ltQGAISaHA0XBArpUZa0aXdkCJO7vgn8t6QBz07a4wXn5AvXKD8jZ2hkAAAAAAAFyTQAAAAAAA6JdAAAAAAAAookAAAAAAADanQAAAAAAAkKtAAAAAAAA2rUAAAAAAACaxQA==\\\", \\\"dtype\\\": \\\"float64\\\", \\\"order\\\": \\\"little\\\", \\\"shape\\\": [14]}, \\\"xoffsets\\\": [[\\\"2010\\\", \\\"sale_price_sqr_foot\\\"], [\\\"2011\\\", \\\"sale_price_sqr_foot\\\"], [\\\"2012\\\", \\\"sale_price_sqr_foot\\\"], [\\\"2013\\\", \\\"sale_price_sqr_foot\\\"], [\\\"2014\\\", \\\"sale_price_sqr_foot\\\"], [\\\"2015\\\", \\\"sale_price_sqr_foot\\\"], [\\\"2016\\\", \\\"sale_price_sqr_foot\\\"], [\\\"2010\\\", \\\"gross_rent\\\"], [\\\"2011\\\", \\\"gross_rent\\\"], [\\\"2012\\\", \\\"gross_rent\\\"], [\\\"2013\\\", \\\"gross_rent\\\"], [\\\"2014\\\", \\\"gross_rent\\\"], [\\\"2015\\\", \\\"gross_rent\\\"], [\\\"2016\\\", \\\"gross_rent\\\"]], \\\"year\\\": [\\\"2010\\\", \\\"2011\\\", \\\"2012\\\", \\\"2013\\\", \\\"2014\\\", \\\"2015\\\", \\\"2016\\\", \\\"2010\\\", \\\"2011\\\", \\\"2012\\\", \\\"2013\\\", \\\"2014\\\", \\\"2015\\\", \\\"2016\\\"]}}], \\\"references\\\": []}\",\"header\":\"{\\\"msgid\\\": \\\"2932\\\", \\\"msgtype\\\": \\\"PATCH-DOC\\\"}\",\"metadata\":\"{}\"},\"Duboce Triangle\":{\"content\":\"{\\\"events\\\": [{\\\"attr\\\": \\\"factors\\\", \\\"kind\\\": \\\"ModelChanged\\\", \\\"model\\\": {\\\"id\\\": \\\"2532\\\"}, \\\"new\\\": [[\\\"2011\\\", \\\"gross_rent\\\"], [\\\"2011\\\", \\\"sale_price_sqr_foot\\\"], [\\\"2012\\\", \\\"gross_rent\\\"], [\\\"2012\\\", \\\"sale_price_sqr_foot\\\"], [\\\"2014\\\", \\\"gross_rent\\\"], [\\\"2014\\\", \\\"sale_price_sqr_foot\\\"], [\\\"2015\\\", \\\"gross_rent\\\"], [\\\"2015\\\", \\\"sale_price_sqr_foot\\\"]]}, {\\\"attr\\\": \\\"end\\\", \\\"kind\\\": \\\"ModelChanged\\\", \\\"model\\\": {\\\"id\\\": \\\"2533\\\"}, \\\"new\\\": 4083.3220621770774}, {\\\"attr\\\": \\\"reset_end\\\", \\\"kind\\\": \\\"ModelChanged\\\", \\\"model\\\": {\\\"id\\\": \\\"2533\\\"}, \\\"new\\\": 4083.3220621770774}, {\\\"attr\\\": \\\"text\\\", \\\"kind\\\": \\\"ModelChanged\\\", \\\"model\\\": {\\\"id\\\": \\\"2536\\\"}, \\\"new\\\": \\\"neighborhood: Duboce Triangle\\\"}, {\\\"cols\\\": null, \\\"column_source\\\": {\\\"id\\\": \\\"2565\\\"}, \\\"kind\\\": \\\"ColumnDataChanged\\\", \\\"new\\\": {\\\"Variable\\\": [\\\"sale_price_sqr_foot\\\", \\\"sale_price_sqr_foot\\\", \\\"sale_price_sqr_foot\\\", \\\"sale_price_sqr_foot\\\", \\\"gross_rent\\\", \\\"gross_rent\\\", \\\"gross_rent\\\", \\\"gross_rent\\\"], \\\"value\\\": {\\\"__ndarray__\\\": \\\"6FtOVXh8ckCp7K1zj0p8QIjRLwZ+soNAN/KXXSq9g0AAAAAAAOiXQAAAAAAAKKJAAAAAAACQq0AAAAAAADatQA==\\\", \\\"dtype\\\": \\\"float64\\\", \\\"order\\\": \\\"little\\\", \\\"shape\\\": [8]}, \\\"xoffsets\\\": [[\\\"2011\\\", \\\"sale_price_sqr_foot\\\"], [\\\"2012\\\", \\\"sale_price_sqr_foot\\\"], [\\\"2014\\\", \\\"sale_price_sqr_foot\\\"], [\\\"2015\\\", \\\"sale_price_sqr_foot\\\"], [\\\"2011\\\", \\\"gross_rent\\\"], [\\\"2012\\\", \\\"gross_rent\\\"], [\\\"2014\\\", \\\"gross_rent\\\"], [\\\"2015\\\", \\\"gross_rent\\\"]], \\\"year\\\": [\\\"2011\\\", \\\"2012\\\", \\\"2014\\\", \\\"2015\\\", \\\"2011\\\", \\\"2012\\\", \\\"2014\\\", \\\"2015\\\"]}}], \\\"references\\\": []}\",\"header\":\"{\\\"msgid\\\": \\\"2927\\\", \\\"msgtype\\\": \\\"PATCH-DOC\\\"}\",\"metadata\":\"{}\"},\"Eureka Valley/Dolores Heights\":{\"content\":\"{\\\"events\\\": [{\\\"attr\\\": \\\"factors\\\", \\\"kind\\\": \\\"ModelChanged\\\", \\\"model\\\": {\\\"id\\\": \\\"2532\\\"}, \\\"new\\\": [[\\\"2010\\\", \\\"gross_rent\\\"], [\\\"2010\\\", \\\"sale_price_sqr_foot\\\"], [\\\"2011\\\", \\\"gross_rent\\\"], [\\\"2011\\\", \\\"sale_price_sqr_foot\\\"], [\\\"2012\\\", \\\"gross_rent\\\"], [\\\"2012\\\", \\\"sale_price_sqr_foot\\\"], [\\\"2013\\\", \\\"gross_rent\\\"], [\\\"2013\\\", \\\"sale_price_sqr_foot\\\"], [\\\"2014\\\", \\\"gross_rent\\\"], [\\\"2014\\\", \\\"sale_price_sqr_foot\\\"], [\\\"2015\\\", \\\"gross_rent\\\"], [\\\"2015\\\", \\\"sale_price_sqr_foot\\\"], [\\\"2016\\\", \\\"gross_rent\\\"], [\\\"2016\\\", \\\"sale_price_sqr_foot\\\"]]}, {\\\"attr\\\": \\\"end\\\", \\\"kind\\\": \\\"ModelChanged\\\", \\\"model\\\": {\\\"id\\\": \\\"2533\\\"}, \\\"new\\\": 4788.688168735091}, {\\\"attr\\\": \\\"reset_end\\\", \\\"kind\\\": \\\"ModelChanged\\\", \\\"model\\\": {\\\"id\\\": \\\"2533\\\"}, \\\"new\\\": 4788.688168735091}, {\\\"attr\\\": \\\"text\\\", \\\"kind\\\": \\\"ModelChanged\\\", \\\"model\\\": {\\\"id\\\": \\\"2536\\\"}, \\\"new\\\": \\\"neighborhood: Eureka Valley/Dolores Heights\\\"}, {\\\"cols\\\": null, \\\"column_source\\\": {\\\"id\\\": \\\"2565\\\"}, \\\"kind\\\": \\\"ColumnDataChanged\\\", \\\"new\\\": {\\\"Variable\\\": [\\\"sale_price_sqr_foot\\\", \\\"sale_price_sqr_foot\\\", \\\"sale_price_sqr_foot\\\", \\\"sale_price_sqr_foot\\\", \\\"sale_price_sqr_foot\\\", \\\"sale_price_sqr_foot\\\", \\\"sale_price_sqr_foot\\\", \\\"gross_rent\\\", \\\"gross_rent\\\", \\\"gross_rent\\\", \\\"gross_rent\\\", \\\"gross_rent\\\", \\\"gross_rent\\\", \\\"gross_rent\\\"], \\\"value\\\": {\\\"__ndarray__\\\": \\\"TunNm+QxeUDoLWfYmtJ5QBwUV+GBZoBAWlX6So8Fg0CqdEN11seGQNdjWGVxsYhAgjgXGCoLkEAAAAAAAFyTQAAAAAAA6JdAAAAAAAAookAAAAAAADanQAAAAAAAkKtAAAAAAAA2rUAAAAAAACaxQA==\\\", \\\"dtype\\\": \\\"float64\\\", \\\"order\\\": \\\"little\\\", \\\"shape\\\": [14]}, \\\"xoffsets\\\": [[\\\"2010\\\", \\\"sale_price_sqr_foot\\\"], [\\\"2011\\\", \\\"sale_price_sqr_foot\\\"], [\\\"2012\\\", \\\"sale_price_sqr_foot\\\"], [\\\"2013\\\", \\\"sale_price_sqr_foot\\\"], [\\\"2014\\\", \\\"sale_price_sqr_foot\\\"], [\\\"2015\\\", \\\"sale_price_sqr_foot\\\"], [\\\"2016\\\", \\\"sale_price_sqr_foot\\\"], [\\\"2010\\\", \\\"gross_rent\\\"], [\\\"2011\\\", \\\"gross_rent\\\"], [\\\"2012\\\", \\\"gross_rent\\\"], [\\\"2013\\\", \\\"gross_rent\\\"], [\\\"2014\\\", \\\"gross_rent\\\"], [\\\"2015\\\", \\\"gross_rent\\\"], [\\\"2016\\\", \\\"gross_rent\\\"]], \\\"year\\\": [\\\"2010\\\", \\\"2011\\\", \\\"2012\\\", \\\"2013\\\", \\\"2014\\\", \\\"2015\\\", \\\"2016\\\", \\\"2010\\\", \\\"2011\\\", \\\"2012\\\", \\\"2013\\\", \\\"2014\\\", \\\"2015\\\", \\\"2016\\\"]}}], \\\"references\\\": []}\",\"header\":\"{\\\"msgid\\\": \\\"2922\\\", \\\"msgtype\\\": \\\"PATCH-DOC\\\"}\",\"metadata\":\"{}\"},\"Excelsior\":{\"content\":\"{\\\"events\\\": [{\\\"attr\\\": \\\"factors\\\", \\\"kind\\\": \\\"ModelChanged\\\", \\\"model\\\": {\\\"id\\\": \\\"2532\\\"}, \\\"new\\\": [[\\\"2010\\\", \\\"gross_rent\\\"], [\\\"2010\\\", \\\"sale_price_sqr_foot\\\"], [\\\"2012\\\", \\\"gross_rent\\\"], [\\\"2012\\\", \\\"sale_price_sqr_foot\\\"], [\\\"2013\\\", \\\"gross_rent\\\"], [\\\"2013\\\", \\\"sale_price_sqr_foot\\\"], [\\\"2014\\\", \\\"gross_rent\\\"], [\\\"2014\\\", \\\"sale_price_sqr_foot\\\"], [\\\"2015\\\", \\\"gross_rent\\\"], [\\\"2015\\\", \\\"sale_price_sqr_foot\\\"], [\\\"2016\\\", \\\"gross_rent\\\"], [\\\"2016\\\", \\\"sale_price_sqr_foot\\\"]]}, {\\\"attr\\\": \\\"end\\\", \\\"kind\\\": \\\"ModelChanged\\\", \\\"model\\\": {\\\"id\\\": \\\"2533\\\"}, \\\"new\\\": 4800.025033429156}, {\\\"attr\\\": \\\"reset_end\\\", \\\"kind\\\": \\\"ModelChanged\\\", \\\"model\\\": {\\\"id\\\": \\\"2533\\\"}, \\\"new\\\": 4800.025033429156}, {\\\"attr\\\": \\\"text\\\", \\\"kind\\\": \\\"ModelChanged\\\", \\\"model\\\": {\\\"id\\\": \\\"2536\\\"}, \\\"new\\\": \\\"neighborhood: Excelsior\\\"}, {\\\"cols\\\": null, \\\"column_source\\\": {\\\"id\\\": \\\"2565\\\"}, \\\"kind\\\": \\\"ColumnDataChanged\\\", \\\"new\\\": {\\\"Variable\\\": [\\\"sale_price_sqr_foot\\\", \\\"sale_price_sqr_foot\\\", \\\"sale_price_sqr_foot\\\", \\\"sale_price_sqr_foot\\\", \\\"sale_price_sqr_foot\\\", \\\"sale_price_sqr_foot\\\", \\\"gross_rent\\\", \\\"gross_rent\\\", \\\"gross_rent\\\", \\\"gross_rent\\\", \\\"gross_rent\\\", \\\"gross_rent\\\"], \\\"value\\\": {\\\"__ndarray__\\\": \\\"rTyLdtrOdkBN5gLDezB3QMhKeKH+G3JAVqH/QeJkdkAIVY6WseV5QJMvOlzPsYBAAAAAAABck0AAAAAAACiiQAAAAAAANqdAAAAAAACQq0AAAAAAADatQAAAAAAAJrFA\\\", \\\"dtype\\\": \\\"float64\\\", \\\"order\\\": \\\"little\\\", \\\"shape\\\": [12]}, \\\"xoffsets\\\": [[\\\"2010\\\", \\\"sale_price_sqr_foot\\\"], [\\\"2012\\\", \\\"sale_price_sqr_foot\\\"], [\\\"2013\\\", \\\"sale_price_sqr_foot\\\"], [\\\"2014\\\", \\\"sale_price_sqr_foot\\\"], [\\\"2015\\\", \\\"sale_price_sqr_foot\\\"], [\\\"2016\\\", \\\"sale_price_sqr_foot\\\"], [\\\"2010\\\", \\\"gross_rent\\\"], [\\\"2012\\\", \\\"gross_rent\\\"], [\\\"2013\\\", \\\"gross_rent\\\"], [\\\"2014\\\", \\\"gross_rent\\\"], [\\\"2015\\\", \\\"gross_rent\\\"], [\\\"2016\\\", \\\"gross_rent\\\"]], \\\"year\\\": [\\\"2010\\\", \\\"2012\\\", \\\"2013\\\", \\\"2014\\\", \\\"2015\\\", \\\"2016\\\", \\\"2010\\\", \\\"2012\\\", \\\"2013\\\", \\\"2014\\\", \\\"2015\\\", \\\"2016\\\"]}}], \\\"references\\\": []}\",\"header\":\"{\\\"msgid\\\": \\\"2917\\\", \\\"msgtype\\\": \\\"PATCH-DOC\\\"}\",\"metadata\":\"{}\"},\"Financial District North\":{\"content\":\"{\\\"events\\\": [{\\\"attr\\\": \\\"factors\\\", \\\"kind\\\": \\\"ModelChanged\\\", \\\"model\\\": {\\\"id\\\": \\\"2532\\\"}, \\\"new\\\": [[\\\"2010\\\", \\\"gross_rent\\\"], [\\\"2010\\\", \\\"sale_price_sqr_foot\\\"], [\\\"2011\\\", \\\"gross_rent\\\"], [\\\"2011\\\", \\\"sale_price_sqr_foot\\\"], [\\\"2012\\\", \\\"gross_rent\\\"], [\\\"2012\\\", \\\"sale_price_sqr_foot\\\"], [\\\"2013\\\", \\\"gross_rent\\\"], [\\\"2013\\\", \\\"sale_price_sqr_foot\\\"], [\\\"2014\\\", \\\"gross_rent\\\"], [\\\"2014\\\", \\\"sale_price_sqr_foot\\\"], [\\\"2015\\\", \\\"gross_rent\\\"], [\\\"2015\\\", \\\"sale_price_sqr_foot\\\"], [\\\"2016\\\", \\\"gross_rent\\\"], [\\\"2016\\\", \\\"sale_price_sqr_foot\\\"]]}, {\\\"attr\\\": \\\"end\\\", \\\"kind\\\": \\\"ModelChanged\\\", \\\"model\\\": {\\\"id\\\": \\\"2533\\\"}, \\\"new\\\": 4801.554205636777}, {\\\"attr\\\": \\\"reset_end\\\", \\\"kind\\\": \\\"ModelChanged\\\", \\\"model\\\": {\\\"id\\\": \\\"2533\\\"}, \\\"new\\\": 4801.554205636777}, {\\\"attr\\\": \\\"text\\\", \\\"kind\\\": \\\"ModelChanged\\\", \\\"model\\\": {\\\"id\\\": \\\"2536\\\"}, \\\"new\\\": \\\"neighborhood: Financial District North\\\"}, {\\\"cols\\\": null, \\\"column_source\\\": {\\\"id\\\": \\\"2565\\\"}, \\\"kind\\\": \\\"ColumnDataChanged\\\", \\\"new\\\": {\\\"Variable\\\": [\\\"sale_price_sqr_foot\\\", \\\"sale_price_sqr_foot\\\", \\\"sale_price_sqr_foot\\\", \\\"sale_price_sqr_foot\\\", \\\"sale_price_sqr_foot\\\", \\\"sale_price_sqr_foot\\\", \\\"sale_price_sqr_foot\\\", \\\"gross_rent\\\", \\\"gross_rent\\\", \\\"gross_rent\\\", \\\"gross_rent\\\", \\\"gross_rent\\\", \\\"gross_rent\\\", \\\"gross_rent\\\"], \\\"value\\\": {\\\"__ndarray__\\\": \\\"7AP43P8beUDn1P+nAZVxQHHD8reh5XFAr72zvFMncUAogOryGZ95QNWXMVjesoVAAAAAAAAA+H8AAAAAAFyTQAAAAAAA6JdAAAAAAAAookAAAAAAADanQAAAAAAAkKtAAAAAAAA2rUAAAAAAACaxQA==\\\", \\\"dtype\\\": \\\"float64\\\", \\\"order\\\": \\\"little\\\", \\\"shape\\\": [14]}, \\\"xoffsets\\\": [[\\\"2010\\\", \\\"sale_price_sqr_foot\\\"], [\\\"2011\\\", \\\"sale_price_sqr_foot\\\"], [\\\"2012\\\", \\\"sale_price_sqr_foot\\\"], [\\\"2013\\\", \\\"sale_price_sqr_foot\\\"], [\\\"2014\\\", \\\"sale_price_sqr_foot\\\"], [\\\"2015\\\", \\\"sale_price_sqr_foot\\\"], [\\\"2016\\\", \\\"sale_price_sqr_foot\\\"], [\\\"2010\\\", \\\"gross_rent\\\"], [\\\"2011\\\", \\\"gross_rent\\\"], [\\\"2012\\\", \\\"gross_rent\\\"], [\\\"2013\\\", \\\"gross_rent\\\"], [\\\"2014\\\", \\\"gross_rent\\\"], [\\\"2015\\\", \\\"gross_rent\\\"], [\\\"2016\\\", \\\"gross_rent\\\"]], \\\"year\\\": [\\\"2010\\\", \\\"2011\\\", \\\"2012\\\", \\\"2013\\\", \\\"2014\\\", \\\"2015\\\", \\\"2016\\\", \\\"2010\\\", \\\"2011\\\", \\\"2012\\\", \\\"2013\\\", \\\"2014\\\", \\\"2015\\\", \\\"2016\\\"]}}], \\\"references\\\": []}\",\"header\":\"{\\\"msgid\\\": \\\"2912\\\", \\\"msgtype\\\": \\\"PATCH-DOC\\\"}\",\"metadata\":\"{}\"},\"Financial District South\":{\"content\":\"{\\\"events\\\": [{\\\"attr\\\": \\\"factors\\\", \\\"kind\\\": \\\"ModelChanged\\\", \\\"model\\\": {\\\"id\\\": \\\"2532\\\"}, \\\"new\\\": [[\\\"2010\\\", \\\"gross_rent\\\"], [\\\"2010\\\", \\\"sale_price_sqr_foot\\\"], [\\\"2011\\\", \\\"gross_rent\\\"], [\\\"2011\\\", \\\"sale_price_sqr_foot\\\"], [\\\"2012\\\", \\\"gross_rent\\\"], [\\\"2012\\\", \\\"sale_price_sqr_foot\\\"], [\\\"2014\\\", \\\"gross_rent\\\"], [\\\"2014\\\", \\\"sale_price_sqr_foot\\\"], [\\\"2015\\\", \\\"gross_rent\\\"], [\\\"2015\\\", \\\"sale_price_sqr_foot\\\"]]}, {\\\"attr\\\": \\\"end\\\", \\\"kind\\\": \\\"ModelChanged\\\", \\\"model\\\": {\\\"id\\\": \\\"2533\\\"}, \\\"new\\\": 4096.617878995227}, {\\\"attr\\\": \\\"reset_end\\\", \\\"kind\\\": \\\"ModelChanged\\\", \\\"model\\\": {\\\"id\\\": \\\"2533\\\"}, \\\"new\\\": 4096.617878995227}, {\\\"attr\\\": \\\"text\\\", \\\"kind\\\": \\\"ModelChanged\\\", \\\"model\\\": {\\\"id\\\": \\\"2536\\\"}, \\\"new\\\": \\\"neighborhood: Financial District South\\\"}, {\\\"cols\\\": null, \\\"column_source\\\": {\\\"id\\\": \\\"2565\\\"}, \\\"kind\\\": \\\"ColumnDataChanged\\\", \\\"new\\\": {\\\"Variable\\\": [\\\"sale_price_sqr_foot\\\", \\\"sale_price_sqr_foot\\\", \\\"sale_price_sqr_foot\\\", \\\"sale_price_sqr_foot\\\", \\\"sale_price_sqr_foot\\\", \\\"gross_rent\\\", \\\"gross_rent\\\", \\\"gross_rent\\\", \\\"gross_rent\\\", \\\"gross_rent\\\"], \\\"value\\\": {\\\"__ndarray__\\\": \\\"0ENLWkdaZECjdAggpip2QCLvSpm+LoNAXi0AXVizhUDRgqbm7VZ8QAAAAAAAXJNAAAAAAADol0AAAAAAACiiQAAAAAAAkKtAAAAAAAA2rUA=\\\", \\\"dtype\\\": \\\"float64\\\", \\\"order\\\": \\\"little\\\", \\\"shape\\\": [10]}, \\\"xoffsets\\\": [[\\\"2010\\\", \\\"sale_price_sqr_foot\\\"], [\\\"2011\\\", \\\"sale_price_sqr_foot\\\"], [\\\"2012\\\", \\\"sale_price_sqr_foot\\\"], [\\\"2014\\\", \\\"sale_price_sqr_foot\\\"], [\\\"2015\\\", \\\"sale_price_sqr_foot\\\"], [\\\"2010\\\", \\\"gross_rent\\\"], [\\\"2011\\\", \\\"gross_rent\\\"], [\\\"2012\\\", \\\"gross_rent\\\"], [\\\"2014\\\", \\\"gross_rent\\\"], [\\\"2015\\\", \\\"gross_rent\\\"]], \\\"year\\\": [\\\"2010\\\", \\\"2011\\\", \\\"2012\\\", \\\"2014\\\", \\\"2015\\\", \\\"2010\\\", \\\"2011\\\", \\\"2012\\\", \\\"2014\\\", \\\"2015\\\"]}}], \\\"references\\\": []}\",\"header\":\"{\\\"msgid\\\": \\\"2907\\\", \\\"msgtype\\\": \\\"PATCH-DOC\\\"}\",\"metadata\":\"{}\"},\"Forest Knolls\":{\"content\":\"{\\\"events\\\": [{\\\"attr\\\": \\\"factors\\\", \\\"kind\\\": \\\"ModelChanged\\\", \\\"model\\\": {\\\"id\\\": \\\"2532\\\"}, \\\"new\\\": [[\\\"2010\\\", \\\"gross_rent\\\"], [\\\"2010\\\", \\\"sale_price_sqr_foot\\\"], [\\\"2012\\\", \\\"gross_rent\\\"], [\\\"2012\\\", \\\"sale_price_sqr_foot\\\"]]}, {\\\"attr\\\": \\\"end\\\", \\\"kind\\\": \\\"ModelChanged\\\", \\\"model\\\": {\\\"id\\\": \\\"2533\\\"}, \\\"new\\\": 2535.4950673365306}, {\\\"attr\\\": \\\"reset_end\\\", \\\"kind\\\": \\\"ModelChanged\\\", \\\"model\\\": {\\\"id\\\": \\\"2533\\\"}, \\\"new\\\": 2535.4950673365306}, {\\\"attr\\\": \\\"text\\\", \\\"kind\\\": \\\"ModelChanged\\\", \\\"model\\\": {\\\"id\\\": \\\"2536\\\"}, \\\"new\\\": \\\"neighborhood: Forest Knolls\\\"}, {\\\"cols\\\": null, \\\"column_source\\\": {\\\"id\\\": \\\"2565\\\"}, \\\"kind\\\": \\\"ColumnDataChanged\\\", \\\"new\\\": {\\\"Variable\\\": [\\\"sale_price_sqr_foot\\\", \\\"sale_price_sqr_foot\\\", \\\"gross_rent\\\", \\\"gross_rent\\\"], \\\"value\\\": {\\\"__ndarray__\\\": \\\"tVpzFZQhakB0pGAXHip7QAAAAAAAXJNAAAAAAAAookA=\\\", \\\"dtype\\\": \\\"float64\\\", \\\"order\\\": \\\"little\\\", \\\"shape\\\": [4]}, \\\"xoffsets\\\": [[\\\"2010\\\", \\\"sale_price_sqr_foot\\\"], [\\\"2012\\\", \\\"sale_price_sqr_foot\\\"], [\\\"2010\\\", \\\"gross_rent\\\"], [\\\"2012\\\", \\\"gross_rent\\\"]], \\\"year\\\": [\\\"2010\\\", \\\"2012\\\", \\\"2010\\\", \\\"2012\\\"]}}], \\\"references\\\": []}\",\"header\":\"{\\\"msgid\\\": \\\"2902\\\", \\\"msgtype\\\": \\\"PATCH-DOC\\\"}\",\"metadata\":\"{}\"},\"Glen Park\":{\"content\":\"{\\\"events\\\": [{\\\"attr\\\": \\\"factors\\\", \\\"kind\\\": \\\"ModelChanged\\\", \\\"model\\\": {\\\"id\\\": \\\"2532\\\"}, \\\"new\\\": [[\\\"2010\\\", \\\"gross_rent\\\"], [\\\"2010\\\", \\\"sale_price_sqr_foot\\\"], [\\\"2011\\\", \\\"gross_rent\\\"], [\\\"2011\\\", \\\"sale_price_sqr_foot\\\"], [\\\"2013\\\", \\\"gross_rent\\\"], [\\\"2013\\\", \\\"sale_price_sqr_foot\\\"], [\\\"2014\\\", \\\"gross_rent\\\"], [\\\"2014\\\", \\\"sale_price_sqr_foot\\\"], [\\\"2015\\\", \\\"gross_rent\\\"], [\\\"2015\\\", \\\"sale_price_sqr_foot\\\"], [\\\"2016\\\", \\\"gross_rent\\\"], [\\\"2016\\\", \\\"sale_price_sqr_foot\\\"]]}, {\\\"attr\\\": \\\"end\\\", \\\"kind\\\": \\\"ModelChanged\\\", \\\"model\\\": {\\\"id\\\": \\\"2533\\\"}, \\\"new\\\": 4783.258611570238}, {\\\"attr\\\": \\\"reset_end\\\", \\\"kind\\\": \\\"ModelChanged\\\", \\\"model\\\": {\\\"id\\\": \\\"2533\\\"}, \\\"new\\\": 4783.258611570238}, {\\\"attr\\\": \\\"text\\\", \\\"kind\\\": \\\"ModelChanged\\\", \\\"model\\\": {\\\"id\\\": \\\"2536\\\"}, \\\"new\\\": \\\"neighborhood: Glen Park\\\"}, {\\\"cols\\\": null, \\\"column_source\\\": {\\\"id\\\": \\\"2565\\\"}, \\\"kind\\\": \\\"ColumnDataChanged\\\", \\\"new\\\": {\\\"Variable\\\": [\\\"sale_price_sqr_foot\\\", \\\"sale_price_sqr_foot\\\", \\\"sale_price_sqr_foot\\\", \\\"sale_price_sqr_foot\\\", \\\"sale_price_sqr_foot\\\", \\\"sale_price_sqr_foot\\\", \\\"gross_rent\\\", \\\"gross_rent\\\", \\\"gross_rent\\\", \\\"gross_rent\\\", \\\"gross_rent\\\", \\\"gross_rent\\\"], \\\"value\\\": {\\\"__ndarray__\\\": \\\"aB91BrFchkAOKiRFn5Z8QED5MZOKq3xA/rlAhIBMgUBFlH1o2SCDQF9/cTKIjI1AAAAAAABck0AAAAAAAOiXQAAAAAAANqdAAAAAAACQq0AAAAAAADatQAAAAAAAJrFA\\\", \\\"dtype\\\": \\\"float64\\\", \\\"order\\\": \\\"little\\\", \\\"shape\\\": [12]}, \\\"xoffsets\\\": [[\\\"2010\\\", \\\"sale_price_sqr_foot\\\"], [\\\"2011\\\", \\\"sale_price_sqr_foot\\\"], [\\\"2013\\\", \\\"sale_price_sqr_foot\\\"], [\\\"2014\\\", \\\"sale_price_sqr_foot\\\"], [\\\"2015\\\", \\\"sale_price_sqr_foot\\\"], [\\\"2016\\\", \\\"sale_price_sqr_foot\\\"], [\\\"2010\\\", \\\"gross_rent\\\"], [\\\"2011\\\", \\\"gross_rent\\\"], [\\\"2013\\\", \\\"gross_rent\\\"], [\\\"2014\\\", \\\"gross_rent\\\"], [\\\"2015\\\", \\\"gross_rent\\\"], [\\\"2016\\\", \\\"gross_rent\\\"]], \\\"year\\\": [\\\"2010\\\", \\\"2011\\\", \\\"2013\\\", \\\"2014\\\", \\\"2015\\\", \\\"2016\\\", \\\"2010\\\", \\\"2011\\\", \\\"2013\\\", \\\"2014\\\", \\\"2015\\\", \\\"2016\\\"]}}], \\\"references\\\": []}\",\"header\":\"{\\\"msgid\\\": \\\"2897\\\", \\\"msgtype\\\": \\\"PATCH-DOC\\\"}\",\"metadata\":\"{}\"},\"Golden Gate Heights\":{\"content\":\"{\\\"events\\\": [{\\\"attr\\\": \\\"factors\\\", \\\"kind\\\": \\\"ModelChanged\\\", \\\"model\\\": {\\\"id\\\": \\\"2532\\\"}, \\\"new\\\": [[\\\"2010\\\", \\\"gross_rent\\\"], [\\\"2010\\\", \\\"sale_price_sqr_foot\\\"], [\\\"2011\\\", \\\"gross_rent\\\"], [\\\"2011\\\", \\\"sale_price_sqr_foot\\\"], [\\\"2013\\\", \\\"gross_rent\\\"], [\\\"2013\\\", \\\"sale_price_sqr_foot\\\"], [\\\"2014\\\", \\\"gross_rent\\\"], [\\\"2014\\\", \\\"sale_price_sqr_foot\\\"], [\\\"2015\\\", \\\"gross_rent\\\"], [\\\"2015\\\", \\\"sale_price_sqr_foot\\\"]]}, {\\\"attr\\\": \\\"end\\\", \\\"kind\\\": \\\"ModelChanged\\\", \\\"model\\\": {\\\"id\\\": \\\"2533\\\"}, \\\"new\\\": 4078.007029995875}, {\\\"attr\\\": \\\"reset_end\\\", \\\"kind\\\": \\\"ModelChanged\\\", \\\"model\\\": {\\\"id\\\": \\\"2533\\\"}, \\\"new\\\": 4078.007029995875}, {\\\"attr\\\": \\\"text\\\", \\\"kind\\\": \\\"ModelChanged\\\", \\\"model\\\": {\\\"id\\\": \\\"2536\\\"}, \\\"new\\\": \\\"neighborhood: Golden Gate Heights\\\"}, {\\\"cols\\\": null, \\\"column_source\\\": {\\\"id\\\": \\\"2565\\\"}, \\\"kind\\\": \\\"ColumnDataChanged\\\", \\\"new\\\": {\\\"Variable\\\": [\\\"sale_price_sqr_foot\\\", \\\"sale_price_sqr_foot\\\", \\\"sale_price_sqr_foot\\\", \\\"sale_price_sqr_foot\\\", \\\"sale_price_sqr_foot\\\", \\\"gross_rent\\\", \\\"gross_rent\\\", \\\"gross_rent\\\", \\\"gross_rent\\\", \\\"gross_rent\\\"], \\\"value\\\": {\\\"__ndarray__\\\": \\\"XVj8sGg+gUAWhCYN4M51QNRj6RR54Y1AX0BnV7i6gUB+N3fjsyWIQAAAAAAAXJNAAAAAAADol0AAAAAAADanQAAAAAAAkKtAAAAAAAA2rUA=\\\", \\\"dtype\\\": \\\"float64\\\", \\\"order\\\": \\\"little\\\", \\\"shape\\\": [10]}, \\\"xoffsets\\\": [[\\\"2010\\\", \\\"sale_price_sqr_foot\\\"], [\\\"2011\\\", \\\"sale_price_sqr_foot\\\"], [\\\"2013\\\", \\\"sale_price_sqr_foot\\\"], [\\\"2014\\\", \\\"sale_price_sqr_foot\\\"], [\\\"2015\\\", \\\"sale_price_sqr_foot\\\"], [\\\"2010\\\", \\\"gross_rent\\\"], [\\\"2011\\\", \\\"gross_rent\\\"], [\\\"2013\\\", \\\"gross_rent\\\"], [\\\"2014\\\", \\\"gross_rent\\\"], [\\\"2015\\\", \\\"gross_rent\\\"]], \\\"year\\\": [\\\"2010\\\", \\\"2011\\\", \\\"2013\\\", \\\"2014\\\", \\\"2015\\\", \\\"2010\\\", \\\"2011\\\", \\\"2013\\\", \\\"2014\\\", \\\"2015\\\"]}}], \\\"references\\\": []}\",\"header\":\"{\\\"msgid\\\": \\\"2892\\\", \\\"msgtype\\\": \\\"PATCH-DOC\\\"}\",\"metadata\":\"{}\"},\"Haight Ashbury\":{\"content\":\"{\\\"events\\\": [{\\\"attr\\\": \\\"end\\\", \\\"kind\\\": \\\"ModelChanged\\\", \\\"model\\\": {\\\"id\\\": \\\"2533\\\"}, \\\"new\\\": 4803.552622085531}, {\\\"attr\\\": \\\"reset_end\\\", \\\"kind\\\": \\\"ModelChanged\\\", \\\"model\\\": {\\\"id\\\": \\\"2533\\\"}, \\\"new\\\": 4803.552622085531}, {\\\"attr\\\": \\\"text\\\", \\\"kind\\\": \\\"ModelChanged\\\", \\\"model\\\": {\\\"id\\\": \\\"2536\\\"}, \\\"new\\\": \\\"neighborhood: Haight Ashbury\\\"}, {\\\"cols\\\": null, \\\"column_source\\\": {\\\"id\\\": \\\"2565\\\"}, \\\"kind\\\": \\\"ColumnDataChanged\\\", \\\"new\\\": {\\\"Variable\\\": [\\\"sale_price_sqr_foot\\\", \\\"sale_price_sqr_foot\\\", \\\"sale_price_sqr_foot\\\", \\\"sale_price_sqr_foot\\\", \\\"sale_price_sqr_foot\\\", \\\"sale_price_sqr_foot\\\", \\\"sale_price_sqr_foot\\\", \\\"gross_rent\\\", \\\"gross_rent\\\", \\\"gross_rent\\\", \\\"gross_rent\\\", \\\"gross_rent\\\", \\\"gross_rent\\\", \\\"gross_rent\\\"], \\\"value\\\": {\\\"__ndarray__\\\": \\\"QH/hMinPb0DRLjW8p4V4QDXT1jtJLXpAbHydIO7nfUB2raXm0Ah/QNj5jEQx8oFAzf5gJa6egEAAAAAAAFyTQAAAAAAA6JdAAAAAAAAookAAAAAAADanQAAAAAAAkKtAAAAAAAA2rUAAAAAAACaxQA==\\\", \\\"dtype\\\": \\\"float64\\\", \\\"order\\\": \\\"little\\\", \\\"shape\\\": [14]}, \\\"xoffsets\\\": [[\\\"2010\\\", \\\"sale_price_sqr_foot\\\"], [\\\"2011\\\", \\\"sale_price_sqr_foot\\\"], [\\\"2012\\\", \\\"sale_price_sqr_foot\\\"], [\\\"2013\\\", \\\"sale_price_sqr_foot\\\"], [\\\"2014\\\", \\\"sale_price_sqr_foot\\\"], [\\\"2015\\\", \\\"sale_price_sqr_foot\\\"], [\\\"2016\\\", \\\"sale_price_sqr_foot\\\"], [\\\"2010\\\", \\\"gross_rent\\\"], [\\\"2011\\\", \\\"gross_rent\\\"], [\\\"2012\\\", \\\"gross_rent\\\"], [\\\"2013\\\", \\\"gross_rent\\\"], [\\\"2014\\\", \\\"gross_rent\\\"], [\\\"2015\\\", \\\"gross_rent\\\"], [\\\"2016\\\", \\\"gross_rent\\\"]], \\\"year\\\": [\\\"2010\\\", \\\"2011\\\", \\\"2012\\\", \\\"2013\\\", \\\"2014\\\", \\\"2015\\\", \\\"2016\\\", \\\"2010\\\", \\\"2011\\\", \\\"2012\\\", \\\"2013\\\", \\\"2014\\\", \\\"2015\\\", \\\"2016\\\"]}}], \\\"references\\\": []}\",\"header\":\"{\\\"msgid\\\": \\\"2887\\\", \\\"msgtype\\\": \\\"PATCH-DOC\\\"}\",\"metadata\":\"{}\"},\"Hayes Valley\":{\"content\":\"{\\\"events\\\": [{\\\"attr\\\": \\\"factors\\\", \\\"kind\\\": \\\"ModelChanged\\\", \\\"model\\\": {\\\"id\\\": \\\"2532\\\"}, \\\"new\\\": [[\\\"2010\\\", \\\"gross_rent\\\"], [\\\"2010\\\", \\\"sale_price_sqr_foot\\\"], [\\\"2011\\\", \\\"gross_rent\\\"], [\\\"2011\\\", \\\"sale_price_sqr_foot\\\"], [\\\"2012\\\", \\\"gross_rent\\\"], [\\\"2012\\\", \\\"sale_price_sqr_foot\\\"], [\\\"2013\\\", \\\"gross_rent\\\"], [\\\"2013\\\", \\\"sale_price_sqr_foot\\\"], [\\\"2014\\\", \\\"gross_rent\\\"], [\\\"2014\\\", \\\"sale_price_sqr_foot\\\"], [\\\"2015\\\", \\\"gross_rent\\\"], [\\\"2015\\\", \\\"sale_price_sqr_foot\\\"], [\\\"2016\\\", \\\"gross_rent\\\"], [\\\"2016\\\", \\\"sale_price_sqr_foot\\\"]]}, {\\\"attr\\\": \\\"end\\\", \\\"kind\\\": \\\"ModelChanged\\\", \\\"model\\\": {\\\"id\\\": \\\"2533\\\"}, \\\"new\\\": 4811.493393080371}, {\\\"attr\\\": \\\"reset_end\\\", \\\"kind\\\": \\\"ModelChanged\\\", \\\"model\\\": {\\\"id\\\": \\\"2533\\\"}, \\\"new\\\": 4811.493393080371}, {\\\"attr\\\": \\\"text\\\", \\\"kind\\\": \\\"ModelChanged\\\", \\\"model\\\": {\\\"id\\\": \\\"2536\\\"}, \\\"new\\\": \\\"neighborhood: Hayes Valley\\\"}, {\\\"cols\\\": null, \\\"column_source\\\": {\\\"id\\\": \\\"2565\\\"}, \\\"kind\\\": \\\"ColumnDataChanged\\\", \\\"new\\\": {\\\"Variable\\\": [\\\"sale_price_sqr_foot\\\", \\\"sale_price_sqr_foot\\\", \\\"sale_price_sqr_foot\\\", \\\"sale_price_sqr_foot\\\", \\\"sale_price_sqr_foot\\\", \\\"sale_price_sqr_foot\\\", \\\"sale_price_sqr_foot\\\", \\\"gross_rent\\\", \\\"gross_rent\\\", \\\"gross_rent\\\", \\\"gross_rent\\\", \\\"gross_rent\\\", \\\"gross_rent\\\", \\\"gross_rent\\\"], \\\"value\\\": {\\\"__ndarray__\\\": \\\"jyy7Ro8EcUDtvFOssItxQN/Eix0MJnNA6LhSnW25fkAXEdXax856QHX40/F0xIBA8aolPR3iZUAAAAAAAFyTQAAAAAAA6JdAAAAAAAAookAAAAAAADanQAAAAAAAkKtAAAAAAAA2rUAAAAAAACaxQA==\\\", \\\"dtype\\\": \\\"float64\\\", \\\"order\\\": \\\"little\\\", \\\"shape\\\": [14]}, \\\"xoffsets\\\": [[\\\"2010\\\", \\\"sale_price_sqr_foot\\\"], [\\\"2011\\\", \\\"sale_price_sqr_foot\\\"], [\\\"2012\\\", \\\"sale_price_sqr_foot\\\"], [\\\"2013\\\", \\\"sale_price_sqr_foot\\\"], [\\\"2014\\\", \\\"sale_price_sqr_foot\\\"], [\\\"2015\\\", \\\"sale_price_sqr_foot\\\"], [\\\"2016\\\", \\\"sale_price_sqr_foot\\\"], [\\\"2010\\\", \\\"gross_rent\\\"], [\\\"2011\\\", \\\"gross_rent\\\"], [\\\"2012\\\", \\\"gross_rent\\\"], [\\\"2013\\\", \\\"gross_rent\\\"], [\\\"2014\\\", \\\"gross_rent\\\"], [\\\"2015\\\", \\\"gross_rent\\\"], [\\\"2016\\\", \\\"gross_rent\\\"]], \\\"year\\\": [\\\"2010\\\", \\\"2011\\\", \\\"2012\\\", \\\"2013\\\", \\\"2014\\\", \\\"2015\\\", \\\"2016\\\", \\\"2010\\\", \\\"2011\\\", \\\"2012\\\", \\\"2013\\\", \\\"2014\\\", \\\"2015\\\", \\\"2016\\\"]}}], \\\"references\\\": []}\",\"header\":\"{\\\"msgid\\\": \\\"2882\\\", \\\"msgtype\\\": \\\"PATCH-DOC\\\"}\",\"metadata\":\"{}\"},\"Hunters Point\":{\"content\":\"{\\\"events\\\": [{\\\"attr\\\": \\\"factors\\\", \\\"kind\\\": \\\"ModelChanged\\\", \\\"model\\\": {\\\"id\\\": \\\"2532\\\"}, \\\"new\\\": [[\\\"2010\\\", \\\"gross_rent\\\"], [\\\"2010\\\", \\\"sale_price_sqr_foot\\\"], [\\\"2015\\\", \\\"gross_rent\\\"], [\\\"2015\\\", \\\"sale_price_sqr_foot\\\"]]}, {\\\"attr\\\": \\\"end\\\", \\\"kind\\\": \\\"ModelChanged\\\", \\\"model\\\": {\\\"id\\\": \\\"2533\\\"}, \\\"new\\\": 4095.837508012867}, {\\\"attr\\\": \\\"reset_end\\\", \\\"kind\\\": \\\"ModelChanged\\\", \\\"model\\\": {\\\"id\\\": \\\"2533\\\"}, \\\"new\\\": 4095.837508012867}, {\\\"attr\\\": \\\"text\\\", \\\"kind\\\": \\\"ModelChanged\\\", \\\"model\\\": {\\\"id\\\": \\\"2536\\\"}, \\\"new\\\": \\\"neighborhood: Hunters Point\\\"}, {\\\"cols\\\": null, \\\"column_source\\\": {\\\"id\\\": \\\"2565\\\"}, \\\"kind\\\": \\\"ColumnDataChanged\\\", \\\"new\\\": {\\\"Variable\\\": [\\\"sale_price_sqr_foot\\\", \\\"sale_price_sqr_foot\\\", \\\"gross_rent\\\", \\\"gross_rent\\\"], \\\"value\\\": {\\\"__ndarray__\\\": \\\"BT/1V/9TZUAAAAAAAAD4fwAAAAAAXJNAAAAAAAA2rUA=\\\", \\\"dtype\\\": \\\"float64\\\", \\\"order\\\": \\\"little\\\", \\\"shape\\\": [4]}, \\\"xoffsets\\\": [[\\\"2010\\\", \\\"sale_price_sqr_foot\\\"], [\\\"2015\\\", \\\"sale_price_sqr_foot\\\"], [\\\"2010\\\", \\\"gross_rent\\\"], [\\\"2015\\\", \\\"gross_rent\\\"]], \\\"year\\\": [\\\"2010\\\", \\\"2015\\\", \\\"2010\\\", \\\"2015\\\"]}}], \\\"references\\\": []}\",\"header\":\"{\\\"msgid\\\": \\\"2877\\\", \\\"msgtype\\\": \\\"PATCH-DOC\\\"}\",\"metadata\":\"{}\"},\"Ingleside \":{\"content\":\"{\\\"events\\\": [{\\\"attr\\\": \\\"factors\\\", \\\"kind\\\": \\\"ModelChanged\\\", \\\"model\\\": {\\\"id\\\": \\\"2532\\\"}, \\\"new\\\": [[\\\"2010\\\", \\\"gross_rent\\\"], [\\\"2010\\\", \\\"sale_price_sqr_foot\\\"], [\\\"2011\\\", \\\"gross_rent\\\"], [\\\"2011\\\", \\\"sale_price_sqr_foot\\\"], [\\\"2014\\\", \\\"gross_rent\\\"], [\\\"2014\\\", \\\"sale_price_sqr_foot\\\"], [\\\"2015\\\", \\\"gross_rent\\\"], [\\\"2015\\\", \\\"sale_price_sqr_foot\\\"]]}, {\\\"attr\\\": \\\"end\\\", \\\"kind\\\": \\\"ModelChanged\\\", \\\"model\\\": {\\\"id\\\": \\\"2533\\\"}, \\\"new\\\": 4093.6834751862257}, {\\\"attr\\\": \\\"reset_end\\\", \\\"kind\\\": \\\"ModelChanged\\\", \\\"model\\\": {\\\"id\\\": \\\"2533\\\"}, \\\"new\\\": 4093.6834751862257}, {\\\"attr\\\": \\\"text\\\", \\\"kind\\\": \\\"ModelChanged\\\", \\\"model\\\": {\\\"id\\\": \\\"2536\\\"}, \\\"new\\\": \\\"neighborhood: Ingleside\\\"}, {\\\"cols\\\": null, \\\"column_source\\\": {\\\"id\\\": \\\"2565\\\"}, \\\"kind\\\": \\\"ColumnDataChanged\\\", \\\"new\\\": {\\\"Variable\\\": [\\\"sale_price_sqr_foot\\\", \\\"sale_price_sqr_foot\\\", \\\"sale_price_sqr_foot\\\", \\\"sale_price_sqr_foot\\\", \\\"gross_rent\\\", \\\"gross_rent\\\", \\\"gross_rent\\\", \\\"gross_rent\\\"], \\\"value\\\": {\\\"__ndarray__\\\": \\\"a4srL+gwcUBltPYZWEt2QJi0BnMyPYRAvGp2tkkFaEAAAAAAAFyTQAAAAAAA6JdAAAAAAACQq0AAAAAAADatQA==\\\", \\\"dtype\\\": \\\"float64\\\", \\\"order\\\": \\\"little\\\", \\\"shape\\\": [8]}, \\\"xoffsets\\\": [[\\\"2010\\\", \\\"sale_price_sqr_foot\\\"], [\\\"2011\\\", \\\"sale_price_sqr_foot\\\"], [\\\"2014\\\", \\\"sale_price_sqr_foot\\\"], [\\\"2015\\\", \\\"sale_price_sqr_foot\\\"], [\\\"2010\\\", \\\"gross_rent\\\"], [\\\"2011\\\", \\\"gross_rent\\\"], [\\\"2014\\\", \\\"gross_rent\\\"], [\\\"2015\\\", \\\"gross_rent\\\"]], \\\"year\\\": [\\\"2010\\\", \\\"2011\\\", \\\"2014\\\", \\\"2015\\\", \\\"2010\\\", \\\"2011\\\", \\\"2014\\\", \\\"2015\\\"]}}], \\\"references\\\": []}\",\"header\":\"{\\\"msgid\\\": \\\"2872\\\", \\\"msgtype\\\": \\\"PATCH-DOC\\\"}\",\"metadata\":\"{}\"},\"Ingleside Heights\":{\"content\":\"{\\\"events\\\": [{\\\"attr\\\": \\\"factors\\\", \\\"kind\\\": \\\"ModelChanged\\\", \\\"model\\\": {\\\"id\\\": \\\"2532\\\"}, \\\"new\\\": [[\\\"2011\\\", \\\"gross_rent\\\"], [\\\"2011\\\", \\\"sale_price_sqr_foot\\\"], [\\\"2016\\\", \\\"gross_rent\\\"], [\\\"2016\\\", \\\"sale_price_sqr_foot\\\"]]}, {\\\"attr\\\": \\\"end\\\", \\\"kind\\\": \\\"ModelChanged\\\", \\\"model\\\": {\\\"id\\\": \\\"2533\\\"}, \\\"new\\\": 4809.198412707548}, {\\\"attr\\\": \\\"reset_end\\\", \\\"kind\\\": \\\"ModelChanged\\\", \\\"model\\\": {\\\"id\\\": \\\"2533\\\"}, \\\"new\\\": 4809.198412707548}, {\\\"attr\\\": \\\"text\\\", \\\"kind\\\": \\\"ModelChanged\\\", \\\"model\\\": {\\\"id\\\": \\\"2536\\\"}, \\\"new\\\": \\\"neighborhood: Ingleside Heights\\\"}, {\\\"cols\\\": null, \\\"column_source\\\": {\\\"id\\\": \\\"2565\\\"}, \\\"kind\\\": \\\"ColumnDataChanged\\\", \\\"new\\\": {\\\"Variable\\\": [\\\"sale_price_sqr_foot\\\", \\\"sale_price_sqr_foot\\\", \\\"gross_rent\\\", \\\"gross_rent\\\"], \\\"value\\\": {\\\"__ndarray__\\\": \\\"m3bvB4LAaEBSzU7Oo9yBQAAAAAAA6JdAAAAAAAAmsUA=\\\", \\\"dtype\\\": \\\"float64\\\", \\\"order\\\": \\\"little\\\", \\\"shape\\\": [4]}, \\\"xoffsets\\\": [[\\\"2011\\\", \\\"sale_price_sqr_foot\\\"], [\\\"2016\\\", \\\"sale_price_sqr_foot\\\"], [\\\"2011\\\", \\\"gross_rent\\\"], [\\\"2016\\\", \\\"gross_rent\\\"]], \\\"year\\\": [\\\"2011\\\", \\\"2016\\\", \\\"2011\\\", \\\"2016\\\"]}}], \\\"references\\\": []}\",\"header\":\"{\\\"msgid\\\": \\\"2867\\\", \\\"msgtype\\\": \\\"PATCH-DOC\\\"}\",\"metadata\":\"{}\"},\"Inner Mission\":{\"content\":\"{\\\"events\\\": [{\\\"attr\\\": \\\"factors\\\", \\\"kind\\\": \\\"ModelChanged\\\", \\\"model\\\": {\\\"id\\\": \\\"2532\\\"}, \\\"new\\\": [[\\\"2010\\\", \\\"gross_rent\\\"], [\\\"2010\\\", \\\"sale_price_sqr_foot\\\"], [\\\"2011\\\", \\\"gross_rent\\\"], [\\\"2011\\\", \\\"sale_price_sqr_foot\\\"], [\\\"2012\\\", \\\"gross_rent\\\"], [\\\"2012\\\", \\\"sale_price_sqr_foot\\\"], [\\\"2013\\\", \\\"gross_rent\\\"], [\\\"2013\\\", \\\"sale_price_sqr_foot\\\"], [\\\"2014\\\", \\\"gross_rent\\\"], [\\\"2014\\\", \\\"sale_price_sqr_foot\\\"], [\\\"2015\\\", \\\"gross_rent\\\"], [\\\"2015\\\", \\\"sale_price_sqr_foot\\\"], [\\\"2016\\\", \\\"gross_rent\\\"], [\\\"2016\\\", \\\"sale_price_sqr_foot\\\"]]}, {\\\"attr\\\": \\\"end\\\", \\\"kind\\\": \\\"ModelChanged\\\", \\\"model\\\": {\\\"id\\\": \\\"2533\\\"}, \\\"new\\\": 4805.164997959322}, {\\\"attr\\\": \\\"reset_end\\\", \\\"kind\\\": \\\"ModelChanged\\\", \\\"model\\\": {\\\"id\\\": \\\"2533\\\"}, \\\"new\\\": 4805.164997959322}, {\\\"attr\\\": \\\"text\\\", \\\"kind\\\": \\\"ModelChanged\\\", \\\"model\\\": {\\\"id\\\": \\\"2536\\\"}, \\\"new\\\": \\\"neighborhood: Inner Mission\\\"}, {\\\"cols\\\": null, \\\"column_source\\\": {\\\"id\\\": \\\"2565\\\"}, \\\"kind\\\": \\\"ColumnDataChanged\\\", \\\"new\\\": {\\\"Variable\\\": [\\\"sale_price_sqr_foot\\\", \\\"sale_price_sqr_foot\\\", \\\"sale_price_sqr_foot\\\", \\\"sale_price_sqr_foot\\\", \\\"sale_price_sqr_foot\\\", \\\"sale_price_sqr_foot\\\", \\\"sale_price_sqr_foot\\\", \\\"gross_rent\\\", \\\"gross_rent\\\", \\\"gross_rent\\\", \\\"gross_rent\\\", \\\"gross_rent\\\", \\\"gross_rent\\\", \\\"gross_rent\\\"], \\\"value\\\": {\\\"__ndarray__\\\": \\\"SQH/XTPLbUAmcCOZzLJxQMpoihc3DXVAuDqzykmYd0BQk3hB0AJ9QEOIcpNpPntAxpU24Ck+hEAAAAAAAFyTQAAAAAAA6JdAAAAAAAAookAAAAAAADanQAAAAAAAkKtAAAAAAAA2rUAAAAAAACaxQA==\\\", \\\"dtype\\\": \\\"float64\\\", \\\"order\\\": \\\"little\\\", \\\"shape\\\": [14]}, \\\"xoffsets\\\": [[\\\"2010\\\", \\\"sale_price_sqr_foot\\\"], [\\\"2011\\\", \\\"sale_price_sqr_foot\\\"], [\\\"2012\\\", \\\"sale_price_sqr_foot\\\"], [\\\"2013\\\", \\\"sale_price_sqr_foot\\\"], [\\\"2014\\\", \\\"sale_price_sqr_foot\\\"], [\\\"2015\\\", \\\"sale_price_sqr_foot\\\"], [\\\"2016\\\", \\\"sale_price_sqr_foot\\\"], [\\\"2010\\\", \\\"gross_rent\\\"], [\\\"2011\\\", \\\"gross_rent\\\"], [\\\"2012\\\", \\\"gross_rent\\\"], [\\\"2013\\\", \\\"gross_rent\\\"], [\\\"2014\\\", \\\"gross_rent\\\"], [\\\"2015\\\", \\\"gross_rent\\\"], [\\\"2016\\\", \\\"gross_rent\\\"]], \\\"year\\\": [\\\"2010\\\", \\\"2011\\\", \\\"2012\\\", \\\"2013\\\", \\\"2014\\\", \\\"2015\\\", \\\"2016\\\", \\\"2010\\\", \\\"2011\\\", \\\"2012\\\", \\\"2013\\\", \\\"2014\\\", \\\"2015\\\", \\\"2016\\\"]}}], \\\"references\\\": []}\",\"header\":\"{\\\"msgid\\\": \\\"2862\\\", \\\"msgtype\\\": \\\"PATCH-DOC\\\"}\",\"metadata\":\"{}\"},\"Inner Parkside\":{\"content\":\"{\\\"events\\\": [{\\\"attr\\\": \\\"factors\\\", \\\"kind\\\": \\\"ModelChanged\\\", \\\"model\\\": {\\\"id\\\": \\\"2532\\\"}, \\\"new\\\": [[\\\"2010\\\", \\\"gross_rent\\\"], [\\\"2010\\\", \\\"sale_price_sqr_foot\\\"], [\\\"2014\\\", \\\"gross_rent\\\"], [\\\"2014\\\", \\\"sale_price_sqr_foot\\\"], [\\\"2015\\\", \\\"gross_rent\\\"], [\\\"2015\\\", \\\"sale_price_sqr_foot\\\"], [\\\"2016\\\", \\\"gross_rent\\\"], [\\\"2016\\\", \\\"sale_price_sqr_foot\\\"]]}, {\\\"attr\\\": \\\"end\\\", \\\"kind\\\": \\\"ModelChanged\\\", \\\"model\\\": {\\\"id\\\": \\\"2533\\\"}, \\\"new\\\": 4809.02979962178}, {\\\"attr\\\": \\\"reset_end\\\", \\\"kind\\\": \\\"ModelChanged\\\", \\\"model\\\": {\\\"id\\\": \\\"2533\\\"}, \\\"new\\\": 4809.02979962178}, {\\\"attr\\\": \\\"text\\\", \\\"kind\\\": \\\"ModelChanged\\\", \\\"model\\\": {\\\"id\\\": \\\"2536\\\"}, \\\"new\\\": \\\"neighborhood: Inner Parkside\\\"}, {\\\"cols\\\": null, \\\"column_source\\\": {\\\"id\\\": \\\"2565\\\"}, \\\"kind\\\": \\\"ColumnDataChanged\\\", \\\"new\\\": {\\\"Variable\\\": [\\\"sale_price_sqr_foot\\\", \\\"sale_price_sqr_foot\\\", \\\"sale_price_sqr_foot\\\", \\\"sale_price_sqr_foot\\\", \\\"gross_rent\\\", \\\"gross_rent\\\", \\\"gross_rent\\\", \\\"gross_rent\\\"], \\\"value\\\": {\\\"__ndarray__\\\": \\\"18ai0Hb2aEDC7XKumqmCQHHi/sU31IdAw4xJteYwgEAAAAAAAFyTQAAAAAAAkKtAAAAAAAA2rUAAAAAAACaxQA==\\\", \\\"dtype\\\": \\\"float64\\\", \\\"order\\\": \\\"little\\\", \\\"shape\\\": [8]}, \\\"xoffsets\\\": [[\\\"2010\\\", \\\"sale_price_sqr_foot\\\"], [\\\"2014\\\", \\\"sale_price_sqr_foot\\\"], [\\\"2015\\\", \\\"sale_price_sqr_foot\\\"], [\\\"2016\\\", \\\"sale_price_sqr_foot\\\"], [\\\"2010\\\", \\\"gross_rent\\\"], [\\\"2014\\\", \\\"gross_rent\\\"], [\\\"2015\\\", \\\"gross_rent\\\"], [\\\"2016\\\", \\\"gross_rent\\\"]], \\\"year\\\": [\\\"2010\\\", \\\"2014\\\", \\\"2015\\\", \\\"2016\\\", \\\"2010\\\", \\\"2014\\\", \\\"2015\\\", \\\"2016\\\"]}}], \\\"references\\\": []}\",\"header\":\"{\\\"msgid\\\": \\\"2857\\\", \\\"msgtype\\\": \\\"PATCH-DOC\\\"}\",\"metadata\":\"{}\"},\"Inner Richmond\":{\"content\":\"{\\\"events\\\": [{\\\"attr\\\": \\\"end\\\", \\\"kind\\\": \\\"ModelChanged\\\", \\\"model\\\": {\\\"id\\\": \\\"2533\\\"}, \\\"new\\\": 4800.417764151131}, {\\\"attr\\\": \\\"reset_end\\\", \\\"kind\\\": \\\"ModelChanged\\\", \\\"model\\\": {\\\"id\\\": \\\"2533\\\"}, \\\"new\\\": 4800.417764151131}, {\\\"attr\\\": \\\"text\\\", \\\"kind\\\": \\\"ModelChanged\\\", \\\"model\\\": {\\\"id\\\": \\\"2536\\\"}, \\\"new\\\": \\\"neighborhood: Inner Richmond\\\"}, {\\\"cols\\\": null, \\\"column_source\\\": {\\\"id\\\": \\\"2565\\\"}, \\\"kind\\\": \\\"ColumnDataChanged\\\", \\\"new\\\": {\\\"Variable\\\": [\\\"sale_price_sqr_foot\\\", \\\"sale_price_sqr_foot\\\", \\\"sale_price_sqr_foot\\\", \\\"sale_price_sqr_foot\\\", \\\"sale_price_sqr_foot\\\", \\\"sale_price_sqr_foot\\\", \\\"sale_price_sqr_foot\\\", \\\"gross_rent\\\", \\\"gross_rent\\\", \\\"gross_rent\\\", \\\"gross_rent\\\", \\\"gross_rent\\\", \\\"gross_rent\\\", \\\"gross_rent\\\"], \\\"value\\\": {\\\"__ndarray__\\\": \\\"rudfYSjdcUC/5PKqmIB2QOH8A0Z4V3dAg75VYHrvckDbABfACO96QP4B9lLZ2X5AcgrFZfo0eUAAAAAAAFyTQAAAAAAA6JdAAAAAAAAookAAAAAAADanQAAAAAAAkKtAAAAAAAA2rUAAAAAAACaxQA==\\\", \\\"dtype\\\": \\\"float64\\\", \\\"order\\\": \\\"little\\\", \\\"shape\\\": [14]}, \\\"xoffsets\\\": [[\\\"2010\\\", \\\"sale_price_sqr_foot\\\"], [\\\"2011\\\", \\\"sale_price_sqr_foot\\\"], [\\\"2012\\\", \\\"sale_price_sqr_foot\\\"], [\\\"2013\\\", \\\"sale_price_sqr_foot\\\"], [\\\"2014\\\", \\\"sale_price_sqr_foot\\\"], [\\\"2015\\\", \\\"sale_price_sqr_foot\\\"], [\\\"2016\\\", \\\"sale_price_sqr_foot\\\"], [\\\"2010\\\", \\\"gross_rent\\\"], [\\\"2011\\\", \\\"gross_rent\\\"], [\\\"2012\\\", \\\"gross_rent\\\"], [\\\"2013\\\", \\\"gross_rent\\\"], [\\\"2014\\\", \\\"gross_rent\\\"], [\\\"2015\\\", \\\"gross_rent\\\"], [\\\"2016\\\", \\\"gross_rent\\\"]], \\\"year\\\": [\\\"2010\\\", \\\"2011\\\", \\\"2012\\\", \\\"2013\\\", \\\"2014\\\", \\\"2015\\\", \\\"2016\\\", \\\"2010\\\", \\\"2011\\\", \\\"2012\\\", \\\"2013\\\", \\\"2014\\\", \\\"2015\\\", \\\"2016\\\"]}}], \\\"references\\\": []}\",\"header\":\"{\\\"msgid\\\": \\\"2852\\\", \\\"msgtype\\\": \\\"PATCH-DOC\\\"}\",\"metadata\":\"{}\"},\"Inner Sunset\":{\"content\":\"{\\\"events\\\": [{\\\"attr\\\": \\\"end\\\", \\\"kind\\\": \\\"ModelChanged\\\", \\\"model\\\": {\\\"id\\\": \\\"2533\\\"}, \\\"new\\\": 4801.423027042539}, {\\\"attr\\\": \\\"reset_end\\\", \\\"kind\\\": \\\"ModelChanged\\\", \\\"model\\\": {\\\"id\\\": \\\"2533\\\"}, \\\"new\\\": 4801.423027042539}, {\\\"attr\\\": \\\"text\\\", \\\"kind\\\": \\\"ModelChanged\\\", \\\"model\\\": {\\\"id\\\": \\\"2536\\\"}, \\\"new\\\": \\\"neighborhood: Inner Sunset\\\"}, {\\\"cols\\\": null, \\\"column_source\\\": {\\\"id\\\": \\\"2565\\\"}, \\\"kind\\\": \\\"ColumnDataChanged\\\", \\\"new\\\": {\\\"Variable\\\": [\\\"sale_price_sqr_foot\\\", \\\"sale_price_sqr_foot\\\", \\\"sale_price_sqr_foot\\\", \\\"sale_price_sqr_foot\\\", \\\"sale_price_sqr_foot\\\", \\\"sale_price_sqr_foot\\\", \\\"sale_price_sqr_foot\\\", \\\"gross_rent\\\", \\\"gross_rent\\\", \\\"gross_rent\\\", \\\"gross_rent\\\", \\\"gross_rent\\\", \\\"gross_rent\\\", \\\"gross_rent\\\"], \\\"value\\\": {\\\"__ndarray__\\\": \\\"dFv1z1A8cUAZrCL9q+lyQMlvDkJDXXRAh0YXDbs4e0A5E+8OqG19QJJvw+or+YNAR50mAMjee0AAAAAAAFyTQAAAAAAA6JdAAAAAAAAookAAAAAAADanQAAAAAAAkKtAAAAAAAA2rUAAAAAAACaxQA==\\\", \\\"dtype\\\": \\\"float64\\\", \\\"order\\\": \\\"little\\\", \\\"shape\\\": [14]}, \\\"xoffsets\\\": [[\\\"2010\\\", \\\"sale_price_sqr_foot\\\"], [\\\"2011\\\", \\\"sale_price_sqr_foot\\\"], [\\\"2012\\\", \\\"sale_price_sqr_foot\\\"], [\\\"2013\\\", \\\"sale_price_sqr_foot\\\"], [\\\"2014\\\", \\\"sale_price_sqr_foot\\\"], [\\\"2015\\\", \\\"sale_price_sqr_foot\\\"], [\\\"2016\\\", \\\"sale_price_sqr_foot\\\"], [\\\"2010\\\", \\\"gross_rent\\\"], [\\\"2011\\\", \\\"gross_rent\\\"], [\\\"2012\\\", \\\"gross_rent\\\"], [\\\"2013\\\", \\\"gross_rent\\\"], [\\\"2014\\\", \\\"gross_rent\\\"], [\\\"2015\\\", \\\"gross_rent\\\"], [\\\"2016\\\", \\\"gross_rent\\\"]], \\\"year\\\": [\\\"2010\\\", \\\"2011\\\", \\\"2012\\\", \\\"2013\\\", \\\"2014\\\", \\\"2015\\\", \\\"2016\\\", \\\"2010\\\", \\\"2011\\\", \\\"2012\\\", \\\"2013\\\", \\\"2014\\\", \\\"2015\\\", \\\"2016\\\"]}}], \\\"references\\\": []}\",\"header\":\"{\\\"msgid\\\": \\\"2847\\\", \\\"msgtype\\\": \\\"PATCH-DOC\\\"}\",\"metadata\":\"{}\"},\"Jordan Park/Laurel Heights\":{\"content\":\"{\\\"events\\\": [{\\\"attr\\\": \\\"factors\\\", \\\"kind\\\": \\\"ModelChanged\\\", \\\"model\\\": {\\\"id\\\": \\\"2532\\\"}, \\\"new\\\": [[\\\"2010\\\", \\\"gross_rent\\\"], [\\\"2010\\\", \\\"sale_price_sqr_foot\\\"], [\\\"2011\\\", \\\"gross_rent\\\"], [\\\"2011\\\", \\\"sale_price_sqr_foot\\\"], [\\\"2012\\\", \\\"gross_rent\\\"], [\\\"2012\\\", \\\"sale_price_sqr_foot\\\"], [\\\"2013\\\", \\\"gross_rent\\\"], [\\\"2013\\\", \\\"sale_price_sqr_foot\\\"], [\\\"2014\\\", \\\"gross_rent\\\"], [\\\"2014\\\", \\\"sale_price_sqr_foot\\\"], [\\\"2015\\\", \\\"gross_rent\\\"], [\\\"2015\\\", \\\"sale_price_sqr_foot\\\"], [\\\"2016\\\", \\\"gross_rent\\\"], [\\\"2016\\\", \\\"sale_price_sqr_foot\\\"]]}, {\\\"attr\\\": \\\"end\\\", \\\"kind\\\": \\\"ModelChanged\\\", \\\"model\\\": {\\\"id\\\": \\\"2533\\\"}, \\\"new\\\": 4790.68496039019}, {\\\"attr\\\": \\\"reset_end\\\", \\\"kind\\\": \\\"ModelChanged\\\", \\\"model\\\": {\\\"id\\\": \\\"2533\\\"}, \\\"new\\\": 4790.68496039019}, {\\\"attr\\\": \\\"text\\\", \\\"kind\\\": \\\"ModelChanged\\\", \\\"model\\\": {\\\"id\\\": \\\"2536\\\"}, \\\"new\\\": \\\"neighborhood: Jordan Park/Laurel Heights\\\"}, {\\\"cols\\\": null, \\\"column_source\\\": {\\\"id\\\": \\\"2565\\\"}, \\\"kind\\\": \\\"ColumnDataChanged\\\", \\\"new\\\": {\\\"Variable\\\": [\\\"sale_price_sqr_foot\\\", \\\"sale_price_sqr_foot\\\", \\\"sale_price_sqr_foot\\\", \\\"sale_price_sqr_foot\\\", \\\"sale_price_sqr_foot\\\", \\\"sale_price_sqr_foot\\\", \\\"sale_price_sqr_foot\\\", \\\"gross_rent\\\", \\\"gross_rent\\\", \\\"gross_rent\\\", \\\"gross_rent\\\", \\\"gross_rent\\\", \\\"gross_rent\\\", \\\"gross_rent\\\"], \\\"value\\\": {\\\"__ndarray__\\\": \\\"uuY5ejQ+ekAnLEsgIhaDQE4svQVo8ndAEAzB95ZAgkAi628Elax6QPxXbMypA4JAUAesBogEhkAAAAAAAFyTQAAAAAAA6JdAAAAAAAAookAAAAAAADanQAAAAAAAkKtAAAAAAAA2rUAAAAAAACaxQA==\\\", \\\"dtype\\\": \\\"float64\\\", \\\"order\\\": \\\"little\\\", \\\"shape\\\": [14]}, \\\"xoffsets\\\": [[\\\"2010\\\", \\\"sale_price_sqr_foot\\\"], [\\\"2011\\\", \\\"sale_price_sqr_foot\\\"], [\\\"2012\\\", \\\"sale_price_sqr_foot\\\"], [\\\"2013\\\", \\\"sale_price_sqr_foot\\\"], [\\\"2014\\\", \\\"sale_price_sqr_foot\\\"], [\\\"2015\\\", \\\"sale_price_sqr_foot\\\"], [\\\"2016\\\", \\\"sale_price_sqr_foot\\\"], [\\\"2010\\\", \\\"gross_rent\\\"], [\\\"2011\\\", \\\"gross_rent\\\"], [\\\"2012\\\", \\\"gross_rent\\\"], [\\\"2013\\\", \\\"gross_rent\\\"], [\\\"2014\\\", \\\"gross_rent\\\"], [\\\"2015\\\", \\\"gross_rent\\\"], [\\\"2016\\\", \\\"gross_rent\\\"]], \\\"year\\\": [\\\"2010\\\", \\\"2011\\\", \\\"2012\\\", \\\"2013\\\", \\\"2014\\\", \\\"2015\\\", \\\"2016\\\", \\\"2010\\\", \\\"2011\\\", \\\"2012\\\", \\\"2013\\\", \\\"2014\\\", \\\"2015\\\", \\\"2016\\\"]}}], \\\"references\\\": []}\",\"header\":\"{\\\"msgid\\\": \\\"2842\\\", \\\"msgtype\\\": \\\"PATCH-DOC\\\"}\",\"metadata\":\"{}\"},\"Lake --The Presidio\":{\"content\":\"{\\\"events\\\": [{\\\"attr\\\": \\\"end\\\", \\\"kind\\\": \\\"ModelChanged\\\", \\\"model\\\": {\\\"id\\\": \\\"2533\\\"}, \\\"new\\\": 4080.820308950795}, {\\\"attr\\\": \\\"reset_end\\\", \\\"kind\\\": \\\"ModelChanged\\\", \\\"model\\\": {\\\"id\\\": \\\"2533\\\"}, \\\"new\\\": 4080.820308950795}, {\\\"attr\\\": \\\"text\\\", \\\"kind\\\": \\\"ModelChanged\\\", \\\"model\\\": {\\\"id\\\": \\\"2536\\\"}, \\\"new\\\": \\\"neighborhood: Lake --The Presidio\\\"}, {\\\"cols\\\": null, \\\"column_source\\\": {\\\"id\\\": \\\"2565\\\"}, \\\"kind\\\": \\\"ColumnDataChanged\\\", \\\"new\\\": {\\\"Variable\\\": [\\\"sale_price_sqr_foot\\\", \\\"sale_price_sqr_foot\\\", \\\"sale_price_sqr_foot\\\", \\\"sale_price_sqr_foot\\\", \\\"sale_price_sqr_foot\\\", \\\"sale_price_sqr_foot\\\", \\\"gross_rent\\\", \\\"gross_rent\\\", \\\"gross_rent\\\", \\\"gross_rent\\\", \\\"gross_rent\\\", \\\"gross_rent\\\"], \\\"value\\\": {\\\"__ndarray__\\\": \\\"2VI3JcAMdECVIgEIvqF0QHq77f9XyHdAb0N7jTXFgUAxyTRQZw97QKwhg5D1qnpAAAAAAABck0AAAAAAAOiXQAAAAAAAKKJAAAAAAAA2p0AAAAAAAJCrQAAAAAAANq1A\\\", \\\"dtype\\\": \\\"float64\\\", \\\"order\\\": \\\"little\\\", \\\"shape\\\": [12]}, \\\"xoffsets\\\": [[\\\"2010\\\", \\\"sale_price_sqr_foot\\\"], [\\\"2011\\\", \\\"sale_price_sqr_foot\\\"], [\\\"2012\\\", \\\"sale_price_sqr_foot\\\"], [\\\"2013\\\", \\\"sale_price_sqr_foot\\\"], [\\\"2014\\\", \\\"sale_price_sqr_foot\\\"], [\\\"2015\\\", \\\"sale_price_sqr_foot\\\"], [\\\"2010\\\", \\\"gross_rent\\\"], [\\\"2011\\\", \\\"gross_rent\\\"], [\\\"2012\\\", \\\"gross_rent\\\"], [\\\"2013\\\", \\\"gross_rent\\\"], [\\\"2014\\\", \\\"gross_rent\\\"], [\\\"2015\\\", \\\"gross_rent\\\"]], \\\"year\\\": [\\\"2010\\\", \\\"2011\\\", \\\"2012\\\", \\\"2013\\\", \\\"2014\\\", \\\"2015\\\", \\\"2010\\\", \\\"2011\\\", \\\"2012\\\", \\\"2013\\\", \\\"2014\\\", \\\"2015\\\"]}}], \\\"references\\\": []}\",\"header\":\"{\\\"msgid\\\": \\\"2837\\\", \\\"msgtype\\\": \\\"PATCH-DOC\\\"}\",\"metadata\":\"{}\"},\"Lone Mountain\":{\"content\":\"{\\\"events\\\": [{\\\"attr\\\": \\\"factors\\\", \\\"kind\\\": \\\"ModelChanged\\\", \\\"model\\\": {\\\"id\\\": \\\"2532\\\"}, \\\"new\\\": [[\\\"2010\\\", \\\"gross_rent\\\"], [\\\"2010\\\", \\\"sale_price_sqr_foot\\\"], [\\\"2011\\\", \\\"gross_rent\\\"], [\\\"2011\\\", \\\"sale_price_sqr_foot\\\"], [\\\"2012\\\", \\\"gross_rent\\\"], [\\\"2012\\\", \\\"sale_price_sqr_foot\\\"], [\\\"2013\\\", \\\"gross_rent\\\"], [\\\"2013\\\", \\\"sale_price_sqr_foot\\\"], [\\\"2014\\\", \\\"gross_rent\\\"], [\\\"2014\\\", \\\"sale_price_sqr_foot\\\"], [\\\"2015\\\", \\\"gross_rent\\\"], [\\\"2015\\\", \\\"sale_price_sqr_foot\\\"]]}, {\\\"attr\\\": \\\"end\\\", \\\"kind\\\": \\\"ModelChanged\\\", \\\"model\\\": {\\\"id\\\": \\\"2533\\\"}, \\\"new\\\": 4081.5661541769155}, {\\\"attr\\\": \\\"reset_end\\\", \\\"kind\\\": \\\"ModelChanged\\\", \\\"model\\\": {\\\"id\\\": \\\"2533\\\"}, \\\"new\\\": 4081.5661541769155}, {\\\"attr\\\": \\\"text\\\", \\\"kind\\\": \\\"ModelChanged\\\", \\\"model\\\": {\\\"id\\\": \\\"2536\\\"}, \\\"new\\\": \\\"neighborhood: Lone Mountain\\\"}, {\\\"cols\\\": null, \\\"column_source\\\": {\\\"id\\\": \\\"2565\\\"}, \\\"kind\\\": \\\"ColumnDataChanged\\\", \\\"new\\\": {\\\"Variable\\\": [\\\"sale_price_sqr_foot\\\", \\\"sale_price_sqr_foot\\\", \\\"sale_price_sqr_foot\\\", \\\"sale_price_sqr_foot\\\", \\\"sale_price_sqr_foot\\\", \\\"sale_price_sqr_foot\\\", \\\"gross_rent\\\", \\\"gross_rent\\\", \\\"gross_rent\\\", \\\"gross_rent\\\", \\\"gross_rent\\\", \\\"gross_rent\\\"], \\\"value\\\": {\\\"__ndarray__\\\": \\\"wz1ajlfneEDRiC1TapVzQAfvLHLXD4FAeCzjalaBd0BPfmP7jNNzQM1gj19OsoxAAAAAAABck0AAAAAAAOiXQAAAAAAAKKJAAAAAAAA2p0AAAAAAAJCrQAAAAAAANq1A\\\", \\\"dtype\\\": \\\"float64\\\", \\\"order\\\": \\\"little\\\", \\\"shape\\\": [12]}, \\\"xoffsets\\\": [[\\\"2010\\\", \\\"sale_price_sqr_foot\\\"], [\\\"2011\\\", \\\"sale_price_sqr_foot\\\"], [\\\"2012\\\", \\\"sale_price_sqr_foot\\\"], [\\\"2013\\\", \\\"sale_price_sqr_foot\\\"], [\\\"2014\\\", \\\"sale_price_sqr_foot\\\"], [\\\"2015\\\", \\\"sale_price_sqr_foot\\\"], [\\\"2010\\\", \\\"gross_rent\\\"], [\\\"2011\\\", \\\"gross_rent\\\"], [\\\"2012\\\", \\\"gross_rent\\\"], [\\\"2013\\\", \\\"gross_rent\\\"], [\\\"2014\\\", \\\"gross_rent\\\"], [\\\"2015\\\", \\\"gross_rent\\\"]], \\\"year\\\": [\\\"2010\\\", \\\"2011\\\", \\\"2012\\\", \\\"2013\\\", \\\"2014\\\", \\\"2015\\\", \\\"2010\\\", \\\"2011\\\", \\\"2012\\\", \\\"2013\\\", \\\"2014\\\", \\\"2015\\\"]}}], \\\"references\\\": []}\",\"header\":\"{\\\"msgid\\\": \\\"2832\\\", \\\"msgtype\\\": \\\"PATCH-DOC\\\"}\",\"metadata\":\"{}\"},\"Lower Pacific Heights\":{\"content\":\"{\\\"events\\\": [{\\\"attr\\\": \\\"end\\\", \\\"kind\\\": \\\"ModelChanged\\\", \\\"model\\\": {\\\"id\\\": \\\"2533\\\"}, \\\"new\\\": 4798.645580028381}, {\\\"attr\\\": \\\"reset_end\\\", \\\"kind\\\": \\\"ModelChanged\\\", \\\"model\\\": {\\\"id\\\": \\\"2533\\\"}, \\\"new\\\": 4798.645580028381}, {\\\"attr\\\": \\\"text\\\", \\\"kind\\\": \\\"ModelChanged\\\", \\\"model\\\": {\\\"id\\\": \\\"2536\\\"}, \\\"new\\\": \\\"neighborhood: Lower Pacific Heights\\\"}, {\\\"cols\\\": null, \\\"column_source\\\": {\\\"id\\\": \\\"2565\\\"}, \\\"kind\\\": \\\"ColumnDataChanged\\\", \\\"new\\\": {\\\"Variable\\\": [\\\"sale_price_sqr_foot\\\", \\\"sale_price_sqr_foot\\\", \\\"sale_price_sqr_foot\\\", \\\"sale_price_sqr_foot\\\", \\\"sale_price_sqr_foot\\\", \\\"sale_price_sqr_foot\\\", \\\"sale_price_sqr_foot\\\", \\\"gross_rent\\\", \\\"gross_rent\\\", \\\"gross_rent\\\", \\\"gross_rent\\\", \\\"gross_rent\\\", \\\"gross_rent\\\", \\\"gross_rent\\\"], \\\"value\\\": {\\\"__ndarray__\\\": \\\"76u8E+xgd0Bx+MIKtfhyQPfeWOC8wnhAyw2Bnl8ggUA7DXIXA2OGQApnfphPAIlAVYW5N3Ljg0AAAAAAAFyTQAAAAAAA6JdAAAAAAAAookAAAAAAADanQAAAAAAAkKtAAAAAAAA2rUAAAAAAACaxQA==\\\", \\\"dtype\\\": \\\"float64\\\", \\\"order\\\": \\\"little\\\", \\\"shape\\\": [14]}, \\\"xoffsets\\\": [[\\\"2010\\\", \\\"sale_price_sqr_foot\\\"], [\\\"2011\\\", \\\"sale_price_sqr_foot\\\"], [\\\"2012\\\", \\\"sale_price_sqr_foot\\\"], [\\\"2013\\\", \\\"sale_price_sqr_foot\\\"], [\\\"2014\\\", \\\"sale_price_sqr_foot\\\"], [\\\"2015\\\", \\\"sale_price_sqr_foot\\\"], [\\\"2016\\\", \\\"sale_price_sqr_foot\\\"], [\\\"2010\\\", \\\"gross_rent\\\"], [\\\"2011\\\", \\\"gross_rent\\\"], [\\\"2012\\\", \\\"gross_rent\\\"], [\\\"2013\\\", \\\"gross_rent\\\"], [\\\"2014\\\", \\\"gross_rent\\\"], [\\\"2015\\\", \\\"gross_rent\\\"], [\\\"2016\\\", \\\"gross_rent\\\"]], \\\"year\\\": [\\\"2010\\\", \\\"2011\\\", \\\"2012\\\", \\\"2013\\\", \\\"2014\\\", \\\"2015\\\", \\\"2016\\\", \\\"2010\\\", \\\"2011\\\", \\\"2012\\\", \\\"2013\\\", \\\"2014\\\", \\\"2015\\\", \\\"2016\\\"]}}], \\\"references\\\": []}\",\"header\":\"{\\\"msgid\\\": \\\"2827\\\", \\\"msgtype\\\": \\\"PATCH-DOC\\\"}\",\"metadata\":\"{}\"},\"Marina\":{\"content\":\"{\\\"events\\\": [{\\\"attr\\\": \\\"factors\\\", \\\"kind\\\": \\\"ModelChanged\\\", \\\"model\\\": {\\\"id\\\": \\\"2532\\\"}, \\\"new\\\": [[\\\"2010\\\", \\\"gross_rent\\\"], [\\\"2010\\\", \\\"sale_price_sqr_foot\\\"], [\\\"2011\\\", \\\"gross_rent\\\"], [\\\"2011\\\", \\\"sale_price_sqr_foot\\\"], [\\\"2012\\\", \\\"gross_rent\\\"], [\\\"2012\\\", \\\"sale_price_sqr_foot\\\"], [\\\"2013\\\", \\\"gross_rent\\\"], [\\\"2013\\\", \\\"sale_price_sqr_foot\\\"], [\\\"2014\\\", \\\"gross_rent\\\"], [\\\"2014\\\", \\\"sale_price_sqr_foot\\\"], [\\\"2015\\\", \\\"gross_rent\\\"], [\\\"2015\\\", \\\"sale_price_sqr_foot\\\"], [\\\"2016\\\", \\\"gross_rent\\\"], [\\\"2016\\\", \\\"sale_price_sqr_foot\\\"]]}, {\\\"attr\\\": \\\"end\\\", \\\"kind\\\": \\\"ModelChanged\\\", \\\"model\\\": {\\\"id\\\": \\\"2533\\\"}, \\\"new\\\": 4790.2607160523075}, {\\\"attr\\\": \\\"reset_end\\\", \\\"kind\\\": \\\"ModelChanged\\\", \\\"model\\\": {\\\"id\\\": \\\"2533\\\"}, \\\"new\\\": 4790.2607160523075}, {\\\"attr\\\": \\\"text\\\", \\\"kind\\\": \\\"ModelChanged\\\", \\\"model\\\": {\\\"id\\\": \\\"2536\\\"}, \\\"new\\\": \\\"neighborhood: Marina\\\"}, {\\\"cols\\\": null, \\\"column_source\\\": {\\\"id\\\": \\\"2565\\\"}, \\\"kind\\\": \\\"ColumnDataChanged\\\", \\\"new\\\": {\\\"Variable\\\": [\\\"sale_price_sqr_foot\\\", \\\"sale_price_sqr_foot\\\", \\\"sale_price_sqr_foot\\\", \\\"sale_price_sqr_foot\\\", \\\"sale_price_sqr_foot\\\", \\\"sale_price_sqr_foot\\\", \\\"sale_price_sqr_foot\\\", \\\"gross_rent\\\", \\\"gross_rent\\\", \\\"gross_rent\\\", \\\"gross_rent\\\", \\\"gross_rent\\\", \\\"gross_rent\\\", \\\"gross_rent\\\"], \\\"value\\\": {\\\"__ndarray__\\\": \\\"Ux8MEkk2eECye+dyGG14QJQFBghx03tArN/UlpV5hEDmyxE0tRaEQI2iC3VZs5FA5fACFx3/ekAAAAAAAFyTQAAAAAAA6JdAAAAAAAAookAAAAAAADanQAAAAAAAkKtAAAAAAAA2rUAAAAAAACaxQA==\\\", \\\"dtype\\\": \\\"float64\\\", \\\"order\\\": \\\"little\\\", \\\"shape\\\": [14]}, \\\"xoffsets\\\": [[\\\"2010\\\", \\\"sale_price_sqr_foot\\\"], [\\\"2011\\\", \\\"sale_price_sqr_foot\\\"], [\\\"2012\\\", \\\"sale_price_sqr_foot\\\"], [\\\"2013\\\", \\\"sale_price_sqr_foot\\\"], [\\\"2014\\\", \\\"sale_price_sqr_foot\\\"], [\\\"2015\\\", \\\"sale_price_sqr_foot\\\"], [\\\"2016\\\", \\\"sale_price_sqr_foot\\\"], [\\\"2010\\\", \\\"gross_rent\\\"], [\\\"2011\\\", \\\"gross_rent\\\"], [\\\"2012\\\", \\\"gross_rent\\\"], [\\\"2013\\\", \\\"gross_rent\\\"], [\\\"2014\\\", \\\"gross_rent\\\"], [\\\"2015\\\", \\\"gross_rent\\\"], [\\\"2016\\\", \\\"gross_rent\\\"]], \\\"year\\\": [\\\"2010\\\", \\\"2011\\\", \\\"2012\\\", \\\"2013\\\", \\\"2014\\\", \\\"2015\\\", \\\"2016\\\", \\\"2010\\\", \\\"2011\\\", \\\"2012\\\", \\\"2013\\\", \\\"2014\\\", \\\"2015\\\", \\\"2016\\\"]}}], \\\"references\\\": []}\",\"header\":\"{\\\"msgid\\\": \\\"2822\\\", \\\"msgtype\\\": \\\"PATCH-DOC\\\"}\",\"metadata\":\"{}\"},\"Merced Heights\":{\"content\":\"{\\\"events\\\": [{\\\"attr\\\": \\\"factors\\\", \\\"kind\\\": \\\"ModelChanged\\\", \\\"model\\\": {\\\"id\\\": \\\"2532\\\"}, \\\"new\\\": [[\\\"2012\\\", \\\"gross_rent\\\"], [\\\"2012\\\", \\\"sale_price_sqr_foot\\\"], [\\\"2014\\\", \\\"gross_rent\\\"], [\\\"2014\\\", \\\"sale_price_sqr_foot\\\"], [\\\"2016\\\", \\\"gross_rent\\\"], [\\\"2016\\\", \\\"sale_price_sqr_foot\\\"]]}, {\\\"attr\\\": \\\"end\\\", \\\"kind\\\": \\\"ModelChanged\\\", \\\"model\\\": {\\\"id\\\": \\\"2533\\\"}, \\\"new\\\": 4786.88587552938}, {\\\"attr\\\": \\\"reset_end\\\", \\\"kind\\\": \\\"ModelChanged\\\", \\\"model\\\": {\\\"id\\\": \\\"2533\\\"}, \\\"new\\\": 4786.88587552938}, {\\\"attr\\\": \\\"text\\\", \\\"kind\\\": \\\"ModelChanged\\\", \\\"model\\\": {\\\"id\\\": \\\"2536\\\"}, \\\"new\\\": \\\"neighborhood: Merced Heights\\\"}, {\\\"cols\\\": null, \\\"column_source\\\": {\\\"id\\\": \\\"2565\\\"}, \\\"kind\\\": \\\"ColumnDataChanged\\\", \\\"new\\\": {\\\"Variable\\\": [\\\"sale_price_sqr_foot\\\", \\\"sale_price_sqr_foot\\\", \\\"sale_price_sqr_foot\\\", \\\"gross_rent\\\", \\\"gross_rent\\\", \\\"gross_rent\\\"], \\\"value\\\": {\\\"__ndarray__\\\": \\\"MB3PiUJSekCKg+70z4WAQKyqqqqqIpZAAAAAAAAookAAAAAAAJCrQAAAAAAAJrFA\\\", \\\"dtype\\\": \\\"float64\\\", \\\"order\\\": \\\"little\\\", \\\"shape\\\": [6]}, \\\"xoffsets\\\": [[\\\"2012\\\", \\\"sale_price_sqr_foot\\\"], [\\\"2014\\\", \\\"sale_price_sqr_foot\\\"], [\\\"2016\\\", \\\"sale_price_sqr_foot\\\"], [\\\"2012\\\", \\\"gross_rent\\\"], [\\\"2014\\\", \\\"gross_rent\\\"], [\\\"2016\\\", \\\"gross_rent\\\"]], \\\"year\\\": [\\\"2012\\\", \\\"2014\\\", \\\"2016\\\", \\\"2012\\\", \\\"2014\\\", \\\"2016\\\"]}}], \\\"references\\\": []}\",\"header\":\"{\\\"msgid\\\": \\\"2817\\\", \\\"msgtype\\\": \\\"PATCH-DOC\\\"}\",\"metadata\":\"{}\"},\"Midtown Terrace\":{\"content\":\"{\\\"events\\\": [{\\\"attr\\\": \\\"factors\\\", \\\"kind\\\": \\\"ModelChanged\\\", \\\"model\\\": {\\\"id\\\": \\\"2532\\\"}, \\\"new\\\": [[\\\"2012\\\", \\\"gross_rent\\\"], [\\\"2012\\\", \\\"sale_price_sqr_foot\\\"], [\\\"2013\\\", \\\"gross_rent\\\"], [\\\"2013\\\", \\\"sale_price_sqr_foot\\\"]]}, {\\\"attr\\\": \\\"end\\\", \\\"kind\\\": \\\"ModelChanged\\\", \\\"model\\\": {\\\"id\\\": \\\"2533\\\"}, \\\"new\\\": 3228.3060871104362}, {\\\"attr\\\": \\\"reset_end\\\", \\\"kind\\\": \\\"ModelChanged\\\", \\\"model\\\": {\\\"id\\\": \\\"2533\\\"}, \\\"new\\\": 3228.3060871104362}, {\\\"attr\\\": \\\"text\\\", \\\"kind\\\": \\\"ModelChanged\\\", \\\"model\\\": {\\\"id\\\": \\\"2536\\\"}, \\\"new\\\": \\\"neighborhood: Midtown Terrace\\\"}, {\\\"cols\\\": null, \\\"column_source\\\": {\\\"id\\\": \\\"2565\\\"}, \\\"kind\\\": \\\"ColumnDataChanged\\\", \\\"new\\\": {\\\"Variable\\\": [\\\"sale_price_sqr_foot\\\", \\\"sale_price_sqr_foot\\\", \\\"gross_rent\\\", \\\"gross_rent\\\"], \\\"value\\\": {\\\"__ndarray__\\\": \\\"u1cFrAbfeEDpu/UMp/iFQAAAAAAAKKJAAAAAAAA2p0A=\\\", \\\"dtype\\\": \\\"float64\\\", \\\"order\\\": \\\"little\\\", \\\"shape\\\": [4]}, \\\"xoffsets\\\": [[\\\"2012\\\", \\\"sale_price_sqr_foot\\\"], [\\\"2013\\\", \\\"sale_price_sqr_foot\\\"], [\\\"2012\\\", \\\"gross_rent\\\"], [\\\"2013\\\", \\\"gross_rent\\\"]], \\\"year\\\": [\\\"2012\\\", \\\"2013\\\", \\\"2012\\\", \\\"2013\\\"]}}], \\\"references\\\": []}\",\"header\":\"{\\\"msgid\\\": \\\"2812\\\", \\\"msgtype\\\": \\\"PATCH-DOC\\\"}\",\"metadata\":\"{}\"},\"Miraloma Park\":{\"content\":\"{\\\"events\\\": [{\\\"attr\\\": \\\"factors\\\", \\\"kind\\\": \\\"ModelChanged\\\", \\\"model\\\": {\\\"id\\\": \\\"2532\\\"}, \\\"new\\\": [[\\\"2010\\\", \\\"gross_rent\\\"], [\\\"2010\\\", \\\"sale_price_sqr_foot\\\"], [\\\"2011\\\", \\\"gross_rent\\\"], [\\\"2011\\\", \\\"sale_price_sqr_foot\\\"], [\\\"2012\\\", \\\"gross_rent\\\"], [\\\"2012\\\", \\\"sale_price_sqr_foot\\\"], [\\\"2014\\\", \\\"gross_rent\\\"], [\\\"2014\\\", \\\"sale_price_sqr_foot\\\"]]}, {\\\"attr\\\": \\\"end\\\", \\\"kind\\\": \\\"ModelChanged\\\", \\\"model\\\": {\\\"id\\\": \\\"2533\\\"}, \\\"new\\\": 3839.332393522396}, {\\\"attr\\\": \\\"reset_end\\\", \\\"kind\\\": \\\"ModelChanged\\\", \\\"model\\\": {\\\"id\\\": \\\"2533\\\"}, \\\"new\\\": 3839.332393522396}, {\\\"attr\\\": \\\"text\\\", \\\"kind\\\": \\\"ModelChanged\\\", \\\"model\\\": {\\\"id\\\": \\\"2536\\\"}, \\\"new\\\": \\\"neighborhood: Miraloma Park\\\"}, {\\\"cols\\\": null, \\\"column_source\\\": {\\\"id\\\": \\\"2565\\\"}, \\\"kind\\\": \\\"ColumnDataChanged\\\", \\\"new\\\": {\\\"Variable\\\": [\\\"sale_price_sqr_foot\\\", \\\"sale_price_sqr_foot\\\", \\\"sale_price_sqr_foot\\\", \\\"sale_price_sqr_foot\\\", \\\"gross_rent\\\", \\\"gross_rent\\\", \\\"gross_rent\\\", \\\"gross_rent\\\"], \\\"value\\\": {\\\"__ndarray__\\\": \\\"nv5hrd5EhUDxcEwp0ep5QKIzmfqJoYdAXElslxDPk0AAAAAAAFyTQAAAAAAA6JdAAAAAAAAookAAAAAAAJCrQA==\\\", \\\"dtype\\\": \\\"float64\\\", \\\"order\\\": \\\"little\\\", \\\"shape\\\": [8]}, \\\"xoffsets\\\": [[\\\"2010\\\", \\\"sale_price_sqr_foot\\\"], [\\\"2011\\\", \\\"sale_price_sqr_foot\\\"], [\\\"2012\\\", \\\"sale_price_sqr_foot\\\"], [\\\"2014\\\", \\\"sale_price_sqr_foot\\\"], [\\\"2010\\\", \\\"gross_rent\\\"], [\\\"2011\\\", \\\"gross_rent\\\"], [\\\"2012\\\", \\\"gross_rent\\\"], [\\\"2014\\\", \\\"gross_rent\\\"]], \\\"year\\\": [\\\"2010\\\", \\\"2011\\\", \\\"2012\\\", \\\"2014\\\", \\\"2010\\\", \\\"2011\\\", \\\"2012\\\", \\\"2014\\\"]}}], \\\"references\\\": []}\",\"header\":\"{\\\"msgid\\\": \\\"2807\\\", \\\"msgtype\\\": \\\"PATCH-DOC\\\"}\",\"metadata\":\"{}\"},\"Mission Bay\":{\"content\":\"{\\\"events\\\": [{\\\"attr\\\": \\\"factors\\\", \\\"kind\\\": \\\"ModelChanged\\\", \\\"model\\\": {\\\"id\\\": \\\"2532\\\"}, \\\"new\\\": [[\\\"2010\\\", \\\"gross_rent\\\"], [\\\"2010\\\", \\\"sale_price_sqr_foot\\\"], [\\\"2011\\\", \\\"gross_rent\\\"], [\\\"2011\\\", \\\"sale_price_sqr_foot\\\"], [\\\"2012\\\", \\\"gross_rent\\\"], [\\\"2012\\\", \\\"sale_price_sqr_foot\\\"], [\\\"2013\\\", \\\"gross_rent\\\"], [\\\"2013\\\", \\\"sale_price_sqr_foot\\\"], [\\\"2014\\\", \\\"gross_rent\\\"], [\\\"2014\\\", \\\"sale_price_sqr_foot\\\"], [\\\"2016\\\", \\\"gross_rent\\\"], [\\\"2016\\\", \\\"sale_price_sqr_foot\\\"]]}, {\\\"attr\\\": \\\"end\\\", \\\"kind\\\": \\\"ModelChanged\\\", \\\"model\\\": {\\\"id\\\": \\\"2533\\\"}, \\\"new\\\": 4806.988891280829}, {\\\"attr\\\": \\\"reset_end\\\", \\\"kind\\\": \\\"ModelChanged\\\", \\\"model\\\": {\\\"id\\\": \\\"2533\\\"}, \\\"new\\\": 4806.988891280829}, {\\\"attr\\\": \\\"text\\\", \\\"kind\\\": \\\"ModelChanged\\\", \\\"model\\\": {\\\"id\\\": \\\"2536\\\"}, \\\"new\\\": \\\"neighborhood: Mission Bay\\\"}, {\\\"cols\\\": null, \\\"column_source\\\": {\\\"id\\\": \\\"2565\\\"}, \\\"kind\\\": \\\"ColumnDataChanged\\\", \\\"new\\\": {\\\"Variable\\\": [\\\"sale_price_sqr_foot\\\", \\\"sale_price_sqr_foot\\\", \\\"sale_price_sqr_foot\\\", \\\"sale_price_sqr_foot\\\", \\\"sale_price_sqr_foot\\\", \\\"sale_price_sqr_foot\\\", \\\"gross_rent\\\", \\\"gross_rent\\\", \\\"gross_rent\\\", \\\"gross_rent\\\", \\\"gross_rent\\\", \\\"gross_rent\\\"], \\\"value\\\": {\\\"__ndarray__\\\": \\\"YJ/P0+KcfkA4flQbPK9/QDDJZL4vjIVAAAAAAAAA+H/q7LkGjoNrQAVqo4yN5IxAAAAAAABck0AAAAAAAOiXQAAAAAAAKKJAAAAAAAA2p0AAAAAAAJCrQAAAAAAAJrFA\\\", \\\"dtype\\\": \\\"float64\\\", \\\"order\\\": \\\"little\\\", \\\"shape\\\": [12]}, \\\"xoffsets\\\": [[\\\"2010\\\", \\\"sale_price_sqr_foot\\\"], [\\\"2011\\\", \\\"sale_price_sqr_foot\\\"], [\\\"2012\\\", \\\"sale_price_sqr_foot\\\"], [\\\"2013\\\", \\\"sale_price_sqr_foot\\\"], [\\\"2014\\\", \\\"sale_price_sqr_foot\\\"], [\\\"2016\\\", \\\"sale_price_sqr_foot\\\"], [\\\"2010\\\", \\\"gross_rent\\\"], [\\\"2011\\\", \\\"gross_rent\\\"], [\\\"2012\\\", \\\"gross_rent\\\"], [\\\"2013\\\", \\\"gross_rent\\\"], [\\\"2014\\\", \\\"gross_rent\\\"], [\\\"2016\\\", \\\"gross_rent\\\"]], \\\"year\\\": [\\\"2010\\\", \\\"2011\\\", \\\"2012\\\", \\\"2013\\\", \\\"2014\\\", \\\"2016\\\", \\\"2010\\\", \\\"2011\\\", \\\"2012\\\", \\\"2013\\\", \\\"2014\\\", \\\"2016\\\"]}}], \\\"references\\\": []}\",\"header\":\"{\\\"msgid\\\": \\\"2802\\\", \\\"msgtype\\\": \\\"PATCH-DOC\\\"}\",\"metadata\":\"{}\"},\"Mission Dolores\":{\"content\":\"{\\\"events\\\": [{\\\"attr\\\": \\\"factors\\\", \\\"kind\\\": \\\"ModelChanged\\\", \\\"model\\\": {\\\"id\\\": \\\"2532\\\"}, \\\"new\\\": [[\\\"2010\\\", \\\"gross_rent\\\"], [\\\"2010\\\", \\\"sale_price_sqr_foot\\\"], [\\\"2011\\\", \\\"gross_rent\\\"], [\\\"2011\\\", \\\"sale_price_sqr_foot\\\"], [\\\"2012\\\", \\\"gross_rent\\\"], [\\\"2012\\\", \\\"sale_price_sqr_foot\\\"], [\\\"2013\\\", \\\"gross_rent\\\"], [\\\"2013\\\", \\\"sale_price_sqr_foot\\\"], [\\\"2014\\\", \\\"gross_rent\\\"], [\\\"2014\\\", \\\"sale_price_sqr_foot\\\"], [\\\"2015\\\", \\\"gross_rent\\\"], [\\\"2015\\\", \\\"sale_price_sqr_foot\\\"]]}, {\\\"attr\\\": \\\"end\\\", \\\"kind\\\": \\\"ModelChanged\\\", \\\"model\\\": {\\\"id\\\": \\\"2533\\\"}, \\\"new\\\": 4087.1012001364993}, {\\\"attr\\\": \\\"reset_end\\\", \\\"kind\\\": \\\"ModelChanged\\\", \\\"model\\\": {\\\"id\\\": \\\"2533\\\"}, \\\"new\\\": 4087.1012001364993}, {\\\"attr\\\": \\\"text\\\", \\\"kind\\\": \\\"ModelChanged\\\", \\\"model\\\": {\\\"id\\\": \\\"2536\\\"}, \\\"new\\\": \\\"neighborhood: Mission Dolores\\\"}, {\\\"cols\\\": null, \\\"column_source\\\": {\\\"id\\\": \\\"2565\\\"}, \\\"kind\\\": \\\"ColumnDataChanged\\\", \\\"new\\\": {\\\"Variable\\\": [\\\"sale_price_sqr_foot\\\", \\\"sale_price_sqr_foot\\\", \\\"sale_price_sqr_foot\\\", \\\"sale_price_sqr_foot\\\", \\\"sale_price_sqr_foot\\\", \\\"sale_price_sqr_foot\\\", \\\"gross_rent\\\", \\\"gross_rent\\\", \\\"gross_rent\\\", \\\"gross_rent\\\", \\\"gross_rent\\\", \\\"gross_rent\\\"], \\\"value\\\": {\\\"__ndarray__\\\": \\\"jx2o184fcEDnKsbKd1ZyQHi6P9hbD3RAu5WvBqmyekDqY725wRGEQPso77AL3oFAAAAAAABck0AAAAAAAOiXQAAAAAAAKKJAAAAAAAA2p0AAAAAAAJCrQAAAAAAANq1A\\\", \\\"dtype\\\": \\\"float64\\\", \\\"order\\\": \\\"little\\\", \\\"shape\\\": [12]}, \\\"xoffsets\\\": [[\\\"2010\\\", \\\"sale_price_sqr_foot\\\"], [\\\"2011\\\", \\\"sale_price_sqr_foot\\\"], [\\\"2012\\\", \\\"sale_price_sqr_foot\\\"], [\\\"2013\\\", \\\"sale_price_sqr_foot\\\"], [\\\"2014\\\", \\\"sale_price_sqr_foot\\\"], [\\\"2015\\\", \\\"sale_price_sqr_foot\\\"], [\\\"2010\\\", \\\"gross_rent\\\"], [\\\"2011\\\", \\\"gross_rent\\\"], [\\\"2012\\\", \\\"gross_rent\\\"], [\\\"2013\\\", \\\"gross_rent\\\"], [\\\"2014\\\", \\\"gross_rent\\\"], [\\\"2015\\\", \\\"gross_rent\\\"]], \\\"year\\\": [\\\"2010\\\", \\\"2011\\\", \\\"2012\\\", \\\"2013\\\", \\\"2014\\\", \\\"2015\\\", \\\"2010\\\", \\\"2011\\\", \\\"2012\\\", \\\"2013\\\", \\\"2014\\\", \\\"2015\\\"]}}], \\\"references\\\": []}\",\"header\":\"{\\\"msgid\\\": \\\"2797\\\", \\\"msgtype\\\": \\\"PATCH-DOC\\\"}\",\"metadata\":\"{}\"},\"Mission Terrace\":{\"content\":\"{\\\"events\\\": [{\\\"attr\\\": \\\"factors\\\", \\\"kind\\\": \\\"ModelChanged\\\", \\\"model\\\": {\\\"id\\\": \\\"2532\\\"}, \\\"new\\\": [[\\\"2010\\\", \\\"gross_rent\\\"], [\\\"2010\\\", \\\"sale_price_sqr_foot\\\"], [\\\"2013\\\", \\\"gross_rent\\\"], [\\\"2013\\\", \\\"sale_price_sqr_foot\\\"], [\\\"2014\\\", \\\"gross_rent\\\"], [\\\"2014\\\", \\\"sale_price_sqr_foot\\\"], [\\\"2015\\\", \\\"gross_rent\\\"], [\\\"2015\\\", \\\"sale_price_sqr_foot\\\"], [\\\"2016\\\", \\\"gross_rent\\\"], [\\\"2016\\\", \\\"sale_price_sqr_foot\\\"]]}, {\\\"attr\\\": \\\"end\\\", \\\"kind\\\": \\\"ModelChanged\\\", \\\"model\\\": {\\\"id\\\": \\\"2533\\\"}, \\\"new\\\": 4802.712397435944}, {\\\"attr\\\": \\\"reset_end\\\", \\\"kind\\\": \\\"ModelChanged\\\", \\\"model\\\": {\\\"id\\\": \\\"2533\\\"}, \\\"new\\\": 4802.712397435944}, {\\\"attr\\\": \\\"text\\\", \\\"kind\\\": \\\"ModelChanged\\\", \\\"model\\\": {\\\"id\\\": \\\"2536\\\"}, \\\"new\\\": \\\"neighborhood: Mission Terrace\\\"}, {\\\"cols\\\": null, \\\"column_source\\\": {\\\"id\\\": \\\"2565\\\"}, \\\"kind\\\": \\\"ColumnDataChanged\\\", \\\"new\\\": {\\\"Variable\\\": [\\\"sale_price_sqr_foot\\\", \\\"sale_price_sqr_foot\\\", \\\"sale_price_sqr_foot\\\", \\\"sale_price_sqr_foot\\\", \\\"sale_price_sqr_foot\\\", \\\"gross_rent\\\", \\\"gross_rent\\\", \\\"gross_rent\\\", \\\"gross_rent\\\", \\\"gross_rent\\\"], \\\"value\\\": {\\\"__ndarray__\\\": \\\"5Up2MwRucEDCIHpXN3uCQAn27jf/wnJA7NvKAco+gkD7adXXIniLQAAAAAAAXJNAAAAAAAA2p0AAAAAAAJCrQAAAAAAANq1AAAAAAAAmsUA=\\\", \\\"dtype\\\": \\\"float64\\\", \\\"order\\\": \\\"little\\\", \\\"shape\\\": [10]}, \\\"xoffsets\\\": [[\\\"2010\\\", \\\"sale_price_sqr_foot\\\"], [\\\"2013\\\", \\\"sale_price_sqr_foot\\\"], [\\\"2014\\\", \\\"sale_price_sqr_foot\\\"], [\\\"2015\\\", \\\"sale_price_sqr_foot\\\"], [\\\"2016\\\", \\\"sale_price_sqr_foot\\\"], [\\\"2010\\\", \\\"gross_rent\\\"], [\\\"2013\\\", \\\"gross_rent\\\"], [\\\"2014\\\", \\\"gross_rent\\\"], [\\\"2015\\\", \\\"gross_rent\\\"], [\\\"2016\\\", \\\"gross_rent\\\"]], \\\"year\\\": [\\\"2010\\\", \\\"2013\\\", \\\"2014\\\", \\\"2015\\\", \\\"2016\\\", \\\"2010\\\", \\\"2013\\\", \\\"2014\\\", \\\"2015\\\", \\\"2016\\\"]}}], \\\"references\\\": []}\",\"header\":\"{\\\"msgid\\\": \\\"2792\\\", \\\"msgtype\\\": \\\"PATCH-DOC\\\"}\",\"metadata\":\"{}\"},\"Nob Hill\":{\"content\":\"{\\\"events\\\": [{\\\"attr\\\": \\\"end\\\", \\\"kind\\\": \\\"ModelChanged\\\", \\\"model\\\": {\\\"id\\\": \\\"2533\\\"}, \\\"new\\\": 4798.2322523255725}, {\\\"attr\\\": \\\"reset_end\\\", \\\"kind\\\": \\\"ModelChanged\\\", \\\"model\\\": {\\\"id\\\": \\\"2533\\\"}, \\\"new\\\": 4798.2322523255725}, {\\\"attr\\\": \\\"text\\\", \\\"kind\\\": \\\"ModelChanged\\\", \\\"model\\\": {\\\"id\\\": \\\"2536\\\"}, \\\"new\\\": \\\"neighborhood: Nob Hill\\\"}, {\\\"cols\\\": null, \\\"column_source\\\": {\\\"id\\\": \\\"2565\\\"}, \\\"kind\\\": \\\"ColumnDataChanged\\\", \\\"new\\\": {\\\"Variable\\\": [\\\"sale_price_sqr_foot\\\", \\\"sale_price_sqr_foot\\\", \\\"sale_price_sqr_foot\\\", \\\"sale_price_sqr_foot\\\", \\\"sale_price_sqr_foot\\\", \\\"sale_price_sqr_foot\\\", \\\"sale_price_sqr_foot\\\", \\\"gross_rent\\\", \\\"gross_rent\\\", \\\"gross_rent\\\", \\\"gross_rent\\\", \\\"gross_rent\\\", \\\"gross_rent\\\", \\\"gross_rent\\\"], \\\"value\\\": {\\\"__ndarray__\\\": \\\"nsfa8dY6c0Dw6sQTSEp1QNOp9qKHPHNANu2GfmwgfUCD5gH4F+d9QN20QE/HjoBA5tc1BxFIiEAAAAAAAFyTQAAAAAAA6JdAAAAAAAAookAAAAAAADanQAAAAAAAkKtAAAAAAAA2rUAAAAAAACaxQA==\\\", \\\"dtype\\\": \\\"float64\\\", \\\"order\\\": \\\"little\\\", \\\"shape\\\": [14]}, \\\"xoffsets\\\": [[\\\"2010\\\", \\\"sale_price_sqr_foot\\\"], [\\\"2011\\\", \\\"sale_price_sqr_foot\\\"], [\\\"2012\\\", \\\"sale_price_sqr_foot\\\"], [\\\"2013\\\", \\\"sale_price_sqr_foot\\\"], [\\\"2014\\\", \\\"sale_price_sqr_foot\\\"], [\\\"2015\\\", \\\"sale_price_sqr_foot\\\"], [\\\"2016\\\", \\\"sale_price_sqr_foot\\\"], [\\\"2010\\\", \\\"gross_rent\\\"], [\\\"2011\\\", \\\"gross_rent\\\"], [\\\"2012\\\", \\\"gross_rent\\\"], [\\\"2013\\\", \\\"gross_rent\\\"], [\\\"2014\\\", \\\"gross_rent\\\"], [\\\"2015\\\", \\\"gross_rent\\\"], [\\\"2016\\\", \\\"gross_rent\\\"]], \\\"year\\\": [\\\"2010\\\", \\\"2011\\\", \\\"2012\\\", \\\"2013\\\", \\\"2014\\\", \\\"2015\\\", \\\"2016\\\", \\\"2010\\\", \\\"2011\\\", \\\"2012\\\", \\\"2013\\\", \\\"2014\\\", \\\"2015\\\", \\\"2016\\\"]}}], \\\"references\\\": []}\",\"header\":\"{\\\"msgid\\\": \\\"2787\\\", \\\"msgtype\\\": \\\"PATCH-DOC\\\"}\",\"metadata\":\"{}\"},\"Noe Valley\":{\"content\":\"{\\\"events\\\": [{\\\"attr\\\": \\\"factors\\\", \\\"kind\\\": \\\"ModelChanged\\\", \\\"model\\\": {\\\"id\\\": \\\"2532\\\"}, \\\"new\\\": [[\\\"2010\\\", \\\"gross_rent\\\"], [\\\"2010\\\", \\\"sale_price_sqr_foot\\\"], [\\\"2011\\\", \\\"gross_rent\\\"], [\\\"2011\\\", \\\"sale_price_sqr_foot\\\"], [\\\"2012\\\", \\\"gross_rent\\\"], [\\\"2012\\\", \\\"sale_price_sqr_foot\\\"], [\\\"2013\\\", \\\"gross_rent\\\"], [\\\"2013\\\", \\\"sale_price_sqr_foot\\\"], [\\\"2014\\\", \\\"gross_rent\\\"], [\\\"2014\\\", \\\"sale_price_sqr_foot\\\"], [\\\"2015\\\", \\\"gross_rent\\\"], [\\\"2015\\\", \\\"sale_price_sqr_foot\\\"], [\\\"2016\\\", \\\"gross_rent\\\"], [\\\"2016\\\", \\\"sale_price_sqr_foot\\\"]]}, {\\\"attr\\\": \\\"end\\\", \\\"kind\\\": \\\"ModelChanged\\\", \\\"model\\\": {\\\"id\\\": \\\"2533\\\"}, \\\"new\\\": 4791.602131293244}, {\\\"attr\\\": \\\"reset_end\\\", \\\"kind\\\": \\\"ModelChanged\\\", \\\"model\\\": {\\\"id\\\": \\\"2533\\\"}, \\\"new\\\": 4791.602131293244}, {\\\"attr\\\": \\\"text\\\", \\\"kind\\\": \\\"ModelChanged\\\", \\\"model\\\": {\\\"id\\\": \\\"2536\\\"}, \\\"new\\\": \\\"neighborhood: Noe Valley\\\"}, {\\\"cols\\\": null, \\\"column_source\\\": {\\\"id\\\": \\\"2565\\\"}, \\\"kind\\\": \\\"ColumnDataChanged\\\", \\\"new\\\": {\\\"Variable\\\": [\\\"sale_price_sqr_foot\\\", \\\"sale_price_sqr_foot\\\", \\\"sale_price_sqr_foot\\\", \\\"sale_price_sqr_foot\\\", \\\"sale_price_sqr_foot\\\", \\\"sale_price_sqr_foot\\\", \\\"sale_price_sqr_foot\\\", \\\"gross_rent\\\", \\\"gross_rent\\\", \\\"gross_rent\\\", \\\"gross_rent\\\", \\\"gross_rent\\\", \\\"gross_rent\\\", \\\"gross_rent\\\"], \\\"value\\\": {\\\"__ndarray__\\\": \\\"GS5CEjfSd0B9QsWzqF93QIDKIsFZwHpAI9iT7YI4g0DciMZ4aXaEQKBBKlfNBIFAOogEGPf7iEAAAAAAAFyTQAAAAAAA6JdAAAAAAAAookAAAAAAADanQAAAAAAAkKtAAAAAAAA2rUAAAAAAACaxQA==\\\", \\\"dtype\\\": \\\"float64\\\", \\\"order\\\": \\\"little\\\", \\\"shape\\\": [14]}, \\\"xoffsets\\\": [[\\\"2010\\\", \\\"sale_price_sqr_foot\\\"], [\\\"2011\\\", \\\"sale_price_sqr_foot\\\"], [\\\"2012\\\", \\\"sale_price_sqr_foot\\\"], [\\\"2013\\\", \\\"sale_price_sqr_foot\\\"], [\\\"2014\\\", \\\"sale_price_sqr_foot\\\"], [\\\"2015\\\", \\\"sale_price_sqr_foot\\\"], [\\\"2016\\\", \\\"sale_price_sqr_foot\\\"], [\\\"2010\\\", \\\"gross_rent\\\"], [\\\"2011\\\", \\\"gross_rent\\\"], [\\\"2012\\\", \\\"gross_rent\\\"], [\\\"2013\\\", \\\"gross_rent\\\"], [\\\"2014\\\", \\\"gross_rent\\\"], [\\\"2015\\\", \\\"gross_rent\\\"], [\\\"2016\\\", \\\"gross_rent\\\"]], \\\"year\\\": [\\\"2010\\\", \\\"2011\\\", \\\"2012\\\", \\\"2013\\\", \\\"2014\\\", \\\"2015\\\", \\\"2016\\\", \\\"2010\\\", \\\"2011\\\", \\\"2012\\\", \\\"2013\\\", \\\"2014\\\", \\\"2015\\\", \\\"2016\\\"]}}], \\\"references\\\": []}\",\"header\":\"{\\\"msgid\\\": \\\"2782\\\", \\\"msgtype\\\": \\\"PATCH-DOC\\\"}\",\"metadata\":\"{}\"},\"North Beach\":{\"content\":\"{\\\"events\\\": [{\\\"attr\\\": \\\"factors\\\", \\\"kind\\\": \\\"ModelChanged\\\", \\\"model\\\": {\\\"id\\\": \\\"2532\\\"}, \\\"new\\\": [[\\\"2011\\\", \\\"gross_rent\\\"], [\\\"2011\\\", \\\"sale_price_sqr_foot\\\"], [\\\"2012\\\", \\\"gross_rent\\\"], [\\\"2012\\\", \\\"sale_price_sqr_foot\\\"], [\\\"2013\\\", \\\"gross_rent\\\"], [\\\"2013\\\", \\\"sale_price_sqr_foot\\\"], [\\\"2015\\\", \\\"gross_rent\\\"], [\\\"2015\\\", \\\"sale_price_sqr_foot\\\"], [\\\"2016\\\", \\\"gross_rent\\\"], [\\\"2016\\\", \\\"sale_price_sqr_foot\\\"]]}, {\\\"attr\\\": \\\"end\\\", \\\"kind\\\": \\\"ModelChanged\\\", \\\"model\\\": {\\\"id\\\": \\\"2533\\\"}, \\\"new\\\": 4799.907896729004}, {\\\"attr\\\": \\\"reset_end\\\", \\\"kind\\\": \\\"ModelChanged\\\", \\\"model\\\": {\\\"id\\\": \\\"2533\\\"}, \\\"new\\\": 4799.907896729004}, {\\\"attr\\\": \\\"text\\\", \\\"kind\\\": \\\"ModelChanged\\\", \\\"model\\\": {\\\"id\\\": \\\"2536\\\"}, \\\"new\\\": \\\"neighborhood: North Beach\\\"}, {\\\"cols\\\": null, \\\"column_source\\\": {\\\"id\\\": \\\"2565\\\"}, \\\"kind\\\": \\\"ColumnDataChanged\\\", \\\"new\\\": {\\\"Variable\\\": [\\\"sale_price_sqr_foot\\\", \\\"sale_price_sqr_foot\\\", \\\"sale_price_sqr_foot\\\", \\\"sale_price_sqr_foot\\\", \\\"sale_price_sqr_foot\\\", \\\"gross_rent\\\", \\\"gross_rent\\\", \\\"gross_rent\\\", \\\"gross_rent\\\", \\\"gross_rent\\\"], \\\"value\\\": {\\\"__ndarray__\\\": \\\"P33LjLwuckC+7VtQYymAQEOToDR6m3hA0knGOugNfEByKLVn2nh5QAAAAAAA6JdAAAAAAAAookAAAAAAADanQAAAAAAANq1AAAAAAAAmsUA=\\\", \\\"dtype\\\": \\\"float64\\\", \\\"order\\\": \\\"little\\\", \\\"shape\\\": [10]}, \\\"xoffsets\\\": [[\\\"2011\\\", \\\"sale_price_sqr_foot\\\"], [\\\"2012\\\", \\\"sale_price_sqr_foot\\\"], [\\\"2013\\\", \\\"sale_price_sqr_foot\\\"], [\\\"2015\\\", \\\"sale_price_sqr_foot\\\"], [\\\"2016\\\", \\\"sale_price_sqr_foot\\\"], [\\\"2011\\\", \\\"gross_rent\\\"], [\\\"2012\\\", \\\"gross_rent\\\"], [\\\"2013\\\", \\\"gross_rent\\\"], [\\\"2015\\\", \\\"gross_rent\\\"], [\\\"2016\\\", \\\"gross_rent\\\"]], \\\"year\\\": [\\\"2011\\\", \\\"2012\\\", \\\"2013\\\", \\\"2015\\\", \\\"2016\\\", \\\"2011\\\", \\\"2012\\\", \\\"2013\\\", \\\"2015\\\", \\\"2016\\\"]}}], \\\"references\\\": []}\",\"header\":\"{\\\"msgid\\\": \\\"2777\\\", \\\"msgtype\\\": \\\"PATCH-DOC\\\"}\",\"metadata\":\"{}\"},\"North Waterfront\":{\"content\":\"{\\\"events\\\": [{\\\"attr\\\": \\\"factors\\\", \\\"kind\\\": \\\"ModelChanged\\\", \\\"model\\\": {\\\"id\\\": \\\"2532\\\"}, \\\"new\\\": [[\\\"2011\\\", \\\"gross_rent\\\"], [\\\"2011\\\", \\\"sale_price_sqr_foot\\\"], [\\\"2012\\\", \\\"gross_rent\\\"], [\\\"2012\\\", \\\"sale_price_sqr_foot\\\"], [\\\"2013\\\", \\\"gross_rent\\\"], [\\\"2013\\\", \\\"sale_price_sqr_foot\\\"], [\\\"2014\\\", \\\"gross_rent\\\"], [\\\"2014\\\", \\\"sale_price_sqr_foot\\\"], [\\\"2015\\\", \\\"gross_rent\\\"], [\\\"2015\\\", \\\"sale_price_sqr_foot\\\"]]}, {\\\"attr\\\": \\\"end\\\", \\\"kind\\\": \\\"ModelChanged\\\", \\\"model\\\": {\\\"id\\\": \\\"2533\\\"}, \\\"new\\\": 4078.20388399844}, {\\\"attr\\\": \\\"reset_end\\\", \\\"kind\\\": \\\"ModelChanged\\\", \\\"model\\\": {\\\"id\\\": \\\"2533\\\"}, \\\"new\\\": 4078.20388399844}, {\\\"attr\\\": \\\"text\\\", \\\"kind\\\": \\\"ModelChanged\\\", \\\"model\\\": {\\\"id\\\": \\\"2536\\\"}, \\\"new\\\": \\\"neighborhood: North Waterfront\\\"}, {\\\"cols\\\": null, \\\"column_source\\\": {\\\"id\\\": \\\"2565\\\"}, \\\"kind\\\": \\\"ColumnDataChanged\\\", \\\"new\\\": {\\\"Variable\\\": [\\\"sale_price_sqr_foot\\\", \\\"sale_price_sqr_foot\\\", \\\"sale_price_sqr_foot\\\", \\\"sale_price_sqr_foot\\\", \\\"sale_price_sqr_foot\\\", \\\"gross_rent\\\", \\\"gross_rent\\\", \\\"gross_rent\\\", \\\"gross_rent\\\", \\\"gross_rent\\\"], \\\"value\\\": {\\\"__ndarray__\\\": \\\"vxNT6WCvdUByVgFHJGZ4QBwxImuzMn5A+QsZSM6+d0DjisnYRteLQAAAAAAA6JdAAAAAAAAookAAAAAAADanQAAAAAAAkKtAAAAAAAA2rUA=\\\", \\\"dtype\\\": \\\"float64\\\", \\\"order\\\": \\\"little\\\", \\\"shape\\\": [10]}, \\\"xoffsets\\\": [[\\\"2011\\\", \\\"sale_price_sqr_foot\\\"], [\\\"2012\\\", \\\"sale_price_sqr_foot\\\"], [\\\"2013\\\", \\\"sale_price_sqr_foot\\\"], [\\\"2014\\\", \\\"sale_price_sqr_foot\\\"], [\\\"2015\\\", \\\"sale_price_sqr_foot\\\"], [\\\"2011\\\", \\\"gross_rent\\\"], [\\\"2012\\\", \\\"gross_rent\\\"], [\\\"2013\\\", \\\"gross_rent\\\"], [\\\"2014\\\", \\\"gross_rent\\\"], [\\\"2015\\\", \\\"gross_rent\\\"]], \\\"year\\\": [\\\"2011\\\", \\\"2012\\\", \\\"2013\\\", \\\"2014\\\", \\\"2015\\\", \\\"2011\\\", \\\"2012\\\", \\\"2013\\\", \\\"2014\\\", \\\"2015\\\"]}}], \\\"references\\\": []}\",\"header\":\"{\\\"msgid\\\": \\\"2772\\\", \\\"msgtype\\\": \\\"PATCH-DOC\\\"}\",\"metadata\":\"{}\"},\"Oceanview\":{\"content\":\"{\\\"events\\\": [{\\\"attr\\\": \\\"factors\\\", \\\"kind\\\": \\\"ModelChanged\\\", \\\"model\\\": {\\\"id\\\": \\\"2532\\\"}, \\\"new\\\": [[\\\"2010\\\", \\\"gross_rent\\\"], [\\\"2010\\\", \\\"sale_price_sqr_foot\\\"], [\\\"2012\\\", \\\"gross_rent\\\"], [\\\"2012\\\", \\\"sale_price_sqr_foot\\\"], [\\\"2015\\\", \\\"gross_rent\\\"], [\\\"2015\\\", \\\"sale_price_sqr_foot\\\"]]}, {\\\"attr\\\": \\\"end\\\", \\\"kind\\\": \\\"ModelChanged\\\", \\\"model\\\": {\\\"id\\\": \\\"2533\\\"}, \\\"new\\\": 4086.307017349673}, {\\\"attr\\\": \\\"reset_end\\\", \\\"kind\\\": \\\"ModelChanged\\\", \\\"model\\\": {\\\"id\\\": \\\"2533\\\"}, \\\"new\\\": 4086.307017349673}, {\\\"attr\\\": \\\"text\\\", \\\"kind\\\": \\\"ModelChanged\\\", \\\"model\\\": {\\\"id\\\": \\\"2536\\\"}, \\\"new\\\": \\\"neighborhood: Oceanview\\\"}, {\\\"cols\\\": null, \\\"column_source\\\": {\\\"id\\\": \\\"2565\\\"}, \\\"kind\\\": \\\"ColumnDataChanged\\\", \\\"new\\\": {\\\"Variable\\\": [\\\"sale_price_sqr_foot\\\", \\\"sale_price_sqr_foot\\\", \\\"sale_price_sqr_foot\\\", \\\"gross_rent\\\", \\\"gross_rent\\\", \\\"gross_rent\\\"], \\\"value\\\": {\\\"__ndarray__\\\": \\\"jJidK+qhcUAVBUTs4aN7QP1nwZHgnnBAAAAAAABck0AAAAAAACiiQAAAAAAANq1A\\\", \\\"dtype\\\": \\\"float64\\\", \\\"order\\\": \\\"little\\\", \\\"shape\\\": [6]}, \\\"xoffsets\\\": [[\\\"2010\\\", \\\"sale_price_sqr_foot\\\"], [\\\"2012\\\", \\\"sale_price_sqr_foot\\\"], [\\\"2015\\\", \\\"sale_price_sqr_foot\\\"], [\\\"2010\\\", \\\"gross_rent\\\"], [\\\"2012\\\", \\\"gross_rent\\\"], [\\\"2015\\\", \\\"gross_rent\\\"]], \\\"year\\\": [\\\"2010\\\", \\\"2012\\\", \\\"2015\\\", \\\"2010\\\", \\\"2012\\\", \\\"2015\\\"]}}], \\\"references\\\": []}\",\"header\":\"{\\\"msgid\\\": \\\"2767\\\", \\\"msgtype\\\": \\\"PATCH-DOC\\\"}\",\"metadata\":\"{}\"},\"Outer Mission\":{\"content\":\"{\\\"events\\\": [{\\\"attr\\\": \\\"factors\\\", \\\"kind\\\": \\\"ModelChanged\\\", \\\"model\\\": {\\\"id\\\": \\\"2532\\\"}, \\\"new\\\": [[\\\"2011\\\", \\\"gross_rent\\\"], [\\\"2011\\\", \\\"sale_price_sqr_foot\\\"], [\\\"2012\\\", \\\"gross_rent\\\"], [\\\"2012\\\", \\\"sale_price_sqr_foot\\\"], [\\\"2015\\\", \\\"gross_rent\\\"], [\\\"2015\\\", \\\"sale_price_sqr_foot\\\"], [\\\"2016\\\", \\\"gross_rent\\\"], [\\\"2016\\\", \\\"sale_price_sqr_foot\\\"]]}, {\\\"attr\\\": \\\"end\\\", \\\"kind\\\": \\\"ModelChanged\\\", \\\"model\\\": {\\\"id\\\": \\\"2533\\\"}, \\\"new\\\": 4824.922737464815}, {\\\"attr\\\": \\\"reset_end\\\", \\\"kind\\\": \\\"ModelChanged\\\", \\\"model\\\": {\\\"id\\\": \\\"2533\\\"}, \\\"new\\\": 4824.922737464815}, {\\\"attr\\\": \\\"text\\\", \\\"kind\\\": \\\"ModelChanged\\\", \\\"model\\\": {\\\"id\\\": \\\"2536\\\"}, \\\"new\\\": \\\"neighborhood: Outer Mission\\\"}, {\\\"cols\\\": null, \\\"column_source\\\": {\\\"id\\\": \\\"2565\\\"}, \\\"kind\\\": \\\"ColumnDataChanged\\\", \\\"new\\\": {\\\"Variable\\\": [\\\"sale_price_sqr_foot\\\", \\\"sale_price_sqr_foot\\\", \\\"sale_price_sqr_foot\\\", \\\"sale_price_sqr_foot\\\", \\\"gross_rent\\\", \\\"gross_rent\\\", \\\"gross_rent\\\", \\\"gross_rent\\\"], \\\"value\\\": {\\\"__ndarray__\\\": \\\"VAHB6Y/EYUDRheJJMrxrQMNZqfN/pYFAch01Y+ViREAAAAAAAOiXQAAAAAAAKKJAAAAAAAA2rUAAAAAAACaxQA==\\\", \\\"dtype\\\": \\\"float64\\\", \\\"order\\\": \\\"little\\\", \\\"shape\\\": [8]}, \\\"xoffsets\\\": [[\\\"2011\\\", \\\"sale_price_sqr_foot\\\"], [\\\"2012\\\", \\\"sale_price_sqr_foot\\\"], [\\\"2015\\\", \\\"sale_price_sqr_foot\\\"], [\\\"2016\\\", \\\"sale_price_sqr_foot\\\"], [\\\"2011\\\", \\\"gross_rent\\\"], [\\\"2012\\\", \\\"gross_rent\\\"], [\\\"2015\\\", \\\"gross_rent\\\"], [\\\"2016\\\", \\\"gross_rent\\\"]], \\\"year\\\": [\\\"2011\\\", \\\"2012\\\", \\\"2015\\\", \\\"2016\\\", \\\"2011\\\", \\\"2012\\\", \\\"2015\\\", \\\"2016\\\"]}}], \\\"references\\\": []}\",\"header\":\"{\\\"msgid\\\": \\\"2762\\\", \\\"msgtype\\\": \\\"PATCH-DOC\\\"}\",\"metadata\":\"{}\"},\"Outer Parkside\":{\"content\":\"{\\\"events\\\": [{\\\"attr\\\": \\\"end\\\", \\\"kind\\\": \\\"ModelChanged\\\", \\\"model\\\": {\\\"id\\\": \\\"2533\\\"}, \\\"new\\\": 4804.805434350818}, {\\\"attr\\\": \\\"reset_end\\\", \\\"kind\\\": \\\"ModelChanged\\\", \\\"model\\\": {\\\"id\\\": \\\"2533\\\"}, \\\"new\\\": 4804.805434350818}, {\\\"attr\\\": \\\"text\\\", \\\"kind\\\": \\\"ModelChanged\\\", \\\"model\\\": {\\\"id\\\": \\\"2536\\\"}, \\\"new\\\": \\\"neighborhood: Outer Parkside\\\"}, {\\\"cols\\\": null, \\\"column_source\\\": {\\\"id\\\": \\\"2565\\\"}, \\\"kind\\\": \\\"ColumnDataChanged\\\", \\\"new\\\": {\\\"Variable\\\": [\\\"sale_price_sqr_foot\\\", \\\"sale_price_sqr_foot\\\", \\\"sale_price_sqr_foot\\\", \\\"sale_price_sqr_foot\\\", \\\"sale_price_sqr_foot\\\", \\\"sale_price_sqr_foot\\\", \\\"sale_price_sqr_foot\\\", \\\"gross_rent\\\", \\\"gross_rent\\\", \\\"gross_rent\\\", \\\"gross_rent\\\", \\\"gross_rent\\\", \\\"gross_rent\\\", \\\"gross_rent\\\"], \\\"value\\\": {\\\"__ndarray__\\\": \\\"nUKf6h8De0AqM2fRQj5uQH6d/P9XjXNAQqfjLN9Dd0DfE9xHtVeEQIwwtcJNYoRAKzIM9sPlhkAAAAAAAFyTQAAAAAAA6JdAAAAAAAAookAAAAAAADanQAAAAAAAkKtAAAAAAAA2rUAAAAAAACaxQA==\\\", \\\"dtype\\\": \\\"float64\\\", \\\"order\\\": \\\"little\\\", \\\"shape\\\": [14]}, \\\"xoffsets\\\": [[\\\"2010\\\", \\\"sale_price_sqr_foot\\\"], [\\\"2011\\\", \\\"sale_price_sqr_foot\\\"], [\\\"2012\\\", \\\"sale_price_sqr_foot\\\"], [\\\"2013\\\", \\\"sale_price_sqr_foot\\\"], [\\\"2014\\\", \\\"sale_price_sqr_foot\\\"], [\\\"2015\\\", \\\"sale_price_sqr_foot\\\"], [\\\"2016\\\", \\\"sale_price_sqr_foot\\\"], [\\\"2010\\\", \\\"gross_rent\\\"], [\\\"2011\\\", \\\"gross_rent\\\"], [\\\"2012\\\", \\\"gross_rent\\\"], [\\\"2013\\\", \\\"gross_rent\\\"], [\\\"2014\\\", \\\"gross_rent\\\"], [\\\"2015\\\", \\\"gross_rent\\\"], [\\\"2016\\\", \\\"gross_rent\\\"]], \\\"year\\\": [\\\"2010\\\", \\\"2011\\\", \\\"2012\\\", \\\"2013\\\", \\\"2014\\\", \\\"2015\\\", \\\"2016\\\", \\\"2010\\\", \\\"2011\\\", \\\"2012\\\", \\\"2013\\\", \\\"2014\\\", \\\"2015\\\", \\\"2016\\\"]}}], \\\"references\\\": []}\",\"header\":\"{\\\"msgid\\\": \\\"2757\\\", \\\"msgtype\\\": \\\"PATCH-DOC\\\"}\",\"metadata\":\"{}\"},\"Outer Richmond \":{\"content\":\"{\\\"events\\\": [{\\\"attr\\\": \\\"end\\\", \\\"kind\\\": \\\"ModelChanged\\\", \\\"model\\\": {\\\"id\\\": \\\"2533\\\"}, \\\"new\\\": 4801.890986043068}, {\\\"attr\\\": \\\"reset_end\\\", \\\"kind\\\": \\\"ModelChanged\\\", \\\"model\\\": {\\\"id\\\": \\\"2533\\\"}, \\\"new\\\": 4801.890986043068}, {\\\"attr\\\": \\\"text\\\", \\\"kind\\\": \\\"ModelChanged\\\", \\\"model\\\": {\\\"id\\\": \\\"2536\\\"}, \\\"new\\\": \\\"neighborhood: Outer Richmond\\\"}, {\\\"cols\\\": null, \\\"column_source\\\": {\\\"id\\\": \\\"2565\\\"}, \\\"kind\\\": \\\"ColumnDataChanged\\\", \\\"new\\\": {\\\"Variable\\\": [\\\"sale_price_sqr_foot\\\", \\\"sale_price_sqr_foot\\\", \\\"sale_price_sqr_foot\\\", \\\"sale_price_sqr_foot\\\", \\\"sale_price_sqr_foot\\\", \\\"sale_price_sqr_foot\\\", \\\"sale_price_sqr_foot\\\", \\\"gross_rent\\\", \\\"gross_rent\\\", \\\"gross_rent\\\", \\\"gross_rent\\\", \\\"gross_rent\\\", \\\"gross_rent\\\", \\\"gross_rent\\\"], \\\"value\\\": {\\\"__ndarray__\\\": \\\"B35J6gQidUBmZTA2cfFwQKF06NAgKnVARYFoaYbGdECvXdvZ9R55QL5PqQ58Z3tAoL9q7ZSykkAAAAAAAFyTQAAAAAAA6JdAAAAAAAAookAAAAAAADanQAAAAAAAkKtAAAAAAAA2rUAAAAAAACaxQA==\\\", \\\"dtype\\\": \\\"float64\\\", \\\"order\\\": \\\"little\\\", \\\"shape\\\": [14]}, \\\"xoffsets\\\": [[\\\"2010\\\", \\\"sale_price_sqr_foot\\\"], [\\\"2011\\\", \\\"sale_price_sqr_foot\\\"], [\\\"2012\\\", \\\"sale_price_sqr_foot\\\"], [\\\"2013\\\", \\\"sale_price_sqr_foot\\\"], [\\\"2014\\\", \\\"sale_price_sqr_foot\\\"], [\\\"2015\\\", \\\"sale_price_sqr_foot\\\"], [\\\"2016\\\", \\\"sale_price_sqr_foot\\\"], [\\\"2010\\\", \\\"gross_rent\\\"], [\\\"2011\\\", \\\"gross_rent\\\"], [\\\"2012\\\", \\\"gross_rent\\\"], [\\\"2013\\\", \\\"gross_rent\\\"], [\\\"2014\\\", \\\"gross_rent\\\"], [\\\"2015\\\", \\\"gross_rent\\\"], [\\\"2016\\\", \\\"gross_rent\\\"]], \\\"year\\\": [\\\"2010\\\", \\\"2011\\\", \\\"2012\\\", \\\"2013\\\", \\\"2014\\\", \\\"2015\\\", \\\"2016\\\", \\\"2010\\\", \\\"2011\\\", \\\"2012\\\", \\\"2013\\\", \\\"2014\\\", \\\"2015\\\", \\\"2016\\\"]}}], \\\"references\\\": []}\",\"header\":\"{\\\"msgid\\\": \\\"2752\\\", \\\"msgtype\\\": \\\"PATCH-DOC\\\"}\",\"metadata\":\"{}\"},\"Outer Sunset\":{\"content\":\"{\\\"events\\\": [{\\\"attr\\\": \\\"end\\\", \\\"kind\\\": \\\"ModelChanged\\\", \\\"model\\\": {\\\"id\\\": \\\"2533\\\"}, \\\"new\\\": 4799.2754442154055}, {\\\"attr\\\": \\\"reset_end\\\", \\\"kind\\\": \\\"ModelChanged\\\", \\\"model\\\": {\\\"id\\\": \\\"2533\\\"}, \\\"new\\\": 4799.2754442154055}, {\\\"attr\\\": \\\"text\\\", \\\"kind\\\": \\\"ModelChanged\\\", \\\"model\\\": {\\\"id\\\": \\\"2536\\\"}, \\\"new\\\": \\\"neighborhood: Outer Sunset\\\"}, {\\\"cols\\\": null, \\\"column_source\\\": {\\\"id\\\": \\\"2565\\\"}, \\\"kind\\\": \\\"ColumnDataChanged\\\", \\\"new\\\": {\\\"Variable\\\": [\\\"sale_price_sqr_foot\\\", \\\"sale_price_sqr_foot\\\", \\\"sale_price_sqr_foot\\\", \\\"sale_price_sqr_foot\\\", \\\"sale_price_sqr_foot\\\", \\\"sale_price_sqr_foot\\\", \\\"sale_price_sqr_foot\\\", \\\"gross_rent\\\", \\\"gross_rent\\\", \\\"gross_rent\\\", \\\"gross_rent\\\", \\\"gross_rent\\\", \\\"gross_rent\\\", \\\"gross_rent\\\"], \\\"value\\\": {\\\"__ndarray__\\\": \\\"vsH9HfwEd0DfWRDO7ZNyQGMEtIPw0HlAduAUwFAhdECKxEQ80aV+QFgk0ahQXnZAWykPAzvpf0AAAAAAAFyTQAAAAAAA6JdAAAAAAAAookAAAAAAADanQAAAAAAAkKtAAAAAAAA2rUAAAAAAACaxQA==\\\", \\\"dtype\\\": \\\"float64\\\", \\\"order\\\": \\\"little\\\", \\\"shape\\\": [14]}, \\\"xoffsets\\\": [[\\\"2010\\\", \\\"sale_price_sqr_foot\\\"], [\\\"2011\\\", \\\"sale_price_sqr_foot\\\"], [\\\"2012\\\", \\\"sale_price_sqr_foot\\\"], [\\\"2013\\\", \\\"sale_price_sqr_foot\\\"], [\\\"2014\\\", \\\"sale_price_sqr_foot\\\"], [\\\"2015\\\", \\\"sale_price_sqr_foot\\\"], [\\\"2016\\\", \\\"sale_price_sqr_foot\\\"], [\\\"2010\\\", \\\"gross_rent\\\"], [\\\"2011\\\", \\\"gross_rent\\\"], [\\\"2012\\\", \\\"gross_rent\\\"], [\\\"2013\\\", \\\"gross_rent\\\"], [\\\"2014\\\", \\\"gross_rent\\\"], [\\\"2015\\\", \\\"gross_rent\\\"], [\\\"2016\\\", \\\"gross_rent\\\"]], \\\"year\\\": [\\\"2010\\\", \\\"2011\\\", \\\"2012\\\", \\\"2013\\\", \\\"2014\\\", \\\"2015\\\", \\\"2016\\\", \\\"2010\\\", \\\"2011\\\", \\\"2012\\\", \\\"2013\\\", \\\"2014\\\", \\\"2015\\\", \\\"2016\\\"]}}], \\\"references\\\": []}\",\"header\":\"{\\\"msgid\\\": \\\"2747\\\", \\\"msgtype\\\": \\\"PATCH-DOC\\\"}\",\"metadata\":\"{}\"},\"Pacific Heights\":{\"content\":\"{\\\"events\\\": [{\\\"attr\\\": \\\"end\\\", \\\"kind\\\": \\\"ModelChanged\\\", \\\"model\\\": {\\\"id\\\": \\\"2533\\\"}, \\\"new\\\": 4779.348398585305}, {\\\"attr\\\": \\\"reset_end\\\", \\\"kind\\\": \\\"ModelChanged\\\", \\\"model\\\": {\\\"id\\\": \\\"2533\\\"}, \\\"new\\\": 4779.348398585305}, {\\\"attr\\\": \\\"text\\\", \\\"kind\\\": \\\"ModelChanged\\\", \\\"model\\\": {\\\"id\\\": \\\"2536\\\"}, \\\"new\\\": \\\"neighborhood: Pacific Heights\\\"}, {\\\"cols\\\": null, \\\"column_source\\\": {\\\"id\\\": \\\"2565\\\"}, \\\"kind\\\": \\\"ColumnDataChanged\\\", \\\"new\\\": {\\\"Variable\\\": [\\\"sale_price_sqr_foot\\\", \\\"sale_price_sqr_foot\\\", \\\"sale_price_sqr_foot\\\", \\\"sale_price_sqr_foot\\\", \\\"sale_price_sqr_foot\\\", \\\"sale_price_sqr_foot\\\", \\\"sale_price_sqr_foot\\\", \\\"gross_rent\\\", \\\"gross_rent\\\", \\\"gross_rent\\\", \\\"gross_rent\\\", \\\"gross_rent\\\", \\\"gross_rent\\\", \\\"gross_rent\\\"], \\\"value\\\": {\\\"__ndarray__\\\": \\\"xNYMmEEIf0BGT3H7V9B/QLX7Z+e+UYJANTLZX2N+f0DaISsBRcWJQFibs2OAcYxAktikah0jj0AAAAAAAFyTQAAAAAAA6JdAAAAAAAAookAAAAAAADanQAAAAAAAkKtAAAAAAAA2rUAAAAAAACaxQA==\\\", \\\"dtype\\\": \\\"float64\\\", \\\"order\\\": \\\"little\\\", \\\"shape\\\": [14]}, \\\"xoffsets\\\": [[\\\"2010\\\", \\\"sale_price_sqr_foot\\\"], [\\\"2011\\\", \\\"sale_price_sqr_foot\\\"], [\\\"2012\\\", \\\"sale_price_sqr_foot\\\"], [\\\"2013\\\", \\\"sale_price_sqr_foot\\\"], [\\\"2014\\\", \\\"sale_price_sqr_foot\\\"], [\\\"2015\\\", \\\"sale_price_sqr_foot\\\"], [\\\"2016\\\", \\\"sale_price_sqr_foot\\\"], [\\\"2010\\\", \\\"gross_rent\\\"], [\\\"2011\\\", \\\"gross_rent\\\"], [\\\"2012\\\", \\\"gross_rent\\\"], [\\\"2013\\\", \\\"gross_rent\\\"], [\\\"2014\\\", \\\"gross_rent\\\"], [\\\"2015\\\", \\\"gross_rent\\\"], [\\\"2016\\\", \\\"gross_rent\\\"]], \\\"year\\\": [\\\"2010\\\", \\\"2011\\\", \\\"2012\\\", \\\"2013\\\", \\\"2014\\\", \\\"2015\\\", \\\"2016\\\", \\\"2010\\\", \\\"2011\\\", \\\"2012\\\", \\\"2013\\\", \\\"2014\\\", \\\"2015\\\", \\\"2016\\\"]}}], \\\"references\\\": []}\",\"header\":\"{\\\"msgid\\\": \\\"2742\\\", \\\"msgtype\\\": \\\"PATCH-DOC\\\"}\",\"metadata\":\"{}\"},\"Park North\":{\"content\":\"{\\\"events\\\": [{\\\"attr\\\": \\\"factors\\\", \\\"kind\\\": \\\"ModelChanged\\\", \\\"model\\\": {\\\"id\\\": \\\"2532\\\"}, \\\"new\\\": [[\\\"2010\\\", \\\"gross_rent\\\"], [\\\"2010\\\", \\\"sale_price_sqr_foot\\\"], [\\\"2011\\\", \\\"gross_rent\\\"], [\\\"2011\\\", \\\"sale_price_sqr_foot\\\"], [\\\"2012\\\", \\\"gross_rent\\\"], [\\\"2012\\\", \\\"sale_price_sqr_foot\\\"], [\\\"2013\\\", \\\"gross_rent\\\"], [\\\"2013\\\", \\\"sale_price_sqr_foot\\\"], [\\\"2014\\\", \\\"gross_rent\\\"], [\\\"2014\\\", \\\"sale_price_sqr_foot\\\"], [\\\"2015\\\", \\\"gross_rent\\\"], [\\\"2015\\\", \\\"sale_price_sqr_foot\\\"], [\\\"2016\\\", \\\"gross_rent\\\"], [\\\"2016\\\", \\\"sale_price_sqr_foot\\\"]]}, {\\\"attr\\\": \\\"end\\\", \\\"kind\\\": \\\"ModelChanged\\\", \\\"model\\\": {\\\"id\\\": \\\"2533\\\"}, \\\"new\\\": 4807.869863013993}, {\\\"attr\\\": \\\"reset_end\\\", \\\"kind\\\": \\\"ModelChanged\\\", \\\"model\\\": {\\\"id\\\": \\\"2533\\\"}, \\\"new\\\": 4807.869863013993}, {\\\"attr\\\": \\\"text\\\", \\\"kind\\\": \\\"ModelChanged\\\", \\\"model\\\": {\\\"id\\\": \\\"2536\\\"}, \\\"new\\\": \\\"neighborhood: Park North\\\"}, {\\\"cols\\\": null, \\\"column_source\\\": {\\\"id\\\": \\\"2565\\\"}, \\\"kind\\\": \\\"ColumnDataChanged\\\", \\\"new\\\": {\\\"Variable\\\": [\\\"sale_price_sqr_foot\\\", \\\"sale_price_sqr_foot\\\", \\\"sale_price_sqr_foot\\\", \\\"sale_price_sqr_foot\\\", \\\"sale_price_sqr_foot\\\", \\\"sale_price_sqr_foot\\\", \\\"sale_price_sqr_foot\\\", \\\"gross_rent\\\", \\\"gross_rent\\\", \\\"gross_rent\\\", \\\"gross_rent\\\", \\\"gross_rent\\\", \\\"gross_rent\\\", \\\"gross_rent\\\"], \\\"value\\\": {\\\"__ndarray__\\\": \\\"PTKCP0ZgdECglLmJsBlyQAQj45xBAXJAHcH4twsFgEB6Pk21yT53QIxwU0CURINAbp9n0qRpakAAAAAAAFyTQAAAAAAA6JdAAAAAAAAookAAAAAAADanQAAAAAAAkKtAAAAAAAA2rUAAAAAAACaxQA==\\\", \\\"dtype\\\": \\\"float64\\\", \\\"order\\\": \\\"little\\\", \\\"shape\\\": [14]}, \\\"xoffsets\\\": [[\\\"2010\\\", \\\"sale_price_sqr_foot\\\"], [\\\"2011\\\", \\\"sale_price_sqr_foot\\\"], [\\\"2012\\\", \\\"sale_price_sqr_foot\\\"], [\\\"2013\\\", \\\"sale_price_sqr_foot\\\"], [\\\"2014\\\", \\\"sale_price_sqr_foot\\\"], [\\\"2015\\\", \\\"sale_price_sqr_foot\\\"], [\\\"2016\\\", \\\"sale_price_sqr_foot\\\"], [\\\"2010\\\", \\\"gross_rent\\\"], [\\\"2011\\\", \\\"gross_rent\\\"], [\\\"2012\\\", \\\"gross_rent\\\"], [\\\"2013\\\", \\\"gross_rent\\\"], [\\\"2014\\\", \\\"gross_rent\\\"], [\\\"2015\\\", \\\"gross_rent\\\"], [\\\"2016\\\", \\\"gross_rent\\\"]], \\\"year\\\": [\\\"2010\\\", \\\"2011\\\", \\\"2012\\\", \\\"2013\\\", \\\"2014\\\", \\\"2015\\\", \\\"2016\\\", \\\"2010\\\", \\\"2011\\\", \\\"2012\\\", \\\"2013\\\", \\\"2014\\\", \\\"2015\\\", \\\"2016\\\"]}}], \\\"references\\\": []}\",\"header\":\"{\\\"msgid\\\": \\\"2737\\\", \\\"msgtype\\\": \\\"PATCH-DOC\\\"}\",\"metadata\":\"{}\"},\"Parkside\":{\"content\":\"{\\\"events\\\": [{\\\"attr\\\": \\\"factors\\\", \\\"kind\\\": \\\"ModelChanged\\\", \\\"model\\\": {\\\"id\\\": \\\"2532\\\"}, \\\"new\\\": [[\\\"2010\\\", \\\"gross_rent\\\"], [\\\"2010\\\", \\\"sale_price_sqr_foot\\\"], [\\\"2011\\\", \\\"gross_rent\\\"], [\\\"2011\\\", \\\"sale_price_sqr_foot\\\"], [\\\"2012\\\", \\\"gross_rent\\\"], [\\\"2012\\\", \\\"sale_price_sqr_foot\\\"], [\\\"2013\\\", \\\"gross_rent\\\"], [\\\"2013\\\", \\\"sale_price_sqr_foot\\\"], [\\\"2014\\\", \\\"gross_rent\\\"], [\\\"2014\\\", \\\"sale_price_sqr_foot\\\"], [\\\"2015\\\", \\\"gross_rent\\\"], [\\\"2015\\\", \\\"sale_price_sqr_foot\\\"]]}, {\\\"attr\\\": \\\"end\\\", \\\"kind\\\": \\\"ModelChanged\\\", \\\"model\\\": {\\\"id\\\": \\\"2533\\\"}, \\\"new\\\": 4091.144121315472}, {\\\"attr\\\": \\\"reset_end\\\", \\\"kind\\\": \\\"ModelChanged\\\", \\\"model\\\": {\\\"id\\\": \\\"2533\\\"}, \\\"new\\\": 4091.144121315472}, {\\\"attr\\\": \\\"text\\\", \\\"kind\\\": \\\"ModelChanged\\\", \\\"model\\\": {\\\"id\\\": \\\"2536\\\"}, \\\"new\\\": \\\"neighborhood: Parkside\\\"}, {\\\"cols\\\": null, \\\"column_source\\\": {\\\"id\\\": \\\"2565\\\"}, \\\"kind\\\": \\\"ColumnDataChanged\\\", \\\"new\\\": {\\\"Variable\\\": [\\\"sale_price_sqr_foot\\\", \\\"sale_price_sqr_foot\\\", \\\"sale_price_sqr_foot\\\", \\\"sale_price_sqr_foot\\\", \\\"sale_price_sqr_foot\\\", \\\"sale_price_sqr_foot\\\", \\\"gross_rent\\\", \\\"gross_rent\\\", \\\"gross_rent\\\", \\\"gross_rent\\\", \\\"gross_rent\\\", \\\"gross_rent\\\"], \\\"value\\\": {\\\"__ndarray__\\\": \\\"jNs5+aoicUATPfOU4TFrQAWYW85hpHdAiGIrlP7JdkC/o97y0+N7QAAAAAAAAPh/AAAAAABck0AAAAAAAOiXQAAAAAAAKKJAAAAAAAA2p0AAAAAAAJCrQAAAAAAANq1A\\\", \\\"dtype\\\": \\\"float64\\\", \\\"order\\\": \\\"little\\\", \\\"shape\\\": [12]}, \\\"xoffsets\\\": [[\\\"2010\\\", \\\"sale_price_sqr_foot\\\"], [\\\"2011\\\", \\\"sale_price_sqr_foot\\\"], [\\\"2012\\\", \\\"sale_price_sqr_foot\\\"], [\\\"2013\\\", \\\"sale_price_sqr_foot\\\"], [\\\"2014\\\", \\\"sale_price_sqr_foot\\\"], [\\\"2015\\\", \\\"sale_price_sqr_foot\\\"], [\\\"2010\\\", \\\"gross_rent\\\"], [\\\"2011\\\", \\\"gross_rent\\\"], [\\\"2012\\\", \\\"gross_rent\\\"], [\\\"2013\\\", \\\"gross_rent\\\"], [\\\"2014\\\", \\\"gross_rent\\\"], [\\\"2015\\\", \\\"gross_rent\\\"]], \\\"year\\\": [\\\"2010\\\", \\\"2011\\\", \\\"2012\\\", \\\"2013\\\", \\\"2014\\\", \\\"2015\\\", \\\"2010\\\", \\\"2011\\\", \\\"2012\\\", \\\"2013\\\", \\\"2014\\\", \\\"2015\\\"]}}], \\\"references\\\": []}\",\"header\":\"{\\\"msgid\\\": \\\"2732\\\", \\\"msgtype\\\": \\\"PATCH-DOC\\\"}\",\"metadata\":\"{}\"},\"Parnassus/Ashbury Heights\":{\"content\":\"{\\\"events\\\": [{\\\"attr\\\": \\\"factors\\\", \\\"kind\\\": \\\"ModelChanged\\\", \\\"model\\\": {\\\"id\\\": \\\"2532\\\"}, \\\"new\\\": [[\\\"2010\\\", \\\"gross_rent\\\"], [\\\"2010\\\", \\\"sale_price_sqr_foot\\\"], [\\\"2011\\\", \\\"gross_rent\\\"], [\\\"2011\\\", \\\"sale_price_sqr_foot\\\"], [\\\"2012\\\", \\\"gross_rent\\\"], [\\\"2012\\\", \\\"sale_price_sqr_foot\\\"], [\\\"2013\\\", \\\"gross_rent\\\"], [\\\"2013\\\", \\\"sale_price_sqr_foot\\\"], [\\\"2014\\\", \\\"gross_rent\\\"], [\\\"2014\\\", \\\"sale_price_sqr_foot\\\"], [\\\"2015\\\", \\\"gross_rent\\\"], [\\\"2015\\\", \\\"sale_price_sqr_foot\\\"], [\\\"2016\\\", \\\"gross_rent\\\"], [\\\"2016\\\", \\\"sale_price_sqr_foot\\\"]]}, {\\\"attr\\\": \\\"end\\\", \\\"kind\\\": \\\"ModelChanged\\\", \\\"model\\\": {\\\"id\\\": \\\"2533\\\"}, \\\"new\\\": 4786.435774466919}, {\\\"attr\\\": \\\"reset_end\\\", \\\"kind\\\": \\\"ModelChanged\\\", \\\"model\\\": {\\\"id\\\": \\\"2533\\\"}, \\\"new\\\": 4786.435774466919}, {\\\"attr\\\": \\\"text\\\", \\\"kind\\\": \\\"ModelChanged\\\", \\\"model\\\": {\\\"id\\\": \\\"2536\\\"}, \\\"new\\\": \\\"neighborhood: Parnassus/Ashbury Heights\\\"}, {\\\"cols\\\": null, \\\"column_source\\\": {\\\"id\\\": \\\"2565\\\"}, \\\"kind\\\": \\\"ColumnDataChanged\\\", \\\"new\\\": {\\\"Variable\\\": [\\\"sale_price_sqr_foot\\\", \\\"sale_price_sqr_foot\\\", \\\"sale_price_sqr_foot\\\", \\\"sale_price_sqr_foot\\\", \\\"sale_price_sqr_foot\\\", \\\"sale_price_sqr_foot\\\", \\\"sale_price_sqr_foot\\\", \\\"gross_rent\\\", \\\"gross_rent\\\", \\\"gross_rent\\\", \\\"gross_rent\\\", \\\"gross_rent\\\", \\\"gross_rent\\\", \\\"gross_rent\\\"], \\\"value\\\": {\\\"__ndarray__\\\": \\\"g4gEfxQke0DyEqbo4il9QIwLoVteH4BAIpiGrUaaekD6hZfDPyuIQI7cJCG/6oJAYp+hbP3fkkAAAAAAAFyTQAAAAAAA6JdAAAAAAAAookAAAAAAADanQAAAAAAAkKtAAAAAAAA2rUAAAAAAACaxQA==\\\", \\\"dtype\\\": \\\"float64\\\", \\\"order\\\": \\\"little\\\", \\\"shape\\\": [14]}, \\\"xoffsets\\\": [[\\\"2010\\\", \\\"sale_price_sqr_foot\\\"], [\\\"2011\\\", \\\"sale_price_sqr_foot\\\"], [\\\"2012\\\", \\\"sale_price_sqr_foot\\\"], [\\\"2013\\\", \\\"sale_price_sqr_foot\\\"], [\\\"2014\\\", \\\"sale_price_sqr_foot\\\"], [\\\"2015\\\", \\\"sale_price_sqr_foot\\\"], [\\\"2016\\\", \\\"sale_price_sqr_foot\\\"], [\\\"2010\\\", \\\"gross_rent\\\"], [\\\"2011\\\", \\\"gross_rent\\\"], [\\\"2012\\\", \\\"gross_rent\\\"], [\\\"2013\\\", \\\"gross_rent\\\"], [\\\"2014\\\", \\\"gross_rent\\\"], [\\\"2015\\\", \\\"gross_rent\\\"], [\\\"2016\\\", \\\"gross_rent\\\"]], \\\"year\\\": [\\\"2010\\\", \\\"2011\\\", \\\"2012\\\", \\\"2013\\\", \\\"2014\\\", \\\"2015\\\", \\\"2016\\\", \\\"2010\\\", \\\"2011\\\", \\\"2012\\\", \\\"2013\\\", \\\"2014\\\", \\\"2015\\\", \\\"2016\\\"]}}], \\\"references\\\": []}\",\"header\":\"{\\\"msgid\\\": \\\"2727\\\", \\\"msgtype\\\": \\\"PATCH-DOC\\\"}\",\"metadata\":\"{}\"},\"Portola\":{\"content\":\"{\\\"events\\\": [{\\\"attr\\\": \\\"factors\\\", \\\"kind\\\": \\\"ModelChanged\\\", \\\"model\\\": {\\\"id\\\": \\\"2532\\\"}, \\\"new\\\": [[\\\"2010\\\", \\\"gross_rent\\\"], [\\\"2010\\\", \\\"sale_price_sqr_foot\\\"], [\\\"2011\\\", \\\"gross_rent\\\"], [\\\"2011\\\", \\\"sale_price_sqr_foot\\\"], [\\\"2012\\\", \\\"gross_rent\\\"], [\\\"2012\\\", \\\"sale_price_sqr_foot\\\"], [\\\"2013\\\", \\\"gross_rent\\\"], [\\\"2013\\\", \\\"sale_price_sqr_foot\\\"], [\\\"2014\\\", \\\"gross_rent\\\"], [\\\"2014\\\", \\\"sale_price_sqr_foot\\\"]]}, {\\\"attr\\\": \\\"end\\\", \\\"kind\\\": \\\"ModelChanged\\\", \\\"model\\\": {\\\"id\\\": \\\"2533\\\"}, \\\"new\\\": 3859.9832003251613}, {\\\"attr\\\": \\\"reset_end\\\", \\\"kind\\\": \\\"ModelChanged\\\", \\\"model\\\": {\\\"id\\\": \\\"2533\\\"}, \\\"new\\\": 3859.9832003251613}, {\\\"attr\\\": \\\"text\\\", \\\"kind\\\": \\\"ModelChanged\\\", \\\"model\\\": {\\\"id\\\": \\\"2536\\\"}, \\\"new\\\": \\\"neighborhood: Portola\\\"}, {\\\"cols\\\": null, \\\"column_source\\\": {\\\"id\\\": \\\"2565\\\"}, \\\"kind\\\": \\\"ColumnDataChanged\\\", \\\"new\\\": {\\\"Variable\\\": [\\\"sale_price_sqr_foot\\\", \\\"sale_price_sqr_foot\\\", \\\"sale_price_sqr_foot\\\", \\\"sale_price_sqr_foot\\\", \\\"sale_price_sqr_foot\\\", \\\"gross_rent\\\", \\\"gross_rent\\\", \\\"gross_rent\\\", \\\"gross_rent\\\", \\\"gross_rent\\\"], \\\"value\\\": {\\\"__ndarray__\\\": \\\"SE2NcH/ickDYhLc6YAVqQMhgbA2x8HVArI0kR+x/bUDI9wE5o9GAQAAAAAAAXJNAAAAAAADol0AAAAAAACiiQAAAAAAANqdAAAAAAACQq0A=\\\", \\\"dtype\\\": \\\"float64\\\", \\\"order\\\": \\\"little\\\", \\\"shape\\\": [10]}, \\\"xoffsets\\\": [[\\\"2010\\\", \\\"sale_price_sqr_foot\\\"], [\\\"2011\\\", \\\"sale_price_sqr_foot\\\"], [\\\"2012\\\", \\\"sale_price_sqr_foot\\\"], [\\\"2013\\\", \\\"sale_price_sqr_foot\\\"], [\\\"2014\\\", \\\"sale_price_sqr_foot\\\"], [\\\"2010\\\", \\\"gross_rent\\\"], [\\\"2011\\\", \\\"gross_rent\\\"], [\\\"2012\\\", \\\"gross_rent\\\"], [\\\"2013\\\", \\\"gross_rent\\\"], [\\\"2014\\\", \\\"gross_rent\\\"]], \\\"year\\\": [\\\"2010\\\", \\\"2011\\\", \\\"2012\\\", \\\"2013\\\", \\\"2014\\\", \\\"2010\\\", \\\"2011\\\", \\\"2012\\\", \\\"2013\\\", \\\"2014\\\"]}}], \\\"references\\\": []}\",\"header\":\"{\\\"msgid\\\": \\\"2722\\\", \\\"msgtype\\\": \\\"PATCH-DOC\\\"}\",\"metadata\":\"{}\"},\"Potrero Hill\":{\"content\":\"{\\\"events\\\": [{\\\"attr\\\": \\\"end\\\", \\\"kind\\\": \\\"ModelChanged\\\", \\\"model\\\": {\\\"id\\\": \\\"2533\\\"}, \\\"new\\\": 4782.335215978328}, {\\\"attr\\\": \\\"reset_end\\\", \\\"kind\\\": \\\"ModelChanged\\\", \\\"model\\\": {\\\"id\\\": \\\"2533\\\"}, \\\"new\\\": 4782.335215978328}, {\\\"attr\\\": \\\"text\\\", \\\"kind\\\": \\\"ModelChanged\\\", \\\"model\\\": {\\\"id\\\": \\\"2536\\\"}, \\\"new\\\": \\\"neighborhood: Potrero Hill\\\"}, {\\\"cols\\\": null, \\\"column_source\\\": {\\\"id\\\": \\\"2565\\\"}, \\\"kind\\\": \\\"ColumnDataChanged\\\", \\\"new\\\": {\\\"Variable\\\": [\\\"sale_price_sqr_foot\\\", \\\"sale_price_sqr_foot\\\", \\\"sale_price_sqr_foot\\\", \\\"sale_price_sqr_foot\\\", \\\"sale_price_sqr_foot\\\", \\\"sale_price_sqr_foot\\\", \\\"sale_price_sqr_foot\\\", \\\"gross_rent\\\", \\\"gross_rent\\\", \\\"gross_rent\\\", \\\"gross_rent\\\", \\\"gross_rent\\\", \\\"gross_rent\\\", \\\"gross_rent\\\"], \\\"value\\\": {\\\"__ndarray__\\\": \\\"h38+NzO3fkC1zY5QN3J/QFj9s41dKn1AlMC7a6O1gkAa4w1izlSQQF3nsW1oqolAxoQBfzYdhkAAAAAAAFyTQAAAAAAA6JdAAAAAAAAookAAAAAAADanQAAAAAAAkKtAAAAAAAA2rUAAAAAAACaxQA==\\\", \\\"dtype\\\": \\\"float64\\\", \\\"order\\\": \\\"little\\\", \\\"shape\\\": [14]}, \\\"xoffsets\\\": [[\\\"2010\\\", \\\"sale_price_sqr_foot\\\"], [\\\"2011\\\", \\\"sale_price_sqr_foot\\\"], [\\\"2012\\\", \\\"sale_price_sqr_foot\\\"], [\\\"2013\\\", \\\"sale_price_sqr_foot\\\"], [\\\"2014\\\", \\\"sale_price_sqr_foot\\\"], [\\\"2015\\\", \\\"sale_price_sqr_foot\\\"], [\\\"2016\\\", \\\"sale_price_sqr_foot\\\"], [\\\"2010\\\", \\\"gross_rent\\\"], [\\\"2011\\\", \\\"gross_rent\\\"], [\\\"2012\\\", \\\"gross_rent\\\"], [\\\"2013\\\", \\\"gross_rent\\\"], [\\\"2014\\\", \\\"gross_rent\\\"], [\\\"2015\\\", \\\"gross_rent\\\"], [\\\"2016\\\", \\\"gross_rent\\\"]], \\\"year\\\": [\\\"2010\\\", \\\"2011\\\", \\\"2012\\\", \\\"2013\\\", \\\"2014\\\", \\\"2015\\\", \\\"2016\\\", \\\"2010\\\", \\\"2011\\\", \\\"2012\\\", \\\"2013\\\", \\\"2014\\\", \\\"2015\\\", \\\"2016\\\"]}}], \\\"references\\\": []}\",\"header\":\"{\\\"msgid\\\": \\\"2717\\\", \\\"msgtype\\\": \\\"PATCH-DOC\\\"}\",\"metadata\":\"{}\"},\"Presidio Heights\":{\"content\":\"{\\\"events\\\": [{\\\"attr\\\": \\\"end\\\", \\\"kind\\\": \\\"ModelChanged\\\", \\\"model\\\": {\\\"id\\\": \\\"2533\\\"}, \\\"new\\\": 4786.339140792828}, {\\\"attr\\\": \\\"reset_end\\\", \\\"kind\\\": \\\"ModelChanged\\\", \\\"model\\\": {\\\"id\\\": \\\"2533\\\"}, \\\"new\\\": 4786.339140792828}, {\\\"attr\\\": \\\"text\\\", \\\"kind\\\": \\\"ModelChanged\\\", \\\"model\\\": {\\\"id\\\": \\\"2536\\\"}, \\\"new\\\": \\\"neighborhood: Presidio Heights\\\"}, {\\\"cols\\\": null, \\\"column_source\\\": {\\\"id\\\": \\\"2565\\\"}, \\\"kind\\\": \\\"ColumnDataChanged\\\", \\\"new\\\": {\\\"Variable\\\": [\\\"sale_price_sqr_foot\\\", \\\"sale_price_sqr_foot\\\", \\\"sale_price_sqr_foot\\\", \\\"sale_price_sqr_foot\\\", \\\"sale_price_sqr_foot\\\", \\\"sale_price_sqr_foot\\\", \\\"sale_price_sqr_foot\\\", \\\"gross_rent\\\", \\\"gross_rent\\\", \\\"gross_rent\\\", \\\"gross_rent\\\", \\\"gross_rent\\\", \\\"gross_rent\\\", \\\"gross_rent\\\"], \\\"value\\\": {\\\"__ndarray__\\\": \\\"1qRW7FcrgUCiXLTmCd1+QNBJCsu8qXpA+gIs1LgGgECnjECkm9uCQAAAAAAAAPh/hyUc1d/nlkAAAAAAAFyTQAAAAAAA6JdAAAAAAAAookAAAAAAADanQAAAAAAAkKtAAAAAAAA2rUAAAAAAACaxQA==\\\", \\\"dtype\\\": \\\"float64\\\", \\\"order\\\": \\\"little\\\", \\\"shape\\\": [14]}, \\\"xoffsets\\\": [[\\\"2010\\\", \\\"sale_price_sqr_foot\\\"], [\\\"2011\\\", \\\"sale_price_sqr_foot\\\"], [\\\"2012\\\", \\\"sale_price_sqr_foot\\\"], [\\\"2013\\\", \\\"sale_price_sqr_foot\\\"], [\\\"2014\\\", \\\"sale_price_sqr_foot\\\"], [\\\"2015\\\", \\\"sale_price_sqr_foot\\\"], [\\\"2016\\\", \\\"sale_price_sqr_foot\\\"], [\\\"2010\\\", \\\"gross_rent\\\"], [\\\"2011\\\", \\\"gross_rent\\\"], [\\\"2012\\\", \\\"gross_rent\\\"], [\\\"2013\\\", \\\"gross_rent\\\"], [\\\"2014\\\", \\\"gross_rent\\\"], [\\\"2015\\\", \\\"gross_rent\\\"], [\\\"2016\\\", \\\"gross_rent\\\"]], \\\"year\\\": [\\\"2010\\\", \\\"2011\\\", \\\"2012\\\", \\\"2013\\\", \\\"2014\\\", \\\"2015\\\", \\\"2016\\\", \\\"2010\\\", \\\"2011\\\", \\\"2012\\\", \\\"2013\\\", \\\"2014\\\", \\\"2015\\\", \\\"2016\\\"]}}], \\\"references\\\": []}\",\"header\":\"{\\\"msgid\\\": \\\"2712\\\", \\\"msgtype\\\": \\\"PATCH-DOC\\\"}\",\"metadata\":\"{}\"},\"Russian Hill\":{\"content\":\"{\\\"events\\\": [{\\\"attr\\\": \\\"factors\\\", \\\"kind\\\": \\\"ModelChanged\\\", \\\"model\\\": {\\\"id\\\": \\\"2532\\\"}, \\\"new\\\": [[\\\"2010\\\", \\\"gross_rent\\\"], [\\\"2010\\\", \\\"sale_price_sqr_foot\\\"], [\\\"2011\\\", \\\"gross_rent\\\"], [\\\"2011\\\", \\\"sale_price_sqr_foot\\\"], [\\\"2012\\\", \\\"gross_rent\\\"], [\\\"2012\\\", \\\"sale_price_sqr_foot\\\"], [\\\"2013\\\", \\\"gross_rent\\\"], [\\\"2013\\\", \\\"sale_price_sqr_foot\\\"], [\\\"2014\\\", \\\"gross_rent\\\"], [\\\"2014\\\", \\\"sale_price_sqr_foot\\\"], [\\\"2015\\\", \\\"gross_rent\\\"], [\\\"2015\\\", \\\"sale_price_sqr_foot\\\"], [\\\"2016\\\", \\\"gross_rent\\\"], [\\\"2016\\\", \\\"sale_price_sqr_foot\\\"]]}, {\\\"attr\\\": \\\"end\\\", \\\"kind\\\": \\\"ModelChanged\\\", \\\"model\\\": {\\\"id\\\": \\\"2533\\\"}, \\\"new\\\": 4792.765177608688}, {\\\"attr\\\": \\\"reset_end\\\", \\\"kind\\\": \\\"ModelChanged\\\", \\\"model\\\": {\\\"id\\\": \\\"2533\\\"}, \\\"new\\\": 4792.765177608688}, {\\\"attr\\\": \\\"text\\\", \\\"kind\\\": \\\"ModelChanged\\\", \\\"model\\\": {\\\"id\\\": \\\"2536\\\"}, \\\"new\\\": \\\"neighborhood: Russian Hill\\\"}, {\\\"cols\\\": null, \\\"column_source\\\": {\\\"id\\\": \\\"2565\\\"}, \\\"kind\\\": \\\"ColumnDataChanged\\\", \\\"new\\\": {\\\"Variable\\\": [\\\"sale_price_sqr_foot\\\", \\\"sale_price_sqr_foot\\\", \\\"sale_price_sqr_foot\\\", \\\"sale_price_sqr_foot\\\", \\\"sale_price_sqr_foot\\\", \\\"sale_price_sqr_foot\\\", \\\"sale_price_sqr_foot\\\", \\\"gross_rent\\\", \\\"gross_rent\\\", \\\"gross_rent\\\", \\\"gross_rent\\\", \\\"gross_rent\\\", \\\"gross_rent\\\", \\\"gross_rent\\\"], \\\"value\\\": {\\\"__ndarray__\\\": \\\"qeg8U5KldkCz55glHwV8QBozkYia4nlAYr9O7qOjf0BeOprOxlGGQE8CCI8YyohA+YfACFwBkEAAAAAAAFyTQAAAAAAA6JdAAAAAAAAookAAAAAAADanQAAAAAAAkKtAAAAAAAA2rUAAAAAAACaxQA==\\\", \\\"dtype\\\": \\\"float64\\\", \\\"order\\\": \\\"little\\\", \\\"shape\\\": [14]}, \\\"xoffsets\\\": [[\\\"2010\\\", \\\"sale_price_sqr_foot\\\"], [\\\"2011\\\", \\\"sale_price_sqr_foot\\\"], [\\\"2012\\\", \\\"sale_price_sqr_foot\\\"], [\\\"2013\\\", \\\"sale_price_sqr_foot\\\"], [\\\"2014\\\", \\\"sale_price_sqr_foot\\\"], [\\\"2015\\\", \\\"sale_price_sqr_foot\\\"], [\\\"2016\\\", \\\"sale_price_sqr_foot\\\"], [\\\"2010\\\", \\\"gross_rent\\\"], [\\\"2011\\\", \\\"gross_rent\\\"], [\\\"2012\\\", \\\"gross_rent\\\"], [\\\"2013\\\", \\\"gross_rent\\\"], [\\\"2014\\\", \\\"gross_rent\\\"], [\\\"2015\\\", \\\"gross_rent\\\"], [\\\"2016\\\", \\\"gross_rent\\\"]], \\\"year\\\": [\\\"2010\\\", \\\"2011\\\", \\\"2012\\\", \\\"2013\\\", \\\"2014\\\", \\\"2015\\\", \\\"2016\\\", \\\"2010\\\", \\\"2011\\\", \\\"2012\\\", \\\"2013\\\", \\\"2014\\\", \\\"2015\\\", \\\"2016\\\"]}}], \\\"references\\\": []}\",\"header\":\"{\\\"msgid\\\": \\\"2707\\\", \\\"msgtype\\\": \\\"PATCH-DOC\\\"}\",\"metadata\":\"{}\"},\"Silver Terrace\":{\"content\":\"{\\\"events\\\": [{\\\"attr\\\": \\\"factors\\\", \\\"kind\\\": \\\"ModelChanged\\\", \\\"model\\\": {\\\"id\\\": \\\"2532\\\"}, \\\"new\\\": [[\\\"2014\\\", \\\"gross_rent\\\"], [\\\"2014\\\", \\\"sale_price_sqr_foot\\\"]]}, {\\\"attr\\\": \\\"end\\\", \\\"kind\\\": \\\"ModelChanged\\\", \\\"model\\\": {\\\"id\\\": \\\"2533\\\"}, \\\"new\\\": 3863.7707451484794}, {\\\"attr\\\": \\\"reset_end\\\", \\\"kind\\\": \\\"ModelChanged\\\", \\\"model\\\": {\\\"id\\\": \\\"2533\\\"}, \\\"new\\\": 3863.7707451484794}, {\\\"attr\\\": \\\"text\\\", \\\"kind\\\": \\\"ModelChanged\\\", \\\"model\\\": {\\\"id\\\": \\\"2536\\\"}, \\\"new\\\": \\\"neighborhood: Silver Terrace\\\"}, {\\\"cols\\\": null, \\\"column_source\\\": {\\\"id\\\": \\\"2565\\\"}, \\\"kind\\\": \\\"ColumnDataChanged\\\", \\\"new\\\": {\\\"Variable\\\": [\\\"sale_price_sqr_foot\\\", \\\"gross_rent\\\"], \\\"value\\\": {\\\"__ndarray__\\\": \\\"0ym0jlxJZUAAAAAAAJCrQA==\\\", \\\"dtype\\\": \\\"float64\\\", \\\"order\\\": \\\"little\\\", \\\"shape\\\": [2]}, \\\"xoffsets\\\": [[\\\"2014\\\", \\\"sale_price_sqr_foot\\\"], [\\\"2014\\\", \\\"gross_rent\\\"]], \\\"year\\\": [\\\"2014\\\", \\\"2014\\\"]}}], \\\"references\\\": []}\",\"header\":\"{\\\"msgid\\\": \\\"2702\\\", \\\"msgtype\\\": \\\"PATCH-DOC\\\"}\",\"metadata\":\"{}\"},\"South Beach\":{\"content\":\"{\\\"events\\\": [{\\\"attr\\\": \\\"factors\\\", \\\"kind\\\": \\\"ModelChanged\\\", \\\"model\\\": {\\\"id\\\": \\\"2532\\\"}, \\\"new\\\": [[\\\"2010\\\", \\\"gross_rent\\\"], [\\\"2010\\\", \\\"sale_price_sqr_foot\\\"], [\\\"2011\\\", \\\"gross_rent\\\"], [\\\"2011\\\", \\\"sale_price_sqr_foot\\\"], [\\\"2014\\\", \\\"gross_rent\\\"], [\\\"2014\\\", \\\"sale_price_sqr_foot\\\"]]}, {\\\"attr\\\": \\\"end\\\", \\\"kind\\\": \\\"ModelChanged\\\", \\\"model\\\": {\\\"id\\\": \\\"2533\\\"}, \\\"new\\\": 3841.935566321846}, {\\\"attr\\\": \\\"reset_end\\\", \\\"kind\\\": \\\"ModelChanged\\\", \\\"model\\\": {\\\"id\\\": \\\"2533\\\"}, \\\"new\\\": 3841.935566321846}, {\\\"attr\\\": \\\"text\\\", \\\"kind\\\": \\\"ModelChanged\\\", \\\"model\\\": {\\\"id\\\": \\\"2536\\\"}, \\\"new\\\": \\\"neighborhood: South Beach\\\"}, {\\\"cols\\\": null, \\\"column_source\\\": {\\\"id\\\": \\\"2565\\\"}, \\\"kind\\\": \\\"ColumnDataChanged\\\", \\\"new\\\": {\\\"Variable\\\": [\\\"sale_price_sqr_foot\\\", \\\"sale_price_sqr_foot\\\", \\\"sale_price_sqr_foot\\\", \\\"gross_rent\\\", \\\"gross_rent\\\", \\\"gross_rent\\\"], \\\"value\\\": {\\\"__ndarray__\\\": \\\"l7v/LmY0kEAWxRU0T0p4QKOvzdQIZYBAAAAAAABck0AAAAAAAOiXQAAAAAAAkKtA\\\", \\\"dtype\\\": \\\"float64\\\", \\\"order\\\": \\\"little\\\", \\\"shape\\\": [6]}, \\\"xoffsets\\\": [[\\\"2010\\\", \\\"sale_price_sqr_foot\\\"], [\\\"2011\\\", \\\"sale_price_sqr_foot\\\"], [\\\"2014\\\", \\\"sale_price_sqr_foot\\\"], [\\\"2010\\\", \\\"gross_rent\\\"], [\\\"2011\\\", \\\"gross_rent\\\"], [\\\"2014\\\", \\\"gross_rent\\\"]], \\\"year\\\": [\\\"2010\\\", \\\"2011\\\", \\\"2014\\\", \\\"2010\\\", \\\"2011\\\", \\\"2014\\\"]}}], \\\"references\\\": []}\",\"header\":\"{\\\"msgid\\\": \\\"2697\\\", \\\"msgtype\\\": \\\"PATCH-DOC\\\"}\",\"metadata\":\"{}\"},\"South of Market\":{\"content\":\"{\\\"events\\\": [{\\\"attr\\\": \\\"factors\\\", \\\"kind\\\": \\\"ModelChanged\\\", \\\"model\\\": {\\\"id\\\": \\\"2532\\\"}, \\\"new\\\": [[\\\"2010\\\", \\\"gross_rent\\\"], [\\\"2010\\\", \\\"sale_price_sqr_foot\\\"], [\\\"2011\\\", \\\"gross_rent\\\"], [\\\"2011\\\", \\\"sale_price_sqr_foot\\\"], [\\\"2012\\\", \\\"gross_rent\\\"], [\\\"2012\\\", \\\"sale_price_sqr_foot\\\"], [\\\"2013\\\", \\\"gross_rent\\\"], [\\\"2013\\\", \\\"sale_price_sqr_foot\\\"], [\\\"2014\\\", \\\"gross_rent\\\"], [\\\"2014\\\", \\\"sale_price_sqr_foot\\\"], [\\\"2015\\\", \\\"gross_rent\\\"], [\\\"2015\\\", \\\"sale_price_sqr_foot\\\"], [\\\"2016\\\", \\\"gross_rent\\\"], [\\\"2016\\\", \\\"sale_price_sqr_foot\\\"]]}, {\\\"attr\\\": \\\"end\\\", \\\"kind\\\": \\\"ModelChanged\\\", \\\"model\\\": {\\\"id\\\": \\\"2533\\\"}, \\\"new\\\": 4795.208586535635}, {\\\"attr\\\": \\\"reset_end\\\", \\\"kind\\\": \\\"ModelChanged\\\", \\\"model\\\": {\\\"id\\\": \\\"2533\\\"}, \\\"new\\\": 4795.208586535635}, {\\\"attr\\\": \\\"text\\\", \\\"kind\\\": \\\"ModelChanged\\\", \\\"model\\\": {\\\"id\\\": \\\"2536\\\"}, \\\"new\\\": \\\"neighborhood: South of Market\\\"}, {\\\"cols\\\": null, \\\"column_source\\\": {\\\"id\\\": \\\"2565\\\"}, \\\"kind\\\": \\\"ColumnDataChanged\\\", \\\"new\\\": {\\\"Variable\\\": [\\\"sale_price_sqr_foot\\\", \\\"sale_price_sqr_foot\\\", \\\"sale_price_sqr_foot\\\", \\\"sale_price_sqr_foot\\\", \\\"sale_price_sqr_foot\\\", \\\"sale_price_sqr_foot\\\", \\\"sale_price_sqr_foot\\\", \\\"gross_rent\\\", \\\"gross_rent\\\", \\\"gross_rent\\\", \\\"gross_rent\\\", \\\"gross_rent\\\", \\\"gross_rent\\\", \\\"gross_rent\\\"], \\\"value\\\": {\\\"__ndarray__\\\": \\\"NvbXUbwUeUDj6aVLoB51QFu0jVj1/HxAwhgJqydNekC8oacCW3+RQCGjXgupaIZAeO0bSxeZgEAAAAAAAFyTQAAAAAAA6JdAAAAAAAAookAAAAAAADanQAAAAAAAkKtAAAAAAAA2rUAAAAAAACaxQA==\\\", \\\"dtype\\\": \\\"float64\\\", \\\"order\\\": \\\"little\\\", \\\"shape\\\": [14]}, \\\"xoffsets\\\": [[\\\"2010\\\", \\\"sale_price_sqr_foot\\\"], [\\\"2011\\\", \\\"sale_price_sqr_foot\\\"], [\\\"2012\\\", \\\"sale_price_sqr_foot\\\"], [\\\"2013\\\", \\\"sale_price_sqr_foot\\\"], [\\\"2014\\\", \\\"sale_price_sqr_foot\\\"], [\\\"2015\\\", \\\"sale_price_sqr_foot\\\"], [\\\"2016\\\", \\\"sale_price_sqr_foot\\\"], [\\\"2010\\\", \\\"gross_rent\\\"], [\\\"2011\\\", \\\"gross_rent\\\"], [\\\"2012\\\", \\\"gross_rent\\\"], [\\\"2013\\\", \\\"gross_rent\\\"], [\\\"2014\\\", \\\"gross_rent\\\"], [\\\"2015\\\", \\\"gross_rent\\\"], [\\\"2016\\\", \\\"gross_rent\\\"]], \\\"year\\\": [\\\"2010\\\", \\\"2011\\\", \\\"2012\\\", \\\"2013\\\", \\\"2014\\\", \\\"2015\\\", \\\"2016\\\", \\\"2010\\\", \\\"2011\\\", \\\"2012\\\", \\\"2013\\\", \\\"2014\\\", \\\"2015\\\", \\\"2016\\\"]}}], \\\"references\\\": []}\",\"header\":\"{\\\"msgid\\\": \\\"2692\\\", \\\"msgtype\\\": \\\"PATCH-DOC\\\"}\",\"metadata\":\"{}\"},\"Sunnyside\":{\"content\":\"{\\\"events\\\": [{\\\"attr\\\": \\\"factors\\\", \\\"kind\\\": \\\"ModelChanged\\\", \\\"model\\\": {\\\"id\\\": \\\"2532\\\"}, \\\"new\\\": [[\\\"2010\\\", \\\"gross_rent\\\"], [\\\"2010\\\", \\\"sale_price_sqr_foot\\\"], [\\\"2011\\\", \\\"gross_rent\\\"], [\\\"2011\\\", \\\"sale_price_sqr_foot\\\"], [\\\"2013\\\", \\\"gross_rent\\\"], [\\\"2013\\\", \\\"sale_price_sqr_foot\\\"], [\\\"2014\\\", \\\"gross_rent\\\"], [\\\"2014\\\", \\\"sale_price_sqr_foot\\\"], [\\\"2015\\\", \\\"gross_rent\\\"], [\\\"2015\\\", \\\"sale_price_sqr_foot\\\"], [\\\"2016\\\", \\\"gross_rent\\\"], [\\\"2016\\\", \\\"sale_price_sqr_foot\\\"]]}, {\\\"attr\\\": \\\"end\\\", \\\"kind\\\": \\\"ModelChanged\\\", \\\"model\\\": {\\\"id\\\": \\\"2533\\\"}, \\\"new\\\": 4785.283570050802}, {\\\"attr\\\": \\\"reset_end\\\", \\\"kind\\\": \\\"ModelChanged\\\", \\\"model\\\": {\\\"id\\\": \\\"2533\\\"}, \\\"new\\\": 4785.283570050802}, {\\\"attr\\\": \\\"text\\\", \\\"kind\\\": \\\"ModelChanged\\\", \\\"model\\\": {\\\"id\\\": \\\"2536\\\"}, \\\"new\\\": \\\"neighborhood: Sunnyside\\\"}, {\\\"cols\\\": null, \\\"column_source\\\": {\\\"id\\\": \\\"2565\\\"}, \\\"kind\\\": \\\"ColumnDataChanged\\\", \\\"new\\\": {\\\"Variable\\\": [\\\"sale_price_sqr_foot\\\", \\\"sale_price_sqr_foot\\\", \\\"sale_price_sqr_foot\\\", \\\"sale_price_sqr_foot\\\", \\\"sale_price_sqr_foot\\\", \\\"sale_price_sqr_foot\\\", \\\"gross_rent\\\", \\\"gross_rent\\\", \\\"gross_rent\\\", \\\"gross_rent\\\", \\\"gross_rent\\\", \\\"gross_rent\\\"], \\\"value\\\": {\\\"__ndarray__\\\": \\\"f6R84kD0gECgDIH4oFJ7QPXbPGNbnX9AnvFbKErXfkARQeSF/3t7QNaZgMFjeYdAAAAAAABck0AAAAAAAOiXQAAAAAAANqdAAAAAAACQq0AAAAAAADatQAAAAAAAJrFA\\\", \\\"dtype\\\": \\\"float64\\\", \\\"order\\\": \\\"little\\\", \\\"shape\\\": [12]}, \\\"xoffsets\\\": [[\\\"2010\\\", \\\"sale_price_sqr_foot\\\"], [\\\"2011\\\", \\\"sale_price_sqr_foot\\\"], [\\\"2013\\\", \\\"sale_price_sqr_foot\\\"], [\\\"2014\\\", \\\"sale_price_sqr_foot\\\"], [\\\"2015\\\", \\\"sale_price_sqr_foot\\\"], [\\\"2016\\\", \\\"sale_price_sqr_foot\\\"], [\\\"2010\\\", \\\"gross_rent\\\"], [\\\"2011\\\", \\\"gross_rent\\\"], [\\\"2013\\\", \\\"gross_rent\\\"], [\\\"2014\\\", \\\"gross_rent\\\"], [\\\"2015\\\", \\\"gross_rent\\\"], [\\\"2016\\\", \\\"gross_rent\\\"]], \\\"year\\\": [\\\"2010\\\", \\\"2011\\\", \\\"2013\\\", \\\"2014\\\", \\\"2015\\\", \\\"2016\\\", \\\"2010\\\", \\\"2011\\\", \\\"2013\\\", \\\"2014\\\", \\\"2015\\\", \\\"2016\\\"]}}], \\\"references\\\": []}\",\"header\":\"{\\\"msgid\\\": \\\"2687\\\", \\\"msgtype\\\": \\\"PATCH-DOC\\\"}\",\"metadata\":\"{}\"},\"Telegraph Hill\":{\"content\":\"{\\\"events\\\": [{\\\"attr\\\": \\\"end\\\", \\\"kind\\\": \\\"ModelChanged\\\", \\\"model\\\": {\\\"id\\\": \\\"2533\\\"}, \\\"new\\\": 4782.419787836822}, {\\\"attr\\\": \\\"reset_end\\\", \\\"kind\\\": \\\"ModelChanged\\\", \\\"model\\\": {\\\"id\\\": \\\"2533\\\"}, \\\"new\\\": 4782.419787836822}, {\\\"attr\\\": \\\"text\\\", \\\"kind\\\": \\\"ModelChanged\\\", \\\"model\\\": {\\\"id\\\": \\\"2536\\\"}, \\\"new\\\": \\\"neighborhood: Telegraph Hill\\\"}, {\\\"cols\\\": null, \\\"column_source\\\": {\\\"id\\\": \\\"2565\\\"}, \\\"kind\\\": \\\"ColumnDataChanged\\\", \\\"new\\\": {\\\"Variable\\\": [\\\"sale_price_sqr_foot\\\", \\\"sale_price_sqr_foot\\\", \\\"sale_price_sqr_foot\\\", \\\"sale_price_sqr_foot\\\", \\\"sale_price_sqr_foot\\\", \\\"sale_price_sqr_foot\\\", \\\"sale_price_sqr_foot\\\", \\\"gross_rent\\\", \\\"gross_rent\\\", \\\"gross_rent\\\", \\\"gross_rent\\\", \\\"gross_rent\\\", \\\"gross_rent\\\", \\\"gross_rent\\\"], \\\"value\\\": {\\\"__ndarray__\\\": \\\"COpLG1lmgEAS2VILfjZ+QB7+fX3VHH1AM0HkMH5qhECxLjJUiyGGQPfUt/jrJ49AqrAg7mU4jEAAAAAAAFyTQAAAAAAA6JdAAAAAAAAookAAAAAAADanQAAAAAAAkKtAAAAAAAA2rUAAAAAAACaxQA==\\\", \\\"dtype\\\": \\\"float64\\\", \\\"order\\\": \\\"little\\\", \\\"shape\\\": [14]}, \\\"xoffsets\\\": [[\\\"2010\\\", \\\"sale_price_sqr_foot\\\"], [\\\"2011\\\", \\\"sale_price_sqr_foot\\\"], [\\\"2012\\\", \\\"sale_price_sqr_foot\\\"], [\\\"2013\\\", \\\"sale_price_sqr_foot\\\"], [\\\"2014\\\", \\\"sale_price_sqr_foot\\\"], [\\\"2015\\\", \\\"sale_price_sqr_foot\\\"], [\\\"2016\\\", \\\"sale_price_sqr_foot\\\"], [\\\"2010\\\", \\\"gross_rent\\\"], [\\\"2011\\\", \\\"gross_rent\\\"], [\\\"2012\\\", \\\"gross_rent\\\"], [\\\"2013\\\", \\\"gross_rent\\\"], [\\\"2014\\\", \\\"gross_rent\\\"], [\\\"2015\\\", \\\"gross_rent\\\"], [\\\"2016\\\", \\\"gross_rent\\\"]], \\\"year\\\": [\\\"2010\\\", \\\"2011\\\", \\\"2012\\\", \\\"2013\\\", \\\"2014\\\", \\\"2015\\\", \\\"2016\\\", \\\"2010\\\", \\\"2011\\\", \\\"2012\\\", \\\"2013\\\", \\\"2014\\\", \\\"2015\\\", \\\"2016\\\"]}}], \\\"references\\\": []}\",\"header\":\"{\\\"msgid\\\": \\\"2682\\\", \\\"msgtype\\\": \\\"PATCH-DOC\\\"}\",\"metadata\":\"{}\"},\"Twin Peaks\":{\"content\":\"{\\\"events\\\": [{\\\"attr\\\": \\\"factors\\\", \\\"kind\\\": \\\"ModelChanged\\\", \\\"model\\\": {\\\"id\\\": \\\"2532\\\"}, \\\"new\\\": [[\\\"2010\\\", \\\"gross_rent\\\"], [\\\"2010\\\", \\\"sale_price_sqr_foot\\\"], [\\\"2011\\\", \\\"gross_rent\\\"], [\\\"2011\\\", \\\"sale_price_sqr_foot\\\"], [\\\"2012\\\", \\\"gross_rent\\\"], [\\\"2012\\\", \\\"sale_price_sqr_foot\\\"], [\\\"2013\\\", \\\"gross_rent\\\"], [\\\"2013\\\", \\\"sale_price_sqr_foot\\\"], [\\\"2014\\\", \\\"gross_rent\\\"], [\\\"2014\\\", \\\"sale_price_sqr_foot\\\"], [\\\"2015\\\", \\\"gross_rent\\\"], [\\\"2015\\\", \\\"sale_price_sqr_foot\\\"], [\\\"2016\\\", \\\"gross_rent\\\"], [\\\"2016\\\", \\\"sale_price_sqr_foot\\\"]]}, {\\\"attr\\\": \\\"end\\\", \\\"kind\\\": \\\"ModelChanged\\\", \\\"model\\\": {\\\"id\\\": \\\"2533\\\"}, \\\"new\\\": 4800.543303357318}, {\\\"attr\\\": \\\"reset_end\\\", \\\"kind\\\": \\\"ModelChanged\\\", \\\"model\\\": {\\\"id\\\": \\\"2533\\\"}, \\\"new\\\": 4800.543303357318}, {\\\"attr\\\": \\\"text\\\", \\\"kind\\\": \\\"ModelChanged\\\", \\\"model\\\": {\\\"id\\\": \\\"2536\\\"}, \\\"new\\\": \\\"neighborhood: Twin Peaks\\\"}, {\\\"cols\\\": null, \\\"column_source\\\": {\\\"id\\\": \\\"2565\\\"}, \\\"kind\\\": \\\"ColumnDataChanged\\\", \\\"new\\\": {\\\"Variable\\\": [\\\"sale_price_sqr_foot\\\", \\\"sale_price_sqr_foot\\\", \\\"sale_price_sqr_foot\\\", \\\"sale_price_sqr_foot\\\", \\\"sale_price_sqr_foot\\\", \\\"sale_price_sqr_foot\\\", \\\"sale_price_sqr_foot\\\", \\\"gross_rent\\\", \\\"gross_rent\\\", \\\"gross_rent\\\", \\\"gross_rent\\\", \\\"gross_rent\\\", \\\"gross_rent\\\", \\\"gross_rent\\\"], \\\"value\\\": {\\\"__ndarray__\\\": \\\"WOE2XOW4dEC1UWNLEslxQAmC4vRkDnNA+JW2mPjmeUDKE/I0SpeBQBwTSrZdFXpACq/wCq9QjkAAAAAAAFyTQAAAAAAA6JdAAAAAAAAookAAAAAAADanQAAAAAAAkKtAAAAAAAA2rUAAAAAAACaxQA==\\\", \\\"dtype\\\": \\\"float64\\\", \\\"order\\\": \\\"little\\\", \\\"shape\\\": [14]}, \\\"xoffsets\\\": [[\\\"2010\\\", \\\"sale_price_sqr_foot\\\"], [\\\"2011\\\", \\\"sale_price_sqr_foot\\\"], [\\\"2012\\\", \\\"sale_price_sqr_foot\\\"], [\\\"2013\\\", \\\"sale_price_sqr_foot\\\"], [\\\"2014\\\", \\\"sale_price_sqr_foot\\\"], [\\\"2015\\\", \\\"sale_price_sqr_foot\\\"], [\\\"2016\\\", \\\"sale_price_sqr_foot\\\"], [\\\"2010\\\", \\\"gross_rent\\\"], [\\\"2011\\\", \\\"gross_rent\\\"], [\\\"2012\\\", \\\"gross_rent\\\"], [\\\"2013\\\", \\\"gross_rent\\\"], [\\\"2014\\\", \\\"gross_rent\\\"], [\\\"2015\\\", \\\"gross_rent\\\"], [\\\"2016\\\", \\\"gross_rent\\\"]], \\\"year\\\": [\\\"2010\\\", \\\"2011\\\", \\\"2012\\\", \\\"2013\\\", \\\"2014\\\", \\\"2015\\\", \\\"2016\\\", \\\"2010\\\", \\\"2011\\\", \\\"2012\\\", \\\"2013\\\", \\\"2014\\\", \\\"2015\\\", \\\"2016\\\"]}}], \\\"references\\\": []}\",\"header\":\"{\\\"msgid\\\": \\\"2677\\\", \\\"msgtype\\\": \\\"PATCH-DOC\\\"}\",\"metadata\":\"{}\"},\"Union Square District\":{\"content\":\"{\\\"events\\\": [{\\\"attr\\\": \\\"factors\\\", \\\"kind\\\": \\\"ModelChanged\\\", \\\"model\\\": {\\\"id\\\": \\\"2532\\\"}, \\\"new\\\": [[\\\"2010\\\", \\\"gross_rent\\\"], [\\\"2010\\\", \\\"sale_price_sqr_foot\\\"], [\\\"2011\\\", \\\"gross_rent\\\"], [\\\"2011\\\", \\\"sale_price_sqr_foot\\\"], [\\\"2012\\\", \\\"gross_rent\\\"], [\\\"2012\\\", \\\"sale_price_sqr_foot\\\"], [\\\"2013\\\", \\\"gross_rent\\\"], [\\\"2013\\\", \\\"sale_price_sqr_foot\\\"], [\\\"2014\\\", \\\"gross_rent\\\"], [\\\"2014\\\", \\\"sale_price_sqr_foot\\\"], [\\\"2015\\\", \\\"gross_rent\\\"], [\\\"2015\\\", \\\"sale_price_sqr_foot\\\"]]}, {\\\"attr\\\": \\\"end\\\", \\\"kind\\\": \\\"ModelChanged\\\", \\\"model\\\": {\\\"id\\\": \\\"2533\\\"}, \\\"new\\\": 4082.687674719031}, {\\\"attr\\\": \\\"reset_end\\\", \\\"kind\\\": \\\"ModelChanged\\\", \\\"model\\\": {\\\"id\\\": \\\"2533\\\"}, \\\"new\\\": 4082.687674719031}, {\\\"attr\\\": \\\"text\\\", \\\"kind\\\": \\\"ModelChanged\\\", \\\"model\\\": {\\\"id\\\": \\\"2536\\\"}, \\\"new\\\": \\\"neighborhood: Union Square District\\\"}, {\\\"cols\\\": null, \\\"column_source\\\": {\\\"id\\\": \\\"2565\\\"}, \\\"kind\\\": \\\"ColumnDataChanged\\\", \\\"new\\\": {\\\"Variable\\\": [\\\"sale_price_sqr_foot\\\", \\\"sale_price_sqr_foot\\\", \\\"sale_price_sqr_foot\\\", \\\"sale_price_sqr_foot\\\", \\\"sale_price_sqr_foot\\\", \\\"sale_price_sqr_foot\\\", \\\"gross_rent\\\", \\\"gross_rent\\\", \\\"gross_rent\\\", \\\"gross_rent\\\", \\\"gross_rent\\\", \\\"gross_rent\\\"], \\\"value\\\": {\\\"__ndarray__\\\": \\\"4Ic3LozJgUA7LPDX+OFyQDQwzQom03tAML7sb+MplEBCsqZAK3KBQAl/mNlnpaFAAAAAAABck0AAAAAAAOiXQAAAAAAAKKJAAAAAAAA2p0AAAAAAAJCrQAAAAAAANq1A\\\", \\\"dtype\\\": \\\"float64\\\", \\\"order\\\": \\\"little\\\", \\\"shape\\\": [12]}, \\\"xoffsets\\\": [[\\\"2010\\\", \\\"sale_price_sqr_foot\\\"], [\\\"2011\\\", \\\"sale_price_sqr_foot\\\"], [\\\"2012\\\", \\\"sale_price_sqr_foot\\\"], [\\\"2013\\\", \\\"sale_price_sqr_foot\\\"], [\\\"2014\\\", \\\"sale_price_sqr_foot\\\"], [\\\"2015\\\", \\\"sale_price_sqr_foot\\\"], [\\\"2010\\\", \\\"gross_rent\\\"], [\\\"2011\\\", \\\"gross_rent\\\"], [\\\"2012\\\", \\\"gross_rent\\\"], [\\\"2013\\\", \\\"gross_rent\\\"], [\\\"2014\\\", \\\"gross_rent\\\"], [\\\"2015\\\", \\\"gross_rent\\\"]], \\\"year\\\": [\\\"2010\\\", \\\"2011\\\", \\\"2012\\\", \\\"2013\\\", \\\"2014\\\", \\\"2015\\\", \\\"2010\\\", \\\"2011\\\", \\\"2012\\\", \\\"2013\\\", \\\"2014\\\", \\\"2015\\\"]}}], \\\"references\\\": []}\",\"header\":\"{\\\"msgid\\\": \\\"2672\\\", \\\"msgtype\\\": \\\"PATCH-DOC\\\"}\",\"metadata\":\"{}\"},\"Van Ness/ Civic Center\":{\"content\":\"{\\\"events\\\": [{\\\"attr\\\": \\\"factors\\\", \\\"kind\\\": \\\"ModelChanged\\\", \\\"model\\\": {\\\"id\\\": \\\"2532\\\"}, \\\"new\\\": [[\\\"2010\\\", \\\"gross_rent\\\"], [\\\"2010\\\", \\\"sale_price_sqr_foot\\\"], [\\\"2011\\\", \\\"gross_rent\\\"], [\\\"2011\\\", \\\"sale_price_sqr_foot\\\"], [\\\"2012\\\", \\\"gross_rent\\\"], [\\\"2012\\\", \\\"sale_price_sqr_foot\\\"], [\\\"2013\\\", \\\"gross_rent\\\"], [\\\"2013\\\", \\\"sale_price_sqr_foot\\\"], [\\\"2014\\\", \\\"gross_rent\\\"], [\\\"2014\\\", \\\"sale_price_sqr_foot\\\"], [\\\"2015\\\", \\\"gross_rent\\\"], [\\\"2015\\\", \\\"sale_price_sqr_foot\\\"], [\\\"2016\\\", \\\"gross_rent\\\"], [\\\"2016\\\", \\\"sale_price_sqr_foot\\\"]]}, {\\\"attr\\\": \\\"end\\\", \\\"kind\\\": \\\"ModelChanged\\\", \\\"model\\\": {\\\"id\\\": \\\"2533\\\"}, \\\"new\\\": 4818.198707312349}, {\\\"attr\\\": \\\"reset_end\\\", \\\"kind\\\": \\\"ModelChanged\\\", \\\"model\\\": {\\\"id\\\": \\\"2533\\\"}, \\\"new\\\": 4818.198707312349}, {\\\"attr\\\": \\\"text\\\", \\\"kind\\\": \\\"ModelChanged\\\", \\\"model\\\": {\\\"id\\\": \\\"2536\\\"}, \\\"new\\\": \\\"neighborhood: Van Ness/ Civic Center\\\"}, {\\\"cols\\\": null, \\\"column_source\\\": {\\\"id\\\": \\\"2565\\\"}, \\\"kind\\\": \\\"ColumnDataChanged\\\", \\\"new\\\": {\\\"Variable\\\": [\\\"sale_price_sqr_foot\\\", \\\"sale_price_sqr_foot\\\", \\\"sale_price_sqr_foot\\\", \\\"sale_price_sqr_foot\\\", \\\"sale_price_sqr_foot\\\", \\\"sale_price_sqr_foot\\\", \\\"sale_price_sqr_foot\\\", \\\"gross_rent\\\", \\\"gross_rent\\\", \\\"gross_rent\\\", \\\"gross_rent\\\", \\\"gross_rent\\\", \\\"gross_rent\\\", \\\"gross_rent\\\"], \\\"value\\\": {\\\"__ndarray__\\\": \\\"9/Q/y9MAW0C4de7wyQN4QCWBKCJUn3VAuVvU7ybQcUD2TkF+SrZ9QPqD47K0LoVAmVO3DtJEgUAAAAAAAFyTQAAAAAAA6JdAAAAAAAAookAAAAAAADanQAAAAAAAkKtAAAAAAAA2rUAAAAAAACaxQA==\\\", \\\"dtype\\\": \\\"float64\\\", \\\"order\\\": \\\"little\\\", \\\"shape\\\": [14]}, \\\"xoffsets\\\": [[\\\"2010\\\", \\\"sale_price_sqr_foot\\\"], [\\\"2011\\\", \\\"sale_price_sqr_foot\\\"], [\\\"2012\\\", \\\"sale_price_sqr_foot\\\"], [\\\"2013\\\", \\\"sale_price_sqr_foot\\\"], [\\\"2014\\\", \\\"sale_price_sqr_foot\\\"], [\\\"2015\\\", \\\"sale_price_sqr_foot\\\"], [\\\"2016\\\", \\\"sale_price_sqr_foot\\\"], [\\\"2010\\\", \\\"gross_rent\\\"], [\\\"2011\\\", \\\"gross_rent\\\"], [\\\"2012\\\", \\\"gross_rent\\\"], [\\\"2013\\\", \\\"gross_rent\\\"], [\\\"2014\\\", \\\"gross_rent\\\"], [\\\"2015\\\", \\\"gross_rent\\\"], [\\\"2016\\\", \\\"gross_rent\\\"]], \\\"year\\\": [\\\"2010\\\", \\\"2011\\\", \\\"2012\\\", \\\"2013\\\", \\\"2014\\\", \\\"2015\\\", \\\"2016\\\", \\\"2010\\\", \\\"2011\\\", \\\"2012\\\", \\\"2013\\\", \\\"2014\\\", \\\"2015\\\", \\\"2016\\\"]}}], \\\"references\\\": []}\",\"header\":\"{\\\"msgid\\\": \\\"2667\\\", \\\"msgtype\\\": \\\"PATCH-DOC\\\"}\",\"metadata\":\"{}\"},\"Visitacion Valley\":{\"content\":\"{\\\"events\\\": [{\\\"attr\\\": \\\"factors\\\", \\\"kind\\\": \\\"ModelChanged\\\", \\\"model\\\": {\\\"id\\\": \\\"2532\\\"}, \\\"new\\\": [[\\\"2013\\\", \\\"gross_rent\\\"], [\\\"2013\\\", \\\"sale_price_sqr_foot\\\"], [\\\"2014\\\", \\\"gross_rent\\\"], [\\\"2014\\\", \\\"sale_price_sqr_foot\\\"], [\\\"2015\\\", \\\"gross_rent\\\"], [\\\"2015\\\", \\\"sale_price_sqr_foot\\\"], [\\\"2016\\\", \\\"gross_rent\\\"], [\\\"2016\\\", \\\"sale_price_sqr_foot\\\"]]}, {\\\"attr\\\": \\\"end\\\", \\\"kind\\\": \\\"ModelChanged\\\", \\\"model\\\": {\\\"id\\\": \\\"2533\\\"}, \\\"new\\\": 4800.797453169984}, {\\\"attr\\\": \\\"reset_end\\\", \\\"kind\\\": \\\"ModelChanged\\\", \\\"model\\\": {\\\"id\\\": \\\"2533\\\"}, \\\"new\\\": 4800.797453169984}, {\\\"attr\\\": \\\"text\\\", \\\"kind\\\": \\\"ModelChanged\\\", \\\"model\\\": {\\\"id\\\": \\\"2536\\\"}, \\\"new\\\": \\\"neighborhood: Visitacion Valley\\\"}, {\\\"cols\\\": null, \\\"column_source\\\": {\\\"id\\\": \\\"2565\\\"}, \\\"kind\\\": \\\"ColumnDataChanged\\\", \\\"new\\\": {\\\"Variable\\\": [\\\"sale_price_sqr_foot\\\", \\\"sale_price_sqr_foot\\\", \\\"sale_price_sqr_foot\\\", \\\"sale_price_sqr_foot\\\", \\\"gross_rent\\\", \\\"gross_rent\\\", \\\"gross_rent\\\", \\\"gross_rent\\\"], \\\"value\\\": {\\\"__ndarray__\\\": \\\"bh3vIcZUckCxxHJRaKBxQA8XZcqM43JAUinBphqFdEAAAAAAADanQAAAAAAAkKtAAAAAAAA2rUAAAAAAACaxQA==\\\", \\\"dtype\\\": \\\"float64\\\", \\\"order\\\": \\\"little\\\", \\\"shape\\\": [8]}, \\\"xoffsets\\\": [[\\\"2013\\\", \\\"sale_price_sqr_foot\\\"], [\\\"2014\\\", \\\"sale_price_sqr_foot\\\"], [\\\"2015\\\", \\\"sale_price_sqr_foot\\\"], [\\\"2016\\\", \\\"sale_price_sqr_foot\\\"], [\\\"2013\\\", \\\"gross_rent\\\"], [\\\"2014\\\", \\\"gross_rent\\\"], [\\\"2015\\\", \\\"gross_rent\\\"], [\\\"2016\\\", \\\"gross_rent\\\"]], \\\"year\\\": [\\\"2013\\\", \\\"2014\\\", \\\"2015\\\", \\\"2016\\\", \\\"2013\\\", \\\"2014\\\", \\\"2015\\\", \\\"2016\\\"]}}], \\\"references\\\": []}\",\"header\":\"{\\\"msgid\\\": \\\"2662\\\", \\\"msgtype\\\": \\\"PATCH-DOC\\\"}\",\"metadata\":\"{}\"},\"West Portal\":{\"content\":\"{\\\"events\\\": [{\\\"attr\\\": \\\"factors\\\", \\\"kind\\\": \\\"ModelChanged\\\", \\\"model\\\": {\\\"id\\\": \\\"2532\\\"}, \\\"new\\\": [[\\\"2010\\\", \\\"gross_rent\\\"], [\\\"2010\\\", \\\"sale_price_sqr_foot\\\"], [\\\"2012\\\", \\\"gross_rent\\\"], [\\\"2012\\\", \\\"sale_price_sqr_foot\\\"], [\\\"2013\\\", \\\"gross_rent\\\"], [\\\"2013\\\", \\\"sale_price_sqr_foot\\\"], [\\\"2014\\\", \\\"gross_rent\\\"], [\\\"2014\\\", \\\"sale_price_sqr_foot\\\"]]}, {\\\"attr\\\": \\\"end\\\", \\\"kind\\\": \\\"ModelChanged\\\", \\\"model\\\": {\\\"id\\\": \\\"2533\\\"}, \\\"new\\\": 3848.220458493566}, {\\\"attr\\\": \\\"reset_end\\\", \\\"kind\\\": \\\"ModelChanged\\\", \\\"model\\\": {\\\"id\\\": \\\"2533\\\"}, \\\"new\\\": 3848.220458493566}, {\\\"attr\\\": \\\"text\\\", \\\"kind\\\": \\\"ModelChanged\\\", \\\"model\\\": {\\\"id\\\": \\\"2536\\\"}, \\\"new\\\": \\\"neighborhood: West Portal\\\"}, {\\\"cols\\\": null, \\\"column_source\\\": {\\\"id\\\": \\\"2565\\\"}, \\\"kind\\\": \\\"ColumnDataChanged\\\", \\\"new\\\": {\\\"Variable\\\": [\\\"sale_price_sqr_foot\\\", \\\"sale_price_sqr_foot\\\", \\\"sale_price_sqr_foot\\\", \\\"sale_price_sqr_foot\\\", \\\"gross_rent\\\", \\\"gross_rent\\\", \\\"gross_rent\\\", \\\"gross_rent\\\"], \\\"value\\\": {\\\"__ndarray__\\\": \\\"X0cX7s+EeEAugSUFulx0QOs5Di+ZYIJAY0tDgkN+hUAAAAAAAFyTQAAAAAAAKKJAAAAAAAA2p0AAAAAAAJCrQA==\\\", \\\"dtype\\\": \\\"float64\\\", \\\"order\\\": \\\"little\\\", \\\"shape\\\": [8]}, \\\"xoffsets\\\": [[\\\"2010\\\", \\\"sale_price_sqr_foot\\\"], [\\\"2012\\\", \\\"sale_price_sqr_foot\\\"], [\\\"2013\\\", \\\"sale_price_sqr_foot\\\"], [\\\"2014\\\", \\\"sale_price_sqr_foot\\\"], [\\\"2010\\\", \\\"gross_rent\\\"], [\\\"2012\\\", \\\"gross_rent\\\"], [\\\"2013\\\", \\\"gross_rent\\\"], [\\\"2014\\\", \\\"gross_rent\\\"]], \\\"year\\\": [\\\"2010\\\", \\\"2012\\\", \\\"2013\\\", \\\"2014\\\", \\\"2010\\\", \\\"2012\\\", \\\"2013\\\", \\\"2014\\\"]}}], \\\"references\\\": []}\",\"header\":\"{\\\"msgid\\\": \\\"2657\\\", \\\"msgtype\\\": \\\"PATCH-DOC\\\"}\",\"metadata\":\"{}\"},\"Western Addition\":{\"content\":\"{\\\"events\\\": [{\\\"attr\\\": \\\"factors\\\", \\\"kind\\\": \\\"ModelChanged\\\", \\\"model\\\": {\\\"id\\\": \\\"2532\\\"}, \\\"new\\\": [[\\\"2010\\\", \\\"gross_rent\\\"], [\\\"2010\\\", \\\"sale_price_sqr_foot\\\"], [\\\"2011\\\", \\\"gross_rent\\\"], [\\\"2011\\\", \\\"sale_price_sqr_foot\\\"], [\\\"2012\\\", \\\"gross_rent\\\"], [\\\"2012\\\", \\\"sale_price_sqr_foot\\\"], [\\\"2013\\\", \\\"gross_rent\\\"], [\\\"2013\\\", \\\"sale_price_sqr_foot\\\"], [\\\"2014\\\", \\\"gross_rent\\\"], [\\\"2014\\\", \\\"sale_price_sqr_foot\\\"], [\\\"2015\\\", \\\"gross_rent\\\"], [\\\"2015\\\", \\\"sale_price_sqr_foot\\\"]]}, {\\\"attr\\\": \\\"end\\\", \\\"kind\\\": \\\"ModelChanged\\\", \\\"model\\\": {\\\"id\\\": \\\"2533\\\"}, \\\"new\\\": 4091.3430865685123}, {\\\"attr\\\": \\\"reset_end\\\", \\\"kind\\\": \\\"ModelChanged\\\", \\\"model\\\": {\\\"id\\\": \\\"2533\\\"}, \\\"new\\\": 4091.3430865685123}, {\\\"attr\\\": \\\"text\\\", \\\"kind\\\": \\\"ModelChanged\\\", \\\"model\\\": {\\\"id\\\": \\\"2536\\\"}, \\\"new\\\": \\\"neighborhood: Western Addition\\\"}, {\\\"cols\\\": null, \\\"column_source\\\": {\\\"id\\\": \\\"2565\\\"}, \\\"kind\\\": \\\"ColumnDataChanged\\\", \\\"new\\\": {\\\"Variable\\\": [\\\"sale_price_sqr_foot\\\", \\\"sale_price_sqr_foot\\\", \\\"sale_price_sqr_foot\\\", \\\"sale_price_sqr_foot\\\", \\\"sale_price_sqr_foot\\\", \\\"sale_price_sqr_foot\\\", \\\"gross_rent\\\", \\\"gross_rent\\\", \\\"gross_rent\\\", \\\"gross_rent\\\", \\\"gross_rent\\\", \\\"gross_rent\\\"], \\\"value\\\": {\\\"__ndarray__\\\": \\\"gK0qWTbyakDIEo9KaG1sQCp/FVVqJXFAdZUip9kia0B6M+4l0Nd6QK+mSAaCF35AAAAAAABck0AAAAAAAOiXQAAAAAAAKKJAAAAAAAA2p0AAAAAAAJCrQAAAAAAANq1A\\\", \\\"dtype\\\": \\\"float64\\\", \\\"order\\\": \\\"little\\\", \\\"shape\\\": [12]}, \\\"xoffsets\\\": [[\\\"2010\\\", \\\"sale_price_sqr_foot\\\"], [\\\"2011\\\", \\\"sale_price_sqr_foot\\\"], [\\\"2012\\\", \\\"sale_price_sqr_foot\\\"], [\\\"2013\\\", \\\"sale_price_sqr_foot\\\"], [\\\"2014\\\", \\\"sale_price_sqr_foot\\\"], [\\\"2015\\\", \\\"sale_price_sqr_foot\\\"], [\\\"2010\\\", \\\"gross_rent\\\"], [\\\"2011\\\", \\\"gross_rent\\\"], [\\\"2012\\\", \\\"gross_rent\\\"], [\\\"2013\\\", \\\"gross_rent\\\"], [\\\"2014\\\", \\\"gross_rent\\\"], [\\\"2015\\\", \\\"gross_rent\\\"]], \\\"year\\\": [\\\"2010\\\", \\\"2011\\\", \\\"2012\\\", \\\"2013\\\", \\\"2014\\\", \\\"2015\\\", \\\"2010\\\", \\\"2011\\\", \\\"2012\\\", \\\"2013\\\", \\\"2014\\\", \\\"2015\\\"]}}], \\\"references\\\": []}\",\"header\":\"{\\\"msgid\\\": \\\"2652\\\", \\\"msgtype\\\": \\\"PATCH-DOC\\\"}\",\"metadata\":\"{}\"},\"Westwood Highlands\":{\"content\":\"{\\\"events\\\": [{\\\"attr\\\": \\\"factors\\\", \\\"kind\\\": \\\"ModelChanged\\\", \\\"model\\\": {\\\"id\\\": \\\"2532\\\"}, \\\"new\\\": [[\\\"2011\\\", \\\"gross_rent\\\"], [\\\"2011\\\", \\\"sale_price_sqr_foot\\\"], [\\\"2013\\\", \\\"gross_rent\\\"], [\\\"2013\\\", \\\"sale_price_sqr_foot\\\"]]}, {\\\"attr\\\": \\\"end\\\", \\\"kind\\\": \\\"ModelChanged\\\", \\\"model\\\": {\\\"id\\\": \\\"2533\\\"}, \\\"new\\\": 3236.0925666945254}, {\\\"attr\\\": \\\"reset_end\\\", \\\"kind\\\": \\\"ModelChanged\\\", \\\"model\\\": {\\\"id\\\": \\\"2533\\\"}, \\\"new\\\": 3236.0925666945254}, {\\\"attr\\\": \\\"text\\\", \\\"kind\\\": \\\"ModelChanged\\\", \\\"model\\\": {\\\"id\\\": \\\"2536\\\"}, \\\"new\\\": \\\"neighborhood: Westwood Highlands\\\"}, {\\\"cols\\\": null, \\\"column_source\\\": {\\\"id\\\": \\\"2565\\\"}, \\\"kind\\\": \\\"ColumnDataChanged\\\", \\\"new\\\": {\\\"Variable\\\": [\\\"sale_price_sqr_foot\\\", \\\"sale_price_sqr_foot\\\", \\\"gross_rent\\\", \\\"gross_rent\\\"], \\\"value\\\": {\\\"__ndarray__\\\": \\\"MHLbdzABdEBpBeAVq1qHQAAAAAAA6JdAAAAAAAA2p0A=\\\", \\\"dtype\\\": \\\"float64\\\", \\\"order\\\": \\\"little\\\", \\\"shape\\\": [4]}, \\\"xoffsets\\\": [[\\\"2011\\\", \\\"sale_price_sqr_foot\\\"], [\\\"2013\\\", \\\"sale_price_sqr_foot\\\"], [\\\"2011\\\", \\\"gross_rent\\\"], [\\\"2013\\\", \\\"gross_rent\\\"]], \\\"year\\\": [\\\"2011\\\", \\\"2013\\\", \\\"2011\\\", \\\"2013\\\"]}}], \\\"references\\\": []}\",\"header\":\"{\\\"msgid\\\": \\\"2647\\\", \\\"msgtype\\\": \\\"PATCH-DOC\\\"}\",\"metadata\":\"{}\"},\"Westwood Park\":{\"content\":\"{\\\"events\\\": [{\\\"attr\\\": \\\"factors\\\", \\\"kind\\\": \\\"ModelChanged\\\", \\\"model\\\": {\\\"id\\\": \\\"2532\\\"}, \\\"new\\\": [[\\\"2014\\\", \\\"gross_rent\\\"], [\\\"2014\\\", \\\"sale_price_sqr_foot\\\"], [\\\"2016\\\", \\\"gross_rent\\\"], [\\\"2016\\\", \\\"sale_price_sqr_foot\\\"]]}, {\\\"attr\\\": \\\"end\\\", \\\"kind\\\": \\\"ModelChanged\\\", \\\"model\\\": {\\\"id\\\": \\\"2533\\\"}, \\\"new\\\": 4765.880457412759}, {\\\"attr\\\": \\\"reset_end\\\", \\\"kind\\\": \\\"ModelChanged\\\", \\\"model\\\": {\\\"id\\\": \\\"2533\\\"}, \\\"new\\\": 4765.880457412759}, {\\\"attr\\\": \\\"text\\\", \\\"kind\\\": \\\"ModelChanged\\\", \\\"model\\\": {\\\"id\\\": \\\"2536\\\"}, \\\"new\\\": \\\"neighborhood: Westwood Park\\\"}, {\\\"cols\\\": null, \\\"column_source\\\": {\\\"id\\\": \\\"2565\\\"}, \\\"kind\\\": \\\"ColumnDataChanged\\\", \\\"new\\\": {\\\"Variable\\\": [\\\"sale_price_sqr_foot\\\", \\\"sale_price_sqr_foot\\\", \\\"gross_rent\\\", \\\"gross_rent\\\"], \\\"value\\\": {\\\"__ndarray__\\\": \\\"hgoZedY3h0BRlnA7kLmDQAAAAAAAkKtAAAAAAAAmsUA=\\\", \\\"dtype\\\": \\\"float64\\\", \\\"order\\\": \\\"little\\\", \\\"shape\\\": [4]}, \\\"xoffsets\\\": [[\\\"2014\\\", \\\"sale_price_sqr_foot\\\"], [\\\"2016\\\", \\\"sale_price_sqr_foot\\\"], [\\\"2014\\\", \\\"gross_rent\\\"], [\\\"2016\\\", \\\"gross_rent\\\"]], \\\"year\\\": [\\\"2014\\\", \\\"2016\\\", \\\"2014\\\", \\\"2016\\\"]}}], \\\"references\\\": []}\",\"header\":\"{\\\"msgid\\\": \\\"2642\\\", \\\"msgtype\\\": \\\"PATCH-DOC\\\"}\",\"metadata\":\"{}\"},\"Yerba Buena\":{\"content\":\"{\\\"events\\\": [{\\\"attr\\\": \\\"factors\\\", \\\"kind\\\": \\\"ModelChanged\\\", \\\"model\\\": {\\\"id\\\": \\\"2532\\\"}, \\\"new\\\": [[\\\"2010\\\", \\\"gross_rent\\\"], [\\\"2010\\\", \\\"sale_price_sqr_foot\\\"], [\\\"2011\\\", \\\"gross_rent\\\"], [\\\"2011\\\", \\\"sale_price_sqr_foot\\\"], [\\\"2012\\\", \\\"gross_rent\\\"], [\\\"2012\\\", \\\"sale_price_sqr_foot\\\"], [\\\"2013\\\", \\\"gross_rent\\\"], [\\\"2013\\\", \\\"sale_price_sqr_foot\\\"], [\\\"2014\\\", \\\"gross_rent\\\"], [\\\"2014\\\", \\\"sale_price_sqr_foot\\\"], [\\\"2015\\\", \\\"gross_rent\\\"], [\\\"2015\\\", \\\"sale_price_sqr_foot\\\"]]}, {\\\"attr\\\": \\\"end\\\", \\\"kind\\\": \\\"ModelChanged\\\", \\\"model\\\": {\\\"id\\\": \\\"2533\\\"}, \\\"new\\\": 4079.587322615806}, {\\\"attr\\\": \\\"reset_end\\\", \\\"kind\\\": \\\"ModelChanged\\\", \\\"model\\\": {\\\"id\\\": \\\"2533\\\"}, \\\"new\\\": 4079.587322615806}, {\\\"attr\\\": \\\"text\\\", \\\"kind\\\": \\\"ModelChanged\\\", \\\"model\\\": {\\\"id\\\": \\\"2536\\\"}, \\\"new\\\": \\\"neighborhood: Yerba Buena\\\"}, {\\\"cols\\\": null, \\\"column_source\\\": {\\\"id\\\": \\\"2565\\\"}, \\\"kind\\\": \\\"ColumnDataChanged\\\", \\\"new\\\": {\\\"Variable\\\": [\\\"sale_price_sqr_foot\\\", \\\"sale_price_sqr_foot\\\", \\\"sale_price_sqr_foot\\\", \\\"sale_price_sqr_foot\\\", \\\"sale_price_sqr_foot\\\", \\\"sale_price_sqr_foot\\\", \\\"gross_rent\\\", \\\"gross_rent\\\", \\\"gross_rent\\\", \\\"gross_rent\\\", \\\"gross_rent\\\", \\\"gross_rent\\\"], \\\"value\\\": {\\\"__ndarray__\\\": \\\"2hECRAfSdEB3bevKxG17QBDwDygGvX5AZqvdXxeIh0Ae7tWsx/59QOv8I0wuHI5AAAAAAABck0AAAAAAAOiXQAAAAAAAKKJAAAAAAAA2p0AAAAAAAJCrQAAAAAAANq1A\\\", \\\"dtype\\\": \\\"float64\\\", \\\"order\\\": \\\"little\\\", \\\"shape\\\": [12]}, \\\"xoffsets\\\": [[\\\"2010\\\", \\\"sale_price_sqr_foot\\\"], [\\\"2011\\\", \\\"sale_price_sqr_foot\\\"], [\\\"2012\\\", \\\"sale_price_sqr_foot\\\"], [\\\"2013\\\", \\\"sale_price_sqr_foot\\\"], [\\\"2014\\\", \\\"sale_price_sqr_foot\\\"], [\\\"2015\\\", \\\"sale_price_sqr_foot\\\"], [\\\"2010\\\", \\\"gross_rent\\\"], [\\\"2011\\\", \\\"gross_rent\\\"], [\\\"2012\\\", \\\"gross_rent\\\"], [\\\"2013\\\", \\\"gross_rent\\\"], [\\\"2014\\\", \\\"gross_rent\\\"], [\\\"2015\\\", \\\"gross_rent\\\"]], \\\"year\\\": [\\\"2010\\\", \\\"2011\\\", \\\"2012\\\", \\\"2013\\\", \\\"2014\\\", \\\"2015\\\", \\\"2010\\\", \\\"2011\\\", \\\"2012\\\", \\\"2013\\\", \\\"2014\\\", \\\"2015\\\"]}}], \\\"references\\\": []}\",\"header\":\"{\\\"msgid\\\": \\\"2637\\\", \\\"msgtype\\\": \\\"PATCH-DOC\\\"}\",\"metadata\":\"{}\"}},\"values\":[\"Alamo Square\"],\"widgets\":{\"2605\":0}},\"id\":\"2615\",\"type\":\"panel.models.state.State\"},{\"attributes\":{\"margin\":[5,5,5,5],\"name\":\"HSpacer48494\",\"sizing_mode\":\"stretch_width\"},\"id\":\"2601\",\"type\":\"Spacer\"},{\"attributes\":{\"margin\":[5,5,5,5],\"name\":\"VSpacer48490\",\"sizing_mode\":\"stretch_height\"},\"id\":\"2603\",\"type\":\"Spacer\"},{\"attributes\":{\"bottom_units\":\"screen\",\"fill_alpha\":0.5,\"fill_color\":\"lightgrey\",\"left_units\":\"screen\",\"level\":\"overlay\",\"line_alpha\":1.0,\"line_color\":\"black\",\"line_dash\":[4,4],\"line_width\":2,\"right_units\":\"screen\",\"top_units\":\"screen\"},\"id\":\"2556\",\"type\":\"BoxAnnotation\"},{\"attributes\":{\"fill_color\":{\"field\":\"Variable\",\"transform\":{\"id\":\"2564\"}},\"top\":{\"field\":\"value\"},\"width\":{\"value\":0.8},\"x\":{\"field\":\"xoffsets\"}},\"id\":\"2568\",\"type\":\"VBar\"},{\"attributes\":{},\"id\":\"2566\",\"type\":\"Selection\"},{\"attributes\":{\"source\":{\"id\":\"2565\"}},\"id\":\"2572\",\"type\":\"CDSView\"},{\"attributes\":{\"text\":\"neighborhood: Alamo Square\",\"text_color\":{\"value\":\"black\"},\"text_font_size\":{\"value\":\"12pt\"}},\"id\":\"2536\",\"type\":\"Title\"},{\"attributes\":{\"data_source\":{\"id\":\"2565\"},\"glyph\":{\"id\":\"2568\"},\"hover_glyph\":null,\"muted_glyph\":{\"id\":\"2570\"},\"nonselection_glyph\":{\"id\":\"2569\"},\"selection_glyph\":null,\"view\":{\"id\":\"2572\"}},\"id\":\"2571\",\"type\":\"GlyphRenderer\"},{\"attributes\":{\"js_property_callbacks\":{\"change:value\":[{\"id\":\"2616\"}]},\"margin\":[20,20,20,20],\"min_width\":250,\"options\":[\"Alamo Square\",\"Anza Vista\",\"Bayview\",\"Bayview Heights\",\"Bernal Heights \",\"Buena Vista Park\",\"Central Richmond\",\"Central Sunset\",\"Clarendon Heights\",\"Corona Heights\",\"Cow Hollow\",\"Croker Amazon\",\"Diamond Heights\",\"Downtown \",\"Duboce Triangle\",\"Eureka Valley/Dolores Heights\",\"Excelsior\",\"Financial District North\",\"Financial District South\",\"Forest Knolls\",\"Glen Park\",\"Golden Gate Heights\",\"Haight Ashbury\",\"Hayes Valley\",\"Hunters Point\",\"Ingleside \",\"Ingleside Heights\",\"Inner Mission\",\"Inner Parkside\",\"Inner Richmond\",\"Inner Sunset\",\"Jordan Park/Laurel Heights\",\"Lake --The Presidio\",\"Lone Mountain\",\"Lower Pacific Heights\",\"Marina\",\"Merced Heights\",\"Midtown Terrace\",\"Miraloma Park\",\"Mission Bay\",\"Mission Dolores\",\"Mission Terrace\",\"Nob Hill\",\"Noe Valley\",\"North Beach\",\"North Waterfront\",\"Oceanview\",\"Outer Mission\",\"Outer Parkside\",\"Outer Richmond \",\"Outer Sunset\",\"Pacific Heights\",\"Park North\",\"Parkside\",\"Parnassus/Ashbury Heights\",\"Portola\",\"Potrero Hill\",\"Presidio Heights\",\"Russian Hill\",\"Silver Terrace\",\"South Beach\",\"South of Market\",\"Sunnyside\",\"Telegraph Hill\",\"Twin Peaks\",\"Union Square District\",\"Van Ness/ Civic Center\",\"Visitacion Valley\",\"West Portal\",\"Western Addition\",\"Westwood Highlands\",\"Westwood Park\",\"Yerba Buena\"],\"title\":\"neighborhood\",\"value\":\"Alamo Square\",\"width\":250},\"id\":\"2605\",\"type\":\"Select\"},{\"attributes\":{\"children\":[{\"id\":\"2531\"},{\"id\":\"2535\"},{\"id\":\"2601\"},{\"id\":\"2602\"}],\"margin\":[0,0,0,0],\"name\":\"Row48482\",\"tags\":[\"embedded\"]},\"id\":\"2530\",\"type\":\"Row\"},{\"attributes\":{\"fill_alpha\":{\"value\":0.1},\"fill_color\":{\"field\":\"Variable\",\"transform\":{\"id\":\"2564\"}},\"line_alpha\":{\"value\":0.1},\"top\":{\"field\":\"value\"},\"width\":{\"value\":0.8},\"x\":{\"field\":\"xoffsets\"}},\"id\":\"2569\",\"type\":\"VBar\"},{\"attributes\":{\"factors\":[\"sale_price_sqr_foot\",\"gross_rent\"],\"palette\":[\"#30a2da\",\"#fc4f30\"]},\"id\":\"2564\",\"type\":\"CategoricalColorMapper\"},{\"attributes\":{\"below\":[{\"id\":\"2544\"}],\"center\":[{\"id\":\"2546\"},{\"id\":\"2550\"}],\"left\":[{\"id\":\"2547\"}],\"margin\":[5,5,5,5],\"min_border_bottom\":10,\"min_border_left\":10,\"min_border_right\":10,\"min_border_top\":10,\"plot_height\":500,\"plot_width\":700,\"renderers\":[{\"id\":\"2571\"}],\"sizing_mode\":\"fixed\",\"title\":{\"id\":\"2536\"},\"toolbar\":{\"id\":\"2557\"},\"x_range\":{\"id\":\"2532\"},\"x_scale\":{\"id\":\"2540\"},\"y_range\":{\"id\":\"2533\"},\"y_scale\":{\"id\":\"2542\"}},\"id\":\"2535\",\"subtype\":\"Figure\",\"type\":\"Plot\"},{\"attributes\":{},\"id\":\"2551\",\"type\":\"SaveTool\"},{\"attributes\":{},\"id\":\"2552\",\"type\":\"PanTool\"},{\"attributes\":{},\"id\":\"2555\",\"type\":\"ResetTool\"},{\"attributes\":{\"margin\":[5,5,5,5],\"name\":\"HSpacer48493\",\"sizing_mode\":\"stretch_width\"},\"id\":\"2531\",\"type\":\"Spacer\"},{\"attributes\":{},\"id\":\"2553\",\"type\":\"WheelZoomTool\"},{\"attributes\":{\"overlay\":{\"id\":\"2556\"}},\"id\":\"2554\",\"type\":\"BoxZoomTool\"},{\"attributes\":{},\"id\":\"2575\",\"type\":\"BasicTickFormatter\"},{\"attributes\":{\"code\":\"\\nvar state = null\\nfor (var root of cb_obj.document.roots()) {\\n  if (root.id == '2615') {\\n    state = root;\\n    break;\\n  }\\n}\\nif (!state) { return; }\\nstate.set_state(cb_obj, cb_obj.value)\\n\"},\"id\":\"2616\",\"type\":\"CustomJS\"},{\"attributes\":{},\"id\":\"2540\",\"type\":\"CategoricalScale\"},{\"attributes\":{},\"id\":\"2573\",\"type\":\"CategoricalTickFormatter\"},{\"attributes\":{\"data\":{\"Variable\":[\"sale_price_sqr_foot\",\"sale_price_sqr_foot\",\"sale_price_sqr_foot\",\"sale_price_sqr_foot\",\"sale_price_sqr_foot\",\"sale_price_sqr_foot\",\"sale_price_sqr_foot\",\"gross_rent\",\"gross_rent\",\"gross_rent\",\"gross_rent\",\"gross_rent\",\"gross_rent\",\"gross_rent\"],\"value\":{\"__ndarray__\":\"Dkc7WO0yckCafszcbwhxQIGRs5ot42ZAJzog0LQ8eEAWMinKGEd+QI0V5FDt0IJAVCHcmLVPdUAAAAAAAFyTQAAAAAAA6JdAAAAAAAAookAAAAAAADanQAAAAAAAkKtAAAAAAAA2rUAAAAAAACaxQA==\",\"dtype\":\"float64\",\"order\":\"little\",\"shape\":[14]},\"xoffsets\":[[\"2010\",\"sale_price_sqr_foot\"],[\"2011\",\"sale_price_sqr_foot\"],[\"2012\",\"sale_price_sqr_foot\"],[\"2013\",\"sale_price_sqr_foot\"],[\"2014\",\"sale_price_sqr_foot\"],[\"2015\",\"sale_price_sqr_foot\"],[\"2016\",\"sale_price_sqr_foot\"],[\"2010\",\"gross_rent\"],[\"2011\",\"gross_rent\"],[\"2012\",\"gross_rent\"],[\"2013\",\"gross_rent\"],[\"2014\",\"gross_rent\"],[\"2015\",\"gross_rent\"],[\"2016\",\"gross_rent\"]],\"year\":[\"2010\",\"2011\",\"2012\",\"2013\",\"2014\",\"2015\",\"2016\",\"2010\",\"2011\",\"2012\",\"2013\",\"2014\",\"2015\",\"2016\"]},\"selected\":{\"id\":\"2566\"},\"selection_policy\":{\"id\":\"2592\"}},\"id\":\"2565\",\"type\":\"ColumnDataSource\"},{\"attributes\":{},\"id\":\"2592\",\"type\":\"UnionRenderers\"},{\"attributes\":{\"axis\":{\"id\":\"2544\"},\"grid_line_color\":null,\"ticker\":null},\"id\":\"2546\",\"type\":\"Grid\"},{\"attributes\":{\"fill_alpha\":{\"value\":0.2},\"fill_color\":{\"field\":\"Variable\",\"transform\":{\"id\":\"2564\"}},\"line_alpha\":{\"value\":0.2},\"top\":{\"field\":\"value\"},\"width\":{\"value\":0.8},\"x\":{\"field\":\"xoffsets\"}},\"id\":\"2570\",\"type\":\"VBar\"},{\"attributes\":{},\"id\":\"2545\",\"type\":\"CategoricalTicker\"},{\"attributes\":{},\"id\":\"2542\",\"type\":\"LinearScale\"},{\"attributes\":{\"axis_label\":\"year, Variable\",\"bounds\":\"auto\",\"formatter\":{\"id\":\"2573\"},\"major_label_orientation\":1.5707963267948966,\"ticker\":{\"id\":\"2545\"}},\"id\":\"2544\",\"type\":\"CategoricalAxis\"},{\"attributes\":{\"children\":[{\"id\":\"2605\"}],\"css_classes\":[\"panel-widget-box\"],\"margin\":[5,5,5,5],\"name\":\"WidgetBox48483\"},\"id\":\"2604\",\"type\":\"Column\"},{\"attributes\":{\"margin\":[5,5,5,5],\"name\":\"VSpacer48491\",\"sizing_mode\":\"stretch_height\"},\"id\":\"2606\",\"type\":\"Spacer\"},{\"attributes\":{\"end\":4810.690068306854,\"reset_end\":4810.690068306854,\"reset_start\":0.0,\"tags\":[[[\"value\",\"value\",null]]]},\"id\":\"2533\",\"type\":\"Range1d\"},{\"attributes\":{\"factors\":[[\"2010\",\"gross_rent\"],[\"2010\",\"sale_price_sqr_foot\"],[\"2011\",\"gross_rent\"],[\"2011\",\"sale_price_sqr_foot\"],[\"2012\",\"gross_rent\"],[\"2012\",\"sale_price_sqr_foot\"],[\"2013\",\"gross_rent\"],[\"2013\",\"sale_price_sqr_foot\"],[\"2014\",\"gross_rent\"],[\"2014\",\"sale_price_sqr_foot\"],[\"2015\",\"gross_rent\"],[\"2015\",\"sale_price_sqr_foot\"],[\"2016\",\"gross_rent\"],[\"2016\",\"sale_price_sqr_foot\"]],\"tags\":[[[\"year\",\"year\",null],[\"Variable\",\"Variable\",null]]]},\"id\":\"2532\",\"type\":\"FactorRange\"}],\"root_ids\":[\"2530\",\"2615\"]},\"title\":\"Bokeh Application\",\"version\":\"2.2.3\"}};\n    var render_items = [{\"docid\":\"c857bccd-e12d-412c-80d0-b68444b4d1ce\",\"root_ids\":[\"2530\"],\"roots\":{\"2530\":\"6664141b-f8a6-44d1-b5f8-0c62aba1e379\"}}];\n    root.Bokeh.embed.embed_items_notebook(docs_json, render_items);\n  }\n  if (root.Bokeh !== undefined && root.Bokeh.Panel !== undefined && root['Plotly'] !== undefined ) {\n    embed_document(root);\n  } else {\n    var attempts = 0;\n    var timer = setInterval(function(root) {\n      if (root.Bokeh !== undefined && root.Bokeh.Panel !== undefined && root['Plotly'] !== undefined) {\n        clearInterval(timer);\n        embed_document(root);\n      } else if (document.readyState == \"complete\") {\n        attempts++;\n        if (attempts > 100) {\n          clearInterval(timer);\n          console.log(\"Bokeh: ERROR: Unable to run BokehJS code because BokehJS library is missing\");\n        }\n      }\n    }, 10, root)\n  }\n})(window);</script>",
      "application/vnd.holoviews_exec.v0+json": "",
      "text/plain": [
       ":HoloMap   [neighborhood]\n",
       "   :Bars   [year,Variable]   (value)"
      ]
     },
     "metadata": {
      "application/vnd.holoviews_exec.v0+json": {
       "id": "2530"
      }
     },
     "execution_count": 21
    }
   ],
   "source": [
    "most_expensive_neighborhoods_rent_sales()"
   ]
  },
  {
   "cell_type": "code",
   "execution_count": 22,
   "metadata": {},
   "outputs": [
    {
     "output_type": "display_data",
     "data": {
      "application/vnd.plotly.v1+json": {
       "config": {
        "plotlyServerURL": "https://plot.ly"
       },
       "data": [
        {
         "dimensions": [
          {
           "label": "sale_price_sqr_foot",
           "values": [
            903.9932576720645,
            788.8448175872469,
            779.810842264425,
            689.5558168113664,
            687.0875745178323,
            676.5065775293257,
            675.3502120510033,
            665.964041578323,
            662.0136128276529,
            650.1244791945729
           ]
          },
          {
           "label": "housing_units",
           "values": [
            377427.5,
            380348,
            375967.25,
            378401,
            382295,
            378401,
            378401,
            378401,
            378401,
            375805
           ]
          },
          {
           "label": "gross_rent",
           "values": [
            2555.1666666666665,
            3414,
            2155.25,
            2817.285714285714,
            3959,
            2817.285714285714,
            2817.285714285714,
            2817.285714285714,
            2817.285714285714,
            2099
           ]
          }
         ],
         "domain": {
          "x": [
           0,
           1
          ],
          "y": [
           0,
           1
          ]
         },
         "line": {
          "color": [
           903.9932576720645,
           788.8448175872469,
           779.810842264425,
           689.5558168113664,
           687.0875745178323,
           676.5065775293257,
           675.3502120510033,
           665.964041578323,
           662.0136128276529,
           650.1244791945729
          ],
          "coloraxis": "coloraxis"
         },
         "name": "",
         "type": "parcoords"
        }
       ],
       "layout": {
        "coloraxis": {
         "colorbar": {
          "title": {
           "text": "sale_price_sqr_foot"
          }
         },
         "colorscale": [
          [
           0,
           "#000004"
          ],
          [
           0.1111111111111111,
           "#1b0c41"
          ],
          [
           0.2222222222222222,
           "#4a0c6b"
          ],
          [
           0.3333333333333333,
           "#781c6d"
          ],
          [
           0.4444444444444444,
           "#a52c60"
          ],
          [
           0.5555555555555556,
           "#cf4446"
          ],
          [
           0.6666666666666666,
           "#ed6925"
          ],
          [
           0.7777777777777778,
           "#fb9b06"
          ],
          [
           0.8888888888888888,
           "#f7d13d"
          ],
          [
           1,
           "#fcffa4"
          ]
         ]
        },
        "legend": {
         "tracegroupgap": 0
        },
        "margin": {
         "t": 60
        },
        "template": {
         "data": {
          "bar": [
           {
            "error_x": {
             "color": "#2a3f5f"
            },
            "error_y": {
             "color": "#2a3f5f"
            },
            "marker": {
             "line": {
              "color": "#E5ECF6",
              "width": 0.5
             }
            },
            "type": "bar"
           }
          ],
          "barpolar": [
           {
            "marker": {
             "line": {
              "color": "#E5ECF6",
              "width": 0.5
             }
            },
            "type": "barpolar"
           }
          ],
          "carpet": [
           {
            "aaxis": {
             "endlinecolor": "#2a3f5f",
             "gridcolor": "white",
             "linecolor": "white",
             "minorgridcolor": "white",
             "startlinecolor": "#2a3f5f"
            },
            "baxis": {
             "endlinecolor": "#2a3f5f",
             "gridcolor": "white",
             "linecolor": "white",
             "minorgridcolor": "white",
             "startlinecolor": "#2a3f5f"
            },
            "type": "carpet"
           }
          ],
          "choropleth": [
           {
            "colorbar": {
             "outlinewidth": 0,
             "ticks": ""
            },
            "type": "choropleth"
           }
          ],
          "contour": [
           {
            "colorbar": {
             "outlinewidth": 0,
             "ticks": ""
            },
            "colorscale": [
             [
              0,
              "#0d0887"
             ],
             [
              0.1111111111111111,
              "#46039f"
             ],
             [
              0.2222222222222222,
              "#7201a8"
             ],
             [
              0.3333333333333333,
              "#9c179e"
             ],
             [
              0.4444444444444444,
              "#bd3786"
             ],
             [
              0.5555555555555556,
              "#d8576b"
             ],
             [
              0.6666666666666666,
              "#ed7953"
             ],
             [
              0.7777777777777778,
              "#fb9f3a"
             ],
             [
              0.8888888888888888,
              "#fdca26"
             ],
             [
              1,
              "#f0f921"
             ]
            ],
            "type": "contour"
           }
          ],
          "contourcarpet": [
           {
            "colorbar": {
             "outlinewidth": 0,
             "ticks": ""
            },
            "type": "contourcarpet"
           }
          ],
          "heatmap": [
           {
            "colorbar": {
             "outlinewidth": 0,
             "ticks": ""
            },
            "colorscale": [
             [
              0,
              "#0d0887"
             ],
             [
              0.1111111111111111,
              "#46039f"
             ],
             [
              0.2222222222222222,
              "#7201a8"
             ],
             [
              0.3333333333333333,
              "#9c179e"
             ],
             [
              0.4444444444444444,
              "#bd3786"
             ],
             [
              0.5555555555555556,
              "#d8576b"
             ],
             [
              0.6666666666666666,
              "#ed7953"
             ],
             [
              0.7777777777777778,
              "#fb9f3a"
             ],
             [
              0.8888888888888888,
              "#fdca26"
             ],
             [
              1,
              "#f0f921"
             ]
            ],
            "type": "heatmap"
           }
          ],
          "heatmapgl": [
           {
            "colorbar": {
             "outlinewidth": 0,
             "ticks": ""
            },
            "colorscale": [
             [
              0,
              "#0d0887"
             ],
             [
              0.1111111111111111,
              "#46039f"
             ],
             [
              0.2222222222222222,
              "#7201a8"
             ],
             [
              0.3333333333333333,
              "#9c179e"
             ],
             [
              0.4444444444444444,
              "#bd3786"
             ],
             [
              0.5555555555555556,
              "#d8576b"
             ],
             [
              0.6666666666666666,
              "#ed7953"
             ],
             [
              0.7777777777777778,
              "#fb9f3a"
             ],
             [
              0.8888888888888888,
              "#fdca26"
             ],
             [
              1,
              "#f0f921"
             ]
            ],
            "type": "heatmapgl"
           }
          ],
          "histogram": [
           {
            "marker": {
             "colorbar": {
              "outlinewidth": 0,
              "ticks": ""
             }
            },
            "type": "histogram"
           }
          ],
          "histogram2d": [
           {
            "colorbar": {
             "outlinewidth": 0,
             "ticks": ""
            },
            "colorscale": [
             [
              0,
              "#0d0887"
             ],
             [
              0.1111111111111111,
              "#46039f"
             ],
             [
              0.2222222222222222,
              "#7201a8"
             ],
             [
              0.3333333333333333,
              "#9c179e"
             ],
             [
              0.4444444444444444,
              "#bd3786"
             ],
             [
              0.5555555555555556,
              "#d8576b"
             ],
             [
              0.6666666666666666,
              "#ed7953"
             ],
             [
              0.7777777777777778,
              "#fb9f3a"
             ],
             [
              0.8888888888888888,
              "#fdca26"
             ],
             [
              1,
              "#f0f921"
             ]
            ],
            "type": "histogram2d"
           }
          ],
          "histogram2dcontour": [
           {
            "colorbar": {
             "outlinewidth": 0,
             "ticks": ""
            },
            "colorscale": [
             [
              0,
              "#0d0887"
             ],
             [
              0.1111111111111111,
              "#46039f"
             ],
             [
              0.2222222222222222,
              "#7201a8"
             ],
             [
              0.3333333333333333,
              "#9c179e"
             ],
             [
              0.4444444444444444,
              "#bd3786"
             ],
             [
              0.5555555555555556,
              "#d8576b"
             ],
             [
              0.6666666666666666,
              "#ed7953"
             ],
             [
              0.7777777777777778,
              "#fb9f3a"
             ],
             [
              0.8888888888888888,
              "#fdca26"
             ],
             [
              1,
              "#f0f921"
             ]
            ],
            "type": "histogram2dcontour"
           }
          ],
          "mesh3d": [
           {
            "colorbar": {
             "outlinewidth": 0,
             "ticks": ""
            },
            "type": "mesh3d"
           }
          ],
          "parcoords": [
           {
            "line": {
             "colorbar": {
              "outlinewidth": 0,
              "ticks": ""
             }
            },
            "type": "parcoords"
           }
          ],
          "pie": [
           {
            "automargin": true,
            "type": "pie"
           }
          ],
          "scatter": [
           {
            "marker": {
             "colorbar": {
              "outlinewidth": 0,
              "ticks": ""
             }
            },
            "type": "scatter"
           }
          ],
          "scatter3d": [
           {
            "line": {
             "colorbar": {
              "outlinewidth": 0,
              "ticks": ""
             }
            },
            "marker": {
             "colorbar": {
              "outlinewidth": 0,
              "ticks": ""
             }
            },
            "type": "scatter3d"
           }
          ],
          "scattercarpet": [
           {
            "marker": {
             "colorbar": {
              "outlinewidth": 0,
              "ticks": ""
             }
            },
            "type": "scattercarpet"
           }
          ],
          "scattergeo": [
           {
            "marker": {
             "colorbar": {
              "outlinewidth": 0,
              "ticks": ""
             }
            },
            "type": "scattergeo"
           }
          ],
          "scattergl": [
           {
            "marker": {
             "colorbar": {
              "outlinewidth": 0,
              "ticks": ""
             }
            },
            "type": "scattergl"
           }
          ],
          "scattermapbox": [
           {
            "marker": {
             "colorbar": {
              "outlinewidth": 0,
              "ticks": ""
             }
            },
            "type": "scattermapbox"
           }
          ],
          "scatterpolar": [
           {
            "marker": {
             "colorbar": {
              "outlinewidth": 0,
              "ticks": ""
             }
            },
            "type": "scatterpolar"
           }
          ],
          "scatterpolargl": [
           {
            "marker": {
             "colorbar": {
              "outlinewidth": 0,
              "ticks": ""
             }
            },
            "type": "scatterpolargl"
           }
          ],
          "scatterternary": [
           {
            "marker": {
             "colorbar": {
              "outlinewidth": 0,
              "ticks": ""
             }
            },
            "type": "scatterternary"
           }
          ],
          "surface": [
           {
            "colorbar": {
             "outlinewidth": 0,
             "ticks": ""
            },
            "colorscale": [
             [
              0,
              "#0d0887"
             ],
             [
              0.1111111111111111,
              "#46039f"
             ],
             [
              0.2222222222222222,
              "#7201a8"
             ],
             [
              0.3333333333333333,
              "#9c179e"
             ],
             [
              0.4444444444444444,
              "#bd3786"
             ],
             [
              0.5555555555555556,
              "#d8576b"
             ],
             [
              0.6666666666666666,
              "#ed7953"
             ],
             [
              0.7777777777777778,
              "#fb9f3a"
             ],
             [
              0.8888888888888888,
              "#fdca26"
             ],
             [
              1,
              "#f0f921"
             ]
            ],
            "type": "surface"
           }
          ],
          "table": [
           {
            "cells": {
             "fill": {
              "color": "#EBF0F8"
             },
             "line": {
              "color": "white"
             }
            },
            "header": {
             "fill": {
              "color": "#C8D4E3"
             },
             "line": {
              "color": "white"
             }
            },
            "type": "table"
           }
          ]
         },
         "layout": {
          "annotationdefaults": {
           "arrowcolor": "#2a3f5f",
           "arrowhead": 0,
           "arrowwidth": 1
          },
          "autotypenumbers": "strict",
          "coloraxis": {
           "colorbar": {
            "outlinewidth": 0,
            "ticks": ""
           }
          },
          "colorscale": {
           "diverging": [
            [
             0,
             "#8e0152"
            ],
            [
             0.1,
             "#c51b7d"
            ],
            [
             0.2,
             "#de77ae"
            ],
            [
             0.3,
             "#f1b6da"
            ],
            [
             0.4,
             "#fde0ef"
            ],
            [
             0.5,
             "#f7f7f7"
            ],
            [
             0.6,
             "#e6f5d0"
            ],
            [
             0.7,
             "#b8e186"
            ],
            [
             0.8,
             "#7fbc41"
            ],
            [
             0.9,
             "#4d9221"
            ],
            [
             1,
             "#276419"
            ]
           ],
           "sequential": [
            [
             0,
             "#0d0887"
            ],
            [
             0.1111111111111111,
             "#46039f"
            ],
            [
             0.2222222222222222,
             "#7201a8"
            ],
            [
             0.3333333333333333,
             "#9c179e"
            ],
            [
             0.4444444444444444,
             "#bd3786"
            ],
            [
             0.5555555555555556,
             "#d8576b"
            ],
            [
             0.6666666666666666,
             "#ed7953"
            ],
            [
             0.7777777777777778,
             "#fb9f3a"
            ],
            [
             0.8888888888888888,
             "#fdca26"
            ],
            [
             1,
             "#f0f921"
            ]
           ],
           "sequentialminus": [
            [
             0,
             "#0d0887"
            ],
            [
             0.1111111111111111,
             "#46039f"
            ],
            [
             0.2222222222222222,
             "#7201a8"
            ],
            [
             0.3333333333333333,
             "#9c179e"
            ],
            [
             0.4444444444444444,
             "#bd3786"
            ],
            [
             0.5555555555555556,
             "#d8576b"
            ],
            [
             0.6666666666666666,
             "#ed7953"
            ],
            [
             0.7777777777777778,
             "#fb9f3a"
            ],
            [
             0.8888888888888888,
             "#fdca26"
            ],
            [
             1,
             "#f0f921"
            ]
           ]
          },
          "colorway": [
           "#636efa",
           "#EF553B",
           "#00cc96",
           "#ab63fa",
           "#FFA15A",
           "#19d3f3",
           "#FF6692",
           "#B6E880",
           "#FF97FF",
           "#FECB52"
          ],
          "font": {
           "color": "#2a3f5f"
          },
          "geo": {
           "bgcolor": "white",
           "lakecolor": "white",
           "landcolor": "#E5ECF6",
           "showlakes": true,
           "showland": true,
           "subunitcolor": "white"
          },
          "hoverlabel": {
           "align": "left"
          },
          "hovermode": "closest",
          "mapbox": {
           "style": "light"
          },
          "paper_bgcolor": "white",
          "plot_bgcolor": "#E5ECF6",
          "polar": {
           "angularaxis": {
            "gridcolor": "white",
            "linecolor": "white",
            "ticks": ""
           },
           "bgcolor": "#E5ECF6",
           "radialaxis": {
            "gridcolor": "white",
            "linecolor": "white",
            "ticks": ""
           }
          },
          "scene": {
           "xaxis": {
            "backgroundcolor": "#E5ECF6",
            "gridcolor": "white",
            "gridwidth": 2,
            "linecolor": "white",
            "showbackground": true,
            "ticks": "",
            "zerolinecolor": "white"
           },
           "yaxis": {
            "backgroundcolor": "#E5ECF6",
            "gridcolor": "white",
            "gridwidth": 2,
            "linecolor": "white",
            "showbackground": true,
            "ticks": "",
            "zerolinecolor": "white"
           },
           "zaxis": {
            "backgroundcolor": "#E5ECF6",
            "gridcolor": "white",
            "gridwidth": 2,
            "linecolor": "white",
            "showbackground": true,
            "ticks": "",
            "zerolinecolor": "white"
           }
          },
          "shapedefaults": {
           "line": {
            "color": "#2a3f5f"
           }
          },
          "ternary": {
           "aaxis": {
            "gridcolor": "white",
            "linecolor": "white",
            "ticks": ""
           },
           "baxis": {
            "gridcolor": "white",
            "linecolor": "white",
            "ticks": ""
           },
           "bgcolor": "#E5ECF6",
           "caxis": {
            "gridcolor": "white",
            "linecolor": "white",
            "ticks": ""
           }
          },
          "title": {
           "x": 0.05
          },
          "xaxis": {
           "automargin": true,
           "gridcolor": "white",
           "linecolor": "white",
           "ticks": "",
           "title": {
            "standoff": 15
           },
           "zerolinecolor": "white",
           "zerolinewidth": 2
          },
          "yaxis": {
           "automargin": true,
           "gridcolor": "white",
           "linecolor": "white",
           "ticks": "",
           "title": {
            "standoff": 15
           },
           "zerolinecolor": "white",
           "zerolinewidth": 2
          }
         }
        }
       }
      }
     },
     "metadata": {}
    }
   ],
   "source": [
    "neighborhood_map().show()"
   ]
  },
  {
   "cell_type": "code",
   "execution_count": 23,
   "metadata": {},
   "outputs": [
    {
     "output_type": "display_data",
     "data": {
      "application/vnd.plotly.v1+json": {
       "config": {
        "plotlyServerURL": "https://plot.ly"
       },
       "data": [
        {
         "dimensions": [
          {
           "label": "neighborhood",
           "values": [
            "Union Square District",
            "Merced Heights",
            "Miraloma Park",
            "Pacific Heights",
            "Westwood Park",
            "Telegraph Hill",
            "Presidio Heights",
            "Cow Hollow",
            "Potrero Hill",
            "South Beach"
           ]
          },
          {
           "label": "sale_price_sqr_foot",
           "values": [
            903.9932576720645,
            788.8448175872469,
            779.810842264425,
            689.5558168113664,
            687.0875745178323,
            676.5065775293257,
            675.3502120510033,
            665.964041578323,
            662.0136128276529,
            650.1244791945729
           ]
          },
          {
           "label": "housing_units",
           "values": [
            377427.5,
            380348,
            375967.25,
            378401,
            382295,
            378401,
            378401,
            378401,
            378401,
            375805
           ]
          },
          {
           "label": "gross_rent",
           "values": [
            2555.1666666666665,
            3414,
            2155.25,
            2817.285714285714,
            3959,
            2817.285714285714,
            2817.285714285714,
            2817.285714285714,
            2817.285714285714,
            2099
           ]
          }
         ],
         "domain": {
          "x": [
           0,
           1
          ],
          "y": [
           0,
           1
          ]
         },
         "line": {
          "color": [
           903.9932576720645,
           788.8448175872469,
           779.810842264425,
           689.5558168113664,
           687.0875745178323,
           676.5065775293257,
           675.3502120510033,
           665.964041578323,
           662.0136128276529,
           650.1244791945729
          ],
          "coloraxis": "coloraxis"
         },
         "name": "",
         "type": "parcats"
        }
       ],
       "layout": {
        "coloraxis": {
         "colorbar": {
          "title": {
           "text": "sale_price_sqr_foot"
          }
         },
         "colorscale": [
          [
           0,
           "#000004"
          ],
          [
           0.1111111111111111,
           "#1b0c41"
          ],
          [
           0.2222222222222222,
           "#4a0c6b"
          ],
          [
           0.3333333333333333,
           "#781c6d"
          ],
          [
           0.4444444444444444,
           "#a52c60"
          ],
          [
           0.5555555555555556,
           "#cf4446"
          ],
          [
           0.6666666666666666,
           "#ed6925"
          ],
          [
           0.7777777777777778,
           "#fb9b06"
          ],
          [
           0.8888888888888888,
           "#f7d13d"
          ],
          [
           1,
           "#fcffa4"
          ]
         ]
        },
        "legend": {
         "tracegroupgap": 0
        },
        "margin": {
         "t": 60
        },
        "template": {
         "data": {
          "bar": [
           {
            "error_x": {
             "color": "#2a3f5f"
            },
            "error_y": {
             "color": "#2a3f5f"
            },
            "marker": {
             "line": {
              "color": "#E5ECF6",
              "width": 0.5
             }
            },
            "type": "bar"
           }
          ],
          "barpolar": [
           {
            "marker": {
             "line": {
              "color": "#E5ECF6",
              "width": 0.5
             }
            },
            "type": "barpolar"
           }
          ],
          "carpet": [
           {
            "aaxis": {
             "endlinecolor": "#2a3f5f",
             "gridcolor": "white",
             "linecolor": "white",
             "minorgridcolor": "white",
             "startlinecolor": "#2a3f5f"
            },
            "baxis": {
             "endlinecolor": "#2a3f5f",
             "gridcolor": "white",
             "linecolor": "white",
             "minorgridcolor": "white",
             "startlinecolor": "#2a3f5f"
            },
            "type": "carpet"
           }
          ],
          "choropleth": [
           {
            "colorbar": {
             "outlinewidth": 0,
             "ticks": ""
            },
            "type": "choropleth"
           }
          ],
          "contour": [
           {
            "colorbar": {
             "outlinewidth": 0,
             "ticks": ""
            },
            "colorscale": [
             [
              0,
              "#0d0887"
             ],
             [
              0.1111111111111111,
              "#46039f"
             ],
             [
              0.2222222222222222,
              "#7201a8"
             ],
             [
              0.3333333333333333,
              "#9c179e"
             ],
             [
              0.4444444444444444,
              "#bd3786"
             ],
             [
              0.5555555555555556,
              "#d8576b"
             ],
             [
              0.6666666666666666,
              "#ed7953"
             ],
             [
              0.7777777777777778,
              "#fb9f3a"
             ],
             [
              0.8888888888888888,
              "#fdca26"
             ],
             [
              1,
              "#f0f921"
             ]
            ],
            "type": "contour"
           }
          ],
          "contourcarpet": [
           {
            "colorbar": {
             "outlinewidth": 0,
             "ticks": ""
            },
            "type": "contourcarpet"
           }
          ],
          "heatmap": [
           {
            "colorbar": {
             "outlinewidth": 0,
             "ticks": ""
            },
            "colorscale": [
             [
              0,
              "#0d0887"
             ],
             [
              0.1111111111111111,
              "#46039f"
             ],
             [
              0.2222222222222222,
              "#7201a8"
             ],
             [
              0.3333333333333333,
              "#9c179e"
             ],
             [
              0.4444444444444444,
              "#bd3786"
             ],
             [
              0.5555555555555556,
              "#d8576b"
             ],
             [
              0.6666666666666666,
              "#ed7953"
             ],
             [
              0.7777777777777778,
              "#fb9f3a"
             ],
             [
              0.8888888888888888,
              "#fdca26"
             ],
             [
              1,
              "#f0f921"
             ]
            ],
            "type": "heatmap"
           }
          ],
          "heatmapgl": [
           {
            "colorbar": {
             "outlinewidth": 0,
             "ticks": ""
            },
            "colorscale": [
             [
              0,
              "#0d0887"
             ],
             [
              0.1111111111111111,
              "#46039f"
             ],
             [
              0.2222222222222222,
              "#7201a8"
             ],
             [
              0.3333333333333333,
              "#9c179e"
             ],
             [
              0.4444444444444444,
              "#bd3786"
             ],
             [
              0.5555555555555556,
              "#d8576b"
             ],
             [
              0.6666666666666666,
              "#ed7953"
             ],
             [
              0.7777777777777778,
              "#fb9f3a"
             ],
             [
              0.8888888888888888,
              "#fdca26"
             ],
             [
              1,
              "#f0f921"
             ]
            ],
            "type": "heatmapgl"
           }
          ],
          "histogram": [
           {
            "marker": {
             "colorbar": {
              "outlinewidth": 0,
              "ticks": ""
             }
            },
            "type": "histogram"
           }
          ],
          "histogram2d": [
           {
            "colorbar": {
             "outlinewidth": 0,
             "ticks": ""
            },
            "colorscale": [
             [
              0,
              "#0d0887"
             ],
             [
              0.1111111111111111,
              "#46039f"
             ],
             [
              0.2222222222222222,
              "#7201a8"
             ],
             [
              0.3333333333333333,
              "#9c179e"
             ],
             [
              0.4444444444444444,
              "#bd3786"
             ],
             [
              0.5555555555555556,
              "#d8576b"
             ],
             [
              0.6666666666666666,
              "#ed7953"
             ],
             [
              0.7777777777777778,
              "#fb9f3a"
             ],
             [
              0.8888888888888888,
              "#fdca26"
             ],
             [
              1,
              "#f0f921"
             ]
            ],
            "type": "histogram2d"
           }
          ],
          "histogram2dcontour": [
           {
            "colorbar": {
             "outlinewidth": 0,
             "ticks": ""
            },
            "colorscale": [
             [
              0,
              "#0d0887"
             ],
             [
              0.1111111111111111,
              "#46039f"
             ],
             [
              0.2222222222222222,
              "#7201a8"
             ],
             [
              0.3333333333333333,
              "#9c179e"
             ],
             [
              0.4444444444444444,
              "#bd3786"
             ],
             [
              0.5555555555555556,
              "#d8576b"
             ],
             [
              0.6666666666666666,
              "#ed7953"
             ],
             [
              0.7777777777777778,
              "#fb9f3a"
             ],
             [
              0.8888888888888888,
              "#fdca26"
             ],
             [
              1,
              "#f0f921"
             ]
            ],
            "type": "histogram2dcontour"
           }
          ],
          "mesh3d": [
           {
            "colorbar": {
             "outlinewidth": 0,
             "ticks": ""
            },
            "type": "mesh3d"
           }
          ],
          "parcoords": [
           {
            "line": {
             "colorbar": {
              "outlinewidth": 0,
              "ticks": ""
             }
            },
            "type": "parcoords"
           }
          ],
          "pie": [
           {
            "automargin": true,
            "type": "pie"
           }
          ],
          "scatter": [
           {
            "marker": {
             "colorbar": {
              "outlinewidth": 0,
              "ticks": ""
             }
            },
            "type": "scatter"
           }
          ],
          "scatter3d": [
           {
            "line": {
             "colorbar": {
              "outlinewidth": 0,
              "ticks": ""
             }
            },
            "marker": {
             "colorbar": {
              "outlinewidth": 0,
              "ticks": ""
             }
            },
            "type": "scatter3d"
           }
          ],
          "scattercarpet": [
           {
            "marker": {
             "colorbar": {
              "outlinewidth": 0,
              "ticks": ""
             }
            },
            "type": "scattercarpet"
           }
          ],
          "scattergeo": [
           {
            "marker": {
             "colorbar": {
              "outlinewidth": 0,
              "ticks": ""
             }
            },
            "type": "scattergeo"
           }
          ],
          "scattergl": [
           {
            "marker": {
             "colorbar": {
              "outlinewidth": 0,
              "ticks": ""
             }
            },
            "type": "scattergl"
           }
          ],
          "scattermapbox": [
           {
            "marker": {
             "colorbar": {
              "outlinewidth": 0,
              "ticks": ""
             }
            },
            "type": "scattermapbox"
           }
          ],
          "scatterpolar": [
           {
            "marker": {
             "colorbar": {
              "outlinewidth": 0,
              "ticks": ""
             }
            },
            "type": "scatterpolar"
           }
          ],
          "scatterpolargl": [
           {
            "marker": {
             "colorbar": {
              "outlinewidth": 0,
              "ticks": ""
             }
            },
            "type": "scatterpolargl"
           }
          ],
          "scatterternary": [
           {
            "marker": {
             "colorbar": {
              "outlinewidth": 0,
              "ticks": ""
             }
            },
            "type": "scatterternary"
           }
          ],
          "surface": [
           {
            "colorbar": {
             "outlinewidth": 0,
             "ticks": ""
            },
            "colorscale": [
             [
              0,
              "#0d0887"
             ],
             [
              0.1111111111111111,
              "#46039f"
             ],
             [
              0.2222222222222222,
              "#7201a8"
             ],
             [
              0.3333333333333333,
              "#9c179e"
             ],
             [
              0.4444444444444444,
              "#bd3786"
             ],
             [
              0.5555555555555556,
              "#d8576b"
             ],
             [
              0.6666666666666666,
              "#ed7953"
             ],
             [
              0.7777777777777778,
              "#fb9f3a"
             ],
             [
              0.8888888888888888,
              "#fdca26"
             ],
             [
              1,
              "#f0f921"
             ]
            ],
            "type": "surface"
           }
          ],
          "table": [
           {
            "cells": {
             "fill": {
              "color": "#EBF0F8"
             },
             "line": {
              "color": "white"
             }
            },
            "header": {
             "fill": {
              "color": "#C8D4E3"
             },
             "line": {
              "color": "white"
             }
            },
            "type": "table"
           }
          ]
         },
         "layout": {
          "annotationdefaults": {
           "arrowcolor": "#2a3f5f",
           "arrowhead": 0,
           "arrowwidth": 1
          },
          "autotypenumbers": "strict",
          "coloraxis": {
           "colorbar": {
            "outlinewidth": 0,
            "ticks": ""
           }
          },
          "colorscale": {
           "diverging": [
            [
             0,
             "#8e0152"
            ],
            [
             0.1,
             "#c51b7d"
            ],
            [
             0.2,
             "#de77ae"
            ],
            [
             0.3,
             "#f1b6da"
            ],
            [
             0.4,
             "#fde0ef"
            ],
            [
             0.5,
             "#f7f7f7"
            ],
            [
             0.6,
             "#e6f5d0"
            ],
            [
             0.7,
             "#b8e186"
            ],
            [
             0.8,
             "#7fbc41"
            ],
            [
             0.9,
             "#4d9221"
            ],
            [
             1,
             "#276419"
            ]
           ],
           "sequential": [
            [
             0,
             "#0d0887"
            ],
            [
             0.1111111111111111,
             "#46039f"
            ],
            [
             0.2222222222222222,
             "#7201a8"
            ],
            [
             0.3333333333333333,
             "#9c179e"
            ],
            [
             0.4444444444444444,
             "#bd3786"
            ],
            [
             0.5555555555555556,
             "#d8576b"
            ],
            [
             0.6666666666666666,
             "#ed7953"
            ],
            [
             0.7777777777777778,
             "#fb9f3a"
            ],
            [
             0.8888888888888888,
             "#fdca26"
            ],
            [
             1,
             "#f0f921"
            ]
           ],
           "sequentialminus": [
            [
             0,
             "#0d0887"
            ],
            [
             0.1111111111111111,
             "#46039f"
            ],
            [
             0.2222222222222222,
             "#7201a8"
            ],
            [
             0.3333333333333333,
             "#9c179e"
            ],
            [
             0.4444444444444444,
             "#bd3786"
            ],
            [
             0.5555555555555556,
             "#d8576b"
            ],
            [
             0.6666666666666666,
             "#ed7953"
            ],
            [
             0.7777777777777778,
             "#fb9f3a"
            ],
            [
             0.8888888888888888,
             "#fdca26"
            ],
            [
             1,
             "#f0f921"
            ]
           ]
          },
          "colorway": [
           "#636efa",
           "#EF553B",
           "#00cc96",
           "#ab63fa",
           "#FFA15A",
           "#19d3f3",
           "#FF6692",
           "#B6E880",
           "#FF97FF",
           "#FECB52"
          ],
          "font": {
           "color": "#2a3f5f"
          },
          "geo": {
           "bgcolor": "white",
           "lakecolor": "white",
           "landcolor": "#E5ECF6",
           "showlakes": true,
           "showland": true,
           "subunitcolor": "white"
          },
          "hoverlabel": {
           "align": "left"
          },
          "hovermode": "closest",
          "mapbox": {
           "style": "light"
          },
          "paper_bgcolor": "white",
          "plot_bgcolor": "#E5ECF6",
          "polar": {
           "angularaxis": {
            "gridcolor": "white",
            "linecolor": "white",
            "ticks": ""
           },
           "bgcolor": "#E5ECF6",
           "radialaxis": {
            "gridcolor": "white",
            "linecolor": "white",
            "ticks": ""
           }
          },
          "scene": {
           "xaxis": {
            "backgroundcolor": "#E5ECF6",
            "gridcolor": "white",
            "gridwidth": 2,
            "linecolor": "white",
            "showbackground": true,
            "ticks": "",
            "zerolinecolor": "white"
           },
           "yaxis": {
            "backgroundcolor": "#E5ECF6",
            "gridcolor": "white",
            "gridwidth": 2,
            "linecolor": "white",
            "showbackground": true,
            "ticks": "",
            "zerolinecolor": "white"
           },
           "zaxis": {
            "backgroundcolor": "#E5ECF6",
            "gridcolor": "white",
            "gridwidth": 2,
            "linecolor": "white",
            "showbackground": true,
            "ticks": "",
            "zerolinecolor": "white"
           }
          },
          "shapedefaults": {
           "line": {
            "color": "#2a3f5f"
           }
          },
          "ternary": {
           "aaxis": {
            "gridcolor": "white",
            "linecolor": "white",
            "ticks": ""
           },
           "baxis": {
            "gridcolor": "white",
            "linecolor": "white",
            "ticks": ""
           },
           "bgcolor": "#E5ECF6",
           "caxis": {
            "gridcolor": "white",
            "linecolor": "white",
            "ticks": ""
           }
          },
          "title": {
           "x": 0.05
          },
          "xaxis": {
           "automargin": true,
           "gridcolor": "white",
           "linecolor": "white",
           "ticks": "",
           "title": {
            "standoff": 15
           },
           "zerolinecolor": "white",
           "zerolinewidth": 2
          },
          "yaxis": {
           "automargin": true,
           "gridcolor": "white",
           "linecolor": "white",
           "ticks": "",
           "title": {
            "standoff": 15
           },
           "zerolinecolor": "white",
           "zerolinewidth": 2
          }
         }
        }
       }
      }
     },
     "metadata": {}
    }
   ],
   "source": [
    "parallel_categories()"
   ]
  },
  {
   "cell_type": "code",
   "execution_count": 24,
   "metadata": {},
   "outputs": [
    {
     "output_type": "display_data",
     "data": {
      "application/vnd.plotly.v1+json": {
       "config": {
        "plotlyServerURL": "https://plot.ly"
       },
       "data": [
        {
         "hovertemplate": "<b>%{hovertext}</b><br><br>sale_price_sqr_foot=%{marker.size}<br>Lat=%{lat}<br>Lon=%{lon}<br>gross_rent=%{marker.color}<extra></extra>",
         "hovertext": [
          "Alamo Square",
          "Anza Vista",
          "Bayview",
          "Bayview Heights",
          "Bernal Heights ",
          "Buena Vista Park",
          "Central Richmond",
          "Central Sunset",
          "Clarendon Heights",
          "Corona Heights",
          "Cow Hollow",
          "Croker Amazon",
          "Diamond Heights",
          "Downtown ",
          "Duboce Triangle",
          "Eureka Valley/Dolores Heights",
          "Excelsior",
          "Financial District North",
          "Financial District South",
          "Forest Knolls",
          "Glen Park",
          "Golden Gate Heights",
          "Haight Ashbury",
          "Hayes Valley",
          "Hunters Point",
          "Ingleside ",
          "Ingleside Heights",
          "Inner Mission",
          "Inner Parkside",
          "Inner Richmond",
          "Inner Sunset",
          "Jordan Park/Laurel Heights",
          "Lake --The Presidio",
          "Lone Mountain",
          "Lower Pacific Heights",
          "Marina",
          "Merced Heights",
          "Midtown Terrace",
          "Miraloma Park",
          "Mission Bay",
          "Mission Dolores",
          "Mission Terrace",
          "Nob Hill",
          "Noe Valley",
          "North Beach",
          "North Waterfront",
          "Oceanview",
          "Outer Mission",
          "Outer Parkside",
          "Outer Richmond ",
          "Outer Sunset",
          "Pacific Heights",
          "Park North",
          "Parkside",
          "Parnassus/Ashbury Heights",
          "Portola",
          "Potrero Hill",
          "Presidio Heights",
          "Russian Hill",
          "Silver Terrace",
          "South Beach",
          "South of Market",
          "Sunnyside",
          "Telegraph Hill",
          "Twin Peaks",
          "Union Square District",
          "Van Ness/ Civic Center",
          "Visitacion Valley",
          "West Portal",
          "Western Addition",
          "Westwood Highlands",
          "Westwood Park",
          "Yerba Buena"
         ],
         "lat": [
          37.791012,
          37.779598,
          37.73467,
          37.72874,
          37.728629999999995,
          37.768159999999995,
          37.77789,
          37.74961,
          37.75331,
          37.78553,
          37.79298,
          37.7228,
          37.728629999999995,
          37.79101,
          37.76964,
          37.75554,
          37.72874,
          37.79101,
          37.79101,
          37.757059999999996,
          37.728629999999995,
          37.757912,
          37.76525,
          37.76525,
          37.72551,
          37.721160999999995,
          37.72116,
          37.75416,
          37.74961,
          37.769112,
          37.74961,
          37.78553,
          37.801520000000004,
          37.7789,
          37.79298,
          37.79972,
          37.71993,
          37.75331,
          37.73415,
          37.783229999999996,
          37.75184,
          37.728629999999995,
          37.79298,
          37.75331,
          37.80055,
          37.80055,
          37.71993,
          37.7228,
          37.7517,
          37.76911,
          37.74961,
          37.79298,
          37.72838,
          37.74961,
          37.76355,
          37.73467,
          37.73196,
          37.78553,
          37.79298,
          37.73467,
          37.783229999999996,
          37.79101,
          37.73415,
          37.80055,
          37.753311,
          37.79101,
          37.779509999999995,
          37.72874,
          37.74026,
          37.79298,
          37.7347,
          37.73415,
          37.79298
         ],
         "legendgroup": "",
         "lon": [
          -122.4021,
          -122.443451,
          -122.40106000000002,
          -122.41098000000001,
          -122.44305,
          -122.43933,
          -122.44516999999999,
          -122.48998999999999,
          -122.44703,
          -122.456,
          -122.43579,
          -122.43869,
          -122.44305,
          -122.4021,
          -122.42611000000001,
          -122.43778999999999,
          -122.41098000000001,
          -122.4021,
          -122.4021,
          -122.45508999999998,
          -122.44305,
          -122.46401999999999,
          -122.43596000000001,
          -122.43596000000001,
          -122.37178,
          -122.487068,
          -122.48706999999999,
          -122.41946999999999,
          -122.48998999999999,
          -122.483566,
          -122.48997,
          -122.456,
          -122.45456999999999,
          -122.45496000000001,
          -122.43579,
          -122.46688999999999,
          -122.46595,
          -122.44703,
          -122.45700000000001,
          -122.40065,
          -122.42522,
          -122.44305,
          -122.43579,
          -122.44703,
          -122.40433,
          -122.40433,
          -122.46595,
          -122.43869,
          -122.446,
          -122.48357,
          -122.48998999999999,
          -122.43579,
          -122.47851000000001,
          -122.48998999999999,
          -122.45765,
          -122.40106000000002,
          -122.38323999999999,
          -122.456,
          -122.43579,
          -122.40106000000002,
          -122.40065,
          -122.4021,
          -122.45700000000001,
          -122.40433,
          -122.447029,
          -122.4021,
          -122.42022,
          -122.41098000000001,
          -122.46388,
          -122.43579,
          -122.456854,
          -122.45700000000001,
          -122.39636000000002
         ],
         "marker": {
          "color": [
           2817.285714285714,
           3031.8333333333335,
           2318.4,
           3739,
           3080.3333333333335,
           2698.8333333333335,
           2817.285714285714,
           2817.285714285714,
           2250.5,
           2472,
           2817.285714285714,
           2698.8333333333335,
           2016,
           2817.285714285714,
           2780.25,
           2817.285714285714,
           3031.8333333333335,
           2817.285714285714,
           2472,
           1781.5,
           2899.5,
           2601.4,
           2817.285714285714,
           2817.285714285714,
           2489,
           2509,
           2960,
           2817.285714285714,
           3224,
           2817.285714285714,
           2817.285714285714,
           2817.285714285714,
           2555.1666666666665,
           2555.1666666666665,
           2817.285714285714,
           2817.285714285714,
           3414,
           2647.5,
           2155.25,
           2663.6666666666665,
           2555.1666666666665,
           3173.4,
           2817.285714285714,
           2817.285714285714,
           2990.8,
           2818.4,
           2434,
           2995.75,
           2817.285714285714,
           2817.285714285714,
           2817.285714285714,
           2817.285714285714,
           2817.285714285714,
           2555.1666666666665,
           2817.285714285714,
           2318.4,
           2817.285714285714,
           2817.285714285714,
           2817.285714285714,
           3528,
           2099,
           2817.285714285714,
           2899.5,
           2817.285714285714,
           2817.285714285714,
           2555.1666666666665,
           2817.285714285714,
           3657,
           2515.5,
           2555.1666666666665,
           2250.5,
           3959,
           2555.1666666666665
          ],
          "coloraxis": "coloraxis",
          "size": [
           366.02071153227644,
           373.38219782647707,
           204.58862288246596,
           590.7928388746802,
           576.7464881132382,
           452.6805909308442,
           394.4223987800589,
           423.6879277015824,
           487.2448860262575,
           587.5390673661739,
           665.964041578323,
           303.00418440849427,
           434.99173944522124,
           391.43437776742576,
           502.59915555623616,
           642.2486706357391,
           388.76592700230754,
           391.36253308010487,
           455.83621223779153,
           321.84083657398736,
           623.826177537435,
           639.3935574881156,
           449.5447622856192,
           355.9328279480578,
           170.62491987132685,
           367.8951440852775,
           384.7979281346048,
           397.67371473613446,
           519.3856038526768,
           378.59431396136455,
           413.66751546215943,
           529.3841850673389,
           409.95435219297514,
           478.2285530213679,
           539.2379688783261,
           583.7492694814549,
           788.8448175872469,
           550.5103482917151,
           779.810842264425,
           566.1922135483312,
           418.9156225067234,
           523.4662013248023,
           458.2040944846015,
           542.4429128151736,
           411.646875881678,
           498.26975500787677,
           330.0973846552545,
           242.37095202049667,
           485.0270126111035,
           473.90077331796317,
           394.21903228550775,
           689.5558168113664,
           373.732856371763,
           336.172661037069,
           632.740453508577,
           327.11392534647274,
           662.0136128276529,
           675.3502120510033,
           608.9832172374425,
           170.2925485152069,
           650.1244791945729,
           570.2714266991686,
           528.3183317138463,
           676.5065775293257,
           469.39862649935156,
           903.9932576720645,
           404.1501801622257,
           301.46617997450267,
           498.4884848295011,
           307.56220097996066,
           533.7039354359513,
           687.0875745178323,
           576.709848378276
          ],
          "sizemode": "area",
          "sizeref": 2.259983144180161
         },
         "mode": "markers",
         "name": "",
         "showlegend": false,
         "subplot": "mapbox",
         "type": "scattermapbox"
        }
       ],
       "layout": {
        "coloraxis": {
         "colorbar": {
          "title": {
           "text": "gross_rent"
          }
         },
         "colorscale": [
          [
           0,
           "#0d0887"
          ],
          [
           0.1111111111111111,
           "#46039f"
          ],
          [
           0.2222222222222222,
           "#7201a8"
          ],
          [
           0.3333333333333333,
           "#9c179e"
          ],
          [
           0.4444444444444444,
           "#bd3786"
          ],
          [
           0.5555555555555556,
           "#d8576b"
          ],
          [
           0.6666666666666666,
           "#ed7953"
          ],
          [
           0.7777777777777778,
           "#fb9f3a"
          ],
          [
           0.8888888888888888,
           "#fdca26"
          ],
          [
           1,
           "#f0f921"
          ]
         ]
        },
        "legend": {
         "itemsizing": "constant",
         "tracegroupgap": 0
        },
        "mapbox": {
         "accesstoken": "pk.eyJ1Ijoic3VtaXRoYXJwIiwiYSI6ImNrbWJuOHloNjIzaGIydXBtZmhyeWZlb3cifQ.DYilqoBf1dfGPAzvYpoTVQ",
         "center": {
          "lat": 37.76019350684932,
          "lon": -122.43912380821916
         },
         "domain": {
          "x": [
           0,
           1
          ],
          "y": [
           0,
           1
          ]
         },
         "zoom": 8
        },
        "margin": {
         "t": 60
        },
        "template": {
         "data": {
          "bar": [
           {
            "error_x": {
             "color": "#2a3f5f"
            },
            "error_y": {
             "color": "#2a3f5f"
            },
            "marker": {
             "line": {
              "color": "#E5ECF6",
              "width": 0.5
             }
            },
            "type": "bar"
           }
          ],
          "barpolar": [
           {
            "marker": {
             "line": {
              "color": "#E5ECF6",
              "width": 0.5
             }
            },
            "type": "barpolar"
           }
          ],
          "carpet": [
           {
            "aaxis": {
             "endlinecolor": "#2a3f5f",
             "gridcolor": "white",
             "linecolor": "white",
             "minorgridcolor": "white",
             "startlinecolor": "#2a3f5f"
            },
            "baxis": {
             "endlinecolor": "#2a3f5f",
             "gridcolor": "white",
             "linecolor": "white",
             "minorgridcolor": "white",
             "startlinecolor": "#2a3f5f"
            },
            "type": "carpet"
           }
          ],
          "choropleth": [
           {
            "colorbar": {
             "outlinewidth": 0,
             "ticks": ""
            },
            "type": "choropleth"
           }
          ],
          "contour": [
           {
            "colorbar": {
             "outlinewidth": 0,
             "ticks": ""
            },
            "colorscale": [
             [
              0,
              "#0d0887"
             ],
             [
              0.1111111111111111,
              "#46039f"
             ],
             [
              0.2222222222222222,
              "#7201a8"
             ],
             [
              0.3333333333333333,
              "#9c179e"
             ],
             [
              0.4444444444444444,
              "#bd3786"
             ],
             [
              0.5555555555555556,
              "#d8576b"
             ],
             [
              0.6666666666666666,
              "#ed7953"
             ],
             [
              0.7777777777777778,
              "#fb9f3a"
             ],
             [
              0.8888888888888888,
              "#fdca26"
             ],
             [
              1,
              "#f0f921"
             ]
            ],
            "type": "contour"
           }
          ],
          "contourcarpet": [
           {
            "colorbar": {
             "outlinewidth": 0,
             "ticks": ""
            },
            "type": "contourcarpet"
           }
          ],
          "heatmap": [
           {
            "colorbar": {
             "outlinewidth": 0,
             "ticks": ""
            },
            "colorscale": [
             [
              0,
              "#0d0887"
             ],
             [
              0.1111111111111111,
              "#46039f"
             ],
             [
              0.2222222222222222,
              "#7201a8"
             ],
             [
              0.3333333333333333,
              "#9c179e"
             ],
             [
              0.4444444444444444,
              "#bd3786"
             ],
             [
              0.5555555555555556,
              "#d8576b"
             ],
             [
              0.6666666666666666,
              "#ed7953"
             ],
             [
              0.7777777777777778,
              "#fb9f3a"
             ],
             [
              0.8888888888888888,
              "#fdca26"
             ],
             [
              1,
              "#f0f921"
             ]
            ],
            "type": "heatmap"
           }
          ],
          "heatmapgl": [
           {
            "colorbar": {
             "outlinewidth": 0,
             "ticks": ""
            },
            "colorscale": [
             [
              0,
              "#0d0887"
             ],
             [
              0.1111111111111111,
              "#46039f"
             ],
             [
              0.2222222222222222,
              "#7201a8"
             ],
             [
              0.3333333333333333,
              "#9c179e"
             ],
             [
              0.4444444444444444,
              "#bd3786"
             ],
             [
              0.5555555555555556,
              "#d8576b"
             ],
             [
              0.6666666666666666,
              "#ed7953"
             ],
             [
              0.7777777777777778,
              "#fb9f3a"
             ],
             [
              0.8888888888888888,
              "#fdca26"
             ],
             [
              1,
              "#f0f921"
             ]
            ],
            "type": "heatmapgl"
           }
          ],
          "histogram": [
           {
            "marker": {
             "colorbar": {
              "outlinewidth": 0,
              "ticks": ""
             }
            },
            "type": "histogram"
           }
          ],
          "histogram2d": [
           {
            "colorbar": {
             "outlinewidth": 0,
             "ticks": ""
            },
            "colorscale": [
             [
              0,
              "#0d0887"
             ],
             [
              0.1111111111111111,
              "#46039f"
             ],
             [
              0.2222222222222222,
              "#7201a8"
             ],
             [
              0.3333333333333333,
              "#9c179e"
             ],
             [
              0.4444444444444444,
              "#bd3786"
             ],
             [
              0.5555555555555556,
              "#d8576b"
             ],
             [
              0.6666666666666666,
              "#ed7953"
             ],
             [
              0.7777777777777778,
              "#fb9f3a"
             ],
             [
              0.8888888888888888,
              "#fdca26"
             ],
             [
              1,
              "#f0f921"
             ]
            ],
            "type": "histogram2d"
           }
          ],
          "histogram2dcontour": [
           {
            "colorbar": {
             "outlinewidth": 0,
             "ticks": ""
            },
            "colorscale": [
             [
              0,
              "#0d0887"
             ],
             [
              0.1111111111111111,
              "#46039f"
             ],
             [
              0.2222222222222222,
              "#7201a8"
             ],
             [
              0.3333333333333333,
              "#9c179e"
             ],
             [
              0.4444444444444444,
              "#bd3786"
             ],
             [
              0.5555555555555556,
              "#d8576b"
             ],
             [
              0.6666666666666666,
              "#ed7953"
             ],
             [
              0.7777777777777778,
              "#fb9f3a"
             ],
             [
              0.8888888888888888,
              "#fdca26"
             ],
             [
              1,
              "#f0f921"
             ]
            ],
            "type": "histogram2dcontour"
           }
          ],
          "mesh3d": [
           {
            "colorbar": {
             "outlinewidth": 0,
             "ticks": ""
            },
            "type": "mesh3d"
           }
          ],
          "parcoords": [
           {
            "line": {
             "colorbar": {
              "outlinewidth": 0,
              "ticks": ""
             }
            },
            "type": "parcoords"
           }
          ],
          "pie": [
           {
            "automargin": true,
            "type": "pie"
           }
          ],
          "scatter": [
           {
            "marker": {
             "colorbar": {
              "outlinewidth": 0,
              "ticks": ""
             }
            },
            "type": "scatter"
           }
          ],
          "scatter3d": [
           {
            "line": {
             "colorbar": {
              "outlinewidth": 0,
              "ticks": ""
             }
            },
            "marker": {
             "colorbar": {
              "outlinewidth": 0,
              "ticks": ""
             }
            },
            "type": "scatter3d"
           }
          ],
          "scattercarpet": [
           {
            "marker": {
             "colorbar": {
              "outlinewidth": 0,
              "ticks": ""
             }
            },
            "type": "scattercarpet"
           }
          ],
          "scattergeo": [
           {
            "marker": {
             "colorbar": {
              "outlinewidth": 0,
              "ticks": ""
             }
            },
            "type": "scattergeo"
           }
          ],
          "scattergl": [
           {
            "marker": {
             "colorbar": {
              "outlinewidth": 0,
              "ticks": ""
             }
            },
            "type": "scattergl"
           }
          ],
          "scattermapbox": [
           {
            "marker": {
             "colorbar": {
              "outlinewidth": 0,
              "ticks": ""
             }
            },
            "type": "scattermapbox"
           }
          ],
          "scatterpolar": [
           {
            "marker": {
             "colorbar": {
              "outlinewidth": 0,
              "ticks": ""
             }
            },
            "type": "scatterpolar"
           }
          ],
          "scatterpolargl": [
           {
            "marker": {
             "colorbar": {
              "outlinewidth": 0,
              "ticks": ""
             }
            },
            "type": "scatterpolargl"
           }
          ],
          "scatterternary": [
           {
            "marker": {
             "colorbar": {
              "outlinewidth": 0,
              "ticks": ""
             }
            },
            "type": "scatterternary"
           }
          ],
          "surface": [
           {
            "colorbar": {
             "outlinewidth": 0,
             "ticks": ""
            },
            "colorscale": [
             [
              0,
              "#0d0887"
             ],
             [
              0.1111111111111111,
              "#46039f"
             ],
             [
              0.2222222222222222,
              "#7201a8"
             ],
             [
              0.3333333333333333,
              "#9c179e"
             ],
             [
              0.4444444444444444,
              "#bd3786"
             ],
             [
              0.5555555555555556,
              "#d8576b"
             ],
             [
              0.6666666666666666,
              "#ed7953"
             ],
             [
              0.7777777777777778,
              "#fb9f3a"
             ],
             [
              0.8888888888888888,
              "#fdca26"
             ],
             [
              1,
              "#f0f921"
             ]
            ],
            "type": "surface"
           }
          ],
          "table": [
           {
            "cells": {
             "fill": {
              "color": "#EBF0F8"
             },
             "line": {
              "color": "white"
             }
            },
            "header": {
             "fill": {
              "color": "#C8D4E3"
             },
             "line": {
              "color": "white"
             }
            },
            "type": "table"
           }
          ]
         },
         "layout": {
          "annotationdefaults": {
           "arrowcolor": "#2a3f5f",
           "arrowhead": 0,
           "arrowwidth": 1
          },
          "autotypenumbers": "strict",
          "coloraxis": {
           "colorbar": {
            "outlinewidth": 0,
            "ticks": ""
           }
          },
          "colorscale": {
           "diverging": [
            [
             0,
             "#8e0152"
            ],
            [
             0.1,
             "#c51b7d"
            ],
            [
             0.2,
             "#de77ae"
            ],
            [
             0.3,
             "#f1b6da"
            ],
            [
             0.4,
             "#fde0ef"
            ],
            [
             0.5,
             "#f7f7f7"
            ],
            [
             0.6,
             "#e6f5d0"
            ],
            [
             0.7,
             "#b8e186"
            ],
            [
             0.8,
             "#7fbc41"
            ],
            [
             0.9,
             "#4d9221"
            ],
            [
             1,
             "#276419"
            ]
           ],
           "sequential": [
            [
             0,
             "#0d0887"
            ],
            [
             0.1111111111111111,
             "#46039f"
            ],
            [
             0.2222222222222222,
             "#7201a8"
            ],
            [
             0.3333333333333333,
             "#9c179e"
            ],
            [
             0.4444444444444444,
             "#bd3786"
            ],
            [
             0.5555555555555556,
             "#d8576b"
            ],
            [
             0.6666666666666666,
             "#ed7953"
            ],
            [
             0.7777777777777778,
             "#fb9f3a"
            ],
            [
             0.8888888888888888,
             "#fdca26"
            ],
            [
             1,
             "#f0f921"
            ]
           ],
           "sequentialminus": [
            [
             0,
             "#0d0887"
            ],
            [
             0.1111111111111111,
             "#46039f"
            ],
            [
             0.2222222222222222,
             "#7201a8"
            ],
            [
             0.3333333333333333,
             "#9c179e"
            ],
            [
             0.4444444444444444,
             "#bd3786"
            ],
            [
             0.5555555555555556,
             "#d8576b"
            ],
            [
             0.6666666666666666,
             "#ed7953"
            ],
            [
             0.7777777777777778,
             "#fb9f3a"
            ],
            [
             0.8888888888888888,
             "#fdca26"
            ],
            [
             1,
             "#f0f921"
            ]
           ]
          },
          "colorway": [
           "#636efa",
           "#EF553B",
           "#00cc96",
           "#ab63fa",
           "#FFA15A",
           "#19d3f3",
           "#FF6692",
           "#B6E880",
           "#FF97FF",
           "#FECB52"
          ],
          "font": {
           "color": "#2a3f5f"
          },
          "geo": {
           "bgcolor": "white",
           "lakecolor": "white",
           "landcolor": "#E5ECF6",
           "showlakes": true,
           "showland": true,
           "subunitcolor": "white"
          },
          "hoverlabel": {
           "align": "left"
          },
          "hovermode": "closest",
          "mapbox": {
           "style": "light"
          },
          "paper_bgcolor": "white",
          "plot_bgcolor": "#E5ECF6",
          "polar": {
           "angularaxis": {
            "gridcolor": "white",
            "linecolor": "white",
            "ticks": ""
           },
           "bgcolor": "#E5ECF6",
           "radialaxis": {
            "gridcolor": "white",
            "linecolor": "white",
            "ticks": ""
           }
          },
          "scene": {
           "xaxis": {
            "backgroundcolor": "#E5ECF6",
            "gridcolor": "white",
            "gridwidth": 2,
            "linecolor": "white",
            "showbackground": true,
            "ticks": "",
            "zerolinecolor": "white"
           },
           "yaxis": {
            "backgroundcolor": "#E5ECF6",
            "gridcolor": "white",
            "gridwidth": 2,
            "linecolor": "white",
            "showbackground": true,
            "ticks": "",
            "zerolinecolor": "white"
           },
           "zaxis": {
            "backgroundcolor": "#E5ECF6",
            "gridcolor": "white",
            "gridwidth": 2,
            "linecolor": "white",
            "showbackground": true,
            "ticks": "",
            "zerolinecolor": "white"
           }
          },
          "shapedefaults": {
           "line": {
            "color": "#2a3f5f"
           }
          },
          "ternary": {
           "aaxis": {
            "gridcolor": "white",
            "linecolor": "white",
            "ticks": ""
           },
           "baxis": {
            "gridcolor": "white",
            "linecolor": "white",
            "ticks": ""
           },
           "bgcolor": "#E5ECF6",
           "caxis": {
            "gridcolor": "white",
            "linecolor": "white",
            "ticks": ""
           }
          },
          "title": {
           "x": 0.05
          },
          "xaxis": {
           "automargin": true,
           "gridcolor": "white",
           "linecolor": "white",
           "ticks": "",
           "title": {
            "standoff": 15
           },
           "zerolinecolor": "white",
           "zerolinewidth": 2
          },
          "yaxis": {
           "automargin": true,
           "gridcolor": "white",
           "linecolor": "white",
           "ticks": "",
           "title": {
            "standoff": 15
           },
           "zerolinecolor": "white",
           "zerolinewidth": 2
          }
         }
        }
       }
      }
     },
     "metadata": {}
    }
   ],
   "source": [
    "parallel_coordinates()"
   ]
  },
  {
   "cell_type": "code",
   "execution_count": 25,
   "metadata": {},
   "outputs": [
    {
     "output_type": "display_data",
     "data": {
      "application/vnd.plotly.v1+json": {
       "config": {
        "plotlyServerURL": "https://plot.ly"
       },
       "data": [
        {
         "branchvalues": "total",
         "customdata": [
          [
           1239
          ],
          [
           1530
          ],
          [
           2324
          ],
          [
           2971
          ],
          [
           3528
          ],
          [
           3739
          ],
          [
           4390
          ],
          [
           2324
          ],
          [
           3528
          ],
          [
           4390
          ],
          [
           1239
          ],
          [
           1530
          ],
          [
           2324
          ],
          [
           3528
          ],
          [
           1239
          ],
          [
           1530
          ],
          [
           2324
          ],
          [
           2971
          ],
          [
           3528
          ],
          [
           3739
          ],
          [
           4390
          ],
          [
           1239
          ],
          [
           1530
          ],
          [
           2324
          ],
          [
           2971
          ],
          [
           3528
          ],
          [
           3739
          ],
          [
           4390
          ],
          [
           1239
          ],
          [
           1530
          ],
          [
           2324
          ],
          [
           2971
          ],
          [
           3528
          ],
          [
           3739
          ],
          [
           4390
          ],
          [
           1239
          ],
          [
           1530
          ],
          [
           3528
          ],
          [
           1239
          ],
          [
           1530
          ],
          [
           2324
          ],
          [
           2971
          ],
          [
           3528
          ],
          [
           3739
          ],
          [
           4390
          ],
          [
           1239
          ],
          [
           1530
          ],
          [
           2324
          ],
          [
           2971
          ],
          [
           3528
          ],
          [
           3739
          ],
          [
           3528
          ],
          [
           4390
          ],
          [
           1239
          ],
          [
           1530
          ],
          [
           2324
          ],
          [
           2971
          ],
          [
           3528
          ],
          [
           3739
          ],
          [
           4390
          ]
         ],
         "domain": {
          "x": [
           0,
           1
          ],
          "y": [
           0,
           1
          ]
         },
         "hovertemplate": "labels=%{label}<br>gross_rent_sum=%{value}<br>parent=%{parent}<br>id=%{id}<br>gross_rent=%{color}<extra></extra>",
         "ids": [
          "2010/Cow Hollow",
          "2011/Cow Hollow",
          "2012/Cow Hollow",
          "2013/Cow Hollow",
          "2014/Cow Hollow",
          "2015/Cow Hollow",
          "2016/Cow Hollow",
          "2012/Merced Heights",
          "2014/Merced Heights",
          "2016/Merced Heights",
          "2010/Miraloma Park",
          "2011/Miraloma Park",
          "2012/Miraloma Park",
          "2014/Miraloma Park",
          "2010/Pacific Heights",
          "2011/Pacific Heights",
          "2012/Pacific Heights",
          "2013/Pacific Heights",
          "2014/Pacific Heights",
          "2015/Pacific Heights",
          "2016/Pacific Heights",
          "2010/Potrero Hill",
          "2011/Potrero Hill",
          "2012/Potrero Hill",
          "2013/Potrero Hill",
          "2014/Potrero Hill",
          "2015/Potrero Hill",
          "2016/Potrero Hill",
          "2010/Presidio Heights",
          "2011/Presidio Heights",
          "2012/Presidio Heights",
          "2013/Presidio Heights",
          "2014/Presidio Heights",
          "2015/Presidio Heights",
          "2016/Presidio Heights",
          "2010/South Beach",
          "2011/South Beach",
          "2014/South Beach",
          "2010/Telegraph Hill",
          "2011/Telegraph Hill",
          "2012/Telegraph Hill",
          "2013/Telegraph Hill",
          "2014/Telegraph Hill",
          "2015/Telegraph Hill",
          "2016/Telegraph Hill",
          "2010/Union Square District",
          "2011/Union Square District",
          "2012/Union Square District",
          "2013/Union Square District",
          "2014/Union Square District",
          "2015/Union Square District",
          "2014/Westwood Park",
          "2016/Westwood Park",
          "2010",
          "2011",
          "2012",
          "2013",
          "2014",
          "2015",
          "2016"
         ],
         "labels": [
          "Cow Hollow",
          "Cow Hollow",
          "Cow Hollow",
          "Cow Hollow",
          "Cow Hollow",
          "Cow Hollow",
          "Cow Hollow",
          "Merced Heights",
          "Merced Heights",
          "Merced Heights",
          "Miraloma Park",
          "Miraloma Park",
          "Miraloma Park",
          "Miraloma Park",
          "Pacific Heights",
          "Pacific Heights",
          "Pacific Heights",
          "Pacific Heights",
          "Pacific Heights",
          "Pacific Heights",
          "Pacific Heights",
          "Potrero Hill",
          "Potrero Hill",
          "Potrero Hill",
          "Potrero Hill",
          "Potrero Hill",
          "Potrero Hill",
          "Potrero Hill",
          "Presidio Heights",
          "Presidio Heights",
          "Presidio Heights",
          "Presidio Heights",
          "Presidio Heights",
          "Presidio Heights",
          "Presidio Heights",
          "South Beach",
          "South Beach",
          "South Beach",
          "Telegraph Hill",
          "Telegraph Hill",
          "Telegraph Hill",
          "Telegraph Hill",
          "Telegraph Hill",
          "Telegraph Hill",
          "Telegraph Hill",
          "Union Square District",
          "Union Square District",
          "Union Square District",
          "Union Square District",
          "Union Square District",
          "Union Square District",
          "Westwood Park",
          "Westwood Park",
          "2010",
          "2011",
          "2012",
          "2013",
          "2014",
          "2015",
          "2016"
         ],
         "marker": {
          "coloraxis": "coloraxis",
          "colors": [
           1239,
           1530,
           2324,
           2971,
           3528,
           3739,
           4390,
           2324,
           3528,
           4390,
           1239,
           1530,
           2324,
           3528,
           1239,
           1530,
           2324,
           2971,
           3528,
           3739,
           4390,
           1239,
           1530,
           2324,
           2971,
           3528,
           3739,
           4390,
           1239,
           1530,
           2324,
           2971,
           3528,
           3739,
           4390,
           1239,
           1530,
           3528,
           1239,
           1530,
           2324,
           2971,
           3528,
           3739,
           4390,
           1239,
           1530,
           2324,
           2971,
           3528,
           3739,
           3528,
           4390,
           1239,
           1530,
           2324,
           2971,
           3528,
           3739,
           4390
          ]
         },
         "name": "",
         "parents": [
          "2010",
          "2011",
          "2012",
          "2013",
          "2014",
          "2015",
          "2016",
          "2012",
          "2014",
          "2016",
          "2010",
          "2011",
          "2012",
          "2014",
          "2010",
          "2011",
          "2012",
          "2013",
          "2014",
          "2015",
          "2016",
          "2010",
          "2011",
          "2012",
          "2013",
          "2014",
          "2015",
          "2016",
          "2010",
          "2011",
          "2012",
          "2013",
          "2014",
          "2015",
          "2016",
          "2010",
          "2011",
          "2014",
          "2010",
          "2011",
          "2012",
          "2013",
          "2014",
          "2015",
          "2016",
          "2010",
          "2011",
          "2012",
          "2013",
          "2014",
          "2015",
          "2014",
          "2016",
          "",
          "",
          "",
          "",
          "",
          "",
          ""
         ],
         "type": "sunburst",
         "values": [
          1239,
          1530,
          2324,
          2971,
          3528,
          3739,
          4390,
          2324,
          3528,
          4390,
          1239,
          1530,
          2324,
          3528,
          1239,
          1530,
          2324,
          2971,
          3528,
          3739,
          4390,
          1239,
          1530,
          2324,
          2971,
          3528,
          3739,
          4390,
          1239,
          1530,
          2324,
          2971,
          3528,
          3739,
          4390,
          1239,
          1530,
          3528,
          1239,
          1530,
          2324,
          2971,
          3528,
          3739,
          4390,
          1239,
          1530,
          2324,
          2971,
          3528,
          3739,
          3528,
          4390,
          9912,
          12240,
          18592,
          17826,
          35280,
          22434,
          30730
         ]
        }
       ],
       "layout": {
        "coloraxis": {
         "colorbar": {
          "title": {
           "text": "gross_rent"
          }
         },
         "colorscale": [
          [
           0,
           "#0d0887"
          ],
          [
           0.1111111111111111,
           "#46039f"
          ],
          [
           0.2222222222222222,
           "#7201a8"
          ],
          [
           0.3333333333333333,
           "#9c179e"
          ],
          [
           0.4444444444444444,
           "#bd3786"
          ],
          [
           0.5555555555555556,
           "#d8576b"
          ],
          [
           0.6666666666666666,
           "#ed7953"
          ],
          [
           0.7777777777777778,
           "#fb9f3a"
          ],
          [
           0.8888888888888888,
           "#fdca26"
          ],
          [
           1,
           "#f0f921"
          ]
         ]
        },
        "legend": {
         "tracegroupgap": 0
        },
        "template": {
         "data": {
          "bar": [
           {
            "error_x": {
             "color": "#2a3f5f"
            },
            "error_y": {
             "color": "#2a3f5f"
            },
            "marker": {
             "line": {
              "color": "#E5ECF6",
              "width": 0.5
             }
            },
            "type": "bar"
           }
          ],
          "barpolar": [
           {
            "marker": {
             "line": {
              "color": "#E5ECF6",
              "width": 0.5
             }
            },
            "type": "barpolar"
           }
          ],
          "carpet": [
           {
            "aaxis": {
             "endlinecolor": "#2a3f5f",
             "gridcolor": "white",
             "linecolor": "white",
             "minorgridcolor": "white",
             "startlinecolor": "#2a3f5f"
            },
            "baxis": {
             "endlinecolor": "#2a3f5f",
             "gridcolor": "white",
             "linecolor": "white",
             "minorgridcolor": "white",
             "startlinecolor": "#2a3f5f"
            },
            "type": "carpet"
           }
          ],
          "choropleth": [
           {
            "colorbar": {
             "outlinewidth": 0,
             "ticks": ""
            },
            "type": "choropleth"
           }
          ],
          "contour": [
           {
            "colorbar": {
             "outlinewidth": 0,
             "ticks": ""
            },
            "colorscale": [
             [
              0,
              "#0d0887"
             ],
             [
              0.1111111111111111,
              "#46039f"
             ],
             [
              0.2222222222222222,
              "#7201a8"
             ],
             [
              0.3333333333333333,
              "#9c179e"
             ],
             [
              0.4444444444444444,
              "#bd3786"
             ],
             [
              0.5555555555555556,
              "#d8576b"
             ],
             [
              0.6666666666666666,
              "#ed7953"
             ],
             [
              0.7777777777777778,
              "#fb9f3a"
             ],
             [
              0.8888888888888888,
              "#fdca26"
             ],
             [
              1,
              "#f0f921"
             ]
            ],
            "type": "contour"
           }
          ],
          "contourcarpet": [
           {
            "colorbar": {
             "outlinewidth": 0,
             "ticks": ""
            },
            "type": "contourcarpet"
           }
          ],
          "heatmap": [
           {
            "colorbar": {
             "outlinewidth": 0,
             "ticks": ""
            },
            "colorscale": [
             [
              0,
              "#0d0887"
             ],
             [
              0.1111111111111111,
              "#46039f"
             ],
             [
              0.2222222222222222,
              "#7201a8"
             ],
             [
              0.3333333333333333,
              "#9c179e"
             ],
             [
              0.4444444444444444,
              "#bd3786"
             ],
             [
              0.5555555555555556,
              "#d8576b"
             ],
             [
              0.6666666666666666,
              "#ed7953"
             ],
             [
              0.7777777777777778,
              "#fb9f3a"
             ],
             [
              0.8888888888888888,
              "#fdca26"
             ],
             [
              1,
              "#f0f921"
             ]
            ],
            "type": "heatmap"
           }
          ],
          "heatmapgl": [
           {
            "colorbar": {
             "outlinewidth": 0,
             "ticks": ""
            },
            "colorscale": [
             [
              0,
              "#0d0887"
             ],
             [
              0.1111111111111111,
              "#46039f"
             ],
             [
              0.2222222222222222,
              "#7201a8"
             ],
             [
              0.3333333333333333,
              "#9c179e"
             ],
             [
              0.4444444444444444,
              "#bd3786"
             ],
             [
              0.5555555555555556,
              "#d8576b"
             ],
             [
              0.6666666666666666,
              "#ed7953"
             ],
             [
              0.7777777777777778,
              "#fb9f3a"
             ],
             [
              0.8888888888888888,
              "#fdca26"
             ],
             [
              1,
              "#f0f921"
             ]
            ],
            "type": "heatmapgl"
           }
          ],
          "histogram": [
           {
            "marker": {
             "colorbar": {
              "outlinewidth": 0,
              "ticks": ""
             }
            },
            "type": "histogram"
           }
          ],
          "histogram2d": [
           {
            "colorbar": {
             "outlinewidth": 0,
             "ticks": ""
            },
            "colorscale": [
             [
              0,
              "#0d0887"
             ],
             [
              0.1111111111111111,
              "#46039f"
             ],
             [
              0.2222222222222222,
              "#7201a8"
             ],
             [
              0.3333333333333333,
              "#9c179e"
             ],
             [
              0.4444444444444444,
              "#bd3786"
             ],
             [
              0.5555555555555556,
              "#d8576b"
             ],
             [
              0.6666666666666666,
              "#ed7953"
             ],
             [
              0.7777777777777778,
              "#fb9f3a"
             ],
             [
              0.8888888888888888,
              "#fdca26"
             ],
             [
              1,
              "#f0f921"
             ]
            ],
            "type": "histogram2d"
           }
          ],
          "histogram2dcontour": [
           {
            "colorbar": {
             "outlinewidth": 0,
             "ticks": ""
            },
            "colorscale": [
             [
              0,
              "#0d0887"
             ],
             [
              0.1111111111111111,
              "#46039f"
             ],
             [
              0.2222222222222222,
              "#7201a8"
             ],
             [
              0.3333333333333333,
              "#9c179e"
             ],
             [
              0.4444444444444444,
              "#bd3786"
             ],
             [
              0.5555555555555556,
              "#d8576b"
             ],
             [
              0.6666666666666666,
              "#ed7953"
             ],
             [
              0.7777777777777778,
              "#fb9f3a"
             ],
             [
              0.8888888888888888,
              "#fdca26"
             ],
             [
              1,
              "#f0f921"
             ]
            ],
            "type": "histogram2dcontour"
           }
          ],
          "mesh3d": [
           {
            "colorbar": {
             "outlinewidth": 0,
             "ticks": ""
            },
            "type": "mesh3d"
           }
          ],
          "parcoords": [
           {
            "line": {
             "colorbar": {
              "outlinewidth": 0,
              "ticks": ""
             }
            },
            "type": "parcoords"
           }
          ],
          "pie": [
           {
            "automargin": true,
            "type": "pie"
           }
          ],
          "scatter": [
           {
            "marker": {
             "colorbar": {
              "outlinewidth": 0,
              "ticks": ""
             }
            },
            "type": "scatter"
           }
          ],
          "scatter3d": [
           {
            "line": {
             "colorbar": {
              "outlinewidth": 0,
              "ticks": ""
             }
            },
            "marker": {
             "colorbar": {
              "outlinewidth": 0,
              "ticks": ""
             }
            },
            "type": "scatter3d"
           }
          ],
          "scattercarpet": [
           {
            "marker": {
             "colorbar": {
              "outlinewidth": 0,
              "ticks": ""
             }
            },
            "type": "scattercarpet"
           }
          ],
          "scattergeo": [
           {
            "marker": {
             "colorbar": {
              "outlinewidth": 0,
              "ticks": ""
             }
            },
            "type": "scattergeo"
           }
          ],
          "scattergl": [
           {
            "marker": {
             "colorbar": {
              "outlinewidth": 0,
              "ticks": ""
             }
            },
            "type": "scattergl"
           }
          ],
          "scattermapbox": [
           {
            "marker": {
             "colorbar": {
              "outlinewidth": 0,
              "ticks": ""
             }
            },
            "type": "scattermapbox"
           }
          ],
          "scatterpolar": [
           {
            "marker": {
             "colorbar": {
              "outlinewidth": 0,
              "ticks": ""
             }
            },
            "type": "scatterpolar"
           }
          ],
          "scatterpolargl": [
           {
            "marker": {
             "colorbar": {
              "outlinewidth": 0,
              "ticks": ""
             }
            },
            "type": "scatterpolargl"
           }
          ],
          "scatterternary": [
           {
            "marker": {
             "colorbar": {
              "outlinewidth": 0,
              "ticks": ""
             }
            },
            "type": "scatterternary"
           }
          ],
          "surface": [
           {
            "colorbar": {
             "outlinewidth": 0,
             "ticks": ""
            },
            "colorscale": [
             [
              0,
              "#0d0887"
             ],
             [
              0.1111111111111111,
              "#46039f"
             ],
             [
              0.2222222222222222,
              "#7201a8"
             ],
             [
              0.3333333333333333,
              "#9c179e"
             ],
             [
              0.4444444444444444,
              "#bd3786"
             ],
             [
              0.5555555555555556,
              "#d8576b"
             ],
             [
              0.6666666666666666,
              "#ed7953"
             ],
             [
              0.7777777777777778,
              "#fb9f3a"
             ],
             [
              0.8888888888888888,
              "#fdca26"
             ],
             [
              1,
              "#f0f921"
             ]
            ],
            "type": "surface"
           }
          ],
          "table": [
           {
            "cells": {
             "fill": {
              "color": "#EBF0F8"
             },
             "line": {
              "color": "white"
             }
            },
            "header": {
             "fill": {
              "color": "#C8D4E3"
             },
             "line": {
              "color": "white"
             }
            },
            "type": "table"
           }
          ]
         },
         "layout": {
          "annotationdefaults": {
           "arrowcolor": "#2a3f5f",
           "arrowhead": 0,
           "arrowwidth": 1
          },
          "autotypenumbers": "strict",
          "coloraxis": {
           "colorbar": {
            "outlinewidth": 0,
            "ticks": ""
           }
          },
          "colorscale": {
           "diverging": [
            [
             0,
             "#8e0152"
            ],
            [
             0.1,
             "#c51b7d"
            ],
            [
             0.2,
             "#de77ae"
            ],
            [
             0.3,
             "#f1b6da"
            ],
            [
             0.4,
             "#fde0ef"
            ],
            [
             0.5,
             "#f7f7f7"
            ],
            [
             0.6,
             "#e6f5d0"
            ],
            [
             0.7,
             "#b8e186"
            ],
            [
             0.8,
             "#7fbc41"
            ],
            [
             0.9,
             "#4d9221"
            ],
            [
             1,
             "#276419"
            ]
           ],
           "sequential": [
            [
             0,
             "#0d0887"
            ],
            [
             0.1111111111111111,
             "#46039f"
            ],
            [
             0.2222222222222222,
             "#7201a8"
            ],
            [
             0.3333333333333333,
             "#9c179e"
            ],
            [
             0.4444444444444444,
             "#bd3786"
            ],
            [
             0.5555555555555556,
             "#d8576b"
            ],
            [
             0.6666666666666666,
             "#ed7953"
            ],
            [
             0.7777777777777778,
             "#fb9f3a"
            ],
            [
             0.8888888888888888,
             "#fdca26"
            ],
            [
             1,
             "#f0f921"
            ]
           ],
           "sequentialminus": [
            [
             0,
             "#0d0887"
            ],
            [
             0.1111111111111111,
             "#46039f"
            ],
            [
             0.2222222222222222,
             "#7201a8"
            ],
            [
             0.3333333333333333,
             "#9c179e"
            ],
            [
             0.4444444444444444,
             "#bd3786"
            ],
            [
             0.5555555555555556,
             "#d8576b"
            ],
            [
             0.6666666666666666,
             "#ed7953"
            ],
            [
             0.7777777777777778,
             "#fb9f3a"
            ],
            [
             0.8888888888888888,
             "#fdca26"
            ],
            [
             1,
             "#f0f921"
            ]
           ]
          },
          "colorway": [
           "#636efa",
           "#EF553B",
           "#00cc96",
           "#ab63fa",
           "#FFA15A",
           "#19d3f3",
           "#FF6692",
           "#B6E880",
           "#FF97FF",
           "#FECB52"
          ],
          "font": {
           "color": "#2a3f5f"
          },
          "geo": {
           "bgcolor": "white",
           "lakecolor": "white",
           "landcolor": "#E5ECF6",
           "showlakes": true,
           "showland": true,
           "subunitcolor": "white"
          },
          "hoverlabel": {
           "align": "left"
          },
          "hovermode": "closest",
          "mapbox": {
           "style": "light"
          },
          "paper_bgcolor": "white",
          "plot_bgcolor": "#E5ECF6",
          "polar": {
           "angularaxis": {
            "gridcolor": "white",
            "linecolor": "white",
            "ticks": ""
           },
           "bgcolor": "#E5ECF6",
           "radialaxis": {
            "gridcolor": "white",
            "linecolor": "white",
            "ticks": ""
           }
          },
          "scene": {
           "xaxis": {
            "backgroundcolor": "#E5ECF6",
            "gridcolor": "white",
            "gridwidth": 2,
            "linecolor": "white",
            "showbackground": true,
            "ticks": "",
            "zerolinecolor": "white"
           },
           "yaxis": {
            "backgroundcolor": "#E5ECF6",
            "gridcolor": "white",
            "gridwidth": 2,
            "linecolor": "white",
            "showbackground": true,
            "ticks": "",
            "zerolinecolor": "white"
           },
           "zaxis": {
            "backgroundcolor": "#E5ECF6",
            "gridcolor": "white",
            "gridwidth": 2,
            "linecolor": "white",
            "showbackground": true,
            "ticks": "",
            "zerolinecolor": "white"
           }
          },
          "shapedefaults": {
           "line": {
            "color": "#2a3f5f"
           }
          },
          "ternary": {
           "aaxis": {
            "gridcolor": "white",
            "linecolor": "white",
            "ticks": ""
           },
           "baxis": {
            "gridcolor": "white",
            "linecolor": "white",
            "ticks": ""
           },
           "bgcolor": "#E5ECF6",
           "caxis": {
            "gridcolor": "white",
            "linecolor": "white",
            "ticks": ""
           }
          },
          "title": {
           "x": 0.05
          },
          "xaxis": {
           "automargin": true,
           "gridcolor": "white",
           "linecolor": "white",
           "ticks": "",
           "title": {
            "standoff": 15
           },
           "zerolinecolor": "white",
           "zerolinewidth": 2
          },
          "yaxis": {
           "automargin": true,
           "gridcolor": "white",
           "linecolor": "white",
           "ticks": "",
           "title": {
            "standoff": 15
           },
           "zerolinecolor": "white",
           "zerolinewidth": 2
          }
         }
        },
        "title": {
         "text": "Cost analysis of the most expensive neighborhoods in SFO"
        }
       }
      }
     },
     "metadata": {}
    }
   ],
   "source": [
    "sunburst()\n"
   ]
  },
  {
   "cell_type": "code",
   "execution_count": null,
   "metadata": {},
   "outputs": [],
   "source": []
  }
 ],
 "metadata": {
  "file_extension": ".py",
  "kernelspec": {
   "name": "python379jvsc74a57bd0d1294a40ad245125fbde99c49af12dee2ac2d8840bf57e1a7afcdd521fc691c8",
   "display_name": "Python 3.7.9 64-bit ('pyvizenv': conda)"
  },
  "language_info": {
   "codemirror_mode": {
    "name": "ipython",
    "version": 3
   },
   "file_extension": ".py",
   "mimetype": "text/x-python",
   "name": "python",
   "nbconvert_exporter": "python",
   "pygments_lexer": "ipython3",
   "version": "3.7.9"
  },
  "mimetype": "text/x-python",
  "name": "python",
  "npconvert_exporter": "python",
  "pygments_lexer": "ipython3",
  "version": 3
 },
 "nbformat": 4,
 "nbformat_minor": 4
}